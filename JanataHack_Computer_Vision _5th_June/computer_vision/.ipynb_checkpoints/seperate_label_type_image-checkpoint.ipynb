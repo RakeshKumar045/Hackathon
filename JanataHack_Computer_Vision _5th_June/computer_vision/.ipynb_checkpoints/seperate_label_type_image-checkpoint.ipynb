{
 "cells": [
  {
   "cell_type": "code",
   "execution_count": 1,
   "metadata": {},
   "outputs": [],
   "source": [
    "import pandas as pd\n",
    "\n",
    "import glob\n",
    "import shutil\n",
    "import os\n",
    "\n"
   ]
  },
  {
   "cell_type": "code",
   "execution_count": 5,
   "metadata": {},
   "outputs": [
    {
     "name": "stdout",
     "output_type": "stream",
     "text": [
      "2352\n"
     ]
    },
    {
     "data": {
      "text/plain": [
       "(1646, 2)"
      ]
     },
     "execution_count": 5,
     "metadata": {},
     "output_type": "execute_result"
    }
   ],
   "source": [
    "df = pd.read_csv(\"train.csv\")\n",
    "\n",
    "df_test = pd.read_csv(\"test.csv\")\n",
    "\n",
    "submission = pd.read_csv(\"submission.csv\")\n",
    "\n",
    "print(df.shape[0]   + df_test.shape[0])\n",
    "df.shape"
   ]
  },
  {
   "cell_type": "code",
   "execution_count": 6,
   "metadata": {},
   "outputs": [
    {
     "data": {
      "text/plain": [
       "((965, 2), (681, 2))"
      ]
     },
     "execution_count": 6,
     "metadata": {},
     "output_type": "execute_result"
    }
   ],
   "source": [
    "df [   df.emergency_or_not == 0 ].shape , df [   df.emergency_or_not == 1 ].shape"
   ]
  },
  {
   "cell_type": "code",
   "execution_count": 7,
   "metadata": {},
   "outputs": [
    {
     "data": {
      "text/plain": [
       "((965, 2), (681, 2))"
      ]
     },
     "execution_count": 7,
     "metadata": {},
     "output_type": "execute_result"
    }
   ],
   "source": [
    "df_0 = df [   df.emergency_or_not == 0 ]\n",
    "df_1 = df [   df.emergency_or_not == 1 ]\n",
    "df_0.shape, df_1.shape"
   ]
  },
  {
   "cell_type": "code",
   "execution_count": 8,
   "metadata": {
    "scrolled": true
   },
   "outputs": [
    {
     "name": "stdout",
     "output_type": "stream",
     "text": [
      "479.jpg\n",
      "479.jpg\n",
      "images/479.jpg\n",
      "['images/479.jpg', 'images/2265.jpg']\n"
     ]
    },
    {
     "data": {
      "text/plain": [
       "2352"
      ]
     },
     "execution_count": 8,
     "metadata": {},
     "output_type": "execute_result"
    }
   ],
   "source": [
    "image_list = glob.glob( \"images/*.jpg\")\n",
    "new_list = [i[7:]for i in image_list]\n",
    "\n",
    "print(image_list[0][7:])\n",
    "print(new_list[0])\n",
    "print(image_list[0])\n",
    "print(image_list[:2])\n",
    "len(image_list)"
   ]
  },
  {
   "cell_type": "code",
   "execution_count": 11,
   "metadata": {},
   "outputs": [],
   "source": [
    "src_dir_path = \"images/\"\n",
    "\n",
    "dest_folder_0 = \"0\"\n",
    "dest_folder_1 = \"1\"\n",
    "\n",
    "column_variable_name = \"emergency_or_not\"\n",
    "column_image_name = \"image_names\"\n",
    "\n"
   ]
  },
  {
   "cell_type": "code",
   "execution_count": null,
   "metadata": {},
   "outputs": [],
   "source": []
  },
  {
   "cell_type": "code",
   "execution_count": 10,
   "metadata": {},
   "outputs": [],
   "source": [
    "# for val in df.index:\n",
    "#     label_type = df.iloc[val][\"emergency_or_not\"]\n",
    "#     result = df.iloc[val][\"image_names\"]\n",
    "#     if result in new_list:\n",
    "#         if label_type == 0:\n",
    "#             shutil.copy(src_dir_path + result, dest_folder_0)\n",
    "\n",
    "#         else:\n",
    "#             shutil.copy(src_dir_path + result, dest_folder_1)\n",
    "\n",
    "\n",
    "\n",
    "\n",
    "\n",
    "\n",
    "\n",
    "\n",
    "\n",
    "\n",
    "def separate_image_and_copy_A_B_folder(source_dir_path, target_image_type_1, target_image_type_0,\n",
    "                                       col_val_name, col_image_name):\n",
    "    for val in df.index:\n",
    "        label_type = df.iloc[val][col_val_name]\n",
    "        result = df.iloc[val][col_image_name]\n",
    "        if result in new_list:\n",
    "            if label_type == 0:\n",
    "                shutil.copy(source_dir_path + result, target_image_type_0)\n",
    "\n",
    "            else:\n",
    "                shutil.copy(source_dir_path + result, target_image_type_1)\n",
    "\n",
    "    \n",
    "    \n",
    "    "
   ]
  },
  {
   "cell_type": "code",
   "execution_count": null,
   "metadata": {},
   "outputs": [],
   "source": [
    "#Plz check 0 and 1 folder name exist or not (plz cra)"
   ]
  },
  {
   "cell_type": "code",
   "execution_count": 13,
   "metadata": {},
   "outputs": [],
   "source": [
    "separate_image_and_copy_A_B_folder(src_dir_path, dest_folder_1, dest_folder_0, \n",
    "                                   column_variable_name, column_image_name)"
   ]
  },
  {
   "cell_type": "code",
   "execution_count": null,
   "metadata": {},
   "outputs": [],
   "source": []
  },
  {
   "cell_type": "code",
   "execution_count": null,
   "metadata": {},
   "outputs": [],
   "source": []
  },
  {
   "cell_type": "code",
   "execution_count": 152,
   "metadata": {},
   "outputs": [
    {
     "name": "stdout",
     "output_type": "stream",
     "text": [
      "706\n"
     ]
    }
   ],
   "source": [
    "dest_folder_test = \"test_image\"\n",
    "c2 = 0\n",
    "\n",
    "for val1 in df_test.index:\n",
    "    \n",
    "    res = df_test.iloc[val1][\"image_names\"]\n",
    "    if res in new_list:\n",
    "        c2 = c2 + 1\n",
    "        shutil.copy(src_dir_path + res, dest_folder_test)\n",
    "print(c2)"
   ]
  },
  {
   "cell_type": "code",
   "execution_count": 148,
   "metadata": {},
   "outputs": [
    {
     "data": {
      "text/html": [
       "<div>\n",
       "<style scoped>\n",
       "    .dataframe tbody tr th:only-of-type {\n",
       "        vertical-align: middle;\n",
       "    }\n",
       "\n",
       "    .dataframe tbody tr th {\n",
       "        vertical-align: top;\n",
       "    }\n",
       "\n",
       "    .dataframe thead th {\n",
       "        text-align: right;\n",
       "    }\n",
       "</style>\n",
       "<table border=\"1\" class=\"dataframe\">\n",
       "  <thead>\n",
       "    <tr style=\"text-align: right;\">\n",
       "      <th></th>\n",
       "      <th>image_names</th>\n",
       "    </tr>\n",
       "  </thead>\n",
       "  <tbody>\n",
       "    <tr>\n",
       "      <th>0</th>\n",
       "      <td>1960.jpg</td>\n",
       "    </tr>\n",
       "    <tr>\n",
       "      <th>1</th>\n",
       "      <td>668.jpg</td>\n",
       "    </tr>\n",
       "    <tr>\n",
       "      <th>2</th>\n",
       "      <td>2082.jpg</td>\n",
       "    </tr>\n",
       "    <tr>\n",
       "      <th>3</th>\n",
       "      <td>808.jpg</td>\n",
       "    </tr>\n",
       "    <tr>\n",
       "      <th>4</th>\n",
       "      <td>1907.jpg</td>\n",
       "    </tr>\n",
       "  </tbody>\n",
       "</table>\n",
       "</div>"
      ],
      "text/plain": [
       "  image_names\n",
       "0    1960.jpg\n",
       "1     668.jpg\n",
       "2    2082.jpg\n",
       "3     808.jpg\n",
       "4    1907.jpg"
      ]
     },
     "execution_count": 148,
     "metadata": {},
     "output_type": "execute_result"
    }
   ],
   "source": [
    "df_test.head()"
   ]
  },
  {
   "cell_type": "code",
   "execution_count": 151,
   "metadata": {},
   "outputs": [
    {
     "data": {
      "text/plain": [
       "(706, 1)"
      ]
     },
     "execution_count": 151,
     "metadata": {},
     "output_type": "execute_result"
    }
   ],
   "source": [
    "df_test.shape"
   ]
  },
  {
   "cell_type": "code",
   "execution_count": 159,
   "metadata": {},
   "outputs": [
    {
     "data": {
      "text/plain": [
       "(706, (706, 1))"
      ]
     },
     "execution_count": 159,
     "metadata": {},
     "output_type": "execute_result"
    }
   ],
   "source": [
    "test_list = glob.glob( \"test_image/*.jpg\")\n",
    "len(test_list), df_test.shape"
   ]
  },
  {
   "cell_type": "code",
   "execution_count": 158,
   "metadata": {},
   "outputs": [
    {
     "data": {
      "text/plain": [
       "(965, 681, (965, 2), (681, 2))"
      ]
     },
     "execution_count": 158,
     "metadata": {},
     "output_type": "execute_result"
    }
   ],
   "source": [
    "train_list_0 = glob.glob( \"0/*.jpg\")\n",
    "train_list_1 = glob.glob( \"1/*.jpg\")\n",
    "\n",
    "\n",
    "len(train_list_0), len(train_list_1) , df_0.shape , df_1.shape"
   ]
  },
  {
   "cell_type": "code",
   "execution_count": null,
   "metadata": {},
   "outputs": [],
   "source": []
  }
 ],
 "metadata": {
  "kernelspec": {
   "display_name": "Python 3",
   "language": "python",
   "name": "python3"
  },
  "language_info": {
   "codemirror_mode": {
    "name": "ipython",
    "version": 3
   },
   "file_extension": ".py",
   "mimetype": "text/x-python",
   "name": "python",
   "nbconvert_exporter": "python",
   "pygments_lexer": "ipython3",
   "version": "3.7.9"
  },
  "varInspector": {
   "cols": {
    "lenName": 16,
    "lenType": 16,
    "lenVar": 40
   },
   "kernels_config": {
    "python": {
     "delete_cmd_postfix": "",
     "delete_cmd_prefix": "del ",
     "library": "var_list.py",
     "varRefreshCmd": "print(var_dic_list())"
    },
    "r": {
     "delete_cmd_postfix": ") ",
     "delete_cmd_prefix": "rm(",
     "library": "var_list.r",
     "varRefreshCmd": "cat(var_dic_list()) "
    }
   },
   "types_to_exclude": [
    "module",
    "function",
    "builtin_function_or_method",
    "instance",
    "_Feature"
   ],
   "window_display": false
  }
 },
 "nbformat": 4,
 "nbformat_minor": 4
}
