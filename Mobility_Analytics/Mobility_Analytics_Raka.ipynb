{
 "cells": [
  {
   "cell_type": "code",
   "execution_count": null,
   "metadata": {},
   "outputs": [],
   "source": []
  },
  {
   "cell_type": "code",
   "execution_count": 1,
   "metadata": {},
   "outputs": [
    {
     "name": "stderr",
     "output_type": "stream",
     "text": [
      "Using TensorFlow backend.\n"
     ]
    }
   ],
   "source": [
    "\n",
    "from sklearn.base import TransformerMixin, BaseEstimator\n",
    "\n",
    "from collections import Counter , defaultdict\n",
    "\n",
    "import pandas as pd\n",
    "\n",
    "pd.set_option('display.max_columns', None)\n",
    "\n",
    "\n",
    "from pandas import Series as s , DataFrame as df\n",
    "import numpy as np\n",
    "\n",
    "import seaborn as sns\n",
    "# import matplotlib.pyplot as plt\n",
    "\n",
    "# To ignore warnings\n",
    "import warnings\n",
    "warnings.filterwarnings(\"ignore\")\n",
    "\n",
    "from matplotlib import pyplot as plt, rcParams as rc\n",
    "\n",
    "\n",
    "%matplotlib inline\n",
    "rc[\"figure.figsize\"] = 10,6\n",
    "\n",
    "import datetime\n",
    "import datetime as dt\n",
    "\n",
    "from sklearn.model_selection  import StratifiedKFold\n",
    "from sklearn.decomposition import PCA\n",
    "\n",
    "from iteration_utilities import duplicates, unique_everseen\n",
    "\n",
    "import sys\n",
    "from itertools import groupby\n",
    "from operator import itemgetter\n",
    "from timeit import timeit\n",
    "\n",
    "\n",
    "## RandomOverSampler to handle imbalanced data\n",
    "from imblearn.over_sampling import RandomOverSampler # over sampling method 2"
   ]
  },
  {
   "cell_type": "code",
   "execution_count": 2,
   "metadata": {},
   "outputs": [],
   "source": [
    "\n",
    "#Algorithm\n",
    "from sklearn.linear_model import LogisticRegression\n",
    "from sklearn.svm import SVC\n",
    "from sklearn.tree import DecisionTreeClassifier\n",
    "from sklearn.ensemble import RandomForestClassifier\n",
    "from xgboost import XGBClassifier\n",
    "\n",
    "from sklearn.naive_bayes import MultinomialNB\n",
    "\n",
    "from lightgbm import LGBMClassifier\n",
    "# from catboost import CatBoostClassifier\n",
    "\n",
    "#preprocessing\n",
    "from sklearn.preprocessing import LabelEncoder\n",
    "\n",
    "from sklearn.preprocessing import StandardScaler, normalize\n",
    "\n",
    "\n",
    "\n",
    "from sklearn.model_selection import train_test_split\n",
    "\n",
    "import lightgbm as lgb\n",
    "\n",
    "\n",
    "#Metrics\n",
    "from sklearn.metrics import accuracy_score, roc_auc_score, roc_curve, recall_score, precision_score\n",
    "from sklearn.metrics import confusion_matrix, classification_report, f1_score, precision_recall_fscore_support\n",
    "\n",
    "from sklearn.pipeline import Pipeline\n",
    "\n",
    "# GridSearchCV to find optimal min_samples_leaf\n",
    "from sklearn.model_selection import KFold\n",
    "from sklearn.model_selection import GridSearchCV"
   ]
  },
  {
   "cell_type": "code",
   "execution_count": null,
   "metadata": {},
   "outputs": [],
   "source": []
  },
  {
   "cell_type": "code",
   "execution_count": 3,
   "metadata": {},
   "outputs": [
    {
     "data": {
      "text/plain": [
       "((131662, 14), (87395, 13), (87395, 2))"
      ]
     },
     "execution_count": 3,
     "metadata": {},
     "output_type": "execute_result"
    }
   ],
   "source": [
    "df = pd.read_csv(\"train_Wc8LBpr.csv\")\n",
    "\n",
    "df_test = pd.read_csv(\"test_VsU9xXK.csv\")\n",
    "submission = pd.read_csv(\"sample_submission_NoPBkjr.csv\")\n",
    "\n",
    "df10 = df.copy()\n",
    "df.shape, df_test.shape, submission.shape"
   ]
  },
  {
   "cell_type": "code",
   "execution_count": null,
   "metadata": {},
   "outputs": [],
   "source": []
  },
  {
   "cell_type": "code",
   "execution_count": 4,
   "metadata": {},
   "outputs": [],
   "source": [
    "def get_percentage_miss_value(dataset):\n",
    "    higher_miss_value_column = []\n",
    "    miss_threshold_value = 50\n",
    "    \n",
    "    for i in dataset.columns:\n",
    "        if dataset[i].isna().sum() > 1: \n",
    "            perectange_val = (dataset[i].isna().sum() / len(dataset)) * 100\n",
    "            print(\"Column-> \" , i, \", total no of missing value : \",dataset[i].isna().sum() , \" & :         \", round(perectange_val,2) ,\" %\")\n",
    "                \n",
    "            if(perectange_val > miss_threshold_value):\n",
    "                higher_miss_value_column.append(i)\n",
    "            \n",
    "    print(\"\\n\\n\\n\")\n",
    "    \n",
    "    if higher_miss_value_column:\n",
    "        print(\"Higher Missing values in Columns for Delete : \", higher_miss_value_column)\n",
    "    else:\n",
    "        print(\"There are no Higher Column Missing values in Dataset\")"
   ]
  },
  {
   "cell_type": "code",
   "execution_count": 5,
   "metadata": {},
   "outputs": [],
   "source": [
    "# get_percentage_miss_value(df)"
   ]
  },
  {
   "cell_type": "code",
   "execution_count": null,
   "metadata": {},
   "outputs": [],
   "source": []
  },
  {
   "cell_type": "code",
   "execution_count": 6,
   "metadata": {},
   "outputs": [],
   "source": [
    "# get_percentage_miss_value(df_test)"
   ]
  },
  {
   "cell_type": "code",
   "execution_count": null,
   "metadata": {},
   "outputs": [],
   "source": []
  },
  {
   "cell_type": "code",
   "execution_count": 7,
   "metadata": {},
   "outputs": [],
   "source": [
    "# df.info()"
   ]
  },
  {
   "cell_type": "code",
   "execution_count": null,
   "metadata": {},
   "outputs": [],
   "source": []
  },
  {
   "cell_type": "code",
   "execution_count": 8,
   "metadata": {},
   "outputs": [],
   "source": [
    "def check_cloumn_details_type_categorical(dataset):\n",
    "    for i in dataset.columns:\n",
    "        if(dataset[i].dtype == \"object\"):\n",
    "            print(\"Columns name :  \",i  )\n",
    "            \n",
    "            print(dict(Counter(dataset[i])))\n",
    "            \n",
    "            print(\"*\"*100)\n",
    "            print(\"\\n\")"
   ]
  },
  {
   "cell_type": "code",
   "execution_count": 134,
   "metadata": {},
   "outputs": [],
   "source": [
    "# check_cloumn_details_type_categorical(df)"
   ]
  },
  {
   "cell_type": "code",
   "execution_count": 10,
   "metadata": {},
   "outputs": [
    {
     "data": {
      "text/plain": [
       "0.7131898345764154"
      ]
     },
     "execution_count": 10,
     "metadata": {},
     "output_type": "execute_result"
    }
   ],
   "source": [
    "93900 / len(df)"
   ]
  },
  {
   "cell_type": "code",
   "execution_count": null,
   "metadata": {},
   "outputs": [],
   "source": []
  },
  {
   "cell_type": "code",
   "execution_count": null,
   "metadata": {},
   "outputs": [],
   "source": []
  },
  {
   "cell_type": "code",
   "execution_count": null,
   "metadata": {},
   "outputs": [],
   "source": []
  },
  {
   "cell_type": "code",
   "execution_count": 11,
   "metadata": {},
   "outputs": [],
   "source": [
    "# check_cloumn_details_type_categorical(df_test)"
   ]
  },
  {
   "cell_type": "code",
   "execution_count": null,
   "metadata": {},
   "outputs": [],
   "source": []
  },
  {
   "cell_type": "code",
   "execution_count": 12,
   "metadata": {},
   "outputs": [],
   "source": [
    "def check_cloumn_details_type_numberical(dataset):\n",
    "    for i in dataset.columns:\n",
    "        if (dataset[i].dtype == \"int\"):\n",
    "            print(\"Columns name :  \",i  )\n",
    "            \n",
    "            print(dict(Counter(dataset[i])))\n",
    "            print(\"*\"*100)\n",
    "            print(\"\\n\")\n",
    "            \n",
    "            \n",
    "def check_cloumn_details_type_float(dataset):\n",
    "    for i in dataset.columns:\n",
    "        if (dataset[i].dtype == \"float\"):\n",
    "            print(\"Columns name :  \",i  )\n",
    "            \n",
    "            print(dict(Counter(dataset[i])))\n",
    "            print(\"*\"*100)\n",
    "            print(\"\\n\")\n",
    "            "
   ]
  },
  {
   "cell_type": "code",
   "execution_count": 13,
   "metadata": {},
   "outputs": [],
   "source": [
    "# check_cloumn_details_type_numberical(df)"
   ]
  },
  {
   "cell_type": "code",
   "execution_count": null,
   "metadata": {},
   "outputs": [],
   "source": []
  },
  {
   "cell_type": "code",
   "execution_count": 14,
   "metadata": {},
   "outputs": [],
   "source": [
    "# check_cloumn_details_type_float(df)"
   ]
  },
  {
   "cell_type": "code",
   "execution_count": null,
   "metadata": {},
   "outputs": [],
   "source": []
  },
  {
   "cell_type": "code",
   "execution_count": 15,
   "metadata": {},
   "outputs": [],
   "source": [
    "# Visulazing the distibution of the data for every feature\n",
    "def visualize_hist(dataset):\n",
    "    dataset.hist(edgecolor='black', linewidth=1.2, figsize=(20, 20));\n",
    "    plt.show()"
   ]
  },
  {
   "cell_type": "code",
   "execution_count": 16,
   "metadata": {
    "scrolled": true
   },
   "outputs": [],
   "source": [
    "# visualize_hist(df)"
   ]
  },
  {
   "cell_type": "code",
   "execution_count": null,
   "metadata": {},
   "outputs": [],
   "source": []
  },
  {
   "cell_type": "code",
   "execution_count": 17,
   "metadata": {},
   "outputs": [],
   "source": [
    "def visualize_histogram(dataset):\n",
    "    # plot histogram\n",
    "    plt.figure(figsize=(25, 9))  # figure size in ratio 16:9\n",
    "    features = dataset.columns  # list of columns name\n",
    "    for i, j in enumerate(features):\n",
    "        plt.subplot(3, 3, i + 1)  # create subplot for histogram\n",
    "        plt.title(\"Histogram of {}\".format(j), fontsize=15)  # title of histogram\n",
    "\n",
    "        bins = len(dataset[j].unique())  # bins for histogram\n",
    "        plt.hist(dataset[j], bins=bins, rwidth=0.8, edgecolor=\"y\", linewidth=2, )  # plot histogram\n",
    "\n",
    "    plt.subplots_adjust(hspace=0.5)  # space between horixontal axes (subplots)"
   ]
  },
  {
   "cell_type": "code",
   "execution_count": 18,
   "metadata": {},
   "outputs": [],
   "source": [
    "# visualize_histogram(df)"
   ]
  },
  {
   "cell_type": "code",
   "execution_count": null,
   "metadata": {},
   "outputs": [],
   "source": []
  },
  {
   "cell_type": "code",
   "execution_count": 85,
   "metadata": {},
   "outputs": [],
   "source": [
    "\n",
    "    \n",
    "def corr_metrix(dataset):\n",
    "    corr = dataset.corr()\n",
    "    # Generate a mask for the upper triangle\n",
    "    mask = np.zeros_like(corr, dtype=np.bool)\n",
    "    mask[np.triu_indices_from(mask)] = True\n",
    "\n",
    "    # Set up the matplotlib figure\n",
    "    f, ax = plt.subplots(figsize=(11, 9))\n",
    "\n",
    "    # Generate a custom diverging colormap\n",
    "    cmap = sns.diverging_palette(220, 10, as_cmap='RdYlGn')\n",
    "\n",
    "    # Draw the heatmap with the mask and correct aspect ratio\n",
    "    sns.heatmap(corr, mask=mask, cmap=cmap, vmax=1, center=0,\n",
    "            square=True, linewidths=.5, cbar_kws={\"shrink\": .5});\n",
    "    ax.tick_params(labelsize=20)\n",
    "\n",
    "def corr_2_more_visualize(dataset):\n",
    "    corr = dataset.corr()\n",
    "    \n",
    "    f, ax = plt.subplots(figsize=(20, 9))\n",
    "    sns.heatmap(corr.apply(lambda x : np.round(x,2)), \n",
    "            xticklabels=corr.columns.values,\n",
    "            yticklabels=corr.columns.values,annot=True,cmap='RdYlGn', annot_kws={\"size\": 15})\n",
    "    ax.tick_params(labelsize=20)\n",
    "    plt.show()\n",
    "    \n",
    "    \n",
    "def linear_regression_train_test():\n",
    "    #Linear regression with L2 regularization\n",
    "    for i in range(-2, 3):\n",
    "        alpha = 10**i\n",
    "        rm = Ridge(alpha = alpha)\n",
    "        ridge_model = rm.fit(X_train, y_train)\n",
    "        preds_ridge = ridge_model.predict(X_test)\n",
    "    \n",
    "        plt.scatter(preds_ridge, y_test, alpha= 0.75, c= 'b')\n",
    "        plt.xlabel('Predicted price')\n",
    "        plt.ylabel('Actual price')\n",
    "        plt.title('Ridge redularization with alpha {}'.format(alpha))\n",
    "        overlay = 'R square: {} \\nRMSE: {}'.format(ridge_model.score(X_test, y_test), mean_squared_error(y_test, preds_ridge))\n",
    "        plt.annotate(s = overlay, xy = (12.1, 10.6), size = 'x-large')\n",
    "        plt.show()\n",
    "        \n",
    "def actual_predict_visualization(actual_values, predict_values):\n",
    "    plt.scatter(actual_values, predict_values, alpha= 0.75, color = 'b')\n",
    "\n",
    "    plt.xlabel('Predicted price')\n",
    "    plt.ylabel('Actual price')\n",
    "    plt.title('Regression Model')\n",
    "    plt.show()\n",
    "    \n",
    "def visualize_original_predict_test(X_val, Y_val, default = \"Test\"):\n",
    "    print(\"Dataset type  : \\n\" ,default)\n",
    "    plt.scatter(diabetes_X_test, diabetes_y_test,  color='black')\n",
    "    plt.plot(diabetes_X_test, diabetes_y_pred, color='blue', linewidth=3)\n",
    "\n",
    "    plt.xticks(())\n",
    "    plt.yticks(())\n",
    "    \n",
    "    plt.xlabel(\"X axis\", color = \"red\")\n",
    "    plt.ylabel(\"Y axis\", color = \"green\")\n",
    "\n",
    "    plt.show()\n",
    "    \n",
    "    \n",
    "def visualize_categorical_values(dataset):\n",
    "    no_of_columns = 4\n",
    "    no_of_rows = 4\n",
    "    \n",
    "    columns_object_type = [i for i in dataset.columns  if dataset[i].dtype == \"object\"]\n",
    "    total_rows = (len(columns_object_type) // no_of_rows ) + 1\n",
    "    \n",
    "    f, axes = plt.subplots(total_rows, no_of_columns, figsize=(18,24))\n",
    "\n",
    "    for ind, val in enumerate(columns_object_type):\n",
    "        sns.countplot(df[val] , ax = axes[ind // no_of_rows , ind %no_of_columns ])\n",
    "    plt.show()   \n",
    "    \n",
    "# sns.pairplot(data = dataset[['arpu_6','arpu_7','arpu_8','churn_flag']],hue = 'churn_flag')\n",
    "\n",
    "def visualize_pairplot_target(dataset, numberical_col_list , target_val):\n",
    "    plt.figure(figsize=(18,34))\n",
    "    sns.pairplot(data = dataset[numberical_col_list],hue = target_val)\n",
    "    \n",
    "    #     sns.pairplot(data = dataset[['arpu_6','arpu_7','arpu_8','churn_flag']],hue = 'churn_flag') \n",
    "    #check for classification\n",
    "    plt.show()\n",
    "    \n",
    "    \n",
    "def visualize_numberical_values(dataset):\n",
    "    plt.figure(figsize=(18,34))\n",
    "    sns.pairplot(df)\n",
    "    plt.show()\n",
    "# visualize_numberical_values(df)\n",
    "    \n",
    "def check_skewness_numerical(dataset, target):\n",
    "    #analysing the distribution of sale price\n",
    "    print('skew is', dataset.SalePrice.skew())   \n",
    "    plt.hist(dataset[target], color= 'b')\n",
    "\n",
    "    plt.title('Distribution of ' + target, fontsize = 24)\n",
    "    plt.ylabel('observation', fontsize = 20)\n",
    "    plt.xlabel(target, fontsize = 20)\n",
    "\n",
    "    plt.show()\n",
    "    \n",
    "def skewness_after_log_transform(dataset , target):\n",
    "    #log transforming sale price to transform it into gaussian distribution\n",
    "    target1 = np.log(dataset.target)\n",
    "    print('skew is', target1.skew())\n",
    "    plt.hist(target, color= 'b')\n",
    "\n",
    "    plt.title('Distribution of ' + target, fontsize = 24)\n",
    "    plt.ylabel('observation', fontsize = 20)\n",
    "    plt.xlabel(target , fontsize = 20)\n",
    "\n",
    "    plt.show()\n",
    "    \n",
    "# Since pairplots for all numeric values together are not clear we can make groups ,do plot with price & analyse\n",
    "\n",
    "def pair_plot(list_4_numberical_values):\n",
    "    sns.pairplot(df2, x_vars= list_4_numberical_values, y_vars='SalePrice',size=4, kind='scatter')\n",
    "    plt.show()"
   ]
  },
  {
   "cell_type": "code",
   "execution_count": 86,
   "metadata": {},
   "outputs": [
    {
     "data": {
      "text/plain": [
       "(131662, 14)"
      ]
     },
     "execution_count": 86,
     "metadata": {},
     "output_type": "execute_result"
    }
   ],
   "source": [
    "df.shape"
   ]
  },
  {
   "cell_type": "code",
   "execution_count": 21,
   "metadata": {},
   "outputs": [],
   "source": [
    "# corr_2_more_visualize(df)"
   ]
  },
  {
   "cell_type": "code",
   "execution_count": null,
   "metadata": {},
   "outputs": [],
   "source": []
  },
  {
   "cell_type": "code",
   "execution_count": 22,
   "metadata": {},
   "outputs": [],
   "source": [
    "# visualize_categorical_values(df)"
   ]
  },
  {
   "cell_type": "code",
   "execution_count": null,
   "metadata": {},
   "outputs": [],
   "source": []
  },
  {
   "cell_type": "code",
   "execution_count": 23,
   "metadata": {},
   "outputs": [],
   "source": [
    "\n",
    "\n",
    "# visualize_numberical_values(df)"
   ]
  },
  {
   "cell_type": "code",
   "execution_count": null,
   "metadata": {},
   "outputs": [],
   "source": []
  },
  {
   "cell_type": "code",
   "execution_count": null,
   "metadata": {},
   "outputs": [],
   "source": []
  },
  {
   "cell_type": "code",
   "execution_count": 24,
   "metadata": {},
   "outputs": [],
   "source": [
    "#Label encoding\n",
    "def convert_to_numerical_label_encoding(dataset):\n",
    "    enc = LabelEncoder()\n",
    "    for i in dataset.columns:\n",
    "        if(dataset[i].dtype == \"object\"):\n",
    "            dataset[i] = enc.fit_transform(dataset[i])\n",
    "            \n",
    "    return dataset"
   ]
  },
  {
   "cell_type": "code",
   "execution_count": null,
   "metadata": {},
   "outputs": [],
   "source": []
  },
  {
   "cell_type": "code",
   "execution_count": null,
   "metadata": {},
   "outputs": [],
   "source": []
  },
  {
   "cell_type": "code",
   "execution_count": 25,
   "metadata": {},
   "outputs": [],
   "source": [
    "class DataFrameImputer(TransformerMixin):\n",
    "\n",
    "    def __init__(self):\n",
    "        \"\"\"Impute missing values.\n",
    "\n",
    "        Columns of dtype object are imputed with the most frequent value \n",
    "        in column.\n",
    "\n",
    "        Columns of other types are imputed with mean of column.\n",
    "\n",
    "        \"\"\"\n",
    "    def fit(self, X, y=None):\n",
    "\n",
    "        self.fill = pd.Series([X[c].value_counts().index[0] if X[c].dtype == np.dtype('O') else X[c].mean() for c in X],\n",
    "            index=X.columns)\n",
    "\n",
    "        return self\n",
    "\n",
    "    def transform(self, X, y=None):\n",
    "        return X.fillna(self.fill)\n",
    "    \n"
   ]
  },
  {
   "cell_type": "code",
   "execution_count": null,
   "metadata": {},
   "outputs": [],
   "source": []
  },
  {
   "cell_type": "code",
   "execution_count": 45,
   "metadata": {},
   "outputs": [],
   "source": [
    "def majority_imbalanced_dataset(dataset, target_col):\n",
    "    feature_columns = dataset.columns.tolist()\n",
    "    feature_columns = [c for c in feature_columns if c not in [target_col]]\n",
    "\n",
    "    X2_new = dataset[feature_columns]\n",
    "    Y2_new = dataset[target_col]\n",
    "\n",
    "    os =  RandomOverSampler(random_state=35)\n",
    "    X_feature_variables , y_output = os.fit_sample(X2_new, Y2_new)\n",
    "    \n",
    "    X_feature_variables[target_col] = y_output\n",
    "    \n",
    "    X_feature_variables = X_feature_variables.sample(frac = 1).reset_index(drop = True)\n",
    "    \n",
    "    return X_feature_variables"
   ]
  },
  {
   "cell_type": "code",
   "execution_count": null,
   "metadata": {},
   "outputs": [],
   "source": []
  },
  {
   "cell_type": "code",
   "execution_count": 46,
   "metadata": {},
   "outputs": [],
   "source": [
    "def standardscaler_preprocessing(dataset_train, dataset_test, num_col):\n",
    "    scaler = StandardScaler()\n",
    "   \n",
    "    dataset_train[num_col] = scaler.fit_transform(dataset_train[num_col])\n",
    "\n",
    "    dataset_test[num_col] = scaler.transform(dataset_test[num_col])\n",
    "    \n",
    "    return dataset_train, dataset_test"
   ]
  },
  {
   "cell_type": "code",
   "execution_count": null,
   "metadata": {},
   "outputs": [],
   "source": []
  },
  {
   "cell_type": "code",
   "execution_count": null,
   "metadata": {},
   "outputs": [],
   "source": []
  },
  {
   "cell_type": "markdown",
   "metadata": {},
   "source": [
    "# <font color ='green' > EDA"
   ]
  },
  {
   "cell_type": "code",
   "execution_count": 242,
   "metadata": {},
   "outputs": [],
   "source": [
    "# drop_col = [\"Trip_ID\" , \"Var1\", \"Var2\", \"Var3\"]\n",
    "\n",
    "drop_col = [\"Trip_ID\", \"Var1\"  ]"
   ]
  },
  {
   "cell_type": "code",
   "execution_count": 243,
   "metadata": {},
   "outputs": [
    {
     "data": {
      "text/plain": [
       "((131662, 14), (131662, 12))"
      ]
     },
     "execution_count": 243,
     "metadata": {},
     "output_type": "execute_result"
    }
   ],
   "source": [
    "df1 = df.drop(columns = drop_col)\n",
    "df.shape , df1.shape"
   ]
  },
  {
   "cell_type": "code",
   "execution_count": null,
   "metadata": {},
   "outputs": [],
   "source": []
  },
  {
   "cell_type": "code",
   "execution_count": 244,
   "metadata": {},
   "outputs": [
    {
     "data": {
      "text/plain": [
       "((87395, 13), (87395, 11))"
      ]
     },
     "execution_count": 244,
     "metadata": {},
     "output_type": "execute_result"
    }
   ],
   "source": [
    "df1_test = df_test.drop(columns = drop_col)\n",
    "df_test.shape , df1_test.shape"
   ]
  },
  {
   "cell_type": "code",
   "execution_count": null,
   "metadata": {},
   "outputs": [],
   "source": []
  },
  {
   "cell_type": "code",
   "execution_count": 245,
   "metadata": {},
   "outputs": [
    {
     "name": "stdout",
     "output_type": "stream",
     "text": [
      "Columns name :   Type_of_Cab\n",
      "{'B': 31136, nan: 20210, 'C': 28122, 'E': 11634, 'D': 18991, 'A': 21569}\n",
      "****************************************************************************************************\n",
      "\n",
      "\n",
      "Columns name :   Confidence_Life_Style_Index\n",
      "{'A': 35147, 'B': 40355, nan: 20193, 'C': 35967}\n",
      "****************************************************************************************************\n",
      "\n",
      "\n",
      "Columns name :   Destination_Type\n",
      "{'A': 77597, 'E': 2717, 'B': 29555, 'C': 7484, 'G': 1489, 'D': 6588, 'F': 1950, 'K': 680, 'L': 643, 'H': 1260, 'I': 813, 'J': 695, 'M': 93, 'N': 98}\n",
      "****************************************************************************************************\n",
      "\n",
      "\n",
      "Columns name :   Gender\n",
      "{'Female': 37762, 'Male': 93900}\n",
      "****************************************************************************************************\n",
      "\n",
      "\n"
     ]
    }
   ],
   "source": [
    "check_cloumn_details_type_categorical(df1)"
   ]
  },
  {
   "cell_type": "code",
   "execution_count": 246,
   "metadata": {},
   "outputs": [],
   "source": [
    "# df1[\"Type_of_Cab\"] = df1[\"Type_of_Cab\"].fillna(\"Unkown\")\n",
    "# df1[\"Confidence_Life_Style_Index\"] = df1[\"Confidence_Life_Style_Index\"].fillna(\"Unkown\")"
   ]
  },
  {
   "cell_type": "code",
   "execution_count": null,
   "metadata": {},
   "outputs": [],
   "source": []
  },
  {
   "cell_type": "code",
   "execution_count": 247,
   "metadata": {},
   "outputs": [],
   "source": [
    "df2 = DataFrameImputer().fit_transform(df1.copy())\n",
    "\n",
    "\n",
    "df2_test = DataFrameImputer().fit_transform(df1_test.copy())"
   ]
  },
  {
   "cell_type": "code",
   "execution_count": 248,
   "metadata": {},
   "outputs": [
    {
     "data": {
      "text/plain": [
       "(0, 0)"
      ]
     },
     "execution_count": 248,
     "metadata": {},
     "output_type": "execute_result"
    }
   ],
   "source": [
    "df2.isna().sum().sum(), df2_test.isna().sum().sum()"
   ]
  },
  {
   "cell_type": "code",
   "execution_count": null,
   "metadata": {},
   "outputs": [],
   "source": []
  },
  {
   "cell_type": "code",
   "execution_count": 249,
   "metadata": {},
   "outputs": [
    {
     "data": {
      "text/plain": [
       "((131662, 12), (131662, 12))"
      ]
     },
     "execution_count": 249,
     "metadata": {},
     "output_type": "execute_result"
    }
   ],
   "source": [
    "df3 = convert_to_numerical_label_encoding(df2.copy())\n",
    "df2.shape, df3.shape"
   ]
  },
  {
   "cell_type": "code",
   "execution_count": null,
   "metadata": {},
   "outputs": [],
   "source": []
  },
  {
   "cell_type": "code",
   "execution_count": 250,
   "metadata": {},
   "outputs": [
    {
     "data": {
      "text/plain": [
       "((87395, 11), (87395, 11))"
      ]
     },
     "execution_count": 250,
     "metadata": {},
     "output_type": "execute_result"
    }
   ],
   "source": [
    "df3_test = convert_to_numerical_label_encoding(df2_test.copy())\n",
    "df2_test.shape, df3_test.shape"
   ]
  },
  {
   "cell_type": "code",
   "execution_count": null,
   "metadata": {},
   "outputs": [],
   "source": []
  },
  {
   "cell_type": "code",
   "execution_count": 251,
   "metadata": {},
   "outputs": [
    {
     "data": {
      "text/plain": [
       "Counter({2: 56728, 3: 47720, 1: 27214})"
      ]
     },
     "execution_count": 251,
     "metadata": {},
     "output_type": "execute_result"
    }
   ],
   "source": [
    "Counter(df3.Surge_Pricing_Type)"
   ]
  },
  {
   "cell_type": "code",
   "execution_count": 252,
   "metadata": {},
   "outputs": [],
   "source": [
    "\n",
    "# df3 = majority_imbalanced_dataset(df3.copy(), \"Surge_Pricing_Type\")\n",
    "# Counter(df4.Surge_Pricing_Type)"
   ]
  },
  {
   "cell_type": "code",
   "execution_count": 253,
   "metadata": {},
   "outputs": [
    {
     "data": {
      "text/plain": [
       "(131662, 12)"
      ]
     },
     "execution_count": 253,
     "metadata": {},
     "output_type": "execute_result"
    }
   ],
   "source": [
    "df3.shape"
   ]
  },
  {
   "cell_type": "code",
   "execution_count": null,
   "metadata": {},
   "outputs": [],
   "source": []
  },
  {
   "cell_type": "code",
   "execution_count": null,
   "metadata": {},
   "outputs": [],
   "source": []
  },
  {
   "cell_type": "code",
   "execution_count": null,
   "metadata": {},
   "outputs": [],
   "source": []
  },
  {
   "cell_type": "code",
   "execution_count": 254,
   "metadata": {},
   "outputs": [],
   "source": [
    "# scaling_col = [\"Trip_Distance\" , \"Customer_Since_Months\" , \"Life_Style_Index\", \"Customer_Rating\", \"Var2\", \"Var3\"]\n",
    "\n",
    "scaling_col = [\"Trip_Distance\" , \"Customer_Since_Months\" , \"Life_Style_Index\", \"Customer_Rating\"]\n",
    "\n",
    "\n",
    "\n",
    "# df4, df4_test = standardscaler_preprocessing(df3.copy(), df3_test.copy(), scaling_col)"
   ]
  },
  {
   "cell_type": "code",
   "execution_count": 255,
   "metadata": {
    "scrolled": true
   },
   "outputs": [
    {
     "data": {
      "text/html": [
       "<div>\n",
       "<style scoped>\n",
       "    .dataframe tbody tr th:only-of-type {\n",
       "        vertical-align: middle;\n",
       "    }\n",
       "\n",
       "    .dataframe tbody tr th {\n",
       "        vertical-align: top;\n",
       "    }\n",
       "\n",
       "    .dataframe thead th {\n",
       "        text-align: right;\n",
       "    }\n",
       "</style>\n",
       "<table border=\"1\" class=\"dataframe\">\n",
       "  <thead>\n",
       "    <tr style=\"text-align: right;\">\n",
       "      <th></th>\n",
       "      <th>Trip_Distance</th>\n",
       "      <th>Type_of_Cab</th>\n",
       "      <th>Customer_Since_Months</th>\n",
       "      <th>Life_Style_Index</th>\n",
       "      <th>Confidence_Life_Style_Index</th>\n",
       "      <th>Destination_Type</th>\n",
       "      <th>Customer_Rating</th>\n",
       "      <th>Cancellation_Last_1Month</th>\n",
       "      <th>Var2</th>\n",
       "      <th>Var3</th>\n",
       "      <th>Gender</th>\n",
       "      <th>Surge_Pricing_Type</th>\n",
       "    </tr>\n",
       "  </thead>\n",
       "  <tbody>\n",
       "    <tr>\n",
       "      <th>0</th>\n",
       "      <td>6.77</td>\n",
       "      <td>1</td>\n",
       "      <td>1.0</td>\n",
       "      <td>2.427690</td>\n",
       "      <td>0</td>\n",
       "      <td>0</td>\n",
       "      <td>3.90500</td>\n",
       "      <td>0</td>\n",
       "      <td>46</td>\n",
       "      <td>60</td>\n",
       "      <td>0</td>\n",
       "      <td>2</td>\n",
       "    </tr>\n",
       "    <tr>\n",
       "      <th>1</th>\n",
       "      <td>29.47</td>\n",
       "      <td>1</td>\n",
       "      <td>10.0</td>\n",
       "      <td>2.782450</td>\n",
       "      <td>1</td>\n",
       "      <td>0</td>\n",
       "      <td>3.45000</td>\n",
       "      <td>0</td>\n",
       "      <td>56</td>\n",
       "      <td>78</td>\n",
       "      <td>1</td>\n",
       "      <td>2</td>\n",
       "    </tr>\n",
       "    <tr>\n",
       "      <th>2</th>\n",
       "      <td>41.58</td>\n",
       "      <td>1</td>\n",
       "      <td>10.0</td>\n",
       "      <td>2.802064</td>\n",
       "      <td>1</td>\n",
       "      <td>4</td>\n",
       "      <td>3.50125</td>\n",
       "      <td>2</td>\n",
       "      <td>56</td>\n",
       "      <td>77</td>\n",
       "      <td>1</td>\n",
       "      <td>2</td>\n",
       "    </tr>\n",
       "    <tr>\n",
       "      <th>3</th>\n",
       "      <td>61.56</td>\n",
       "      <td>2</td>\n",
       "      <td>10.0</td>\n",
       "      <td>2.802064</td>\n",
       "      <td>1</td>\n",
       "      <td>0</td>\n",
       "      <td>3.45375</td>\n",
       "      <td>0</td>\n",
       "      <td>52</td>\n",
       "      <td>74</td>\n",
       "      <td>1</td>\n",
       "      <td>3</td>\n",
       "    </tr>\n",
       "    <tr>\n",
       "      <th>4</th>\n",
       "      <td>54.95</td>\n",
       "      <td>2</td>\n",
       "      <td>10.0</td>\n",
       "      <td>3.034530</td>\n",
       "      <td>1</td>\n",
       "      <td>0</td>\n",
       "      <td>3.40250</td>\n",
       "      <td>4</td>\n",
       "      <td>49</td>\n",
       "      <td>102</td>\n",
       "      <td>1</td>\n",
       "      <td>2</td>\n",
       "    </tr>\n",
       "  </tbody>\n",
       "</table>\n",
       "</div>"
      ],
      "text/plain": [
       "   Trip_Distance  Type_of_Cab  Customer_Since_Months  Life_Style_Index  \\\n",
       "0           6.77            1                    1.0          2.427690   \n",
       "1          29.47            1                   10.0          2.782450   \n",
       "2          41.58            1                   10.0          2.802064   \n",
       "3          61.56            2                   10.0          2.802064   \n",
       "4          54.95            2                   10.0          3.034530   \n",
       "\n",
       "   Confidence_Life_Style_Index  Destination_Type  Customer_Rating  \\\n",
       "0                            0                 0          3.90500   \n",
       "1                            1                 0          3.45000   \n",
       "2                            1                 4          3.50125   \n",
       "3                            1                 0          3.45375   \n",
       "4                            1                 0          3.40250   \n",
       "\n",
       "   Cancellation_Last_1Month  Var2  Var3  Gender  Surge_Pricing_Type  \n",
       "0                         0    46    60       0                   2  \n",
       "1                         0    56    78       1                   2  \n",
       "2                         2    56    77       1                   2  \n",
       "3                         0    52    74       1                   3  \n",
       "4                         4    49   102       1                   2  "
      ]
     },
     "execution_count": 255,
     "metadata": {},
     "output_type": "execute_result"
    }
   ],
   "source": [
    "df3.head()"
   ]
  },
  {
   "cell_type": "code",
   "execution_count": 256,
   "metadata": {},
   "outputs": [
    {
     "data": {
      "text/html": [
       "<div>\n",
       "<style scoped>\n",
       "    .dataframe tbody tr th:only-of-type {\n",
       "        vertical-align: middle;\n",
       "    }\n",
       "\n",
       "    .dataframe tbody tr th {\n",
       "        vertical-align: top;\n",
       "    }\n",
       "\n",
       "    .dataframe thead th {\n",
       "        text-align: right;\n",
       "    }\n",
       "</style>\n",
       "<table border=\"1\" class=\"dataframe\">\n",
       "  <thead>\n",
       "    <tr style=\"text-align: right;\">\n",
       "      <th></th>\n",
       "      <th>Trip_Distance</th>\n",
       "      <th>Type_of_Cab</th>\n",
       "      <th>Customer_Since_Months</th>\n",
       "      <th>Life_Style_Index</th>\n",
       "      <th>Confidence_Life_Style_Index</th>\n",
       "      <th>Destination_Type</th>\n",
       "      <th>Customer_Rating</th>\n",
       "      <th>Cancellation_Last_1Month</th>\n",
       "      <th>Var2</th>\n",
       "      <th>Var3</th>\n",
       "      <th>Gender</th>\n",
       "      <th>Surge_Pricing_Type</th>\n",
       "    </tr>\n",
       "  </thead>\n",
       "  <tbody>\n",
       "    <tr>\n",
       "      <th>count</th>\n",
       "      <td>131662.000000</td>\n",
       "      <td>131662.000000</td>\n",
       "      <td>131662.000000</td>\n",
       "      <td>131662.000000</td>\n",
       "      <td>131662.000000</td>\n",
       "      <td>131662.000000</td>\n",
       "      <td>131662.000000</td>\n",
       "      <td>131662.000000</td>\n",
       "      <td>131662.000000</td>\n",
       "      <td>131662.000000</td>\n",
       "      <td>131662.000000</td>\n",
       "      <td>131662.000000</td>\n",
       "    </tr>\n",
       "    <tr>\n",
       "      <th>mean</th>\n",
       "      <td>44.200909</td>\n",
       "      <td>1.603340</td>\n",
       "      <td>6.016661</td>\n",
       "      <td>2.802064</td>\n",
       "      <td>1.006228</td>\n",
       "      <td>1.000144</td>\n",
       "      <td>2.849458</td>\n",
       "      <td>0.782838</td>\n",
       "      <td>51.202800</td>\n",
       "      <td>75.099019</td>\n",
       "      <td>0.713190</td>\n",
       "      <td>2.155747</td>\n",
       "    </tr>\n",
       "    <tr>\n",
       "      <th>std</th>\n",
       "      <td>25.522882</td>\n",
       "      <td>1.177128</td>\n",
       "      <td>3.544410</td>\n",
       "      <td>0.207760</td>\n",
       "      <td>0.734909</td>\n",
       "      <td>1.906857</td>\n",
       "      <td>0.980675</td>\n",
       "      <td>1.037559</td>\n",
       "      <td>4.986142</td>\n",
       "      <td>11.578278</td>\n",
       "      <td>0.452274</td>\n",
       "      <td>0.738164</td>\n",
       "    </tr>\n",
       "    <tr>\n",
       "      <th>min</th>\n",
       "      <td>0.310000</td>\n",
       "      <td>0.000000</td>\n",
       "      <td>0.000000</td>\n",
       "      <td>1.596380</td>\n",
       "      <td>0.000000</td>\n",
       "      <td>0.000000</td>\n",
       "      <td>0.001250</td>\n",
       "      <td>0.000000</td>\n",
       "      <td>40.000000</td>\n",
       "      <td>52.000000</td>\n",
       "      <td>0.000000</td>\n",
       "      <td>1.000000</td>\n",
       "    </tr>\n",
       "    <tr>\n",
       "      <th>25%</th>\n",
       "      <td>24.580000</td>\n",
       "      <td>1.000000</td>\n",
       "      <td>3.000000</td>\n",
       "      <td>2.687952</td>\n",
       "      <td>0.000000</td>\n",
       "      <td>0.000000</td>\n",
       "      <td>2.152500</td>\n",
       "      <td>0.000000</td>\n",
       "      <td>48.000000</td>\n",
       "      <td>67.000000</td>\n",
       "      <td>0.000000</td>\n",
       "      <td>2.000000</td>\n",
       "    </tr>\n",
       "    <tr>\n",
       "      <th>50%</th>\n",
       "      <td>38.200000</td>\n",
       "      <td>1.000000</td>\n",
       "      <td>6.016661</td>\n",
       "      <td>2.802064</td>\n",
       "      <td>1.000000</td>\n",
       "      <td>0.000000</td>\n",
       "      <td>2.895000</td>\n",
       "      <td>0.000000</td>\n",
       "      <td>50.000000</td>\n",
       "      <td>74.000000</td>\n",
       "      <td>1.000000</td>\n",
       "      <td>2.000000</td>\n",
       "    </tr>\n",
       "    <tr>\n",
       "      <th>75%</th>\n",
       "      <td>60.730000</td>\n",
       "      <td>2.000000</td>\n",
       "      <td>10.000000</td>\n",
       "      <td>2.912815</td>\n",
       "      <td>2.000000</td>\n",
       "      <td>1.000000</td>\n",
       "      <td>3.582500</td>\n",
       "      <td>1.000000</td>\n",
       "      <td>54.000000</td>\n",
       "      <td>82.000000</td>\n",
       "      <td>1.000000</td>\n",
       "      <td>3.000000</td>\n",
       "    </tr>\n",
       "    <tr>\n",
       "      <th>max</th>\n",
       "      <td>109.230000</td>\n",
       "      <td>4.000000</td>\n",
       "      <td>10.000000</td>\n",
       "      <td>4.875110</td>\n",
       "      <td>2.000000</td>\n",
       "      <td>13.000000</td>\n",
       "      <td>5.000000</td>\n",
       "      <td>8.000000</td>\n",
       "      <td>124.000000</td>\n",
       "      <td>206.000000</td>\n",
       "      <td>1.000000</td>\n",
       "      <td>3.000000</td>\n",
       "    </tr>\n",
       "  </tbody>\n",
       "</table>\n",
       "</div>"
      ],
      "text/plain": [
       "       Trip_Distance    Type_of_Cab  Customer_Since_Months  Life_Style_Index  \\\n",
       "count  131662.000000  131662.000000          131662.000000     131662.000000   \n",
       "mean       44.200909       1.603340               6.016661          2.802064   \n",
       "std        25.522882       1.177128               3.544410          0.207760   \n",
       "min         0.310000       0.000000               0.000000          1.596380   \n",
       "25%        24.580000       1.000000               3.000000          2.687952   \n",
       "50%        38.200000       1.000000               6.016661          2.802064   \n",
       "75%        60.730000       2.000000              10.000000          2.912815   \n",
       "max       109.230000       4.000000              10.000000          4.875110   \n",
       "\n",
       "       Confidence_Life_Style_Index  Destination_Type  Customer_Rating  \\\n",
       "count                131662.000000     131662.000000    131662.000000   \n",
       "mean                      1.006228          1.000144         2.849458   \n",
       "std                       0.734909          1.906857         0.980675   \n",
       "min                       0.000000          0.000000         0.001250   \n",
       "25%                       0.000000          0.000000         2.152500   \n",
       "50%                       1.000000          0.000000         2.895000   \n",
       "75%                       2.000000          1.000000         3.582500   \n",
       "max                       2.000000         13.000000         5.000000   \n",
       "\n",
       "       Cancellation_Last_1Month           Var2           Var3         Gender  \\\n",
       "count             131662.000000  131662.000000  131662.000000  131662.000000   \n",
       "mean                   0.782838      51.202800      75.099019       0.713190   \n",
       "std                    1.037559       4.986142      11.578278       0.452274   \n",
       "min                    0.000000      40.000000      52.000000       0.000000   \n",
       "25%                    0.000000      48.000000      67.000000       0.000000   \n",
       "50%                    0.000000      50.000000      74.000000       1.000000   \n",
       "75%                    1.000000      54.000000      82.000000       1.000000   \n",
       "max                    8.000000     124.000000     206.000000       1.000000   \n",
       "\n",
       "       Surge_Pricing_Type  \n",
       "count       131662.000000  \n",
       "mean             2.155747  \n",
       "std              0.738164  \n",
       "min              1.000000  \n",
       "25%              2.000000  \n",
       "50%              2.000000  \n",
       "75%              3.000000  \n",
       "max              3.000000  "
      ]
     },
     "execution_count": 256,
     "metadata": {},
     "output_type": "execute_result"
    }
   ],
   "source": [
    "df3.describe()"
   ]
  },
  {
   "cell_type": "code",
   "execution_count": null,
   "metadata": {},
   "outputs": [],
   "source": []
  },
  {
   "cell_type": "code",
   "execution_count": 257,
   "metadata": {},
   "outputs": [],
   "source": [
    "X = df3.iloc[:,:-1]\n",
    "\n",
    "Y = df3.iloc[:,-1]"
   ]
  },
  {
   "cell_type": "code",
   "execution_count": null,
   "metadata": {},
   "outputs": [],
   "source": []
  },
  {
   "cell_type": "code",
   "execution_count": 313,
   "metadata": {},
   "outputs": [],
   "source": [
    "from xgboost import XGBClassifier\n",
    "\n",
    "xg_param_test = {\n",
    "    \n",
    "    'gamma': [2, 5,7],\n",
    "    'max_depth': [3, 4,5],\n",
    "    'learning_rate': [0.05,0.07],\n",
    "    'n_estimators': [100,200],\n",
    "#     objective = ['binary:logistic',  'multi:softmax'],\n",
    "#     num_classes = [2, 3] # output : binary(2) or multi classification\n",
    "  \n",
    "}\n",
    "\n",
    "XGB_hyper_params = GridSearchCV(estimator = \n",
    "XGBClassifier(learning_rate =0.1,\n",
    "#               objective= 'binary:logistic',\n",
    "              objective = 'multi:softmax',\n",
    "                                num_classes =  3,\n",
    "              nthread=4,\n",
    "              seed=27), \n",
    "                                \n",
    "              param_grid = xg_param_test,\n",
    "              scoring= 'accuracy',\n",
    "              n_jobs=4,\n",
    "              iid=False,\n",
    "              verbose=10)\n",
    "\n"
   ]
  },
  {
   "cell_type": "code",
   "execution_count": 314,
   "metadata": {},
   "outputs": [
    {
     "name": "stdout",
     "output_type": "stream",
     "text": [
      "Fitting 5 folds for each of 36 candidates, totalling 180 fits\n"
     ]
    },
    {
     "name": "stderr",
     "output_type": "stream",
     "text": [
      "[Parallel(n_jobs=4)]: Using backend LokyBackend with 4 concurrent workers.\n",
      "[Parallel(n_jobs=4)]: Done   5 tasks      | elapsed:  6.5min\n",
      "[Parallel(n_jobs=4)]: Done  10 tasks      | elapsed: 14.5min\n",
      "[Parallel(n_jobs=4)]: Done  17 tasks      | elapsed: 26.6min\n",
      "[Parallel(n_jobs=4)]: Done  24 tasks      | elapsed: 37.9min\n"
     ]
    },
    {
     "ename": "KeyboardInterrupt",
     "evalue": "",
     "output_type": "error",
     "traceback": [
      "\u001b[0;31m---------------------------------------------------------------------------\u001b[0m",
      "\u001b[0;31mKeyboardInterrupt\u001b[0m                         Traceback (most recent call last)",
      "\u001b[0;32m<ipython-input-314-8ce75b23d926>\u001b[0m in \u001b[0;36m<module>\u001b[0;34m\u001b[0m\n\u001b[0;32m----> 1\u001b[0;31m \u001b[0mXGB_hyper_params\u001b[0m\u001b[0;34m.\u001b[0m\u001b[0mfit\u001b[0m\u001b[0;34m(\u001b[0m\u001b[0mX\u001b[0m\u001b[0;34m,\u001b[0m\u001b[0mY\u001b[0m\u001b[0;34m)\u001b[0m\u001b[0;34m\u001b[0m\u001b[0;34m\u001b[0m\u001b[0m\n\u001b[0m\u001b[1;32m      2\u001b[0m \u001b[0mprint\u001b[0m\u001b[0;34m(\u001b[0m\u001b[0mXGB_hyper_params\u001b[0m\u001b[0;34m.\u001b[0m\u001b[0mbest_params_\u001b[0m\u001b[0;34m)\u001b[0m\u001b[0;34m\u001b[0m\u001b[0;34m\u001b[0m\u001b[0m\n\u001b[1;32m      3\u001b[0m \u001b[0mxgbclf\u001b[0m\u001b[0;34m=\u001b[0m\u001b[0mXGBClassifier\u001b[0m\u001b[0;34m(\u001b[0m\u001b[0mgamma\u001b[0m\u001b[0;34m=\u001b[0m \u001b[0;36m7\u001b[0m\u001b[0;34m,\u001b[0m\u001b[0mlearning_rate\u001b[0m\u001b[0;34m=\u001b[0m \u001b[0;36m0.05\u001b[0m\u001b[0;34m,\u001b[0m \u001b[0mmax_depth\u001b[0m\u001b[0;34m=\u001b[0m \u001b[0;36m5\u001b[0m\u001b[0;34m,\u001b[0m\u001b[0mn_estimators\u001b[0m\u001b[0;34m=\u001b[0m \u001b[0;36m200\u001b[0m\u001b[0;34m)\u001b[0m\u001b[0;34m\u001b[0m\u001b[0;34m\u001b[0m\u001b[0m\n\u001b[1;32m      4\u001b[0m \u001b[0mxgbclf\u001b[0m\u001b[0;34m.\u001b[0m\u001b[0mfit\u001b[0m\u001b[0;34m(\u001b[0m\u001b[0mX\u001b[0m\u001b[0;34m,\u001b[0m\u001b[0mY\u001b[0m\u001b[0;34m)\u001b[0m\u001b[0;34m\u001b[0m\u001b[0;34m\u001b[0m\u001b[0m\n",
      "\u001b[0;32m~/anaconda3/lib/python3.7/site-packages/sklearn/model_selection/_search.py\u001b[0m in \u001b[0;36mfit\u001b[0;34m(self, X, y, groups, **fit_params)\u001b[0m\n\u001b[1;32m    710\u001b[0m                 \u001b[0;32mreturn\u001b[0m \u001b[0mresults\u001b[0m\u001b[0;34m\u001b[0m\u001b[0;34m\u001b[0m\u001b[0m\n\u001b[1;32m    711\u001b[0m \u001b[0;34m\u001b[0m\u001b[0m\n\u001b[0;32m--> 712\u001b[0;31m             \u001b[0mself\u001b[0m\u001b[0;34m.\u001b[0m\u001b[0m_run_search\u001b[0m\u001b[0;34m(\u001b[0m\u001b[0mevaluate_candidates\u001b[0m\u001b[0;34m)\u001b[0m\u001b[0;34m\u001b[0m\u001b[0;34m\u001b[0m\u001b[0m\n\u001b[0m\u001b[1;32m    713\u001b[0m \u001b[0;34m\u001b[0m\u001b[0m\n\u001b[1;32m    714\u001b[0m         \u001b[0;31m# For multi-metric evaluation, store the best_index_, best_params_ and\u001b[0m\u001b[0;34m\u001b[0m\u001b[0;34m\u001b[0m\u001b[0;34m\u001b[0m\u001b[0m\n",
      "\u001b[0;32m~/anaconda3/lib/python3.7/site-packages/sklearn/model_selection/_search.py\u001b[0m in \u001b[0;36m_run_search\u001b[0;34m(self, evaluate_candidates)\u001b[0m\n\u001b[1;32m   1151\u001b[0m     \u001b[0;32mdef\u001b[0m \u001b[0m_run_search\u001b[0m\u001b[0;34m(\u001b[0m\u001b[0mself\u001b[0m\u001b[0;34m,\u001b[0m \u001b[0mevaluate_candidates\u001b[0m\u001b[0;34m)\u001b[0m\u001b[0;34m:\u001b[0m\u001b[0;34m\u001b[0m\u001b[0;34m\u001b[0m\u001b[0m\n\u001b[1;32m   1152\u001b[0m         \u001b[0;34m\"\"\"Search all candidates in param_grid\"\"\"\u001b[0m\u001b[0;34m\u001b[0m\u001b[0;34m\u001b[0m\u001b[0m\n\u001b[0;32m-> 1153\u001b[0;31m         \u001b[0mevaluate_candidates\u001b[0m\u001b[0;34m(\u001b[0m\u001b[0mParameterGrid\u001b[0m\u001b[0;34m(\u001b[0m\u001b[0mself\u001b[0m\u001b[0;34m.\u001b[0m\u001b[0mparam_grid\u001b[0m\u001b[0;34m)\u001b[0m\u001b[0;34m)\u001b[0m\u001b[0;34m\u001b[0m\u001b[0;34m\u001b[0m\u001b[0m\n\u001b[0m\u001b[1;32m   1154\u001b[0m \u001b[0;34m\u001b[0m\u001b[0m\n\u001b[1;32m   1155\u001b[0m \u001b[0;34m\u001b[0m\u001b[0m\n",
      "\u001b[0;32m~/anaconda3/lib/python3.7/site-packages/sklearn/model_selection/_search.py\u001b[0m in \u001b[0;36mevaluate_candidates\u001b[0;34m(candidate_params)\u001b[0m\n\u001b[1;32m    689\u001b[0m                                \u001b[0;32mfor\u001b[0m \u001b[0mparameters\u001b[0m\u001b[0;34m,\u001b[0m \u001b[0;34m(\u001b[0m\u001b[0mtrain\u001b[0m\u001b[0;34m,\u001b[0m \u001b[0mtest\u001b[0m\u001b[0;34m)\u001b[0m\u001b[0;34m\u001b[0m\u001b[0;34m\u001b[0m\u001b[0m\n\u001b[1;32m    690\u001b[0m                                in product(candidate_params,\n\u001b[0;32m--> 691\u001b[0;31m                                           cv.split(X, y, groups)))\n\u001b[0m\u001b[1;32m    692\u001b[0m \u001b[0;34m\u001b[0m\u001b[0m\n\u001b[1;32m    693\u001b[0m                 \u001b[0;32mif\u001b[0m \u001b[0mlen\u001b[0m\u001b[0;34m(\u001b[0m\u001b[0mout\u001b[0m\u001b[0;34m)\u001b[0m \u001b[0;34m<\u001b[0m \u001b[0;36m1\u001b[0m\u001b[0;34m:\u001b[0m\u001b[0;34m\u001b[0m\u001b[0;34m\u001b[0m\u001b[0m\n",
      "\u001b[0;32m~/anaconda3/lib/python3.7/site-packages/joblib/parallel.py\u001b[0m in \u001b[0;36m__call__\u001b[0;34m(self, iterable)\u001b[0m\n\u001b[1;32m   1015\u001b[0m \u001b[0;34m\u001b[0m\u001b[0m\n\u001b[1;32m   1016\u001b[0m             \u001b[0;32mwith\u001b[0m \u001b[0mself\u001b[0m\u001b[0;34m.\u001b[0m\u001b[0m_backend\u001b[0m\u001b[0;34m.\u001b[0m\u001b[0mretrieval_context\u001b[0m\u001b[0;34m(\u001b[0m\u001b[0;34m)\u001b[0m\u001b[0;34m:\u001b[0m\u001b[0;34m\u001b[0m\u001b[0;34m\u001b[0m\u001b[0m\n\u001b[0;32m-> 1017\u001b[0;31m                 \u001b[0mself\u001b[0m\u001b[0;34m.\u001b[0m\u001b[0mretrieve\u001b[0m\u001b[0;34m(\u001b[0m\u001b[0;34m)\u001b[0m\u001b[0;34m\u001b[0m\u001b[0;34m\u001b[0m\u001b[0m\n\u001b[0m\u001b[1;32m   1018\u001b[0m             \u001b[0;31m# Make sure that we get a last message telling us we are done\u001b[0m\u001b[0;34m\u001b[0m\u001b[0;34m\u001b[0m\u001b[0;34m\u001b[0m\u001b[0m\n\u001b[1;32m   1019\u001b[0m             \u001b[0melapsed_time\u001b[0m \u001b[0;34m=\u001b[0m \u001b[0mtime\u001b[0m\u001b[0;34m.\u001b[0m\u001b[0mtime\u001b[0m\u001b[0;34m(\u001b[0m\u001b[0;34m)\u001b[0m \u001b[0;34m-\u001b[0m \u001b[0mself\u001b[0m\u001b[0;34m.\u001b[0m\u001b[0m_start_time\u001b[0m\u001b[0;34m\u001b[0m\u001b[0;34m\u001b[0m\u001b[0m\n",
      "\u001b[0;32m~/anaconda3/lib/python3.7/site-packages/joblib/parallel.py\u001b[0m in \u001b[0;36mretrieve\u001b[0;34m(self)\u001b[0m\n\u001b[1;32m    907\u001b[0m             \u001b[0;32mtry\u001b[0m\u001b[0;34m:\u001b[0m\u001b[0;34m\u001b[0m\u001b[0;34m\u001b[0m\u001b[0m\n\u001b[1;32m    908\u001b[0m                 \u001b[0;32mif\u001b[0m \u001b[0mgetattr\u001b[0m\u001b[0;34m(\u001b[0m\u001b[0mself\u001b[0m\u001b[0;34m.\u001b[0m\u001b[0m_backend\u001b[0m\u001b[0;34m,\u001b[0m \u001b[0;34m'supports_timeout'\u001b[0m\u001b[0;34m,\u001b[0m \u001b[0;32mFalse\u001b[0m\u001b[0;34m)\u001b[0m\u001b[0;34m:\u001b[0m\u001b[0;34m\u001b[0m\u001b[0;34m\u001b[0m\u001b[0m\n\u001b[0;32m--> 909\u001b[0;31m                     \u001b[0mself\u001b[0m\u001b[0;34m.\u001b[0m\u001b[0m_output\u001b[0m\u001b[0;34m.\u001b[0m\u001b[0mextend\u001b[0m\u001b[0;34m(\u001b[0m\u001b[0mjob\u001b[0m\u001b[0;34m.\u001b[0m\u001b[0mget\u001b[0m\u001b[0;34m(\u001b[0m\u001b[0mtimeout\u001b[0m\u001b[0;34m=\u001b[0m\u001b[0mself\u001b[0m\u001b[0;34m.\u001b[0m\u001b[0mtimeout\u001b[0m\u001b[0;34m)\u001b[0m\u001b[0;34m)\u001b[0m\u001b[0;34m\u001b[0m\u001b[0;34m\u001b[0m\u001b[0m\n\u001b[0m\u001b[1;32m    910\u001b[0m                 \u001b[0;32melse\u001b[0m\u001b[0;34m:\u001b[0m\u001b[0;34m\u001b[0m\u001b[0;34m\u001b[0m\u001b[0m\n\u001b[1;32m    911\u001b[0m                     \u001b[0mself\u001b[0m\u001b[0;34m.\u001b[0m\u001b[0m_output\u001b[0m\u001b[0;34m.\u001b[0m\u001b[0mextend\u001b[0m\u001b[0;34m(\u001b[0m\u001b[0mjob\u001b[0m\u001b[0;34m.\u001b[0m\u001b[0mget\u001b[0m\u001b[0;34m(\u001b[0m\u001b[0;34m)\u001b[0m\u001b[0;34m)\u001b[0m\u001b[0;34m\u001b[0m\u001b[0;34m\u001b[0m\u001b[0m\n",
      "\u001b[0;32m~/anaconda3/lib/python3.7/site-packages/joblib/_parallel_backends.py\u001b[0m in \u001b[0;36mwrap_future_result\u001b[0;34m(future, timeout)\u001b[0m\n\u001b[1;32m    560\u001b[0m         AsyncResults.get from multiprocessing.\"\"\"\n\u001b[1;32m    561\u001b[0m         \u001b[0;32mtry\u001b[0m\u001b[0;34m:\u001b[0m\u001b[0;34m\u001b[0m\u001b[0;34m\u001b[0m\u001b[0m\n\u001b[0;32m--> 562\u001b[0;31m             \u001b[0;32mreturn\u001b[0m \u001b[0mfuture\u001b[0m\u001b[0;34m.\u001b[0m\u001b[0mresult\u001b[0m\u001b[0;34m(\u001b[0m\u001b[0mtimeout\u001b[0m\u001b[0;34m=\u001b[0m\u001b[0mtimeout\u001b[0m\u001b[0;34m)\u001b[0m\u001b[0;34m\u001b[0m\u001b[0;34m\u001b[0m\u001b[0m\n\u001b[0m\u001b[1;32m    563\u001b[0m         \u001b[0;32mexcept\u001b[0m \u001b[0mLokyTimeoutError\u001b[0m\u001b[0;34m:\u001b[0m\u001b[0;34m\u001b[0m\u001b[0;34m\u001b[0m\u001b[0m\n\u001b[1;32m    564\u001b[0m             \u001b[0;32mraise\u001b[0m \u001b[0mTimeoutError\u001b[0m\u001b[0;34m(\u001b[0m\u001b[0;34m)\u001b[0m\u001b[0;34m\u001b[0m\u001b[0;34m\u001b[0m\u001b[0m\n",
      "\u001b[0;32m~/anaconda3/lib/python3.7/concurrent/futures/_base.py\u001b[0m in \u001b[0;36mresult\u001b[0;34m(self, timeout)\u001b[0m\n\u001b[1;32m    428\u001b[0m                 \u001b[0;32mreturn\u001b[0m \u001b[0mself\u001b[0m\u001b[0;34m.\u001b[0m\u001b[0m__get_result\u001b[0m\u001b[0;34m(\u001b[0m\u001b[0;34m)\u001b[0m\u001b[0;34m\u001b[0m\u001b[0;34m\u001b[0m\u001b[0m\n\u001b[1;32m    429\u001b[0m \u001b[0;34m\u001b[0m\u001b[0m\n\u001b[0;32m--> 430\u001b[0;31m             \u001b[0mself\u001b[0m\u001b[0;34m.\u001b[0m\u001b[0m_condition\u001b[0m\u001b[0;34m.\u001b[0m\u001b[0mwait\u001b[0m\u001b[0;34m(\u001b[0m\u001b[0mtimeout\u001b[0m\u001b[0;34m)\u001b[0m\u001b[0;34m\u001b[0m\u001b[0;34m\u001b[0m\u001b[0m\n\u001b[0m\u001b[1;32m    431\u001b[0m \u001b[0;34m\u001b[0m\u001b[0m\n\u001b[1;32m    432\u001b[0m             \u001b[0;32mif\u001b[0m \u001b[0mself\u001b[0m\u001b[0;34m.\u001b[0m\u001b[0m_state\u001b[0m \u001b[0;32min\u001b[0m \u001b[0;34m[\u001b[0m\u001b[0mCANCELLED\u001b[0m\u001b[0;34m,\u001b[0m \u001b[0mCANCELLED_AND_NOTIFIED\u001b[0m\u001b[0;34m]\u001b[0m\u001b[0;34m:\u001b[0m\u001b[0;34m\u001b[0m\u001b[0;34m\u001b[0m\u001b[0m\n",
      "\u001b[0;32m~/anaconda3/lib/python3.7/threading.py\u001b[0m in \u001b[0;36mwait\u001b[0;34m(self, timeout)\u001b[0m\n\u001b[1;32m    294\u001b[0m         \u001b[0;32mtry\u001b[0m\u001b[0;34m:\u001b[0m    \u001b[0;31m# restore state no matter what (e.g., KeyboardInterrupt)\u001b[0m\u001b[0;34m\u001b[0m\u001b[0;34m\u001b[0m\u001b[0m\n\u001b[1;32m    295\u001b[0m             \u001b[0;32mif\u001b[0m \u001b[0mtimeout\u001b[0m \u001b[0;32mis\u001b[0m \u001b[0;32mNone\u001b[0m\u001b[0;34m:\u001b[0m\u001b[0;34m\u001b[0m\u001b[0;34m\u001b[0m\u001b[0m\n\u001b[0;32m--> 296\u001b[0;31m                 \u001b[0mwaiter\u001b[0m\u001b[0;34m.\u001b[0m\u001b[0macquire\u001b[0m\u001b[0;34m(\u001b[0m\u001b[0;34m)\u001b[0m\u001b[0;34m\u001b[0m\u001b[0;34m\u001b[0m\u001b[0m\n\u001b[0m\u001b[1;32m    297\u001b[0m                 \u001b[0mgotit\u001b[0m \u001b[0;34m=\u001b[0m \u001b[0;32mTrue\u001b[0m\u001b[0;34m\u001b[0m\u001b[0;34m\u001b[0m\u001b[0m\n\u001b[1;32m    298\u001b[0m             \u001b[0;32melse\u001b[0m\u001b[0;34m:\u001b[0m\u001b[0;34m\u001b[0m\u001b[0;34m\u001b[0m\u001b[0m\n",
      "\u001b[0;31mKeyboardInterrupt\u001b[0m: "
     ]
    }
   ],
   "source": [
    "XGB_hyper_params.fit(X,Y)\n",
    "print(XGB_hyper_params.best_params_)\n",
    "xgbclf=XGBClassifier(gamma= 7,learning_rate= 0.05, max_depth= 5,n_estimators= 200)\n",
    "xgbclf.fit(X,Y)"
   ]
  },
  {
   "cell_type": "code",
   "execution_count": null,
   "metadata": {},
   "outputs": [],
   "source": [
    "y_pred_final = xgbclf.predict(df3_test)"
   ]
  },
  {
   "cell_type": "code",
   "execution_count": null,
   "metadata": {},
   "outputs": [],
   "source": []
  },
  {
   "cell_type": "code",
   "execution_count": 258,
   "metadata": {},
   "outputs": [],
   "source": [
    "from lightgbm import LGBMClassifier\n",
    "\n",
    "lg_param_test = {\n",
    "    \n",
    "    'gamma': [0.5, 0.25],\n",
    "    'max_depth': [3, 4, 5],\n",
    "    'learning_rate': [0.07, 0.05],\n",
    "    'n_estimators': [200, 100]\n",
    "  \n",
    "}\n",
    "\n",
    "\n",
    "LGB_hyper_params = GridSearchCV(estimator = \n",
    "LGBMClassifier(learning_rate =0.1,\n",
    "              nthread=4,\n",
    "              seed=27), \n",
    "              param_grid = lg_param_test,\n",
    "              scoring= 'accuracy',\n",
    "              n_jobs=4,\n",
    "              iid=False,\n",
    "              verbose=10)\n"
   ]
  },
  {
   "cell_type": "code",
   "execution_count": 259,
   "metadata": {},
   "outputs": [
    {
     "name": "stdout",
     "output_type": "stream",
     "text": [
      "Fitting 5 folds for each of 24 candidates, totalling 120 fits\n"
     ]
    },
    {
     "name": "stderr",
     "output_type": "stream",
     "text": [
      "[Parallel(n_jobs=4)]: Using backend LokyBackend with 4 concurrent workers.\n",
      "[Parallel(n_jobs=4)]: Done   5 tasks      | elapsed:   37.2s\n",
      "[Parallel(n_jobs=4)]: Done  10 tasks      | elapsed:   42.8s\n",
      "[Parallel(n_jobs=4)]: Done  17 tasks      | elapsed:  1.0min\n",
      "[Parallel(n_jobs=4)]: Done  24 tasks      | elapsed:  1.4min\n",
      "[Parallel(n_jobs=4)]: Done  33 tasks      | elapsed:  1.8min\n",
      "[Parallel(n_jobs=4)]: Done  42 tasks      | elapsed:  2.2min\n",
      "[Parallel(n_jobs=4)]: Done  53 tasks      | elapsed:  2.8min\n",
      "[Parallel(n_jobs=4)]: Done  64 tasks      | elapsed:  3.3min\n",
      "[Parallel(n_jobs=4)]: Done  77 tasks      | elapsed:  3.8min\n",
      "[Parallel(n_jobs=4)]: Done  90 tasks      | elapsed:  4.4min\n",
      "[Parallel(n_jobs=4)]: Done 105 tasks      | elapsed:  5.1min\n",
      "[Parallel(n_jobs=4)]: Done 120 out of 120 | elapsed:  5.8min finished\n"
     ]
    },
    {
     "name": "stdout",
     "output_type": "stream",
     "text": [
      "{'gamma': 0.5, 'learning_rate': 0.07, 'max_depth': 5, 'n_estimators': 200}\n"
     ]
    },
    {
     "data": {
      "text/plain": [
       "LGBMClassifier(boosting_type='gbdt', class_weight=None, colsample_bytree=1.0,\n",
       "               gamma=0.5, importance_type='split', learning_rate=0.05,\n",
       "               max_depth=3, min_child_samples=20, min_child_weight=0.001,\n",
       "               min_split_gain=0.0, n_estimators=100, n_jobs=-1, num_leaves=31,\n",
       "               objective=None, random_state=None, reg_alpha=0.0, reg_lambda=0.0,\n",
       "               silent=True, subsample=1.0, subsample_for_bin=200000,\n",
       "               subsample_freq=0)"
      ]
     },
     "execution_count": 259,
     "metadata": {},
     "output_type": "execute_result"
    }
   ],
   "source": [
    "LGB_hyper_params.fit(X,Y)\n",
    "\n",
    "\n",
    "print(LGB_hyper_params.best_params_)\n",
    "\n",
    "\n",
    "lgbclf= LGBMClassifier(gamma= 0.5, learning_rate= 0.05,max_depth= 3, n_estimators= 100)\n",
    "\n",
    "\n",
    "lgbclf.fit(X,Y)"
   ]
  },
  {
   "cell_type": "code",
   "execution_count": null,
   "metadata": {},
   "outputs": [],
   "source": []
  },
  {
   "cell_type": "code",
   "execution_count": null,
   "metadata": {
    "scrolled": true
   },
   "outputs": [],
   "source": [
    "lgbclf= LGBMClassifier(gamma= 0.5, learning_rate= 0.07,max_depth= 5, n_estimators= 200, objective='multi:softmax', num_classes=3)\n",
    "\n",
    "\n",
    "# lgbclf= LGBMClassifier(gamma= 0.5, learning_rate= 0.07,max_depth= 5, n_estimators= 200)\n",
    "# Default  objective='multi:softmax', num_classes=3\n",
    "\n",
    "\n"
   ]
  },
  {
   "cell_type": "code",
   "execution_count": null,
   "metadata": {},
   "outputs": [],
   "source": [
    "lgbclf.fit(X,Y)"
   ]
  },
  {
   "cell_type": "code",
   "execution_count": 298,
   "metadata": {},
   "outputs": [
    {
     "name": "stdout",
     "output_type": "stream",
     "text": [
      "0.23\n"
     ]
    }
   ],
   "source": [
    "# y_pred_final = lgbclf.predict(df3_test)"
   ]
  },
  {
   "cell_type": "code",
   "execution_count": null,
   "metadata": {},
   "outputs": [],
   "source": []
  },
  {
   "cell_type": "code",
   "execution_count": 304,
   "metadata": {},
   "outputs": [],
   "source": [
    "from catboost import CatBoostClassifier\n",
    "\n",
    "cat_param_test = {\n",
    "    'depth':[2, 3],\n",
    "    'learning_rate': [0.07, 0.05],\n",
    "    'n_estimators': [200, 100],\n",
    "    'loss_function': ['Logloss', 'CrossEntropy', 'MultiClass'],\n",
    "    'l2_leaf_reg':np.logspace(-25, -20, 3)\n",
    "  \n",
    "}\n",
    "\n",
    "CAT_hyper_params = GridSearchCV(estimator = \n",
    "CatBoostClassifier(learning_rate =0.1), \n",
    "              param_grid = cat_param_test,\n",
    "              scoring= 'accuracy',\n",
    "              n_jobs=4,\n",
    "                                \n",
    "              iid=False,\n",
    "              verbose=10)\n"
   ]
  },
  {
   "cell_type": "code",
   "execution_count": 305,
   "metadata": {},
   "outputs": [
    {
     "name": "stdout",
     "output_type": "stream",
     "text": [
      "Fitting 5 folds for each of 72 candidates, totalling 360 fits\n"
     ]
    },
    {
     "name": "stderr",
     "output_type": "stream",
     "text": [
      "[Parallel(n_jobs=4)]: Using backend LokyBackend with 4 concurrent workers.\n",
      "[Parallel(n_jobs=4)]: Done   5 tasks      | elapsed:   16.9s\n",
      "[Parallel(n_jobs=4)]: Done  10 tasks      | elapsed:   17.4s\n",
      "[Parallel(n_jobs=4)]: Done  17 tasks      | elapsed:   17.8s\n",
      "[Parallel(n_jobs=4)]: Done  24 tasks      | elapsed:   45.2s\n",
      "[Parallel(n_jobs=4)]: Done  33 tasks      | elapsed:  1.0min\n",
      "[Parallel(n_jobs=4)]: Done  42 tasks      | elapsed:  1.1min\n",
      "[Parallel(n_jobs=4)]: Done  53 tasks      | elapsed:  1.7min\n",
      "[Parallel(n_jobs=4)]: Done  64 tasks      | elapsed:  2.0min\n",
      "[Parallel(n_jobs=4)]: Done  77 tasks      | elapsed:  2.0min\n",
      "[Parallel(n_jobs=4)]: Done  90 tasks      | elapsed:  2.9min\n",
      "[Parallel(n_jobs=4)]: Done 105 tasks      | elapsed:  3.0min\n",
      "[Parallel(n_jobs=4)]: Done 120 tasks      | elapsed:  3.8min\n",
      "[Parallel(n_jobs=4)]: Done 137 tasks      | elapsed:  3.9min\n",
      "[Parallel(n_jobs=4)]: Done 154 tasks      | elapsed:  4.6min\n",
      "[Parallel(n_jobs=4)]: Done 173 tasks      | elapsed:  5.3min\n",
      "[Parallel(n_jobs=4)]: Done 192 tasks      | elapsed:  5.6min\n",
      "[Parallel(n_jobs=4)]: Done 213 tasks      | elapsed:  6.4min\n",
      "[Parallel(n_jobs=4)]: Done 234 tasks      | elapsed:  7.0min\n",
      "[Parallel(n_jobs=4)]: Done 257 tasks      | elapsed:  7.3min\n",
      "[Parallel(n_jobs=4)]: Done 280 tasks      | elapsed:  8.2min\n",
      "[Parallel(n_jobs=4)]: Done 305 tasks      | elapsed:  9.1min\n",
      "[Parallel(n_jobs=4)]: Done 330 tasks      | elapsed:  9.9min\n",
      "[Parallel(n_jobs=4)]: Done 360 out of 360 | elapsed: 11.0min finished\n"
     ]
    },
    {
     "name": "stdout",
     "output_type": "stream",
     "text": [
      "0:\tlearn: 1.0598937\ttotal: 151ms\tremaining: 30.1s\n",
      "1:\tlearn: 1.0274036\ttotal: 226ms\tremaining: 22.4s\n",
      "2:\tlearn: 0.9997184\ttotal: 279ms\tremaining: 18.3s\n",
      "3:\tlearn: 0.9759962\ttotal: 331ms\tremaining: 16.2s\n",
      "4:\tlearn: 0.9557617\ttotal: 387ms\tremaining: 15.1s\n",
      "5:\tlearn: 0.9379590\ttotal: 438ms\tremaining: 14.1s\n",
      "6:\tlearn: 0.9225479\ttotal: 477ms\tremaining: 13.2s\n",
      "7:\tlearn: 0.9090018\ttotal: 518ms\tremaining: 12.4s\n",
      "8:\tlearn: 0.8972015\ttotal: 557ms\tremaining: 11.8s\n",
      "9:\tlearn: 0.8864577\ttotal: 604ms\tremaining: 11.5s\n",
      "10:\tlearn: 0.8774152\ttotal: 655ms\tremaining: 11.2s\n",
      "11:\tlearn: 0.8689736\ttotal: 699ms\tremaining: 10.9s\n",
      "12:\tlearn: 0.8615217\ttotal: 738ms\tremaining: 10.6s\n",
      "13:\tlearn: 0.8553893\ttotal: 777ms\tremaining: 10.3s\n",
      "14:\tlearn: 0.8491161\ttotal: 826ms\tremaining: 10.2s\n",
      "15:\tlearn: 0.8437042\ttotal: 876ms\tremaining: 10.1s\n",
      "16:\tlearn: 0.8389100\ttotal: 916ms\tremaining: 9.86s\n",
      "17:\tlearn: 0.8346664\ttotal: 954ms\tremaining: 9.65s\n",
      "18:\tlearn: 0.8303049\ttotal: 994ms\tremaining: 9.47s\n",
      "19:\tlearn: 0.8267699\ttotal: 1.04s\tremaining: 9.36s\n",
      "20:\tlearn: 0.8235394\ttotal: 1.09s\tremaining: 9.28s\n",
      "21:\tlearn: 0.8203794\ttotal: 1.13s\tremaining: 9.13s\n",
      "22:\tlearn: 0.8178175\ttotal: 1.17s\tremaining: 8.98s\n",
      "23:\tlearn: 0.8147881\ttotal: 1.21s\tremaining: 8.84s\n",
      "24:\tlearn: 0.8121409\ttotal: 1.25s\tremaining: 8.75s\n",
      "25:\tlearn: 0.8097123\ttotal: 1.3s\tremaining: 8.73s\n",
      "26:\tlearn: 0.8079124\ttotal: 1.35s\tremaining: 8.68s\n",
      "27:\tlearn: 0.8059015\ttotal: 1.4s\tremaining: 8.59s\n",
      "28:\tlearn: 0.8041739\ttotal: 1.44s\tremaining: 8.48s\n",
      "29:\tlearn: 0.8022748\ttotal: 1.49s\tremaining: 8.45s\n",
      "30:\tlearn: 0.8008813\ttotal: 1.54s\tremaining: 8.4s\n",
      "31:\tlearn: 0.7993228\ttotal: 1.6s\tremaining: 8.41s\n",
      "32:\tlearn: 0.7975496\ttotal: 1.69s\tremaining: 8.54s\n",
      "33:\tlearn: 0.7962659\ttotal: 1.77s\tremaining: 8.62s\n",
      "34:\tlearn: 0.7950312\ttotal: 1.83s\tremaining: 8.63s\n",
      "35:\tlearn: 0.7937595\ttotal: 1.88s\tremaining: 8.56s\n",
      "36:\tlearn: 0.7924949\ttotal: 1.92s\tremaining: 8.46s\n",
      "37:\tlearn: 0.7913221\ttotal: 1.97s\tremaining: 8.4s\n",
      "38:\tlearn: 0.7901762\ttotal: 2.02s\tremaining: 8.36s\n",
      "39:\tlearn: 0.7890808\ttotal: 2.07s\tremaining: 8.3s\n",
      "40:\tlearn: 0.7877860\ttotal: 2.11s\tremaining: 8.2s\n",
      "41:\tlearn: 0.7866022\ttotal: 2.16s\tremaining: 8.11s\n",
      "42:\tlearn: 0.7856410\ttotal: 2.22s\tremaining: 8.1s\n",
      "43:\tlearn: 0.7846089\ttotal: 2.32s\tremaining: 8.22s\n",
      "44:\tlearn: 0.7835755\ttotal: 2.39s\tremaining: 8.23s\n",
      "45:\tlearn: 0.7825462\ttotal: 2.46s\tremaining: 8.25s\n",
      "46:\tlearn: 0.7815788\ttotal: 2.52s\tremaining: 8.21s\n",
      "47:\tlearn: 0.7807398\ttotal: 2.6s\tremaining: 8.22s\n",
      "48:\tlearn: 0.7800236\ttotal: 2.67s\tremaining: 8.21s\n",
      "49:\tlearn: 0.7793683\ttotal: 2.73s\tremaining: 8.2s\n",
      "50:\tlearn: 0.7785887\ttotal: 2.79s\tremaining: 8.17s\n",
      "51:\tlearn: 0.7778667\ttotal: 2.83s\tremaining: 8.07s\n",
      "52:\tlearn: 0.7771503\ttotal: 2.88s\tremaining: 7.98s\n",
      "53:\tlearn: 0.7763111\ttotal: 2.93s\tremaining: 7.92s\n",
      "54:\tlearn: 0.7755819\ttotal: 2.97s\tremaining: 7.84s\n",
      "55:\tlearn: 0.7748082\ttotal: 3.02s\tremaining: 7.77s\n",
      "56:\tlearn: 0.7740130\ttotal: 3.08s\tremaining: 7.73s\n",
      "57:\tlearn: 0.7734737\ttotal: 3.14s\tremaining: 7.7s\n",
      "58:\tlearn: 0.7728644\ttotal: 3.2s\tremaining: 7.65s\n",
      "59:\tlearn: 0.7723356\ttotal: 3.26s\tremaining: 7.62s\n",
      "60:\tlearn: 0.7716540\ttotal: 3.34s\tremaining: 7.6s\n",
      "61:\tlearn: 0.7709890\ttotal: 3.42s\tremaining: 7.6s\n",
      "62:\tlearn: 0.7704250\ttotal: 3.51s\tremaining: 7.64s\n",
      "63:\tlearn: 0.7698414\ttotal: 3.58s\tremaining: 7.62s\n",
      "64:\tlearn: 0.7692676\ttotal: 3.64s\tremaining: 7.56s\n",
      "65:\tlearn: 0.7687389\ttotal: 3.69s\tremaining: 7.5s\n",
      "66:\tlearn: 0.7682875\ttotal: 3.76s\tremaining: 7.47s\n",
      "67:\tlearn: 0.7676207\ttotal: 3.82s\tremaining: 7.42s\n",
      "68:\tlearn: 0.7671912\ttotal: 3.87s\tremaining: 7.35s\n",
      "69:\tlearn: 0.7667383\ttotal: 3.91s\tremaining: 7.26s\n",
      "70:\tlearn: 0.7661573\ttotal: 3.95s\tremaining: 7.18s\n",
      "71:\tlearn: 0.7657621\ttotal: 3.99s\tremaining: 7.09s\n",
      "72:\tlearn: 0.7652922\ttotal: 4.03s\tremaining: 7.01s\n",
      "73:\tlearn: 0.7647961\ttotal: 4.09s\tremaining: 6.96s\n",
      "74:\tlearn: 0.7643633\ttotal: 4.14s\tremaining: 6.9s\n",
      "75:\tlearn: 0.7640019\ttotal: 4.21s\tremaining: 6.87s\n",
      "76:\tlearn: 0.7636390\ttotal: 4.3s\tremaining: 6.86s\n",
      "77:\tlearn: 0.7633321\ttotal: 4.36s\tremaining: 6.82s\n",
      "78:\tlearn: 0.7628048\ttotal: 4.43s\tremaining: 6.79s\n",
      "79:\tlearn: 0.7625006\ttotal: 4.47s\tremaining: 6.71s\n",
      "80:\tlearn: 0.7619880\ttotal: 4.53s\tremaining: 6.65s\n",
      "81:\tlearn: 0.7615952\ttotal: 4.58s\tremaining: 6.59s\n",
      "82:\tlearn: 0.7612796\ttotal: 4.64s\tremaining: 6.54s\n",
      "83:\tlearn: 0.7609744\ttotal: 4.72s\tremaining: 6.52s\n",
      "84:\tlearn: 0.7606536\ttotal: 4.8s\tremaining: 6.49s\n",
      "85:\tlearn: 0.7603637\ttotal: 4.86s\tremaining: 6.44s\n",
      "86:\tlearn: 0.7600068\ttotal: 4.9s\tremaining: 6.37s\n",
      "87:\tlearn: 0.7597083\ttotal: 4.96s\tremaining: 6.31s\n",
      "88:\tlearn: 0.7594539\ttotal: 5.02s\tremaining: 6.26s\n",
      "89:\tlearn: 0.7590218\ttotal: 5.08s\tremaining: 6.22s\n",
      "90:\tlearn: 0.7587214\ttotal: 5.15s\tremaining: 6.17s\n",
      "91:\tlearn: 0.7584573\ttotal: 5.21s\tremaining: 6.12s\n",
      "92:\tlearn: 0.7582271\ttotal: 5.29s\tremaining: 6.08s\n",
      "93:\tlearn: 0.7579387\ttotal: 5.34s\tremaining: 6.02s\n",
      "94:\tlearn: 0.7576525\ttotal: 5.38s\tremaining: 5.95s\n",
      "95:\tlearn: 0.7573163\ttotal: 5.43s\tremaining: 5.88s\n",
      "96:\tlearn: 0.7570283\ttotal: 5.52s\tremaining: 5.86s\n",
      "97:\tlearn: 0.7567730\ttotal: 5.62s\tremaining: 5.84s\n",
      "98:\tlearn: 0.7565053\ttotal: 5.71s\tremaining: 5.82s\n",
      "99:\tlearn: 0.7562125\ttotal: 5.77s\tremaining: 5.77s\n",
      "100:\tlearn: 0.7559997\ttotal: 5.81s\tremaining: 5.7s\n",
      "101:\tlearn: 0.7557485\ttotal: 5.85s\tremaining: 5.62s\n",
      "102:\tlearn: 0.7555194\ttotal: 5.89s\tremaining: 5.55s\n",
      "103:\tlearn: 0.7552712\ttotal: 5.93s\tremaining: 5.47s\n",
      "104:\tlearn: 0.7550820\ttotal: 5.97s\tremaining: 5.4s\n",
      "105:\tlearn: 0.7548491\ttotal: 6.02s\tremaining: 5.34s\n",
      "106:\tlearn: 0.7546570\ttotal: 6.07s\tremaining: 5.27s\n",
      "107:\tlearn: 0.7544581\ttotal: 6.11s\tremaining: 5.21s\n",
      "108:\tlearn: 0.7542764\ttotal: 6.15s\tremaining: 5.14s\n",
      "109:\tlearn: 0.7540537\ttotal: 6.2s\tremaining: 5.08s\n",
      "110:\tlearn: 0.7538465\ttotal: 6.25s\tremaining: 5.01s\n",
      "111:\tlearn: 0.7536731\ttotal: 6.3s\tremaining: 4.95s\n",
      "112:\tlearn: 0.7534460\ttotal: 6.33s\tremaining: 4.88s\n",
      "113:\tlearn: 0.7531329\ttotal: 6.38s\tremaining: 4.81s\n",
      "114:\tlearn: 0.7529563\ttotal: 6.41s\tremaining: 4.74s\n",
      "115:\tlearn: 0.7527514\ttotal: 6.45s\tremaining: 4.67s\n",
      "116:\tlearn: 0.7525971\ttotal: 6.52s\tremaining: 4.62s\n",
      "117:\tlearn: 0.7523255\ttotal: 6.57s\tremaining: 4.57s\n",
      "118:\tlearn: 0.7521496\ttotal: 6.61s\tremaining: 4.5s\n",
      "119:\tlearn: 0.7519750\ttotal: 6.65s\tremaining: 4.43s\n",
      "120:\tlearn: 0.7518079\ttotal: 6.69s\tremaining: 4.37s\n",
      "121:\tlearn: 0.7516609\ttotal: 6.78s\tremaining: 4.33s\n",
      "122:\tlearn: 0.7515104\ttotal: 6.85s\tremaining: 4.29s\n",
      "123:\tlearn: 0.7513677\ttotal: 6.91s\tremaining: 4.24s\n",
      "124:\tlearn: 0.7511218\ttotal: 6.99s\tremaining: 4.19s\n",
      "125:\tlearn: 0.7509654\ttotal: 7.05s\tremaining: 4.14s\n",
      "126:\tlearn: 0.7508082\ttotal: 7.1s\tremaining: 4.08s\n",
      "127:\tlearn: 0.7506641\ttotal: 7.15s\tremaining: 4.02s\n",
      "128:\tlearn: 0.7504102\ttotal: 7.2s\tremaining: 3.96s\n",
      "129:\tlearn: 0.7502492\ttotal: 7.27s\tremaining: 3.91s\n",
      "130:\tlearn: 0.7500728\ttotal: 7.32s\tremaining: 3.85s\n",
      "131:\tlearn: 0.7498103\ttotal: 7.36s\tremaining: 3.79s\n",
      "132:\tlearn: 0.7496470\ttotal: 7.43s\tremaining: 3.74s\n",
      "133:\tlearn: 0.7494860\ttotal: 7.51s\tremaining: 3.7s\n",
      "134:\tlearn: 0.7493169\ttotal: 7.59s\tremaining: 3.65s\n",
      "135:\tlearn: 0.7491693\ttotal: 7.65s\tremaining: 3.6s\n",
      "136:\tlearn: 0.7489954\ttotal: 7.7s\tremaining: 3.54s\n",
      "137:\tlearn: 0.7488206\ttotal: 7.74s\tremaining: 3.48s\n",
      "138:\tlearn: 0.7486923\ttotal: 7.77s\tremaining: 3.41s\n",
      "139:\tlearn: 0.7485601\ttotal: 7.81s\tremaining: 3.35s\n",
      "140:\tlearn: 0.7484413\ttotal: 7.85s\tremaining: 3.28s\n",
      "141:\tlearn: 0.7483320\ttotal: 7.9s\tremaining: 3.23s\n",
      "142:\tlearn: 0.7481756\ttotal: 7.94s\tremaining: 3.16s\n",
      "143:\tlearn: 0.7479812\ttotal: 7.98s\tremaining: 3.1s\n",
      "144:\tlearn: 0.7478510\ttotal: 8.02s\tremaining: 3.04s\n",
      "145:\tlearn: 0.7476314\ttotal: 8.06s\tremaining: 2.98s\n",
      "146:\tlearn: 0.7475265\ttotal: 8.1s\tremaining: 2.92s\n",
      "147:\tlearn: 0.7474136\ttotal: 8.14s\tremaining: 2.86s\n",
      "148:\tlearn: 0.7472755\ttotal: 8.19s\tremaining: 2.8s\n",
      "149:\tlearn: 0.7471602\ttotal: 8.24s\tremaining: 2.75s\n",
      "150:\tlearn: 0.7470691\ttotal: 8.28s\tremaining: 2.69s\n",
      "151:\tlearn: 0.7469585\ttotal: 8.33s\tremaining: 2.63s\n",
      "152:\tlearn: 0.7468473\ttotal: 8.39s\tremaining: 2.58s\n",
      "153:\tlearn: 0.7467541\ttotal: 8.47s\tremaining: 2.53s\n",
      "154:\tlearn: 0.7465805\ttotal: 8.56s\tremaining: 2.48s\n",
      "155:\tlearn: 0.7465091\ttotal: 8.66s\tremaining: 2.44s\n",
      "156:\tlearn: 0.7463927\ttotal: 8.73s\tremaining: 2.39s\n",
      "157:\tlearn: 0.7462607\ttotal: 8.86s\tremaining: 2.35s\n",
      "158:\tlearn: 0.7461327\ttotal: 8.95s\tremaining: 2.31s\n",
      "159:\tlearn: 0.7460459\ttotal: 8.99s\tremaining: 2.25s\n",
      "160:\tlearn: 0.7459230\ttotal: 9.03s\tremaining: 2.19s\n",
      "161:\tlearn: 0.7457495\ttotal: 9.07s\tremaining: 2.13s\n",
      "162:\tlearn: 0.7456529\ttotal: 9.12s\tremaining: 2.07s\n"
     ]
    },
    {
     "name": "stdout",
     "output_type": "stream",
     "text": [
      "163:\tlearn: 0.7455445\ttotal: 9.17s\tremaining: 2.01s\n",
      "164:\tlearn: 0.7454683\ttotal: 9.26s\tremaining: 1.96s\n",
      "165:\tlearn: 0.7453850\ttotal: 9.31s\tremaining: 1.91s\n",
      "166:\tlearn: 0.7452979\ttotal: 9.35s\tremaining: 1.85s\n",
      "167:\tlearn: 0.7451806\ttotal: 9.4s\tremaining: 1.79s\n",
      "168:\tlearn: 0.7450085\ttotal: 9.45s\tremaining: 1.73s\n",
      "169:\tlearn: 0.7448863\ttotal: 9.49s\tremaining: 1.67s\n",
      "170:\tlearn: 0.7448014\ttotal: 9.53s\tremaining: 1.62s\n",
      "171:\tlearn: 0.7447110\ttotal: 9.57s\tremaining: 1.56s\n",
      "172:\tlearn: 0.7446168\ttotal: 9.62s\tremaining: 1.5s\n",
      "173:\tlearn: 0.7445200\ttotal: 9.67s\tremaining: 1.44s\n",
      "174:\tlearn: 0.7444351\ttotal: 9.71s\tremaining: 1.39s\n",
      "175:\tlearn: 0.7443600\ttotal: 9.75s\tremaining: 1.33s\n",
      "176:\tlearn: 0.7442480\ttotal: 9.78s\tremaining: 1.27s\n",
      "177:\tlearn: 0.7441861\ttotal: 9.83s\tremaining: 1.21s\n",
      "178:\tlearn: 0.7440655\ttotal: 9.88s\tremaining: 1.16s\n",
      "179:\tlearn: 0.7439422\ttotal: 9.92s\tremaining: 1.1s\n",
      "180:\tlearn: 0.7438605\ttotal: 9.96s\tremaining: 1.04s\n",
      "181:\tlearn: 0.7437873\ttotal: 10s\tremaining: 989ms\n",
      "182:\tlearn: 0.7437056\ttotal: 10s\tremaining: 933ms\n",
      "183:\tlearn: 0.7436168\ttotal: 10.1s\tremaining: 877ms\n",
      "184:\tlearn: 0.7435355\ttotal: 10.1s\tremaining: 821ms\n",
      "185:\tlearn: 0.7434577\ttotal: 10.2s\tremaining: 766ms\n",
      "186:\tlearn: 0.7433215\ttotal: 10.2s\tremaining: 710ms\n",
      "187:\tlearn: 0.7432557\ttotal: 10.3s\tremaining: 655ms\n",
      "188:\tlearn: 0.7431655\ttotal: 10.3s\tremaining: 600ms\n",
      "189:\tlearn: 0.7430480\ttotal: 10.3s\tremaining: 545ms\n",
      "190:\tlearn: 0.7429545\ttotal: 10.4s\tremaining: 489ms\n",
      "191:\tlearn: 0.7428499\ttotal: 10.4s\tremaining: 434ms\n",
      "192:\tlearn: 0.7427771\ttotal: 10.5s\tremaining: 379ms\n",
      "193:\tlearn: 0.7426961\ttotal: 10.5s\tremaining: 325ms\n",
      "194:\tlearn: 0.7426149\ttotal: 10.5s\tremaining: 270ms\n",
      "195:\tlearn: 0.7425576\ttotal: 10.6s\tremaining: 216ms\n",
      "196:\tlearn: 0.7424938\ttotal: 10.6s\tremaining: 162ms\n",
      "197:\tlearn: 0.7424298\ttotal: 10.7s\tremaining: 108ms\n",
      "198:\tlearn: 0.7423291\ttotal: 10.7s\tremaining: 53.9ms\n",
      "199:\tlearn: 0.7422598\ttotal: 10.8s\tremaining: 0us\n",
      "{'depth': 3, 'l2_leaf_reg': 1e-25, 'learning_rate': 0.07, 'loss_function': 'MultiClass', 'n_estimators': 200}\n",
      "CPU times: user 31.7 s, sys: 1.59 s, total: 33.3 s\n",
      "Wall time: 11min 13s\n"
     ]
    }
   ],
   "source": [
    "%%time\n",
    "\n",
    "CAT_hyper_params.fit(X,Y)\n",
    "\n",
    "print(CAT_hyper_params.best_params_)\n",
    "\n",
    "\n",
    "# catclf= CatBoostClassifier(depth= 3,l2_leaf_reg= 1e-25,learning_rate= 0.05,loss_function= 'MultiClass',n_estimators= 200)\n",
    "# catclf.fit(X,Y)"
   ]
  },
  {
   "cell_type": "code",
   "execution_count": null,
   "metadata": {},
   "outputs": [],
   "source": []
  },
  {
   "cell_type": "code",
   "execution_count": null,
   "metadata": {},
   "outputs": [],
   "source": [
    "{'depth': 3, 'l2_leaf_reg': 1e-25, 'learning_rate': 0.07, 'loss_function': 'MultiClass', 'n_estimators': 200}\n",
    "CPU times: user 31.7 s, sys: 1.59 s, total: 33.3 s"
   ]
  },
  {
   "cell_type": "code",
   "execution_count": 306,
   "metadata": {},
   "outputs": [
    {
     "name": "stdout",
     "output_type": "stream",
     "text": [
      "0:\tlearn: 1.0598937\ttotal: 40.3ms\tremaining: 8.03s\n",
      "1:\tlearn: 1.0274036\ttotal: 78.6ms\tremaining: 7.79s\n",
      "2:\tlearn: 0.9997184\ttotal: 117ms\tremaining: 7.68s\n",
      "3:\tlearn: 0.9759962\ttotal: 157ms\tremaining: 7.67s\n",
      "4:\tlearn: 0.9557617\ttotal: 195ms\tremaining: 7.62s\n",
      "5:\tlearn: 0.9379590\ttotal: 235ms\tremaining: 7.58s\n",
      "6:\tlearn: 0.9225479\ttotal: 296ms\tremaining: 8.17s\n",
      "7:\tlearn: 0.9090018\ttotal: 344ms\tremaining: 8.25s\n",
      "8:\tlearn: 0.8972015\ttotal: 384ms\tremaining: 8.14s\n",
      "9:\tlearn: 0.8864577\ttotal: 424ms\tremaining: 8.05s\n",
      "10:\tlearn: 0.8774152\ttotal: 462ms\tremaining: 7.94s\n",
      "11:\tlearn: 0.8689736\ttotal: 507ms\tremaining: 7.95s\n",
      "12:\tlearn: 0.8615217\ttotal: 562ms\tremaining: 8.09s\n",
      "13:\tlearn: 0.8553893\ttotal: 602ms\tremaining: 7.99s\n",
      "14:\tlearn: 0.8491161\ttotal: 642ms\tremaining: 7.91s\n",
      "15:\tlearn: 0.8437042\ttotal: 681ms\tremaining: 7.83s\n",
      "16:\tlearn: 0.8389100\ttotal: 732ms\tremaining: 7.88s\n",
      "17:\tlearn: 0.8346664\ttotal: 783ms\tremaining: 7.92s\n",
      "18:\tlearn: 0.8303049\ttotal: 825ms\tremaining: 7.86s\n",
      "19:\tlearn: 0.8267699\ttotal: 864ms\tremaining: 7.77s\n",
      "20:\tlearn: 0.8235394\ttotal: 902ms\tremaining: 7.69s\n",
      "21:\tlearn: 0.8203794\ttotal: 948ms\tremaining: 7.67s\n",
      "22:\tlearn: 0.8178175\ttotal: 1.01s\tremaining: 7.78s\n",
      "23:\tlearn: 0.8147881\ttotal: 1.1s\tremaining: 8.09s\n",
      "24:\tlearn: 0.8121409\ttotal: 1.17s\tremaining: 8.21s\n",
      "25:\tlearn: 0.8097123\ttotal: 1.24s\tremaining: 8.28s\n",
      "26:\tlearn: 0.8079124\ttotal: 1.3s\tremaining: 8.36s\n",
      "27:\tlearn: 0.8059015\ttotal: 1.35s\tremaining: 8.29s\n",
      "28:\tlearn: 0.8041739\ttotal: 1.4s\tremaining: 8.25s\n",
      "29:\tlearn: 0.8022748\ttotal: 1.45s\tremaining: 8.23s\n",
      "30:\tlearn: 0.8008813\ttotal: 1.49s\tremaining: 8.13s\n",
      "31:\tlearn: 0.7993228\ttotal: 1.53s\tremaining: 8.04s\n",
      "32:\tlearn: 0.7975496\ttotal: 1.57s\tremaining: 7.95s\n",
      "33:\tlearn: 0.7962659\ttotal: 1.62s\tremaining: 7.9s\n",
      "34:\tlearn: 0.7950312\ttotal: 1.67s\tremaining: 7.86s\n",
      "35:\tlearn: 0.7937595\ttotal: 1.71s\tremaining: 7.8s\n",
      "36:\tlearn: 0.7924949\ttotal: 1.75s\tremaining: 7.73s\n",
      "37:\tlearn: 0.7913221\ttotal: 1.79s\tremaining: 7.64s\n",
      "38:\tlearn: 0.7901762\ttotal: 1.83s\tremaining: 7.58s\n",
      "39:\tlearn: 0.7890808\ttotal: 1.89s\tremaining: 7.56s\n",
      "40:\tlearn: 0.7877860\ttotal: 1.93s\tremaining: 7.49s\n",
      "41:\tlearn: 0.7866022\ttotal: 1.97s\tremaining: 7.42s\n",
      "42:\tlearn: 0.7856410\ttotal: 2.01s\tremaining: 7.35s\n",
      "43:\tlearn: 0.7846089\ttotal: 2.06s\tremaining: 7.31s\n",
      "44:\tlearn: 0.7835755\ttotal: 2.11s\tremaining: 7.28s\n",
      "45:\tlearn: 0.7825462\ttotal: 2.15s\tremaining: 7.2s\n",
      "46:\tlearn: 0.7815788\ttotal: 2.19s\tremaining: 7.13s\n",
      "47:\tlearn: 0.7807398\ttotal: 2.23s\tremaining: 7.07s\n",
      "48:\tlearn: 0.7800236\ttotal: 2.28s\tremaining: 7.04s\n",
      "49:\tlearn: 0.7793683\ttotal: 2.34s\tremaining: 7.01s\n",
      "50:\tlearn: 0.7785887\ttotal: 2.4s\tremaining: 7.01s\n",
      "51:\tlearn: 0.7778667\ttotal: 2.46s\tremaining: 7s\n",
      "52:\tlearn: 0.7771503\ttotal: 2.53s\tremaining: 7.03s\n",
      "53:\tlearn: 0.7763111\ttotal: 2.59s\tremaining: 7.01s\n",
      "54:\tlearn: 0.7755819\ttotal: 2.64s\tremaining: 6.95s\n",
      "55:\tlearn: 0.7748082\ttotal: 2.67s\tremaining: 6.88s\n",
      "56:\tlearn: 0.7740130\ttotal: 2.71s\tremaining: 6.81s\n",
      "57:\tlearn: 0.7734737\ttotal: 2.76s\tremaining: 6.77s\n",
      "58:\tlearn: 0.7728644\ttotal: 2.81s\tremaining: 6.72s\n",
      "59:\tlearn: 0.7723356\ttotal: 2.85s\tremaining: 6.66s\n",
      "60:\tlearn: 0.7716540\ttotal: 2.89s\tremaining: 6.59s\n",
      "61:\tlearn: 0.7709890\ttotal: 2.93s\tremaining: 6.52s\n",
      "62:\tlearn: 0.7704250\ttotal: 2.97s\tremaining: 6.46s\n",
      "63:\tlearn: 0.7698414\ttotal: 3.02s\tremaining: 6.43s\n",
      "64:\tlearn: 0.7692676\ttotal: 3.06s\tremaining: 6.37s\n",
      "65:\tlearn: 0.7687389\ttotal: 3.1s\tremaining: 6.3s\n",
      "66:\tlearn: 0.7682875\ttotal: 3.14s\tremaining: 6.24s\n",
      "67:\tlearn: 0.7676207\ttotal: 3.19s\tremaining: 6.2s\n",
      "68:\tlearn: 0.7671912\ttotal: 3.24s\tremaining: 6.15s\n",
      "69:\tlearn: 0.7667383\ttotal: 3.28s\tremaining: 6.09s\n",
      "70:\tlearn: 0.7661573\ttotal: 3.32s\tremaining: 6.03s\n",
      "71:\tlearn: 0.7657621\ttotal: 3.35s\tremaining: 5.96s\n",
      "72:\tlearn: 0.7652922\ttotal: 3.4s\tremaining: 5.92s\n",
      "73:\tlearn: 0.7647961\ttotal: 3.45s\tremaining: 5.88s\n",
      "74:\tlearn: 0.7643633\ttotal: 3.5s\tremaining: 5.83s\n",
      "75:\tlearn: 0.7640019\ttotal: 3.53s\tremaining: 5.77s\n",
      "76:\tlearn: 0.7636390\ttotal: 3.57s\tremaining: 5.71s\n",
      "77:\tlearn: 0.7633321\ttotal: 3.62s\tremaining: 5.66s\n",
      "78:\tlearn: 0.7628048\ttotal: 3.67s\tremaining: 5.62s\n",
      "79:\tlearn: 0.7625006\ttotal: 3.71s\tremaining: 5.56s\n",
      "80:\tlearn: 0.7619880\ttotal: 3.75s\tremaining: 5.5s\n",
      "81:\tlearn: 0.7615952\ttotal: 3.79s\tremaining: 5.45s\n",
      "82:\tlearn: 0.7612796\ttotal: 3.83s\tremaining: 5.39s\n",
      "83:\tlearn: 0.7609744\ttotal: 3.88s\tremaining: 5.36s\n",
      "84:\tlearn: 0.7606536\ttotal: 3.92s\tremaining: 5.31s\n",
      "85:\tlearn: 0.7603637\ttotal: 3.96s\tremaining: 5.25s\n",
      "86:\tlearn: 0.7600068\ttotal: 4s\tremaining: 5.2s\n",
      "87:\tlearn: 0.7597083\ttotal: 4.05s\tremaining: 5.16s\n",
      "88:\tlearn: 0.7594539\ttotal: 4.11s\tremaining: 5.13s\n",
      "89:\tlearn: 0.7590218\ttotal: 4.15s\tremaining: 5.08s\n",
      "90:\tlearn: 0.7587214\ttotal: 4.19s\tremaining: 5.02s\n",
      "91:\tlearn: 0.7584573\ttotal: 4.24s\tremaining: 4.98s\n",
      "92:\tlearn: 0.7582271\ttotal: 4.3s\tremaining: 4.95s\n",
      "93:\tlearn: 0.7579387\ttotal: 4.35s\tremaining: 4.91s\n",
      "94:\tlearn: 0.7576525\ttotal: 4.39s\tremaining: 4.86s\n",
      "95:\tlearn: 0.7573163\ttotal: 4.43s\tremaining: 4.8s\n",
      "96:\tlearn: 0.7570283\ttotal: 4.47s\tremaining: 4.75s\n",
      "97:\tlearn: 0.7567730\ttotal: 4.53s\tremaining: 4.71s\n",
      "98:\tlearn: 0.7565053\ttotal: 4.57s\tremaining: 4.67s\n",
      "99:\tlearn: 0.7562125\ttotal: 4.61s\tremaining: 4.61s\n",
      "100:\tlearn: 0.7559997\ttotal: 4.65s\tremaining: 4.56s\n",
      "101:\tlearn: 0.7557485\ttotal: 4.69s\tremaining: 4.5s\n",
      "102:\tlearn: 0.7555194\ttotal: 4.73s\tremaining: 4.45s\n",
      "103:\tlearn: 0.7552712\ttotal: 4.78s\tremaining: 4.41s\n",
      "104:\tlearn: 0.7550820\ttotal: 4.83s\tremaining: 4.37s\n",
      "105:\tlearn: 0.7548491\ttotal: 4.86s\tremaining: 4.31s\n",
      "106:\tlearn: 0.7546570\ttotal: 4.9s\tremaining: 4.26s\n",
      "107:\tlearn: 0.7544581\ttotal: 4.95s\tremaining: 4.21s\n",
      "108:\tlearn: 0.7542764\ttotal: 5.01s\tremaining: 4.18s\n",
      "109:\tlearn: 0.7540537\ttotal: 5.08s\tremaining: 4.16s\n",
      "110:\tlearn: 0.7538465\ttotal: 5.14s\tremaining: 4.12s\n",
      "111:\tlearn: 0.7536731\ttotal: 5.19s\tremaining: 4.08s\n",
      "112:\tlearn: 0.7534460\ttotal: 5.23s\tremaining: 4.03s\n",
      "113:\tlearn: 0.7531329\ttotal: 5.27s\tremaining: 3.98s\n",
      "114:\tlearn: 0.7529563\ttotal: 5.31s\tremaining: 3.92s\n",
      "115:\tlearn: 0.7527514\ttotal: 5.35s\tremaining: 3.87s\n",
      "116:\tlearn: 0.7525971\ttotal: 5.4s\tremaining: 3.83s\n",
      "117:\tlearn: 0.7523255\ttotal: 5.48s\tremaining: 3.81s\n",
      "118:\tlearn: 0.7521496\ttotal: 5.51s\tremaining: 3.75s\n",
      "119:\tlearn: 0.7519750\ttotal: 5.55s\tremaining: 3.7s\n",
      "120:\tlearn: 0.7518079\ttotal: 5.59s\tremaining: 3.65s\n",
      "121:\tlearn: 0.7516609\ttotal: 5.64s\tremaining: 3.61s\n",
      "122:\tlearn: 0.7515104\ttotal: 5.68s\tremaining: 3.56s\n",
      "123:\tlearn: 0.7513677\ttotal: 5.72s\tremaining: 3.51s\n",
      "124:\tlearn: 0.7511218\ttotal: 5.76s\tremaining: 3.46s\n",
      "125:\tlearn: 0.7509654\ttotal: 5.8s\tremaining: 3.41s\n",
      "126:\tlearn: 0.7508082\ttotal: 5.84s\tremaining: 3.36s\n",
      "127:\tlearn: 0.7506641\ttotal: 5.92s\tremaining: 3.33s\n",
      "128:\tlearn: 0.7504102\ttotal: 6s\tremaining: 3.31s\n",
      "129:\tlearn: 0.7502492\ttotal: 6.09s\tremaining: 3.28s\n",
      "130:\tlearn: 0.7500728\ttotal: 6.18s\tremaining: 3.26s\n",
      "131:\tlearn: 0.7498103\ttotal: 6.23s\tremaining: 3.21s\n",
      "132:\tlearn: 0.7496470\ttotal: 6.27s\tremaining: 3.16s\n",
      "133:\tlearn: 0.7494860\ttotal: 6.32s\tremaining: 3.11s\n",
      "134:\tlearn: 0.7493169\ttotal: 6.36s\tremaining: 3.06s\n",
      "135:\tlearn: 0.7491693\ttotal: 6.4s\tremaining: 3.01s\n",
      "136:\tlearn: 0.7489954\ttotal: 6.45s\tremaining: 2.97s\n",
      "137:\tlearn: 0.7488206\ttotal: 6.49s\tremaining: 2.92s\n",
      "138:\tlearn: 0.7486923\ttotal: 6.53s\tremaining: 2.87s\n",
      "139:\tlearn: 0.7485601\ttotal: 6.57s\tremaining: 2.81s\n",
      "140:\tlearn: 0.7484413\ttotal: 6.61s\tremaining: 2.76s\n",
      "141:\tlearn: 0.7483320\ttotal: 6.66s\tremaining: 2.72s\n",
      "142:\tlearn: 0.7481756\ttotal: 6.7s\tremaining: 2.67s\n",
      "143:\tlearn: 0.7479812\ttotal: 6.74s\tremaining: 2.62s\n",
      "144:\tlearn: 0.7478510\ttotal: 6.77s\tremaining: 2.57s\n",
      "145:\tlearn: 0.7476314\ttotal: 6.82s\tremaining: 2.52s\n",
      "146:\tlearn: 0.7475265\ttotal: 6.88s\tremaining: 2.48s\n",
      "147:\tlearn: 0.7474136\ttotal: 6.92s\tremaining: 2.43s\n",
      "148:\tlearn: 0.7472755\ttotal: 6.97s\tremaining: 2.38s\n",
      "149:\tlearn: 0.7471602\ttotal: 7s\tremaining: 2.33s\n",
      "150:\tlearn: 0.7470691\ttotal: 7.06s\tremaining: 2.29s\n",
      "151:\tlearn: 0.7469585\ttotal: 7.11s\tremaining: 2.25s\n",
      "152:\tlearn: 0.7468473\ttotal: 7.16s\tremaining: 2.2s\n",
      "153:\tlearn: 0.7467541\ttotal: 7.22s\tremaining: 2.15s\n",
      "154:\tlearn: 0.7465805\ttotal: 7.3s\tremaining: 2.12s\n",
      "155:\tlearn: 0.7465091\ttotal: 7.39s\tremaining: 2.08s\n",
      "156:\tlearn: 0.7463927\ttotal: 7.46s\tremaining: 2.04s\n",
      "157:\tlearn: 0.7462607\ttotal: 7.5s\tremaining: 1.99s\n",
      "158:\tlearn: 0.7461327\ttotal: 7.55s\tremaining: 1.95s\n",
      "159:\tlearn: 0.7460459\ttotal: 7.59s\tremaining: 1.9s\n",
      "160:\tlearn: 0.7459230\ttotal: 7.64s\tremaining: 1.85s\n",
      "161:\tlearn: 0.7457495\ttotal: 7.68s\tremaining: 1.8s\n",
      "162:\tlearn: 0.7456529\ttotal: 7.74s\tremaining: 1.75s\n"
     ]
    },
    {
     "name": "stdout",
     "output_type": "stream",
     "text": [
      "163:\tlearn: 0.7455445\ttotal: 7.8s\tremaining: 1.71s\n",
      "164:\tlearn: 0.7454683\ttotal: 7.85s\tremaining: 1.67s\n",
      "165:\tlearn: 0.7453850\ttotal: 7.92s\tremaining: 1.62s\n",
      "166:\tlearn: 0.7452979\ttotal: 7.99s\tremaining: 1.58s\n",
      "167:\tlearn: 0.7451806\ttotal: 8.04s\tremaining: 1.53s\n",
      "168:\tlearn: 0.7450085\ttotal: 8.09s\tremaining: 1.48s\n",
      "169:\tlearn: 0.7448863\ttotal: 8.13s\tremaining: 1.44s\n",
      "170:\tlearn: 0.7448014\ttotal: 8.18s\tremaining: 1.39s\n",
      "171:\tlearn: 0.7447110\ttotal: 8.22s\tremaining: 1.34s\n",
      "172:\tlearn: 0.7446168\ttotal: 8.26s\tremaining: 1.29s\n",
      "173:\tlearn: 0.7445200\ttotal: 8.31s\tremaining: 1.24s\n",
      "174:\tlearn: 0.7444351\ttotal: 8.36s\tremaining: 1.19s\n",
      "175:\tlearn: 0.7443600\ttotal: 8.41s\tremaining: 1.15s\n",
      "176:\tlearn: 0.7442480\ttotal: 8.45s\tremaining: 1.1s\n",
      "177:\tlearn: 0.7441861\ttotal: 8.5s\tremaining: 1.05s\n",
      "178:\tlearn: 0.7440655\ttotal: 8.54s\tremaining: 1s\n",
      "179:\tlearn: 0.7439422\ttotal: 8.58s\tremaining: 954ms\n",
      "180:\tlearn: 0.7438605\ttotal: 8.62s\tremaining: 905ms\n",
      "181:\tlearn: 0.7437873\ttotal: 8.66s\tremaining: 857ms\n",
      "182:\tlearn: 0.7437056\ttotal: 8.72s\tremaining: 810ms\n",
      "183:\tlearn: 0.7436168\ttotal: 8.77s\tremaining: 763ms\n",
      "184:\tlearn: 0.7435355\ttotal: 8.81s\tremaining: 715ms\n",
      "185:\tlearn: 0.7434577\ttotal: 8.85s\tremaining: 666ms\n",
      "186:\tlearn: 0.7433215\ttotal: 8.91s\tremaining: 619ms\n",
      "187:\tlearn: 0.7432557\ttotal: 8.96s\tremaining: 572ms\n",
      "188:\tlearn: 0.7431655\ttotal: 9s\tremaining: 524ms\n",
      "189:\tlearn: 0.7430480\ttotal: 9.04s\tremaining: 476ms\n",
      "190:\tlearn: 0.7429545\ttotal: 9.08s\tremaining: 428ms\n",
      "191:\tlearn: 0.7428499\ttotal: 9.12s\tremaining: 380ms\n",
      "192:\tlearn: 0.7427771\ttotal: 9.16s\tremaining: 332ms\n",
      "193:\tlearn: 0.7426961\ttotal: 9.21s\tremaining: 285ms\n",
      "194:\tlearn: 0.7426149\ttotal: 9.25s\tremaining: 237ms\n",
      "195:\tlearn: 0.7425576\ttotal: 9.29s\tremaining: 190ms\n",
      "196:\tlearn: 0.7424938\ttotal: 9.34s\tremaining: 142ms\n",
      "197:\tlearn: 0.7424298\ttotal: 9.39s\tremaining: 94.8ms\n",
      "198:\tlearn: 0.7423291\ttotal: 9.46s\tremaining: 47.6ms\n",
      "199:\tlearn: 0.7422598\ttotal: 9.51s\tremaining: 0us\n"
     ]
    },
    {
     "data": {
      "text/plain": [
       "<catboost.core.CatBoostClassifier at 0x7f1a68bbd550>"
      ]
     },
     "execution_count": 306,
     "metadata": {},
     "output_type": "execute_result"
    }
   ],
   "source": [
    "catclf= CatBoostClassifier(depth= 3,l2_leaf_reg= 1e-25,learning_rate= 0.07,loss_function= 'MultiClass',n_estimators= 200)\n",
    "\n",
    "\n",
    "\n",
    "catclf.fit(X,Y)"
   ]
  },
  {
   "cell_type": "code",
   "execution_count": 307,
   "metadata": {},
   "outputs": [],
   "source": [
    "y_pred_final = catclf.predict(df3_test)"
   ]
  },
  {
   "cell_type": "code",
   "execution_count": null,
   "metadata": {},
   "outputs": [],
   "source": []
  },
  {
   "cell_type": "code",
   "execution_count": null,
   "metadata": {},
   "outputs": [],
   "source": []
  },
  {
   "cell_type": "code",
   "execution_count": null,
   "metadata": {},
   "outputs": [],
   "source": []
  },
  {
   "cell_type": "code",
   "execution_count": 266,
   "metadata": {},
   "outputs": [],
   "source": [
    "y_pred_final = lgbclf.predict(df3_test)"
   ]
  },
  {
   "cell_type": "code",
   "execution_count": null,
   "metadata": {},
   "outputs": [],
   "source": []
  },
  {
   "cell_type": "code",
   "execution_count": 238,
   "metadata": {},
   "outputs": [],
   "source": [
    "# model_final = XGBClassifier(\n",
    "#  learning_rate =0.1,\n",
    "#  n_estimators=1000,\n",
    "#  max_depth=5,\n",
    "#  min_child_weight=1,\n",
    "#  gamma=0,\n",
    "#  subsample=0.8,\n",
    "#  colsample_bytree=0.8,\n",
    "#  objective= 'multi:softmax',\n",
    "#  nthread=4,\n",
    "#  scale_pos_weight=1,\n",
    "#  num_classes=3,\n",
    "#  seed=27)\n",
    "\n",
    "model_final = XGBClassifier(max_depth=5, objective='multi:softmax', num_classes=3)\n",
    "\n",
    "\n",
    "model_final.fit(X, Y)\n",
    "\n",
    "y_pred_final = model_final.predict(df3_test)"
   ]
  },
  {
   "cell_type": "code",
   "execution_count": 239,
   "metadata": {},
   "outputs": [
    {
     "data": {
      "text/plain": [
       "'hi'"
      ]
     },
     "execution_count": 239,
     "metadata": {},
     "output_type": "execute_result"
    }
   ],
   "source": [
    "\"hi\""
   ]
  },
  {
   "cell_type": "code",
   "execution_count": 308,
   "metadata": {},
   "outputs": [
    {
     "name": "stdout",
     "output_type": "stream",
     "text": [
      "(87395, 13) (87395, 2) 87395\n",
      "[1 2 2 ... 1 2 2]\n",
      "(87395, 2)\n"
     ]
    },
    {
     "data": {
      "text/html": [
       "<div>\n",
       "<style scoped>\n",
       "    .dataframe tbody tr th:only-of-type {\n",
       "        vertical-align: middle;\n",
       "    }\n",
       "\n",
       "    .dataframe tbody tr th {\n",
       "        vertical-align: top;\n",
       "    }\n",
       "\n",
       "    .dataframe thead th {\n",
       "        text-align: right;\n",
       "    }\n",
       "</style>\n",
       "<table border=\"1\" class=\"dataframe\">\n",
       "  <thead>\n",
       "    <tr style=\"text-align: right;\">\n",
       "      <th></th>\n",
       "      <th>Trip_ID</th>\n",
       "      <th>Surge_Pricing_Type</th>\n",
       "    </tr>\n",
       "  </thead>\n",
       "  <tbody>\n",
       "    <tr>\n",
       "      <th>0</th>\n",
       "      <td>T0005689459</td>\n",
       "      <td>1</td>\n",
       "    </tr>\n",
       "    <tr>\n",
       "      <th>1</th>\n",
       "      <td>T0005689462</td>\n",
       "      <td>2</td>\n",
       "    </tr>\n",
       "    <tr>\n",
       "      <th>2</th>\n",
       "      <td>T0005689463</td>\n",
       "      <td>2</td>\n",
       "    </tr>\n",
       "  </tbody>\n",
       "</table>\n",
       "</div>"
      ],
      "text/plain": [
       "       Trip_ID  Surge_Pricing_Type\n",
       "0  T0005689459                   1\n",
       "1  T0005689462                   2\n",
       "2  T0005689463                   2"
      ]
     },
     "execution_count": 308,
     "metadata": {},
     "output_type": "execute_result"
    }
   ],
   "source": [
    "submission_1 = submission.copy()\n",
    "\n",
    "print(df_test.shape , submission.shape , len(y_pred_final))\n",
    "\n",
    "submission_1[\"Surge_Pricing_Type\"] = y_pred_final\n",
    "\n",
    "print(submission_1[\"Surge_Pricing_Type\"].values)\n",
    "\n",
    "\n",
    "submission_1.to_csv('XGBoost_final_17.csv', index=False)\n",
    "\n",
    "df_submission_1 = pd.read_csv('XGBoost_final_17.csv')\n",
    "\n",
    "print(df_submission_1.shape)\n",
    "\n",
    "df_submission_1.head(3)"
   ]
  },
  {
   "cell_type": "code",
   "execution_count": null,
   "metadata": {},
   "outputs": [],
   "source": []
  },
  {
   "cell_type": "code",
   "execution_count": null,
   "metadata": {},
   "outputs": [],
   "source": []
  },
  {
   "cell_type": "code",
   "execution_count": null,
   "metadata": {},
   "outputs": [],
   "source": []
  },
  {
   "cell_type": "code",
   "execution_count": 65,
   "metadata": {},
   "outputs": [
    {
     "name": "stdout",
     "output_type": "stream",
     "text": [
      "109.23 0.31 44.20090853853045\n",
      "10.0 0.0 6.016661099712109\n",
      "4.87511 1.59638 2.8020639999461827\n",
      "5.0 0.00125 2.849457958636489\n"
     ]
    }
   ],
   "source": [
    "print( df[\"Trip_Distance\"].max() , df[\"Trip_Distance\"].min() , df[\"Trip_Distance\"].mean())\n",
    "\n",
    "print( df[\"Customer_Since_Months\"].max() , df[\"Customer_Since_Months\"].min() , df[\"Customer_Since_Months\"].mean())\n",
    "\n",
    "print( df[\"Life_Style_Index\"].max() , df[\"Life_Style_Index\"].min() , df[\"Life_Style_Index\"].mean())\n",
    "\n",
    "print( df[\"Customer_Rating\"].max() , df[\"Customer_Rating\"].min() , df[\"Customer_Rating\"].mean())\n"
   ]
  },
  {
   "cell_type": "code",
   "execution_count": null,
   "metadata": {},
   "outputs": [],
   "source": []
  },
  {
   "cell_type": "code",
   "execution_count": null,
   "metadata": {},
   "outputs": [],
   "source": []
  },
  {
   "cell_type": "code",
   "execution_count": 161,
   "metadata": {},
   "outputs": [],
   "source": [
    "def get_accuracy(y_train_val , y_pred_val , dataset_type = \"Default\"):\n",
    "    \n",
    "    print(\" Dataset type is : \", dataset_type)\n",
    "    \n",
    "    print(\"\\n Accuracy Score     : \",round(accuracy_score(y_train_val, y_pred_val), 4) * 100)\n",
    "    \n",
    "    print(\"\\n precision_accuracy : \",round(precision_score(y_train_val, y_pred_val), 4) * 100)\n",
    " \n",
    "    print(\"\\n recall_accuracy    : \",round(recall_score(y_train_val, y_pred_val), 4) * 100)\n",
    "    \n",
    "    print(\"\\n roc_auc_accuracy   : \",round(roc_auc_score(y_train_val, y_pred_val), 4) * 100)\n",
    "    \n",
    "    print(\"\\n f1_score_accuracy  : \",round(f1_score(y_train_val, y_pred_val), 4) * 100)\n",
    "    \n",
    "    print(\"\\n explained_variance  : \",round(explained_variance_score(y_train_val, y_pred_val), 4) * 100)\n",
    "    \n",
    "    tn, fp, fn, tp = confusion_matrix(y_train_val, y_pred_val).ravel()\n",
    "    \n",
    "    print(\"\\n Confusion Matrix TN : \", tn, \" FP : \", fp, \" FN : \", fn, \" TP : \", tp)"
   ]
  },
  {
   "cell_type": "code",
   "execution_count": null,
   "metadata": {},
   "outputs": [],
   "source": []
  },
  {
   "cell_type": "code",
   "execution_count": 162,
   "metadata": {},
   "outputs": [],
   "source": [
    "\n",
    "rows=[]\n",
    "\n",
    "def addRandomStateForAlgorithm(x,y,names,algorithms,columns_name,random_state_list):    \n",
    "    for j in range(len(algorithms)):\n",
    "        model = algorithms[j]\n",
    "        for i in random_state_list:\n",
    "            \n",
    "            x_train, x_test , y_train , y_test = train_test_split(x ,y , test_size = 0.30 , random_state = i)\n",
    "            \n",
    "            model.fit(x_train,y_train)\n",
    "            \n",
    "            y_pred_train = model.predict(x_train)\n",
    "            y_pred = model.predict(x_test)\n",
    "            \n",
    "            train_acc = accuracy_score(y_train, y_pred_train)\n",
    "            train_acc = round(train_acc, 4) * 100\n",
    "            \n",
    "            test_acc = accuracy_score(y_test, y_pred)\n",
    "            test_acc = round(test_acc, 4) * 100\n",
    "            \n",
    "#             roc_auc_score_acc = roc_auc_score(y_test, y_pred)\n",
    "#             roc_auc_score_acc = round(roc_auc_score_acc, 4) * 100\n",
    "            \n",
    "\n",
    "#             row = [names[j],   i,   train_acc, test_acc, roc_auc_score_acc]\n",
    "            row = [names[j],   i,   train_acc, test_acc]\n",
    "    \n",
    "            rows.append(row)\n",
    "            \n",
    "    models_df = pd.DataFrame(rows) \n",
    "    \n",
    "    models_df.columns = columns_name\n",
    "    print(models_df)\n",
    "    "
   ]
  },
  {
   "cell_type": "code",
   "execution_count": null,
   "metadata": {},
   "outputs": [],
   "source": []
  },
  {
   "cell_type": "code",
   "execution_count": null,
   "metadata": {},
   "outputs": [],
   "source": []
  },
  {
   "cell_type": "code",
   "execution_count": null,
   "metadata": {},
   "outputs": [],
   "source": []
  },
  {
   "cell_type": "code",
   "execution_count": 163,
   "metadata": {},
   "outputs": [
    {
     "name": "stdout",
     "output_type": "stream",
     "text": [
      "           Model  Random_state  Train_acc  Test_acc\n",
      "0  XGBClassifier             1      70.68     70.01\n"
     ]
    }
   ],
   "source": [
    "   \n",
    "# names_regression = [ \"LightGBM\", \"RF\", \"XGBoost\" , \"SVM\"]\n",
    "algorithms = [ LGBMClassifier(  ), RandomForestClassifier(), XGBClassifier(), SVC()]\n",
    "\n",
    "# columns_name = [\"Model\",    \"Random_state\",   'Train_acc',     \"Test_acc\" , \"roc_auc_score\"]\n",
    "\n",
    "names_regression = [ \"XGBClassifier\"]\n",
    "algorithms = [ XGBClassifier(max_depth=5, objective='multi:softmax', num_classes=3)]\n",
    "\n",
    "columns_name = [\"Model\",    \"Random_state\",   'Train_acc',     \"Test_acc\" ]\n",
    "\n",
    "\n",
    "random_state_list_up_to_10 = [1]\n",
    "\n",
    "\n",
    "addRandomStateForAlgorithm(X,Y,names_regression,algorithms,columns_name,random_state_list_up_to_10)"
   ]
  },
  {
   "cell_type": "code",
   "execution_count": 67,
   "metadata": {},
   "outputs": [],
   "source": []
  },
  {
   "cell_type": "code",
   "execution_count": null,
   "metadata": {},
   "outputs": [],
   "source": []
  },
  {
   "cell_type": "code",
   "execution_count": null,
   "metadata": {},
   "outputs": [],
   "source": []
  },
  {
   "cell_type": "code",
   "execution_count": 69,
   "metadata": {},
   "outputs": [
    {
     "name": "stdout",
     "output_type": "stream",
     "text": [
      "(87395, 13) (87395, 2) 87395\n",
      "[1 2 2 ... 1 2 2]\n",
      "(87395, 2)\n"
     ]
    },
    {
     "data": {
      "text/html": [
       "<div>\n",
       "<style scoped>\n",
       "    .dataframe tbody tr th:only-of-type {\n",
       "        vertical-align: middle;\n",
       "    }\n",
       "\n",
       "    .dataframe tbody tr th {\n",
       "        vertical-align: top;\n",
       "    }\n",
       "\n",
       "    .dataframe thead th {\n",
       "        text-align: right;\n",
       "    }\n",
       "</style>\n",
       "<table border=\"1\" class=\"dataframe\">\n",
       "  <thead>\n",
       "    <tr style=\"text-align: right;\">\n",
       "      <th></th>\n",
       "      <th>Trip_ID</th>\n",
       "      <th>Surge_Pricing_Type</th>\n",
       "    </tr>\n",
       "  </thead>\n",
       "  <tbody>\n",
       "    <tr>\n",
       "      <th>0</th>\n",
       "      <td>T0005689459</td>\n",
       "      <td>1</td>\n",
       "    </tr>\n",
       "    <tr>\n",
       "      <th>1</th>\n",
       "      <td>T0005689462</td>\n",
       "      <td>2</td>\n",
       "    </tr>\n",
       "    <tr>\n",
       "      <th>2</th>\n",
       "      <td>T0005689463</td>\n",
       "      <td>2</td>\n",
       "    </tr>\n",
       "  </tbody>\n",
       "</table>\n",
       "</div>"
      ],
      "text/plain": [
       "       Trip_ID  Surge_Pricing_Type\n",
       "0  T0005689459                   1\n",
       "1  T0005689462                   2\n",
       "2  T0005689463                   2"
      ]
     },
     "execution_count": 69,
     "metadata": {},
     "output_type": "execute_result"
    }
   ],
   "source": [
    "\n"
   ]
  },
  {
   "cell_type": "code",
   "execution_count": 100,
   "metadata": {},
   "outputs": [],
   "source": [
    "#train : train is a dataset"
   ]
  },
  {
   "cell_type": "code",
   "execution_count": 101,
   "metadata": {},
   "outputs": [],
   "source": [
    "#Dataset : train & test\n"
   ]
  },
  {
   "cell_type": "code",
   "execution_count": 103,
   "metadata": {},
   "outputs": [
    {
     "data": {
      "text/plain": [
       "Index(['Trip_ID', 'Trip_Distance', 'Type_of_Cab', 'Customer_Since_Months',\n",
       "       'Life_Style_Index', 'Confidence_Life_Style_Index', 'Destination_Type',\n",
       "       'Customer_Rating', 'Cancellation_Last_1Month', 'Var1', 'Var2', 'Var3',\n",
       "       'Gender', 'Surge_Pricing_Type'],\n",
       "      dtype='object')"
      ]
     },
     "execution_count": 103,
     "metadata": {},
     "output_type": "execute_result"
    }
   ],
   "source": [
    "df.columns"
   ]
  },
  {
   "cell_type": "code",
   "execution_count": 104,
   "metadata": {},
   "outputs": [
    {
     "data": {
      "text/plain": [
       "Counter({2: 56728, 3: 47720, 1: 27214})"
      ]
     },
     "execution_count": 104,
     "metadata": {},
     "output_type": "execute_result"
    }
   ],
   "source": [
    "Counter(df.Surge_Pricing_Type)"
   ]
  },
  {
   "cell_type": "code",
   "execution_count": 109,
   "metadata": {},
   "outputs": [
    {
     "data": {
      "text/plain": [
       "((87395, 12), (44267, 12))"
      ]
     },
     "execution_count": 109,
     "metadata": {},
     "output_type": "execute_result"
    }
   ],
   "source": [
    "df3[0:87395].shape  , df3[87395 : ].shape"
   ]
  },
  {
   "cell_type": "code",
   "execution_count": 141,
   "metadata": {},
   "outputs": [],
   "source": [
    "def majority_imbalanced_dataset(dataset, target_col):\n",
    "    feature_columns = dataset.columns.tolist()\n",
    "    feature_columns = [c for c in feature_columns if c not in [target_col]]\n",
    "\n",
    "    X2 = dataset[feature_columns]\n",
    "    Y2 = dataset[target_col]\n",
    "\n",
    "    os =  RandomOverSampler(random_state=35)\n",
    "    X_feature_variables , y_output = os.fit_sample(X2, Y2)\n",
    "    \n",
    "    return X_feature_variables , y_output"
   ]
  },
  {
   "cell_type": "code",
   "execution_count": 142,
   "metadata": {},
   "outputs": [],
   "source": [
    "X_feature_variables1 , y_output1 = majority_imbalanced_dataset(df3, \"Surge_Pricing_Type\")"
   ]
  },
  {
   "cell_type": "code",
   "execution_count": 143,
   "metadata": {},
   "outputs": [],
   "source": [
    "df10 = X_feature_variables1.copy()"
   ]
  },
  {
   "cell_type": "code",
   "execution_count": 145,
   "metadata": {},
   "outputs": [],
   "source": [
    "df10[\"Surge_Pricing_Type\"] = y_output1"
   ]
  },
  {
   "cell_type": "code",
   "execution_count": 146,
   "metadata": {},
   "outputs": [
    {
     "data": {
      "text/html": [
       "<div>\n",
       "<style scoped>\n",
       "    .dataframe tbody tr th:only-of-type {\n",
       "        vertical-align: middle;\n",
       "    }\n",
       "\n",
       "    .dataframe tbody tr th {\n",
       "        vertical-align: top;\n",
       "    }\n",
       "\n",
       "    .dataframe thead th {\n",
       "        text-align: right;\n",
       "    }\n",
       "</style>\n",
       "<table border=\"1\" class=\"dataframe\">\n",
       "  <thead>\n",
       "    <tr style=\"text-align: right;\">\n",
       "      <th></th>\n",
       "      <th>Trip_Distance</th>\n",
       "      <th>Type_of_Cab</th>\n",
       "      <th>Customer_Since_Months</th>\n",
       "      <th>Life_Style_Index</th>\n",
       "      <th>Confidence_Life_Style_Index</th>\n",
       "      <th>Destination_Type</th>\n",
       "      <th>Customer_Rating</th>\n",
       "      <th>Cancellation_Last_1Month</th>\n",
       "      <th>Var2</th>\n",
       "      <th>Var3</th>\n",
       "      <th>Gender</th>\n",
       "      <th>Surge_Pricing_Type</th>\n",
       "    </tr>\n",
       "  </thead>\n",
       "  <tbody>\n",
       "    <tr>\n",
       "      <th>0</th>\n",
       "      <td>-1.466568</td>\n",
       "      <td>1</td>\n",
       "      <td>-1.415378</td>\n",
       "      <td>-1.801959e+00</td>\n",
       "      <td>0</td>\n",
       "      <td>0</td>\n",
       "      <td>1.076346</td>\n",
       "      <td>0</td>\n",
       "      <td>-1.043456</td>\n",
       "      <td>-1.304086</td>\n",
       "      <td>0</td>\n",
       "      <td>2</td>\n",
       "    </tr>\n",
       "    <tr>\n",
       "      <th>1</th>\n",
       "      <td>-0.577167</td>\n",
       "      <td>1</td>\n",
       "      <td>1.123841</td>\n",
       "      <td>-9.440728e-02</td>\n",
       "      <td>1</td>\n",
       "      <td>0</td>\n",
       "      <td>0.612378</td>\n",
       "      <td>0</td>\n",
       "      <td>0.962110</td>\n",
       "      <td>0.250555</td>\n",
       "      <td>1</td>\n",
       "      <td>2</td>\n",
       "    </tr>\n",
       "    <tr>\n",
       "      <th>2</th>\n",
       "      <td>-0.102689</td>\n",
       "      <td>1</td>\n",
       "      <td>1.123841</td>\n",
       "      <td>3.633778e-14</td>\n",
       "      <td>1</td>\n",
       "      <td>4</td>\n",
       "      <td>0.664638</td>\n",
       "      <td>2</td>\n",
       "      <td>0.962110</td>\n",
       "      <td>0.164186</td>\n",
       "      <td>1</td>\n",
       "      <td>2</td>\n",
       "    </tr>\n",
       "    <tr>\n",
       "      <th>3</th>\n",
       "      <td>0.680141</td>\n",
       "      <td>2</td>\n",
       "      <td>1.123841</td>\n",
       "      <td>3.633778e-14</td>\n",
       "      <td>1</td>\n",
       "      <td>0</td>\n",
       "      <td>0.616202</td>\n",
       "      <td>0</td>\n",
       "      <td>0.159884</td>\n",
       "      <td>-0.094921</td>\n",
       "      <td>1</td>\n",
       "      <td>3</td>\n",
       "    </tr>\n",
       "    <tr>\n",
       "      <th>4</th>\n",
       "      <td>0.421157</td>\n",
       "      <td>2</td>\n",
       "      <td>1.123841</td>\n",
       "      <td>1.118919e+00</td>\n",
       "      <td>1</td>\n",
       "      <td>0</td>\n",
       "      <td>0.563942</td>\n",
       "      <td>4</td>\n",
       "      <td>-0.441786</td>\n",
       "      <td>2.323410</td>\n",
       "      <td>1</td>\n",
       "      <td>2</td>\n",
       "    </tr>\n",
       "  </tbody>\n",
       "</table>\n",
       "</div>"
      ],
      "text/plain": [
       "   Trip_Distance  Type_of_Cab  Customer_Since_Months  Life_Style_Index  \\\n",
       "0      -1.466568            1              -1.415378     -1.801959e+00   \n",
       "1      -0.577167            1               1.123841     -9.440728e-02   \n",
       "2      -0.102689            1               1.123841      3.633778e-14   \n",
       "3       0.680141            2               1.123841      3.633778e-14   \n",
       "4       0.421157            2               1.123841      1.118919e+00   \n",
       "\n",
       "   Confidence_Life_Style_Index  Destination_Type  Customer_Rating  \\\n",
       "0                            0                 0         1.076346   \n",
       "1                            1                 0         0.612378   \n",
       "2                            1                 4         0.664638   \n",
       "3                            1                 0         0.616202   \n",
       "4                            1                 0         0.563942   \n",
       "\n",
       "   Cancellation_Last_1Month      Var2      Var3  Gender  Surge_Pricing_Type  \n",
       "0                         0 -1.043456 -1.304086       0                   2  \n",
       "1                         0  0.962110  0.250555       1                   2  \n",
       "2                         2  0.962110  0.164186       1                   2  \n",
       "3                         0  0.159884 -0.094921       1                   3  \n",
       "4                         4 -0.441786  2.323410       1                   2  "
      ]
     },
     "execution_count": 146,
     "metadata": {},
     "output_type": "execute_result"
    }
   ],
   "source": [
    "df10.head()"
   ]
  },
  {
   "cell_type": "code",
   "execution_count": 148,
   "metadata": {},
   "outputs": [
    {
     "data": {
      "text/plain": [
       "((170184, 12), (131662, 12))"
      ]
     },
     "execution_count": 148,
     "metadata": {},
     "output_type": "execute_result"
    }
   ],
   "source": [
    "df10.shape , df3.shape"
   ]
  },
  {
   "cell_type": "code",
   "execution_count": 162,
   "metadata": {},
   "outputs": [],
   "source": [
    "new_test = df10[0:87395]\n",
    "\n",
    "new_train = df10[87395 : ] "
   ]
  },
  {
   "cell_type": "code",
   "execution_count": 163,
   "metadata": {},
   "outputs": [],
   "source": [
    "x1_train = new_train.iloc[:, :-1]\n",
    "y1_train = new_train.iloc[:, -1]"
   ]
  },
  {
   "cell_type": "code",
   "execution_count": 164,
   "metadata": {},
   "outputs": [],
   "source": [
    "x1_test = new_test.iloc[:, :-1]\n",
    "y1_test = new_test.iloc[:, -1]"
   ]
  },
  {
   "cell_type": "code",
   "execution_count": null,
   "metadata": {},
   "outputs": [],
   "source": []
  },
  {
   "cell_type": "code",
   "execution_count": 152,
   "metadata": {},
   "outputs": [],
   "source": [
    "model_final = XGBClassifier(max_depth=5, objective='multi:softmax', num_classes=3)\n",
    "\n",
    "\n",
    "model_final.fit(x1_train, y1_train)\n",
    "\n",
    "\n",
    "y_pred_final_new_train = model_final.predict(x1_train)\n",
    "\n",
    "# y_pred_final_new_test = model_final.predict(x1_test)"
   ]
  },
  {
   "cell_type": "code",
   "execution_count": null,
   "metadata": {},
   "outputs": [],
   "source": []
  },
  {
   "cell_type": "code",
   "execution_count": 166,
   "metadata": {},
   "outputs": [
    {
     "data": {
      "text/plain": [
       "87395"
      ]
     },
     "execution_count": 166,
     "metadata": {},
     "output_type": "execute_result"
    }
   ],
   "source": [
    "len(y1_test)"
   ]
  },
  {
   "cell_type": "code",
   "execution_count": null,
   "metadata": {},
   "outputs": [],
   "source": []
  },
  {
   "cell_type": "code",
   "execution_count": 167,
   "metadata": {},
   "outputs": [],
   "source": [
    "y_pred_final_new_test = model_final.predict(df3_test)"
   ]
  },
  {
   "cell_type": "code",
   "execution_count": null,
   "metadata": {},
   "outputs": [],
   "source": [
    "y_"
   ]
  },
  {
   "cell_type": "code",
   "execution_count": null,
   "metadata": {},
   "outputs": [],
   "source": []
  },
  {
   "cell_type": "code",
   "execution_count": 154,
   "metadata": {},
   "outputs": [
    {
     "name": "stdout",
     "output_type": "stream",
     "text": [
      " Dataset type is :  Train\n",
      "\n",
      " Accuracy Score     :  69.41000000000001\n",
      "[[32209  3577  2880]\n",
      " [ 7132  7910  3973]\n",
      " [ 3632  4130 17346]]\n"
     ]
    }
   ],
   "source": [
    "get_accuracy(y1_train , y_pred_final_new_train ,  \"Train\")"
   ]
  },
  {
   "cell_type": "code",
   "execution_count": 156,
   "metadata": {},
   "outputs": [
    {
     "name": "stdout",
     "output_type": "stream",
     "text": [
      " Dataset type is :  Test\n",
      "\n",
      " Accuracy Score     :  32.190000000000005\n",
      "[[ 6722  4775  6565]\n",
      " [14185  9913 13615]\n",
      " [11743  8379 11498]]\n"
     ]
    }
   ],
   "source": [
    "get_accuracy(y1_test , y_pred_final_new_test ,  \"Test\")"
   ]
  },
  {
   "cell_type": "code",
   "execution_count": null,
   "metadata": {},
   "outputs": [],
   "source": []
  },
  {
   "cell_type": "code",
   "execution_count": 137,
   "metadata": {},
   "outputs": [
    {
     "name": "stdout",
     "output_type": "stream",
     "text": [
      " Dataset type is :  Their Test\n",
      "\n",
      " Accuracy Score     :  37.980000000000004\n",
      "[[ 2570 10011  5481]\n",
      " [ 5323 21140 11250]\n",
      " [ 4447 17693  9480]]\n"
     ]
    }
   ],
   "source": [
    "get_accuracy(y1_test , y_pred_final_new_test ,  \"Their Test\")"
   ]
  },
  {
   "cell_type": "code",
   "execution_count": null,
   "metadata": {},
   "outputs": [],
   "source": []
  },
  {
   "cell_type": "code",
   "execution_count": 157,
   "metadata": {},
   "outputs": [],
   "source": [
    "def get_accuracy(y_train_val , y_pred_val , dataset_type = \"Default\"):\n",
    "    \n",
    "    print(\" Dataset type is : \", dataset_type)\n",
    "    \n",
    "    print(\"\\n Accuracy Score     : \",round(accuracy_score(y_train_val, y_pred_val), 4) * 100)\n",
    "    \n",
    "#     print(\"\\n precision_accuracy : \",round(precision_score(y_train_val, y_pred_val), 4) * 100)\n",
    " \n",
    "#     print(\"\\n recall_accuracy    : \",round(recall_score(y_train_val, y_pred_val), 4) * 100)\n",
    "    \n",
    "#     print(\"\\n roc_auc_accuracy   : \",round(roc_auc_score(y_train_val, y_pred_val), 4) * 100)\n",
    "    \n",
    "#     print(\"\\n f1_score_accuracy  : \",round(f1_score(y_train_val, y_pred_val), 4) * 100)\n",
    "    \n",
    "#     print(\"\\n explained_variance  : \",round(explained_variance_score(y_train_val, y_pred_val), 4) * 100)\n",
    "    \n",
    "#     tn, fp, fn, tp = confusion_matrix(y_train_val, y_pred_val).ravel()\n",
    "    \n",
    "#     print(\"\\n Confusion Matrix TN : \", tn, \" FP : \", fp, \" FN : \", fn, \" TP : \", tp)\n",
    "    print(confusion_matrix(y_train_val, y_pred_val))"
   ]
  },
  {
   "cell_type": "code",
   "execution_count": null,
   "metadata": {},
   "outputs": [],
   "source": []
  },
  {
   "cell_type": "code",
   "execution_count": 158,
   "metadata": {},
   "outputs": [],
   "source": [
    "submission_new[\"Surge_Pricing_Type\"] = y_pred_final_new_test\n",
    "\n",
    "\n",
    "submission_new.to_csv('submission_new_imbalance.csv', index=False)\n"
   ]
  },
  {
   "cell_type": "code",
   "execution_count": 159,
   "metadata": {},
   "outputs": [
    {
     "data": {
      "text/plain": [
       "((87395, 2), (87395, 2))"
      ]
     },
     "execution_count": 159,
     "metadata": {},
     "output_type": "execute_result"
    }
   ],
   "source": [
    "submission_new.shape , submission.shape"
   ]
  },
  {
   "cell_type": "code",
   "execution_count": null,
   "metadata": {},
   "outputs": [],
   "source": []
  }
 ],
 "metadata": {
  "kernelspec": {
   "display_name": "Python 3",
   "language": "python",
   "name": "python3"
  },
  "language_info": {
   "codemirror_mode": {
    "name": "ipython",
    "version": 3
   },
   "file_extension": ".py",
   "mimetype": "text/x-python",
   "name": "python",
   "nbconvert_exporter": "python",
   "pygments_lexer": "ipython3",
   "version": "3.7.6"
  },
  "varInspector": {
   "cols": {
    "lenName": 16,
    "lenType": 16,
    "lenVar": 40
   },
   "kernels_config": {
    "python": {
     "delete_cmd_postfix": "",
     "delete_cmd_prefix": "del ",
     "library": "var_list.py",
     "varRefreshCmd": "print(var_dic_list())"
    },
    "r": {
     "delete_cmd_postfix": ") ",
     "delete_cmd_prefix": "rm(",
     "library": "var_list.r",
     "varRefreshCmd": "cat(var_dic_list()) "
    }
   },
   "types_to_exclude": [
    "module",
    "function",
    "builtin_function_or_method",
    "instance",
    "_Feature"
   ],
   "window_display": false
  }
 },
 "nbformat": 4,
 "nbformat_minor": 4
}
