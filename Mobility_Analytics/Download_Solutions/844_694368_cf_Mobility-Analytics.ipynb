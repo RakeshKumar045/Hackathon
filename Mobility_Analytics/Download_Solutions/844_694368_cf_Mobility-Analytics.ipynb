{
 "cells": [
  {
   "cell_type": "markdown",
   "metadata": {},
   "source": [
    "Welcome to Sigma Cab Private Limited - a cab aggregator service. Their customers can download their app on smartphones and book a cab from any where in the cities they operate in. They, in turn search for cabs from various service providers and provide the best option to their client across available options. They have been in operation for little less than a year now. During this period, they have captured surge_pricing_type from the service providers.\n",
    "\n",
    "You have been hired by Sigma Cabs as a Data Scientist and have been asked to build a predictive model, which could help them in predicting the surge_pricing_type pro-actively. This would in turn help them in matching the right cabs with the right customers quickly and efficiently."
   ]
  },
  {
   "cell_type": "code",
   "execution_count": 1,
   "metadata": {},
   "outputs": [],
   "source": [
    "import pandas as pd\n",
    "import numpy as np"
   ]
  },
  {
   "cell_type": "code",
   "execution_count": 2,
   "metadata": {},
   "outputs": [],
   "source": [
    "train = pd.read_csv('train_Wc8LBpr.csv')\n",
    "test = pd.read_csv('test_VsU9xXK.csv')"
   ]
  },
  {
   "cell_type": "code",
   "execution_count": 3,
   "metadata": {},
   "outputs": [
    {
     "data": {
      "text/plain": [
       "((131662, 14), (87395, 13))"
      ]
     },
     "execution_count": 3,
     "metadata": {},
     "output_type": "execute_result"
    }
   ],
   "source": [
    "train.shape, test.shape"
   ]
  },
  {
   "cell_type": "code",
   "execution_count": 4,
   "metadata": {},
   "outputs": [
    {
     "data": {
      "text/html": [
       "<div>\n",
       "<style scoped>\n",
       "    .dataframe tbody tr th:only-of-type {\n",
       "        vertical-align: middle;\n",
       "    }\n",
       "\n",
       "    .dataframe tbody tr th {\n",
       "        vertical-align: top;\n",
       "    }\n",
       "\n",
       "    .dataframe thead th {\n",
       "        text-align: right;\n",
       "    }\n",
       "</style>\n",
       "<table border=\"1\" class=\"dataframe\">\n",
       "  <thead>\n",
       "    <tr style=\"text-align: right;\">\n",
       "      <th></th>\n",
       "      <th>Trip_ID</th>\n",
       "      <th>Trip_Distance</th>\n",
       "      <th>Type_of_Cab</th>\n",
       "      <th>Customer_Since_Months</th>\n",
       "      <th>Life_Style_Index</th>\n",
       "      <th>Confidence_Life_Style_Index</th>\n",
       "      <th>Destination_Type</th>\n",
       "      <th>Customer_Rating</th>\n",
       "      <th>Cancellation_Last_1Month</th>\n",
       "      <th>Var1</th>\n",
       "      <th>Var2</th>\n",
       "      <th>Var3</th>\n",
       "      <th>Gender</th>\n",
       "      <th>Surge_Pricing_Type</th>\n",
       "    </tr>\n",
       "  </thead>\n",
       "  <tbody>\n",
       "    <tr>\n",
       "      <th>0</th>\n",
       "      <td>T0005689460</td>\n",
       "      <td>6.77</td>\n",
       "      <td>B</td>\n",
       "      <td>1.0</td>\n",
       "      <td>2.42769</td>\n",
       "      <td>A</td>\n",
       "      <td>A</td>\n",
       "      <td>3.90500</td>\n",
       "      <td>0</td>\n",
       "      <td>40.0</td>\n",
       "      <td>46</td>\n",
       "      <td>60</td>\n",
       "      <td>Female</td>\n",
       "      <td>2</td>\n",
       "    </tr>\n",
       "    <tr>\n",
       "      <th>1</th>\n",
       "      <td>T0005689461</td>\n",
       "      <td>29.47</td>\n",
       "      <td>B</td>\n",
       "      <td>10.0</td>\n",
       "      <td>2.78245</td>\n",
       "      <td>B</td>\n",
       "      <td>A</td>\n",
       "      <td>3.45000</td>\n",
       "      <td>0</td>\n",
       "      <td>38.0</td>\n",
       "      <td>56</td>\n",
       "      <td>78</td>\n",
       "      <td>Male</td>\n",
       "      <td>2</td>\n",
       "    </tr>\n",
       "    <tr>\n",
       "      <th>2</th>\n",
       "      <td>T0005689464</td>\n",
       "      <td>41.58</td>\n",
       "      <td>NaN</td>\n",
       "      <td>10.0</td>\n",
       "      <td>NaN</td>\n",
       "      <td>NaN</td>\n",
       "      <td>E</td>\n",
       "      <td>3.50125</td>\n",
       "      <td>2</td>\n",
       "      <td>NaN</td>\n",
       "      <td>56</td>\n",
       "      <td>77</td>\n",
       "      <td>Male</td>\n",
       "      <td>2</td>\n",
       "    </tr>\n",
       "    <tr>\n",
       "      <th>3</th>\n",
       "      <td>T0005689465</td>\n",
       "      <td>61.56</td>\n",
       "      <td>C</td>\n",
       "      <td>10.0</td>\n",
       "      <td>NaN</td>\n",
       "      <td>NaN</td>\n",
       "      <td>A</td>\n",
       "      <td>3.45375</td>\n",
       "      <td>0</td>\n",
       "      <td>NaN</td>\n",
       "      <td>52</td>\n",
       "      <td>74</td>\n",
       "      <td>Male</td>\n",
       "      <td>3</td>\n",
       "    </tr>\n",
       "    <tr>\n",
       "      <th>4</th>\n",
       "      <td>T0005689467</td>\n",
       "      <td>54.95</td>\n",
       "      <td>C</td>\n",
       "      <td>10.0</td>\n",
       "      <td>3.03453</td>\n",
       "      <td>B</td>\n",
       "      <td>A</td>\n",
       "      <td>3.40250</td>\n",
       "      <td>4</td>\n",
       "      <td>51.0</td>\n",
       "      <td>49</td>\n",
       "      <td>102</td>\n",
       "      <td>Male</td>\n",
       "      <td>2</td>\n",
       "    </tr>\n",
       "  </tbody>\n",
       "</table>\n",
       "</div>"
      ],
      "text/plain": [
       "       Trip_ID  Trip_Distance Type_of_Cab  Customer_Since_Months  \\\n",
       "0  T0005689460           6.77           B                    1.0   \n",
       "1  T0005689461          29.47           B                   10.0   \n",
       "2  T0005689464          41.58         NaN                   10.0   \n",
       "3  T0005689465          61.56           C                   10.0   \n",
       "4  T0005689467          54.95           C                   10.0   \n",
       "\n",
       "   Life_Style_Index Confidence_Life_Style_Index Destination_Type  \\\n",
       "0           2.42769                           A                A   \n",
       "1           2.78245                           B                A   \n",
       "2               NaN                         NaN                E   \n",
       "3               NaN                         NaN                A   \n",
       "4           3.03453                           B                A   \n",
       "\n",
       "   Customer_Rating  Cancellation_Last_1Month  Var1  Var2  Var3  Gender  \\\n",
       "0          3.90500                         0  40.0    46    60  Female   \n",
       "1          3.45000                         0  38.0    56    78    Male   \n",
       "2          3.50125                         2   NaN    56    77    Male   \n",
       "3          3.45375                         0   NaN    52    74    Male   \n",
       "4          3.40250                         4  51.0    49   102    Male   \n",
       "\n",
       "   Surge_Pricing_Type  \n",
       "0                   2  \n",
       "1                   2  \n",
       "2                   2  \n",
       "3                   3  \n",
       "4                   2  "
      ]
     },
     "execution_count": 4,
     "metadata": {},
     "output_type": "execute_result"
    }
   ],
   "source": [
    "train.head()"
   ]
  },
  {
   "cell_type": "code",
   "execution_count": 5,
   "metadata": {},
   "outputs": [
    {
     "name": "stderr",
     "output_type": "stream",
     "text": [
      "C:\\Users\\hungu\\anaconda.x\\lib\\site-packages\\pandas\\core\\frame.py:6692: FutureWarning: Sorting because non-concatenation axis is not aligned. A future version\n",
      "of pandas will change to not sort by default.\n",
      "\n",
      "To accept the future behavior, pass 'sort=False'.\n",
      "\n",
      "To retain the current behavior and silence the warning, pass 'sort=True'.\n",
      "\n",
      "  sort=sort)\n"
     ]
    },
    {
     "data": {
      "text/plain": [
       "(219057, 14)"
      ]
     },
     "execution_count": 5,
     "metadata": {},
     "output_type": "execute_result"
    }
   ],
   "source": [
    "combine = train.append(test)\n",
    "combine.shape"
   ]
  },
  {
   "cell_type": "code",
   "execution_count": 6,
   "metadata": {},
   "outputs": [
    {
     "data": {
      "text/plain": [
       "Cancellation_Last_1Month            0\n",
       "Confidence_Life_Style_Index     33520\n",
       "Customer_Rating                     0\n",
       "Customer_Since_Months            9886\n",
       "Destination_Type                    0\n",
       "Gender                              0\n",
       "Life_Style_Index                33520\n",
       "Surge_Pricing_Type              87395\n",
       "Trip_Distance                       0\n",
       "Trip_ID                             0\n",
       "Type_of_Cab                     33368\n",
       "Var1                           117819\n",
       "Var2                                0\n",
       "Var3                                0\n",
       "dtype: int64"
      ]
     },
     "execution_count": 6,
     "metadata": {},
     "output_type": "execute_result"
    }
   ],
   "source": [
    "combine.isnull().sum()"
   ]
  },
  {
   "cell_type": "code",
   "execution_count": 7,
   "metadata": {},
   "outputs": [
    {
     "data": {
      "text/plain": [
       "Cancellation_Last_1Month         int64\n",
       "Confidence_Life_Style_Index     object\n",
       "Customer_Rating                float64\n",
       "Customer_Since_Months          float64\n",
       "Destination_Type                object\n",
       "Gender                          object\n",
       "Life_Style_Index               float64\n",
       "Surge_Pricing_Type             float64\n",
       "Trip_Distance                  float64\n",
       "Trip_ID                         object\n",
       "Type_of_Cab                     object\n",
       "Var1                           float64\n",
       "Var2                             int64\n",
       "Var3                             int64\n",
       "dtype: object"
      ]
     },
     "execution_count": 7,
     "metadata": {},
     "output_type": "execute_result"
    }
   ],
   "source": [
    "combine.dtypes"
   ]
  },
  {
   "cell_type": "code",
   "execution_count": 8,
   "metadata": {},
   "outputs": [
    {
     "data": {
      "text/plain": [
       "Index(['Cancellation_Last_1Month', 'Confidence_Life_Style_Index',\n",
       "       'Customer_Rating', 'Customer_Since_Months', 'Destination_Type',\n",
       "       'Gender', 'Life_Style_Index', 'Surge_Pricing_Type', 'Trip_Distance',\n",
       "       'Trip_ID', 'Type_of_Cab', 'Var1', 'Var2', 'Var3'],\n",
       "      dtype='object')"
      ]
     },
     "execution_count": 8,
     "metadata": {},
     "output_type": "execute_result"
    }
   ],
   "source": [
    "combine.columns"
   ]
  },
  {
   "cell_type": "code",
   "execution_count": 9,
   "metadata": {},
   "outputs": [
    {
     "data": {
      "text/plain": [
       "0    114212\n",
       "1     61297\n",
       "2     27077\n",
       "3     11875\n",
       "4      3053\n",
       "5      1081\n",
       "6       432\n",
       "7        22\n",
       "8         8\n",
       "Name: Cancellation_Last_1Month, dtype: int64"
      ]
     },
     "execution_count": 9,
     "metadata": {},
     "output_type": "execute_result"
    }
   ],
   "source": [
    "combine['Cancellation_Last_1Month'].value_counts()"
   ]
  },
  {
   "cell_type": "code",
   "execution_count": 10,
   "metadata": {},
   "outputs": [
    {
     "data": {
      "text/plain": [
       "None                114212\n",
       "Once                 61297\n",
       "Twice                27077\n",
       "More_Than_Thrice     16463\n",
       "Name: Cancellation_Last_1Month, dtype: int64"
      ]
     },
     "execution_count": 10,
     "metadata": {},
     "output_type": "execute_result"
    }
   ],
   "source": [
    "bins= [0, 1, 2, 3, 8]\n",
    "labels = ['None','Once', 'Twice','More_Than_Thrice']\n",
    "combine['Cancellation_Last_1Month'] = pd.cut(combine['Cancellation_Last_1Month'], bins=bins, labels=labels, right=False)\n",
    "combine['Cancellation_Last_1Month'].value_counts()"
   ]
  },
  {
   "cell_type": "code",
   "execution_count": 11,
   "metadata": {},
   "outputs": [
    {
     "data": {
      "text/plain": [
       "B    67265\n",
       "C    59736\n",
       "A    58536\n",
       "Name: Confidence_Life_Style_Index, dtype: int64"
      ]
     },
     "execution_count": 11,
     "metadata": {},
     "output_type": "execute_result"
    }
   ],
   "source": [
    "combine['Confidence_Life_Style_Index'].value_counts()"
   ]
  },
  {
   "cell_type": "code",
   "execution_count": 12,
   "metadata": {},
   "outputs": [
    {
     "data": {
      "text/plain": [
       "B          67265\n",
       "C          59736\n",
       "A          58536\n",
       "Unknown    33520\n",
       "Name: Confidence_Life_Style_Index, dtype: int64"
      ]
     },
     "execution_count": 12,
     "metadata": {},
     "output_type": "execute_result"
    }
   ],
   "source": [
    "combine['Confidence_Life_Style_Index'].fillna('Unknown', inplace=True)\n",
    "combine['Confidence_Life_Style_Index'].value_counts()"
   ]
  },
  {
   "cell_type": "code",
   "execution_count": 13,
   "metadata": {},
   "outputs": [
    {
     "data": {
      "text/plain": [
       "count    219057.000000\n",
       "mean          2.848632\n",
       "std           0.981100\n",
       "min           0.001250\n",
       "25%           2.152500\n",
       "50%           2.895000\n",
       "75%           3.581250\n",
       "max           5.000000\n",
       "Name: Customer_Rating, dtype: float64"
      ]
     },
     "execution_count": 13,
     "metadata": {},
     "output_type": "execute_result"
    }
   ],
   "source": [
    "combine['Customer_Rating'].describe()"
   ]
  },
  {
   "cell_type": "code",
   "execution_count": 14,
   "metadata": {},
   "outputs": [
    {
     "data": {
      "text/plain": [
       "10.0    70817\n",
       "2.0     19445\n",
       "3.0     17074\n",
       "0.0     16885\n",
       "5.0     14405\n",
       "1.0     13965\n",
       "4.0     13035\n",
       "7.0     12332\n",
       "6.0     12279\n",
       "8.0     10525\n",
       "9.0      8409\n",
       "Name: Customer_Since_Months, dtype: int64"
      ]
     },
     "execution_count": 14,
     "metadata": {},
     "output_type": "execute_result"
    }
   ],
   "source": [
    "combine['Customer_Since_Months'].value_counts()"
   ]
  },
  {
   "cell_type": "code",
   "execution_count": 15,
   "metadata": {},
   "outputs": [
    {
     "data": {
      "text/plain": [
       "count    2.190570e+05\n",
       "mean     1.662343e-15\n",
       "std      1.000002e+00\n",
       "min     -1.746288e+00\n",
       "25%     -9.631837e-01\n",
       "50%      8.095576e-02\n",
       "75%      1.125095e+00\n",
       "max      1.125095e+00\n",
       "Name: Customer_Since_Months, dtype: float64"
      ]
     },
     "execution_count": 15,
     "metadata": {},
     "output_type": "execute_result"
    }
   ],
   "source": [
    "from sklearn.preprocessing import scale\n",
    "combine['Customer_Since_Months'].fillna(-1, inplace=True)\n",
    "combine['Customer_Since_Months'] = scale(combine['Customer_Since_Months'])\n",
    "combine['Customer_Since_Months'].describe()"
   ]
  },
  {
   "cell_type": "code",
   "execution_count": 16,
   "metadata": {
    "scrolled": true
   },
   "outputs": [
    {
     "data": {
      "text/plain": [
       "A    129010\n",
       "B     49193\n",
       "C     12397\n",
       "D     11085\n",
       "E      4549\n",
       "F      3222\n",
       "G      2513\n",
       "H      2124\n",
       "I      1334\n",
       "J      1166\n",
       "K      1102\n",
       "L      1052\n",
       "M       160\n",
       "N       150\n",
       "Name: Destination_Type, dtype: int64"
      ]
     },
     "execution_count": 16,
     "metadata": {},
     "output_type": "execute_result"
    }
   ],
   "source": [
    "combine['Destination_Type'].value_counts()"
   ]
  },
  {
   "cell_type": "code",
   "execution_count": 17,
   "metadata": {},
   "outputs": [
    {
     "data": {
      "text/plain": [
       "Male      156128\n",
       "Female     62929\n",
       "Name: Gender, dtype: int64"
      ]
     },
     "execution_count": 17,
     "metadata": {},
     "output_type": "execute_result"
    }
   ],
   "source": [
    "combine['Gender'].value_counts()"
   ]
  },
  {
   "cell_type": "code",
   "execution_count": 18,
   "metadata": {},
   "outputs": [
    {
     "data": {
      "text/plain": [
       "count    185537.000000\n",
       "mean          2.802594\n",
       "std           0.226323\n",
       "min           1.317850\n",
       "25%           2.654620\n",
       "50%           2.798280\n",
       "75%           2.947650\n",
       "max           4.875110\n",
       "Name: Life_Style_Index, dtype: float64"
      ]
     },
     "execution_count": 18,
     "metadata": {},
     "output_type": "execute_result"
    }
   ],
   "source": [
    "combine['Life_Style_Index'].describe()"
   ]
  },
  {
   "cell_type": "code",
   "execution_count": 19,
   "metadata": {},
   "outputs": [
    {
     "data": {
      "text/plain": [
       "count    219057.000000\n",
       "mean          2.802594\n",
       "std           0.208288\n",
       "min           1.317850\n",
       "25%           2.688050\n",
       "50%           2.802594\n",
       "75%           2.913910\n",
       "max           4.875110\n",
       "Name: Life_Style_Index, dtype: float64"
      ]
     },
     "execution_count": 19,
     "metadata": {},
     "output_type": "execute_result"
    }
   ],
   "source": [
    "combine['Life_Style_Index'].fillna(combine['Life_Style_Index'].mean(), inplace=True)\n",
    "combine['Life_Style_Index'].describe()"
   ]
  },
  {
   "cell_type": "code",
   "execution_count": 20,
   "metadata": {},
   "outputs": [
    {
     "data": {
      "text/plain": [
       "count    219057.000000\n",
       "mean         44.158725\n",
       "std          25.507368\n",
       "min           0.310000\n",
       "25%          24.560000\n",
       "50%          38.140000\n",
       "75%          60.720000\n",
       "max         109.230000\n",
       "Name: Trip_Distance, dtype: float64"
      ]
     },
     "execution_count": 20,
     "metadata": {},
     "output_type": "execute_result"
    }
   ],
   "source": [
    "combine['Trip_Distance'].describe()"
   ]
  },
  {
   "cell_type": "code",
   "execution_count": 21,
   "metadata": {},
   "outputs": [
    {
     "data": {
      "text/plain": [
       "count    219057.000000\n",
       "mean          3.594550\n",
       "std           0.671321\n",
       "min          -1.171183\n",
       "25%           3.201119\n",
       "50%           3.641264\n",
       "75%           4.106273\n",
       "max           4.693456\n",
       "Name: Trip_Distance, dtype: float64"
      ]
     },
     "execution_count": 21,
     "metadata": {},
     "output_type": "execute_result"
    }
   ],
   "source": [
    "combine['Trip_Distance'] = np.log(combine['Trip_Distance'])\n",
    "combine['Trip_Distance'].describe()"
   ]
  },
  {
   "cell_type": "code",
   "execution_count": 22,
   "metadata": {},
   "outputs": [
    {
     "data": {
      "text/plain": [
       "B    51585\n",
       "C    46732\n",
       "A    35878\n",
       "D    31885\n",
       "E    19609\n",
       "Name: Type_of_Cab, dtype: int64"
      ]
     },
     "execution_count": 22,
     "metadata": {},
     "output_type": "execute_result"
    }
   ],
   "source": [
    "combine['Type_of_Cab'].value_counts()"
   ]
  },
  {
   "cell_type": "code",
   "execution_count": 23,
   "metadata": {},
   "outputs": [
    {
     "data": {
      "text/plain": [
       "B          51585\n",
       "C          46732\n",
       "A          35878\n",
       "Unknown    33368\n",
       "D          31885\n",
       "E          19609\n",
       "Name: Type_of_Cab, dtype: int64"
      ]
     },
     "execution_count": 23,
     "metadata": {},
     "output_type": "execute_result"
    }
   ],
   "source": [
    "combine['Type_of_Cab'].fillna('Unknown', inplace=True)\n",
    "combine['Type_of_Cab'].value_counts()"
   ]
  },
  {
   "cell_type": "code",
   "execution_count": 24,
   "metadata": {},
   "outputs": [
    {
     "data": {
      "text/plain": [
       "count    101238.000000\n",
       "mean         64.095972\n",
       "std          21.747037\n",
       "min          30.000000\n",
       "25%          46.000000\n",
       "50%          61.000000\n",
       "75%          79.000000\n",
       "max         210.000000\n",
       "Name: Var1, dtype: float64"
      ]
     },
     "execution_count": 24,
     "metadata": {},
     "output_type": "execute_result"
    }
   ],
   "source": [
    "combine['Var1'].describe()"
   ]
  },
  {
   "cell_type": "code",
   "execution_count": 25,
   "metadata": {},
   "outputs": [
    {
     "data": {
      "text/plain": [
       "count    219057.000000\n",
       "mean          4.133547\n",
       "std           0.235032\n",
       "min           3.401197\n",
       "25%           4.158883\n",
       "50%           4.160382\n",
       "75%           4.160382\n",
       "max           5.347108\n",
       "Name: Var1, dtype: float64"
      ]
     },
     "execution_count": 25,
     "metadata": {},
     "output_type": "execute_result"
    }
   ],
   "source": [
    "combine['Var1'].fillna(combine['Var1'].mean(), inplace=True)\n",
    "combine['Var1'] = np.log(combine['Var1'])\n",
    "combine['Var1'].describe()"
   ]
  },
  {
   "cell_type": "code",
   "execution_count": 26,
   "metadata": {},
   "outputs": [
    {
     "data": {
      "text/plain": [
       "count    219057.000000\n",
       "mean         51.186586\n",
       "std           4.974497\n",
       "min          40.000000\n",
       "25%          48.000000\n",
       "50%          50.000000\n",
       "75%          54.000000\n",
       "max         124.000000\n",
       "Name: Var2, dtype: float64"
      ]
     },
     "execution_count": 26,
     "metadata": {},
     "output_type": "execute_result"
    }
   ],
   "source": [
    "combine['Var2'].describe()"
   ]
  },
  {
   "cell_type": "code",
   "execution_count": 27,
   "metadata": {},
   "outputs": [
    {
     "data": {
      "text/plain": [
       "count    219057.000000\n",
       "mean          3.931010\n",
       "std           0.093373\n",
       "min           3.688879\n",
       "25%           3.871201\n",
       "50%           3.912023\n",
       "75%           3.988984\n",
       "max           4.820282\n",
       "Name: Var2, dtype: float64"
      ]
     },
     "execution_count": 27,
     "metadata": {},
     "output_type": "execute_result"
    }
   ],
   "source": [
    "combine['Var2'] = np.log(combine['Var2'])\n",
    "combine['Var2'].describe()"
   ]
  },
  {
   "cell_type": "code",
   "execution_count": 28,
   "metadata": {},
   "outputs": [
    {
     "data": {
      "text/plain": [
       "count    219057.000000\n",
       "mean         75.065777\n",
       "std          11.580112\n",
       "min          52.000000\n",
       "25%          67.000000\n",
       "50%          74.000000\n",
       "75%          82.000000\n",
       "max         206.000000\n",
       "Name: Var3, dtype: float64"
      ]
     },
     "execution_count": 28,
     "metadata": {},
     "output_type": "execute_result"
    }
   ],
   "source": [
    "combine['Var3'].describe()"
   ]
  },
  {
   "cell_type": "code",
   "execution_count": 29,
   "metadata": {},
   "outputs": [
    {
     "data": {
      "text/plain": [
       "count    219057.000000\n",
       "mean          4.307021\n",
       "std           0.149217\n",
       "min           3.951244\n",
       "25%           4.204693\n",
       "50%           4.304065\n",
       "75%           4.406719\n",
       "max           5.327876\n",
       "Name: Var3, dtype: float64"
      ]
     },
     "execution_count": 29,
     "metadata": {},
     "output_type": "execute_result"
    }
   ],
   "source": [
    "combine['Var3'] = np.log(combine['Var3'])\n",
    "combine['Var3'].describe()"
   ]
  },
  {
   "cell_type": "code",
   "execution_count": 30,
   "metadata": {
    "scrolled": true
   },
   "outputs": [
    {
     "data": {
      "text/plain": [
       "Cancellation_Last_1Month           8\n",
       "Confidence_Life_Style_Index        0\n",
       "Customer_Rating                    0\n",
       "Customer_Since_Months              0\n",
       "Destination_Type                   0\n",
       "Gender                             0\n",
       "Life_Style_Index                   0\n",
       "Surge_Pricing_Type             87395\n",
       "Trip_Distance                      0\n",
       "Trip_ID                            0\n",
       "Type_of_Cab                        0\n",
       "Var1                               0\n",
       "Var2                               0\n",
       "Var3                               0\n",
       "dtype: int64"
      ]
     },
     "execution_count": 30,
     "metadata": {},
     "output_type": "execute_result"
    }
   ],
   "source": [
    "combine.isnull().sum()"
   ]
  },
  {
   "cell_type": "code",
   "execution_count": 31,
   "metadata": {},
   "outputs": [
    {
     "data": {
      "text/plain": [
       "(219057, 38)"
      ]
     },
     "execution_count": 31,
     "metadata": {},
     "output_type": "execute_result"
    }
   ],
   "source": [
    "combine = pd.get_dummies(combine.drop('Trip_ID', axis=1))\n",
    "combine.shape"
   ]
  },
  {
   "cell_type": "code",
   "execution_count": 32,
   "metadata": {},
   "outputs": [
    {
     "data": {
      "text/html": [
       "<div>\n",
       "<style scoped>\n",
       "    .dataframe tbody tr th:only-of-type {\n",
       "        vertical-align: middle;\n",
       "    }\n",
       "\n",
       "    .dataframe tbody tr th {\n",
       "        vertical-align: top;\n",
       "    }\n",
       "\n",
       "    .dataframe thead th {\n",
       "        text-align: right;\n",
       "    }\n",
       "</style>\n",
       "<table border=\"1\" class=\"dataframe\">\n",
       "  <thead>\n",
       "    <tr style=\"text-align: right;\">\n",
       "      <th></th>\n",
       "      <th>Customer_Rating</th>\n",
       "      <th>Customer_Since_Months</th>\n",
       "      <th>Life_Style_Index</th>\n",
       "      <th>Surge_Pricing_Type</th>\n",
       "      <th>Trip_Distance</th>\n",
       "      <th>Var1</th>\n",
       "      <th>Var2</th>\n",
       "      <th>Var3</th>\n",
       "      <th>Cancellation_Last_1Month_None</th>\n",
       "      <th>Cancellation_Last_1Month_Once</th>\n",
       "      <th>...</th>\n",
       "      <th>Destination_Type_M</th>\n",
       "      <th>Destination_Type_N</th>\n",
       "      <th>Gender_Female</th>\n",
       "      <th>Gender_Male</th>\n",
       "      <th>Type_of_Cab_A</th>\n",
       "      <th>Type_of_Cab_B</th>\n",
       "      <th>Type_of_Cab_C</th>\n",
       "      <th>Type_of_Cab_D</th>\n",
       "      <th>Type_of_Cab_E</th>\n",
       "      <th>Type_of_Cab_Unknown</th>\n",
       "    </tr>\n",
       "  </thead>\n",
       "  <tbody>\n",
       "    <tr>\n",
       "      <th>0</th>\n",
       "      <td>3.90500</td>\n",
       "      <td>-1.224219</td>\n",
       "      <td>2.427690</td>\n",
       "      <td>2.0</td>\n",
       "      <td>1.912501</td>\n",
       "      <td>3.688879</td>\n",
       "      <td>3.828641</td>\n",
       "      <td>4.094345</td>\n",
       "      <td>1</td>\n",
       "      <td>0</td>\n",
       "      <td>...</td>\n",
       "      <td>0</td>\n",
       "      <td>0</td>\n",
       "      <td>1</td>\n",
       "      <td>0</td>\n",
       "      <td>0</td>\n",
       "      <td>1</td>\n",
       "      <td>0</td>\n",
       "      <td>0</td>\n",
       "      <td>0</td>\n",
       "      <td>0</td>\n",
       "    </tr>\n",
       "    <tr>\n",
       "      <th>1</th>\n",
       "      <td>3.45000</td>\n",
       "      <td>1.125095</td>\n",
       "      <td>2.782450</td>\n",
       "      <td>2.0</td>\n",
       "      <td>3.383373</td>\n",
       "      <td>3.637586</td>\n",
       "      <td>4.025352</td>\n",
       "      <td>4.356709</td>\n",
       "      <td>1</td>\n",
       "      <td>0</td>\n",
       "      <td>...</td>\n",
       "      <td>0</td>\n",
       "      <td>0</td>\n",
       "      <td>0</td>\n",
       "      <td>1</td>\n",
       "      <td>0</td>\n",
       "      <td>1</td>\n",
       "      <td>0</td>\n",
       "      <td>0</td>\n",
       "      <td>0</td>\n",
       "      <td>0</td>\n",
       "    </tr>\n",
       "    <tr>\n",
       "      <th>2</th>\n",
       "      <td>3.50125</td>\n",
       "      <td>1.125095</td>\n",
       "      <td>2.802594</td>\n",
       "      <td>2.0</td>\n",
       "      <td>3.727619</td>\n",
       "      <td>4.160382</td>\n",
       "      <td>4.025352</td>\n",
       "      <td>4.343805</td>\n",
       "      <td>0</td>\n",
       "      <td>0</td>\n",
       "      <td>...</td>\n",
       "      <td>0</td>\n",
       "      <td>0</td>\n",
       "      <td>0</td>\n",
       "      <td>1</td>\n",
       "      <td>0</td>\n",
       "      <td>0</td>\n",
       "      <td>0</td>\n",
       "      <td>0</td>\n",
       "      <td>0</td>\n",
       "      <td>1</td>\n",
       "    </tr>\n",
       "    <tr>\n",
       "      <th>3</th>\n",
       "      <td>3.45375</td>\n",
       "      <td>1.125095</td>\n",
       "      <td>2.802594</td>\n",
       "      <td>3.0</td>\n",
       "      <td>4.120012</td>\n",
       "      <td>4.160382</td>\n",
       "      <td>3.951244</td>\n",
       "      <td>4.304065</td>\n",
       "      <td>1</td>\n",
       "      <td>0</td>\n",
       "      <td>...</td>\n",
       "      <td>0</td>\n",
       "      <td>0</td>\n",
       "      <td>0</td>\n",
       "      <td>1</td>\n",
       "      <td>0</td>\n",
       "      <td>0</td>\n",
       "      <td>1</td>\n",
       "      <td>0</td>\n",
       "      <td>0</td>\n",
       "      <td>0</td>\n",
       "    </tr>\n",
       "    <tr>\n",
       "      <th>4</th>\n",
       "      <td>3.40250</td>\n",
       "      <td>1.125095</td>\n",
       "      <td>3.034530</td>\n",
       "      <td>2.0</td>\n",
       "      <td>4.006424</td>\n",
       "      <td>3.931826</td>\n",
       "      <td>3.891820</td>\n",
       "      <td>4.624973</td>\n",
       "      <td>0</td>\n",
       "      <td>0</td>\n",
       "      <td>...</td>\n",
       "      <td>0</td>\n",
       "      <td>0</td>\n",
       "      <td>0</td>\n",
       "      <td>1</td>\n",
       "      <td>0</td>\n",
       "      <td>0</td>\n",
       "      <td>1</td>\n",
       "      <td>0</td>\n",
       "      <td>0</td>\n",
       "      <td>0</td>\n",
       "    </tr>\n",
       "  </tbody>\n",
       "</table>\n",
       "<p>5 rows × 38 columns</p>\n",
       "</div>"
      ],
      "text/plain": [
       "   Customer_Rating  Customer_Since_Months  Life_Style_Index  \\\n",
       "0          3.90500              -1.224219          2.427690   \n",
       "1          3.45000               1.125095          2.782450   \n",
       "2          3.50125               1.125095          2.802594   \n",
       "3          3.45375               1.125095          2.802594   \n",
       "4          3.40250               1.125095          3.034530   \n",
       "\n",
       "   Surge_Pricing_Type  Trip_Distance      Var1      Var2      Var3  \\\n",
       "0                 2.0       1.912501  3.688879  3.828641  4.094345   \n",
       "1                 2.0       3.383373  3.637586  4.025352  4.356709   \n",
       "2                 2.0       3.727619  4.160382  4.025352  4.343805   \n",
       "3                 3.0       4.120012  4.160382  3.951244  4.304065   \n",
       "4                 2.0       4.006424  3.931826  3.891820  4.624973   \n",
       "\n",
       "   Cancellation_Last_1Month_None  Cancellation_Last_1Month_Once  ...  \\\n",
       "0                              1                              0  ...   \n",
       "1                              1                              0  ...   \n",
       "2                              0                              0  ...   \n",
       "3                              1                              0  ...   \n",
       "4                              0                              0  ...   \n",
       "\n",
       "   Destination_Type_M  Destination_Type_N  Gender_Female  Gender_Male  \\\n",
       "0                   0                   0              1            0   \n",
       "1                   0                   0              0            1   \n",
       "2                   0                   0              0            1   \n",
       "3                   0                   0              0            1   \n",
       "4                   0                   0              0            1   \n",
       "\n",
       "   Type_of_Cab_A  Type_of_Cab_B  Type_of_Cab_C  Type_of_Cab_D  Type_of_Cab_E  \\\n",
       "0              0              1              0              0              0   \n",
       "1              0              1              0              0              0   \n",
       "2              0              0              0              0              0   \n",
       "3              0              0              1              0              0   \n",
       "4              0              0              1              0              0   \n",
       "\n",
       "   Type_of_Cab_Unknown  \n",
       "0                    0  \n",
       "1                    0  \n",
       "2                    1  \n",
       "3                    0  \n",
       "4                    0  \n",
       "\n",
       "[5 rows x 38 columns]"
      ]
     },
     "execution_count": 32,
     "metadata": {},
     "output_type": "execute_result"
    }
   ],
   "source": [
    "combine.head()"
   ]
  },
  {
   "cell_type": "code",
   "execution_count": 33,
   "metadata": {},
   "outputs": [
    {
     "data": {
      "text/plain": [
       "((131662, 37), (131662,), (87395, 37))"
      ]
     },
     "execution_count": 33,
     "metadata": {},
     "output_type": "execute_result"
    }
   ],
   "source": [
    "X = combine[combine['Surge_Pricing_Type'].isnull()!=True].drop(['Surge_Pricing_Type'], axis=1)\n",
    "y = combine[combine['Surge_Pricing_Type'].isnull()!=True]['Surge_Pricing_Type']\n",
    "\n",
    "X_test = combine[combine['Surge_Pricing_Type'].isnull()==True].drop(['Surge_Pricing_Type'], axis=1)\n",
    "\n",
    "X.shape, y.shape, X_test.shape"
   ]
  },
  {
   "cell_type": "code",
   "execution_count": 35,
   "metadata": {
    "scrolled": true
   },
   "outputs": [],
   "source": [
    "from sklearn.model_selection import train_test_split\n",
    "x_train, x_val, y_train, y_val = train_test_split(X, y, test_size=0.2)"
   ]
  },
  {
   "cell_type": "code",
   "execution_count": 38,
   "metadata": {},
   "outputs": [
    {
     "name": "stdout",
     "output_type": "stream",
     "text": [
      "Training until validation scores don't improve for 100 rounds.\n",
      "[200]\ttraining's multi_logloss: 0.668017\tvalid_1's multi_logloss: 0.691666\n",
      "[400]\ttraining's multi_logloss: 0.645576\tvalid_1's multi_logloss: 0.68987\n",
      "Early stopping, best iteration is:\n",
      "[314]\ttraining's multi_logloss: 0.65436\tvalid_1's multi_logloss: 0.689619\n"
     ]
    }
   ],
   "source": [
    "from lightgbm import LGBMClassifier\n",
    "model = LGBMClassifier(boosting_type='gbdt',\n",
    "                       max_depth=5,\n",
    "                       learning_rate=0.08,\n",
    "                       n_estimators=1000,\n",
    "                       min_child_weight=0.5,\n",
    "                       colsample_bytree=0.9,\n",
    "                       random_state=2020, \n",
    "                       objective='multiclass')\n",
    "\n",
    "model.fit(x_train,y_train,\n",
    "          eval_set=[(x_train,y_train),(x_val, y_val.values)],\n",
    "          early_stopping_rounds=100,\n",
    "          verbose=200)\n",
    "\n",
    "pred_y = model.predict(x_val)"
   ]
  },
  {
   "cell_type": "code",
   "execution_count": 39,
   "metadata": {},
   "outputs": [
    {
     "name": "stdout",
     "output_type": "stream",
     "text": [
      "0.7085406144381574\n"
     ]
    },
    {
     "data": {
      "text/plain": [
       "array([[3165, 1699,  635],\n",
       "       [ 532, 9072, 1777],\n",
       "       [ 418, 2614, 6421]], dtype=int64)"
      ]
     },
     "execution_count": 39,
     "metadata": {},
     "output_type": "execute_result"
    }
   ],
   "source": [
    "from sklearn.metrics import accuracy_score, confusion_matrix\n",
    "print(accuracy_score(y_val, pred_y))\n",
    "confusion_matrix(y_val,pred_y)"
   ]
  },
  {
   "cell_type": "code",
   "execution_count": null,
   "metadata": {
    "scrolled": true
   },
   "outputs": [
    {
     "name": "stdout",
     "output_type": "stream",
     "text": [
      "Training until validation scores don't improve for 200 rounds.\n",
      "[200]\ttraining's multi_logloss: 0.670077\tvalid_1's multi_logloss: 0.692993\n",
      "[400]\ttraining's multi_logloss: 0.649412\tvalid_1's multi_logloss: 0.689745\n",
      "[600]\ttraining's multi_logloss: 0.633017\tvalid_1's multi_logloss: 0.690651\n",
      "Early stopping, best iteration is:\n",
      "[457]\ttraining's multi_logloss: 0.644304\tvalid_1's multi_logloss: 0.689694\n",
      "1  err_lgm:  0.7112427383528875\n",
      "Training until validation scores don't improve for 200 rounds.\n",
      "[200]\ttraining's multi_logloss: 0.668653\tvalid_1's multi_logloss: 0.707691\n",
      "[400]\ttraining's multi_logloss: 0.647839\tvalid_1's multi_logloss: 0.707365\n",
      "Early stopping, best iteration is:\n",
      "[264]\ttraining's multi_logloss: 0.660946\tvalid_1's multi_logloss: 0.706735\n",
      "2  err_lgm:  0.6990545620230094\n",
      "Training until validation scores don't improve for 200 rounds.\n",
      "[200]\ttraining's multi_logloss: 0.669515\tvalid_1's multi_logloss: 0.698389\n",
      "[400]\ttraining's multi_logloss: 0.649168\tvalid_1's multi_logloss: 0.696337\n",
      "[600]\ttraining's multi_logloss: 0.633091\tvalid_1's multi_logloss: 0.697035\n",
      "Early stopping, best iteration is:\n",
      "[401]\ttraining's multi_logloss: 0.64911\tvalid_1's multi_logloss: 0.696295\n",
      "3  err_lgm:  0.7038387060029616\n",
      "Training until validation scores don't improve for 200 rounds.\n",
      "[200]\ttraining's multi_logloss: 0.670779\tvalid_1's multi_logloss: 0.680568\n",
      "[400]\ttraining's multi_logloss: 0.650015\tvalid_1's multi_logloss: 0.678177\n",
      "Early stopping, best iteration is:\n",
      "[339]\ttraining's multi_logloss: 0.655585\tvalid_1's multi_logloss: 0.677984\n",
      "4  err_lgm:  0.7107871055928922\n",
      "Training until validation scores don't improve for 200 rounds.\n",
      "[200]\ttraining's multi_logloss: 0.669951\tvalid_1's multi_logloss: 0.69031\n",
      "[400]\ttraining's multi_logloss: 0.649626\tvalid_1's multi_logloss: 0.688322\n",
      "Early stopping, best iteration is:\n",
      "[367]\ttraining's multi_logloss: 0.652513\tvalid_1's multi_logloss: 0.688122\n",
      "5  err_lgm:  0.7065390749601276\n",
      "Training until validation scores don't improve for 200 rounds.\n",
      "[200]\ttraining's multi_logloss: 0.668709\tvalid_1's multi_logloss: 0.706678\n",
      "[400]\ttraining's multi_logloss: 0.647752\tvalid_1's multi_logloss: 0.704451\n",
      "[600]\ttraining's multi_logloss: 0.631087\tvalid_1's multi_logloss: 0.704917\n",
      "Early stopping, best iteration is:\n",
      "[429]\ttraining's multi_logloss: 0.645022\tvalid_1's multi_logloss: 0.704302\n",
      "6  err_lgm:  0.6956818958641905\n",
      "Training until validation scores don't improve for 200 rounds.\n",
      "[200]\ttraining's multi_logloss: 0.670388\tvalid_1's multi_logloss: 0.689312\n",
      "[400]\ttraining's multi_logloss: 0.650125\tvalid_1's multi_logloss: 0.687334\n",
      "Early stopping, best iteration is:\n",
      "[329]\ttraining's multi_logloss: 0.65622\tvalid_1's multi_logloss: 0.687052\n",
      "7  err_lgm:  0.7066195738862937\n",
      "Training until validation scores don't improve for 200 rounds.\n",
      "[200]\ttraining's multi_logloss: 0.669627\tvalid_1's multi_logloss: 0.695876\n",
      "[400]\ttraining's multi_logloss: 0.649112\tvalid_1's multi_logloss: 0.693596\n",
      "Early stopping, best iteration is:\n",
      "[395]\ttraining's multi_logloss: 0.649499\tvalid_1's multi_logloss: 0.693572\n",
      "8  err_lgm:  0.7070753104705481\n",
      "Training until validation scores don't improve for 200 rounds.\n",
      "[200]\ttraining's multi_logloss: 0.670362\tvalid_1's multi_logloss: 0.686097\n",
      "[400]\ttraining's multi_logloss: 0.649919\tvalid_1's multi_logloss: 0.683181\n",
      "[600]\ttraining's multi_logloss: 0.633854\tvalid_1's multi_logloss: 0.683856\n",
      "Early stopping, best iteration is:\n",
      "[424]\ttraining's multi_logloss: 0.647806\tvalid_1's multi_logloss: 0.68308\n",
      "9  err_lgm:  0.7079867836390566\n",
      "Training until validation scores don't improve for 200 rounds.\n",
      "[200]\ttraining's multi_logloss: 0.669894\tvalid_1's multi_logloss: 0.694883\n",
      "[400]\ttraining's multi_logloss: 0.648979\tvalid_1's multi_logloss: 0.692628\n",
      "[600]\ttraining's multi_logloss: 0.633095\tvalid_1's multi_logloss: 0.693013\n",
      "Early stopping, best iteration is:\n",
      "[433]\ttraining's multi_logloss: 0.646117\tvalid_1's multi_logloss: 0.692459\n",
      "10  err_lgm:  0.7079867836390566\n",
      "Training until validation scores don't improve for 200 rounds.\n",
      "[200]\ttraining's multi_logloss: 0.669741\tvalid_1's multi_logloss: 0.697047\n",
      "[400]\ttraining's multi_logloss: 0.648963\tvalid_1's multi_logloss: 0.695522\n",
      "Early stopping, best iteration is:\n",
      "[326]\ttraining's multi_logloss: 0.655769\tvalid_1's multi_logloss: 0.695326\n",
      "11  err_lgm:  0.7038851543807679\n",
      "Training until validation scores don't improve for 200 rounds.\n",
      "[200]\ttraining's multi_logloss: 0.6699\tvalid_1's multi_logloss: 0.693139\n",
      "[400]\ttraining's multi_logloss: 0.649773\tvalid_1's multi_logloss: 0.69059\n",
      "[600]\ttraining's multi_logloss: 0.633038\tvalid_1's multi_logloss: 0.691001\n",
      "Early stopping, best iteration is:\n",
      "[474]\ttraining's multi_logloss: 0.643281\tvalid_1's multi_logloss: 0.690373\n",
      "12  err_lgm:  0.7004671299988606\n",
      "Training until validation scores don't improve for 200 rounds.\n",
      "[200]\ttraining's multi_logloss: 0.670762\tvalid_1's multi_logloss: 0.684818\n",
      "[400]\ttraining's multi_logloss: 0.649832\tvalid_1's multi_logloss: 0.682663\n"
     ]
    }
   ],
   "source": [
    "err = []\n",
    "y_pred_tot_lgm = []\n",
    "\n",
    "from sklearn.model_selection import StratifiedKFold\n",
    "\n",
    "fold = StratifiedKFold(n_splits=15, shuffle=True, random_state=2020)\n",
    "i = 1\n",
    "for train_index, test_index in fold.split(X, y):\n",
    "    x_train, x_val = X.iloc[train_index], X.iloc[test_index]\n",
    "    y_train, y_val = y[train_index], y[test_index]\n",
    "    m = LGBMClassifier(boosting_type='gbdt',\n",
    "                       max_depth=5,\n",
    "                       learning_rate=0.08,\n",
    "                       n_estimators=1000,\n",
    "                       min_child_weight=0.5,\n",
    "                       colsample_bytree=0.9,\n",
    "                       random_state=2020, \n",
    "                       objective='multiclass')\n",
    "    m.fit(x_train, y_train,\n",
    "          eval_set=[(x_train,y_train),(x_val, y_val)],\n",
    "          early_stopping_rounds=200,\n",
    "          verbose=200)\n",
    "    pred_y = m.predict(x_val)\n",
    "    print(i, \" err_lgm: \", accuracy_score(y_val, pred_y))\n",
    "    err.append(accuracy_score(y_val, pred_y))\n",
    "    pred_test = m.predict(X_test)\n",
    "    i = i + 1\n",
    "    y_pred_tot_lgm.append(pred_test)"
   ]
  },
  {
   "cell_type": "code",
   "execution_count": 302,
   "metadata": {},
   "outputs": [
    {
     "data": {
      "text/plain": [
       "0.7065288509924502"
      ]
     },
     "execution_count": 302,
     "metadata": {},
     "output_type": "execute_result"
    }
   ],
   "source": [
    "np.mean(err, 0)"
   ]
  },
  {
   "cell_type": "code",
   "execution_count": 307,
   "metadata": {},
   "outputs": [
    {
     "data": {
      "text/plain": [
       "0.712739288969918"
      ]
     },
     "execution_count": 307,
     "metadata": {},
     "output_type": "execute_result"
    }
   ],
   "source": [
    "err[3]"
   ]
  },
  {
   "cell_type": "code",
   "execution_count": 308,
   "metadata": {},
   "outputs": [
    {
     "data": {
      "text/plain": [
       "(87395, 2)"
      ]
     },
     "execution_count": 308,
     "metadata": {},
     "output_type": "execute_result"
    }
   ],
   "source": [
    "submission = pd.DataFrame()\n",
    "submission['Trip_ID'] = test['Trip_ID']\n",
    "submission['Surge_Pricing_Type'] = y_pred_tot_lgm[3]\n",
    "submission.to_csv('LGBM.csv', index=False, header=True)\n",
    "submission.shape"
   ]
  },
  {
   "cell_type": "code",
   "execution_count": 309,
   "metadata": {},
   "outputs": [
    {
     "data": {
      "text/html": [
       "<div>\n",
       "<style scoped>\n",
       "    .dataframe tbody tr th:only-of-type {\n",
       "        vertical-align: middle;\n",
       "    }\n",
       "\n",
       "    .dataframe tbody tr th {\n",
       "        vertical-align: top;\n",
       "    }\n",
       "\n",
       "    .dataframe thead th {\n",
       "        text-align: right;\n",
       "    }\n",
       "</style>\n",
       "<table border=\"1\" class=\"dataframe\">\n",
       "  <thead>\n",
       "    <tr style=\"text-align: right;\">\n",
       "      <th></th>\n",
       "      <th>Trip_ID</th>\n",
       "      <th>Surge_Pricing_Type</th>\n",
       "    </tr>\n",
       "  </thead>\n",
       "  <tbody>\n",
       "    <tr>\n",
       "      <th>0</th>\n",
       "      <td>T0005689459</td>\n",
       "      <td>1.0</td>\n",
       "    </tr>\n",
       "    <tr>\n",
       "      <th>1</th>\n",
       "      <td>T0005689462</td>\n",
       "      <td>2.0</td>\n",
       "    </tr>\n",
       "    <tr>\n",
       "      <th>2</th>\n",
       "      <td>T0005689463</td>\n",
       "      <td>2.0</td>\n",
       "    </tr>\n",
       "    <tr>\n",
       "      <th>3</th>\n",
       "      <td>T0005689466</td>\n",
       "      <td>2.0</td>\n",
       "    </tr>\n",
       "    <tr>\n",
       "      <th>4</th>\n",
       "      <td>T0005689468</td>\n",
       "      <td>2.0</td>\n",
       "    </tr>\n",
       "  </tbody>\n",
       "</table>\n",
       "</div>"
      ],
      "text/plain": [
       "       Trip_ID  Surge_Pricing_Type\n",
       "0  T0005689459                 1.0\n",
       "1  T0005689462                 2.0\n",
       "2  T0005689463                 2.0\n",
       "3  T0005689466                 2.0\n",
       "4  T0005689468                 2.0"
      ]
     },
     "execution_count": 309,
     "metadata": {},
     "output_type": "execute_result"
    }
   ],
   "source": [
    "submission.head()"
   ]
  },
  {
   "cell_type": "code",
   "execution_count": 310,
   "metadata": {},
   "outputs": [
    {
     "data": {
      "text/plain": [
       "2.0    44020\n",
       "3.0    29811\n",
       "1.0    13564\n",
       "Name: Surge_Pricing_Type, dtype: int64"
      ]
     },
     "execution_count": 310,
     "metadata": {},
     "output_type": "execute_result"
    }
   ],
   "source": [
    "submission['Surge_Pricing_Type'].value_counts()"
   ]
  }
 ],
 "metadata": {
  "kernelspec": {
   "display_name": "Python 3",
   "language": "python",
   "name": "python3"
  },
  "language_info": {
   "codemirror_mode": {
    "name": "ipython",
    "version": 3
   },
   "file_extension": ".py",
   "mimetype": "text/x-python",
   "name": "python",
   "nbconvert_exporter": "python",
   "pygments_lexer": "ipython3",
   "version": "3.7.6"
  },
  "varInspector": {
   "cols": {
    "lenName": 16,
    "lenType": 16,
    "lenVar": 40
   },
   "kernels_config": {
    "python": {
     "delete_cmd_postfix": "",
     "delete_cmd_prefix": "del ",
     "library": "var_list.py",
     "varRefreshCmd": "print(var_dic_list())"
    },
    "r": {
     "delete_cmd_postfix": ") ",
     "delete_cmd_prefix": "rm(",
     "library": "var_list.r",
     "varRefreshCmd": "cat(var_dic_list()) "
    }
   },
   "types_to_exclude": [
    "module",
    "function",
    "builtin_function_or_method",
    "instance",
    "_Feature"
   ],
   "window_display": false
  }
 },
 "nbformat": 4,
 "nbformat_minor": 2
}
