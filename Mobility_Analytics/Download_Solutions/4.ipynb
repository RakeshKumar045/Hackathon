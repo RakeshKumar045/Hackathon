{
 "cells": [
  {
   "cell_type": "code",
   "execution_count": 1,
   "metadata": {},
   "outputs": [],
   "source": [
    "import pandas as pd\n",
    "import numpy as np\n",
    "import os\n",
    "from sklearn.metrics import accuracy_score,confusion_matrix,f1_score,log_loss\n",
    "from sklearn.model_selection import train_test_split\n",
    "from sklearn.preprocessing import MinMaxScaler\n",
    "import lightgbm as lgb\n",
    "from lightgbm import LGBMClassifier\n",
    "from sklearn.model_selection import GridSearchCV,RandomizedSearchCV"
   ]
  },
  {
   "cell_type": "code",
   "execution_count": 2,
   "metadata": {},
   "outputs": [
    {
     "data": {
      "text/plain": [
       "((131662, 14), (87395, 13))"
      ]
     },
     "execution_count": 2,
     "metadata": {},
     "output_type": "execute_result"
    }
   ],
   "source": [
    "train_df = pd.read_csv('train_Wc8LBpr.csv')\n",
    "test_df = pd.read_csv('test_VsU9xXK.csv')\n",
    "train_df.shape,test_df.shape"
   ]
  },
  {
   "cell_type": "code",
   "execution_count": 3,
   "metadata": {},
   "outputs": [
    {
     "data": {
      "text/plain": [
       "((131662, 14), (87395, 13), (219057, 14))"
      ]
     },
     "execution_count": 3,
     "metadata": {},
     "output_type": "execute_result"
    }
   ],
   "source": [
    "df = train_df.append(test_df)\n",
    "df_sub = pd.read_csv('sample_submission_NoPBkjr.csv')\n",
    "train_df.shape,test_df.shape,df.shape"
   ]
  },
  {
   "cell_type": "code",
   "execution_count": 5,
   "metadata": {},
   "outputs": [],
   "source": [
    "# df['Tot_score'] =  df['Location_Score']+df['Internal_Audit_Score']+df['External_Audit_Score']+df['Fin_Score']+df['Loss_score']\n",
    "# df['Audit_score'] = df['Internal_Audit_Score']+df['External_Audit_Score']\n",
    "# df['Audit_score_diff'] = abs(df['Internal_Audit_Score']-df['External_Audit_Score'])\n",
    "# df['Audit_score_bool'] = (df['Internal_Audit_Score']>df['External_Audit_Score'])*1\n",
    "# df['var1'] = df['Location_Score']/df['Internal_Audit_Score']\n",
    "# df['var2'] = df['Location_Score']/df['External_Audit_Score']\n",
    "# df['var3'] = df['Location_Score']/df['Fin_Score']\n",
    "# df['var4'] = df['Location_Score']/df['Loss_score']"
   ]
  },
  {
   "cell_type": "code",
   "execution_count": 4,
   "metadata": {},
   "outputs": [
    {
     "data": {
      "text/plain": [
       "Trip_ID                             0\n",
       "Trip_Distance                       0\n",
       "Type_of_Cab                     33368\n",
       "Customer_Since_Months            9886\n",
       "Life_Style_Index                33520\n",
       "Confidence_Life_Style_Index     33520\n",
       "Destination_Type                    0\n",
       "Customer_Rating                     0\n",
       "Cancellation_Last_1Month            0\n",
       "Var1                           117819\n",
       "Var2                                0\n",
       "Var3                                0\n",
       "Gender                              0\n",
       "Surge_Pricing_Type              87395\n",
       "dtype: int64"
      ]
     },
     "execution_count": 4,
     "metadata": {},
     "output_type": "execute_result"
    }
   ],
   "source": [
    "df.isnull().sum()"
   ]
  },
  {
   "cell_type": "code",
   "execution_count": 5,
   "metadata": {},
   "outputs": [
    {
     "name": "stdout",
     "output_type": "stream",
     "text": [
      "<class 'pandas.core.frame.DataFrame'>\n",
      "Int64Index: 219057 entries, 0 to 87394\n",
      "Data columns (total 4 columns):\n",
      " #   Column                       Non-Null Count   Dtype  \n",
      "---  ------                       --------------   -----  \n",
      " 0   Customer_Since_Months        209171 non-null  float64\n",
      " 1   Life_Style_Index             185537 non-null  float64\n",
      " 2   Confidence_Life_Style_Index  185537 non-null  object \n",
      " 3   Var1                         101238 non-null  float64\n",
      "dtypes: float64(3), object(1)\n",
      "memory usage: 8.4+ MB\n"
     ]
    }
   ],
   "source": [
    "df[['Customer_Since_Months','Life_Style_Index','Confidence_Life_Style_Index','Var1']].info()"
   ]
  },
  {
   "cell_type": "code",
   "execution_count": 6,
   "metadata": {},
   "outputs": [
    {
     "data": {
      "text/plain": [
       "B    67265\n",
       "C    59736\n",
       "A    58536\n",
       "Name: Confidence_Life_Style_Index, dtype: int64"
      ]
     },
     "execution_count": 6,
     "metadata": {},
     "output_type": "execute_result"
    }
   ],
   "source": [
    "df['Confidence_Life_Style_Index'].value_counts()"
   ]
  },
  {
   "cell_type": "code",
   "execution_count": 7,
   "metadata": {},
   "outputs": [],
   "source": [
    "for x in ['Customer_Since_Months','Life_Style_Index','Var1']:\n",
    "    df[x] = df[x].fillna(df[x].mean())\n",
    "df['Type_of_Cab'] = df['Type_of_Cab'].fillna('Miss')\n",
    "df['Confidence_Life_Style_Index'] = df['Confidence_Life_Style_Index'].fillna('Miss')"
   ]
  },
  {
   "cell_type": "code",
   "execution_count": 8,
   "metadata": {},
   "outputs": [
    {
     "data": {
      "text/plain": [
       "Trip_ID                            0\n",
       "Trip_Distance                      0\n",
       "Type_of_Cab                        0\n",
       "Customer_Since_Months              0\n",
       "Life_Style_Index                   0\n",
       "Confidence_Life_Style_Index        0\n",
       "Destination_Type                   0\n",
       "Customer_Rating                    0\n",
       "Cancellation_Last_1Month           0\n",
       "Var1                               0\n",
       "Var2                               0\n",
       "Var3                               0\n",
       "Gender                             0\n",
       "Surge_Pricing_Type             87395\n",
       "dtype: int64"
      ]
     },
     "execution_count": 8,
     "metadata": {},
     "output_type": "execute_result"
    }
   ],
   "source": [
    "df.isnull().sum()"
   ]
  },
  {
   "cell_type": "code",
   "execution_count": 9,
   "metadata": {},
   "outputs": [
    {
     "name": "stdout",
     "output_type": "stream",
     "text": [
      "<class 'pandas.core.frame.DataFrame'>\n",
      "Int64Index: 219057 entries, 0 to 87394\n",
      "Data columns (total 14 columns):\n",
      " #   Column                       Non-Null Count   Dtype  \n",
      "---  ------                       --------------   -----  \n",
      " 0   Trip_ID                      219057 non-null  object \n",
      " 1   Trip_Distance                219057 non-null  float64\n",
      " 2   Type_of_Cab                  219057 non-null  object \n",
      " 3   Customer_Since_Months        219057 non-null  float64\n",
      " 4   Life_Style_Index             219057 non-null  float64\n",
      " 5   Confidence_Life_Style_Index  219057 non-null  object \n",
      " 6   Destination_Type             219057 non-null  object \n",
      " 7   Customer_Rating              219057 non-null  float64\n",
      " 8   Cancellation_Last_1Month     219057 non-null  int64  \n",
      " 9   Var1                         219057 non-null  float64\n",
      " 10  Var2                         219057 non-null  int64  \n",
      " 11  Var3                         219057 non-null  int64  \n",
      " 12  Gender                       219057 non-null  object \n",
      " 13  Surge_Pricing_Type           131662 non-null  float64\n",
      "dtypes: float64(6), int64(3), object(5)\n",
      "memory usage: 25.1+ MB\n"
     ]
    }
   ],
   "source": [
    "df.info()"
   ]
  },
  {
   "cell_type": "code",
   "execution_count": 10,
   "metadata": {},
   "outputs": [
    {
     "data": {
      "text/plain": [
       "(219057, 35)"
      ]
     },
     "execution_count": 10,
     "metadata": {},
     "output_type": "execute_result"
    }
   ],
   "source": [
    "del df['Trip_ID']\n",
    "df = pd.get_dummies(df)\n",
    "df.shape"
   ]
  },
  {
   "cell_type": "code",
   "execution_count": 11,
   "metadata": {},
   "outputs": [
    {
     "data": {
      "text/html": [
       "<div>\n",
       "<style scoped>\n",
       "    .dataframe tbody tr th:only-of-type {\n",
       "        vertical-align: middle;\n",
       "    }\n",
       "\n",
       "    .dataframe tbody tr th {\n",
       "        vertical-align: top;\n",
       "    }\n",
       "\n",
       "    .dataframe thead th {\n",
       "        text-align: right;\n",
       "    }\n",
       "</style>\n",
       "<table border=\"1\" class=\"dataframe\">\n",
       "  <thead>\n",
       "    <tr style=\"text-align: right;\">\n",
       "      <th></th>\n",
       "      <th>Trip_Distance</th>\n",
       "      <th>Customer_Since_Months</th>\n",
       "      <th>Life_Style_Index</th>\n",
       "      <th>Customer_Rating</th>\n",
       "      <th>Cancellation_Last_1Month</th>\n",
       "      <th>Var1</th>\n",
       "      <th>Var2</th>\n",
       "      <th>Var3</th>\n",
       "      <th>Type_of_Cab_A</th>\n",
       "      <th>Type_of_Cab_B</th>\n",
       "      <th>...</th>\n",
       "      <th>Destination_Type_H</th>\n",
       "      <th>Destination_Type_I</th>\n",
       "      <th>Destination_Type_J</th>\n",
       "      <th>Destination_Type_K</th>\n",
       "      <th>Destination_Type_L</th>\n",
       "      <th>Destination_Type_M</th>\n",
       "      <th>Destination_Type_N</th>\n",
       "      <th>Gender_Female</th>\n",
       "      <th>Gender_Male</th>\n",
       "      <th>target</th>\n",
       "    </tr>\n",
       "  </thead>\n",
       "  <tbody>\n",
       "    <tr>\n",
       "      <th>0</th>\n",
       "      <td>0.059310</td>\n",
       "      <td>0.1</td>\n",
       "      <td>0.311993</td>\n",
       "      <td>0.780945</td>\n",
       "      <td>0.00</td>\n",
       "      <td>0.055556</td>\n",
       "      <td>0.071429</td>\n",
       "      <td>0.051948</td>\n",
       "      <td>0.0</td>\n",
       "      <td>1.0</td>\n",
       "      <td>...</td>\n",
       "      <td>0.0</td>\n",
       "      <td>0.0</td>\n",
       "      <td>0.0</td>\n",
       "      <td>0.0</td>\n",
       "      <td>0.0</td>\n",
       "      <td>0.0</td>\n",
       "      <td>0.0</td>\n",
       "      <td>1.0</td>\n",
       "      <td>0.0</td>\n",
       "      <td>2.0</td>\n",
       "    </tr>\n",
       "    <tr>\n",
       "      <th>1</th>\n",
       "      <td>0.267719</td>\n",
       "      <td>1.0</td>\n",
       "      <td>0.411721</td>\n",
       "      <td>0.689922</td>\n",
       "      <td>0.00</td>\n",
       "      <td>0.044444</td>\n",
       "      <td>0.190476</td>\n",
       "      <td>0.168831</td>\n",
       "      <td>0.0</td>\n",
       "      <td>1.0</td>\n",
       "      <td>...</td>\n",
       "      <td>0.0</td>\n",
       "      <td>0.0</td>\n",
       "      <td>0.0</td>\n",
       "      <td>0.0</td>\n",
       "      <td>0.0</td>\n",
       "      <td>0.0</td>\n",
       "      <td>0.0</td>\n",
       "      <td>0.0</td>\n",
       "      <td>1.0</td>\n",
       "      <td>2.0</td>\n",
       "    </tr>\n",
       "    <tr>\n",
       "      <th>2</th>\n",
       "      <td>0.378902</td>\n",
       "      <td>1.0</td>\n",
       "      <td>0.417384</td>\n",
       "      <td>0.700175</td>\n",
       "      <td>0.25</td>\n",
       "      <td>0.189422</td>\n",
       "      <td>0.190476</td>\n",
       "      <td>0.162338</td>\n",
       "      <td>0.0</td>\n",
       "      <td>0.0</td>\n",
       "      <td>...</td>\n",
       "      <td>0.0</td>\n",
       "      <td>0.0</td>\n",
       "      <td>0.0</td>\n",
       "      <td>0.0</td>\n",
       "      <td>0.0</td>\n",
       "      <td>0.0</td>\n",
       "      <td>0.0</td>\n",
       "      <td>0.0</td>\n",
       "      <td>1.0</td>\n",
       "      <td>2.0</td>\n",
       "    </tr>\n",
       "    <tr>\n",
       "      <th>3</th>\n",
       "      <td>0.562339</td>\n",
       "      <td>1.0</td>\n",
       "      <td>0.417384</td>\n",
       "      <td>0.690673</td>\n",
       "      <td>0.00</td>\n",
       "      <td>0.189422</td>\n",
       "      <td>0.142857</td>\n",
       "      <td>0.142857</td>\n",
       "      <td>0.0</td>\n",
       "      <td>0.0</td>\n",
       "      <td>...</td>\n",
       "      <td>0.0</td>\n",
       "      <td>0.0</td>\n",
       "      <td>0.0</td>\n",
       "      <td>0.0</td>\n",
       "      <td>0.0</td>\n",
       "      <td>0.0</td>\n",
       "      <td>0.0</td>\n",
       "      <td>0.0</td>\n",
       "      <td>1.0</td>\n",
       "      <td>3.0</td>\n",
       "    </tr>\n",
       "    <tr>\n",
       "      <th>4</th>\n",
       "      <td>0.501653</td>\n",
       "      <td>1.0</td>\n",
       "      <td>0.482585</td>\n",
       "      <td>0.680420</td>\n",
       "      <td>0.50</td>\n",
       "      <td>0.116667</td>\n",
       "      <td>0.107143</td>\n",
       "      <td>0.324675</td>\n",
       "      <td>0.0</td>\n",
       "      <td>0.0</td>\n",
       "      <td>...</td>\n",
       "      <td>0.0</td>\n",
       "      <td>0.0</td>\n",
       "      <td>0.0</td>\n",
       "      <td>0.0</td>\n",
       "      <td>0.0</td>\n",
       "      <td>0.0</td>\n",
       "      <td>0.0</td>\n",
       "      <td>0.0</td>\n",
       "      <td>1.0</td>\n",
       "      <td>2.0</td>\n",
       "    </tr>\n",
       "  </tbody>\n",
       "</table>\n",
       "<p>5 rows × 35 columns</p>\n",
       "</div>"
      ],
      "text/plain": [
       "   Trip_Distance  Customer_Since_Months  Life_Style_Index  Customer_Rating  \\\n",
       "0       0.059310                    0.1          0.311993         0.780945   \n",
       "1       0.267719                    1.0          0.411721         0.689922   \n",
       "2       0.378902                    1.0          0.417384         0.700175   \n",
       "3       0.562339                    1.0          0.417384         0.690673   \n",
       "4       0.501653                    1.0          0.482585         0.680420   \n",
       "\n",
       "   Cancellation_Last_1Month      Var1      Var2      Var3  Type_of_Cab_A  \\\n",
       "0                      0.00  0.055556  0.071429  0.051948            0.0   \n",
       "1                      0.00  0.044444  0.190476  0.168831            0.0   \n",
       "2                      0.25  0.189422  0.190476  0.162338            0.0   \n",
       "3                      0.00  0.189422  0.142857  0.142857            0.0   \n",
       "4                      0.50  0.116667  0.107143  0.324675            0.0   \n",
       "\n",
       "   Type_of_Cab_B  ...  Destination_Type_H  Destination_Type_I  \\\n",
       "0            1.0  ...                 0.0                 0.0   \n",
       "1            1.0  ...                 0.0                 0.0   \n",
       "2            0.0  ...                 0.0                 0.0   \n",
       "3            0.0  ...                 0.0                 0.0   \n",
       "4            0.0  ...                 0.0                 0.0   \n",
       "\n",
       "   Destination_Type_J  Destination_Type_K  Destination_Type_L  \\\n",
       "0                 0.0                 0.0                 0.0   \n",
       "1                 0.0                 0.0                 0.0   \n",
       "2                 0.0                 0.0                 0.0   \n",
       "3                 0.0                 0.0                 0.0   \n",
       "4                 0.0                 0.0                 0.0   \n",
       "\n",
       "   Destination_Type_M  Destination_Type_N  Gender_Female  Gender_Male  target  \n",
       "0                 0.0                 0.0            1.0          0.0     2.0  \n",
       "1                 0.0                 0.0            0.0          1.0     2.0  \n",
       "2                 0.0                 0.0            0.0          1.0     2.0  \n",
       "3                 0.0                 0.0            0.0          1.0     3.0  \n",
       "4                 0.0                 0.0            0.0          1.0     2.0  \n",
       "\n",
       "[5 rows x 35 columns]"
      ]
     },
     "execution_count": 11,
     "metadata": {},
     "output_type": "execute_result"
    }
   ],
   "source": [
    "from sklearn.preprocessing import MinMaxScaler,StandardScaler\n",
    "scaler = MinMaxScaler()\n",
    "df_1 = scaler.fit_transform(df.drop(['Surge_Pricing_Type'],axis=1))\n",
    "df_1 = pd.DataFrame(df_1)\n",
    "df_1.columns = df.drop(['Surge_Pricing_Type'],axis=1).columns\n",
    "df_1['target'] = list(df['Surge_Pricing_Type'])\n",
    "df_1.head()\n"
   ]
  },
  {
   "cell_type": "code",
   "execution_count": 12,
   "metadata": {},
   "outputs": [],
   "source": [
    "X = df_1[df_1.target.notnull()].drop(['target'],axis=1)\n",
    "y = df_1.target[df_1.target.notnull()]\n",
    "\n",
    "\n",
    "X_train, X_test, y_train, y_test = train_test_split( X, y, test_size=0.2, random_state=42)"
   ]
  },
  {
   "cell_type": "code",
   "execution_count": null,
   "metadata": {},
   "outputs": [
    {
     "name": "stderr",
     "output_type": "stream",
     "text": [
      "/home/rakesh/anaconda3/lib/python3.7/site-packages/sklearn/model_selection/_split.py:296: FutureWarning: Setting a random_state has no effect since shuffle is False. This will raise an error in 0.24. You should leave random_state to its default (None), or set shuffle=True.\n",
      "  FutureWarning\n"
     ]
    },
    {
     "name": "stdout",
     "output_type": "stream",
     "text": [
      "0.7040328092959672\n",
      "0.7047922837396522\n",
      "0.7053015342548989\n",
      "0.7098587270241531\n",
      "0.6994531368676895\n",
      "0.70370651678566\n",
      "0.7045420021266899\n"
     ]
    }
   ],
   "source": [
    "ml_model = LGBMClassifier(subsample= 0.9,\n",
    " reg_lambda= 2.5,\n",
    " reg_alpha= 1,\n",
    " random_state= 108,\n",
    " objective= 'multiclass',\n",
    " n_estimators= 4000,\n",
    " min_split_gain= 0.5,\n",
    " min_data_in_leaf= 20,\n",
    " metric= 'multi_logloss',\n",
    " max_depth= 8,\n",
    " learning_rate= 0.01,\n",
    " colsample_bytree= 1,\n",
    " boosting_type= 'gbdt')\n",
    "test_pred_all = []\n",
    "lst = []\n",
    "from sklearn.model_selection import StratifiedKFold\n",
    "skf = StratifiedKFold(n_splits=10, random_state=108)\n",
    "# X is the feature set and y is the target\n",
    "for train_index, test_index in skf.split(X,y): \n",
    "    X_train, X_test = X.iloc[train_index], X.iloc[test_index]\n",
    "    y_train, y_test = y.iloc[train_index], y.iloc[test_index]\n",
    "    ml_model = ml_model.fit(X_train, y_train)\n",
    "    \n",
    "   \n",
    "    \n",
    "    pred = ml_model.predict(X_test)\n",
    "    print(accuracy_score(y_test,pred))\n",
    "    lst.append(accuracy_score(y_test,pred))\n",
    "    test_pred = ml_model.predict(df_1[df_1.target.isnull()].drop(['target'],axis=1))\n",
    "    test_pred_all.append(test_pred)\n",
    "print('#### avg log_loss ####')\n",
    "print(sum(lst)/len(lst))\n",
    "\n",
    "\n",
    "\n",
    "## 0.2989202402351237  -- 0.27494250876163917\n"
   ]
  },
  {
   "cell_type": "code",
   "execution_count": null,
   "metadata": {},
   "outputs": [],
   "source": [
    "## lgbm\n",
    "kk = pd.DataFrame(test_pred_all).T\n",
    "kk.head()\n",
    "\n",
    "# kk['ss'] = kk.apply(lambda x : x.value_counts().idxmax() , axis = 1)\n",
    "# test_df['Surge_Pricing_Type'] = kk['ss']\n",
    "# test_df[['Trip_ID','Surge_Pricing_Type']].to_csv('lgbm_sub.csv',index=False)"
   ]
  },
  {
   "cell_type": "code",
   "execution_count": null,
   "metadata": {},
   "outputs": [],
   "source": [
    "kk['ss'] = kk.apply(lambda x : x.value_counts().idxmax() , axis = 1)"
   ]
  },
  {
   "cell_type": "code",
   "execution_count": null,
   "metadata": {},
   "outputs": [],
   "source": [
    "kk.tail()"
   ]
  },
  {
   "cell_type": "code",
   "execution_count": null,
   "metadata": {},
   "outputs": [],
   "source": [
    "\n",
    "test_df['Surge_Pricing_Type'] = kk['ss']\n",
    "test_df[['Trip_ID','Surge_Pricing_Type']].to_csv('lgbm_sub.csv',index=False)"
   ]
  },
  {
   "cell_type": "markdown",
   "metadata": {},
   "source": [
    "### Random Forest"
   ]
  },
  {
   "cell_type": "code",
   "execution_count": 62,
   "metadata": {},
   "outputs": [
    {
     "name": "stderr",
     "output_type": "stream",
     "text": [
      "C:\\Users\\503111508\\Anaconda3\\lib\\site-packages\\sklearn\\model_selection\\_split.py:296: FutureWarning: Setting a random_state has no effect since shuffle is False. This will raise an error in 0.24. You should leave random_state to its default (None), or set shuffle=True.\n",
      "  FutureWarning\n"
     ]
    },
    {
     "name": "stdout",
     "output_type": "stream",
     "text": [
      "0.6801093643198907\n",
      "0.6823118402065771\n",
      "0.6792495822573295\n",
      "0.6903387513291812\n",
      "0.6805407868752849\n",
      "0.6854777457086435\n",
      "0.6895032659881513\n",
      "0.6923135348625247\n",
      "0.6771988455111652\n",
      "0.6835029621753\n",
      "#### avg log_loss ####\n",
      "0.6840546679234047\n"
     ]
    }
   ],
   "source": [
    "from sklearn.ensemble import RandomForestClassifier\n",
    "ml_model = RandomForestClassifier(n_estimators = 500, min_samples_leaf = 2, max_features = 20, max_depth = 6, criterion= 'entropy',random_state=108)\n",
    "\n",
    "test_pred_all = []\n",
    "lst = []\n",
    "from sklearn.model_selection import StratifiedKFold\n",
    "skf = StratifiedKFold(n_splits=10, random_state=108)\n",
    "# X is the feature set and y is the target\n",
    "for train_index, test_index in skf.split(X,y): \n",
    "    X_train, X_test = X.iloc[train_index], X.iloc[test_index]\n",
    "    y_train, y_test = y.iloc[train_index], y.iloc[test_index]\n",
    "    ml_model = ml_model.fit(X_train, y_train)\n",
    "    \n",
    "   \n",
    "    \n",
    "    pred = ml_model.predict(X_test)\n",
    "    print(accuracy_score(y_test,pred))\n",
    "    lst.append(accuracy_score(y_test,pred))\n",
    "    test_pred = ml_model.predict(df_1[df_1.target.isnull()].drop(['target'],axis=1))\n",
    "    test_pred_all.append(test_pred)\n",
    "print('#### avg log_loss ####')\n",
    "print(sum(lst)/len(lst))\n",
    "\n",
    "\n",
    "\n",
    "## 0.27776065675905426\n"
   ]
  },
  {
   "cell_type": "code",
   "execution_count": 63,
   "metadata": {},
   "outputs": [
    {
     "data": {
      "text/html": [
       "<div>\n",
       "<style scoped>\n",
       "    .dataframe tbody tr th:only-of-type {\n",
       "        vertical-align: middle;\n",
       "    }\n",
       "\n",
       "    .dataframe tbody tr th {\n",
       "        vertical-align: top;\n",
       "    }\n",
       "\n",
       "    .dataframe thead th {\n",
       "        text-align: right;\n",
       "    }\n",
       "</style>\n",
       "<table border=\"1\" class=\"dataframe\">\n",
       "  <thead>\n",
       "    <tr style=\"text-align: right;\">\n",
       "      <th></th>\n",
       "      <th>0</th>\n",
       "      <th>1</th>\n",
       "      <th>2</th>\n",
       "      <th>3</th>\n",
       "      <th>4</th>\n",
       "      <th>5</th>\n",
       "      <th>6</th>\n",
       "      <th>7</th>\n",
       "      <th>8</th>\n",
       "      <th>9</th>\n",
       "      <th>ss</th>\n",
       "    </tr>\n",
       "  </thead>\n",
       "  <tbody>\n",
       "    <tr>\n",
       "      <th>0</th>\n",
       "      <td>1.0</td>\n",
       "      <td>1.0</td>\n",
       "      <td>1.0</td>\n",
       "      <td>1.0</td>\n",
       "      <td>1.0</td>\n",
       "      <td>1.0</td>\n",
       "      <td>1.0</td>\n",
       "      <td>1.0</td>\n",
       "      <td>1.0</td>\n",
       "      <td>1.0</td>\n",
       "      <td>1.0</td>\n",
       "    </tr>\n",
       "    <tr>\n",
       "      <th>1</th>\n",
       "      <td>2.0</td>\n",
       "      <td>2.0</td>\n",
       "      <td>2.0</td>\n",
       "      <td>2.0</td>\n",
       "      <td>2.0</td>\n",
       "      <td>2.0</td>\n",
       "      <td>2.0</td>\n",
       "      <td>2.0</td>\n",
       "      <td>2.0</td>\n",
       "      <td>2.0</td>\n",
       "      <td>2.0</td>\n",
       "    </tr>\n",
       "    <tr>\n",
       "      <th>2</th>\n",
       "      <td>2.0</td>\n",
       "      <td>2.0</td>\n",
       "      <td>2.0</td>\n",
       "      <td>2.0</td>\n",
       "      <td>2.0</td>\n",
       "      <td>2.0</td>\n",
       "      <td>2.0</td>\n",
       "      <td>2.0</td>\n",
       "      <td>2.0</td>\n",
       "      <td>2.0</td>\n",
       "      <td>2.0</td>\n",
       "    </tr>\n",
       "    <tr>\n",
       "      <th>3</th>\n",
       "      <td>2.0</td>\n",
       "      <td>2.0</td>\n",
       "      <td>2.0</td>\n",
       "      <td>2.0</td>\n",
       "      <td>2.0</td>\n",
       "      <td>2.0</td>\n",
       "      <td>2.0</td>\n",
       "      <td>2.0</td>\n",
       "      <td>2.0</td>\n",
       "      <td>2.0</td>\n",
       "      <td>2.0</td>\n",
       "    </tr>\n",
       "    <tr>\n",
       "      <th>4</th>\n",
       "      <td>2.0</td>\n",
       "      <td>2.0</td>\n",
       "      <td>2.0</td>\n",
       "      <td>2.0</td>\n",
       "      <td>2.0</td>\n",
       "      <td>2.0</td>\n",
       "      <td>2.0</td>\n",
       "      <td>2.0</td>\n",
       "      <td>2.0</td>\n",
       "      <td>2.0</td>\n",
       "      <td>2.0</td>\n",
       "    </tr>\n",
       "  </tbody>\n",
       "</table>\n",
       "</div>"
      ],
      "text/plain": [
       "     0    1    2    3    4    5    6    7    8    9   ss\n",
       "0  1.0  1.0  1.0  1.0  1.0  1.0  1.0  1.0  1.0  1.0  1.0\n",
       "1  2.0  2.0  2.0  2.0  2.0  2.0  2.0  2.0  2.0  2.0  2.0\n",
       "2  2.0  2.0  2.0  2.0  2.0  2.0  2.0  2.0  2.0  2.0  2.0\n",
       "3  2.0  2.0  2.0  2.0  2.0  2.0  2.0  2.0  2.0  2.0  2.0\n",
       "4  2.0  2.0  2.0  2.0  2.0  2.0  2.0  2.0  2.0  2.0  2.0"
      ]
     },
     "execution_count": 63,
     "metadata": {},
     "output_type": "execute_result"
    }
   ],
   "source": [
    "## rf\n",
    "\n",
    "kk = pd.DataFrame(test_pred_all).T\n",
    "\n",
    "\n",
    "kk['ss'] = kk.apply(lambda x : x.value_counts().idxmax() , axis = 1)\n",
    "test_df['Surge_Pricing_Type'] = kk['ss']\n",
    "test_df[['Trip_ID','Surge_Pricing_Type']].to_csv('rf_sub.csv',index=False)\n",
    "\n",
    "kk.head()"
   ]
  },
  {
   "cell_type": "markdown",
   "metadata": {},
   "source": [
    "### XGBOOST"
   ]
  },
  {
   "cell_type": "code",
   "execution_count": null,
   "metadata": {},
   "outputs": [
    {
     "name": "stderr",
     "output_type": "stream",
     "text": [
      "C:\\Users\\503111508\\Anaconda3\\lib\\site-packages\\sklearn\\model_selection\\_split.py:296: FutureWarning: Setting a random_state has no effect since shuffle is False. This will raise an error in 0.24. You should leave random_state to its default (None), or set shuffle=True.\n",
      "  FutureWarning\n"
     ]
    }
   ],
   "source": [
    "import xgboost as xgb\n",
    "ml_model = xgb.XGBClassifier(max_depth=30,learning_rate=0.01,colsample_bytree=.9,reg_alpha=3.2, reg_lambda=3.5,n_estimators=3000,gamma=1,n_jobs=-1)\n",
    "test_pred_all = []\n",
    "lst = []\n",
    "from sklearn.model_selection import StratifiedKFold\n",
    "skf = StratifiedKFold(n_splits=10, random_state=108)\n",
    "# X is the feature set and y is the target\n",
    "for train_index, test_index in skf.split(X,y): \n",
    "    X_train, X_test = X.iloc[train_index], X.iloc[test_index]\n",
    "    y_train, y_test = y.iloc[train_index], y.iloc[test_index]\n",
    "    ml_model = ml_model.fit(X_train, y_train)\n",
    "    \n",
    "   \n",
    "    \n",
    "    pred = ml_model.predict(X_test)\n",
    "    print(accuracy_score(y_test,pred))\n",
    "    lst.append(accuracy_score(y_test,pred))\n",
    "    test_pred = ml_model.predict(df_1[df_1.target.isnull()].drop(['target'],axis=1))\n",
    "    test_pred_all.append(test_pred)\n",
    "print('#### avg log_loss ####')\n",
    "print(sum(lst)/len(lst))\n",
    "\n",
    "\n"
   ]
  },
  {
   "cell_type": "code",
   "execution_count": null,
   "metadata": {},
   "outputs": [],
   "source": [
    "## xgb\n",
    "\n",
    "kk = pd.DataFrame(test_pred_all).T\n",
    "\n",
    "\n",
    "kk['ss'] = kk.apply(lambda x : x.value_counts().idxmax() , axis = 1)\n",
    "test_df['Surge_Pricing_Type'] = kk['ss']\n",
    "test_df[['Trip_ID','Surge_Pricing_Type']].to_csv('rf_xgb.csv',index=False)\n",
    "\n",
    "kk.head()"
   ]
  },
  {
   "cell_type": "markdown",
   "metadata": {},
   "source": [
    "### Final Prediction"
   ]
  },
  {
   "cell_type": "code",
   "execution_count": 64,
   "metadata": {},
   "outputs": [],
   "source": [
    "lgbm = pd.read_excel('lgbm_final.xlsx')[1]\n",
    "rf = pd.read_excel('rf_final.xlsx')[1]\n",
    "xgb = pd.read_excel('xgb_final.xlsx')[1]\n"
   ]
  },
  {
   "cell_type": "code",
   "execution_count": 69,
   "metadata": {},
   "outputs": [
    {
     "data": {
      "text/html": [
       "<div>\n",
       "<style scoped>\n",
       "    .dataframe tbody tr th:only-of-type {\n",
       "        vertical-align: middle;\n",
       "    }\n",
       "\n",
       "    .dataframe tbody tr th {\n",
       "        vertical-align: top;\n",
       "    }\n",
       "\n",
       "    .dataframe thead th {\n",
       "        text-align: right;\n",
       "    }\n",
       "</style>\n",
       "<table border=\"1\" class=\"dataframe\">\n",
       "  <thead>\n",
       "    <tr style=\"text-align: right;\">\n",
       "      <th></th>\n",
       "      <th>0</th>\n",
       "      <th>1</th>\n",
       "    </tr>\n",
       "  </thead>\n",
       "  <tbody>\n",
       "    <tr>\n",
       "      <th>0</th>\n",
       "      <td>0.010887</td>\n",
       "      <td>0.989113</td>\n",
       "    </tr>\n",
       "    <tr>\n",
       "      <th>1</th>\n",
       "      <td>0.024250</td>\n",
       "      <td>0.975750</td>\n",
       "    </tr>\n",
       "    <tr>\n",
       "      <th>2</th>\n",
       "      <td>0.884820</td>\n",
       "      <td>0.115180</td>\n",
       "    </tr>\n",
       "    <tr>\n",
       "      <th>3</th>\n",
       "      <td>0.010011</td>\n",
       "      <td>0.989989</td>\n",
       "    </tr>\n",
       "    <tr>\n",
       "      <th>4</th>\n",
       "      <td>0.370040</td>\n",
       "      <td>0.629960</td>\n",
       "    </tr>\n",
       "    <tr>\n",
       "      <th>...</th>\n",
       "      <td>...</td>\n",
       "      <td>...</td>\n",
       "    </tr>\n",
       "    <tr>\n",
       "      <th>228</th>\n",
       "      <td>0.905825</td>\n",
       "      <td>0.094175</td>\n",
       "    </tr>\n",
       "    <tr>\n",
       "      <th>229</th>\n",
       "      <td>0.416092</td>\n",
       "      <td>0.583908</td>\n",
       "    </tr>\n",
       "    <tr>\n",
       "      <th>230</th>\n",
       "      <td>0.626688</td>\n",
       "      <td>0.373312</td>\n",
       "    </tr>\n",
       "    <tr>\n",
       "      <th>231</th>\n",
       "      <td>0.010144</td>\n",
       "      <td>0.989856</td>\n",
       "    </tr>\n",
       "    <tr>\n",
       "      <th>232</th>\n",
       "      <td>0.842671</td>\n",
       "      <td>0.157329</td>\n",
       "    </tr>\n",
       "  </tbody>\n",
       "</table>\n",
       "<p>233 rows × 2 columns</p>\n",
       "</div>"
      ],
      "text/plain": [
       "            0         1\n",
       "0    0.010887  0.989113\n",
       "1    0.024250  0.975750\n",
       "2    0.884820  0.115180\n",
       "3    0.010011  0.989989\n",
       "4    0.370040  0.629960\n",
       "..        ...       ...\n",
       "228  0.905825  0.094175\n",
       "229  0.416092  0.583908\n",
       "230  0.626688  0.373312\n",
       "231  0.010144  0.989856\n",
       "232  0.842671  0.157329\n",
       "\n",
       "[233 rows x 2 columns]"
      ]
     },
     "execution_count": 69,
     "metadata": {},
     "output_type": "execute_result"
    }
   ],
   "source": [
    "fnl = pd.concat([lgbm,rf,xgb],axis=1)\n",
    "fnl.columns = ['lgbm','rf','xgb']\n",
    "fnl[1] = fnl['lgbm']*.35+fnl['xgb']*.35 + fnl['rf']*.3\n",
    "fnl[0] = 1- fnl[1]\n",
    "fnl_submission = fnl[[0,1]]\n",
    "fnl_submission"
   ]
  },
  {
   "cell_type": "code",
   "execution_count": 70,
   "metadata": {},
   "outputs": [],
   "source": [
    "fnl_submission.to_excel('fnl_submission.xlsx',index=False)"
   ]
  },
  {
   "cell_type": "code",
   "execution_count": null,
   "metadata": {},
   "outputs": [],
   "source": []
  }
 ],
 "metadata": {
  "kernelspec": {
   "display_name": "Python 3",
   "language": "python",
   "name": "python3"
  },
  "language_info": {
   "codemirror_mode": {
    "name": "ipython",
    "version": 3
   },
   "file_extension": ".py",
   "mimetype": "text/x-python",
   "name": "python",
   "nbconvert_exporter": "python",
   "pygments_lexer": "ipython3",
   "version": "3.7.6"
  },
  "varInspector": {
   "cols": {
    "lenName": 16,
    "lenType": 16,
    "lenVar": 40
   },
   "kernels_config": {
    "python": {
     "delete_cmd_postfix": "",
     "delete_cmd_prefix": "del ",
     "library": "var_list.py",
     "varRefreshCmd": "print(var_dic_list())"
    },
    "r": {
     "delete_cmd_postfix": ") ",
     "delete_cmd_prefix": "rm(",
     "library": "var_list.r",
     "varRefreshCmd": "cat(var_dic_list()) "
    }
   },
   "types_to_exclude": [
    "module",
    "function",
    "builtin_function_or_method",
    "instance",
    "_Feature"
   ],
   "window_display": false
  }
 },
 "nbformat": 4,
 "nbformat_minor": 4
}
