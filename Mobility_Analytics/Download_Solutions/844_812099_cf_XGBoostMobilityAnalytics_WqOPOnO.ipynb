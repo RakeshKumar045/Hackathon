{
 "cells": [
  {
   "cell_type": "markdown",
   "metadata": {},
   "source": [
    "# DataVengers - AV_Mobilty_Analytics"
   ]
  },
  {
   "cell_type": "code",
   "execution_count": 13,
   "metadata": {},
   "outputs": [
    {
     "name": "stdout",
     "output_type": "stream",
     "text": [
      "Label Encoding...\n",
      "[0]\ttrain-merror:0.500015\n",
      "[20]\ttrain-merror:0.30118\n",
      "[40]\ttrain-merror:0.295195\n",
      "[60]\ttrain-merror:0.29221\n",
      "[80]\ttrain-merror:0.28902\n",
      "[100]\ttrain-merror:0.286301\n",
      "[120]\ttrain-merror:0.283833\n",
      "[140]\ttrain-merror:0.281569\n",
      "[160]\ttrain-merror:0.279587\n",
      "[180]\ttrain-merror:0.278053\n",
      "[200]\ttrain-merror:0.276184\n",
      "[220]\ttrain-merror:0.274369\n",
      "[240]\ttrain-merror:0.272911\n",
      "[254]\ttrain-merror:0.271589\n"
     ]
    }
   ],
   "source": [
    "import xgboost as xgb\n",
    "import numpy as np\n",
    "import pandas as pd\n",
    "\n",
    "train = pd.read_csv(\"train_Wc8LBpr.csv\")\n",
    "test = pd.read_csv(\"test_VsU9xXK.csv\")\n",
    "\n",
    "train['Gender'] = train['Gender'].replace(to_replace = {'Male': 0, 'Female': 1}) #XGBoost works on only numeric vectors \n",
    "test['Gender'] = test['Gender'].replace(to_replace = {'Male': 0, 'Female': 1})\n",
    "\n",
    "type_of_cab = {'A': 0, 'B': 1, 'C': 2, 'D': 3, 'E': 4}\n",
    "train['Type_of_Cab'] = train['Type_of_Cab'].replace(to_replace = type_of_cab) #XGBoost works on only numeric vectors \n",
    "test['Type_of_Cab'] = test['Type_of_Cab'].replace(to_replace = type_of_cab)\n",
    "\n",
    "\n",
    "confi_index = {'A': 0, 'B': 1, 'C': 2}\n",
    "train['Confidence_Life_Style_Index'] = train['Confidence_Life_Style_Index'].replace(to_replace = confi_index)\n",
    "test['Confidence_Life_Style_Index'] = test['Confidence_Life_Style_Index'].replace(to_replace = confi_index)\n",
    "\n",
    "train['Surge_Pricing_Type'] = train['Surge_Pricing_Type'] - 1\n",
    "\n",
    "X_train = train.copy()\n",
    "X_test = test.copy()\n",
    "\n",
    "from sklearn.preprocessing import LabelEncoder\n",
    "print(\"Label Encoding...\")\n",
    "for f in ['Destination_Type']:\n",
    "    lbl = LabelEncoder()\n",
    "    lbl.fit(list(X_train[f].values) + list(X_test[f].values)) #transforming values in Destination type using label encoder \n",
    "    X_train[f] = lbl.transform(list(X_train[f].values))\n",
    "    X_test[f] = lbl.transform(list(X_test[f].values))\n",
    "\n",
    "features = np.setdiff1d(train.columns, ['Trip_ID', 'Surge_Pricing_Type']) # returns set difference of the two arrays that have been \n",
    "                                                                          #passed as the arguments. Feature extraction, all columns except first and last       \n",
    "params = {\"objective\": \"multi:softmax\",\"booster\": \"gbtree\", \"nthread\": 4, \"silent\": 1,\n",
    "                \"eta\": 0.08, \"max_depth\": 6, \"subsample\": 0.9, \"colsample_bytree\": 0.7,\n",
    "                \"min_child_weight\": 1, \"num_class\": 3,\n",
    "                \"seed\": 2016, \"tree_method\": \"exact\"}\n",
    "dtrain = xgb.DMatrix(X_train[features], X_train['Surge_Pricing_Type'], missing=np.nan)\n",
    "dtest = xgb.DMatrix(X_test[features], missing=np.nan)\n",
    "\n",
    "nrounds = 255\n",
    "watchlist = [(dtrain, 'train')]\n",
    "bst = xgb.train(params, dtrain, num_boost_round=nrounds, evals=watchlist, verbose_eval=20)\n",
    "test_preds = bst.predict(dtest)\n",
    "\n",
    "submit = pd.DataFrame({'Trip_ID': test['Trip_ID'], 'Surge_Pricing_Type': test_preds+1})\n",
    "submit.to_csv(\"XGB2.csv\", index=False)"
   ]
  },
  {
   "cell_type": "code",
   "execution_count": null,
   "metadata": {},
   "outputs": [],
   "source": []
  },
  {
   "cell_type": "code",
   "execution_count": null,
   "metadata": {},
   "outputs": [],
   "source": []
  }
 ],
 "metadata": {
  "kernelspec": {
   "display_name": "Python 3",
   "language": "python",
   "name": "python3"
  },
  "language_info": {
   "codemirror_mode": {
    "name": "ipython",
    "version": 3
   },
   "file_extension": ".py",
   "mimetype": "text/x-python",
   "name": "python",
   "nbconvert_exporter": "python",
   "pygments_lexer": "ipython3",
   "version": "3.7.6"
  },
  "varInspector": {
   "cols": {
    "lenName": 16,
    "lenType": 16,
    "lenVar": 40
   },
   "kernels_config": {
    "python": {
     "delete_cmd_postfix": "",
     "delete_cmd_prefix": "del ",
     "library": "var_list.py",
     "varRefreshCmd": "print(var_dic_list())"
    },
    "r": {
     "delete_cmd_postfix": ") ",
     "delete_cmd_prefix": "rm(",
     "library": "var_list.r",
     "varRefreshCmd": "cat(var_dic_list()) "
    }
   },
   "types_to_exclude": [
    "module",
    "function",
    "builtin_function_or_method",
    "instance",
    "_Feature"
   ],
   "window_display": false
  }
 },
 "nbformat": 4,
 "nbformat_minor": 2
}
