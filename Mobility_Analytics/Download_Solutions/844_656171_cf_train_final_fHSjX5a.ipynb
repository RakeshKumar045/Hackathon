{
 "cells": [
  {
   "cell_type": "code",
   "execution_count": 52,
   "metadata": {},
   "outputs": [],
   "source": [
    "import numpy as np\n",
    "import csv\n",
    "import pandas as pd\n",
    "from sklearn.preprocessing import LabelEncoder, OneHotEncoder\n",
    "from sklearn.svm import LinearSVC, SVC\n",
    "from catboost import CatBoostClassifier\n",
    "from sklearn.model_selection import StratifiedKFold\n",
    "from scipy import stats"
   ]
  },
  {
   "cell_type": "code",
   "execution_count": 53,
   "metadata": {},
   "outputs": [
    {
     "name": "stdout",
     "output_type": "stream",
     "text": [
      "[[ 6.77      1.        2.42769  ...  0.        1.        0.      ]\n",
      " [29.47     10.        2.78245  ...  0.        0.        1.      ]\n",
      " [41.58     10.        2.802064 ...  0.        0.        1.      ]\n",
      " ...\n",
      " [40.17     10.        2.99565  ...  0.        1.        0.      ]\n",
      " [46.88      4.        3.04744  ...  0.        0.        1.      ]\n",
      " [31.96      7.        2.93773  ...  0.        0.        1.      ]] [2 2 2 ... 2 2 1]\n"
     ]
    }
   ],
   "source": [
    "df = pd.read_csv(\"train.csv\")\n",
    "df[\"Type_of_Cab\"] = df[\"Type_of_Cab\"].fillna(\"UNKNOWN\")\n",
    "df[\"Confidence_Life_Style_Index\"] = df[\"Confidence_Life_Style_Index\"].fillna(\"UNKNOWN\")\n",
    "month_mean = np.mean(df[\"Customer_Since_Months\"])\n",
    "df[\"Customer_Since_Months\"] = df[\"Customer_Since_Months\"].fillna(month_mean)\n",
    "life_style_mean = np.mean(df[\"Life_Style_Index\"])\n",
    "df[\"Life_Style_Index\"] = df[\"Life_Style_Index\"].fillna(life_style_mean)\n",
    "var1_mean = np.mean(df[\"Var1\"])\n",
    "df[\"Var1\"] = df[\"Var1\"].fillna(var1_mean)\n",
    "y = np.array(df[\"Surge_Pricing_Type\"])\n",
    "X = df[[\"Trip_Distance\", \"Customer_Since_Months\", \"Life_Style_Index\", \"Customer_Rating\", \"Cancellation_Last_1Month\", \"Var1\", \"Var2\", \"Var3\"]]\n",
    "cab_encoder = OneHotEncoder(dtype=np.uint8)\n",
    "cabs =  cab_encoder.fit_transform(df[\"Type_of_Cab\"].values.reshape(-1,1)).todense()\n",
    "lifestyle_encoder = OneHotEncoder(dtype=np.uint8)\n",
    "life = lifestyle_encoder.fit_transform(df[\"Confidence_Life_Style_Index\"].values.reshape(-1,1)).todense()\n",
    "dest_encoder = OneHotEncoder(dtype=np.uint8)\n",
    "dest = dest_encoder.fit_transform(df[\"Destination_Type\"].values.reshape(-1,1)).todense()\n",
    "gender_encoder = OneHotEncoder(dtype=np.uint8)\n",
    "gender = gender_encoder.fit_transform(df[\"Gender\"].values.reshape(-1,1)).todense()\n",
    "X = np.array(np.hstack((X,cabs,life,dest,gender)))\n",
    "print np.array(X),y"
   ]
  },
  {
   "cell_type": "code",
   "execution_count": 54,
   "metadata": {},
   "outputs": [
    {
     "name": "stdout",
     "output_type": "stream",
     "text": [
      "0.7042494208787453\n",
      "0.707667185660578\n",
      "0.704097520221775\n",
      "0.7089472884703023\n",
      "0.7021001860924385\n"
     ]
    }
   ],
   "source": [
    "models = []\n",
    "fold = StratifiedKFold(n_splits=5)\n",
    "for train_index, test_index in fold.split(X,y):\n",
    "    X_train,X_test = X[train_index], X[test_index]\n",
    "    y_train, y_test = y[train_index], y[test_index]\n",
    "    #model = CatBoostClassifier(iterations=2000,learning_rate=0.015, verbose=0)\n",
    "    model = CatBoostClassifier(verbose=0)\n",
    "    model.fit(X_train,y_train)\n",
    "    print model.score(X_test, y_test)\n",
    "    models.append(model)"
   ]
  },
  {
   "cell_type": "code",
   "execution_count": 31,
   "metadata": {},
   "outputs": [
    {
     "name": "stdout",
     "output_type": "stream",
     "text": [
      "0.02999999933\n",
      "0.02999999933\n",
      "0.02999999933\n",
      "0.02999999933\n",
      "0.02999999933\n"
     ]
    }
   ],
   "source": [
    "for model in models:\n",
    "    print model.learning_rate_"
   ]
  },
  {
   "cell_type": "code",
   "execution_count": 55,
   "metadata": {},
   "outputs": [],
   "source": [
    "df = pd.read_csv(\"test.csv\")\n",
    "df[\"Type_of_Cab\"] = df[\"Type_of_Cab\"].fillna(\"UNKNOWN\")\n",
    "df[\"Confidence_Life_Style_Index\"] = df[\"Confidence_Life_Style_Index\"].fillna(\"UNKNOWN\")\n",
    "df[\"Customer_Since_Months\"] = df[\"Customer_Since_Months\"].fillna(month_mean)\n",
    "df[\"Life_Style_Index\"] = df[\"Life_Style_Index\"].fillna(life_style_mean)\n",
    "df[\"Var1\"] = df[\"Var1\"].fillna(var1_mean)\n",
    "X = df[[\"Trip_Distance\", \"Customer_Since_Months\", \"Life_Style_Index\", \"Customer_Rating\", \"Cancellation_Last_1Month\", \"Var1\", \"Var2\", \"Var3\"]]\n",
    "cabs =  cab_encoder.transform(df[\"Type_of_Cab\"].values.reshape(-1,1)).todense()\n",
    "life = lifestyle_encoder.transform(df[\"Confidence_Life_Style_Index\"].values.reshape(-1,1)).todense()\n",
    "dest = dest_encoder.transform(df[\"Destination_Type\"].values.reshape(-1,1)).todense()\n",
    "gender = gender_encoder.transform(df[\"Gender\"].values.reshape(-1,1)).todense()\n",
    "X = np.array(np.hstack((X,cabs,life,dest,gender)))"
   ]
  },
  {
   "cell_type": "code",
   "execution_count": 56,
   "metadata": {},
   "outputs": [
    {
     "name": "stdout",
     "output_type": "stream",
     "text": [
      "(5, 87395, 1)\n"
     ]
    }
   ],
   "source": [
    "y = []\n",
    "for model in models:\n",
    "    y.append(model.predict(X))\n",
    "y = np.array(y)\n",
    "print y.shape\n",
    "#y = stats.mode(y,axis=0).mode.reshape(-1,)\n",
    "(values,counts) = np.unique(y,return_counts=True)\n",
    "ind=np.argmax(counts)\n",
    "y = y[ind].reshape(-1,)\n",
    "# print y"
   ]
  },
  {
   "cell_type": "code",
   "execution_count": 57,
   "metadata": {},
   "outputs": [],
   "source": [
    "ids = df[\"Trip_ID\"].values\n",
    "with open(\"sub.csv\",\"w\") as file:\n",
    "    csv_writer = csv.writer(file)\n",
    "    csv_writer.writerow([\"Trip_ID\", \"Surge_Pricing_Type\"])\n",
    "    i = 0\n",
    "    for id in ids:\n",
    "        csv_writer.writerow([id,int(y[i])])\n",
    "        i += 1"
   ]
  }
 ],
 "metadata": {
  "kernelspec": {
   "display_name": "Python 2",
   "language": "python",
   "name": "python2"
  },
  "language_info": {
   "codemirror_mode": {
    "name": "ipython",
    "version": 3
   },
   "file_extension": ".py",
   "mimetype": "text/x-python",
   "name": "python",
   "nbconvert_exporter": "python",
   "pygments_lexer": "ipython3",
   "version": "3.7.6"
  },
  "varInspector": {
   "cols": {
    "lenName": 16,
    "lenType": 16,
    "lenVar": 40
   },
   "kernels_config": {
    "python": {
     "delete_cmd_postfix": "",
     "delete_cmd_prefix": "del ",
     "library": "var_list.py",
     "varRefreshCmd": "print(var_dic_list())"
    },
    "r": {
     "delete_cmd_postfix": ") ",
     "delete_cmd_prefix": "rm(",
     "library": "var_list.r",
     "varRefreshCmd": "cat(var_dic_list()) "
    }
   },
   "types_to_exclude": [
    "module",
    "function",
    "builtin_function_or_method",
    "instance",
    "_Feature"
   ],
   "window_display": false
  }
 },
 "nbformat": 4,
 "nbformat_minor": 2
}
