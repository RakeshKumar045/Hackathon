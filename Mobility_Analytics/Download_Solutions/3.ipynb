{
 "cells": [
  {
   "cell_type": "code",
   "execution_count": 1437,
   "metadata": {},
   "outputs": [],
   "source": [
    "import pandas as pd\n",
    "import numpy as np\n",
    "import matplotlib.pyplot as plt\n",
    "import seaborn as sns\n",
    "from sklearn.metrics import log_loss,accuracy_score,classification_report,confusion_matrix\n",
    "import lightgbm as lgb\n",
    "from sklearn.model_selection import StratifiedKFold,KFold,GridSearchCV,GroupKFold,train_test_split,GroupKFold\n",
    "from rfpimp import *\n",
    "from xgboost import XGBClassifier\n",
    "pd.set_option('display.max_rows',100)"
   ]
  },
  {
   "cell_type": "code",
   "execution_count": 1589,
   "metadata": {},
   "outputs": [],
   "source": [
    "df_train = pd.read_csv('train.csv')\n",
    "df_test = pd.read_csv('test.csv')\n",
    "df_sub = pd.read_csv('sample_submission.csv')"
   ]
  },
  {
   "cell_type": "code",
   "execution_count": 1590,
   "metadata": {},
   "outputs": [],
   "source": [
    "cab = {'B': 1, 'C': 2, 'A': 0, 'D':3 , 'E':4}\n",
    "conf = {'B': 1, 'C': 2, 'A': 0}\n",
    "dest = {'A': 0, 'B': 1, 'C': 2, 'D': 3, 'E': 4, 'F': 5, 'G': 6, 'H': 7, 'I': 8, 'J': 9, 'K': 10, 'L': 11, 'N': 12, 'M': 13}\n",
    "gend = {'Male': 0, 'Female': 1}"
   ]
  },
  {
   "cell_type": "code",
   "execution_count": 1591,
   "metadata": {},
   "outputs": [],
   "source": [
    "df_train['Type_of_Cab'] = df_train['Type_of_Cab'].map(cab)\n",
    "df_train['Confidence_Life_Style_Index'] = df_train['Confidence_Life_Style_Index'].map(conf)\n",
    "df_train['Destination_Type'] = df_train['Destination_Type'].map(dest)\n",
    "df_train['Gender'] = df_train['Gender'].map(gend)"
   ]
  },
  {
   "cell_type": "code",
   "execution_count": 1592,
   "metadata": {},
   "outputs": [],
   "source": [
    "df_train['Type_of_Cab'].fillna(-999,inplace=True)\n",
    "df_train['Var1_isnull'] = df_train['Var1'].apply(lambda x: 1 if np.isnan(x) == True else 0)\n",
    "df_train['Var1'].fillna(df_train['Var1'].median(),inplace=True)\n",
    "df_train['Confidence_Life_Style_Index'].fillna(-999,inplace=True)\n",
    "df_train['Life_Style_Index'].fillna(-999,inplace=True)"
   ]
  },
  {
   "cell_type": "code",
   "execution_count": 1593,
   "metadata": {},
   "outputs": [],
   "source": [
    "df_train['Customer_isnull'] =  df_train['Customer_Since_Months'].apply(lambda x: 1 if np.isnan(x) == True else 0)\n",
    "df_train['Customer_Since_Months'].fillna(df_train['Customer_Since_Months'].median(),inplace=True)"
   ]
  },
  {
   "cell_type": "code",
   "execution_count": 1594,
   "metadata": {},
   "outputs": [],
   "source": [
    "df_train.drop('Trip_ID',axis=1,inplace=True)"
   ]
  },
  {
   "cell_type": "code",
   "execution_count": 1595,
   "metadata": {},
   "outputs": [],
   "source": [
    "encoding = df_train.groupby('Type_of_Cab').size()\n",
    "encoding = encoding/len(df_test)\n",
    "df_train['enc_cab'] = df_train['Type_of_Cab'].map(encoding)"
   ]
  },
  {
   "cell_type": "code",
   "execution_count": 1596,
   "metadata": {},
   "outputs": [],
   "source": [
    "# df_train.drop(['enc_cab'],axis=1,inplace=True)"
   ]
  },
  {
   "cell_type": "code",
   "execution_count": 1597,
   "metadata": {},
   "outputs": [],
   "source": [
    "X_train = df_train.drop(['Surge_Pricing_Type'],axis=1)\n",
    "y_train = df_train['Surge_Pricing_Type']"
   ]
  },
  {
   "cell_type": "code",
   "execution_count": 1598,
   "metadata": {},
   "outputs": [],
   "source": [
    "# df_train = pd.get_dummies(data=df_train,columns=['Confidence_Life_Style_Index','Destination_Type'])"
   ]
  },
  {
   "cell_type": "code",
   "execution_count": 1599,
   "metadata": {},
   "outputs": [],
   "source": [
    "# X_train,X_test,y_train,y_test = train_test_split(df_train.drop('Surge_Pricing_Type',axis=1),df_train['Surge_Pricing_Type'],test_size=0.3,stratify=df_train['Surge_Pricing_Type'],\n",
    "#                                                  random_state=22)"
   ]
  },
  {
   "cell_type": "code",
   "execution_count": 1600,
   "metadata": {},
   "outputs": [],
   "source": [
    "# X_test_final = X_test.copy()"
   ]
  },
  {
   "cell_type": "code",
   "execution_count": 1601,
   "metadata": {},
   "outputs": [],
   "source": [
    "# x_x,X_valid,_,y_valid = train_test_split(X_test,y_test,test_size=0.25,stratify=y_test,random_state=22)"
   ]
  },
  {
   "cell_type": "code",
   "execution_count": 1602,
   "metadata": {},
   "outputs": [],
   "source": [
    "random_states = [22,2019,2020,1997,17,1890,1980]"
   ]
  },
  {
   "cell_type": "code",
   "execution_count": 1660,
   "metadata": {},
   "outputs": [
    {
     "data": {
      "text/plain": [
       "LGBMClassifier(boosting_type='gbdt', class_weight=None, colsample_bytree=0.7,\n",
       "               importance_type='split', learning_rate=0.1, max_depth=-1,\n",
       "               min_child_samples=25, min_child_weight=0.001, min_split_gain=0.0,\n",
       "               n_estimators=120, n_jobs=-1, num_leaves=47, objective=None,\n",
       "               random_state=22, reg_alpha=0.0, reg_lambda=0.0, silent=True,\n",
       "               subsample=1.0, subsample_for_bin=200000, subsample_freq=0)"
      ]
     },
     "execution_count": 1660,
     "metadata": {},
     "output_type": "execute_result"
    }
   ],
   "source": [
    "\n",
    "m  = lgb.LGBMClassifier(random_state=22,n_jobs=-1,colsample_bytree=0.7,min_child_samples=25,num_leaves=47,n_estimators=120)\n",
    "m.fit(X_train[k],y_train)\n",
    "# print(accuracy_score(y_pred=m6.predict(X_valid[k]),y_true=y_valid))"
   ]
  },
  {
   "cell_type": "code",
   "execution_count": 1614,
   "metadata": {},
   "outputs": [
    {
     "name": "stdout",
     "output_type": "stream",
     "text": [
      "[[1167  651  223]\n",
      " [ 203 3443  609]\n",
      " [ 146  911 2522]]\n",
      "              precision    recall  f1-score   support\n",
      "\n",
      "           1       0.77      0.57      0.66      2041\n",
      "           2       0.69      0.81      0.74      4255\n",
      "           3       0.75      0.70      0.73      3579\n",
      "\n",
      "    accuracy                           0.72      9875\n",
      "   macro avg       0.74      0.70      0.71      9875\n",
      "weighted avg       0.73      0.72      0.72      9875\n",
      "\n"
     ]
    }
   ],
   "source": [
    "print(confusion_matrix(y_pred=m.predict(X_valid[k]),y_true=y_valid))\n",
    "print(classification_report(y_pred=m.predict(X_valid[k]),y_true=y_valid))"
   ]
  },
  {
   "cell_type": "code",
   "execution_count": 1615,
   "metadata": {},
   "outputs": [
    {
     "name": "stdout",
     "output_type": "stream",
     "text": [
      "0.7202967163725664\n"
     ]
    }
   ],
   "source": [
    "print(accuracy_score(y_pred=m.predict(X_test_final[k]),y_true=y_test))"
   ]
  },
  {
   "cell_type": "code",
   "execution_count": 1548,
   "metadata": {},
   "outputs": [
    {
     "data": {
      "text/plain": [
       "(131662, 15)"
      ]
     },
     "execution_count": 1548,
     "metadata": {},
     "output_type": "execute_result"
    }
   ],
   "source": [
    "X_train.shape"
   ]
  },
  {
   "cell_type": "code",
   "execution_count": 1555,
   "metadata": {},
   "outputs": [
    {
     "data": {
      "text/plain": [
       "['enc_cab',\n",
       " 'Type_of_Cab',\n",
       " 'Trip_Distance',\n",
       " 'Cancellation_Last_1Month',\n",
       " 'Confidence_Life_Style_Index',\n",
       " 'Destination_Type',\n",
       " 'Var3',\n",
       " 'Customer_Rating',\n",
       " 'Life_Style_Index',\n",
       " 'Var1_isnull',\n",
       " 'Var1',\n",
       " 'Var2',\n",
       " 'Customer_Since_Months',\n",
       " 'Customer_isnull']"
      ]
     },
     "execution_count": 1555,
     "metadata": {},
     "output_type": "execute_result"
    }
   ],
   "source": [
    "k"
   ]
  },
  {
   "cell_type": "code",
   "execution_count": 1674,
   "metadata": {},
   "outputs": [],
   "source": [
    "gkf = list(StratifiedKFold(n_splits=5,shuffle=True,random_state=22).split(X_train,y_train))"
   ]
  },
  {
   "cell_type": "code",
   "execution_count": 1687,
   "metadata": {},
   "outputs": [],
   "source": [
    "#Best Model\n",
    "m  = lgb.LGBMClassifier(random_state=22,n_jobs=-1,colsample_bytree=1,min_child_samples=22,num_leaves=65,\n",
    "                       lambda_l1=2.41,lambda_l2=5.21,learning_rate=0.05,n_estimators=220)"
   ]
  },
  {
   "cell_type": "code",
   "execution_count": 1688,
   "metadata": {},
   "outputs": [
    {
     "name": "stdout",
     "output_type": "stream",
     "text": [
      "Fitting 5 folds for each of 10 candidates, totalling 50 fits\n"
     ]
    },
    {
     "name": "stderr",
     "output_type": "stream",
     "text": [
      "[Parallel(n_jobs=-1)]: Using backend LokyBackend with 8 concurrent workers.\n",
      "[Parallel(n_jobs=-1)]: Done  25 tasks      | elapsed:  2.5min\n",
      "[Parallel(n_jobs=-1)]: Done  50 out of  50 | elapsed:  4.3min finished\n"
     ]
    },
    {
     "data": {
      "text/plain": [
       "GridSearchCV(cv=[(array([     0,      1,      2, ..., 131658, 131659, 131660]),\n",
       "                  array([     3,      5,      8, ..., 131652, 131653, 131661])),\n",
       "                 (array([     0,      1,      2, ..., 131659, 131660, 131661]),\n",
       "                  array([     6,     10,     13, ..., 131646, 131651, 131654])),\n",
       "                 (array([     0,      2,      3, ..., 131659, 131660, 131661]),\n",
       "                  array([     1,     37,     50, ..., 131656, 131657, 131658])),\n",
       "                 (array([     0,      1,      3, ..., 131658, 131659, 131661]),\n",
       "                  array([     2,      4,     15, ..., 131639, 131640, 131660])),...\n",
       "                                      min_child_weight=0.001,\n",
       "                                      min_split_gain=0.0, n_estimators=220,\n",
       "                                      n_jobs=-1, num_leaves=65, objective=None,\n",
       "                                      random_state=22, reg_alpha=0.0,\n",
       "                                      reg_lambda=0.0, silent=True,\n",
       "                                      subsample=1.0, subsample_for_bin=200000,\n",
       "                                      subsample_freq=0),\n",
       "             iid=False, n_jobs=-1,\n",
       "             param_grid={'n_estimators': range(210, 230, 2)},\n",
       "             pre_dispatch='2*n_jobs', refit=True, return_train_score=False,\n",
       "             scoring='accuracy', verbose=2)"
      ]
     },
     "execution_count": 1688,
     "metadata": {},
     "output_type": "execute_result"
    }
   ],
   "source": [
    "params ={\n",
    "    'n_estimators':range(210,230,2)\n",
    "}\n",
    "gsearch1 = GridSearchCV(estimator=m,param_grid=params,n_jobs=-1,iid=False,cv=gkf,scoring='accuracy',verbose=2)\n",
    "gsearch1.fit(X_train[k],y_train)"
   ]
  },
  {
   "cell_type": "code",
   "execution_count": 1689,
   "metadata": {},
   "outputs": [
    {
     "data": {
      "text/plain": [
       "({'n_estimators': 220}, 0.7048274907930706)"
      ]
     },
     "execution_count": 1689,
     "metadata": {},
     "output_type": "execute_result"
    }
   ],
   "source": [
    "gsearch1.best_params_,gsearch1.best_score_"
   ]
  },
  {
   "cell_type": "code",
   "execution_count": 1197,
   "metadata": {
    "collapsed": true
   },
   "outputs": [
    {
     "ename": "SyntaxError",
     "evalue": "invalid syntax (<ipython-input-1197-7e3749e85f55>, line 1)",
     "output_type": "error",
     "traceback": [
      "\u001b[0;36m  File \u001b[0;32m\"<ipython-input-1197-7e3749e85f55>\"\u001b[0;36m, line \u001b[0;32m1\u001b[0m\n\u001b[0;31m    'n_estimators':range(80,500,20),\u001b[0m\n\u001b[0m                                   ^\u001b[0m\n\u001b[0;31mSyntaxError\u001b[0m\u001b[0;31m:\u001b[0m invalid syntax\n"
     ]
    }
   ],
   "source": [
    "'n_estimators':range(80,500,20),\n",
    "'learning_rate':[0.1,0.005,0.05,0.2,0.15,0.3]\n",
    "    'scale_pos_weight':[x/10 for x in range(5,21)]\n",
    "    'num_leaves':range(10,20,1),\n",
    "    'min_child_samples':range(40,60,1),\n",
    "           'lambda_l1':[x/100 for x in range(0,20,1)],\n",
    "    'lambda_l2':[x/100 for x in range(0,20,1)],"
   ]
  },
  {
   "cell_type": "code",
   "execution_count": 1352,
   "metadata": {},
   "outputs": [
    {
     "data": {
      "text/plain": [
       "['Type_of_Cab',\n",
       " 'Trip_Distance',\n",
       " 'Cancellation_Last_1Month',\n",
       " 'Confidence_Life_Style_Index',\n",
       " 'Destination_Type',\n",
       " 'Var3',\n",
       " 'Customer_Rating',\n",
       " 'Life_Style_Index',\n",
       " 'Var1_isnull',\n",
       " 'Var1',\n",
       " 'Var2',\n",
       " 'Customer_Since_Months',\n",
       " 'Customer_isnull']"
      ]
     },
     "execution_count": 1352,
     "metadata": {},
     "output_type": "execute_result"
    }
   ],
   "source": [
    "k"
   ]
  },
  {
   "cell_type": "code",
   "execution_count": null,
   "metadata": {},
   "outputs": [],
   "source": [
    "random_states = [22,2019,2020,1997,17,1890,1980]"
   ]
  },
  {
   "cell_type": "code",
   "execution_count": 1708,
   "metadata": {},
   "outputs": [
    {
     "name": "stdout",
     "output_type": "stream",
     "text": [
      "          0\n",
      "0  0.704781\n",
      "1  0.709452\n",
      "2  0.705643\n",
      "3  0.702833\n",
      "4  0.704048\n",
      "0.7053515552704576\n"
     ]
    }
   ],
   "source": [
    "cv = StratifiedKFold(n_splits=5,shuffle=True,random_state=22)\n",
    "results = pd.DataFrame(columns=['training_score', 'test_score'])\n",
    "score_avg = []\n",
    "for (train, test), i in zip(cv.split(X_train, y_train), range(5)):\n",
    "#Best Model\n",
    "    m1  =lgb.LGBMClassifier(random_state=22,n_jobs=-1,colsample_bytree=1,min_child_samples=22,num_leaves=65,\n",
    "                       lambda_l1=2.41,lambda_l2=5.21,learning_rate=0.1,n_estimators=100)\n",
    "    m1.fit(X_train[k].iloc[train], y_train.iloc[train])\n",
    "    score_avg.append(accuracy_score(y_pred=m1.predict(X_train[k].iloc[test]),y_true=y_train.iloc[test]))\n",
    "print(pd.DataFrame(data=score_avg))\n",
    "print(sum(score_avg)/len(score_avg))"
   ]
  },
  {
   "cell_type": "code",
   "execution_count": 1427,
   "metadata": {},
   "outputs": [],
   "source": [
    "y_preds = np.mean([m1.predict(X_valid[k]),m2.predict(X_valid[k]),m4.predict(X_valid[k]),m3.predict(X_valid[k]),\n",
    "                  m5.predict(X_valid[k]),m6.predict(X_valid[k]),m.predict(X_valid[k])],axis=0)"
   ]
  },
  {
   "cell_type": "code",
   "execution_count": 1430,
   "metadata": {},
   "outputs": [],
   "source": [
    "y_preds = y_preds.round()"
   ]
  },
  {
   "cell_type": "code",
   "execution_count": 1431,
   "metadata": {},
   "outputs": [
    {
     "name": "stdout",
     "output_type": "stream",
     "text": [
      "0.705620253164557\n"
     ]
    }
   ],
   "source": [
    "print(accuracy_score(y_pred=y_preds,y_true=y_valid))"
   ]
  },
  {
   "cell_type": "code",
   "execution_count": 1653,
   "metadata": {
    "collapsed": true
   },
   "outputs": [
    {
     "ename": "NotFittedError",
     "evalue": "Estimator not fitted, call `fit` before exploiting the model.",
     "output_type": "error",
     "traceback": [
      "\u001b[0;31m---------------------------------------------------------------------------\u001b[0m",
      "\u001b[0;31mNotFittedError\u001b[0m                            Traceback (most recent call last)",
      "\u001b[0;32m<ipython-input-1653-b013cd734490>\u001b[0m in \u001b[0;36m<module>\u001b[0;34m\u001b[0m\n\u001b[0;32m----> 1\u001b[0;31m \u001b[0mprint\u001b[0m\u001b[0;34m(\u001b[0m\u001b[0mconfusion_matrix\u001b[0m\u001b[0;34m(\u001b[0m\u001b[0my_pred\u001b[0m\u001b[0;34m=\u001b[0m\u001b[0mm\u001b[0m\u001b[0;34m.\u001b[0m\u001b[0mpredict\u001b[0m\u001b[0;34m(\u001b[0m\u001b[0mX_valid\u001b[0m\u001b[0;34m[\u001b[0m\u001b[0mk\u001b[0m\u001b[0;34m]\u001b[0m\u001b[0;34m)\u001b[0m\u001b[0;34m,\u001b[0m\u001b[0my_true\u001b[0m\u001b[0;34m=\u001b[0m\u001b[0my_valid\u001b[0m\u001b[0;34m)\u001b[0m\u001b[0;34m)\u001b[0m\u001b[0;34m\u001b[0m\u001b[0;34m\u001b[0m\u001b[0m\n\u001b[0m\u001b[1;32m      2\u001b[0m \u001b[0mprint\u001b[0m\u001b[0;34m(\u001b[0m\u001b[0mclassification_report\u001b[0m\u001b[0;34m(\u001b[0m\u001b[0my_pred\u001b[0m\u001b[0;34m=\u001b[0m\u001b[0mm\u001b[0m\u001b[0;34m.\u001b[0m\u001b[0mpredict\u001b[0m\u001b[0;34m(\u001b[0m\u001b[0mX_valid\u001b[0m\u001b[0;34m[\u001b[0m\u001b[0mk\u001b[0m\u001b[0;34m]\u001b[0m\u001b[0;34m)\u001b[0m\u001b[0;34m,\u001b[0m\u001b[0my_true\u001b[0m\u001b[0;34m=\u001b[0m\u001b[0my_valid\u001b[0m\u001b[0;34m)\u001b[0m\u001b[0;34m)\u001b[0m\u001b[0;34m\u001b[0m\u001b[0;34m\u001b[0m\u001b[0m\n",
      "\u001b[0;32m~/.local/lib/python3.6/site-packages/lightgbm/sklearn.py\u001b[0m in \u001b[0;36mpredict\u001b[0;34m(self, X, raw_score, num_iteration, pred_leaf, pred_contrib, **kwargs)\u001b[0m\n\u001b[1;32m    812\u001b[0m         \u001b[0;34m\"\"\"Docstring is inherited from the LGBMModel.\"\"\"\u001b[0m\u001b[0;34m\u001b[0m\u001b[0;34m\u001b[0m\u001b[0m\n\u001b[1;32m    813\u001b[0m         result = self.predict_proba(X, raw_score, num_iteration,\n\u001b[0;32m--> 814\u001b[0;31m                                     pred_leaf, pred_contrib, **kwargs)\n\u001b[0m\u001b[1;32m    815\u001b[0m         \u001b[0;32mif\u001b[0m \u001b[0mraw_score\u001b[0m \u001b[0;32mor\u001b[0m \u001b[0mpred_leaf\u001b[0m \u001b[0;32mor\u001b[0m \u001b[0mpred_contrib\u001b[0m\u001b[0;34m:\u001b[0m\u001b[0;34m\u001b[0m\u001b[0;34m\u001b[0m\u001b[0m\n\u001b[1;32m    816\u001b[0m             \u001b[0;32mreturn\u001b[0m \u001b[0mresult\u001b[0m\u001b[0;34m\u001b[0m\u001b[0;34m\u001b[0m\u001b[0m\n",
      "\u001b[0;32m~/.local/lib/python3.6/site-packages/lightgbm/sklearn.py\u001b[0m in \u001b[0;36mpredict_proba\u001b[0;34m(self, X, raw_score, num_iteration, pred_leaf, pred_contrib, **kwargs)\u001b[0m\n\u001b[1;32m    861\u001b[0m         \"\"\"\n\u001b[1;32m    862\u001b[0m         result = super(LGBMClassifier, self).predict(X, raw_score, num_iteration,\n\u001b[0;32m--> 863\u001b[0;31m                                                      pred_leaf, pred_contrib, **kwargs)\n\u001b[0m\u001b[1;32m    864\u001b[0m         \u001b[0;32mif\u001b[0m \u001b[0mself\u001b[0m\u001b[0;34m.\u001b[0m\u001b[0m_n_classes\u001b[0m \u001b[0;34m>\u001b[0m \u001b[0;36m2\u001b[0m \u001b[0;32mor\u001b[0m \u001b[0mraw_score\u001b[0m \u001b[0;32mor\u001b[0m \u001b[0mpred_leaf\u001b[0m \u001b[0;32mor\u001b[0m \u001b[0mpred_contrib\u001b[0m\u001b[0;34m:\u001b[0m\u001b[0;34m\u001b[0m\u001b[0;34m\u001b[0m\u001b[0m\n\u001b[1;32m    865\u001b[0m             \u001b[0;32mreturn\u001b[0m \u001b[0mresult\u001b[0m\u001b[0;34m\u001b[0m\u001b[0;34m\u001b[0m\u001b[0m\n",
      "\u001b[0;32m~/.local/lib/python3.6/site-packages/lightgbm/sklearn.py\u001b[0m in \u001b[0;36mpredict\u001b[0;34m(self, X, raw_score, num_iteration, pred_leaf, pred_contrib, **kwargs)\u001b[0m\n\u001b[1;32m    653\u001b[0m         \"\"\"\n\u001b[1;32m    654\u001b[0m         \u001b[0;32mif\u001b[0m \u001b[0mself\u001b[0m\u001b[0;34m.\u001b[0m\u001b[0m_n_features\u001b[0m \u001b[0;32mis\u001b[0m \u001b[0;32mNone\u001b[0m\u001b[0;34m:\u001b[0m\u001b[0;34m\u001b[0m\u001b[0;34m\u001b[0m\u001b[0m\n\u001b[0;32m--> 655\u001b[0;31m             \u001b[0;32mraise\u001b[0m \u001b[0mLGBMNotFittedError\u001b[0m\u001b[0;34m(\u001b[0m\u001b[0;34m\"Estimator not fitted, call `fit` before exploiting the model.\"\u001b[0m\u001b[0;34m)\u001b[0m\u001b[0;34m\u001b[0m\u001b[0;34m\u001b[0m\u001b[0m\n\u001b[0m\u001b[1;32m    656\u001b[0m         \u001b[0;32mif\u001b[0m \u001b[0;32mnot\u001b[0m \u001b[0misinstance\u001b[0m\u001b[0;34m(\u001b[0m\u001b[0mX\u001b[0m\u001b[0;34m,\u001b[0m \u001b[0;34m(\u001b[0m\u001b[0mDataFrame\u001b[0m\u001b[0;34m,\u001b[0m \u001b[0mDataTable\u001b[0m\u001b[0;34m)\u001b[0m\u001b[0;34m)\u001b[0m\u001b[0;34m:\u001b[0m\u001b[0;34m\u001b[0m\u001b[0;34m\u001b[0m\u001b[0m\n\u001b[1;32m    657\u001b[0m             \u001b[0mX\u001b[0m \u001b[0;34m=\u001b[0m \u001b[0m_LGBMCheckArray\u001b[0m\u001b[0;34m(\u001b[0m\u001b[0mX\u001b[0m\u001b[0;34m,\u001b[0m \u001b[0maccept_sparse\u001b[0m\u001b[0;34m=\u001b[0m\u001b[0;32mTrue\u001b[0m\u001b[0;34m,\u001b[0m \u001b[0mforce_all_finite\u001b[0m\u001b[0;34m=\u001b[0m\u001b[0;32mFalse\u001b[0m\u001b[0;34m)\u001b[0m\u001b[0;34m\u001b[0m\u001b[0;34m\u001b[0m\u001b[0m\n",
      "\u001b[0;31mNotFittedError\u001b[0m: Estimator not fitted, call `fit` before exploiting the model."
     ]
    }
   ],
   "source": [
    "print(confusion_matrix(y_pred=m.predict(X_valid[k]),y_true=y_valid))\n",
    "print(classification_report(y_pred=m.predict(X_valid[k]),y_true=y_valid))"
   ]
  },
  {
   "cell_type": "code",
   "execution_count": 1654,
   "metadata": {
    "collapsed": true
   },
   "outputs": [
    {
     "ename": "NotFittedError",
     "evalue": "Estimator not fitted, call `fit` before exploiting the model.",
     "output_type": "error",
     "traceback": [
      "\u001b[0;31m---------------------------------------------------------------------------\u001b[0m",
      "\u001b[0;31mNotFittedError\u001b[0m                            Traceback (most recent call last)",
      "\u001b[0;32m<ipython-input-1654-f2b19818a74f>\u001b[0m in \u001b[0;36m<module>\u001b[0;34m\u001b[0m\n\u001b[1;32m      1\u001b[0m y_preds = np.mean([m1.predict(X_test_final[k]),m2.predict(X_test_final[k]),m4.predict(X_test_final[k]),m3.predict(X_test_final[k]),\n\u001b[0;32m----> 2\u001b[0;31m                   m5.predict(X_test_final[k]),m6.predict(X_test_final[k]),m.predict(X_test_final[k])],axis=0)\n\u001b[0m",
      "\u001b[0;32m~/.local/lib/python3.6/site-packages/lightgbm/sklearn.py\u001b[0m in \u001b[0;36mpredict\u001b[0;34m(self, X, raw_score, num_iteration, pred_leaf, pred_contrib, **kwargs)\u001b[0m\n\u001b[1;32m    812\u001b[0m         \u001b[0;34m\"\"\"Docstring is inherited from the LGBMModel.\"\"\"\u001b[0m\u001b[0;34m\u001b[0m\u001b[0;34m\u001b[0m\u001b[0m\n\u001b[1;32m    813\u001b[0m         result = self.predict_proba(X, raw_score, num_iteration,\n\u001b[0;32m--> 814\u001b[0;31m                                     pred_leaf, pred_contrib, **kwargs)\n\u001b[0m\u001b[1;32m    815\u001b[0m         \u001b[0;32mif\u001b[0m \u001b[0mraw_score\u001b[0m \u001b[0;32mor\u001b[0m \u001b[0mpred_leaf\u001b[0m \u001b[0;32mor\u001b[0m \u001b[0mpred_contrib\u001b[0m\u001b[0;34m:\u001b[0m\u001b[0;34m\u001b[0m\u001b[0;34m\u001b[0m\u001b[0m\n\u001b[1;32m    816\u001b[0m             \u001b[0;32mreturn\u001b[0m \u001b[0mresult\u001b[0m\u001b[0;34m\u001b[0m\u001b[0;34m\u001b[0m\u001b[0m\n",
      "\u001b[0;32m~/.local/lib/python3.6/site-packages/lightgbm/sklearn.py\u001b[0m in \u001b[0;36mpredict_proba\u001b[0;34m(self, X, raw_score, num_iteration, pred_leaf, pred_contrib, **kwargs)\u001b[0m\n\u001b[1;32m    861\u001b[0m         \"\"\"\n\u001b[1;32m    862\u001b[0m         result = super(LGBMClassifier, self).predict(X, raw_score, num_iteration,\n\u001b[0;32m--> 863\u001b[0;31m                                                      pred_leaf, pred_contrib, **kwargs)\n\u001b[0m\u001b[1;32m    864\u001b[0m         \u001b[0;32mif\u001b[0m \u001b[0mself\u001b[0m\u001b[0;34m.\u001b[0m\u001b[0m_n_classes\u001b[0m \u001b[0;34m>\u001b[0m \u001b[0;36m2\u001b[0m \u001b[0;32mor\u001b[0m \u001b[0mraw_score\u001b[0m \u001b[0;32mor\u001b[0m \u001b[0mpred_leaf\u001b[0m \u001b[0;32mor\u001b[0m \u001b[0mpred_contrib\u001b[0m\u001b[0;34m:\u001b[0m\u001b[0;34m\u001b[0m\u001b[0;34m\u001b[0m\u001b[0m\n\u001b[1;32m    865\u001b[0m             \u001b[0;32mreturn\u001b[0m \u001b[0mresult\u001b[0m\u001b[0;34m\u001b[0m\u001b[0;34m\u001b[0m\u001b[0m\n",
      "\u001b[0;32m~/.local/lib/python3.6/site-packages/lightgbm/sklearn.py\u001b[0m in \u001b[0;36mpredict\u001b[0;34m(self, X, raw_score, num_iteration, pred_leaf, pred_contrib, **kwargs)\u001b[0m\n\u001b[1;32m    653\u001b[0m         \"\"\"\n\u001b[1;32m    654\u001b[0m         \u001b[0;32mif\u001b[0m \u001b[0mself\u001b[0m\u001b[0;34m.\u001b[0m\u001b[0m_n_features\u001b[0m \u001b[0;32mis\u001b[0m \u001b[0;32mNone\u001b[0m\u001b[0;34m:\u001b[0m\u001b[0;34m\u001b[0m\u001b[0;34m\u001b[0m\u001b[0m\n\u001b[0;32m--> 655\u001b[0;31m             \u001b[0;32mraise\u001b[0m \u001b[0mLGBMNotFittedError\u001b[0m\u001b[0;34m(\u001b[0m\u001b[0;34m\"Estimator not fitted, call `fit` before exploiting the model.\"\u001b[0m\u001b[0;34m)\u001b[0m\u001b[0;34m\u001b[0m\u001b[0;34m\u001b[0m\u001b[0m\n\u001b[0m\u001b[1;32m    656\u001b[0m         \u001b[0;32mif\u001b[0m \u001b[0;32mnot\u001b[0m \u001b[0misinstance\u001b[0m\u001b[0;34m(\u001b[0m\u001b[0mX\u001b[0m\u001b[0;34m,\u001b[0m \u001b[0;34m(\u001b[0m\u001b[0mDataFrame\u001b[0m\u001b[0;34m,\u001b[0m \u001b[0mDataTable\u001b[0m\u001b[0;34m)\u001b[0m\u001b[0;34m)\u001b[0m\u001b[0;34m:\u001b[0m\u001b[0;34m\u001b[0m\u001b[0;34m\u001b[0m\u001b[0m\n\u001b[1;32m    657\u001b[0m             \u001b[0mX\u001b[0m \u001b[0;34m=\u001b[0m \u001b[0m_LGBMCheckArray\u001b[0m\u001b[0;34m(\u001b[0m\u001b[0mX\u001b[0m\u001b[0;34m,\u001b[0m \u001b[0maccept_sparse\u001b[0m\u001b[0;34m=\u001b[0m\u001b[0;32mTrue\u001b[0m\u001b[0;34m,\u001b[0m \u001b[0mforce_all_finite\u001b[0m\u001b[0;34m=\u001b[0m\u001b[0;32mFalse\u001b[0m\u001b[0;34m)\u001b[0m\u001b[0;34m\u001b[0m\u001b[0;34m\u001b[0m\u001b[0m\n",
      "\u001b[0;31mNotFittedError\u001b[0m: Estimator not fitted, call `fit` before exploiting the model."
     ]
    }
   ],
   "source": [
    "y_preds = np.mean([m1.predict(X_test_final[k]),m2.predict(X_test_final[k]),m4.predict(X_test_final[k]),m3.predict(X_test_final[k]),\n",
    "                  m5.predict(X_test_final[k]),m6.predict(X_test_final[k]),m.predict(X_test_final[k])],axis=0)"
   ]
  },
  {
   "cell_type": "code",
   "execution_count": null,
   "metadata": {},
   "outputs": [],
   "source": []
  },
  {
   "cell_type": "code",
   "execution_count": 1488,
   "metadata": {},
   "outputs": [
    {
     "name": "stdout",
     "output_type": "stream",
     "text": [
      "0.7023468948580976\n"
     ]
    }
   ],
   "source": [
    "print(accuracy_score(y_pred=y_preds.round(),y_true=y_test))"
   ]
  },
  {
   "cell_type": "code",
   "execution_count": 1381,
   "metadata": {},
   "outputs": [],
   "source": [
    "imp = importances(m,X_test_final[k],y_test)"
   ]
  },
  {
   "cell_type": "code",
   "execution_count": 1382,
   "metadata": {
    "collapsed": true
   },
   "outputs": [
    {
     "data": {
      "text/html": [
       "<div>\n",
       "<style scoped>\n",
       "    .dataframe tbody tr th:only-of-type {\n",
       "        vertical-align: middle;\n",
       "    }\n",
       "\n",
       "    .dataframe tbody tr th {\n",
       "        vertical-align: top;\n",
       "    }\n",
       "\n",
       "    .dataframe thead th {\n",
       "        text-align: right;\n",
       "    }\n",
       "</style>\n",
       "<table border=\"1\" class=\"dataframe\">\n",
       "  <thead>\n",
       "    <tr style=\"text-align: right;\">\n",
       "      <th></th>\n",
       "      <th>Importance</th>\n",
       "    </tr>\n",
       "    <tr>\n",
       "      <th>Feature</th>\n",
       "      <th></th>\n",
       "    </tr>\n",
       "  </thead>\n",
       "  <tbody>\n",
       "    <tr>\n",
       "      <th>enc_cab</th>\n",
       "      <td>0.1742</td>\n",
       "    </tr>\n",
       "    <tr>\n",
       "      <th>Type_of_Cab</th>\n",
       "      <td>0.0464</td>\n",
       "    </tr>\n",
       "    <tr>\n",
       "      <th>Trip_Distance</th>\n",
       "      <td>0.0252</td>\n",
       "    </tr>\n",
       "    <tr>\n",
       "      <th>Cancellation_Last_1Month</th>\n",
       "      <td>0.0164</td>\n",
       "    </tr>\n",
       "    <tr>\n",
       "      <th>Life_Style_Index</th>\n",
       "      <td>0.0156</td>\n",
       "    </tr>\n",
       "    <tr>\n",
       "      <th>Var3</th>\n",
       "      <td>0.0148</td>\n",
       "    </tr>\n",
       "    <tr>\n",
       "      <th>Confidence_Life_Style_Index</th>\n",
       "      <td>0.0136</td>\n",
       "    </tr>\n",
       "    <tr>\n",
       "      <th>Destination_Type</th>\n",
       "      <td>0.0096</td>\n",
       "    </tr>\n",
       "    <tr>\n",
       "      <th>Var1_isnull</th>\n",
       "      <td>0.0072</td>\n",
       "    </tr>\n",
       "    <tr>\n",
       "      <th>Customer_Rating</th>\n",
       "      <td>0.0048</td>\n",
       "    </tr>\n",
       "    <tr>\n",
       "      <th>Customer_Since_Months</th>\n",
       "      <td>0.0012</td>\n",
       "    </tr>\n",
       "    <tr>\n",
       "      <th>Var1</th>\n",
       "      <td>0.0010</td>\n",
       "    </tr>\n",
       "    <tr>\n",
       "      <th>Customer_isnull</th>\n",
       "      <td>0.0006</td>\n",
       "    </tr>\n",
       "    <tr>\n",
       "      <th>Var2</th>\n",
       "      <td>0.0000</td>\n",
       "    </tr>\n",
       "  </tbody>\n",
       "</table>\n",
       "</div>"
      ],
      "text/plain": [
       "                             Importance\n",
       "Feature                                \n",
       "enc_cab                          0.1742\n",
       "Type_of_Cab                      0.0464\n",
       "Trip_Distance                    0.0252\n",
       "Cancellation_Last_1Month         0.0164\n",
       "Life_Style_Index                 0.0156\n",
       "Var3                             0.0148\n",
       "Confidence_Life_Style_Index      0.0136\n",
       "Destination_Type                 0.0096\n",
       "Var1_isnull                      0.0072\n",
       "Customer_Rating                  0.0048\n",
       "Customer_Since_Months            0.0012\n",
       "Var1                             0.0010\n",
       "Customer_isnull                  0.0006\n",
       "Var2                             0.0000"
      ]
     },
     "execution_count": 1382,
     "metadata": {},
     "output_type": "execute_result"
    }
   ],
   "source": [
    "imp"
   ]
  },
  {
   "cell_type": "code",
   "execution_count": 1603,
   "metadata": {},
   "outputs": [],
   "source": [
    "df_test['Type_of_Cab'] = df_test['Type_of_Cab'].map(cab)\n",
    "df_test['Confidence_Life_Style_Index'] = df_test['Confidence_Life_Style_Index'].map(conf)\n",
    "df_test['Destination_Type'] = df_test['Destination_Type'].map(dest)\n",
    "df_test['Gender'] = df_test['Gender'].map(gend)"
   ]
  },
  {
   "cell_type": "code",
   "execution_count": 1604,
   "metadata": {},
   "outputs": [],
   "source": [
    "df_test['Type_of_Cab'].fillna(-999,inplace=True)\n",
    "df_test['Var1_isnull'] = df_test['Var1'].apply(lambda x: 1 if np.isnan(x) == True else 0)\n",
    "df_test['Var1'].fillna(df_train['Var1'].median(),inplace=True)\n",
    "df_test['Confidence_Life_Style_Index'].fillna(-999,inplace=True)\n",
    "df_test['Life_Style_Index'].fillna(-999,inplace=True)"
   ]
  },
  {
   "cell_type": "code",
   "execution_count": 1605,
   "metadata": {},
   "outputs": [],
   "source": [
    "df_test['Customer_isnull'] =  df_test['Customer_Since_Months'].apply(lambda x: 1 if np.isnan(x) == True else 0)\n",
    "df_test['Customer_Since_Months'].fillna(df_train['Customer_Since_Months'].median(),inplace=True)"
   ]
  },
  {
   "cell_type": "code",
   "execution_count": 1606,
   "metadata": {},
   "outputs": [],
   "source": [
    "# df_test.drop('Confidence_Life_Style_Index',axis=1,inplace=True)\n",
    "df_test['enc_cab'] = df_test['Type_of_Cab'].map(encoding)\n",
    "# df_test['enc_dest'] = df_test['Destination_Type'].map(encoding)"
   ]
  },
  {
   "cell_type": "code",
   "execution_count": 1607,
   "metadata": {},
   "outputs": [],
   "source": [
    "# df_test = pd.get_dummies(data=df_test,columns=['Confidence_Life_Style_Index','Destination_Type'])"
   ]
  },
  {
   "cell_type": "code",
   "execution_count": 1608,
   "metadata": {},
   "outputs": [],
   "source": [
    "df_test.drop('Trip_ID',axis=1,inplace=True)\n",
    "# df_test.drop('Type_of_Cab',axis=1,inplace=True)"
   ]
  },
  {
   "cell_type": "code",
   "execution_count": 1609,
   "metadata": {},
   "outputs": [
    {
     "data": {
      "text/plain": [
       "Index(['enc_cab', 'Type_of_Cab', 'Trip_Distance', 'Cancellation_Last_1Month',\n",
       "       'Confidence_Life_Style_Index', 'Destination_Type', 'Var3',\n",
       "       'Customer_Rating', 'Life_Style_Index', 'Var1_isnull', 'Var1', 'Var2',\n",
       "       'Customer_Since_Months', 'Customer_isnull'],\n",
       "      dtype='object')"
      ]
     },
     "execution_count": 1609,
     "metadata": {},
     "output_type": "execute_result"
    }
   ],
   "source": [
    "df_test[k].columns\n"
   ]
  },
  {
   "cell_type": "code",
   "execution_count": 1610,
   "metadata": {},
   "outputs": [
    {
     "data": {
      "text/plain": [
       "Index(['enc_cab', 'Type_of_Cab', 'Trip_Distance', 'Cancellation_Last_1Month',\n",
       "       'Confidence_Life_Style_Index', 'Destination_Type', 'Var3',\n",
       "       'Customer_Rating', 'Life_Style_Index', 'Var1_isnull', 'Var1', 'Var2',\n",
       "       'Customer_Since_Months', 'Customer_isnull'],\n",
       "      dtype='object')"
      ]
     },
     "execution_count": 1610,
     "metadata": {},
     "output_type": "execute_result"
    }
   ],
   "source": [
    "X_train[k].columns"
   ]
  },
  {
   "cell_type": "code",
   "execution_count": 1696,
   "metadata": {},
   "outputs": [],
   "source": [
    "y_preds = np.mean([m1.predict(df_test[k]),m.predict(df_test[k])],axis=0)"
   ]
  },
  {
   "cell_type": "code",
   "execution_count": 1770,
   "metadata": {},
   "outputs": [],
   "source": [
    "preds = m1.predict_proba(df_test[k]) * 0.12+ m.predict_proba(df_test[k]) * 0.86"
   ]
  },
  {
   "cell_type": "code",
   "execution_count": 1771,
   "metadata": {},
   "outputs": [],
   "source": [
    "predictions = []\n",
    "\n",
    "for x in preds:\n",
    "    predictions.append(np.argmax(x))"
   ]
  },
  {
   "cell_type": "code",
   "execution_count": 1772,
   "metadata": {},
   "outputs": [],
   "source": [
    "def get_vals(x):\n",
    "    if x == 0:\n",
    "        return 1\n",
    "    elif x == 1:\n",
    "        return 2\n",
    "    else:\n",
    "        return 3"
   ]
  },
  {
   "cell_type": "code",
   "execution_count": 1773,
   "metadata": {},
   "outputs": [],
   "source": [
    "df_sub['Surge_Pricing_Type'] = predictions\n",
    "df_sub['Surge_Pricing_Type'] = df_sub['Surge_Pricing_Type'].apply(lambda x:get_vals(x))\n",
    "df_sub.to_csv('Final_Model.csv',index=False)"
   ]
  },
  {
   "cell_type": "code",
   "execution_count": 1094,
   "metadata": {},
   "outputs": [],
   "source": [
    "    X_train['Dummy'] = np.random.randint(0,15)\n",
    "    X_train['Dummy2'] = np.random.randint(0,100)\n",
    "    X_train['Dummy3'] = np.random.uniform(0,1,size=X_train.shape[0])\n",
    "    X_train['Dummy4'] = np.random.randint(0,1)"
   ]
  },
  {
   "cell_type": "code",
   "execution_count": 1095,
   "metadata": {},
   "outputs": [
    {
     "name": "stderr",
     "output_type": "stream",
     "text": [
      "100%|██████████| 50/50 [17:53<00:00, 21.47s/it]\n"
     ]
    }
   ],
   "source": [
    "from collections import defaultdict\n",
    "from tqdm import tqdm\n",
    "def _create_shadow(x):\n",
    "    \"\"\"\n",
    "    Take all X variables, creating copies and randomly shuffling them\n",
    "    :param x: the dataframe to create shadow features on\n",
    "    :return: dataframe 2x width and the names of the shadows for removing later\n",
    "    \"\"\"\n",
    "    x_shadow = x.copy()\n",
    "    for c in x_shadow.columns:\n",
    "        np.random.shuffle(x_shadow[c].values) # shuffle the values of each feature to all the features\n",
    "    # rename the shadow\n",
    "    shadow_names = [\"shadow_feature_\" + i for i in x.columns]\n",
    "    x_shadow.columns = shadow_names\n",
    "    # Combine to make one new dataframe\n",
    "    x_new = pd.concat([x, x_shadow], axis=1)\n",
    "    return x_new, shadow_names\n",
    "\n",
    "\n",
    "# Set up the parameters for running the model in XGBoost\n",
    "# params = {\n",
    "#     'n_estimators':100,\n",
    "#     'random_state':22,\n",
    "#     'n_jobs':-1\n",
    "# }\n",
    "df = pd.DataFrame() # initial empty dataframe\n",
    "\n",
    "n_iterations = 50\n",
    "d = defaultdict(list)\n",
    "for i in tqdm(range(1, n_iterations + 1)):\n",
    "    # Create the shadow variables and run the model to obtain importances\n",
    "# results = pd.DataFrame(columns='training_score', 'test_score')\n",
    "    cv = StratifiedKFold(n_splits=3)\n",
    "    score_avg = []\n",
    "    for (train, test), i in zip(cv.split(X_train, y_train), range(5)):\n",
    "        new_x, shadow_names = _create_shadow(X_train.iloc[train])\n",
    "        valid_x,shadow_names = _create_shadow(X_train.iloc[test])\n",
    "        model = lgb.LGBMClassifier(n_jobs=-1)\n",
    "        model.fit(new_x,y_train.iloc[train])\n",
    "        imp = importances(model,valid_x,y_train.iloc[test],n_samples=-1)\n",
    "        imp.reset_index(inplace=True)\n",
    "        if len(d) == 0:\n",
    "            for i,j in imp.values:\n",
    "                d[i].append(j)\n",
    "        else:\n",
    "            for i,j in imp.values:\n",
    "                d[i].append(j)"
   ]
  },
  {
   "cell_type": "code",
   "execution_count": 1096,
   "metadata": {},
   "outputs": [
    {
     "data": {
      "text/html": [
       "<div>\n",
       "<style scoped>\n",
       "    .dataframe tbody tr th:only-of-type {\n",
       "        vertical-align: middle;\n",
       "    }\n",
       "\n",
       "    .dataframe tbody tr th {\n",
       "        vertical-align: top;\n",
       "    }\n",
       "\n",
       "    .dataframe thead th {\n",
       "        text-align: right;\n",
       "    }\n",
       "</style>\n",
       "<table border=\"1\" class=\"dataframe\">\n",
       "  <thead>\n",
       "    <tr style=\"text-align: right;\">\n",
       "      <th></th>\n",
       "      <th>index</th>\n",
       "      <th>0</th>\n",
       "    </tr>\n",
       "  </thead>\n",
       "  <tbody>\n",
       "    <tr>\n",
       "      <th>0</th>\n",
       "      <td>enc_cab</td>\n",
       "      <td>14.949296</td>\n",
       "    </tr>\n",
       "    <tr>\n",
       "      <th>1</th>\n",
       "      <td>Type_of_Cab</td>\n",
       "      <td>11.797533</td>\n",
       "    </tr>\n",
       "    <tr>\n",
       "      <th>2</th>\n",
       "      <td>Trip_Distance</td>\n",
       "      <td>1.940432</td>\n",
       "    </tr>\n",
       "    <tr>\n",
       "      <th>3</th>\n",
       "      <td>Cancellation_Last_1Month</td>\n",
       "      <td>1.462713</td>\n",
       "    </tr>\n",
       "    <tr>\n",
       "      <th>4</th>\n",
       "      <td>Confidence_Life_Style_Index</td>\n",
       "      <td>1.198051</td>\n",
       "    </tr>\n",
       "    <tr>\n",
       "      <th>5</th>\n",
       "      <td>Destination_Type</td>\n",
       "      <td>0.994846</td>\n",
       "    </tr>\n",
       "    <tr>\n",
       "      <th>7</th>\n",
       "      <td>Var3</td>\n",
       "      <td>0.859824</td>\n",
       "    </tr>\n",
       "    <tr>\n",
       "      <th>6</th>\n",
       "      <td>Customer_Rating</td>\n",
       "      <td>0.832026</td>\n",
       "    </tr>\n",
       "    <tr>\n",
       "      <th>8</th>\n",
       "      <td>Life_Style_Index</td>\n",
       "      <td>0.792400</td>\n",
       "    </tr>\n",
       "    <tr>\n",
       "      <th>9</th>\n",
       "      <td>Var1_isnull</td>\n",
       "      <td>0.632314</td>\n",
       "    </tr>\n",
       "    <tr>\n",
       "      <th>25</th>\n",
       "      <td>Var1</td>\n",
       "      <td>0.077905</td>\n",
       "    </tr>\n",
       "    <tr>\n",
       "      <th>10</th>\n",
       "      <td>Var2</td>\n",
       "      <td>0.064755</td>\n",
       "    </tr>\n",
       "    <tr>\n",
       "      <th>13</th>\n",
       "      <td>Customer_Since_Months</td>\n",
       "      <td>0.026497</td>\n",
       "    </tr>\n",
       "    <tr>\n",
       "      <th>22</th>\n",
       "      <td>Customer_isnull</td>\n",
       "      <td>0.023024</td>\n",
       "    </tr>\n",
       "    <tr>\n",
       "      <th>17</th>\n",
       "      <td>shadow_feature_Dummy3</td>\n",
       "      <td>0.006120</td>\n",
       "    </tr>\n",
       "    <tr>\n",
       "      <th>21</th>\n",
       "      <td>shadow_feature_Trip_Distance</td>\n",
       "      <td>0.005360</td>\n",
       "    </tr>\n",
       "    <tr>\n",
       "      <th>12</th>\n",
       "      <td>shadow_feature_Var3</td>\n",
       "      <td>0.002170</td>\n",
       "    </tr>\n",
       "    <tr>\n",
       "      <th>11</th>\n",
       "      <td>shadow_feature_Customer_Rating</td>\n",
       "      <td>0.000890</td>\n",
       "    </tr>\n",
       "    <tr>\n",
       "      <th>15</th>\n",
       "      <td>shadow_feature_Cancellation_Last_1Month</td>\n",
       "      <td>0.000825</td>\n",
       "    </tr>\n",
       "    <tr>\n",
       "      <th>34</th>\n",
       "      <td>shadow_feature_Customer_isnull</td>\n",
       "      <td>0.000369</td>\n",
       "    </tr>\n",
       "    <tr>\n",
       "      <th>26</th>\n",
       "      <td>shadow_feature_Var1_isnull</td>\n",
       "      <td>0.000239</td>\n",
       "    </tr>\n",
       "    <tr>\n",
       "      <th>31</th>\n",
       "      <td>shadow_feature_Dummy</td>\n",
       "      <td>0.000000</td>\n",
       "    </tr>\n",
       "    <tr>\n",
       "      <th>32</th>\n",
       "      <td>shadow_feature_Dummy2</td>\n",
       "      <td>0.000000</td>\n",
       "    </tr>\n",
       "    <tr>\n",
       "      <th>33</th>\n",
       "      <td>shadow_feature_Dummy4</td>\n",
       "      <td>0.000000</td>\n",
       "    </tr>\n",
       "    <tr>\n",
       "      <th>30</th>\n",
       "      <td>Dummy</td>\n",
       "      <td>0.000000</td>\n",
       "    </tr>\n",
       "    <tr>\n",
       "      <th>29</th>\n",
       "      <td>Dummy2</td>\n",
       "      <td>0.000000</td>\n",
       "    </tr>\n",
       "    <tr>\n",
       "      <th>28</th>\n",
       "      <td>Dummy4</td>\n",
       "      <td>0.000000</td>\n",
       "    </tr>\n",
       "    <tr>\n",
       "      <th>27</th>\n",
       "      <td>shadow_feature_enc_cab</td>\n",
       "      <td>-0.000174</td>\n",
       "    </tr>\n",
       "    <tr>\n",
       "      <th>19</th>\n",
       "      <td>shadow_feature_Confidence_Life_Style_Index</td>\n",
       "      <td>-0.000239</td>\n",
       "    </tr>\n",
       "    <tr>\n",
       "      <th>37</th>\n",
       "      <td>shadow_feature_Type_of_Cab</td>\n",
       "      <td>-0.000412</td>\n",
       "    </tr>\n",
       "    <tr>\n",
       "      <th>35</th>\n",
       "      <td>shadow_feature_Var2</td>\n",
       "      <td>-0.000955</td>\n",
       "    </tr>\n",
       "    <tr>\n",
       "      <th>18</th>\n",
       "      <td>shadow_feature_Customer_Since_Months</td>\n",
       "      <td>-0.001042</td>\n",
       "    </tr>\n",
       "    <tr>\n",
       "      <th>24</th>\n",
       "      <td>shadow_feature_Gender</td>\n",
       "      <td>-0.001345</td>\n",
       "    </tr>\n",
       "    <tr>\n",
       "      <th>16</th>\n",
       "      <td>shadow_feature_Var1</td>\n",
       "      <td>-0.001367</td>\n",
       "    </tr>\n",
       "    <tr>\n",
       "      <th>23</th>\n",
       "      <td>Gender</td>\n",
       "      <td>-0.001714</td>\n",
       "    </tr>\n",
       "    <tr>\n",
       "      <th>14</th>\n",
       "      <td>shadow_feature_Life_Style_Index</td>\n",
       "      <td>-0.002322</td>\n",
       "    </tr>\n",
       "    <tr>\n",
       "      <th>20</th>\n",
       "      <td>shadow_feature_Destination_Type</td>\n",
       "      <td>-0.002799</td>\n",
       "    </tr>\n",
       "    <tr>\n",
       "      <th>36</th>\n",
       "      <td>Dummy3</td>\n",
       "      <td>-0.006054</td>\n",
       "    </tr>\n",
       "  </tbody>\n",
       "</table>\n",
       "</div>"
      ],
      "text/plain": [
       "                                         index          0\n",
       "0                                      enc_cab  14.949296\n",
       "1                                  Type_of_Cab  11.797533\n",
       "2                                Trip_Distance   1.940432\n",
       "3                     Cancellation_Last_1Month   1.462713\n",
       "4                  Confidence_Life_Style_Index   1.198051\n",
       "5                             Destination_Type   0.994846\n",
       "7                                         Var3   0.859824\n",
       "6                              Customer_Rating   0.832026\n",
       "8                             Life_Style_Index   0.792400\n",
       "9                                  Var1_isnull   0.632314\n",
       "25                                        Var1   0.077905\n",
       "10                                        Var2   0.064755\n",
       "13                       Customer_Since_Months   0.026497\n",
       "22                             Customer_isnull   0.023024\n",
       "17                       shadow_feature_Dummy3   0.006120\n",
       "21                shadow_feature_Trip_Distance   0.005360\n",
       "12                         shadow_feature_Var3   0.002170\n",
       "11              shadow_feature_Customer_Rating   0.000890\n",
       "15     shadow_feature_Cancellation_Last_1Month   0.000825\n",
       "34              shadow_feature_Customer_isnull   0.000369\n",
       "26                  shadow_feature_Var1_isnull   0.000239\n",
       "31                        shadow_feature_Dummy   0.000000\n",
       "32                       shadow_feature_Dummy2   0.000000\n",
       "33                       shadow_feature_Dummy4   0.000000\n",
       "30                                       Dummy   0.000000\n",
       "29                                      Dummy2   0.000000\n",
       "28                                      Dummy4   0.000000\n",
       "27                      shadow_feature_enc_cab  -0.000174\n",
       "19  shadow_feature_Confidence_Life_Style_Index  -0.000239\n",
       "37                  shadow_feature_Type_of_Cab  -0.000412\n",
       "35                         shadow_feature_Var2  -0.000955\n",
       "18        shadow_feature_Customer_Since_Months  -0.001042\n",
       "24                       shadow_feature_Gender  -0.001345\n",
       "16                         shadow_feature_Var1  -0.001367\n",
       "23                                      Gender  -0.001714\n",
       "14             shadow_feature_Life_Style_Index  -0.002322\n",
       "20             shadow_feature_Destination_Type  -0.002799\n",
       "36                                      Dummy3  -0.006054"
      ]
     },
     "execution_count": 1096,
     "metadata": {},
     "output_type": "execute_result"
    }
   ],
   "source": [
    "df_feature_importance = pd.DataFrame(data=d)\n",
    "d_t = defaultdict(list)\n",
    "for i in df_feature_importance.columns:\n",
    "    mean_val = df_feature_importance[i].mean() * 100\n",
    "    d_t[i].append(mean_val)\n",
    "df_features = pd.DataFrame(data=d_t).T\n",
    "df_features.reset_index(inplace=True)\n",
    "df_features.sort_values(by=[0],ascending=False)"
   ]
  },
  {
   "cell_type": "code",
   "execution_count": 1097,
   "metadata": {},
   "outputs": [],
   "source": [
    "rf = df_features.sort_values(by=[0],ascending=False)\n",
    "rf.reset_index(inplace=True,drop=True)"
   ]
  },
  {
   "cell_type": "code",
   "execution_count": 1365,
   "metadata": {},
   "outputs": [],
   "source": [
    "k = rf[0:14]['index'].tolist()"
   ]
  },
  {
   "cell_type": "code",
   "execution_count": 1366,
   "metadata": {},
   "outputs": [],
   "source": [
    "# k.remove('enc_cab')"
   ]
  },
  {
   "cell_type": "code",
   "execution_count": 1513,
   "metadata": {},
   "outputs": [
    {
     "data": {
      "text/plain": [
       "['enc_cab',\n",
       " 'Type_of_Cab',\n",
       " 'Trip_Distance',\n",
       " 'Cancellation_Last_1Month',\n",
       " 'Confidence_Life_Style_Index',\n",
       " 'Destination_Type',\n",
       " 'Var3',\n",
       " 'Customer_Rating',\n",
       " 'Life_Style_Index',\n",
       " 'Var1_isnull',\n",
       " 'Var1',\n",
       " 'Var2',\n",
       " 'Customer_Since_Months',\n",
       " 'Customer_isnull']"
      ]
     },
     "execution_count": 1513,
     "metadata": {},
     "output_type": "execute_result"
    }
   ],
   "source": [
    "k"
   ]
  },
  {
   "cell_type": "code",
   "execution_count": 1765,
   "metadata": {},
   "outputs": [
    {
     "data": {
      "text/plain": [
       "2    0.503862\n",
       "3    0.340500\n",
       "1    0.155638\n",
       "Name: Surge_Pricing_Type, dtype: float64"
      ]
     },
     "execution_count": 1765,
     "metadata": {},
     "output_type": "execute_result"
    }
   ],
   "source": [
    "df_sub['Surge_Pricing_Type'].value_counts(normalize=True)"
   ]
  },
  {
   "cell_type": "code",
   "execution_count": 1710,
   "metadata": {},
   "outputs": [
    {
     "data": {
      "text/plain": [
       "2    0.503724\n",
       "3    0.340580\n",
       "1    0.155695\n",
       "Name: Surge_Pricing_Type, dtype: float64"
      ]
     },
     "execution_count": 1710,
     "metadata": {},
     "output_type": "execute_result"
    }
   ],
   "source": [
    "df_sub['Surge_Pricing_Type'].value_counts(normalize=True)"
   ]
  },
  {
   "cell_type": "code",
   "execution_count": 1319,
   "metadata": {},
   "outputs": [
    {
     "data": {
      "text/plain": [
       "2    0.430861\n",
       "3    0.362443\n",
       "1    0.206696\n",
       "Name: Surge_Pricing_Type, dtype: float64"
      ]
     },
     "execution_count": 1319,
     "metadata": {},
     "output_type": "execute_result"
    }
   ],
   "source": [
    "df_train['Surge_Pricing_Type'].value_counts(normalize=True)"
   ]
  },
  {
   "cell_type": "code",
   "execution_count": 815,
   "metadata": {},
   "outputs": [
    {
     "data": {
      "text/plain": [
       "Index(['Trip_ID', 'Trip_Distance', 'Type_of_Cab', 'Customer_Since_Months',\n",
       "       'Life_Style_Index', 'Destination_Type', 'Customer_Rating',\n",
       "       'Cancellation_Last_1Month', 'Var1', 'Var2', 'Var3', 'Gender',\n",
       "       'mean_enc_Confidence_Life_Style_Index', 'Var1_isnull',\n",
       "       'Customer_isnull'],\n",
       "      dtype='object')"
      ]
     },
     "execution_count": 815,
     "metadata": {},
     "output_type": "execute_result"
    }
   ],
   "source": [
    "df_test.columns"
   ]
  },
  {
   "cell_type": "code",
   "execution_count": 816,
   "metadata": {},
   "outputs": [
    {
     "data": {
      "text/plain": [
       "Index(['Trip_Distance', 'Type_of_Cab', 'Customer_Since_Months',\n",
       "       'Life_Style_Index', 'Destination_Type', 'Customer_Rating',\n",
       "       'Cancellation_Last_1Month', 'Var1', 'Var2', 'Var3', 'Gender',\n",
       "       'Var1_isnull', 'Customer_isnull',\n",
       "       'mean_enc_Confidence_Life_Style_Index'],\n",
       "      dtype='object')"
      ]
     },
     "execution_count": 816,
     "metadata": {},
     "output_type": "execute_result"
    }
   ],
   "source": [
    "X_train.columns"
   ]
  },
  {
   "cell_type": "code",
   "execution_count": null,
   "metadata": {},
   "outputs": [],
   "source": [
    "m  = lgb.LGBMClassifier(random_state=22,n_jobs=-1,colsample_bytree=1,min_child_samples=22,num_leaves=65,\n",
    "                       lambda_l1=2.41,lambda_l2=5.21,learning_rate=0.1,n_estimators=100)"
   ]
  }
 ],
 "metadata": {
  "kernelspec": {
   "display_name": "Python 3",
   "language": "python",
   "name": "python3"
  },
  "language_info": {
   "codemirror_mode": {
    "name": "ipython",
    "version": 3
   },
   "file_extension": ".py",
   "mimetype": "text/x-python",
   "name": "python",
   "nbconvert_exporter": "python",
   "pygments_lexer": "ipython3",
   "version": "3.7.6"
  },
  "varInspector": {
   "cols": {
    "lenName": 16,
    "lenType": 16,
    "lenVar": 40
   },
   "kernels_config": {
    "python": {
     "delete_cmd_postfix": "",
     "delete_cmd_prefix": "del ",
     "library": "var_list.py",
     "varRefreshCmd": "print(var_dic_list())"
    },
    "r": {
     "delete_cmd_postfix": ") ",
     "delete_cmd_prefix": "rm(",
     "library": "var_list.r",
     "varRefreshCmd": "cat(var_dic_list()) "
    }
   },
   "types_to_exclude": [
    "module",
    "function",
    "builtin_function_or_method",
    "instance",
    "_Feature"
   ],
   "window_display": false
  }
 },
 "nbformat": 4,
 "nbformat_minor": 4
}
