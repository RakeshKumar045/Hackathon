{
 "cells": [
  {
   "cell_type": "code",
   "execution_count": 3,
   "metadata": {},
   "outputs": [],
   "source": [
    "import numpy as np\n",
    "import pandas as pd\n",
    "\n",
    "\n",
    "import matplotlib.pyplot as plt\n",
    "\n",
    "import seaborn as sns\n",
    "\n",
    "\n",
    "\n",
    "#Algorithm\n",
    "from sklearn.linear_model import LogisticRegression\n",
    "from sklearn.svm import SVC\n",
    "from sklearn.tree import DecisionTreeClassifier\n",
    "from sklearn.ensemble import RandomForestClassifier\n",
    "from xgboost import XGBClassifier\n",
    "\n",
    "from lightgbm import LGBMClassifier\n",
    "# from catboost import CatBoostClassifier\n",
    "\n",
    "\n",
    "from sklearn.model_selection import train_test_split\n",
    "\n",
    "#Metrics\n",
    "from sklearn.metrics import accuracy_score, roc_auc_score, roc_curve, recall_score, precision_score\n",
    "from sklearn.metrics import confusion_matrix, classification_report"
   ]
  },
  {
   "cell_type": "code",
   "execution_count": 4,
   "metadata": {},
   "outputs": [],
   "source": [
    "\n",
    "\n",
    "from collections import Counter , defaultdict\n",
    "\n",
    "\n",
    "# To ignore warnings\n",
    "import warnings\n",
    "warnings.filterwarnings(\"ignore\")\n",
    "\n",
    "from sklearn.base import TransformerMixin, BaseEstimator\n"
   ]
  },
  {
   "cell_type": "code",
   "execution_count": null,
   "metadata": {},
   "outputs": [],
   "source": []
  },
  {
   "cell_type": "code",
   "execution_count": 5,
   "metadata": {},
   "outputs": [],
   "source": [
    "class DataFrameImputer(TransformerMixin):\n",
    "\n",
    "    def __init__(self):\n",
    "        \"\"\"Impute missing values.\n",
    "\n",
    "        Columns of dtype object are imputed with the most frequent value \n",
    "        in column.\n",
    "\n",
    "        Columns of other types are imputed with mean of column.\n",
    "\n",
    "        \"\"\"\n",
    "    def fit(self, X, y=None):\n",
    "\n",
    "        self.fill = pd.Series([X[c].value_counts().index[0] if X[c].dtype == np.dtype('O') else X[c].mean() for c in X],\n",
    "            index=X.columns)\n",
    "\n",
    "        return self\n",
    "\n",
    "    def transform(self, X, y=None):\n",
    "        return X.fillna(self.fill)"
   ]
  },
  {
   "cell_type": "code",
   "execution_count": null,
   "metadata": {},
   "outputs": [],
   "source": []
  },
  {
   "cell_type": "code",
   "execution_count": 6,
   "metadata": {},
   "outputs": [
    {
     "data": {
      "text/plain": [
       "(18359, 14)"
      ]
     },
     "execution_count": 6,
     "metadata": {},
     "output_type": "execute_result"
    }
   ],
   "source": [
    "df = pd.read_csv(\"train_jqd04QH.csv\")\n",
    "df10 = df.copy()\n",
    "df.shape"
   ]
  },
  {
   "cell_type": "code",
   "execution_count": 7,
   "metadata": {},
   "outputs": [
    {
     "data": {
      "text/html": [
       "<div>\n",
       "<style scoped>\n",
       "    .dataframe tbody tr th:only-of-type {\n",
       "        vertical-align: middle;\n",
       "    }\n",
       "\n",
       "    .dataframe tbody tr th {\n",
       "        vertical-align: top;\n",
       "    }\n",
       "\n",
       "    .dataframe thead th {\n",
       "        text-align: right;\n",
       "    }\n",
       "</style>\n",
       "<table border=\"1\" class=\"dataframe\">\n",
       "  <thead>\n",
       "    <tr style=\"text-align: right;\">\n",
       "      <th></th>\n",
       "      <th>enrollee_id</th>\n",
       "      <th>city</th>\n",
       "      <th>city_development_index</th>\n",
       "      <th>gender</th>\n",
       "      <th>relevent_experience</th>\n",
       "      <th>enrolled_university</th>\n",
       "      <th>education_level</th>\n",
       "      <th>major_discipline</th>\n",
       "      <th>experience</th>\n",
       "      <th>company_size</th>\n",
       "      <th>company_type</th>\n",
       "      <th>last_new_job</th>\n",
       "      <th>training_hours</th>\n",
       "      <th>target</th>\n",
       "    </tr>\n",
       "  </thead>\n",
       "  <tbody>\n",
       "    <tr>\n",
       "      <th>0</th>\n",
       "      <td>23798</td>\n",
       "      <td>city_149</td>\n",
       "      <td>0.689</td>\n",
       "      <td>Male</td>\n",
       "      <td>Has relevent experience</td>\n",
       "      <td>no_enrollment</td>\n",
       "      <td>Graduate</td>\n",
       "      <td>STEM</td>\n",
       "      <td>3</td>\n",
       "      <td>100-500</td>\n",
       "      <td>Pvt Ltd</td>\n",
       "      <td>1</td>\n",
       "      <td>106</td>\n",
       "      <td>0</td>\n",
       "    </tr>\n",
       "    <tr>\n",
       "      <th>1</th>\n",
       "      <td>29166</td>\n",
       "      <td>city_83</td>\n",
       "      <td>0.923</td>\n",
       "      <td>Male</td>\n",
       "      <td>Has relevent experience</td>\n",
       "      <td>no_enrollment</td>\n",
       "      <td>Graduate</td>\n",
       "      <td>STEM</td>\n",
       "      <td>14</td>\n",
       "      <td>&lt;10</td>\n",
       "      <td>Funded Startup</td>\n",
       "      <td>1</td>\n",
       "      <td>69</td>\n",
       "      <td>0</td>\n",
       "    </tr>\n",
       "    <tr>\n",
       "      <th>2</th>\n",
       "      <td>46</td>\n",
       "      <td>city_16</td>\n",
       "      <td>0.910</td>\n",
       "      <td>NaN</td>\n",
       "      <td>Has relevent experience</td>\n",
       "      <td>no_enrollment</td>\n",
       "      <td>Graduate</td>\n",
       "      <td>STEM</td>\n",
       "      <td>6</td>\n",
       "      <td>50-99</td>\n",
       "      <td>Public Sector</td>\n",
       "      <td>2</td>\n",
       "      <td>4</td>\n",
       "      <td>0</td>\n",
       "    </tr>\n",
       "    <tr>\n",
       "      <th>3</th>\n",
       "      <td>18527</td>\n",
       "      <td>city_64</td>\n",
       "      <td>0.666</td>\n",
       "      <td>Male</td>\n",
       "      <td>Has relevent experience</td>\n",
       "      <td>no_enrollment</td>\n",
       "      <td>Graduate</td>\n",
       "      <td>STEM</td>\n",
       "      <td>14</td>\n",
       "      <td>50-99</td>\n",
       "      <td>Pvt Ltd</td>\n",
       "      <td>1</td>\n",
       "      <td>26</td>\n",
       "      <td>0</td>\n",
       "    </tr>\n",
       "    <tr>\n",
       "      <th>4</th>\n",
       "      <td>21751</td>\n",
       "      <td>city_100</td>\n",
       "      <td>0.887</td>\n",
       "      <td>NaN</td>\n",
       "      <td>No relevent experience</td>\n",
       "      <td>no_enrollment</td>\n",
       "      <td>Masters</td>\n",
       "      <td>STEM</td>\n",
       "      <td>8</td>\n",
       "      <td>NaN</td>\n",
       "      <td>NaN</td>\n",
       "      <td>2</td>\n",
       "      <td>88</td>\n",
       "      <td>1</td>\n",
       "    </tr>\n",
       "  </tbody>\n",
       "</table>\n",
       "</div>"
      ],
      "text/plain": [
       "   enrollee_id      city  city_development_index gender  \\\n",
       "0        23798  city_149                   0.689   Male   \n",
       "1        29166   city_83                   0.923   Male   \n",
       "2           46   city_16                   0.910    NaN   \n",
       "3        18527   city_64                   0.666   Male   \n",
       "4        21751  city_100                   0.887    NaN   \n",
       "\n",
       "       relevent_experience enrolled_university education_level  \\\n",
       "0  Has relevent experience       no_enrollment        Graduate   \n",
       "1  Has relevent experience       no_enrollment        Graduate   \n",
       "2  Has relevent experience       no_enrollment        Graduate   \n",
       "3  Has relevent experience       no_enrollment        Graduate   \n",
       "4   No relevent experience       no_enrollment         Masters   \n",
       "\n",
       "  major_discipline experience company_size    company_type last_new_job  \\\n",
       "0             STEM          3      100-500         Pvt Ltd            1   \n",
       "1             STEM         14          <10  Funded Startup            1   \n",
       "2             STEM          6        50-99   Public Sector            2   \n",
       "3             STEM         14        50-99         Pvt Ltd            1   \n",
       "4             STEM          8          NaN             NaN            2   \n",
       "\n",
       "   training_hours  target  \n",
       "0             106       0  \n",
       "1              69       0  \n",
       "2               4       0  \n",
       "3              26       0  \n",
       "4              88       1  "
      ]
     },
     "execution_count": 7,
     "metadata": {},
     "output_type": "execute_result"
    }
   ],
   "source": [
    "df.head()"
   ]
  },
  {
   "cell_type": "code",
   "execution_count": 8,
   "metadata": {},
   "outputs": [
    {
     "name": "stdout",
     "output_type": "stream",
     "text": [
      "<class 'pandas.core.frame.DataFrame'>\n",
      "RangeIndex: 18359 entries, 0 to 18358\n",
      "Data columns (total 14 columns):\n",
      "enrollee_id               18359 non-null int64\n",
      "city                      18359 non-null object\n",
      "city_development_index    18359 non-null float64\n",
      "gender                    14261 non-null object\n",
      "relevent_experience       18359 non-null object\n",
      "enrolled_university       18017 non-null object\n",
      "education_level           17902 non-null object\n",
      "major_discipline          15521 non-null object\n",
      "experience                18300 non-null object\n",
      "company_size              13580 non-null object\n",
      "company_type              13320 non-null object\n",
      "last_new_job              17992 non-null object\n",
      "training_hours            18359 non-null int64\n",
      "target                    18359 non-null int64\n",
      "dtypes: float64(1), int64(3), object(10)\n",
      "memory usage: 2.0+ MB\n"
     ]
    }
   ],
   "source": [
    "df.info()"
   ]
  },
  {
   "cell_type": "code",
   "execution_count": 9,
   "metadata": {},
   "outputs": [
    {
     "data": {
      "text/plain": [
       "enrollee_id                  0\n",
       "city                         0\n",
       "city_development_index       0\n",
       "gender                    4098\n",
       "relevent_experience          0\n",
       "enrolled_university        342\n",
       "education_level            457\n",
       "major_discipline          2838\n",
       "experience                  59\n",
       "company_size              4779\n",
       "company_type              5039\n",
       "last_new_job               367\n",
       "training_hours               0\n",
       "target                       0\n",
       "dtype: int64"
      ]
     },
     "execution_count": 9,
     "metadata": {},
     "output_type": "execute_result"
    }
   ],
   "source": [
    "df.isna().sum()"
   ]
  },
  {
   "cell_type": "code",
   "execution_count": null,
   "metadata": {},
   "outputs": [],
   "source": []
  },
  {
   "cell_type": "code",
   "execution_count": 10,
   "metadata": {},
   "outputs": [],
   "source": [
    "def get_percentage_miss_value(dataset):\n",
    "    higher_miss_value_column = []\n",
    "    miss_threshold_value = 50\n",
    "    \n",
    "    for i in dataset.columns:\n",
    "        if dataset[i].isna().sum() > 1: \n",
    "            perectange_val = (dataset[i].isna().sum() / len(dataset)) * 100\n",
    "            print(\"Column-> \" , i, \", total no of missing value : \",dataset[i].isna().sum() , \" & :         \", round(perectange_val,2) ,\" %\")\n",
    "                \n",
    "            if(perectange_val > miss_threshold_value):\n",
    "                higher_miss_value_column.append(i)\n",
    "            \n",
    "    print(\"\\n\\n\\n\")\n",
    "        \n",
    "    if higher_miss_value_column:\n",
    "        print(\"Higher Missing values in Columns for Delete : \\n\\n\", higher_miss_value_column) \n",
    "        \n",
    "        return higher_miss_value_column\n",
    "    else:\n",
    "        print(\"There are no Higher Column Missing values in Dataset\")"
   ]
  },
  {
   "cell_type": "code",
   "execution_count": 11,
   "metadata": {},
   "outputs": [
    {
     "name": "stdout",
     "output_type": "stream",
     "text": [
      "Column->  gender , total no of missing value :  4098  & :          22.32  %\n",
      "Column->  enrolled_university , total no of missing value :  342  & :          1.86  %\n",
      "Column->  education_level , total no of missing value :  457  & :          2.49  %\n",
      "Column->  major_discipline , total no of missing value :  2838  & :          15.46  %\n",
      "Column->  experience , total no of missing value :  59  & :          0.32  %\n",
      "Column->  company_size , total no of missing value :  4779  & :          26.03  %\n",
      "Column->  company_type , total no of missing value :  5039  & :          27.45  %\n",
      "Column->  last_new_job , total no of missing value :  367  & :          2.0  %\n",
      "\n",
      "\n",
      "\n",
      "\n",
      "There are no Higher Column Missing values in Dataset\n"
     ]
    }
   ],
   "source": [
    "missing_val = get_percentage_miss_value(df)\n"
   ]
  },
  {
   "cell_type": "code",
   "execution_count": null,
   "metadata": {},
   "outputs": [],
   "source": []
  },
  {
   "cell_type": "code",
   "execution_count": 12,
   "metadata": {},
   "outputs": [],
   "source": [
    "def visualize_categorical_values(dataset):\n",
    "    no_of_columns = 4\n",
    "    no_of_rows = 4\n",
    "    \n",
    "    columns_object_type = [i for i in dataset.columns  if dataset[i].dtype == \"object\"]\n",
    "    total_rows = (len(columns_object_type) // no_of_rows ) + 1\n",
    "    \n",
    "    f, axes = plt.subplots(total_rows, no_of_columns, figsize=(18,24))\n",
    "\n",
    "    for ind, val in enumerate(columns_object_type):\n",
    "        sns.countplot(df[val] , ax = axes[ind // no_of_rows , ind %no_of_columns ])\n",
    "    plt.show()   "
   ]
  },
  {
   "cell_type": "code",
   "execution_count": 13,
   "metadata": {},
   "outputs": [
    {
     "data": {
      "image/png": "[encoded data removed]",
      "text/plain": [
       "<Figure size 1296x1728 with 12 Axes>"
      ]
     },
     "metadata": {
      "needs_background": "light"
     },
     "output_type": "display_data"
    }
   ],
   "source": [
    "visualize_categorical_values(df)"
   ]
  },
  {
   "cell_type": "code",
   "execution_count": null,
   "metadata": {},
   "outputs": [],
   "source": []
  },
  {
   "cell_type": "code",
   "execution_count": 15,
   "metadata": {},
   "outputs": [
    {
     "data": {
      "text/html": [
       "<div>\n",
       "<style scoped>\n",
       "    .dataframe tbody tr th:only-of-type {\n",
       "        vertical-align: middle;\n",
       "    }\n",
       "\n",
       "    .dataframe tbody tr th {\n",
       "        vertical-align: top;\n",
       "    }\n",
       "\n",
       "    .dataframe thead th {\n",
       "        text-align: right;\n",
       "    }\n",
       "</style>\n",
       "<table border=\"1\" class=\"dataframe\">\n",
       "  <thead>\n",
       "    <tr style=\"text-align: right;\">\n",
       "      <th></th>\n",
       "      <th>enrollee_id</th>\n",
       "      <th>city</th>\n",
       "      <th>city_development_index</th>\n",
       "      <th>gender</th>\n",
       "      <th>relevent_experience</th>\n",
       "      <th>enrolled_university</th>\n",
       "      <th>education_level</th>\n",
       "      <th>major_discipline</th>\n",
       "      <th>experience</th>\n",
       "      <th>company_size</th>\n",
       "      <th>company_type</th>\n",
       "      <th>last_new_job</th>\n",
       "      <th>training_hours</th>\n",
       "      <th>target</th>\n",
       "    </tr>\n",
       "  </thead>\n",
       "  <tbody>\n",
       "    <tr>\n",
       "      <th>0</th>\n",
       "      <td>23798</td>\n",
       "      <td>city_149</td>\n",
       "      <td>0.689</td>\n",
       "      <td>Male</td>\n",
       "      <td>Has relevent experience</td>\n",
       "      <td>no_enrollment</td>\n",
       "      <td>Graduate</td>\n",
       "      <td>STEM</td>\n",
       "      <td>3</td>\n",
       "      <td>100-500</td>\n",
       "      <td>Pvt Ltd</td>\n",
       "      <td>1</td>\n",
       "      <td>106</td>\n",
       "      <td>0</td>\n",
       "    </tr>\n",
       "    <tr>\n",
       "      <th>1</th>\n",
       "      <td>29166</td>\n",
       "      <td>city_83</td>\n",
       "      <td>0.923</td>\n",
       "      <td>Male</td>\n",
       "      <td>Has relevent experience</td>\n",
       "      <td>no_enrollment</td>\n",
       "      <td>Graduate</td>\n",
       "      <td>STEM</td>\n",
       "      <td>14</td>\n",
       "      <td>&lt;10</td>\n",
       "      <td>Funded Startup</td>\n",
       "      <td>1</td>\n",
       "      <td>69</td>\n",
       "      <td>0</td>\n",
       "    </tr>\n",
       "    <tr>\n",
       "      <th>2</th>\n",
       "      <td>46</td>\n",
       "      <td>city_16</td>\n",
       "      <td>0.910</td>\n",
       "      <td>NaN</td>\n",
       "      <td>Has relevent experience</td>\n",
       "      <td>no_enrollment</td>\n",
       "      <td>Graduate</td>\n",
       "      <td>STEM</td>\n",
       "      <td>6</td>\n",
       "      <td>50-99</td>\n",
       "      <td>Public Sector</td>\n",
       "      <td>2</td>\n",
       "      <td>4</td>\n",
       "      <td>0</td>\n",
       "    </tr>\n",
       "    <tr>\n",
       "      <th>3</th>\n",
       "      <td>18527</td>\n",
       "      <td>city_64</td>\n",
       "      <td>0.666</td>\n",
       "      <td>Male</td>\n",
       "      <td>Has relevent experience</td>\n",
       "      <td>no_enrollment</td>\n",
       "      <td>Graduate</td>\n",
       "      <td>STEM</td>\n",
       "      <td>14</td>\n",
       "      <td>50-99</td>\n",
       "      <td>Pvt Ltd</td>\n",
       "      <td>1</td>\n",
       "      <td>26</td>\n",
       "      <td>0</td>\n",
       "    </tr>\n",
       "    <tr>\n",
       "      <th>4</th>\n",
       "      <td>21751</td>\n",
       "      <td>city_100</td>\n",
       "      <td>0.887</td>\n",
       "      <td>NaN</td>\n",
       "      <td>No relevent experience</td>\n",
       "      <td>no_enrollment</td>\n",
       "      <td>Masters</td>\n",
       "      <td>STEM</td>\n",
       "      <td>8</td>\n",
       "      <td>NaN</td>\n",
       "      <td>NaN</td>\n",
       "      <td>2</td>\n",
       "      <td>88</td>\n",
       "      <td>1</td>\n",
       "    </tr>\n",
       "  </tbody>\n",
       "</table>\n",
       "</div>"
      ],
      "text/plain": [
       "   enrollee_id      city  city_development_index gender  \\\n",
       "0        23798  city_149                   0.689   Male   \n",
       "1        29166   city_83                   0.923   Male   \n",
       "2           46   city_16                   0.910    NaN   \n",
       "3        18527   city_64                   0.666   Male   \n",
       "4        21751  city_100                   0.887    NaN   \n",
       "\n",
       "       relevent_experience enrolled_university education_level  \\\n",
       "0  Has relevent experience       no_enrollment        Graduate   \n",
       "1  Has relevent experience       no_enrollment        Graduate   \n",
       "2  Has relevent experience       no_enrollment        Graduate   \n",
       "3  Has relevent experience       no_enrollment        Graduate   \n",
       "4   No relevent experience       no_enrollment         Masters   \n",
       "\n",
       "  major_discipline experience company_size    company_type last_new_job  \\\n",
       "0             STEM          3      100-500         Pvt Ltd            1   \n",
       "1             STEM         14          <10  Funded Startup            1   \n",
       "2             STEM          6        50-99   Public Sector            2   \n",
       "3             STEM         14        50-99         Pvt Ltd            1   \n",
       "4             STEM          8          NaN             NaN            2   \n",
       "\n",
       "   training_hours  target  \n",
       "0             106       0  \n",
       "1              69       0  \n",
       "2               4       0  \n",
       "3              26       0  \n",
       "4              88       1  "
      ]
     },
     "execution_count": 15,
     "metadata": {},
     "output_type": "execute_result"
    }
   ],
   "source": [
    "df.head()"
   ]
  },
  {
   "cell_type": "code",
   "execution_count": 14,
   "metadata": {},
   "outputs": [],
   "source": [
    "def check_cloumn_details_type_categorical(dataset):\n",
    "    for i in dataset.columns:\n",
    "        if(dataset[i].dtype == \"object\"):\n",
    "            print(\"Columns name :  \",i  )\n",
    "            \n",
    "            print(dict(Counter(dataset[i])))\n",
    "            \n",
    "            print(\"*\"*100)\n",
    "            print(\"\\n\")"
   ]
  },
  {
   "cell_type": "code",
   "execution_count": null,
   "metadata": {},
   "outputs": [],
   "source": []
  },
  {
   "cell_type": "code",
   "execution_count": 47,
   "metadata": {},
   "outputs": [
    {
     "name": "stdout",
     "output_type": "stream",
     "text": [
      "Columns name :   city\n",
      "{'city_149': 105, 'city_83': 142, 'city_16': 1654, 'city_64': 119, 'city_100': 271, 'city_21': 1672, 'city_114': 1472, 'city_103': 4358, 'city_97': 109, 'city_160': 827, 'city_65': 188, 'city_90': 180, 'city_75': 332, 'city_136': 624, 'city_159': 99, 'city_67': 455, 'city_28': 212, 'city_10': 95, 'city_73': 264, 'city_76': 49, 'city_104': 318, 'city_27': 54, 'city_30': 23, 'city_61': 217, 'city_99': 101, 'city_41': 95, 'city_142': 45, 'city_9': 21, 'city_116': 131, 'city_128': 62, 'city_74': 66, 'city_69': 20, 'city_1': 27, 'city_176': 24, 'city_40': 73, 'city_123': 78, 'city_152': 53, 'city_165': 90, 'city_89': 69, 'city_36': 175, 'city_44': 18, 'city_46': 128, 'city_45': 119, 'city_134': 48, 'city_93': 25, 'city_180': 5, 'city_162': 125, 'city_84': 23, 'city_138': 126, 'city_173': 156, 'city_19': 98, 'city_71': 281, 'city_158': 52, 'city_23': 194, 'city_102': 313, 'city_105': 87, 'city_91': 42, 'city_11': 150, 'city_13': 53, 'city_57': 108, 'city_20': 30, 'city_14': 25, 'city_37': 15, 'city_115': 50, 'city_50': 150, 'city_167': 10, 'city_12': 14, 'city_143': 40, 'city_126': 19, 'city_77': 38, 'city_101': 44, 'city_150': 66, 'city_179': 4, 'city_107': 4, 'city_175': 16, 'city_146': 7, 'city_98': 86, 'city_166': 4, 'city_118': 29, 'city_129': 3, 'city_127': 13, 'city_24': 60, 'city_81': 7, 'city_26': 25, 'city_139': 4, 'city_94': 21, 'city_70': 39, 'city_145': 37, 'city_157': 21, 'city_111': 3, 'city_78': 20, 'city_80': 18, 'city_33': 13, 'city_7': 24, 'city_72': 22, 'city_43': 7, 'city_144': 30, 'city_39': 12, 'city_59': 9, 'city_48': 9, 'city_131': 7, 'city_121': 3, 'city_141': 27, 'city_42': 5, 'city_117': 12, 'city_55': 14, 'city_54': 14, 'city_8': 4, 'city_62': 5, 'city_53': 27, 'city_106': 8, 'city_155': 4, 'city_133': 11, 'city_171': 2, 'city_2': 9, 'city_120': 6, 'city_18': 4, 'city_79': 7, 'city_31': 4, 'city_109': 8, 'city_25': 4, 'city_82': 5, 'city_140': 1}\n",
      "****************************************************************************************************\n",
      "\n",
      "\n",
      "Columns name :   gender\n",
      "{'Male': 12884, nan: 4098, 'Female': 1188, 'Other': 189}\n",
      "****************************************************************************************************\n",
      "\n",
      "\n",
      "Columns name :   relevent_experience\n",
      "{'Has relevent experience': 13596, 'No relevent experience': 4763}\n",
      "****************************************************************************************************\n",
      "\n",
      "\n",
      "Columns name :   enrolled_university\n",
      "{'no_enrollment': 13659, 'Full time course': 3187, 'Part time course': 1171, nan: 342}\n",
      "****************************************************************************************************\n",
      "\n",
      "\n",
      "Columns name :   education_level\n",
      "{'Graduate': 10769, 'Masters': 4319, 'High School': 2032, 'Phd': 459, nan: 457, 'Primary School': 323}\n",
      "****************************************************************************************************\n",
      "\n",
      "\n",
      "Columns name :   major_discipline\n",
      "{'STEM': 13738, 'Other': 343, 'No Major': 206, nan: 2838, 'Business Degree': 307, 'Arts': 239, 'Humanities': 688}\n",
      "****************************************************************************************************\n",
      "\n",
      "\n",
      "Columns name :   experience\n",
      "{'3': 1159, '14': 602, '6': 1125, '8': 755, '>20': 3437, '4': 1250, '9': 979, '15': 695, '10': 967, '1': 452, '5': 1309, '16': 549, '11': 667, '12': 497, '7': 950, '2': 992, '13': 412, '<1': 416, '19': 308, '18': 286, '17': 347, nan: 59, '20': 146}\n",
      "****************************************************************************************************\n",
      "\n",
      "\n",
      "Columns name :   company_size\n",
      "{'100-500': 2698, '<10': 1360, '50-99': 3120, nan: 4779, '5000-9999': 591, '10000+': 2044, '1000-4999': 1399, '500-999': 902, '10/49': 1466}\n",
      "****************************************************************************************************\n",
      "\n",
      "\n",
      "Columns name :   company_type\n",
      "{'Pvt Ltd': 10051, 'Funded Startup': 1038, 'Public Sector': 996, nan: 5039, 'Early Stage Startup': 582, 'NGO': 534, 'Other': 119}\n",
      "****************************************************************************************************\n",
      "\n",
      "\n",
      "Columns name :   last_new_job\n",
      "{'1': 7567, '2': 2835, '3': 1027, '>4': 3339, 'never': 2186, '4': 1038, nan: 367}\n",
      "****************************************************************************************************\n",
      "\n",
      "\n"
     ]
    }
   ],
   "source": [
    "check_cloumn_details_type_categorical(df)"
   ]
  },
  {
   "cell_type": "code",
   "execution_count": null,
   "metadata": {},
   "outputs": [],
   "source": []
  },
  {
   "cell_type": "code",
   "execution_count": 36,
   "metadata": {},
   "outputs": [],
   "source": [
    "def check_cloumn_details_type_numberical(dataset):\n",
    "    for i in dataset.columns:\n",
    "        if (dataset[i].dtype == \"int\"):\n",
    "            print(\"Columns name :  \",i  )\n",
    "            \n",
    "            print(dict(Counter(dataset[i])))\n",
    "            print(\"*\"*100)\n",
    "            print(\"\\n\")\n",
    "            \n",
    "            \n",
    "def check_cloumn_details_type_float(dataset):\n",
    "    for i in dataset.columns:\n",
    "        if (dataset[i].dtype == \"float\"):\n",
    "            print(\"Columns name :  \",i  )\n",
    "            \n",
    "            print(dict(Counter(dataset[i])))\n",
    "            print(\"*\"*100)\n",
    "            print(\"\\n\")"
   ]
  },
  {
   "cell_type": "code",
   "execution_count": 37,
   "metadata": {},
   "outputs": [],
   "source": [
    "check_cloumn_details_type_numberical(df)"
   ]
  },
  {
   "cell_type": "code",
   "execution_count": 38,
   "metadata": {},
   "outputs": [
    {
     "data": {
      "text/plain": [
       "education_level    2.49\n",
       "last_new_job       2.00\n",
       "experience         0.32\n",
       "dtype: float64"
      ]
     },
     "execution_count": 38,
     "metadata": {},
     "output_type": "execute_result"
    }
   ],
   "source": [
    "## checking for the missing values : \n",
    "\n",
    "\n",
    "round(100*(df.isnull().sum()/len(df.index)),2) [round(100*(df.isnull().sum()/len(df.index)),2).values > 0.00 ].sort_values(ascending = False)\n"
   ]
  },
  {
   "cell_type": "code",
   "execution_count": 21,
   "metadata": {},
   "outputs": [],
   "source": [
    "## Droping columns which does not provid the relevant information : \n",
    "\n",
    "df = df.drop(['company_type','company_size','major_discipline'],axis='columns')\n"
   ]
  },
  {
   "cell_type": "code",
   "execution_count": 27,
   "metadata": {},
   "outputs": [
    {
     "data": {
      "text/plain": [
       "education_level    2.49\n",
       "last_new_job       2.00\n",
       "experience         0.32\n",
       "dtype: float64"
      ]
     },
     "execution_count": 27,
     "metadata": {},
     "output_type": "execute_result"
    }
   ],
   "source": [
    "## checking for the missing values : \n",
    "\n",
    "\n",
    "round(100*(df.isnull().sum()/len(df.index)),2) [round(100*(df.isnull().sum()/len(df.index)),2).values > 0.00 ].sort_values(ascending = False)\n"
   ]
  },
  {
   "cell_type": "code",
   "execution_count": 18,
   "metadata": {},
   "outputs": [],
   "source": [
    "# imputing the catagorical variables: \n",
    "\n",
    "\n",
    "df.gender.fillna('Male',inplace=True)\n",
    "df.enrolled_university.fillna('no_enrollment',inplace = True)\n"
   ]
  },
  {
   "cell_type": "code",
   "execution_count": 29,
   "metadata": {},
   "outputs": [
    {
     "data": {
      "text/plain": [
       "['enrollee_id', 'city_development_index', 'training_hours', 'target']"
      ]
     },
     "execution_count": 29,
     "metadata": {},
     "output_type": "execute_result"
    }
   ],
   "source": [
    "df_numeric_cols = list(df.dtypes[df.dtypes != 'object'].index)\n",
    "df_numeric_cols"
   ]
  },
  {
   "cell_type": "code",
   "execution_count": 31,
   "metadata": {},
   "outputs": [],
   "source": [
    "check_cloumn_details_type_numberical(df)"
   ]
  },
  {
   "cell_type": "code",
   "execution_count": 41,
   "metadata": {},
   "outputs": [
    {
     "name": "stdout",
     "output_type": "stream",
     "text": [
      "0.920    5185\n",
      "0.624    1672\n",
      "0.910    1654\n",
      "0.926    1472\n",
      "0.698     655\n",
      "0.897     624\n",
      "0.939     544\n",
      "0.855     455\n",
      "0.924     318\n",
      "0.804     313\n",
      "0.884     281\n",
      "0.887     271\n",
      "0.754     264\n",
      "0.913     217\n",
      "0.899     194\n",
      "0.802     188\n",
      "0.925     178\n",
      "0.893     175\n",
      "0.878     156\n",
      "0.743     152\n",
      "0.896     150\n",
      "0.550     150\n",
      "0.827     148\n",
      "0.923     142\n",
      "0.762     128\n",
      "0.836     126\n",
      "0.767     125\n",
      "0.666     119\n",
      "0.890     119\n",
      "0.866     108\n",
      "         ... \n",
      "0.725      18\n",
      "0.640      14\n",
      "0.739      14\n",
      "0.448      13\n",
      "0.745      13\n",
      "0.898      12\n",
      "0.742      11\n",
      "0.921      10\n",
      "0.493       9\n",
      "0.775       9\n",
      "0.788       9\n",
      "0.701       8\n",
      "0.735       7\n",
      "0.680       7\n",
      "0.516       7\n",
      "0.730       7\n",
      "0.780       6\n",
      "0.563       5\n",
      "0.693       5\n",
      "0.645       5\n",
      "0.556       4\n",
      "0.518       4\n",
      "0.512       4\n",
      "0.824       4\n",
      "0.807       4\n",
      "0.487       4\n",
      "0.649       4\n",
      "0.781       3\n",
      "0.625       3\n",
      "0.664       2\n",
      "Name: city_development_index, Length: 93, dtype: int64\n"
     ]
    }
   ],
   "source": [
    "print(df['city_development_index'].value_counts())"
   ]
  },
  {
   "cell_type": "code",
   "execution_count": null,
   "metadata": {},
   "outputs": [],
   "source": []
  },
  {
   "cell_type": "code",
   "execution_count": null,
   "metadata": {},
   "outputs": [],
   "source": []
  },
  {
   "cell_type": "code",
   "execution_count": 24,
   "metadata": {},
   "outputs": [],
   "source": [
    "def check_skewness_numerical(dataset):\n",
    "    #analysing the distribution of sale price\n",
    "    print('skew is', dataset.target.skew())   \n",
    "    plt.hist(dataset['target'], color= 'b')\n",
    "\n",
    "    plt.title('Distribution of sales price of houses', fontsize = 24)\n",
    "    plt.ylabel('observation', fontsize = 20)\n",
    "    plt.xlabel('sales price', fontsize = 20)\n",
    "\n",
    "    plt.show()"
   ]
  },
  {
   "cell_type": "code",
   "execution_count": 25,
   "metadata": {},
   "outputs": [
    {
     "name": "stdout",
     "output_type": "stream",
     "text": [
      "skew is 2.1734037375037607\n"
     ]
    },
    {
     "data": {
      "image/png": "[encoded data removed]",
      "text/plain": [
       "<Figure size 432x288 with 1 Axes>"
      ]
     },
     "metadata": {
      "needs_background": "light"
     },
     "output_type": "display_data"
    }
   ],
   "source": [
    "check_skewness_numerical(df)"
   ]
  },
  {
   "cell_type": "code",
   "execution_count": 26,
   "metadata": {},
   "outputs": [
    {
     "data": {
      "text/plain": [
       "Counter({0: 15934, 1: 2425})"
      ]
     },
     "execution_count": 26,
     "metadata": {},
     "output_type": "execute_result"
    }
   ],
   "source": [
    "Counter(df.target)"
   ]
  },
  {
   "cell_type": "code",
   "execution_count": 58,
   "metadata": {},
   "outputs": [
    {
     "data": {
      "text/plain": [
       "0.867912195653358"
      ]
     },
     "execution_count": 58,
     "metadata": {},
     "output_type": "execute_result"
    }
   ],
   "source": [
    "15934 / len(df)"
   ]
  },
  {
   "cell_type": "code",
   "execution_count": 59,
   "metadata": {},
   "outputs": [
    {
     "data": {
      "text/plain": [
       "0.13208780434664197"
      ]
     },
     "execution_count": 59,
     "metadata": {},
     "output_type": "execute_result"
    }
   ],
   "source": [
    "2425 / len(df)"
   ]
  },
  {
   "cell_type": "code",
   "execution_count": 60,
   "metadata": {},
   "outputs": [
    {
     "data": {
      "text/plain": [
       "0.7439947709570238"
      ]
     },
     "execution_count": 60,
     "metadata": {},
     "output_type": "execute_result"
    }
   ],
   "source": [
    "13659 / len(df)"
   ]
  },
  {
   "cell_type": "code",
   "execution_count": null,
   "metadata": {},
   "outputs": [],
   "source": []
  },
  {
   "cell_type": "code",
   "execution_count": 14,
   "metadata": {},
   "outputs": [
    {
     "data": {
      "text/plain": [
       "(18359, 14)"
      ]
     },
     "execution_count": 14,
     "metadata": {},
     "output_type": "execute_result"
    }
   ],
   "source": [
    "df10.shape"
   ]
  },
  {
   "cell_type": "code",
   "execution_count": 15,
   "metadata": {},
   "outputs": [
    {
     "data": {
      "text/plain": [
       "(9287, 14)"
      ]
     },
     "execution_count": 15,
     "metadata": {},
     "output_type": "execute_result"
    }
   ],
   "source": [
    "\n",
    "df11 = df10.dropna(axis=0)\n",
    "df11.shape"
   ]
  },
  {
   "cell_type": "code",
   "execution_count": 16,
   "metadata": {
    "scrolled": true
   },
   "outputs": [
    {
     "data": {
      "text/html": [
       "<div>\n",
       "<style scoped>\n",
       "    .dataframe tbody tr th:only-of-type {\n",
       "        vertical-align: middle;\n",
       "    }\n",
       "\n",
       "    .dataframe tbody tr th {\n",
       "        vertical-align: top;\n",
       "    }\n",
       "\n",
       "    .dataframe thead th {\n",
       "        text-align: right;\n",
       "    }\n",
       "</style>\n",
       "<table border=\"1\" class=\"dataframe\">\n",
       "  <thead>\n",
       "    <tr style=\"text-align: right;\">\n",
       "      <th></th>\n",
       "      <th>enrollee_id</th>\n",
       "      <th>city</th>\n",
       "      <th>city_development_index</th>\n",
       "      <th>gender</th>\n",
       "      <th>relevent_experience</th>\n",
       "      <th>enrolled_university</th>\n",
       "      <th>education_level</th>\n",
       "      <th>major_discipline</th>\n",
       "      <th>experience</th>\n",
       "      <th>company_size</th>\n",
       "      <th>company_type</th>\n",
       "      <th>last_new_job</th>\n",
       "      <th>training_hours</th>\n",
       "      <th>target</th>\n",
       "    </tr>\n",
       "  </thead>\n",
       "  <tbody>\n",
       "    <tr>\n",
       "      <th>0</th>\n",
       "      <td>23798</td>\n",
       "      <td>city_149</td>\n",
       "      <td>0.689</td>\n",
       "      <td>Male</td>\n",
       "      <td>Has relevent experience</td>\n",
       "      <td>no_enrollment</td>\n",
       "      <td>Graduate</td>\n",
       "      <td>STEM</td>\n",
       "      <td>3</td>\n",
       "      <td>100-500</td>\n",
       "      <td>Pvt Ltd</td>\n",
       "      <td>1</td>\n",
       "      <td>106</td>\n",
       "      <td>0</td>\n",
       "    </tr>\n",
       "    <tr>\n",
       "      <th>1</th>\n",
       "      <td>29166</td>\n",
       "      <td>city_83</td>\n",
       "      <td>0.923</td>\n",
       "      <td>Male</td>\n",
       "      <td>Has relevent experience</td>\n",
       "      <td>no_enrollment</td>\n",
       "      <td>Graduate</td>\n",
       "      <td>STEM</td>\n",
       "      <td>14</td>\n",
       "      <td>&lt;10</td>\n",
       "      <td>Funded Startup</td>\n",
       "      <td>1</td>\n",
       "      <td>69</td>\n",
       "      <td>0</td>\n",
       "    </tr>\n",
       "    <tr>\n",
       "      <th>3</th>\n",
       "      <td>18527</td>\n",
       "      <td>city_64</td>\n",
       "      <td>0.666</td>\n",
       "      <td>Male</td>\n",
       "      <td>Has relevent experience</td>\n",
       "      <td>no_enrollment</td>\n",
       "      <td>Graduate</td>\n",
       "      <td>STEM</td>\n",
       "      <td>14</td>\n",
       "      <td>50-99</td>\n",
       "      <td>Pvt Ltd</td>\n",
       "      <td>1</td>\n",
       "      <td>26</td>\n",
       "      <td>0</td>\n",
       "    </tr>\n",
       "    <tr>\n",
       "      <th>5</th>\n",
       "      <td>13342</td>\n",
       "      <td>city_21</td>\n",
       "      <td>0.624</td>\n",
       "      <td>Female</td>\n",
       "      <td>Has relevent experience</td>\n",
       "      <td>no_enrollment</td>\n",
       "      <td>Graduate</td>\n",
       "      <td>Other</td>\n",
       "      <td>8</td>\n",
       "      <td>5000-9999</td>\n",
       "      <td>Pvt Ltd</td>\n",
       "      <td>2</td>\n",
       "      <td>34</td>\n",
       "      <td>0</td>\n",
       "    </tr>\n",
       "    <tr>\n",
       "      <th>6</th>\n",
       "      <td>11746</td>\n",
       "      <td>city_21</td>\n",
       "      <td>0.624</td>\n",
       "      <td>Male</td>\n",
       "      <td>Has relevent experience</td>\n",
       "      <td>no_enrollment</td>\n",
       "      <td>Graduate</td>\n",
       "      <td>STEM</td>\n",
       "      <td>6</td>\n",
       "      <td>10000+</td>\n",
       "      <td>Pvt Ltd</td>\n",
       "      <td>3</td>\n",
       "      <td>23</td>\n",
       "      <td>1</td>\n",
       "    </tr>\n",
       "  </tbody>\n",
       "</table>\n",
       "</div>"
      ],
      "text/plain": [
       "   enrollee_id      city  city_development_index  gender  \\\n",
       "0        23798  city_149                   0.689    Male   \n",
       "1        29166   city_83                   0.923    Male   \n",
       "3        18527   city_64                   0.666    Male   \n",
       "5        13342   city_21                   0.624  Female   \n",
       "6        11746   city_21                   0.624    Male   \n",
       "\n",
       "       relevent_experience enrolled_university education_level  \\\n",
       "0  Has relevent experience       no_enrollment        Graduate   \n",
       "1  Has relevent experience       no_enrollment        Graduate   \n",
       "3  Has relevent experience       no_enrollment        Graduate   \n",
       "5  Has relevent experience       no_enrollment        Graduate   \n",
       "6  Has relevent experience       no_enrollment        Graduate   \n",
       "\n",
       "  major_discipline experience company_size    company_type last_new_job  \\\n",
       "0             STEM          3      100-500         Pvt Ltd            1   \n",
       "1             STEM         14          <10  Funded Startup            1   \n",
       "3             STEM         14        50-99         Pvt Ltd            1   \n",
       "5            Other          8    5000-9999         Pvt Ltd            2   \n",
       "6             STEM          6       10000+         Pvt Ltd            3   \n",
       "\n",
       "   training_hours  target  \n",
       "0             106       0  \n",
       "1              69       0  \n",
       "3              26       0  \n",
       "5              34       0  \n",
       "6              23       1  "
      ]
     },
     "execution_count": 16,
     "metadata": {},
     "output_type": "execute_result"
    }
   ],
   "source": [
    "df11.head()"
   ]
  },
  {
   "cell_type": "code",
   "execution_count": 17,
   "metadata": {},
   "outputs": [],
   "source": [
    "feature_column = [\"city_development_index\",\"training_hours\"]"
   ]
  },
  {
   "cell_type": "code",
   "execution_count": 18,
   "metadata": {
    "scrolled": true
   },
   "outputs": [
    {
     "data": {
      "text/plain": [
       "Counter({0: 8296, 1: 991})"
      ]
     },
     "execution_count": 18,
     "metadata": {},
     "output_type": "execute_result"
    }
   ],
   "source": [
    "Counter(df11.target)"
   ]
  },
  {
   "cell_type": "code",
   "execution_count": 19,
   "metadata": {},
   "outputs": [],
   "source": [
    "# check_cloumn_details_type_categorical(df11)"
   ]
  },
  {
   "cell_type": "code",
   "execution_count": 20,
   "metadata": {},
   "outputs": [
    {
     "name": "stdout",
     "output_type": "stream",
     "text": [
      "<class 'pandas.core.frame.DataFrame'>\n",
      "Int64Index: 9287 entries, 0 to 18358\n",
      "Data columns (total 14 columns):\n",
      " #   Column                  Non-Null Count  Dtype  \n",
      "---  ------                  --------------  -----  \n",
      " 0   enrollee_id             9287 non-null   int64  \n",
      " 1   city                    9287 non-null   object \n",
      " 2   city_development_index  9287 non-null   float64\n",
      " 3   gender                  9287 non-null   object \n",
      " 4   relevent_experience     9287 non-null   object \n",
      " 5   enrolled_university     9287 non-null   object \n",
      " 6   education_level         9287 non-null   object \n",
      " 7   major_discipline        9287 non-null   object \n",
      " 8   experience              9287 non-null   object \n",
      " 9   company_size            9287 non-null   object \n",
      " 10  company_type            9287 non-null   object \n",
      " 11  last_new_job            9287 non-null   object \n",
      " 12  training_hours          9287 non-null   int64  \n",
      " 13  target                  9287 non-null   int64  \n",
      "dtypes: float64(1), int64(3), object(10)\n",
      "memory usage: 1.1+ MB\n"
     ]
    }
   ],
   "source": [
    "df11.info()"
   ]
  },
  {
   "cell_type": "code",
   "execution_count": null,
   "metadata": {},
   "outputs": [],
   "source": []
  },
  {
   "cell_type": "code",
   "execution_count": 21,
   "metadata": {},
   "outputs": [],
   "source": [
    "# X = df11.iloc[:,:-1]\n",
    "\n",
    "\n",
    "\n",
    "\n",
    "\n",
    "X = df11.loc[:,feature_column]\n",
    "Y = df11.iloc[:,-1]"
   ]
  },
  {
   "cell_type": "code",
   "execution_count": 22,
   "metadata": {},
   "outputs": [],
   "source": [
    "# type(Y[0])"
   ]
  },
  {
   "cell_type": "code",
   "execution_count": 23,
   "metadata": {},
   "outputs": [
    {
     "data": {
      "text/html": [
       "<div>\n",
       "<style scoped>\n",
       "    .dataframe tbody tr th:only-of-type {\n",
       "        vertical-align: middle;\n",
       "    }\n",
       "\n",
       "    .dataframe tbody tr th {\n",
       "        vertical-align: top;\n",
       "    }\n",
       "\n",
       "    .dataframe thead th {\n",
       "        text-align: right;\n",
       "    }\n",
       "</style>\n",
       "<table border=\"1\" class=\"dataframe\">\n",
       "  <thead>\n",
       "    <tr style=\"text-align: right;\">\n",
       "      <th></th>\n",
       "      <th>city_development_index</th>\n",
       "      <th>training_hours</th>\n",
       "    </tr>\n",
       "  </thead>\n",
       "  <tbody>\n",
       "    <tr>\n",
       "      <th>0</th>\n",
       "      <td>0.689</td>\n",
       "      <td>106</td>\n",
       "    </tr>\n",
       "    <tr>\n",
       "      <th>1</th>\n",
       "      <td>0.923</td>\n",
       "      <td>69</td>\n",
       "    </tr>\n",
       "    <tr>\n",
       "      <th>3</th>\n",
       "      <td>0.666</td>\n",
       "      <td>26</td>\n",
       "    </tr>\n",
       "  </tbody>\n",
       "</table>\n",
       "</div>"
      ],
      "text/plain": [
       "   city_development_index  training_hours\n",
       "0                   0.689             106\n",
       "1                   0.923              69\n",
       "3                   0.666              26"
      ]
     },
     "execution_count": 23,
     "metadata": {},
     "output_type": "execute_result"
    }
   ],
   "source": [
    "X.head(3)"
   ]
  },
  {
   "cell_type": "code",
   "execution_count": 24,
   "metadata": {},
   "outputs": [
    {
     "name": "stdout",
     "output_type": "stream",
     "text": [
      "<class 'pandas.core.frame.DataFrame'>\n",
      "Int64Index: 9287 entries, 0 to 18358\n",
      "Data columns (total 2 columns):\n",
      " #   Column                  Non-Null Count  Dtype  \n",
      "---  ------                  --------------  -----  \n",
      " 0   city_development_index  9287 non-null   float64\n",
      " 1   training_hours          9287 non-null   int64  \n",
      "dtypes: float64(1), int64(1)\n",
      "memory usage: 217.7 KB\n"
     ]
    }
   ],
   "source": [
    "X.info()"
   ]
  },
  {
   "cell_type": "code",
   "execution_count": null,
   "metadata": {},
   "outputs": [],
   "source": []
  },
  {
   "cell_type": "code",
   "execution_count": 36,
   "metadata": {},
   "outputs": [],
   "source": [
    "rows=[]\n",
    "def addRandomStateForAlgorithm(x,y,names,algorithms,columns_name,random_state_list):    \n",
    "    for j in range(len(algorithms)):\n",
    "        model = algorithms[j]\n",
    "        for i in random_state_list:\n",
    "            x_train, x_test , y_train , y_test = train_test_split(x ,y , test_size = 0.25 , random_state = i)\n",
    "            model.fit(x_train,y_train)\n",
    "            pred_test = model.predict(x_test)\n",
    "            row = [names[j],i,r2_score (y_test,pred_test)]\n",
    "            rows.append(row)\n",
    "    models_df = pd.DataFrame(rows)   \n",
    "    models_df.columns = columns_name\n",
    "    print(models_df)\n",
    "    \n",
    "\n",
    "    \n",
    "    \n",
    "\n",
    "   \n",
    "\n",
    "rows=[]\n",
    "\n",
    "def addRandomStateForAlgorithm(x,y,names,algorithms,columns_name,random_state_list):    \n",
    "    for j in range(len(algorithms)):\n",
    "        model = algorithms[j]\n",
    "        for i in random_state_list:\n",
    "            \n",
    "            x_train, x_test , y_train , y_test = train_test_split(x ,y , test_size = 0.25 , random_state = i)\n",
    "            \n",
    "            model.fit(x_train,y_train)\n",
    "            \n",
    "            y_pred_train = model.predict(x_train)\n",
    "            y_pred = model.predict(x_test)\n",
    "            \n",
    "            train_acc = accuracy_score(y_train, y_pred_train)\n",
    "            train_acc = round(train_acc, 2) * 100\n",
    "            \n",
    "            test_acc = accuracy_score(y_test, y_pred)\n",
    "            test_acc = round(test_acc, 2) * 100\n",
    "            \n",
    "\n",
    "            row = [names[j],   i,   train_acc, test_acc]\n",
    "    \n",
    "            rows.append(row)\n",
    "            \n",
    "    models_df = pd.DataFrame(rows) \n",
    "    \n",
    "    models_df.columns = columns_name\n",
    "    print(models_df)\n",
    "    \n"
   ]
  },
  {
   "cell_type": "code",
   "execution_count": 37,
   "metadata": {
    "scrolled": true
   },
   "outputs": [
    {
     "name": "stdout",
     "output_type": "stream",
     "text": [
      "      Model  Random_state  Train_acc  Test_acc\n",
      "0  LightGBM             1       90.0      89.0\n",
      "1  LightGBM             2       90.0      89.0\n",
      "2  LightGBM             3       90.0      89.0\n",
      "3        RF             1       93.0      87.0\n",
      "4        RF             2       93.0      86.0\n",
      "5        RF             3       93.0      87.0\n",
      "6   XGBoost             1       89.0      89.0\n",
      "7   XGBoost             2       89.0      89.0\n",
      "8   XGBoost             3       89.0      89.0\n"
     ]
    }
   ],
   "source": [
    "names_regression = [ \"LightGBM\", \"RF\", \"XGBoost\"]\n",
    "algorithms = [ LGBMClassifier(), RandomForestClassifier(), XGBClassifier()]\n",
    "\n",
    "columns_name = [\"Model\",    \"Random_state\",   'Train_acc',     \"Test_acc\"]\n",
    "\n",
    "random_state_list_up_to_10 = [1,2,3]\n",
    "\n",
    "\n",
    "addRandomStateForAlgorithm(X,Y,names_regression,algorithms,columns_name,random_state_list_up_to_10)"
   ]
  },
  {
   "cell_type": "code",
   "execution_count": 29,
   "metadata": {},
   "outputs": [
    {
     "data": {
      "text/plain": [
       "(18359, 14)"
      ]
     },
     "execution_count": 29,
     "metadata": {},
     "output_type": "execute_result"
    }
   ],
   "source": [
    "df.shape"
   ]
  },
  {
   "cell_type": "code",
   "execution_count": null,
   "metadata": {},
   "outputs": [],
   "source": []
  },
  {
   "cell_type": "code",
   "execution_count": null,
   "metadata": {},
   "outputs": [],
   "source": []
  },
  {
   "cell_type": "code",
   "execution_count": null,
   "metadata": {},
   "outputs": [],
   "source": []
  },
  {
   "cell_type": "code",
   "execution_count": null,
   "metadata": {},
   "outputs": [],
   "source": [
    "model2=rf().fit(x_train,y_train)\n",
    "pred2=model2.predict(test2)\n",
    "y_pred2=model2.predict(x_test)"
   ]
  },
  {
   "cell_type": "code",
   "execution_count": null,
   "metadata": {},
   "outputs": [],
   "source": [
    "seg1_df = pd.DataFrame()\n",
    "seg1_df['id'] = range(1,88)\n",
    "seg1_df['application_date'] = test1_date.values\n",
    "seg1_df['segment'] = 1\n",
    "seg1_df['case_count'] = pred1\n",
    "\n",
    "seg2_df = pd.DataFrame()\n",
    "seg2_df['id'] = range(88,181)\n",
    "seg2_df['application_date'] = test2_date.values\n",
    "seg2_df['segment'] = 2\n",
    "seg2_df['case_count'] = pred2"
   ]
  },
  {
   "cell_type": "code",
   "execution_count": null,
   "metadata": {},
   "outputs": [],
   "source": [
    "res_df = pd.concat([seg1_df, seg2_df])\n",
    "res_df.to_csv('final_submission_3.csv', index=False)"
   ]
  },
  {
   "cell_type": "code",
   "execution_count": null,
   "metadata": {},
   "outputs": [],
   "source": []
  },
  {
   "cell_type": "code",
   "execution_count": null,
   "metadata": {},
   "outputs": [],
   "source": [
    "\n",
    "lm  = LinearRegression()\n",
    "lm.fit(X_train,y_train)\n",
    "rfe = RFE(lm,70)\n",
    "rfe.fit(X_train,y_train)"
   ]
  }
 ],
 "metadata": {
  "kernelspec": {
   "display_name": "Python 3",
   "language": "python",
   "name": "python3"
  },
  "language_info": {
   "codemirror_mode": {
    "name": "ipython",
    "version": 3
   },
   "file_extension": ".py",
   "mimetype": "text/x-python",
   "name": "python",
   "nbconvert_exporter": "python",
   "pygments_lexer": "ipython3",
   "version": "3.7.1"
  },
  "varInspector": {
   "cols": {
    "lenName": 16,
    "lenType": 16,
    "lenVar": 40
   },
   "kernels_config": {
    "python": {
     "delete_cmd_postfix": "",
     "delete_cmd_prefix": "del ",
     "library": "var_list.py",
     "varRefreshCmd": "print(var_dic_list())"
    },
    "r": {
     "delete_cmd_postfix": ") ",
     "delete_cmd_prefix": "rm(",
     "library": "var_list.r",
     "varRefreshCmd": "cat(var_dic_list()) "
    }
   },
   "types_to_exclude": [
    "module",
    "function",
    "builtin_function_or_method",
    "instance",
    "_Feature"
   ],
   "window_display": false
  }
 },
 "nbformat": 4,
 "nbformat_minor": 4
}
