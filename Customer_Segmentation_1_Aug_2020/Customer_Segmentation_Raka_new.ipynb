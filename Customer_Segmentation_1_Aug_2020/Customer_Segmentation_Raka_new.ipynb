{
 "cells": [
  {
   "cell_type": "code",
   "execution_count": 1,
   "metadata": {},
   "outputs": [],
   "source": [
    "\n",
    "from sklearn.base import TransformerMixin, BaseEstimator\n",
    "\n",
    "from collections import Counter , defaultdict\n",
    "\n",
    "import pandas as pd\n",
    "\n",
    "pd.set_option('display.max_columns', None)\n",
    "\n",
    "\n",
    "from pandas import Series as s , DataFrame as df\n",
    "import numpy as np\n",
    "\n",
    "import seaborn as sns\n",
    "# import matplotlib.pyplot as plt\n",
    "\n",
    "# To ignore warnings\n",
    "import warnings\n",
    "warnings.filterwarnings(\"ignore\")\n",
    "\n",
    "from matplotlib import pyplot as plt, rcParams as rc\n",
    "\n",
    "\n",
    "%matplotlib inline\n",
    "rc[\"figure.figsize\"] = 10,6\n",
    "\n",
    "import datetime\n",
    "import datetime as dt\n",
    "\n",
    "from sklearn.model_selection  import StratifiedKFold\n",
    "from sklearn.decomposition import PCA\n",
    "\n",
    "from iteration_utilities import duplicates, unique_everseen\n",
    "\n",
    "import sys\n",
    "from itertools import groupby\n",
    "from operator import itemgetter\n",
    "from timeit import timeit\n",
    "\n",
    "\n",
    "## RandomOverSampler to handle imbalanced data\n",
    "from imblearn.over_sampling import RandomOverSampler # over sampling method 2"
   ]
  },
  {
   "cell_type": "code",
   "execution_count": 2,
   "metadata": {},
   "outputs": [],
   "source": [
    "\n",
    "#Algorithm\n",
    "from sklearn.linear_model import LogisticRegression\n",
    "from sklearn.svm import SVC\n",
    "from sklearn.tree import DecisionTreeClassifier\n",
    "from sklearn.ensemble import RandomForestClassifier\n",
    "from xgboost import XGBClassifier\n",
    "\n",
    "from sklearn.naive_bayes import MultinomialNB\n",
    "\n",
    "from lightgbm import LGBMClassifier\n",
    "from catboost import CatBoostClassifier\n",
    "from sklearn.ensemble import GradientBoostingClassifier\n",
    "\n",
    "#preprocessing\n",
    "from sklearn.preprocessing import LabelEncoder\n",
    "\n",
    "from sklearn.preprocessing import StandardScaler, normalize\n",
    "\n",
    "\n",
    "\n",
    "from sklearn.model_selection import train_test_split\n",
    "\n",
    "import lightgbm as lgb\n",
    "\n",
    "\n",
    "#Metrics\n",
    "from sklearn.metrics import accuracy_score, roc_auc_score, roc_curve, recall_score, precision_score\n",
    "from sklearn.metrics import confusion_matrix, classification_report, f1_score, precision_recall_fscore_support\n",
    "\n",
    "from sklearn.pipeline import Pipeline\n",
    "\n",
    "# GridSearchCV to find optimal min_samples_leaf\n",
    "from sklearn.model_selection import KFold\n",
    "from sklearn.model_selection import GridSearchCV\n",
    "\n",
    "from sklearn.linear_model import LogisticRegression\n",
    "from sklearn.model_selection import cross_val_score\n",
    "from sklearn.metrics import fbeta_score, make_scorer"
   ]
  },
  {
   "cell_type": "code",
   "execution_count": null,
   "metadata": {},
   "outputs": [],
   "source": []
  },
  {
   "cell_type": "code",
   "execution_count": 44,
   "metadata": {},
   "outputs": [
    {
     "data": {
      "text/plain": [
       "((8068, 11), (2627, 10), (2627, 2))"
      ]
     },
     "execution_count": 44,
     "metadata": {},
     "output_type": "execute_result"
    }
   ],
   "source": [
    "df_original = pd.read_csv(\"Train.csv\")\n",
    "\n",
    "df_test_original = pd.read_csv(\"Test.csv\")\n",
    "submission = pd.read_csv(\"sample_submission.csv\")\n",
    "\n",
    "df10 = df.copy()\n",
    "df_original.shape, df_test_original.shape, submission.shape"
   ]
  },
  {
   "cell_type": "code",
   "execution_count": 45,
   "metadata": {
    "scrolled": true
   },
   "outputs": [
    {
     "data": {
      "text/html": [
       "<div>\n",
       "<style scoped>\n",
       "    .dataframe tbody tr th:only-of-type {\n",
       "        vertical-align: middle;\n",
       "    }\n",
       "\n",
       "    .dataframe tbody tr th {\n",
       "        vertical-align: top;\n",
       "    }\n",
       "\n",
       "    .dataframe thead th {\n",
       "        text-align: right;\n",
       "    }\n",
       "</style>\n",
       "<table border=\"1\" class=\"dataframe\">\n",
       "  <thead>\n",
       "    <tr style=\"text-align: right;\">\n",
       "      <th></th>\n",
       "      <th>ID</th>\n",
       "      <th>Gender</th>\n",
       "      <th>Ever_Married</th>\n",
       "      <th>Age</th>\n",
       "      <th>Graduated</th>\n",
       "      <th>Profession</th>\n",
       "      <th>Work_Experience</th>\n",
       "      <th>Spending_Score</th>\n",
       "      <th>Family_Size</th>\n",
       "      <th>Var_1</th>\n",
       "      <th>Segmentation</th>\n",
       "    </tr>\n",
       "  </thead>\n",
       "  <tbody>\n",
       "    <tr>\n",
       "      <th>0</th>\n",
       "      <td>462809</td>\n",
       "      <td>Male</td>\n",
       "      <td>No</td>\n",
       "      <td>22</td>\n",
       "      <td>No</td>\n",
       "      <td>Healthcare</td>\n",
       "      <td>1.0</td>\n",
       "      <td>Low</td>\n",
       "      <td>4.0</td>\n",
       "      <td>Cat_4</td>\n",
       "      <td>D</td>\n",
       "    </tr>\n",
       "    <tr>\n",
       "      <th>1</th>\n",
       "      <td>462643</td>\n",
       "      <td>Female</td>\n",
       "      <td>Yes</td>\n",
       "      <td>38</td>\n",
       "      <td>Yes</td>\n",
       "      <td>Engineer</td>\n",
       "      <td>NaN</td>\n",
       "      <td>Average</td>\n",
       "      <td>3.0</td>\n",
       "      <td>Cat_4</td>\n",
       "      <td>A</td>\n",
       "    </tr>\n",
       "    <tr>\n",
       "      <th>2</th>\n",
       "      <td>466315</td>\n",
       "      <td>Female</td>\n",
       "      <td>Yes</td>\n",
       "      <td>67</td>\n",
       "      <td>Yes</td>\n",
       "      <td>Engineer</td>\n",
       "      <td>1.0</td>\n",
       "      <td>Low</td>\n",
       "      <td>1.0</td>\n",
       "      <td>Cat_6</td>\n",
       "      <td>B</td>\n",
       "    </tr>\n",
       "    <tr>\n",
       "      <th>3</th>\n",
       "      <td>461735</td>\n",
       "      <td>Male</td>\n",
       "      <td>Yes</td>\n",
       "      <td>67</td>\n",
       "      <td>Yes</td>\n",
       "      <td>Lawyer</td>\n",
       "      <td>0.0</td>\n",
       "      <td>High</td>\n",
       "      <td>2.0</td>\n",
       "      <td>Cat_6</td>\n",
       "      <td>B</td>\n",
       "    </tr>\n",
       "    <tr>\n",
       "      <th>4</th>\n",
       "      <td>462669</td>\n",
       "      <td>Female</td>\n",
       "      <td>Yes</td>\n",
       "      <td>40</td>\n",
       "      <td>Yes</td>\n",
       "      <td>Entertainment</td>\n",
       "      <td>NaN</td>\n",
       "      <td>High</td>\n",
       "      <td>6.0</td>\n",
       "      <td>Cat_6</td>\n",
       "      <td>A</td>\n",
       "    </tr>\n",
       "  </tbody>\n",
       "</table>\n",
       "</div>"
      ],
      "text/plain": [
       "       ID  Gender Ever_Married  Age Graduated     Profession  Work_Experience  \\\n",
       "0  462809    Male           No   22        No     Healthcare              1.0   \n",
       "1  462643  Female          Yes   38       Yes       Engineer              NaN   \n",
       "2  466315  Female          Yes   67       Yes       Engineer              1.0   \n",
       "3  461735    Male          Yes   67       Yes         Lawyer              0.0   \n",
       "4  462669  Female          Yes   40       Yes  Entertainment              NaN   \n",
       "\n",
       "  Spending_Score  Family_Size  Var_1 Segmentation  \n",
       "0            Low          4.0  Cat_4            D  \n",
       "1        Average          3.0  Cat_4            A  \n",
       "2            Low          1.0  Cat_6            B  \n",
       "3           High          2.0  Cat_6            B  \n",
       "4           High          6.0  Cat_6            A  "
      ]
     },
     "execution_count": 45,
     "metadata": {},
     "output_type": "execute_result"
    }
   ],
   "source": [
    "df_original.head()"
   ]
  },
  {
   "cell_type": "code",
   "execution_count": 46,
   "metadata": {},
   "outputs": [],
   "source": [
    "class DataFrameImputer(TransformerMixin):\n",
    "\n",
    "    def __init__(self):\n",
    "        \"\"\"Impute missing values.\n",
    "\n",
    "        Columns of dtype object are imputed with the most frequent value \n",
    "        in column.\n",
    "\n",
    "        Columns of other types are imputed with mean of column.\n",
    "\n",
    "        \"\"\"\n",
    "    def fit(self, X, y=None):\n",
    "\n",
    "        self.fill = pd.Series([X[c].value_counts().index[0] if X[c].dtype == np.dtype('O') else X[c].mean() for c in X],\n",
    "            index=X.columns)\n",
    "\n",
    "        return self\n",
    "\n",
    "    def transform(self, X, y=None):\n",
    "        return X.fillna(self.fill)"
   ]
  },
  {
   "cell_type": "code",
   "execution_count": 47,
   "metadata": {},
   "outputs": [],
   "source": [
    "def get_percentage_miss_value(dataset):\n",
    "    higher_miss_value_column = []\n",
    "    miss_threshold_value = 50\n",
    "    \n",
    "    for i in dataset.columns:\n",
    "        if dataset[i].isna().sum() > 1: \n",
    "            perectange_val = (dataset[i].isna().sum() / len(dataset)) * 100\n",
    "            print(\"Column-> \" , i, \", total no of missing value : \",dataset[i].isna().sum() , \" & :         \", round(perectange_val,2) ,\" %\")\n",
    "                \n",
    "            if(perectange_val > miss_threshold_value):\n",
    "                higher_miss_value_column.append(i)\n",
    "            \n",
    "    print(\"\\n\\n\\n\")\n",
    "    \n",
    "    if higher_miss_value_column:\n",
    "        print(\"Higher Missing values in Columns for Delete : \", higher_miss_value_column)\n",
    "    else:\n",
    "        print(\"There are no Higher Column Missing values in Dataset\")"
   ]
  },
  {
   "cell_type": "code",
   "execution_count": 48,
   "metadata": {},
   "outputs": [
    {
     "name": "stdout",
     "output_type": "stream",
     "text": [
      "Column->  Ever_Married , total no of missing value :  140  & :          1.74  %\n",
      "Column->  Graduated , total no of missing value :  78  & :          0.97  %\n",
      "Column->  Profession , total no of missing value :  124  & :          1.54  %\n",
      "Column->  Work_Experience , total no of missing value :  829  & :          10.28  %\n",
      "Column->  Family_Size , total no of missing value :  335  & :          4.15  %\n",
      "Column->  Var_1 , total no of missing value :  76  & :          0.94  %\n",
      "\n",
      "\n",
      "\n",
      "\n",
      "There are no Higher Column Missing values in Dataset\n"
     ]
    }
   ],
   "source": [
    "get_percentage_miss_value(df_original)"
   ]
  },
  {
   "cell_type": "code",
   "execution_count": null,
   "metadata": {},
   "outputs": [],
   "source": []
  },
  {
   "cell_type": "code",
   "execution_count": 50,
   "metadata": {},
   "outputs": [
    {
     "name": "stdout",
     "output_type": "stream",
     "text": [
      "Column->  Ever_Married , total no of missing value :  50  & :          1.9  %\n",
      "Column->  Graduated , total no of missing value :  24  & :          0.91  %\n",
      "Column->  Profession , total no of missing value :  38  & :          1.45  %\n",
      "Column->  Work_Experience , total no of missing value :  269  & :          10.24  %\n",
      "Column->  Family_Size , total no of missing value :  113  & :          4.3  %\n",
      "Column->  Var_1 , total no of missing value :  32  & :          1.22  %\n",
      "\n",
      "\n",
      "\n",
      "\n",
      "There are no Higher Column Missing values in Dataset\n"
     ]
    }
   ],
   "source": [
    "get_percentage_miss_value(df_test_original)"
   ]
  },
  {
   "cell_type": "code",
   "execution_count": null,
   "metadata": {},
   "outputs": [],
   "source": []
  },
  {
   "cell_type": "code",
   "execution_count": 51,
   "metadata": {
    "scrolled": true
   },
   "outputs": [
    {
     "name": "stdout",
     "output_type": "stream",
     "text": [
      "<class 'pandas.core.frame.DataFrame'>\n",
      "RangeIndex: 8068 entries, 0 to 8067\n",
      "Data columns (total 11 columns):\n",
      " #   Column           Non-Null Count  Dtype  \n",
      "---  ------           --------------  -----  \n",
      " 0   ID               8068 non-null   int64  \n",
      " 1   Gender           8068 non-null   object \n",
      " 2   Ever_Married     7928 non-null   object \n",
      " 3   Age              8068 non-null   int64  \n",
      " 4   Graduated        7990 non-null   object \n",
      " 5   Profession       7944 non-null   object \n",
      " 6   Work_Experience  7239 non-null   float64\n",
      " 7   Spending_Score   8068 non-null   object \n",
      " 8   Family_Size      7733 non-null   float64\n",
      " 9   Var_1            7992 non-null   object \n",
      " 10  Segmentation     8068 non-null   object \n",
      "dtypes: float64(2), int64(2), object(7)\n",
      "memory usage: 693.5+ KB\n"
     ]
    }
   ],
   "source": [
    "df_original.info()"
   ]
  },
  {
   "cell_type": "code",
   "execution_count": null,
   "metadata": {},
   "outputs": [],
   "source": []
  },
  {
   "cell_type": "code",
   "execution_count": 52,
   "metadata": {},
   "outputs": [],
   "source": [
    "def get_categorical_col_name_df(dataset): #testing has been pending\n",
    "    return dataset.select_dtypes(include=['object']) #get all categorical columns only"
   ]
  },
  {
   "cell_type": "code",
   "execution_count": 53,
   "metadata": {
    "scrolled": true
   },
   "outputs": [
    {
     "data": {
      "text/plain": [
       "Gender              0\n",
       "Ever_Married      140\n",
       "Graduated          78\n",
       "Profession        124\n",
       "Spending_Score      0\n",
       "Var_1              76\n",
       "Segmentation        0\n",
       "dtype: int64"
      ]
     },
     "execution_count": 53,
     "metadata": {},
     "output_type": "execute_result"
    }
   ],
   "source": [
    "get_categorical_col_name_df(df_original).isna().sum()"
   ]
  },
  {
   "cell_type": "code",
   "execution_count": 54,
   "metadata": {},
   "outputs": [
    {
     "data": {
      "text/plain": [
       "['Gender',\n",
       " 'Ever_Married',\n",
       " 'Graduated',\n",
       " 'Profession',\n",
       " 'Spending_Score',\n",
       " 'Var_1',\n",
       " 'Segmentation']"
      ]
     },
     "execution_count": 54,
     "metadata": {},
     "output_type": "execute_result"
    }
   ],
   "source": [
    "get_categorical_col_name_df(df_original).columns.to_list()"
   ]
  },
  {
   "cell_type": "code",
   "execution_count": null,
   "metadata": {},
   "outputs": [],
   "source": []
  },
  {
   "cell_type": "markdown",
   "metadata": {},
   "source": [
    "# <font color ='green' > EDA"
   ]
  },
  {
   "cell_type": "code",
   "execution_count": 94,
   "metadata": {},
   "outputs": [],
   "source": [
    "df = df_original.copy()\n",
    "\n",
    "df_test = df_test_original.copy()"
   ]
  },
  {
   "cell_type": "code",
   "execution_count": null,
   "metadata": {},
   "outputs": [],
   "source": []
  },
  {
   "cell_type": "code",
   "execution_count": 95,
   "metadata": {},
   "outputs": [],
   "source": [
    "df = DataFrameImputer().fit_transform(df.copy())\n",
    "\n",
    "\n",
    "df_test = DataFrameImputer().fit_transform(df_test.copy())"
   ]
  },
  {
   "cell_type": "code",
   "execution_count": null,
   "metadata": {},
   "outputs": [],
   "source": []
  },
  {
   "cell_type": "code",
   "execution_count": 96,
   "metadata": {},
   "outputs": [],
   "source": [
    "# get_percentage_miss_value(df)\n",
    "# get_percentage_miss_value(df_test)"
   ]
  },
  {
   "cell_type": "code",
   "execution_count": 97,
   "metadata": {},
   "outputs": [
    {
     "name": "stdout",
     "output_type": "stream",
     "text": [
      "<class 'pandas.core.frame.DataFrame'>\n",
      "RangeIndex: 8068 entries, 0 to 8067\n",
      "Data columns (total 11 columns):\n",
      " #   Column           Non-Null Count  Dtype  \n",
      "---  ------           --------------  -----  \n",
      " 0   ID               8068 non-null   int64  \n",
      " 1   Gender           8068 non-null   object \n",
      " 2   Ever_Married     8068 non-null   object \n",
      " 3   Age              8068 non-null   int64  \n",
      " 4   Graduated        8068 non-null   object \n",
      " 5   Profession       8068 non-null   object \n",
      " 6   Work_Experience  8068 non-null   float64\n",
      " 7   Spending_Score   8068 non-null   object \n",
      " 8   Family_Size      8068 non-null   float64\n",
      " 9   Var_1            8068 non-null   object \n",
      " 10  Segmentation     8068 non-null   object \n",
      "dtypes: float64(2), int64(2), object(7)\n",
      "memory usage: 693.5+ KB\n"
     ]
    }
   ],
   "source": [
    "df.info()"
   ]
  },
  {
   "cell_type": "code",
   "execution_count": 98,
   "metadata": {},
   "outputs": [
    {
     "data": {
      "text/html": [
       "<div>\n",
       "<style scoped>\n",
       "    .dataframe tbody tr th:only-of-type {\n",
       "        vertical-align: middle;\n",
       "    }\n",
       "\n",
       "    .dataframe tbody tr th {\n",
       "        vertical-align: top;\n",
       "    }\n",
       "\n",
       "    .dataframe thead th {\n",
       "        text-align: right;\n",
       "    }\n",
       "</style>\n",
       "<table border=\"1\" class=\"dataframe\">\n",
       "  <thead>\n",
       "    <tr style=\"text-align: right;\">\n",
       "      <th></th>\n",
       "      <th>ID</th>\n",
       "      <th>Gender</th>\n",
       "      <th>Ever_Married</th>\n",
       "      <th>Age</th>\n",
       "      <th>Graduated</th>\n",
       "      <th>Profession</th>\n",
       "      <th>Work_Experience</th>\n",
       "      <th>Spending_Score</th>\n",
       "      <th>Family_Size</th>\n",
       "      <th>Var_1</th>\n",
       "      <th>Segmentation</th>\n",
       "    </tr>\n",
       "  </thead>\n",
       "  <tbody>\n",
       "    <tr>\n",
       "      <th>0</th>\n",
       "      <td>462809</td>\n",
       "      <td>Male</td>\n",
       "      <td>No</td>\n",
       "      <td>22</td>\n",
       "      <td>No</td>\n",
       "      <td>Healthcare</td>\n",
       "      <td>1.000000</td>\n",
       "      <td>Low</td>\n",
       "      <td>4.0</td>\n",
       "      <td>Cat_4</td>\n",
       "      <td>D</td>\n",
       "    </tr>\n",
       "    <tr>\n",
       "      <th>1</th>\n",
       "      <td>462643</td>\n",
       "      <td>Female</td>\n",
       "      <td>Yes</td>\n",
       "      <td>38</td>\n",
       "      <td>Yes</td>\n",
       "      <td>Engineer</td>\n",
       "      <td>2.641663</td>\n",
       "      <td>Average</td>\n",
       "      <td>3.0</td>\n",
       "      <td>Cat_4</td>\n",
       "      <td>A</td>\n",
       "    </tr>\n",
       "  </tbody>\n",
       "</table>\n",
       "</div>"
      ],
      "text/plain": [
       "       ID  Gender Ever_Married  Age Graduated  Profession  Work_Experience  \\\n",
       "0  462809    Male           No   22        No  Healthcare         1.000000   \n",
       "1  462643  Female          Yes   38       Yes    Engineer         2.641663   \n",
       "\n",
       "  Spending_Score  Family_Size  Var_1 Segmentation  \n",
       "0            Low          4.0  Cat_4            D  \n",
       "1        Average          3.0  Cat_4            A  "
      ]
     },
     "execution_count": 98,
     "metadata": {},
     "output_type": "execute_result"
    }
   ],
   "source": [
    "df.head(2)"
   ]
  },
  {
   "cell_type": "code",
   "execution_count": 99,
   "metadata": {},
   "outputs": [
    {
     "name": "stdout",
     "output_type": "stream",
     "text": [
      "Gender :  {'Male': 4417, 'Female': 3651}\n",
      "Ever_Married :  {'No': 3285, 'Yes': 4783}\n",
      "Graduated :  {'No': 3022, 'Yes': 5046}\n",
      "Profession :  {'Healthcare': 1332, 'Engineer': 699, 'Lawyer': 623, 'Entertainment': 949, 'Artist': 2640, 'Executive': 599, 'Doctor': 688, 'Homemaker': 246, 'Marketing': 292}\n",
      "Spending_Score :  {'Low': 4878, 'Average': 1974, 'High': 1216}\n",
      "Var_1 :  {'Cat_4': 1089, 'Cat_6': 5314, 'Cat_7': 203, 'Cat_3': 822, 'Cat_1': 133, 'Cat_2': 422, 'Cat_5': 85}\n",
      "Segmentation :  {'D': 2268, 'A': 1972, 'B': 1858, 'C': 1970}\n"
     ]
    }
   ],
   "source": [
    "print(\"Gender : \", dict(Counter(df.Gender)))\n",
    "\n",
    "print(\"Ever_Married : \", dict(Counter(df.Ever_Married)))\n",
    "\n",
    "print(\"Graduated : \", dict(Counter(df.Graduated)))\n",
    "\n",
    "print(\"Profession : \", dict(Counter(df.Profession)))\n",
    "\n",
    "print(\"Spending_Score : \", dict(Counter(df.Spending_Score)))\n",
    "\n",
    "print(\"Var_1 : \", dict(Counter(df.Var_1)))\n",
    "\n",
    "print(\"Segmentation : \", dict(Counter(df.Segmentation)))\n",
    "\n"
   ]
  },
  {
   "cell_type": "code",
   "execution_count": 100,
   "metadata": {},
   "outputs": [],
   "source": [
    "dic_Gender =  {'Male': 1, 'Female': 2}\n",
    "df[\"Gender\"] = df.Gender.apply(lambda x : dic_Gender.get(x))\n",
    "\n",
    "\n",
    "dic_Ever_Married =  {'Yes': 1, 'No': 2}\n",
    "df[\"Ever_Married\"] = df.Ever_Married.apply(lambda x : dic_Ever_Married.get(x))\n",
    "\n",
    "\n",
    "dic_Graduated =  { 'Yes': 1, 'No': 2}\n",
    "df[\"Graduated\"] = df.Graduated.apply(lambda x : dic_Graduated.get(x))\n",
    "\n",
    "\n",
    "dic_Profession =  {'Healthcare': 1, 'Engineer': 2, 'Lawyer': 3, 'Entertainment': 4, 'Artist': 5, \n",
    "               'Executive': 6, 'Doctor': 7, 'Homemaker': 8, 'Marketing': 9}\n",
    "df[\"Profession\"] = df.Profession.apply(lambda x : dic_Profession.get(x))\n",
    "\n",
    "\n",
    "dic_Spending_Score =  {'Low': 1, 'Average': 2, 'High': 3}\n",
    "df[\"Spending_Score\"] = df.Spending_Score.apply(lambda x : dic_Spending_Score.get(x))\n",
    "\n",
    "\n",
    "dic_Var_1 =  {'Cat_1': 1, 'Cat_2': 2, 'Cat_3': 3, 'Cat_4': 4,'Cat_5': 5, 'Cat_6': 6, 'Cat_7': 7}\n",
    "df[\"Var_1\"] = df.Var_1.apply(lambda x : dic_Var_1.get(x))\n",
    "\n",
    "\n",
    "\n",
    "dic_segmentation = { 'A': 1, 'B': 2, 'C': 3, 'D': 4}\n",
    "df[\"Segmentation\"] = df.Segmentation.apply(lambda x : dic_segmentation.get(x))\n",
    "\n",
    "\n",
    "\n",
    "\n",
    "\n",
    "\n",
    "\n",
    "df_test[\"Gender\"] = df_test.Gender.apply(lambda x : dic_Gender.get(x))\n",
    "\n",
    "df_test[\"Ever_Married\"] = df_test.Ever_Married.apply(lambda x : dic_Ever_Married.get(x))\n",
    "\n",
    "df_test[\"Graduated\"] = df_test.Graduated.apply(lambda x : dic_Graduated.get(x))\n",
    "\n",
    "df_test[\"Profession\"] = df_test.Profession.apply(lambda x : dic_Profession.get(x))\n",
    "\n",
    "df_test[\"Spending_Score\"] = df_test.Spending_Score.apply(lambda x : dic_Spending_Score.get(x))\n",
    "\n",
    "df_test[\"Var_1\"] = df_test.Var_1.apply(lambda x : dic_Var_1.get(x))\n"
   ]
  },
  {
   "cell_type": "code",
   "execution_count": 101,
   "metadata": {
    "scrolled": true
   },
   "outputs": [
    {
     "data": {
      "text/html": [
       "<div>\n",
       "<style scoped>\n",
       "    .dataframe tbody tr th:only-of-type {\n",
       "        vertical-align: middle;\n",
       "    }\n",
       "\n",
       "    .dataframe tbody tr th {\n",
       "        vertical-align: top;\n",
       "    }\n",
       "\n",
       "    .dataframe thead th {\n",
       "        text-align: right;\n",
       "    }\n",
       "</style>\n",
       "<table border=\"1\" class=\"dataframe\">\n",
       "  <thead>\n",
       "    <tr style=\"text-align: right;\">\n",
       "      <th></th>\n",
       "      <th>ID</th>\n",
       "      <th>Gender</th>\n",
       "      <th>Ever_Married</th>\n",
       "      <th>Age</th>\n",
       "      <th>Graduated</th>\n",
       "      <th>Profession</th>\n",
       "      <th>Work_Experience</th>\n",
       "      <th>Spending_Score</th>\n",
       "      <th>Family_Size</th>\n",
       "      <th>Var_1</th>\n",
       "      <th>Segmentation</th>\n",
       "    </tr>\n",
       "  </thead>\n",
       "  <tbody>\n",
       "    <tr>\n",
       "      <th>0</th>\n",
       "      <td>462809</td>\n",
       "      <td>1</td>\n",
       "      <td>2</td>\n",
       "      <td>22</td>\n",
       "      <td>2</td>\n",
       "      <td>1</td>\n",
       "      <td>1.000000</td>\n",
       "      <td>1</td>\n",
       "      <td>4.0</td>\n",
       "      <td>4</td>\n",
       "      <td>4</td>\n",
       "    </tr>\n",
       "    <tr>\n",
       "      <th>1</th>\n",
       "      <td>462643</td>\n",
       "      <td>2</td>\n",
       "      <td>1</td>\n",
       "      <td>38</td>\n",
       "      <td>1</td>\n",
       "      <td>2</td>\n",
       "      <td>2.641663</td>\n",
       "      <td>2</td>\n",
       "      <td>3.0</td>\n",
       "      <td>4</td>\n",
       "      <td>1</td>\n",
       "    </tr>\n",
       "    <tr>\n",
       "      <th>2</th>\n",
       "      <td>466315</td>\n",
       "      <td>2</td>\n",
       "      <td>1</td>\n",
       "      <td>67</td>\n",
       "      <td>1</td>\n",
       "      <td>2</td>\n",
       "      <td>1.000000</td>\n",
       "      <td>1</td>\n",
       "      <td>1.0</td>\n",
       "      <td>6</td>\n",
       "      <td>2</td>\n",
       "    </tr>\n",
       "  </tbody>\n",
       "</table>\n",
       "</div>"
      ],
      "text/plain": [
       "       ID  Gender  Ever_Married  Age  Graduated  Profession  Work_Experience  \\\n",
       "0  462809       1             2   22          2           1         1.000000   \n",
       "1  462643       2             1   38          1           2         2.641663   \n",
       "2  466315       2             1   67          1           2         1.000000   \n",
       "\n",
       "   Spending_Score  Family_Size  Var_1  Segmentation  \n",
       "0               1          4.0      4             4  \n",
       "1               2          3.0      4             1  \n",
       "2               1          1.0      6             2  "
      ]
     },
     "execution_count": 101,
     "metadata": {},
     "output_type": "execute_result"
    }
   ],
   "source": [
    "df.head(3)"
   ]
  },
  {
   "cell_type": "code",
   "execution_count": 102,
   "metadata": {},
   "outputs": [
    {
     "data": {
      "text/html": [
       "<div>\n",
       "<style scoped>\n",
       "    .dataframe tbody tr th:only-of-type {\n",
       "        vertical-align: middle;\n",
       "    }\n",
       "\n",
       "    .dataframe tbody tr th {\n",
       "        vertical-align: top;\n",
       "    }\n",
       "\n",
       "    .dataframe thead th {\n",
       "        text-align: right;\n",
       "    }\n",
       "</style>\n",
       "<table border=\"1\" class=\"dataframe\">\n",
       "  <thead>\n",
       "    <tr style=\"text-align: right;\">\n",
       "      <th></th>\n",
       "      <th>ID</th>\n",
       "      <th>Gender</th>\n",
       "      <th>Ever_Married</th>\n",
       "      <th>Age</th>\n",
       "      <th>Graduated</th>\n",
       "      <th>Profession</th>\n",
       "      <th>Work_Experience</th>\n",
       "      <th>Spending_Score</th>\n",
       "      <th>Family_Size</th>\n",
       "      <th>Var_1</th>\n",
       "    </tr>\n",
       "  </thead>\n",
       "  <tbody>\n",
       "    <tr>\n",
       "      <th>0</th>\n",
       "      <td>458989</td>\n",
       "      <td>2</td>\n",
       "      <td>1</td>\n",
       "      <td>36</td>\n",
       "      <td>1</td>\n",
       "      <td>2</td>\n",
       "      <td>0.0</td>\n",
       "      <td>1</td>\n",
       "      <td>1.0</td>\n",
       "      <td>6</td>\n",
       "    </tr>\n",
       "    <tr>\n",
       "      <th>1</th>\n",
       "      <td>458994</td>\n",
       "      <td>1</td>\n",
       "      <td>1</td>\n",
       "      <td>37</td>\n",
       "      <td>1</td>\n",
       "      <td>1</td>\n",
       "      <td>8.0</td>\n",
       "      <td>2</td>\n",
       "      <td>4.0</td>\n",
       "      <td>6</td>\n",
       "    </tr>\n",
       "    <tr>\n",
       "      <th>2</th>\n",
       "      <td>458996</td>\n",
       "      <td>2</td>\n",
       "      <td>1</td>\n",
       "      <td>69</td>\n",
       "      <td>2</td>\n",
       "      <td>5</td>\n",
       "      <td>0.0</td>\n",
       "      <td>1</td>\n",
       "      <td>1.0</td>\n",
       "      <td>6</td>\n",
       "    </tr>\n",
       "  </tbody>\n",
       "</table>\n",
       "</div>"
      ],
      "text/plain": [
       "       ID  Gender  Ever_Married  Age  Graduated  Profession  Work_Experience  \\\n",
       "0  458989       2             1   36          1           2              0.0   \n",
       "1  458994       1             1   37          1           1              8.0   \n",
       "2  458996       2             1   69          2           5              0.0   \n",
       "\n",
       "   Spending_Score  Family_Size  Var_1  \n",
       "0               1          1.0      6  \n",
       "1               2          4.0      6  \n",
       "2               1          1.0      6  "
      ]
     },
     "execution_count": 102,
     "metadata": {},
     "output_type": "execute_result"
    }
   ],
   "source": [
    "df_test.head(3)"
   ]
  },
  {
   "cell_type": "code",
   "execution_count": null,
   "metadata": {},
   "outputs": [],
   "source": []
  },
  {
   "cell_type": "code",
   "execution_count": 103,
   "metadata": {},
   "outputs": [],
   "source": [
    "# X = df4.iloc[:,:-1]\n",
    "# Y = df4.iloc[:,-1]\n",
    "\n",
    "feature_variables = [\"Gender\" , \"Ever_Married\" , \"Graduated\", \"Spending_Score\"]\n",
    "\n",
    "X = df.loc[:, feature_variables]\n",
    "Y = df.iloc[:,-1]\n",
    "\n",
    "df3_test = df_test.loc[:, feature_variables]\n",
    "\n",
    "X_train, X_test, y_train, y_test = train_test_split(X, Y, test_size = .2, random_state = 100)"
   ]
  },
  {
   "cell_type": "code",
   "execution_count": 104,
   "metadata": {},
   "outputs": [
    {
     "data": {
      "text/html": [
       "<div>\n",
       "<style scoped>\n",
       "    .dataframe tbody tr th:only-of-type {\n",
       "        vertical-align: middle;\n",
       "    }\n",
       "\n",
       "    .dataframe tbody tr th {\n",
       "        vertical-align: top;\n",
       "    }\n",
       "\n",
       "    .dataframe thead th {\n",
       "        text-align: right;\n",
       "    }\n",
       "</style>\n",
       "<table border=\"1\" class=\"dataframe\">\n",
       "  <thead>\n",
       "    <tr style=\"text-align: right;\">\n",
       "      <th></th>\n",
       "      <th>Gender</th>\n",
       "      <th>Ever_Married</th>\n",
       "      <th>Graduated</th>\n",
       "      <th>Spending_Score</th>\n",
       "    </tr>\n",
       "  </thead>\n",
       "  <tbody>\n",
       "    <tr>\n",
       "      <th>0</th>\n",
       "      <td>1</td>\n",
       "      <td>2</td>\n",
       "      <td>2</td>\n",
       "      <td>1</td>\n",
       "    </tr>\n",
       "    <tr>\n",
       "      <th>1</th>\n",
       "      <td>2</td>\n",
       "      <td>1</td>\n",
       "      <td>1</td>\n",
       "      <td>2</td>\n",
       "    </tr>\n",
       "  </tbody>\n",
       "</table>\n",
       "</div>"
      ],
      "text/plain": [
       "   Gender  Ever_Married  Graduated  Spending_Score\n",
       "0       1             2          2               1\n",
       "1       2             1          1               2"
      ]
     },
     "execution_count": 104,
     "metadata": {},
     "output_type": "execute_result"
    }
   ],
   "source": [
    "X.head(2)"
   ]
  },
  {
   "cell_type": "code",
   "execution_count": 105,
   "metadata": {
    "scrolled": true
   },
   "outputs": [
    {
     "data": {
      "text/html": [
       "<div>\n",
       "<style scoped>\n",
       "    .dataframe tbody tr th:only-of-type {\n",
       "        vertical-align: middle;\n",
       "    }\n",
       "\n",
       "    .dataframe tbody tr th {\n",
       "        vertical-align: top;\n",
       "    }\n",
       "\n",
       "    .dataframe thead th {\n",
       "        text-align: right;\n",
       "    }\n",
       "</style>\n",
       "<table border=\"1\" class=\"dataframe\">\n",
       "  <thead>\n",
       "    <tr style=\"text-align: right;\">\n",
       "      <th></th>\n",
       "      <th>Gender</th>\n",
       "      <th>Ever_Married</th>\n",
       "      <th>Graduated</th>\n",
       "      <th>Spending_Score</th>\n",
       "    </tr>\n",
       "  </thead>\n",
       "  <tbody>\n",
       "    <tr>\n",
       "      <th>0</th>\n",
       "      <td>2</td>\n",
       "      <td>1</td>\n",
       "      <td>1</td>\n",
       "      <td>1</td>\n",
       "    </tr>\n",
       "    <tr>\n",
       "      <th>1</th>\n",
       "      <td>1</td>\n",
       "      <td>1</td>\n",
       "      <td>1</td>\n",
       "      <td>2</td>\n",
       "    </tr>\n",
       "  </tbody>\n",
       "</table>\n",
       "</div>"
      ],
      "text/plain": [
       "   Gender  Ever_Married  Graduated  Spending_Score\n",
       "0       2             1          1               1\n",
       "1       1             1          1               2"
      ]
     },
     "execution_count": 105,
     "metadata": {},
     "output_type": "execute_result"
    }
   ],
   "source": [
    "df3_test.head(2)"
   ]
  },
  {
   "cell_type": "code",
   "execution_count": null,
   "metadata": {},
   "outputs": [],
   "source": []
  },
  {
   "cell_type": "code",
   "execution_count": 107,
   "metadata": {},
   "outputs": [
    {
     "name": "stdout",
     "output_type": "stream",
     "text": [
      "[03:26:56] WARNING: /workspace/src/learner.cc:480: \n",
      "Parameters: { num_classes } might not be used.\n",
      "\n",
      "  This may not be accurate due to some parameters are only used in language bindings but\n",
      "  passed down to XGBoost core.  Or some parameters are not used but slip through this\n",
      "  verification. Please open an issue if you find above cases.\n",
      "\n",
      "\n",
      "0:\tlearn: 1.3606362\ttotal: 97.1ms\tremaining: 19.3s\n",
      "1:\tlearn: 1.3393698\ttotal: 109ms\tremaining: 10.7s\n",
      "2:\tlearn: 1.3214942\ttotal: 119ms\tremaining: 7.8s\n",
      "3:\tlearn: 1.3063142\ttotal: 129ms\tremaining: 6.32s\n",
      "4:\tlearn: 1.2933232\ttotal: 138ms\tremaining: 5.39s\n",
      "5:\tlearn: 1.2832756\ttotal: 149ms\tremaining: 4.82s\n",
      "6:\tlearn: 1.2740080\ttotal: 159ms\tremaining: 4.38s\n",
      "7:\tlearn: 1.2652914\ttotal: 170ms\tremaining: 4.07s\n",
      "8:\tlearn: 1.2581989\ttotal: 179ms\tremaining: 3.81s\n",
      "9:\tlearn: 1.2519890\ttotal: 188ms\tremaining: 3.57s\n",
      "10:\tlearn: 1.2459655\ttotal: 194ms\tremaining: 3.34s\n",
      "11:\tlearn: 1.2406957\ttotal: 200ms\tremaining: 3.13s\n",
      "12:\tlearn: 1.2360786\ttotal: 204ms\tremaining: 2.93s\n",
      "13:\tlearn: 1.2322524\ttotal: 207ms\tremaining: 2.75s\n",
      "14:\tlearn: 1.2292354\ttotal: 211ms\tremaining: 2.6s\n",
      "15:\tlearn: 1.2261569\ttotal: 214ms\tremaining: 2.46s\n",
      "16:\tlearn: 1.2232540\ttotal: 217ms\tremaining: 2.34s\n",
      "17:\tlearn: 1.2206216\ttotal: 220ms\tremaining: 2.23s\n",
      "18:\tlearn: 1.2183082\ttotal: 223ms\tremaining: 2.12s\n",
      "19:\tlearn: 1.2162747\ttotal: 226ms\tremaining: 2.03s\n",
      "20:\tlearn: 1.2145909\ttotal: 228ms\tremaining: 1.95s\n",
      "21:\tlearn: 1.2132624\ttotal: 231ms\tremaining: 1.87s\n",
      "22:\tlearn: 1.2116485\ttotal: 233ms\tremaining: 1.79s\n",
      "23:\tlearn: 1.2102284\ttotal: 236ms\tremaining: 1.73s\n",
      "24:\tlearn: 1.2093516\ttotal: 239ms\tremaining: 1.67s\n",
      "25:\tlearn: 1.2084082\ttotal: 242ms\tremaining: 1.62s\n",
      "26:\tlearn: 1.2072974\ttotal: 244ms\tremaining: 1.56s\n",
      "27:\tlearn: 1.2064367\ttotal: 249ms\tremaining: 1.53s\n",
      "28:\tlearn: 1.2055669\ttotal: 252ms\tremaining: 1.49s\n",
      "29:\tlearn: 1.2052556\ttotal: 255ms\tremaining: 1.44s\n",
      "30:\tlearn: 1.2044172\ttotal: 257ms\tremaining: 1.4s\n",
      "31:\tlearn: 1.2036958\ttotal: 260ms\tremaining: 1.36s\n",
      "32:\tlearn: 1.2031020\ttotal: 262ms\tremaining: 1.33s\n",
      "33:\tlearn: 1.2029069\ttotal: 264ms\tremaining: 1.29s\n",
      "34:\tlearn: 1.2023852\ttotal: 267ms\tremaining: 1.26s\n",
      "35:\tlearn: 1.2020714\ttotal: 272ms\tremaining: 1.24s\n",
      "36:\tlearn: 1.2016907\ttotal: 276ms\tremaining: 1.22s\n",
      "37:\tlearn: 1.2012606\ttotal: 282ms\tremaining: 1.2s\n",
      "38:\tlearn: 1.2007947\ttotal: 293ms\tremaining: 1.21s\n",
      "39:\tlearn: 1.2004545\ttotal: 303ms\tremaining: 1.21s\n",
      "40:\tlearn: 1.2002386\ttotal: 310ms\tremaining: 1.2s\n",
      "41:\tlearn: 1.1998844\ttotal: 314ms\tremaining: 1.18s\n",
      "42:\tlearn: 1.1996215\ttotal: 319ms\tremaining: 1.17s\n",
      "43:\tlearn: 1.1993839\ttotal: 327ms\tremaining: 1.16s\n",
      "44:\tlearn: 1.1990652\ttotal: 338ms\tremaining: 1.16s\n",
      "45:\tlearn: 1.1988679\ttotal: 346ms\tremaining: 1.16s\n",
      "46:\tlearn: 1.1986329\ttotal: 353ms\tremaining: 1.15s\n",
      "47:\tlearn: 1.1985290\ttotal: 361ms\tremaining: 1.14s\n",
      "48:\tlearn: 1.1983748\ttotal: 365ms\tremaining: 1.12s\n",
      "49:\tlearn: 1.1983452\ttotal: 378ms\tremaining: 1.13s\n",
      "50:\tlearn: 1.1982870\ttotal: 384ms\tremaining: 1.12s\n",
      "51:\tlearn: 1.1981651\ttotal: 392ms\tremaining: 1.11s\n",
      "52:\tlearn: 1.1979357\ttotal: 397ms\tremaining: 1.1s\n",
      "53:\tlearn: 1.1977745\ttotal: 406ms\tremaining: 1.1s\n",
      "54:\tlearn: 1.1977548\ttotal: 410ms\tremaining: 1.08s\n",
      "55:\tlearn: 1.1975614\ttotal: 416ms\tremaining: 1.07s\n",
      "56:\tlearn: 1.1974286\ttotal: 426ms\tremaining: 1.07s\n",
      "57:\tlearn: 1.1972821\ttotal: 431ms\tremaining: 1.05s\n",
      "58:\tlearn: 1.1971701\ttotal: 438ms\tremaining: 1.05s\n",
      "59:\tlearn: 1.1970867\ttotal: 442ms\tremaining: 1.03s\n",
      "60:\tlearn: 1.1969412\ttotal: 451ms\tremaining: 1.03s\n",
      "61:\tlearn: 1.1968073\ttotal: 456ms\tremaining: 1.01s\n",
      "62:\tlearn: 1.1967480\ttotal: 463ms\tremaining: 1.01s\n",
      "63:\tlearn: 1.1966671\ttotal: 471ms\tremaining: 1s\n",
      "64:\tlearn: 1.1966426\ttotal: 476ms\tremaining: 988ms\n",
      "65:\tlearn: 1.1966214\ttotal: 481ms\tremaining: 977ms\n",
      "66:\tlearn: 1.1965553\ttotal: 486ms\tremaining: 965ms\n",
      "67:\tlearn: 1.1964931\ttotal: 491ms\tremaining: 953ms\n",
      "68:\tlearn: 1.1964540\ttotal: 496ms\tremaining: 941ms\n",
      "69:\tlearn: 1.1964203\ttotal: 502ms\tremaining: 932ms\n",
      "70:\tlearn: 1.1963671\ttotal: 506ms\tremaining: 919ms\n",
      "71:\tlearn: 1.1962697\ttotal: 510ms\tremaining: 907ms\n",
      "72:\tlearn: 1.1962584\ttotal: 517ms\tremaining: 899ms\n",
      "73:\tlearn: 1.1962169\ttotal: 522ms\tremaining: 888ms\n",
      "74:\tlearn: 1.1961809\ttotal: 527ms\tremaining: 879ms\n",
      "75:\tlearn: 1.1961022\ttotal: 531ms\tremaining: 867ms\n",
      "76:\tlearn: 1.1960553\ttotal: 534ms\tremaining: 854ms\n",
      "77:\tlearn: 1.1959847\ttotal: 537ms\tremaining: 840ms\n",
      "78:\tlearn: 1.1959557\ttotal: 540ms\tremaining: 827ms\n",
      "79:\tlearn: 1.1958888\ttotal: 542ms\tremaining: 814ms\n",
      "80:\tlearn: 1.1958833\ttotal: 545ms\tremaining: 801ms\n",
      "81:\tlearn: 1.1958740\ttotal: 547ms\tremaining: 788ms\n",
      "82:\tlearn: 1.1958149\ttotal: 550ms\tremaining: 775ms\n",
      "83:\tlearn: 1.1957927\ttotal: 552ms\tremaining: 763ms\n",
      "84:\tlearn: 1.1957706\ttotal: 555ms\tremaining: 751ms\n",
      "85:\tlearn: 1.1957204\ttotal: 557ms\tremaining: 739ms\n",
      "86:\tlearn: 1.1956654\ttotal: 560ms\tremaining: 727ms\n",
      "87:\tlearn: 1.1956170\ttotal: 562ms\tremaining: 715ms\n",
      "88:\tlearn: 1.1956048\ttotal: 565ms\tremaining: 705ms\n",
      "89:\tlearn: 1.1955903\ttotal: 568ms\tremaining: 694ms\n",
      "90:\tlearn: 1.1955896\ttotal: 570ms\tremaining: 683ms\n",
      "91:\tlearn: 1.1955435\ttotal: 572ms\tremaining: 672ms\n",
      "92:\tlearn: 1.1955034\ttotal: 575ms\tremaining: 661ms\n",
      "93:\tlearn: 1.1954898\ttotal: 577ms\tremaining: 651ms\n",
      "94:\tlearn: 1.1954534\ttotal: 580ms\tremaining: 641ms\n",
      "95:\tlearn: 1.1954374\ttotal: 583ms\tremaining: 631ms\n",
      "96:\tlearn: 1.1954224\ttotal: 586ms\tremaining: 623ms\n",
      "97:\tlearn: 1.1954095\ttotal: 590ms\tremaining: 614ms\n",
      "98:\tlearn: 1.1953793\ttotal: 593ms\tremaining: 605ms\n",
      "99:\tlearn: 1.1953680\ttotal: 597ms\tremaining: 597ms\n",
      "100:\tlearn: 1.1953582\ttotal: 600ms\tremaining: 588ms\n",
      "101:\tlearn: 1.1953580\ttotal: 603ms\tremaining: 580ms\n",
      "102:\tlearn: 1.1953458\ttotal: 607ms\tremaining: 571ms\n",
      "103:\tlearn: 1.1953144\ttotal: 610ms\tremaining: 563ms\n",
      "104:\tlearn: 1.1953056\ttotal: 614ms\tremaining: 555ms\n",
      "105:\tlearn: 1.1952994\ttotal: 616ms\tremaining: 546ms\n",
      "106:\tlearn: 1.1952665\ttotal: 619ms\tremaining: 538ms\n",
      "107:\tlearn: 1.1952444\ttotal: 621ms\tremaining: 529ms\n",
      "108:\tlearn: 1.1952375\ttotal: 624ms\tremaining: 521ms\n",
      "109:\tlearn: 1.1952122\ttotal: 626ms\tremaining: 512ms\n",
      "110:\tlearn: 1.1951956\ttotal: 629ms\tremaining: 504ms\n",
      "111:\tlearn: 1.1951780\ttotal: 633ms\tremaining: 497ms\n",
      "112:\tlearn: 1.1951719\ttotal: 636ms\tremaining: 490ms\n",
      "113:\tlearn: 1.1951670\ttotal: 640ms\tremaining: 483ms\n",
      "114:\tlearn: 1.1951627\ttotal: 643ms\tremaining: 476ms\n",
      "115:\tlearn: 1.1951591\ttotal: 647ms\tremaining: 468ms\n",
      "116:\tlearn: 1.1951573\ttotal: 651ms\tremaining: 462ms\n",
      "117:\tlearn: 1.1951328\ttotal: 654ms\tremaining: 454ms\n",
      "118:\tlearn: 1.1951120\ttotal: 657ms\tremaining: 447ms\n",
      "119:\tlearn: 1.1951086\ttotal: 661ms\tremaining: 441ms\n",
      "120:\tlearn: 1.1950942\ttotal: 663ms\tremaining: 433ms\n",
      "121:\tlearn: 1.1950765\ttotal: 666ms\tremaining: 426ms\n",
      "122:\tlearn: 1.1950718\ttotal: 669ms\tremaining: 419ms\n",
      "123:\tlearn: 1.1950659\ttotal: 671ms\tremaining: 411ms\n",
      "124:\tlearn: 1.1950500\ttotal: 673ms\tremaining: 404ms\n",
      "125:\tlearn: 1.1950363\ttotal: 676ms\tremaining: 397ms\n",
      "126:\tlearn: 1.1950257\ttotal: 679ms\tremaining: 390ms\n",
      "127:\tlearn: 1.1950142\ttotal: 681ms\tremaining: 383ms\n",
      "128:\tlearn: 1.1950042\ttotal: 684ms\tremaining: 377ms\n",
      "129:\tlearn: 1.1949958\ttotal: 692ms\tremaining: 373ms\n",
      "130:\tlearn: 1.1949860\ttotal: 697ms\tremaining: 367ms\n",
      "131:\tlearn: 1.1949806\ttotal: 700ms\tremaining: 361ms\n",
      "132:\tlearn: 1.1949722\ttotal: 704ms\tremaining: 355ms\n",
      "133:\tlearn: 1.1949661\ttotal: 709ms\tremaining: 349ms\n",
      "134:\tlearn: 1.1949585\ttotal: 713ms\tremaining: 343ms\n",
      "135:\tlearn: 1.1949534\ttotal: 716ms\tremaining: 337ms\n",
      "136:\tlearn: 1.1949420\ttotal: 725ms\tremaining: 334ms\n",
      "137:\tlearn: 1.1949321\ttotal: 729ms\tremaining: 328ms\n",
      "138:\tlearn: 1.1949298\ttotal: 733ms\tremaining: 322ms\n",
      "139:\tlearn: 1.1949251\ttotal: 737ms\tremaining: 316ms\n",
      "140:\tlearn: 1.1949209\ttotal: 740ms\tremaining: 310ms\n",
      "141:\tlearn: 1.1949141\ttotal: 745ms\tremaining: 304ms\n",
      "142:\tlearn: 1.1949089\ttotal: 750ms\tremaining: 299ms\n",
      "143:\tlearn: 1.1949043\ttotal: 753ms\tremaining: 293ms\n",
      "144:\tlearn: 1.1948916\ttotal: 755ms\tremaining: 286ms\n",
      "145:\tlearn: 1.1948875\ttotal: 758ms\tremaining: 280ms\n",
      "146:\tlearn: 1.1948839\ttotal: 760ms\tremaining: 274ms\n",
      "147:\tlearn: 1.1948808\ttotal: 763ms\tremaining: 268ms\n",
      "148:\tlearn: 1.1948745\ttotal: 768ms\tremaining: 263ms\n",
      "149:\tlearn: 1.1948720\ttotal: 772ms\tremaining: 257ms\n",
      "150:\tlearn: 1.1948648\ttotal: 775ms\tremaining: 251ms\n",
      "151:\tlearn: 1.1948620\ttotal: 777ms\tremaining: 245ms\n",
      "152:\tlearn: 1.1948596\ttotal: 780ms\tremaining: 240ms\n",
      "153:\tlearn: 1.1948575\ttotal: 783ms\tremaining: 234ms\n",
      "154:\tlearn: 1.1948541\ttotal: 785ms\tremaining: 228ms\n",
      "155:\tlearn: 1.1948523\ttotal: 788ms\tremaining: 222ms\n",
      "156:\tlearn: 1.1948504\ttotal: 790ms\tremaining: 216ms\n",
      "157:\tlearn: 1.1948426\ttotal: 793ms\tremaining: 211ms\n",
      "158:\tlearn: 1.1948406\ttotal: 795ms\tremaining: 205ms\n",
      "159:\tlearn: 1.1948389\ttotal: 798ms\tremaining: 199ms\n",
      "160:\tlearn: 1.1948375\ttotal: 800ms\tremaining: 194ms\n",
      "161:\tlearn: 1.1948302\ttotal: 803ms\tremaining: 188ms\n",
      "162:\tlearn: 1.1948238\ttotal: 806ms\tremaining: 183ms\n",
      "163:\tlearn: 1.1948206\ttotal: 808ms\tremaining: 177ms\n",
      "164:\tlearn: 1.1948178\ttotal: 811ms\tremaining: 172ms\n",
      "165:\tlearn: 1.1948154\ttotal: 814ms\tremaining: 167ms\n",
      "166:\tlearn: 1.1948133\ttotal: 816ms\tremaining: 161ms\n",
      "167:\tlearn: 1.1948115\ttotal: 819ms\tremaining: 156ms\n",
      "168:\tlearn: 1.1948100\ttotal: 821ms\tremaining: 151ms\n",
      "169:\tlearn: 1.1948030\ttotal: 824ms\tremaining: 145ms\n",
      "170:\tlearn: 1.1948018\ttotal: 826ms\tremaining: 140ms\n",
      "171:\tlearn: 1.1948002\ttotal: 829ms\tremaining: 135ms\n",
      "172:\tlearn: 1.1947989\ttotal: 831ms\tremaining: 130ms\n",
      "173:\tlearn: 1.1947939\ttotal: 834ms\tremaining: 125ms\n",
      "174:\tlearn: 1.1947927\ttotal: 836ms\tremaining: 119ms\n",
      "175:\tlearn: 1.1947883\ttotal: 839ms\tremaining: 114ms\n",
      "176:\tlearn: 1.1947872\ttotal: 841ms\tremaining: 109ms\n",
      "177:\tlearn: 1.1947862\ttotal: 844ms\tremaining: 104ms\n",
      "178:\tlearn: 1.1947849\ttotal: 846ms\tremaining: 99.2ms\n",
      "179:\tlearn: 1.1947837\ttotal: 849ms\tremaining: 94.3ms\n",
      "180:\tlearn: 1.1947787\ttotal: 851ms\tremaining: 89.3ms\n",
      "181:\tlearn: 1.1947743\ttotal: 854ms\tremaining: 84.4ms\n",
      "182:\tlearn: 1.1947675\ttotal: 856ms\tremaining: 79.5ms\n",
      "183:\tlearn: 1.1947617\ttotal: 858ms\tremaining: 74.6ms\n",
      "184:\tlearn: 1.1947602\ttotal: 861ms\tremaining: 69.8ms\n",
      "185:\tlearn: 1.1947589\ttotal: 863ms\tremaining: 65ms\n",
      "186:\tlearn: 1.1947578\ttotal: 866ms\tremaining: 60.2ms\n",
      "187:\tlearn: 1.1947568\ttotal: 868ms\tremaining: 55.4ms\n",
      "188:\tlearn: 1.1947562\ttotal: 874ms\tremaining: 50.9ms\n",
      "189:\tlearn: 1.1947554\ttotal: 877ms\tremaining: 46.2ms\n",
      "190:\tlearn: 1.1947494\ttotal: 881ms\tremaining: 41.5ms\n"
     ]
    },
    {
     "name": "stdout",
     "output_type": "stream",
     "text": [
      "191:\tlearn: 1.1947441\ttotal: 884ms\tremaining: 36.8ms\n",
      "192:\tlearn: 1.1947407\ttotal: 891ms\tremaining: 32.3ms\n",
      "193:\tlearn: 1.1947395\ttotal: 895ms\tremaining: 27.7ms\n",
      "194:\tlearn: 1.1947385\ttotal: 899ms\tremaining: 23ms\n",
      "195:\tlearn: 1.1947359\ttotal: 908ms\tremaining: 18.5ms\n",
      "196:\tlearn: 1.1947350\ttotal: 913ms\tremaining: 13.9ms\n",
      "197:\tlearn: 1.1947302\ttotal: 917ms\tremaining: 9.26ms\n",
      "198:\tlearn: 1.1947291\ttotal: 919ms\tremaining: 4.62ms\n",
      "199:\tlearn: 1.1947281\ttotal: 922ms\tremaining: 0us\n"
     ]
    }
   ],
   "source": [
    "model_logistic = LogisticRegression()\n",
    "model_logistic.fit(X, Y)\n",
    "y_pred_logistic_final = model_logistic.predict(df3_test)\n",
    "\n",
    "\n",
    "model_xgb = XGBClassifier(max_depth=5, objective='multi:softmax', num_classes=4)\n",
    "model_xgb.fit(X, Y)\n",
    "y_pred_xgb_final = model_xgb.predict(df3_test)\n",
    "\n",
    "\n",
    "model_lgb= LGBMClassifier(n_estimators= 200, objective='multi:softmax', num_classes=3)\n",
    "model_lgb.fit(X,Y)\n",
    "y_pred_lgb_final = model_lgb.predict(df3_test)\n",
    "\n",
    "\n",
    "\n",
    "model_catg= CatBoostClassifier(depth= 3,l2_leaf_reg= 1e-25,learning_rate= 0.07,loss_function= 'MultiClass',n_estimators= 200)\n",
    "model_catg.fit(X,Y)\n",
    "y_pred_catg_final = model_catg.predict(df3_test)\n"
   ]
  },
  {
   "cell_type": "code",
   "execution_count": null,
   "metadata": {},
   "outputs": [],
   "source": []
  },
  {
   "cell_type": "code",
   "execution_count": 111,
   "metadata": {
    "scrolled": true
   },
   "outputs": [
    {
     "data": {
      "text/plain": [
       "(2627, 2627, 2627, 2627)"
      ]
     },
     "execution_count": 111,
     "metadata": {},
     "output_type": "execute_result"
    }
   ],
   "source": [
    "len(y_pred_logistic_final), len(y_pred_xgb_final), len(y_pred_lgb_final), len(y_pred_catg_final)"
   ]
  },
  {
   "cell_type": "code",
   "execution_count": 114,
   "metadata": {},
   "outputs": [
    {
     "data": {
      "text/html": [
       "<div>\n",
       "<style scoped>\n",
       "    .dataframe tbody tr th:only-of-type {\n",
       "        vertical-align: middle;\n",
       "    }\n",
       "\n",
       "    .dataframe tbody tr th {\n",
       "        vertical-align: top;\n",
       "    }\n",
       "\n",
       "    .dataframe thead th {\n",
       "        text-align: right;\n",
       "    }\n",
       "</style>\n",
       "<table border=\"1\" class=\"dataframe\">\n",
       "  <thead>\n",
       "    <tr style=\"text-align: right;\">\n",
       "      <th></th>\n",
       "      <th>ID</th>\n",
       "      <th>Segmentation</th>\n",
       "      <th>y_pred_logistic_final</th>\n",
       "      <th>y_pred_xgb_final</th>\n",
       "      <th>y_pred_lgb_final</th>\n",
       "      <th>y_pred_catg_final</th>\n",
       "    </tr>\n",
       "  </thead>\n",
       "  <tbody>\n",
       "    <tr>\n",
       "      <th>2617</th>\n",
       "      <td>467940</td>\n",
       "      <td>A</td>\n",
       "      <td>4</td>\n",
       "      <td>4</td>\n",
       "      <td>4</td>\n",
       "      <td>4</td>\n",
       "    </tr>\n",
       "    <tr>\n",
       "      <th>2618</th>\n",
       "      <td>467946</td>\n",
       "      <td>A</td>\n",
       "      <td>3</td>\n",
       "      <td>2</td>\n",
       "      <td>2</td>\n",
       "      <td>2</td>\n",
       "    </tr>\n",
       "    <tr>\n",
       "      <th>2619</th>\n",
       "      <td>467948</td>\n",
       "      <td>A</td>\n",
       "      <td>4</td>\n",
       "      <td>4</td>\n",
       "      <td>4</td>\n",
       "      <td>4</td>\n",
       "    </tr>\n",
       "    <tr>\n",
       "      <th>2620</th>\n",
       "      <td>467949</td>\n",
       "      <td>A</td>\n",
       "      <td>4</td>\n",
       "      <td>4</td>\n",
       "      <td>4</td>\n",
       "      <td>4</td>\n",
       "    </tr>\n",
       "    <tr>\n",
       "      <th>2621</th>\n",
       "      <td>467950</td>\n",
       "      <td>A</td>\n",
       "      <td>4</td>\n",
       "      <td>1</td>\n",
       "      <td>1</td>\n",
       "      <td>1</td>\n",
       "    </tr>\n",
       "    <tr>\n",
       "      <th>2622</th>\n",
       "      <td>467954</td>\n",
       "      <td>A</td>\n",
       "      <td>4</td>\n",
       "      <td>4</td>\n",
       "      <td>4</td>\n",
       "      <td>4</td>\n",
       "    </tr>\n",
       "    <tr>\n",
       "      <th>2623</th>\n",
       "      <td>467958</td>\n",
       "      <td>A</td>\n",
       "      <td>4</td>\n",
       "      <td>1</td>\n",
       "      <td>1</td>\n",
       "      <td>1</td>\n",
       "    </tr>\n",
       "    <tr>\n",
       "      <th>2624</th>\n",
       "      <td>467960</td>\n",
       "      <td>A</td>\n",
       "      <td>4</td>\n",
       "      <td>1</td>\n",
       "      <td>1</td>\n",
       "      <td>1</td>\n",
       "    </tr>\n",
       "    <tr>\n",
       "      <th>2625</th>\n",
       "      <td>467961</td>\n",
       "      <td>A</td>\n",
       "      <td>3</td>\n",
       "      <td>3</td>\n",
       "      <td>3</td>\n",
       "      <td>3</td>\n",
       "    </tr>\n",
       "    <tr>\n",
       "      <th>2626</th>\n",
       "      <td>467968</td>\n",
       "      <td>A</td>\n",
       "      <td>4</td>\n",
       "      <td>1</td>\n",
       "      <td>1</td>\n",
       "      <td>1</td>\n",
       "    </tr>\n",
       "  </tbody>\n",
       "</table>\n",
       "</div>"
      ],
      "text/plain": [
       "          ID Segmentation  y_pred_logistic_final  y_pred_xgb_final  \\\n",
       "2617  467940            A                      4                 4   \n",
       "2618  467946            A                      3                 2   \n",
       "2619  467948            A                      4                 4   \n",
       "2620  467949            A                      4                 4   \n",
       "2621  467950            A                      4                 1   \n",
       "2622  467954            A                      4                 4   \n",
       "2623  467958            A                      4                 1   \n",
       "2624  467960            A                      4                 1   \n",
       "2625  467961            A                      3                 3   \n",
       "2626  467968            A                      4                 1   \n",
       "\n",
       "      y_pred_lgb_final  y_pred_catg_final  \n",
       "2617                 4                  4  \n",
       "2618                 2                  2  \n",
       "2619                 4                  4  \n",
       "2620                 4                  4  \n",
       "2621                 1                  1  \n",
       "2622                 4                  4  \n",
       "2623                 1                  1  \n",
       "2624                 1                  1  \n",
       "2625                 3                  3  \n",
       "2626                 1                  1  "
      ]
     },
     "execution_count": 114,
     "metadata": {},
     "output_type": "execute_result"
    }
   ],
   "source": [
    "submission[\"y_pred_logistic_final\"] = y_pred_logistic_final\n",
    "\n",
    "submission[\"y_pred_xgb_final\"] = y_pred_xgb_final\n",
    "\n",
    "submission[\"y_pred_lgb_final\"] = y_pred_lgb_final\n",
    "\n",
    "submission[\"y_pred_catg_final\"] = y_pred_catg_final\n",
    "\n",
    "\n",
    "submission.tail(10)"
   ]
  },
  {
   "cell_type": "code",
   "execution_count": null,
   "metadata": {},
   "outputs": [],
   "source": []
  },
  {
   "cell_type": "code",
   "execution_count": null,
   "metadata": {},
   "outputs": [],
   "source": []
  },
  {
   "cell_type": "code",
   "execution_count": 119,
   "metadata": {},
   "outputs": [
    {
     "name": "stdout",
     "output_type": "stream",
     "text": [
      "       ID  Segmentation\n",
      "0  458989             2\n",
      "1  458994             3\n",
      "2  458996             1\n",
      "3  459000             2\n",
      "4  459001             4\n"
     ]
    },
    {
     "data": {
      "text/plain": [
       "'File created successful'"
      ]
     },
     "execution_count": 119,
     "metadata": {},
     "output_type": "execute_result"
    }
   ],
   "source": [
    "create_submission_file(model_lgb , \"lgb_2\", df3_test)"
   ]
  },
  {
   "cell_type": "code",
   "execution_count": 120,
   "metadata": {},
   "outputs": [
    {
     "data": {
      "text/html": [
       "<div>\n",
       "<style scoped>\n",
       "    .dataframe tbody tr th:only-of-type {\n",
       "        vertical-align: middle;\n",
       "    }\n",
       "\n",
       "    .dataframe tbody tr th {\n",
       "        vertical-align: top;\n",
       "    }\n",
       "\n",
       "    .dataframe thead th {\n",
       "        text-align: right;\n",
       "    }\n",
       "</style>\n",
       "<table border=\"1\" class=\"dataframe\">\n",
       "  <thead>\n",
       "    <tr style=\"text-align: right;\">\n",
       "      <th></th>\n",
       "      <th>ID</th>\n",
       "      <th>Segmentation</th>\n",
       "    </tr>\n",
       "  </thead>\n",
       "  <tbody>\n",
       "    <tr>\n",
       "      <th>0</th>\n",
       "      <td>458989</td>\n",
       "      <td>2</td>\n",
       "    </tr>\n",
       "    <tr>\n",
       "      <th>1</th>\n",
       "      <td>458994</td>\n",
       "      <td>3</td>\n",
       "    </tr>\n",
       "    <tr>\n",
       "      <th>2</th>\n",
       "      <td>458996</td>\n",
       "      <td>1</td>\n",
       "    </tr>\n",
       "    <tr>\n",
       "      <th>3</th>\n",
       "      <td>459000</td>\n",
       "      <td>2</td>\n",
       "    </tr>\n",
       "    <tr>\n",
       "      <th>4</th>\n",
       "      <td>459001</td>\n",
       "      <td>4</td>\n",
       "    </tr>\n",
       "  </tbody>\n",
       "</table>\n",
       "</div>"
      ],
      "text/plain": [
       "       ID  Segmentation\n",
       "0  458989             2\n",
       "1  458994             3\n",
       "2  458996             1\n",
       "3  459000             2\n",
       "4  459001             4"
      ]
     },
     "execution_count": 120,
     "metadata": {},
     "output_type": "execute_result"
    }
   ],
   "source": [
    "submit_file = save_model_df = pd.read_csv(\"lgb_2\"+'.csv')\n",
    "submit_file.head()"
   ]
  },
  {
   "cell_type": "code",
   "execution_count": 121,
   "metadata": {},
   "outputs": [
    {
     "data": {
      "text/plain": [
       "Counter({2: 339, 3: 704, 1: 844, 4: 740})"
      ]
     },
     "execution_count": 121,
     "metadata": {},
     "output_type": "execute_result"
    }
   ],
   "source": [
    "Counter(submit_file.Segmentation)"
   ]
  },
  {
   "cell_type": "code",
   "execution_count": null,
   "metadata": {},
   "outputs": [],
   "source": []
  },
  {
   "cell_type": "code",
   "execution_count": null,
   "metadata": {},
   "outputs": [],
   "source": []
  },
  {
   "cell_type": "code",
   "execution_count": 115,
   "metadata": {},
   "outputs": [],
   "source": [
    "def create_submission_file(model, file_name, test_data):\n",
    "    \n",
    "    y_pred_final = model.predict(test_data)\n",
    "\n",
    "    submission_1 = pd.read_csv(\"sample_submission.csv\")\n",
    "    submission_1[\"Segmentation\"] = y_pred_final\n",
    "    submission_1.to_csv(file_name+'.csv', index=False)\n",
    "    \n",
    "    \n",
    "    save_model_df = pd.read_csv(file_name+'.csv')\n",
    "    \n",
    "    print(save_model_df.head())\n",
    "    \n",
    "    \n",
    "    return \"File created successful\""
   ]
  },
  {
   "cell_type": "code",
   "execution_count": null,
   "metadata": {},
   "outputs": [],
   "source": []
  },
  {
   "cell_type": "code",
   "execution_count": 13,
   "metadata": {},
   "outputs": [],
   "source": [
    "def get_accuracy(y_train_val , y_pred_val , dataset_type = \"Default\"):\n",
    "    \n",
    "    print(\" Dataset type is : \", dataset_type)\n",
    "    \n",
    "    print(\"\\n Accuracy Score     : \",round(accuracy_score(y_train_val, y_pred_val), 4) * 100)\n",
    "\n"
   ]
  },
  {
   "cell_type": "code",
   "execution_count": 99,
   "metadata": {},
   "outputs": [
    {
     "name": "stdout",
     "output_type": "stream",
     "text": [
      "F1_score for LogReg :  0.4573757935844253\n",
      "CPU times: user 48.9 ms, sys: 36.6 ms, total: 85.6 ms\n",
      "Wall time: 1.72 s\n"
     ]
    }
   ],
   "source": [
    "%%time\n",
    "\n",
    "\n",
    "lr_clf = LogisticRegression(multi_class='multinomial')\n",
    "scores = cross_val_score(lr_clf, X, Y, cv=5, scoring=make_scorer(f1_score, average='weighted'), n_jobs=-1)\n",
    "print('F1_score for LogReg : ', scores.mean())"
   ]
  },
  {
   "cell_type": "code",
   "execution_count": 108,
   "metadata": {},
   "outputs": [
    {
     "name": "stdout",
     "output_type": "stream",
     "text": [
      "0.533457249070632\n",
      "              precision    recall  f1-score   support\n",
      "\n",
      "           0       0.43      0.45      0.44       402\n",
      "           1       0.39      0.33      0.35       365\n",
      "           2       0.63      0.60      0.61       382\n",
      "           3       0.64      0.71      0.67       465\n",
      "\n",
      "    accuracy                           0.53      1614\n",
      "   macro avg       0.52      0.52      0.52      1614\n",
      "weighted avg       0.53      0.53      0.53      1614\n",
      "\n",
      "CPU times: user 2.08 s, sys: 1.35 ms, total: 2.08 s\n",
      "Wall time: 2.08 s\n"
     ]
    }
   ],
   "source": [
    "%%time\n",
    "\n",
    "GBC_d = GradientBoostingClassifier()\n",
    "GBC_d.fit(X_train,y_train)\n",
    "pred_gbc = GBC_d.predict(X_test)\n",
    "print(accuracy_score(y_test,pred_gbc))\n",
    "print(classification_report(y_test,pred_gbc))"
   ]
  },
  {
   "cell_type": "code",
   "execution_count": 110,
   "metadata": {},
   "outputs": [
    {
     "data": {
      "text/plain": [
       "'File created successful'"
      ]
     },
     "execution_count": 110,
     "metadata": {},
     "output_type": "execute_result"
    }
   ],
   "source": [
    "create_submission_file(GBC_d , \"gbc_1\", df3_test)"
   ]
  },
  {
   "cell_type": "code",
   "execution_count": null,
   "metadata": {},
   "outputs": [],
   "source": []
  },
  {
   "cell_type": "code",
   "execution_count": null,
   "metadata": {},
   "outputs": [],
   "source": []
  },
  {
   "cell_type": "code",
   "execution_count": 117,
   "metadata": {},
   "outputs": [],
   "source": [
    "rows=[]\n",
    "\n",
    "def addRandomStateForAlgorithm(x,y,names,algorithms,columns_name,random_state_list):    \n",
    "    for j in range(len(algorithms)):\n",
    "        model = algorithms[j]\n",
    "        for i in random_state_list:\n",
    "            \n",
    "            x_train, x_test , y_train , y_test = train_test_split(x ,y , test_size = 0.02 , random_state = i)\n",
    "            \n",
    "            model.fit(x_train,y_train)\n",
    "            \n",
    "            y_pred_train = model.predict(x_train)\n",
    "            y_pred = model.predict(x_test)\n",
    "            \n",
    "            train_acc = accuracy_score(y_train, y_pred_train)\n",
    "            train_acc = round(train_acc, 4) * 100\n",
    "            \n",
    "            test_acc = accuracy_score(y_test, y_pred)\n",
    "            test_acc = round(test_acc, 4) * 100\n",
    "            \n",
    "#             roc_auc_score_acc = roc_auc_score(y_test, y_pred)\n",
    "#             roc_auc_score_acc = round(roc_auc_score_acc, 4) * 100\n",
    "            \n",
    "            row = [names[j],   i,   train_acc, test_acc]\n",
    "        \n",
    "    \n",
    "            rows.append(row)\n",
    "            \n",
    "    models_df = pd.DataFrame(rows) \n",
    "    \n",
    "    models_df.columns = columns_name\n",
    "    print(models_df)\n",
    "    \n",
    "    \n"
   ]
  },
  {
   "cell_type": "code",
   "execution_count": null,
   "metadata": {},
   "outputs": [],
   "source": []
  },
  {
   "cell_type": "code",
   "execution_count": 118,
   "metadata": {},
   "outputs": [
    {
     "name": "stdout",
     "output_type": "stream",
     "text": [
      "       Model  Random_state  Train_acc  Test_acc\n",
      "0   LightGBM             1      45.95     42.59\n",
      "1   LightGBM             2      45.97     41.98\n",
      "2   LightGBM             3      45.90     45.06\n",
      "3         RF             1      45.95     42.59\n",
      "4         RF             2      45.97     41.98\n",
      "5         RF             3      45.90     45.06\n",
      "6    XGBoost             1      45.95     42.59\n",
      "7    XGBoost             2      45.97     41.98\n",
      "8    XGBoost             3      45.90     45.06\n",
      "9   Logistic             1      44.08     41.98\n",
      "10  Logistic             2      44.23     34.57\n",
      "11  Logistic             3      44.09     41.36\n"
     ]
    }
   ],
   "source": [
    "names = [ \"LightGBM\", \"RF\", \"XGBoost\" , \"Logistic\"]\n",
    "\n",
    "algorithms = [ LGBMClassifier(  ), RandomForestClassifier(), XGBClassifier(), LogisticRegression(multi_class='multinomial')]\n",
    "\n",
    "\n",
    "columns_name = [\"Model\",    \"Random_state\",   'Train_acc',     \"Test_acc\" ]\n",
    "\n",
    "random_state_list_up_to_3 = [1,2,3]\n",
    "\n",
    "addRandomStateForAlgorithm(X,Y,names,algorithms,columns_name,random_state_list_up_to_3)"
   ]
  },
  {
   "cell_type": "code",
   "execution_count": null,
   "metadata": {},
   "outputs": [],
   "source": []
  },
  {
   "cell_type": "code",
   "execution_count": null,
   "metadata": {},
   "outputs": [],
   "source": []
  }
 ],
 "metadata": {
  "kernelspec": {
   "display_name": "Python 3",
   "language": "python",
   "name": "python3"
  },
  "language_info": {
   "codemirror_mode": {
    "name": "ipython",
    "version": 3
   },
   "file_extension": ".py",
   "mimetype": "text/x-python",
   "name": "python",
   "nbconvert_exporter": "python",
   "pygments_lexer": "ipython3",
   "version": "3.7.6"
  },
  "varInspector": {
   "cols": {
    "lenName": 16,
    "lenType": 16,
    "lenVar": 40
   },
   "kernels_config": {
    "python": {
     "delete_cmd_postfix": "",
     "delete_cmd_prefix": "del ",
     "library": "var_list.py",
     "varRefreshCmd": "print(var_dic_list())"
    },
    "r": {
     "delete_cmd_postfix": ") ",
     "delete_cmd_prefix": "rm(",
     "library": "var_list.r",
     "varRefreshCmd": "cat(var_dic_list()) "
    }
   },
   "types_to_exclude": [
    "module",
    "function",
    "builtin_function_or_method",
    "instance",
    "_Feature"
   ],
   "window_display": false
  }
 },
 "nbformat": 4,
 "nbformat_minor": 4
}
