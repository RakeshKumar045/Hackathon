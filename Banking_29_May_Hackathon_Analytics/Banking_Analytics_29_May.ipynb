{
 "cells": [
  {
   "cell_type": "code",
   "execution_count": 19,
   "metadata": {},
   "outputs": [],
   "source": [
    "\n",
    "from sklearn.base import TransformerMixin, BaseEstimator\n",
    "\n",
    "from collections import Counter , defaultdict\n",
    "\n",
    "import pandas as pd\n",
    "\n",
    "pd.set_option('display.max_columns', None)\n",
    "\n",
    "\n",
    "from pandas import Series as s , DataFrame as df\n",
    "import numpy as np\n",
    "\n",
    "import seaborn as sns\n",
    "# import matplotlib.pyplot as plt\n",
    "\n",
    "# To ignore warnings\n",
    "import warnings\n",
    "warnings.filterwarnings(\"ignore\")\n",
    "\n",
    "from matplotlib import pyplot as plt, rcParams as rc\n",
    "\n",
    "\n",
    "%matplotlib inline\n",
    "rc[\"figure.figsize\"] = 10,6\n",
    "\n",
    "import datetime\n",
    "import datetime as dt\n",
    "\n",
    "from sklearn.model_selection  import StratifiedKFold\n",
    "from sklearn.decomposition import PCA\n",
    "\n",
    "from iteration_utilities import duplicates, unique_everseen\n",
    "\n",
    "import sys\n",
    "from itertools import groupby\n",
    "from operator import itemgetter\n",
    "from timeit import timeit\n",
    "\n",
    "\n",
    "## RandomOverSampler to handle imbalanced data\n",
    "# from imblearn.over_sampling import RandomOverSampler # over sampling method 2"
   ]
  },
  {
   "cell_type": "code",
   "execution_count": 44,
   "metadata": {},
   "outputs": [],
   "source": [
    "\n",
    "#Algorithm\n",
    "from sklearn.linear_model import LogisticRegression\n",
    "from sklearn.svm import SVC\n",
    "from sklearn.tree import DecisionTreeClassifier\n",
    "from sklearn.ensemble import RandomForestClassifier\n",
    "from xgboost import XGBClassifier\n",
    "\n",
    "from sklearn.naive_bayes import MultinomialNB\n",
    "\n",
    "from lightgbm import LGBMClassifier\n",
    "# from catboost import CatBoostClassifier\n",
    "\n",
    "#preprocessing\n",
    "from sklearn.preprocessing import LabelEncoder\n",
    "\n",
    "from sklearn.preprocessing import StandardScaler, normalize\n",
    "\n",
    "\n",
    "\n",
    "from sklearn.model_selection import train_test_split\n",
    "\n",
    "import lightgbm as lgb\n",
    "\n",
    "\n",
    "#Metrics\n",
    "from sklearn.metrics import accuracy_score, roc_auc_score, roc_curve, recall_score, precision_score\n",
    "from sklearn.metrics import confusion_matrix, classification_report, f1_score, precision_recall_fscore_support\n",
    "\n",
    "from sklearn.pipeline import Pipeline\n",
    "\n",
    "# GridSearchCV to find optimal min_samples_leaf\n",
    "from sklearn.model_selection import KFold\n",
    "from sklearn.model_selection import GridSearchCV"
   ]
  },
  {
   "cell_type": "code",
   "execution_count": null,
   "metadata": {},
   "outputs": [],
   "source": []
  },
  {
   "cell_type": "code",
   "execution_count": 241,
   "metadata": {},
   "outputs": [
    {
     "data": {
      "text/plain": [
       "((164309, 14), (109541, 13), (109541, 2))"
      ]
     },
     "execution_count": 241,
     "metadata": {},
     "output_type": "execute_result"
    }
   ],
   "source": [
    "train = pd.read_csv(\"train_fNxu4vz.csv\")\n",
    "\n",
    "test = pd.read_csv(\"test_fjtUOL8.csv\")\n",
    "submission = pd.read_csv(\"sample_submission_HSqiq1Q.csv\")\n",
    "\n",
    "train.shape, test.shape, submission.shape"
   ]
  },
  {
   "cell_type": "code",
   "execution_count": 242,
   "metadata": {},
   "outputs": [],
   "source": [
    "df = train.copy() \n",
    "df_test = test.copy() "
   ]
  },
  {
   "cell_type": "code",
   "execution_count": 243,
   "metadata": {},
   "outputs": [],
   "source": [
    "def get_percentage_miss_value(dataset):\n",
    "    higher_miss_value_column = []\n",
    "    total_miss_value_column = []\n",
    "    miss_threshold_value = 50\n",
    "    \n",
    "    for i in dataset.columns:\n",
    "        if dataset[i].isna().sum() > 1: \n",
    "            perectange_val = (dataset[i].isna().sum() / len(dataset)) * 100\n",
    "            total_miss_value_column.append(i)\n",
    "            print(\"Type \",dataset[i].dtype,\" Column-> \" , i, \", missing value : \",dataset[i].isna().sum() , \" & :         \", round(perectange_val,2) ,\" %\")\n",
    "                \n",
    "            if(perectange_val > miss_threshold_value):\n",
    "                higher_miss_value_column.append(i)\n",
    "            \n",
    "    print(\"\\n\\n\\n\")\n",
    "        \n",
    "    if higher_miss_value_column:\n",
    "        print(\"Higher Missing values in Columns for Delete : \", higher_miss_value_column)\n",
    "    else:\n",
    "        print(\"There are no Higher Column Missing values in Dataset\")\n",
    "    \n",
    "    return total_miss_value_column, higher_miss_value_column"
   ]
  },
  {
   "cell_type": "code",
   "execution_count": 244,
   "metadata": {
    "scrolled": true
   },
   "outputs": [],
   "source": [
    "# get_percentage_miss_value(df)"
   ]
  },
  {
   "cell_type": "code",
   "execution_count": 245,
   "metadata": {},
   "outputs": [],
   "source": [
    "# get_percentage_miss_value(df_test)"
   ]
  },
  {
   "cell_type": "code",
   "execution_count": null,
   "metadata": {},
   "outputs": [],
   "source": []
  },
  {
   "cell_type": "code",
   "execution_count": 246,
   "metadata": {},
   "outputs": [],
   "source": [
    "def check_cloumn_details_type_numberical(dataset):\n",
    "    for i in dataset.columns:\n",
    "        if (dataset[i].dtype == \"int\"):\n",
    "            print(\"Columns name :  \",i  )\n",
    "            \n",
    "            print(dict(Counter(dataset[i])))\n",
    "            print(\"*\"*100)\n",
    "            print(\"\\n\")\n",
    "            \n",
    "            \n",
    "def check_cloumn_details_type_float(dataset):\n",
    "    for i in dataset.columns:\n",
    "        if (dataset[i].dtype == \"float\"):\n",
    "            print(\"Columns name :  \",i  )\n",
    "            \n",
    "            print(dict(Counter(dataset[i])))\n",
    "            print(\"*\"*100)\n",
    "            print(\"\\n\")\n",
    "            \n",
    "\n",
    "def check_cloumn_details_type_categorical(dataset):\n",
    "    for i in dataset.columns:\n",
    "        if(dataset[i].dtype == \"object\"):\n",
    "            print(\"Columns name :  \",i  )\n",
    "            \n",
    "            print(dict(Counter(dataset[i])))\n",
    "            \n",
    "            print(\"*\"*100)\n",
    "            print(\"\\n\")\n",
    "            "
   ]
  },
  {
   "cell_type": "code",
   "execution_count": 247,
   "metadata": {},
   "outputs": [],
   "source": [
    "# check_cloumn_details_type_categorical(df)"
   ]
  },
  {
   "cell_type": "code",
   "execution_count": 248,
   "metadata": {},
   "outputs": [],
   "source": [
    "# check_cloumn_details_type_float(df)"
   ]
  },
  {
   "cell_type": "code",
   "execution_count": null,
   "metadata": {},
   "outputs": [],
   "source": []
  },
  {
   "cell_type": "code",
   "execution_count": 249,
   "metadata": {},
   "outputs": [],
   "source": [
    "#Label encoding\n",
    "def convert_to_numerical_label_encoding(dataset):\n",
    "    enc = LabelEncoder()\n",
    "    for i in dataset.columns:\n",
    "        if(dataset[i].dtype == \"object\"):\n",
    "            dataset[i] = enc.fit_transform(dataset[i])\n",
    "            \n",
    "    return dataset"
   ]
  },
  {
   "cell_type": "code",
   "execution_count": 250,
   "metadata": {},
   "outputs": [],
   "source": [
    "class DataFrameImputer(TransformerMixin):\n",
    "\n",
    "    def __init__(self):\n",
    "        \"\"\"Impute missing values.\n",
    "\n",
    "        Columns of dtype object are imputed with the most frequent value \n",
    "        in column.\n",
    "\n",
    "        Columns of other types are imputed with mean of column.\n",
    "\n",
    "        \"\"\"\n",
    "    def fit(self, X, y=None):\n",
    "\n",
    "        self.fill = pd.Series([X[c].value_counts().index[0] if X[c].dtype == np.dtype('O') else X[c].mean() for c in X],\n",
    "            index=X.columns)\n",
    "\n",
    "        return self\n",
    "\n",
    "    def transform(self, X, y=None):\n",
    "        return X.fillna(self.fill)\n",
    "    \n"
   ]
  },
  {
   "cell_type": "code",
   "execution_count": null,
   "metadata": {},
   "outputs": [],
   "source": []
  },
  {
   "cell_type": "code",
   "execution_count": 251,
   "metadata": {},
   "outputs": [],
   "source": [
    "def majority_imbalanced_dataset(dataset, target_col):\n",
    "    feature_columns = dataset.columns.tolist()\n",
    "    feature_columns = [c for c in feature_columns if c not in [target_col]]\n",
    "\n",
    "    X2_new = dataset[feature_columns]\n",
    "    Y2_new = dataset[target_col]\n",
    "\n",
    "    os =  RandomOverSampler(random_state=35)\n",
    "    X_feature_variables , y_output = os.fit_sample(X2_new, Y2_new)\n",
    "    \n",
    "    X_feature_variables[target_col] = y_output\n",
    "    \n",
    "    X_feature_variables = X_feature_variables.sample(frac = 1).reset_index(drop = True)\n",
    "    \n",
    "    return X_feature_variables"
   ]
  },
  {
   "cell_type": "code",
   "execution_count": null,
   "metadata": {},
   "outputs": [],
   "source": []
  },
  {
   "cell_type": "code",
   "execution_count": 252,
   "metadata": {},
   "outputs": [],
   "source": [
    "def standardscaler_preprocessing(dataset_train, dataset_test, num_col):\n",
    "    scaler = StandardScaler()\n",
    "   \n",
    "    dataset_train[num_col] = scaler.fit_transform(dataset_train[num_col])\n",
    "\n",
    "    dataset_test[num_col] = scaler.transform(dataset_test[num_col])\n",
    "    \n",
    "    return dataset_train, dataset_test"
   ]
  },
  {
   "cell_type": "code",
   "execution_count": null,
   "metadata": {},
   "outputs": [],
   "source": []
  },
  {
   "cell_type": "code",
   "execution_count": null,
   "metadata": {},
   "outputs": [],
   "source": []
  },
  {
   "cell_type": "markdown",
   "metadata": {},
   "source": [
    "# <font color ='orange' > Step 1: Rakesh EDA"
   ]
  },
  {
   "cell_type": "code",
   "execution_count": 253,
   "metadata": {},
   "outputs": [],
   "source": [
    "# get_percentage_miss_value(df)"
   ]
  },
  {
   "cell_type": "code",
   "execution_count": 254,
   "metadata": {
    "scrolled": true
   },
   "outputs": [
    {
     "name": "stdout",
     "output_type": "stream",
     "text": [
      "(164309, 14)\n",
      "(164309, 12)\n",
      "(109541, 13)\n",
      "(109541, 11)\n"
     ]
    }
   ],
   "source": [
    "print(df.shape)\n",
    "\n",
    "df1 = df.drop(columns = ['Loan_ID', 'Months_Since_Deliquency'])\n",
    "\n",
    "print(df1.shape)\n",
    "\n",
    "print(df_test.shape)\n",
    "\n",
    "df_test1 = df_test.drop(columns = ['Loan_ID', 'Months_Since_Deliquency'])\n",
    "\n",
    "print(df_test1.shape)"
   ]
  },
  {
   "cell_type": "code",
   "execution_count": 255,
   "metadata": {},
   "outputs": [],
   "source": [
    "df1['Loan_Amount_Requested'] = df1['Loan_Amount_Requested'].str.replace(',','').astype(np.float64)\n",
    "\n",
    "df_test1['Loan_Amount_Requested'] = df_test1['Loan_Amount_Requested'].str.replace(',','').astype(np.float64)"
   ]
  },
  {
   "cell_type": "code",
   "execution_count": 256,
   "metadata": {},
   "outputs": [],
   "source": [
    "#Missing value imputation for Train\n",
    "df1.Annual_Income.fillna(0, inplace = True) # Another option is to impute mean to checck model performance\n",
    "df1.Home_Owner.fillna('UNKNOWN', inplace = True)\n",
    "df1.Length_Employed.fillna('UNKNOWN', inplace = True)\n",
    "\n",
    "\n",
    "#Missing value imputation for test\n",
    "df_test1.Annual_Income.fillna(0, inplace = True) # Another option is to impute mean to checck model performance\n",
    "df_test1.Home_Owner.fillna('UNKNOWN', inplace = True)\n",
    "df_test1.Length_Employed.fillna('UNKNOWN', inplace = True)"
   ]
  },
  {
   "cell_type": "code",
   "execution_count": 257,
   "metadata": {},
   "outputs": [
    {
     "name": "stdout",
     "output_type": "stream",
     "text": [
      "Original Count - 164309 , Final Count - 161954 , Dropped - 2355 ( 0.9857 %)\n"
     ]
    }
   ],
   "source": [
    "#outlier managegment\n",
    "originalCount = len(df1)\n",
    "df1 = df1[df1['Annual_Income'] <= 225000]\n",
    "df1 = df1[df1['Number_Open_Accounts'] <= 30]\n",
    "df1 = df1[df1['Total_Accounts'] <= 68]\n",
    "\n",
    "finalCount  = len(df1)\n",
    "print('Original Count -', originalCount , ', Final Count -', finalCount,  ', Dropped -', originalCount - finalCount, '(', round(finalCount/originalCount,4), '%)') \n"
   ]
  },
  {
   "cell_type": "code",
   "execution_count": 258,
   "metadata": {},
   "outputs": [],
   "source": [
    "scaling_columns = [\"Loan_Amount_Requested\", \"Debt_To_Income\" ,\"Inquiries_Last_6Mo\" , \"Number_Open_Accounts\", \"Total_Accounts\", \n",
    "                  ]\n",
    "label_encoding_columns = [\"Length_Employed\", \"Home_Owner\" , \"Income_Verified\" , \"Purpose_Of_Loan\"]"
   ]
  },
  {
   "cell_type": "code",
   "execution_count": 259,
   "metadata": {},
   "outputs": [],
   "source": [
    "df4 = convert_to_numerical_label_encoding(df1.copy())\n",
    "df_test4 = convert_to_numerical_label_encoding(df_test1.copy())"
   ]
  },
  {
   "cell_type": "code",
   "execution_count": 260,
   "metadata": {},
   "outputs": [],
   "source": [
    "# df5, df_test5  = standardscaler_preprocessing(df4.copy(), df_test4.copy(), scale_col_2)"
   ]
  },
  {
   "cell_type": "code",
   "execution_count": 261,
   "metadata": {},
   "outputs": [],
   "source": [
    "X1 = df4.drop(\"Interest_Rate\", axis = 1)\n",
    "\n",
    "Y1 = df4.loc[:, [\"Interest_Rate\"]]"
   ]
  },
  {
   "cell_type": "code",
   "execution_count": 262,
   "metadata": {},
   "outputs": [],
   "source": [
    "# model_xgb = XGBClassifier(max_depth=5, objective='multi:softmax',n_estimators=300, num_classes=3)\n",
    "# model_xgb.fit(X1, Y1)\n",
    "# # y_pred_final = model_xgb.predict(df3_test)\n"
   ]
  },
  {
   "cell_type": "code",
   "execution_count": null,
   "metadata": {},
   "outputs": [],
   "source": []
  },
  {
   "cell_type": "code",
   "execution_count": 263,
   "metadata": {},
   "outputs": [
    {
     "name": "stdout",
     "output_type": "stream",
     "text": [
      "Wall time: 7.77 s\n"
     ]
    }
   ],
   "source": [
    "\n",
    "%%time\n",
    "model_lgb= LGBMClassifier(n_estimators= 400, objective='multi:softmax', num_classes=3)\n",
    "model_lgb.fit(X1,Y1)\n",
    "# y_pred_final = model_lgb.predict(df2_test)"
   ]
  },
  {
   "cell_type": "code",
   "execution_count": null,
   "metadata": {},
   "outputs": [],
   "source": []
  },
  {
   "cell_type": "code",
   "execution_count": 115,
   "metadata": {},
   "outputs": [
    {
     "name": "stdout",
     "output_type": "stream",
     "text": [
      "0:\tlearn: 1.0875212\ttotal: 79.4ms\tremaining: 15.8s\n",
      "1:\tlearn: 1.0780889\ttotal: 159ms\tremaining: 15.7s\n",
      "2:\tlearn: 1.0696121\ttotal: 256ms\tremaining: 16.8s\n",
      "3:\tlearn: 1.0619977\ttotal: 389ms\tremaining: 19.1s\n",
      "4:\tlearn: 1.0553271\ttotal: 556ms\tremaining: 21.7s\n",
      "5:\tlearn: 1.0495591\ttotal: 815ms\tremaining: 26.4s\n",
      "6:\tlearn: 1.0443790\ttotal: 1.07s\tremaining: 29.6s\n",
      "7:\tlearn: 1.0395901\ttotal: 1.31s\tremaining: 31.6s\n",
      "8:\tlearn: 1.0352500\ttotal: 1.47s\tremaining: 31.2s\n",
      "9:\tlearn: 1.0313301\ttotal: 1.61s\tremaining: 30.6s\n",
      "10:\tlearn: 1.0277080\ttotal: 1.72s\tremaining: 29.6s\n",
      "11:\tlearn: 1.0244920\ttotal: 1.85s\tremaining: 29.1s\n",
      "12:\tlearn: 1.0212182\ttotal: 1.97s\tremaining: 28.3s\n",
      "13:\tlearn: 1.0185376\ttotal: 2.05s\tremaining: 27.2s\n",
      "14:\tlearn: 1.0158645\ttotal: 2.15s\tremaining: 26.5s\n",
      "15:\tlearn: 1.0134250\ttotal: 2.27s\tremaining: 26.1s\n",
      "16:\tlearn: 1.0109586\ttotal: 2.35s\tremaining: 25.3s\n",
      "17:\tlearn: 1.0087585\ttotal: 2.45s\tremaining: 24.8s\n",
      "18:\tlearn: 1.0067336\ttotal: 2.53s\tremaining: 24.1s\n",
      "19:\tlearn: 1.0049122\ttotal: 2.64s\tremaining: 23.7s\n",
      "20:\tlearn: 1.0029801\ttotal: 2.72s\tremaining: 23.2s\n",
      "21:\tlearn: 1.0012590\ttotal: 2.8s\tremaining: 22.7s\n",
      "22:\tlearn: 0.9991087\ttotal: 2.88s\tremaining: 22.1s\n",
      "23:\tlearn: 0.9973632\ttotal: 2.98s\tremaining: 21.9s\n",
      "24:\tlearn: 0.9957494\ttotal: 3.13s\tremaining: 21.9s\n",
      "25:\tlearn: 0.9943749\ttotal: 3.24s\tremaining: 21.7s\n",
      "26:\tlearn: 0.9931043\ttotal: 3.35s\tremaining: 21.5s\n",
      "27:\tlearn: 0.9917569\ttotal: 3.45s\tremaining: 21.2s\n",
      "28:\tlearn: 0.9904087\ttotal: 3.55s\tremaining: 20.9s\n",
      "29:\tlearn: 0.9892402\ttotal: 3.69s\tremaining: 20.9s\n",
      "30:\tlearn: 0.9881811\ttotal: 3.79s\tremaining: 20.6s\n",
      "31:\tlearn: 0.9869948\ttotal: 3.85s\tremaining: 20.2s\n",
      "32:\tlearn: 0.9855429\ttotal: 3.94s\tremaining: 19.9s\n",
      "33:\tlearn: 0.9844751\ttotal: 4.09s\tremaining: 20s\n",
      "34:\tlearn: 0.9834156\ttotal: 4.24s\tremaining: 20s\n",
      "35:\tlearn: 0.9824649\ttotal: 4.32s\tremaining: 19.7s\n",
      "36:\tlearn: 0.9811649\ttotal: 4.4s\tremaining: 19.4s\n",
      "37:\tlearn: 0.9803071\ttotal: 4.53s\tremaining: 19.3s\n",
      "38:\tlearn: 0.9793926\ttotal: 4.68s\tremaining: 19.3s\n",
      "39:\tlearn: 0.9785066\ttotal: 4.8s\tremaining: 19.2s\n",
      "40:\tlearn: 0.9775692\ttotal: 4.91s\tremaining: 19s\n",
      "41:\tlearn: 0.9767641\ttotal: 4.99s\tremaining: 18.8s\n",
      "42:\tlearn: 0.9760034\ttotal: 5.12s\tremaining: 18.7s\n",
      "43:\tlearn: 0.9753047\ttotal: 5.26s\tremaining: 18.6s\n",
      "44:\tlearn: 0.9745592\ttotal: 5.4s\tremaining: 18.6s\n",
      "45:\tlearn: 0.9739302\ttotal: 5.48s\tremaining: 18.4s\n",
      "46:\tlearn: 0.9731673\ttotal: 5.57s\tremaining: 18.1s\n",
      "47:\tlearn: 0.9723688\ttotal: 5.68s\tremaining: 18s\n",
      "48:\tlearn: 0.9716145\ttotal: 5.75s\tremaining: 17.7s\n",
      "49:\tlearn: 0.9709376\ttotal: 5.83s\tremaining: 17.5s\n",
      "50:\tlearn: 0.9703405\ttotal: 5.92s\tremaining: 17.3s\n",
      "51:\tlearn: 0.9696808\ttotal: 6s\tremaining: 17.1s\n",
      "52:\tlearn: 0.9692039\ttotal: 6.08s\tremaining: 16.9s\n",
      "53:\tlearn: 0.9686222\ttotal: 6.17s\tremaining: 16.7s\n",
      "54:\tlearn: 0.9680759\ttotal: 6.27s\tremaining: 16.5s\n",
      "55:\tlearn: 0.9674124\ttotal: 6.35s\tremaining: 16.3s\n",
      "56:\tlearn: 0.9668100\ttotal: 6.44s\tremaining: 16.2s\n",
      "57:\tlearn: 0.9661900\ttotal: 6.52s\tremaining: 16s\n",
      "58:\tlearn: 0.9657507\ttotal: 6.59s\tremaining: 15.8s\n",
      "59:\tlearn: 0.9652980\ttotal: 6.68s\tremaining: 15.6s\n",
      "60:\tlearn: 0.9647679\ttotal: 6.78s\tremaining: 15.4s\n",
      "61:\tlearn: 0.9642486\ttotal: 6.84s\tremaining: 15.2s\n",
      "62:\tlearn: 0.9638662\ttotal: 6.92s\tremaining: 15.1s\n",
      "63:\tlearn: 0.9633472\ttotal: 7.01s\tremaining: 14.9s\n",
      "64:\tlearn: 0.9628967\ttotal: 7.08s\tremaining: 14.7s\n",
      "65:\tlearn: 0.9623749\ttotal: 7.18s\tremaining: 14.6s\n",
      "66:\tlearn: 0.9618694\ttotal: 7.25s\tremaining: 14.4s\n",
      "67:\tlearn: 0.9614183\ttotal: 7.36s\tremaining: 14.3s\n",
      "68:\tlearn: 0.9608931\ttotal: 7.47s\tremaining: 14.2s\n",
      "69:\tlearn: 0.9604310\ttotal: 7.56s\tremaining: 14s\n",
      "70:\tlearn: 0.9600250\ttotal: 7.69s\tremaining: 14s\n",
      "71:\tlearn: 0.9596588\ttotal: 7.87s\tremaining: 14s\n",
      "72:\tlearn: 0.9592760\ttotal: 7.99s\tremaining: 13.9s\n",
      "73:\tlearn: 0.9588891\ttotal: 8.07s\tremaining: 13.7s\n",
      "74:\tlearn: 0.9585639\ttotal: 8.16s\tremaining: 13.6s\n",
      "75:\tlearn: 0.9582819\ttotal: 8.25s\tremaining: 13.5s\n",
      "76:\tlearn: 0.9579049\ttotal: 8.33s\tremaining: 13.3s\n",
      "77:\tlearn: 0.9574558\ttotal: 8.41s\tremaining: 13.2s\n",
      "78:\tlearn: 0.9570820\ttotal: 8.5s\tremaining: 13s\n",
      "79:\tlearn: 0.9567160\ttotal: 8.58s\tremaining: 12.9s\n",
      "80:\tlearn: 0.9563678\ttotal: 8.67s\tremaining: 12.7s\n",
      "81:\tlearn: 0.9559629\ttotal: 8.77s\tremaining: 12.6s\n",
      "82:\tlearn: 0.9556495\ttotal: 8.85s\tremaining: 12.5s\n",
      "83:\tlearn: 0.9552348\ttotal: 8.92s\tremaining: 12.3s\n",
      "84:\tlearn: 0.9549663\ttotal: 9.03s\tremaining: 12.2s\n",
      "85:\tlearn: 0.9546255\ttotal: 9.12s\tremaining: 12.1s\n",
      "86:\tlearn: 0.9543576\ttotal: 9.19s\tremaining: 11.9s\n",
      "87:\tlearn: 0.9540068\ttotal: 9.28s\tremaining: 11.8s\n",
      "88:\tlearn: 0.9536676\ttotal: 9.37s\tremaining: 11.7s\n",
      "89:\tlearn: 0.9534526\ttotal: 9.49s\tremaining: 11.6s\n",
      "90:\tlearn: 0.9532082\ttotal: 9.63s\tremaining: 11.5s\n",
      "91:\tlearn: 0.9529969\ttotal: 9.72s\tremaining: 11.4s\n",
      "92:\tlearn: 0.9527437\ttotal: 9.81s\tremaining: 11.3s\n",
      "93:\tlearn: 0.9524833\ttotal: 9.9s\tremaining: 11.2s\n",
      "94:\tlearn: 0.9521517\ttotal: 10s\tremaining: 11.1s\n",
      "95:\tlearn: 0.9519172\ttotal: 10.2s\tremaining: 11.1s\n",
      "96:\tlearn: 0.9516308\ttotal: 10.4s\tremaining: 11s\n",
      "97:\tlearn: 0.9514144\ttotal: 10.5s\tremaining: 10.9s\n",
      "98:\tlearn: 0.9511750\ttotal: 10.6s\tremaining: 10.8s\n",
      "99:\tlearn: 0.9509418\ttotal: 10.7s\tremaining: 10.7s\n",
      "100:\tlearn: 0.9507398\ttotal: 10.8s\tremaining: 10.6s\n",
      "101:\tlearn: 0.9504869\ttotal: 10.9s\tremaining: 10.5s\n",
      "102:\tlearn: 0.9502920\ttotal: 11s\tremaining: 10.4s\n",
      "103:\tlearn: 0.9500588\ttotal: 11.1s\tremaining: 10.3s\n",
      "104:\tlearn: 0.9498297\ttotal: 11.2s\tremaining: 10.1s\n",
      "105:\tlearn: 0.9495979\ttotal: 11.3s\tremaining: 10s\n",
      "106:\tlearn: 0.9494301\ttotal: 11.4s\tremaining: 9.89s\n",
      "107:\tlearn: 0.9492217\ttotal: 11.4s\tremaining: 9.75s\n",
      "108:\tlearn: 0.9490288\ttotal: 11.5s\tremaining: 9.64s\n",
      "109:\tlearn: 0.9488959\ttotal: 11.7s\tremaining: 9.54s\n",
      "110:\tlearn: 0.9486856\ttotal: 11.7s\tremaining: 9.4s\n",
      "111:\tlearn: 0.9484252\ttotal: 11.8s\tremaining: 9.29s\n",
      "112:\tlearn: 0.9482132\ttotal: 11.9s\tremaining: 9.16s\n",
      "113:\tlearn: 0.9480023\ttotal: 12s\tremaining: 9.04s\n",
      "114:\tlearn: 0.9477973\ttotal: 12.1s\tremaining: 8.94s\n",
      "115:\tlearn: 0.9475834\ttotal: 12.2s\tremaining: 8.81s\n",
      "116:\tlearn: 0.9473962\ttotal: 12.2s\tremaining: 8.69s\n",
      "117:\tlearn: 0.9472514\ttotal: 12.3s\tremaining: 8.57s\n",
      "118:\tlearn: 0.9471035\ttotal: 12.4s\tremaining: 8.45s\n",
      "119:\tlearn: 0.9469680\ttotal: 12.5s\tremaining: 8.32s\n",
      "120:\tlearn: 0.9468149\ttotal: 12.6s\tremaining: 8.21s\n",
      "121:\tlearn: 0.9466371\ttotal: 12.6s\tremaining: 8.08s\n",
      "122:\tlearn: 0.9464224\ttotal: 12.7s\tremaining: 7.96s\n",
      "123:\tlearn: 0.9462898\ttotal: 12.8s\tremaining: 7.86s\n",
      "124:\tlearn: 0.9461276\ttotal: 12.9s\tremaining: 7.75s\n",
      "125:\tlearn: 0.9459431\ttotal: 13s\tremaining: 7.64s\n",
      "126:\tlearn: 0.9457991\ttotal: 13.1s\tremaining: 7.54s\n",
      "127:\tlearn: 0.9456654\ttotal: 13.2s\tremaining: 7.44s\n",
      "128:\tlearn: 0.9454888\ttotal: 13.3s\tremaining: 7.32s\n",
      "129:\tlearn: 0.9453530\ttotal: 13.4s\tremaining: 7.21s\n",
      "130:\tlearn: 0.9451657\ttotal: 13.5s\tremaining: 7.09s\n",
      "131:\tlearn: 0.9449792\ttotal: 13.5s\tremaining: 6.98s\n",
      "132:\tlearn: 0.9448071\ttotal: 13.6s\tremaining: 6.87s\n",
      "133:\tlearn: 0.9446870\ttotal: 13.7s\tremaining: 6.76s\n",
      "134:\tlearn: 0.9445435\ttotal: 13.8s\tremaining: 6.64s\n",
      "135:\tlearn: 0.9443697\ttotal: 13.9s\tremaining: 6.53s\n",
      "136:\tlearn: 0.9442029\ttotal: 14s\tremaining: 6.42s\n",
      "137:\tlearn: 0.9440657\ttotal: 14.1s\tremaining: 6.31s\n",
      "138:\tlearn: 0.9439482\ttotal: 14.1s\tremaining: 6.21s\n",
      "139:\tlearn: 0.9438095\ttotal: 14.2s\tremaining: 6.1s\n",
      "140:\tlearn: 0.9436685\ttotal: 14.3s\tremaining: 5.98s\n",
      "141:\tlearn: 0.9434736\ttotal: 14.4s\tremaining: 5.88s\n",
      "142:\tlearn: 0.9433760\ttotal: 14.5s\tremaining: 5.77s\n",
      "143:\tlearn: 0.9432547\ttotal: 14.6s\tremaining: 5.66s\n",
      "144:\tlearn: 0.9431300\ttotal: 14.6s\tremaining: 5.54s\n",
      "145:\tlearn: 0.9430020\ttotal: 14.7s\tremaining: 5.44s\n",
      "146:\tlearn: 0.9428671\ttotal: 14.8s\tremaining: 5.32s\n",
      "147:\tlearn: 0.9427424\ttotal: 14.8s\tremaining: 5.21s\n",
      "148:\tlearn: 0.9426141\ttotal: 14.9s\tremaining: 5.11s\n",
      "149:\tlearn: 0.9425177\ttotal: 15s\tremaining: 4.99s\n",
      "150:\tlearn: 0.9423991\ttotal: 15s\tremaining: 4.88s\n",
      "151:\tlearn: 0.9422989\ttotal: 15.1s\tremaining: 4.78s\n",
      "152:\tlearn: 0.9421721\ttotal: 15.2s\tremaining: 4.67s\n",
      "153:\tlearn: 0.9420772\ttotal: 15.3s\tremaining: 4.57s\n",
      "154:\tlearn: 0.9418906\ttotal: 15.4s\tremaining: 4.48s\n",
      "155:\tlearn: 0.9417710\ttotal: 15.6s\tremaining: 4.4s\n",
      "156:\tlearn: 0.9416866\ttotal: 15.7s\tremaining: 4.29s\n",
      "157:\tlearn: 0.9416072\ttotal: 15.8s\tremaining: 4.19s\n",
      "158:\tlearn: 0.9415097\ttotal: 15.8s\tremaining: 4.08s\n",
      "159:\tlearn: 0.9413665\ttotal: 15.9s\tremaining: 3.97s\n",
      "160:\tlearn: 0.9412523\ttotal: 16s\tremaining: 3.87s\n"
     ]
    },
    {
     "name": "stdout",
     "output_type": "stream",
     "text": [
      "161:\tlearn: 0.9411189\ttotal: 16s\tremaining: 3.76s\n",
      "162:\tlearn: 0.9410394\ttotal: 16.1s\tremaining: 3.66s\n",
      "163:\tlearn: 0.9409106\ttotal: 16.2s\tremaining: 3.55s\n",
      "164:\tlearn: 0.9407986\ttotal: 16.2s\tremaining: 3.45s\n",
      "165:\tlearn: 0.9406237\ttotal: 16.3s\tremaining: 3.34s\n",
      "166:\tlearn: 0.9405445\ttotal: 16.4s\tremaining: 3.24s\n",
      "167:\tlearn: 0.9403810\ttotal: 16.5s\tremaining: 3.13s\n",
      "168:\tlearn: 0.9402552\ttotal: 16.5s\tremaining: 3.03s\n",
      "169:\tlearn: 0.9401526\ttotal: 16.6s\tremaining: 2.93s\n",
      "170:\tlearn: 0.9400744\ttotal: 16.7s\tremaining: 2.83s\n",
      "171:\tlearn: 0.9399712\ttotal: 16.7s\tremaining: 2.73s\n",
      "172:\tlearn: 0.9398818\ttotal: 16.8s\tremaining: 2.63s\n",
      "173:\tlearn: 0.9397095\ttotal: 16.9s\tremaining: 2.52s\n",
      "174:\tlearn: 0.9396185\ttotal: 17s\tremaining: 2.42s\n",
      "175:\tlearn: 0.9395172\ttotal: 17s\tremaining: 2.32s\n",
      "176:\tlearn: 0.9394023\ttotal: 17.1s\tremaining: 2.22s\n",
      "177:\tlearn: 0.9392745\ttotal: 17.2s\tremaining: 2.13s\n",
      "178:\tlearn: 0.9391649\ttotal: 17.3s\tremaining: 2.02s\n",
      "179:\tlearn: 0.9390911\ttotal: 17.4s\tremaining: 1.93s\n",
      "180:\tlearn: 0.9389975\ttotal: 17.5s\tremaining: 1.83s\n",
      "181:\tlearn: 0.9388750\ttotal: 17.6s\tremaining: 1.74s\n",
      "182:\tlearn: 0.9387889\ttotal: 17.7s\tremaining: 1.65s\n",
      "183:\tlearn: 0.9386625\ttotal: 17.8s\tremaining: 1.55s\n",
      "184:\tlearn: 0.9385738\ttotal: 17.9s\tremaining: 1.45s\n",
      "185:\tlearn: 0.9384973\ttotal: 18s\tremaining: 1.35s\n",
      "186:\tlearn: 0.9383709\ttotal: 18s\tremaining: 1.25s\n",
      "187:\tlearn: 0.9382814\ttotal: 18.2s\tremaining: 1.16s\n",
      "188:\tlearn: 0.9382092\ttotal: 18.2s\tremaining: 1.06s\n",
      "189:\tlearn: 0.9381321\ttotal: 18.3s\tremaining: 964ms\n",
      "190:\tlearn: 0.9380609\ttotal: 18.5s\tremaining: 871ms\n",
      "191:\tlearn: 0.9379025\ttotal: 18.7s\tremaining: 779ms\n",
      "192:\tlearn: 0.9377924\ttotal: 18.8s\tremaining: 683ms\n",
      "193:\tlearn: 0.9376709\ttotal: 19s\tremaining: 588ms\n",
      "194:\tlearn: 0.9375762\ttotal: 19.1s\tremaining: 489ms\n",
      "195:\tlearn: 0.9374624\ttotal: 19.2s\tremaining: 391ms\n",
      "196:\tlearn: 0.9372969\ttotal: 19.3s\tremaining: 294ms\n",
      "197:\tlearn: 0.9372342\ttotal: 19.5s\tremaining: 197ms\n",
      "198:\tlearn: 0.9371714\ttotal: 19.6s\tremaining: 98.4ms\n",
      "199:\tlearn: 0.9370821\ttotal: 19.7s\tremaining: 0us\n"
     ]
    }
   ],
   "source": [
    "\n",
    "# model_catg= CatBoostClassifier(depth= 3,l2_leaf_reg= 1e-25,learning_rate= 0.07,\n",
    "#                                loss_function= 'MultiClass',n_estimators= 200)\n",
    "# model_catg.fit(X,Y)\n",
    "# y_pred_final = model_catg.predict(df3_test)"
   ]
  },
  {
   "cell_type": "code",
   "execution_count": 265,
   "metadata": {},
   "outputs": [
    {
     "data": {
      "text/plain": [
       "'File created successful'"
      ]
     },
     "execution_count": 265,
     "metadata": {},
     "output_type": "execute_result"
    }
   ],
   "source": [
    "create_submission_file(model_lgb , \"final_lgh_10\", df_test4)"
   ]
  },
  {
   "cell_type": "code",
   "execution_count": 67,
   "metadata": {},
   "outputs": [],
   "source": [
    "def create_submission_file(model, file_name, test_data):\n",
    "    \n",
    "    y_pred_final = model.predict(test_data)\n",
    "\n",
    "    submission_1 = submission.copy()\n",
    "    submission_1[\"Interest_Rate\"] = y_pred_final\n",
    "    submission_1.to_csv(file_name+'.csv', index=False)\n",
    "    \n",
    "    return \"File created successful\""
   ]
  },
  {
   "cell_type": "code",
   "execution_count": null,
   "metadata": {},
   "outputs": [],
   "source": []
  }
 ],
 "metadata": {
  "kernelspec": {
   "display_name": "Python 3",
   "language": "python",
   "name": "python3"
  },
  "language_info": {
   "codemirror_mode": {
    "name": "ipython",
    "version": 3
   },
   "file_extension": ".py",
   "mimetype": "text/x-python",
   "name": "python",
   "nbconvert_exporter": "python",
   "pygments_lexer": "ipython3",
   "version": "3.6.5"
  },
  "varInspector": {
   "cols": {
    "lenName": 16,
    "lenType": 16,
    "lenVar": 40
   },
   "kernels_config": {
    "python": {
     "delete_cmd_postfix": "",
     "delete_cmd_prefix": "del ",
     "library": "var_list.py",
     "varRefreshCmd": "print(var_dic_list())"
    },
    "r": {
     "delete_cmd_postfix": ") ",
     "delete_cmd_prefix": "rm(",
     "library": "var_list.r",
     "varRefreshCmd": "cat(var_dic_list()) "
    }
   },
   "types_to_exclude": [
    "module",
    "function",
    "builtin_function_or_method",
    "instance",
    "_Feature"
   ],
   "window_display": false
  }
 },
 "nbformat": 4,
 "nbformat_minor": 4
}
