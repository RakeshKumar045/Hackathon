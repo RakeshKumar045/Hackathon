{
 "cells": [
  {
   "cell_type": "code",
   "execution_count": 19,
   "metadata": {},
   "outputs": [],
   "source": [
    "\n",
    "from sklearn.base import TransformerMixin, BaseEstimator\n",
    "\n",
    "from collections import Counter , defaultdict\n",
    "\n",
    "import pandas as pd\n",
    "\n",
    "pd.set_option('display.max_columns', None)\n",
    "\n",
    "\n",
    "from pandas import Series as s , DataFrame as df\n",
    "import numpy as np\n",
    "\n",
    "import seaborn as sns\n",
    "# import matplotlib.pyplot as plt\n",
    "\n",
    "# To ignore warnings\n",
    "import warnings\n",
    "warnings.filterwarnings(\"ignore\")\n",
    "\n",
    "from matplotlib import pyplot as plt, rcParams as rc\n",
    "\n",
    "\n",
    "%matplotlib inline\n",
    "rc[\"figure.figsize\"] = 10,6\n",
    "\n",
    "import datetime\n",
    "import datetime as dt\n",
    "\n",
    "from sklearn.model_selection  import StratifiedKFold\n",
    "from sklearn.decomposition import PCA\n",
    "\n",
    "from iteration_utilities import duplicates, unique_everseen\n",
    "\n",
    "import sys\n",
    "from itertools import groupby\n",
    "from operator import itemgetter\n",
    "from timeit import timeit\n",
    "\n",
    "\n",
    "## RandomOverSampler to handle imbalanced data\n",
    "# from imblearn.over_sampling import RandomOverSampler # over sampling method 2"
   ]
  },
  {
   "cell_type": "code",
   "execution_count": 44,
   "metadata": {},
   "outputs": [],
   "source": [
    "\n",
    "#Algorithm\n",
    "from sklearn.linear_model import LogisticRegression\n",
    "from sklearn.svm import SVC\n",
    "from sklearn.tree import DecisionTreeClassifier\n",
    "from sklearn.ensemble import RandomForestClassifier\n",
    "from xgboost import XGBClassifier\n",
    "\n",
    "from sklearn.naive_bayes import MultinomialNB\n",
    "\n",
    "from lightgbm import LGBMClassifier\n",
    "# from catboost import CatBoostClassifier\n",
    "\n",
    "#preprocessing\n",
    "from sklearn.preprocessing import LabelEncoder\n",
    "\n",
    "from sklearn.preprocessing import StandardScaler, normalize\n",
    "\n",
    "\n",
    "\n",
    "from sklearn.model_selection import train_test_split\n",
    "\n",
    "import lightgbm as lgb\n",
    "\n",
    "\n",
    "#Metrics\n",
    "from sklearn.metrics import accuracy_score, roc_auc_score, roc_curve, recall_score, precision_score\n",
    "from sklearn.metrics import confusion_matrix, classification_report, f1_score, precision_recall_fscore_support\n",
    "\n",
    "from sklearn.pipeline import Pipeline\n",
    "\n",
    "# GridSearchCV to find optimal min_samples_leaf\n",
    "from sklearn.model_selection import KFold\n",
    "from sklearn.model_selection import GridSearchCV"
   ]
  },
  {
   "cell_type": "code",
   "execution_count": null,
   "metadata": {},
   "outputs": [],
   "source": []
  },
  {
   "cell_type": "code",
   "execution_count": 23,
   "metadata": {},
   "outputs": [
    {
     "data": {
      "text/plain": [
       "((164309, 14), (109541, 13), (109541, 2))"
      ]
     },
     "execution_count": 23,
     "metadata": {},
     "output_type": "execute_result"
    }
   ],
   "source": [
    "train = pd.read_csv(\"train_fNxu4vz.csv\")\n",
    "\n",
    "test = pd.read_csv(\"test_fjtUOL8.csv\")\n",
    "submission = pd.read_csv(\"sample_submission_HSqiq1Q.csv\")\n",
    "\n",
    "train.shape, test.shape, submission.shape"
   ]
  },
  {
   "cell_type": "code",
   "execution_count": 24,
   "metadata": {},
   "outputs": [],
   "source": [
    "df = train.copy() \n",
    "df_test = test.copy() "
   ]
  },
  {
   "cell_type": "code",
   "execution_count": 64,
   "metadata": {},
   "outputs": [],
   "source": [
    "def get_percentage_miss_value(dataset):\n",
    "    higher_miss_value_column = []\n",
    "    total_miss_value_column = []\n",
    "    miss_threshold_value = 50\n",
    "    \n",
    "    for i in dataset.columns:\n",
    "        if dataset[i].isna().sum() > 1: \n",
    "            perectange_val = (dataset[i].isna().sum() / len(dataset)) * 100\n",
    "            total_miss_value_column.append(i)\n",
    "            print(\"Type \",dataset[i].dtype,\" Column-> \" , i, \", missing value : \",dataset[i].isna().sum() , \" & :         \", round(perectange_val,2) ,\" %\")\n",
    "                \n",
    "            if(perectange_val > miss_threshold_value):\n",
    "                higher_miss_value_column.append(i)\n",
    "            \n",
    "    print(\"\\n\\n\\n\")\n",
    "        \n",
    "    if higher_miss_value_column:\n",
    "        print(\"Higher Missing values in Columns for Delete : \", higher_miss_value_column)\n",
    "    else:\n",
    "        print(\"There are no Higher Column Missing values in Dataset\")\n",
    "    \n",
    "    return total_miss_value_column, higher_miss_value_column"
   ]
  },
  {
   "cell_type": "code",
   "execution_count": 65,
   "metadata": {},
   "outputs": [
    {
     "name": "stdout",
     "output_type": "stream",
     "text": [
      "Type  object  Column->  Length_Employed , missing value :  7371  & :          4.49  %\n",
      "Type  object  Column->  Home_Owner , missing value :  25349  & :          15.43  %\n",
      "Type  float64  Column->  Annual_Income , missing value :  25102  & :          15.28  %\n",
      "Type  float64  Column->  Months_Since_Deliquency , missing value :  88379  & :          53.79  %\n",
      "\n",
      "\n",
      "\n",
      "\n",
      "Higher Missing values in Columns for Delete :  ['Months_Since_Deliquency']\n"
     ]
    },
    {
     "data": {
      "text/plain": [
       "(['Length_Employed', 'Home_Owner', 'Annual_Income', 'Months_Since_Deliquency'],\n",
       " ['Months_Since_Deliquency'])"
      ]
     },
     "execution_count": 65,
     "metadata": {},
     "output_type": "execute_result"
    }
   ],
   "source": [
    "get_percentage_miss_value(df)"
   ]
  },
  {
   "cell_type": "code",
   "execution_count": 57,
   "metadata": {},
   "outputs": [
    {
     "name": "stdout",
     "output_type": "stream",
     "text": [
      "Column->  Length_Employed , total no of missing value :  4936  & :          4.51  %\n",
      "Column->  Home_Owner , total no of missing value :  16711  & :          15.26  %\n",
      "Column->  Annual_Income , total no of missing value :  16898  & :          15.43  %\n",
      "Column->  Months_Since_Deliquency , total no of missing value :  58859  & :          53.73  %\n",
      "\n",
      "\n",
      "\n",
      "\n",
      "Higher Missing values in Columns for Delete :  ['Months_Since_Deliquency']\n"
     ]
    },
    {
     "data": {
      "text/plain": [
       "(['Length_Employed', 'Home_Owner', 'Annual_Income', 'Months_Since_Deliquency'],\n",
       " ['Months_Since_Deliquency'])"
      ]
     },
     "execution_count": 57,
     "metadata": {},
     "output_type": "execute_result"
    }
   ],
   "source": [
    "get_percentage_miss_value(df_test)"
   ]
  },
  {
   "cell_type": "code",
   "execution_count": null,
   "metadata": {},
   "outputs": [],
   "source": []
  },
  {
   "cell_type": "code",
   "execution_count": 28,
   "metadata": {},
   "outputs": [],
   "source": [
    "def check_cloumn_details_type_numberical(dataset):\n",
    "    for i in dataset.columns:\n",
    "        if (dataset[i].dtype == \"int\"):\n",
    "            print(\"Columns name :  \",i  )\n",
    "            \n",
    "            print(dict(Counter(dataset[i])))\n",
    "            print(\"*\"*100)\n",
    "            print(\"\\n\")\n",
    "            \n",
    "            \n",
    "def check_cloumn_details_type_float(dataset):\n",
    "    for i in dataset.columns:\n",
    "        if (dataset[i].dtype == \"float\"):\n",
    "            print(\"Columns name :  \",i  )\n",
    "            \n",
    "            print(dict(Counter(dataset[i])))\n",
    "            print(\"*\"*100)\n",
    "            print(\"\\n\")\n",
    "            \n",
    "\n",
    "def check_cloumn_details_type_categorical(dataset):\n",
    "    for i in dataset.columns:\n",
    "        if(dataset[i].dtype == \"object\"):\n",
    "            print(\"Columns name :  \",i  )\n",
    "            \n",
    "            print(dict(Counter(dataset[i])))\n",
    "            \n",
    "            print(\"*\"*100)\n",
    "            print(\"\\n\")\n",
    "            "
   ]
  },
  {
   "cell_type": "code",
   "execution_count": 29,
   "metadata": {},
   "outputs": [],
   "source": [
    "# check_cloumn_details_type_categorical(df)"
   ]
  },
  {
   "cell_type": "code",
   "execution_count": null,
   "metadata": {},
   "outputs": [],
   "source": []
  },
  {
   "cell_type": "code",
   "execution_count": 30,
   "metadata": {},
   "outputs": [],
   "source": [
    "# check_cloumn_details_type_float(df)"
   ]
  },
  {
   "cell_type": "code",
   "execution_count": null,
   "metadata": {},
   "outputs": [],
   "source": []
  },
  {
   "cell_type": "code",
   "execution_count": 31,
   "metadata": {},
   "outputs": [],
   "source": [
    "def visualize_histogram(dataset):\n",
    "    # plot histogram\n",
    "    plt.figure(figsize=(25, 9))  # figure size in ratio 16:9\n",
    "    features = dataset.columns  # list of columns name\n",
    "    for i, j in enumerate(features):\n",
    "        plt.subplot(3, 3, i + 1)  # create subplot for histogram\n",
    "        plt.title(\"Histogram of {}\".format(j), fontsize=15)  # title of histogram\n",
    "\n",
    "        bins = len(dataset[j].unique())  # bins for histogram\n",
    "        plt.hist(dataset[j], bins=bins, rwidth=0.8, edgecolor=\"y\", linewidth=2, )  # plot histogram\n",
    "\n",
    "    plt.subplots_adjust(hspace=0.5)  # space between horixontal axes (subplots)"
   ]
  },
  {
   "cell_type": "code",
   "execution_count": 32,
   "metadata": {
    "scrolled": true
   },
   "outputs": [],
   "source": [
    "# visualize_histogram(df)"
   ]
  },
  {
   "cell_type": "code",
   "execution_count": 33,
   "metadata": {},
   "outputs": [],
   "source": [
    "# visualize_numberical_values(df)"
   ]
  },
  {
   "cell_type": "code",
   "execution_count": 34,
   "metadata": {},
   "outputs": [],
   "source": [
    "#Label encoding\n",
    "def convert_to_numerical_label_encoding(dataset):\n",
    "    enc = LabelEncoder()\n",
    "    for i in dataset.columns:\n",
    "        if(dataset[i].dtype == \"object\"):\n",
    "            dataset[i] = enc.fit_transform(dataset[i])\n",
    "            \n",
    "    return dataset"
   ]
  },
  {
   "cell_type": "code",
   "execution_count": null,
   "metadata": {},
   "outputs": [],
   "source": []
  },
  {
   "cell_type": "code",
   "execution_count": null,
   "metadata": {},
   "outputs": [],
   "source": []
  },
  {
   "cell_type": "code",
   "execution_count": 35,
   "metadata": {},
   "outputs": [],
   "source": [
    "class DataFrameImputer(TransformerMixin):\n",
    "\n",
    "    def __init__(self):\n",
    "        \"\"\"Impute missing values.\n",
    "\n",
    "        Columns of dtype object are imputed with the most frequent value \n",
    "        in column.\n",
    "\n",
    "        Columns of other types are imputed with mean of column.\n",
    "\n",
    "        \"\"\"\n",
    "    def fit(self, X, y=None):\n",
    "\n",
    "        self.fill = pd.Series([X[c].value_counts().index[0] if X[c].dtype == np.dtype('O') else X[c].mean() for c in X],\n",
    "            index=X.columns)\n",
    "\n",
    "        return self\n",
    "\n",
    "    def transform(self, X, y=None):\n",
    "        return X.fillna(self.fill)\n",
    "    \n"
   ]
  },
  {
   "cell_type": "code",
   "execution_count": null,
   "metadata": {},
   "outputs": [],
   "source": []
  },
  {
   "cell_type": "code",
   "execution_count": 36,
   "metadata": {},
   "outputs": [],
   "source": [
    "def majority_imbalanced_dataset(dataset, target_col):\n",
    "    feature_columns = dataset.columns.tolist()\n",
    "    feature_columns = [c for c in feature_columns if c not in [target_col]]\n",
    "\n",
    "    X2_new = dataset[feature_columns]\n",
    "    Y2_new = dataset[target_col]\n",
    "\n",
    "    os =  RandomOverSampler(random_state=35)\n",
    "    X_feature_variables , y_output = os.fit_sample(X2_new, Y2_new)\n",
    "    \n",
    "    X_feature_variables[target_col] = y_output\n",
    "    \n",
    "    X_feature_variables = X_feature_variables.sample(frac = 1).reset_index(drop = True)\n",
    "    \n",
    "    return X_feature_variables"
   ]
  },
  {
   "cell_type": "code",
   "execution_count": null,
   "metadata": {},
   "outputs": [],
   "source": []
  },
  {
   "cell_type": "code",
   "execution_count": 37,
   "metadata": {},
   "outputs": [],
   "source": [
    "def standardscaler_preprocessing(dataset_train, dataset_test, num_col):\n",
    "    scaler = StandardScaler()\n",
    "   \n",
    "    dataset_train[num_col] = scaler.fit_transform(dataset_train[num_col])\n",
    "\n",
    "    dataset_test[num_col] = scaler.transform(dataset_test[num_col])\n",
    "    \n",
    "    return dataset_train, dataset_test"
   ]
  },
  {
   "cell_type": "code",
   "execution_count": null,
   "metadata": {},
   "outputs": [],
   "source": []
  },
  {
   "cell_type": "code",
   "execution_count": 38,
   "metadata": {
    "scrolled": true
   },
   "outputs": [
    {
     "data": {
      "text/html": [
       "<div>\n",
       "<style scoped>\n",
       "    .dataframe tbody tr th:only-of-type {\n",
       "        vertical-align: middle;\n",
       "    }\n",
       "\n",
       "    .dataframe tbody tr th {\n",
       "        vertical-align: top;\n",
       "    }\n",
       "\n",
       "    .dataframe thead th {\n",
       "        text-align: right;\n",
       "    }\n",
       "</style>\n",
       "<table border=\"1\" class=\"dataframe\">\n",
       "  <thead>\n",
       "    <tr style=\"text-align: right;\">\n",
       "      <th></th>\n",
       "      <th>Loan_ID</th>\n",
       "      <th>Loan_Amount_Requested</th>\n",
       "      <th>Length_Employed</th>\n",
       "      <th>Home_Owner</th>\n",
       "      <th>Annual_Income</th>\n",
       "      <th>Income_Verified</th>\n",
       "      <th>Purpose_Of_Loan</th>\n",
       "      <th>Debt_To_Income</th>\n",
       "      <th>Inquiries_Last_6Mo</th>\n",
       "      <th>Months_Since_Deliquency</th>\n",
       "      <th>Number_Open_Accounts</th>\n",
       "      <th>Total_Accounts</th>\n",
       "      <th>Gender</th>\n",
       "      <th>Interest_Rate</th>\n",
       "    </tr>\n",
       "  </thead>\n",
       "  <tbody>\n",
       "    <tr>\n",
       "      <th>0</th>\n",
       "      <td>10000001</td>\n",
       "      <td>7,000</td>\n",
       "      <td>&lt; 1 year</td>\n",
       "      <td>Rent</td>\n",
       "      <td>68000.0</td>\n",
       "      <td>not verified</td>\n",
       "      <td>car</td>\n",
       "      <td>18.37</td>\n",
       "      <td>0</td>\n",
       "      <td>NaN</td>\n",
       "      <td>9</td>\n",
       "      <td>14</td>\n",
       "      <td>Female</td>\n",
       "      <td>1</td>\n",
       "    </tr>\n",
       "    <tr>\n",
       "      <th>1</th>\n",
       "      <td>10000002</td>\n",
       "      <td>30,000</td>\n",
       "      <td>4 years</td>\n",
       "      <td>Mortgage</td>\n",
       "      <td>NaN</td>\n",
       "      <td>VERIFIED - income</td>\n",
       "      <td>debt_consolidation</td>\n",
       "      <td>14.93</td>\n",
       "      <td>0</td>\n",
       "      <td>17.0</td>\n",
       "      <td>12</td>\n",
       "      <td>24</td>\n",
       "      <td>Female</td>\n",
       "      <td>3</td>\n",
       "    </tr>\n",
       "    <tr>\n",
       "      <th>2</th>\n",
       "      <td>10000003</td>\n",
       "      <td>24,725</td>\n",
       "      <td>7 years</td>\n",
       "      <td>Mortgage</td>\n",
       "      <td>75566.4</td>\n",
       "      <td>VERIFIED - income source</td>\n",
       "      <td>debt_consolidation</td>\n",
       "      <td>15.88</td>\n",
       "      <td>0</td>\n",
       "      <td>NaN</td>\n",
       "      <td>12</td>\n",
       "      <td>16</td>\n",
       "      <td>Male</td>\n",
       "      <td>3</td>\n",
       "    </tr>\n",
       "    <tr>\n",
       "      <th>3</th>\n",
       "      <td>10000004</td>\n",
       "      <td>16,000</td>\n",
       "      <td>&lt; 1 year</td>\n",
       "      <td>NaN</td>\n",
       "      <td>56160.0</td>\n",
       "      <td>VERIFIED - income source</td>\n",
       "      <td>debt_consolidation</td>\n",
       "      <td>14.34</td>\n",
       "      <td>3</td>\n",
       "      <td>NaN</td>\n",
       "      <td>16</td>\n",
       "      <td>22</td>\n",
       "      <td>Male</td>\n",
       "      <td>3</td>\n",
       "    </tr>\n",
       "    <tr>\n",
       "      <th>4</th>\n",
       "      <td>10000005</td>\n",
       "      <td>17,000</td>\n",
       "      <td>8 years</td>\n",
       "      <td>Own</td>\n",
       "      <td>96000.0</td>\n",
       "      <td>VERIFIED - income source</td>\n",
       "      <td>debt_consolidation</td>\n",
       "      <td>22.17</td>\n",
       "      <td>1</td>\n",
       "      <td>NaN</td>\n",
       "      <td>19</td>\n",
       "      <td>30</td>\n",
       "      <td>Female</td>\n",
       "      <td>1</td>\n",
       "    </tr>\n",
       "  </tbody>\n",
       "</table>\n",
       "</div>"
      ],
      "text/plain": [
       "    Loan_ID Loan_Amount_Requested Length_Employed Home_Owner  Annual_Income  \\\n",
       "0  10000001                 7,000        < 1 year       Rent        68000.0   \n",
       "1  10000002                30,000         4 years   Mortgage            NaN   \n",
       "2  10000003                24,725         7 years   Mortgage        75566.4   \n",
       "3  10000004                16,000        < 1 year        NaN        56160.0   \n",
       "4  10000005                17,000         8 years        Own        96000.0   \n",
       "\n",
       "            Income_Verified     Purpose_Of_Loan  Debt_To_Income  \\\n",
       "0              not verified                 car           18.37   \n",
       "1         VERIFIED - income  debt_consolidation           14.93   \n",
       "2  VERIFIED - income source  debt_consolidation           15.88   \n",
       "3  VERIFIED - income source  debt_consolidation           14.34   \n",
       "4  VERIFIED - income source  debt_consolidation           22.17   \n",
       "\n",
       "   Inquiries_Last_6Mo  Months_Since_Deliquency  Number_Open_Accounts  \\\n",
       "0                   0                      NaN                     9   \n",
       "1                   0                     17.0                    12   \n",
       "2                   0                      NaN                    12   \n",
       "3                   3                      NaN                    16   \n",
       "4                   1                      NaN                    19   \n",
       "\n",
       "   Total_Accounts  Gender  Interest_Rate  \n",
       "0              14  Female              1  \n",
       "1              24  Female              3  \n",
       "2              16    Male              3  \n",
       "3              22    Male              3  \n",
       "4              30  Female              1  "
      ]
     },
     "execution_count": 38,
     "metadata": {},
     "output_type": "execute_result"
    }
   ],
   "source": [
    "df.head()"
   ]
  },
  {
   "cell_type": "code",
   "execution_count": 39,
   "metadata": {},
   "outputs": [
    {
     "name": "stdout",
     "output_type": "stream",
     "text": [
      "<class 'pandas.core.frame.DataFrame'>\n",
      "RangeIndex: 164309 entries, 0 to 164308\n",
      "Data columns (total 14 columns):\n",
      "Loan_ID                    164309 non-null int64\n",
      "Loan_Amount_Requested      164309 non-null object\n",
      "Length_Employed            156938 non-null object\n",
      "Home_Owner                 138960 non-null object\n",
      "Annual_Income              139207 non-null float64\n",
      "Income_Verified            164309 non-null object\n",
      "Purpose_Of_Loan            164309 non-null object\n",
      "Debt_To_Income             164309 non-null float64\n",
      "Inquiries_Last_6Mo         164309 non-null int64\n",
      "Months_Since_Deliquency    75930 non-null float64\n",
      "Number_Open_Accounts       164309 non-null int64\n",
      "Total_Accounts             164309 non-null int64\n",
      "Gender                     164309 non-null object\n",
      "Interest_Rate              164309 non-null int64\n",
      "dtypes: float64(3), int64(5), object(6)\n",
      "memory usage: 17.6+ MB\n"
     ]
    }
   ],
   "source": [
    "df.info()"
   ]
  },
  {
   "cell_type": "code",
   "execution_count": 40,
   "metadata": {},
   "outputs": [
    {
     "data": {
      "text/plain": [
       "Index(['Loan_ID', 'Loan_Amount_Requested', 'Length_Employed', 'Home_Owner',\n",
       "       'Annual_Income', 'Income_Verified', 'Purpose_Of_Loan', 'Debt_To_Income',\n",
       "       'Inquiries_Last_6Mo', 'Months_Since_Deliquency', 'Number_Open_Accounts',\n",
       "       'Total_Accounts', 'Gender', 'Interest_Rate'],\n",
       "      dtype='object')"
      ]
     },
     "execution_count": 40,
     "metadata": {},
     "output_type": "execute_result"
    }
   ],
   "source": [
    "df.columns"
   ]
  },
  {
   "cell_type": "code",
   "execution_count": 41,
   "metadata": {},
   "outputs": [
    {
     "data": {
      "text/plain": [
       "Counter({1: 33806, 3: 59923, 2: 70580})"
      ]
     },
     "execution_count": 41,
     "metadata": {},
     "output_type": "execute_result"
    }
   ],
   "source": [
    "Counter(df.Interest_Rate)"
   ]
  },
  {
   "cell_type": "code",
   "execution_count": 42,
   "metadata": {},
   "outputs": [
    {
     "data": {
      "text/html": [
       "<div>\n",
       "<style scoped>\n",
       "    .dataframe tbody tr th:only-of-type {\n",
       "        vertical-align: middle;\n",
       "    }\n",
       "\n",
       "    .dataframe tbody tr th {\n",
       "        vertical-align: top;\n",
       "    }\n",
       "\n",
       "    .dataframe thead th {\n",
       "        text-align: right;\n",
       "    }\n",
       "</style>\n",
       "<table border=\"1\" class=\"dataframe\">\n",
       "  <thead>\n",
       "    <tr style=\"text-align: right;\">\n",
       "      <th></th>\n",
       "      <th>Loan_ID</th>\n",
       "      <th>Annual_Income</th>\n",
       "      <th>Debt_To_Income</th>\n",
       "      <th>Inquiries_Last_6Mo</th>\n",
       "      <th>Months_Since_Deliquency</th>\n",
       "      <th>Number_Open_Accounts</th>\n",
       "      <th>Total_Accounts</th>\n",
       "      <th>Interest_Rate</th>\n",
       "    </tr>\n",
       "  </thead>\n",
       "  <tbody>\n",
       "    <tr>\n",
       "      <th>count</th>\n",
       "      <td>1.643090e+05</td>\n",
       "      <td>1.392070e+05</td>\n",
       "      <td>164309.000000</td>\n",
       "      <td>164309.000000</td>\n",
       "      <td>75930.000000</td>\n",
       "      <td>164309.000000</td>\n",
       "      <td>164309.000000</td>\n",
       "      <td>164309.000000</td>\n",
       "    </tr>\n",
       "    <tr>\n",
       "      <th>mean</th>\n",
       "      <td>1.008216e+07</td>\n",
       "      <td>7.333116e+04</td>\n",
       "      <td>17.207189</td>\n",
       "      <td>0.781698</td>\n",
       "      <td>34.229356</td>\n",
       "      <td>11.193818</td>\n",
       "      <td>25.067665</td>\n",
       "      <td>2.158951</td>\n",
       "    </tr>\n",
       "    <tr>\n",
       "      <th>std</th>\n",
       "      <td>4.743207e+04</td>\n",
       "      <td>6.037750e+04</td>\n",
       "      <td>7.845083</td>\n",
       "      <td>1.034747</td>\n",
       "      <td>21.761180</td>\n",
       "      <td>4.991813</td>\n",
       "      <td>11.583067</td>\n",
       "      <td>0.738364</td>\n",
       "    </tr>\n",
       "    <tr>\n",
       "      <th>min</th>\n",
       "      <td>1.000000e+07</td>\n",
       "      <td>4.000000e+03</td>\n",
       "      <td>0.000000</td>\n",
       "      <td>0.000000</td>\n",
       "      <td>0.000000</td>\n",
       "      <td>0.000000</td>\n",
       "      <td>2.000000</td>\n",
       "      <td>1.000000</td>\n",
       "    </tr>\n",
       "    <tr>\n",
       "      <th>25%</th>\n",
       "      <td>1.004108e+07</td>\n",
       "      <td>4.500000e+04</td>\n",
       "      <td>11.370000</td>\n",
       "      <td>0.000000</td>\n",
       "      <td>16.000000</td>\n",
       "      <td>8.000000</td>\n",
       "      <td>17.000000</td>\n",
       "      <td>2.000000</td>\n",
       "    </tr>\n",
       "    <tr>\n",
       "      <th>50%</th>\n",
       "      <td>1.008216e+07</td>\n",
       "      <td>6.300000e+04</td>\n",
       "      <td>16.840000</td>\n",
       "      <td>0.000000</td>\n",
       "      <td>31.000000</td>\n",
       "      <td>10.000000</td>\n",
       "      <td>23.000000</td>\n",
       "      <td>2.000000</td>\n",
       "    </tr>\n",
       "    <tr>\n",
       "      <th>75%</th>\n",
       "      <td>1.012323e+07</td>\n",
       "      <td>8.869750e+04</td>\n",
       "      <td>22.780000</td>\n",
       "      <td>1.000000</td>\n",
       "      <td>50.000000</td>\n",
       "      <td>14.000000</td>\n",
       "      <td>32.000000</td>\n",
       "      <td>3.000000</td>\n",
       "    </tr>\n",
       "    <tr>\n",
       "      <th>max</th>\n",
       "      <td>1.016431e+07</td>\n",
       "      <td>7.500000e+06</td>\n",
       "      <td>39.990000</td>\n",
       "      <td>8.000000</td>\n",
       "      <td>180.000000</td>\n",
       "      <td>76.000000</td>\n",
       "      <td>156.000000</td>\n",
       "      <td>3.000000</td>\n",
       "    </tr>\n",
       "  </tbody>\n",
       "</table>\n",
       "</div>"
      ],
      "text/plain": [
       "            Loan_ID  Annual_Income  Debt_To_Income  Inquiries_Last_6Mo  \\\n",
       "count  1.643090e+05   1.392070e+05   164309.000000       164309.000000   \n",
       "mean   1.008216e+07   7.333116e+04       17.207189            0.781698   \n",
       "std    4.743207e+04   6.037750e+04        7.845083            1.034747   \n",
       "min    1.000000e+07   4.000000e+03        0.000000            0.000000   \n",
       "25%    1.004108e+07   4.500000e+04       11.370000            0.000000   \n",
       "50%    1.008216e+07   6.300000e+04       16.840000            0.000000   \n",
       "75%    1.012323e+07   8.869750e+04       22.780000            1.000000   \n",
       "max    1.016431e+07   7.500000e+06       39.990000            8.000000   \n",
       "\n",
       "       Months_Since_Deliquency  Number_Open_Accounts  Total_Accounts  \\\n",
       "count             75930.000000         164309.000000   164309.000000   \n",
       "mean                 34.229356             11.193818       25.067665   \n",
       "std                  21.761180              4.991813       11.583067   \n",
       "min                   0.000000              0.000000        2.000000   \n",
       "25%                  16.000000              8.000000       17.000000   \n",
       "50%                  31.000000             10.000000       23.000000   \n",
       "75%                  50.000000             14.000000       32.000000   \n",
       "max                 180.000000             76.000000      156.000000   \n",
       "\n",
       "       Interest_Rate  \n",
       "count  164309.000000  \n",
       "mean        2.158951  \n",
       "std         0.738364  \n",
       "min         1.000000  \n",
       "25%         2.000000  \n",
       "50%         2.000000  \n",
       "75%         3.000000  \n",
       "max         3.000000  "
      ]
     },
     "execution_count": 42,
     "metadata": {},
     "output_type": "execute_result"
    }
   ],
   "source": [
    "df.describe()"
   ]
  },
  {
   "cell_type": "code",
   "execution_count": null,
   "metadata": {},
   "outputs": [],
   "source": []
  },
  {
   "cell_type": "markdown",
   "metadata": {},
   "source": [
    "# <font color ='orange' > Step 1: Rakesh EDA"
   ]
  },
  {
   "cell_type": "code",
   "execution_count": 155,
   "metadata": {},
   "outputs": [],
   "source": [
    "# get_percentage_miss_value(df)"
   ]
  },
  {
   "cell_type": "code",
   "execution_count": 214,
   "metadata": {},
   "outputs": [
    {
     "name": "stdout",
     "output_type": "stream",
     "text": [
      "(164309, 14)\n",
      "(164309, 12)\n",
      "(109541, 13)\n",
      "(109541, 11)\n"
     ]
    }
   ],
   "source": [
    "print(df.shape)\n",
    "\n",
    "df1 = df.drop(columns = ['Loan_ID', 'Months_Since_Deliquency'])\n",
    "\n",
    "print(df1.shape)\n",
    "\n",
    "print(df_test.shape)\n",
    "\n",
    "df_test1 = df_test.drop(columns = ['Loan_ID', 'Months_Since_Deliquency'])\n",
    "\n",
    "print(df_test1.shape)"
   ]
  },
  {
   "cell_type": "code",
   "execution_count": 215,
   "metadata": {},
   "outputs": [],
   "source": [
    "df1['Loan_Amount_Requested'] = df1['Loan_Amount_Requested'].str.replace(',','').astype(np.float64)\n",
    "\n",
    "df_test1['Loan_Amount_Requested'] = df_test1['Loan_Amount_Requested'].str.replace(',','').astype(np.float64)"
   ]
  },
  {
   "cell_type": "code",
   "execution_count": 216,
   "metadata": {},
   "outputs": [],
   "source": [
    "#Missing value imputation for Train\n",
    "df1.Annual_Income.fillna(0, inplace = True) # Another option is to impute mean to checck model performance\n",
    "df1.Home_Owner.fillna('UNKNOWN', inplace = True)\n",
    "df1.Length_Employed.fillna('UNKNOWN', inplace = True)\n",
    "\n",
    "\n",
    "#Missing value imputation for test\n",
    "df_test1.Annual_Income.fillna(0, inplace = True) # Another option is to impute mean to checck model performance\n",
    "df_test1.Home_Owner.fillna('UNKNOWN', inplace = True)\n",
    "df_test1.Length_Employed.fillna('UNKNOWN', inplace = True)"
   ]
  },
  {
   "cell_type": "code",
   "execution_count": 217,
   "metadata": {},
   "outputs": [
    {
     "name": "stdout",
     "output_type": "stream",
     "text": [
      "Original Count - 164309 , Final Count - 161954 , Dropped - 2355 ( 0.9857 %)\n"
     ]
    }
   ],
   "source": [
    "#outlier managegment\n",
    "originalCount = len(df1)\n",
    "df1 = df1[df1['Annual_Income'] <= 225000]\n",
    "df1 = df1[df1['Number_Open_Accounts'] <= 30]\n",
    "df1 = df1[df1['Total_Accounts'] <= 68]\n",
    "\n",
    "finalCount  = len(df1)\n",
    "print('Original Count -', originalCount , ', Final Count -', finalCount,  ', Dropped -', originalCount - finalCount, '(', round(finalCount/originalCount,4), '%)') \n"
   ]
  },
  {
   "cell_type": "code",
   "execution_count": 218,
   "metadata": {},
   "outputs": [],
   "source": [
    "scaling_columns = [\"Loan_Amount_Requested\", \"Debt_To_Income\" ,\"Inquiries_Last_6Mo\" , \"Number_Open_Accounts\", \"Total_Accounts\", \n",
    "                  ]\n",
    "label_encoding_columns = [\"Length_Employed\", \"Home_Owner\" , \"Income_Verified\" , \"Purpose_Of_Loan\"]"
   ]
  },
  {
   "cell_type": "code",
   "execution_count": 219,
   "metadata": {
    "scrolled": false
   },
   "outputs": [
    {
     "name": "stdout",
     "output_type": "stream",
     "text": [
      "<class 'pandas.core.frame.DataFrame'>\n",
      "Int64Index: 161954 entries, 0 to 164308\n",
      "Data columns (total 12 columns):\n",
      "Loan_Amount_Requested    161954 non-null float64\n",
      "Length_Employed          161954 non-null object\n",
      "Home_Owner               161954 non-null object\n",
      "Annual_Income            161954 non-null float64\n",
      "Income_Verified          161954 non-null object\n",
      "Purpose_Of_Loan          161954 non-null object\n",
      "Debt_To_Income           161954 non-null float64\n",
      "Inquiries_Last_6Mo       161954 non-null int64\n",
      "Number_Open_Accounts     161954 non-null int64\n",
      "Total_Accounts           161954 non-null int64\n",
      "Gender                   161954 non-null object\n",
      "Interest_Rate            161954 non-null int64\n",
      "dtypes: float64(3), int64(4), object(5)\n",
      "memory usage: 16.1+ MB\n"
     ]
    }
   ],
   "source": [
    "df1.info()"
   ]
  },
  {
   "cell_type": "code",
   "execution_count": 220,
   "metadata": {},
   "outputs": [],
   "source": [
    "scale_col_2 = [\"Loan_Amount_Requested\", \"Annual_Income\"]"
   ]
  },
  {
   "cell_type": "code",
   "execution_count": 221,
   "metadata": {},
   "outputs": [],
   "source": [
    "# df1.Annual_Income   .min(), df1.Total_Accounts                   .max()"
   ]
  },
  {
   "cell_type": "code",
   "execution_count": 228,
   "metadata": {},
   "outputs": [
    {
     "data": {
      "text/plain": [
       "Counter({'Female': 46482, 'Male': 115462})"
      ]
     },
     "execution_count": 228,
     "metadata": {},
     "output_type": "execute_result"
    }
   ],
   "source": [
    "Counter(df1.Gender )"
   ]
  },
  {
   "cell_type": "code",
   "execution_count": 223,
   "metadata": {},
   "outputs": [],
   "source": [
    "df20 = df1.copy()"
   ]
  },
  {
   "cell_type": "code",
   "execution_count": 201,
   "metadata": {
    "scrolled": true
   },
   "outputs": [
    {
     "data": {
      "text/plain": [
       "Counter({'Rent': 55586,\n",
       "         'Mortgage': 68964,\n",
       "         'UNKNOWN': 25025,\n",
       "         'Own': 12320,\n",
       "         'Other': 49,\n",
       "         'None': 10})"
      ]
     },
     "execution_count": 201,
     "metadata": {},
     "output_type": "execute_result"
    }
   ],
   "source": [
    "Counter(df20.Home_Owner)"
   ]
  },
  {
   "cell_type": "code",
   "execution_count": 229,
   "metadata": {
    "scrolled": true
   },
   "outputs": [],
   "source": [
    "df1 = df1[df1.Home_Owner != \"None\"]"
   ]
  },
  {
   "cell_type": "code",
   "execution_count": 230,
   "metadata": {},
   "outputs": [
    {
     "data": {
      "text/plain": [
       "(161944, 12)"
      ]
     },
     "execution_count": 230,
     "metadata": {},
     "output_type": "execute_result"
    }
   ],
   "source": [
    "df1.shape"
   ]
  },
  {
   "cell_type": "code",
   "execution_count": null,
   "metadata": {},
   "outputs": [],
   "source": []
  },
  {
   "cell_type": "code",
   "execution_count": 231,
   "metadata": {},
   "outputs": [],
   "source": [
    "df4 = convert_to_numerical_label_encoding(df1.copy())\n",
    "df_test4 = convert_to_numerical_label_encoding(df_test1.copy())"
   ]
  },
  {
   "cell_type": "code",
   "execution_count": null,
   "metadata": {},
   "outputs": [],
   "source": []
  },
  {
   "cell_type": "code",
   "execution_count": 188,
   "metadata": {},
   "outputs": [],
   "source": [
    "# df5, df_test5  = standardscaler_preprocessing(df4.copy(), df_test4.copy(), scale_col_2)"
   ]
  },
  {
   "cell_type": "code",
   "execution_count": null,
   "metadata": {},
   "outputs": [],
   "source": []
  },
  {
   "cell_type": "code",
   "execution_count": 232,
   "metadata": {},
   "outputs": [],
   "source": [
    "X1 = df4.drop(\"Interest_Rate\", axis = 1)\n",
    "\n",
    "Y1 = df4.loc[:, [\"Interest_Rate\"]]"
   ]
  },
  {
   "cell_type": "code",
   "execution_count": null,
   "metadata": {},
   "outputs": [],
   "source": []
  },
  {
   "cell_type": "code",
   "execution_count": null,
   "metadata": {},
   "outputs": [],
   "source": []
  },
  {
   "cell_type": "markdown",
   "metadata": {},
   "source": [
    "# <font color ='green' > Step 1: EDA"
   ]
  },
  {
   "cell_type": "code",
   "execution_count": 70,
   "metadata": {},
   "outputs": [],
   "source": [
    "# df = train.copy() \n",
    "# df_test = test.copy() "
   ]
  },
  {
   "cell_type": "code",
   "execution_count": 80,
   "metadata": {},
   "outputs": [
    {
     "name": "stdout",
     "output_type": "stream",
     "text": [
      "(164309, 14)\n",
      "(109541, 13)\n",
      "(164309, 13)\n",
      "(109541, 12)\n"
     ]
    }
   ],
   "source": [
    "# print(df.shape)\n",
    "# print(df_test.shape)\n",
    "\n",
    "# del df['Loan_ID']\n",
    "# del df_test['Loan_ID']\n",
    "\n",
    "# print(df.shape)\n",
    "# print(df_test.shape)"
   ]
  },
  {
   "cell_type": "code",
   "execution_count": 81,
   "metadata": {},
   "outputs": [],
   "source": [
    "# df['Loan_Amount_Requested'] = df['Loan_Amount_Requested'].str.replace(',','').astype(np.float64)\n",
    "\n",
    "# df_test['Loan_Amount_Requested'] = df_test['Loan_Amount_Requested'].str.replace(',','').astype(np.float64)"
   ]
  },
  {
   "cell_type": "code",
   "execution_count": 82,
   "metadata": {},
   "outputs": [],
   "source": [
    "# Counter(df.Loan_Amount_Requested)"
   ]
  },
  {
   "cell_type": "code",
   "execution_count": 79,
   "metadata": {},
   "outputs": [],
   "source": [
    "# #Missing value imputation for Train\n",
    "# df.Months_Since_Deliquency.fillna(0, inplace = True)\n",
    "# df.Annual_Income.fillna(0, inplace = True) # Another option is to impute mean to checck model performance\n",
    "# df.Home_Owner.fillna('msg2drop', inplace = True)\n",
    "# df.Length_Employed.fillna('msg2drop', inplace = True)\n",
    "\n",
    "\n",
    "# #Missing value imputation for test\n",
    "# df_test.Months_Since_Deliquency.fillna(0, inplace = True)\n",
    "# df_test.Annual_Income.fillna(0, inplace = True) # Another option is to impute mean to checck model performance\n",
    "# df_test.Home_Owner.fillna('msg2drop', inplace = True)\n",
    "# df_test.Length_Employed.fillna('msg2drop', inplace = True)"
   ]
  },
  {
   "cell_type": "code",
   "execution_count": 84,
   "metadata": {},
   "outputs": [
    {
     "name": "stdout",
     "output_type": "stream",
     "text": [
      "Original Count - 164309 , Final Count - 161232 , Dropped - 3077 ( 0.9813 %)\n"
     ]
    }
   ],
   "source": [
    "# #outlier managegment\n",
    "# originalCount = len(df)\n",
    "# df = df[df['Annual_Income'] <= 225000]\n",
    "# df = df[df['Months_Since_Deliquency'] <= 80]\n",
    "# df = df[df['Number_Open_Accounts'] <= 30]\n",
    "# df = df[df['Total_Accounts'] <= 68]\n",
    "\n",
    "# finalCount  = len(df)\n",
    "# print('Original Count -', originalCount , ', Final Count -', finalCount,  ', Dropped -', originalCount - finalCount, '(', round(finalCount/originalCount,4), '%)') \n"
   ]
  },
  {
   "cell_type": "code",
   "execution_count": 131,
   "metadata": {},
   "outputs": [
    {
     "data": {
      "text/plain": [
       "((161954, 12), (164309, 14))"
      ]
     },
     "execution_count": 131,
     "metadata": {},
     "output_type": "execute_result"
    }
   ],
   "source": [
    "df1.shape, df.shape"
   ]
  },
  {
   "cell_type": "code",
   "execution_count": 136,
   "metadata": {},
   "outputs": [],
   "source": [
    "df2 = df1.copy()\n",
    "df_test2 = df_test1.copy()"
   ]
  },
  {
   "cell_type": "code",
   "execution_count": 137,
   "metadata": {},
   "outputs": [],
   "source": [
    "dummy_col_list = ['Length_Employed', 'Home_Owner', 'Income_Verified', 'Purpose_Of_Loan', 'Gender']\n",
    "\n",
    "df2 = pd.get_dummies(df2, columns=dummy_col_list)\n",
    "\n",
    "\n",
    "df_test2 = pd.get_dummies(df_test2, columns=dummy_col_list)\n",
    "\n"
   ]
  },
  {
   "cell_type": "code",
   "execution_count": 138,
   "metadata": {},
   "outputs": [
    {
     "data": {
      "text/plain": [
       "((161954, 44), (109541, 43))"
      ]
     },
     "execution_count": 138,
     "metadata": {},
     "output_type": "execute_result"
    }
   ],
   "source": [
    "df2.shape, df_test2.shape"
   ]
  },
  {
   "cell_type": "code",
   "execution_count": 140,
   "metadata": {},
   "outputs": [],
   "source": [
    "#dropping 1 column from each category dummy variable list\n",
    "\n",
    "drop_col = ['Length_Employed_UNKNOWN','Home_Owner_UNKNOWN','Income_Verified_VERIFIED - income',\n",
    "            'Purpose_Of_Loan_renewable_energy','Gender_Male']\n",
    "\n",
    "df2 = df2.drop(drop_col, axis = 1)\n",
    "\n",
    "\n",
    "df_test2 = df_test2.drop(drop_col, axis = 1)\n"
   ]
  },
  {
   "cell_type": "code",
   "execution_count": 141,
   "metadata": {},
   "outputs": [
    {
     "data": {
      "text/plain": [
       "((161954, 39), (109541, 38))"
      ]
     },
     "execution_count": 141,
     "metadata": {},
     "output_type": "execute_result"
    }
   ],
   "source": [
    "df2.shape, df_test2.shape"
   ]
  },
  {
   "cell_type": "code",
   "execution_count": null,
   "metadata": {},
   "outputs": [],
   "source": []
  },
  {
   "cell_type": "code",
   "execution_count": null,
   "metadata": {},
   "outputs": [],
   "source": []
  },
  {
   "cell_type": "markdown",
   "metadata": {},
   "source": [
    "# <font color ='red' > Step 2: EDA"
   ]
  },
  {
   "cell_type": "code",
   "execution_count": 93,
   "metadata": {},
   "outputs": [],
   "source": [
    "# df.head()"
   ]
  },
  {
   "cell_type": "code",
   "execution_count": 131,
   "metadata": {},
   "outputs": [],
   "source": [
    "# df1[\"Type_of_Cab\"] = df1[\"Type_of_Cab\"].fillna(\"Unkown\")\n",
    "# df1[\"Confidence_Life_Style_Index\"] = df1[\"Confidence_Life_Style_Index\"].fillna(\"Unkown\")\n",
    "\n",
    "\n",
    "# df2 = DataFrameImputer().fit_transform(df.copy())\n",
    "# df2_test = DataFrameImputer().fit_transform(df_test.copy())\n",
    "\n",
    "\n",
    "# df3 = convert_to_numerical_label_encoding(df2.copy())\n",
    "# df2.shape, df3.shape\n",
    "\n",
    "# df3_test = convert_to_numerical_label_encoding(df2_test.copy())\n",
    "# df2_test.shape, df3_test.shape\n",
    "\n",
    "# df3 = majority_imbalanced_dataset(df3.copy(), \"Interest_Rate\")\n",
    "# Counter(df4.Surge_Pricing_Type)\n",
    "\n",
    "\n",
    "# scaling_col = [\"Annual_Income\", \"Debt_To_Income\",\"Inquiries_Last_6Mo\", \"Months_Since_Deliquency\", \n",
    "#               \"Number_Open_Accounts\", \"Total_Accounts\", \"Interest_Rate\"]\n",
    "\n",
    "\n",
    "# df4, df4_test = standardscaler_preprocessing(df3.copy(), df3_test.copy(), scaling_col)"
   ]
  },
  {
   "cell_type": "code",
   "execution_count": 117,
   "metadata": {},
   "outputs": [],
   "source": [
    "# def convert_numerical_data_type(dataset):\n",
    "#     col_list = list(dataset.select_dtypes(include =  [\"int\" , \"float\"] ).columns)\n",
    "#     for numberical_colname in col_list:\n",
    "#         dataset[numberical_colname] = pd.to_numeric(dataset[numberical_colname])  \n",
    "    \n",
    "#     return dataset"
   ]
  },
  {
   "cell_type": "code",
   "execution_count": null,
   "metadata": {},
   "outputs": [],
   "source": []
  },
  {
   "cell_type": "code",
   "execution_count": 99,
   "metadata": {},
   "outputs": [],
   "source": [
    "# df3 = convert_numerical_data_type(df.copy())\n",
    "# df3_test = convert_numerical_data_type(df_test.copy())"
   ]
  },
  {
   "cell_type": "code",
   "execution_count": 152,
   "metadata": {
    "scrolled": true
   },
   "outputs": [],
   "source": [
    "# df3.columns"
   ]
  },
  {
   "cell_type": "code",
   "execution_count": null,
   "metadata": {},
   "outputs": [],
   "source": []
  },
  {
   "cell_type": "code",
   "execution_count": 110,
   "metadata": {},
   "outputs": [],
   "source": [
    "# df3 = df.copy()\n",
    "# df3_test = df_test.copy()"
   ]
  },
  {
   "cell_type": "code",
   "execution_count": 148,
   "metadata": {},
   "outputs": [],
   "source": [
    "# X = df3.loc[:,fetaaure_col]\n",
    "X = df2.drop(\"Interest_Rate\", axis = 1)\n",
    "\n",
    "Y = df2.loc[:, [\"Interest_Rate\"]]"
   ]
  },
  {
   "cell_type": "code",
   "execution_count": 149,
   "metadata": {},
   "outputs": [
    {
     "data": {
      "text/plain": [
       "(161954, 161954, (161954, 38))"
      ]
     },
     "execution_count": 149,
     "metadata": {},
     "output_type": "execute_result"
    }
   ],
   "source": [
    "len(X) , len(Y), X.shape"
   ]
  },
  {
   "cell_type": "code",
   "execution_count": 237,
   "metadata": {},
   "outputs": [
    {
     "name": "stdout",
     "output_type": "stream",
     "text": [
      "[23:50:42] WARNING: C:\\Users\\Administrator\\workspace\\xgboost-win64_release_1.1.0\\src\\learner.cc:480: \n",
      "Parameters: { num_classes } might not be used.\n",
      "\n",
      "  This may not be accurate due to some parameters are only used in language bindings but\n",
      "  passed down to XGBoost core.  Or some parameters are not used but slip through this\n",
      "  verification. Please open an issue if you find above cases.\n",
      "\n",
      "\n"
     ]
    },
    {
     "data": {
      "text/plain": [
       "XGBClassifier(base_score=0.5, booster='gbtree', colsample_bylevel=1,\n",
       "       colsample_bynode=1, colsample_bytree=1, gamma=0, gpu_id=-1,\n",
       "       importance_type='gain', interaction_constraints='',\n",
       "       learning_rate=0.300000012, max_delta_step=0, max_depth=5,\n",
       "       min_child_weight=1, missing=nan, monotone_constraints='()',\n",
       "       n_estimators=300, n_jobs=0, num_classes=3, num_parallel_tree=1,\n",
       "       objective='multi:softprob', random_state=0, reg_alpha=0,\n",
       "       reg_lambda=1, scale_pos_weight=None, subsample=1,\n",
       "       tree_method='exact', validate_parameters=1, verbosity=None)"
      ]
     },
     "execution_count": 237,
     "metadata": {},
     "output_type": "execute_result"
    }
   ],
   "source": [
    "model_xgb = XGBClassifier(max_depth=5, objective='multi:softmax',n_estimators=300, num_classes=3)\n",
    "model_xgb.fit(X1, Y1)\n",
    "# y_pred_final = model_xgb.predict(df3_test)\n"
   ]
  },
  {
   "cell_type": "code",
   "execution_count": null,
   "metadata": {},
   "outputs": [],
   "source": []
  },
  {
   "cell_type": "code",
   "execution_count": null,
   "metadata": {},
   "outputs": [],
   "source": []
  },
  {
   "cell_type": "code",
   "execution_count": 233,
   "metadata": {},
   "outputs": [
    {
     "name": "stdout",
     "output_type": "stream",
     "text": [
      "Wall time: 7.84 s\n"
     ]
    }
   ],
   "source": [
    "\n",
    "%%time\n",
    "model_lgb= LGBMClassifier(n_estimators= 400, objective='multi:softmax', num_classes=3)\n",
    "model_lgb.fit(X1,Y1)\n",
    "# y_pred_final = model_lgb.predict(df2_test)"
   ]
  },
  {
   "cell_type": "code",
   "execution_count": null,
   "metadata": {},
   "outputs": [],
   "source": []
  },
  {
   "cell_type": "code",
   "execution_count": null,
   "metadata": {},
   "outputs": [],
   "source": []
  },
  {
   "cell_type": "code",
   "execution_count": 115,
   "metadata": {},
   "outputs": [
    {
     "name": "stdout",
     "output_type": "stream",
     "text": [
      "0:\tlearn: 1.0875212\ttotal: 79.4ms\tremaining: 15.8s\n",
      "1:\tlearn: 1.0780889\ttotal: 159ms\tremaining: 15.7s\n",
      "2:\tlearn: 1.0696121\ttotal: 256ms\tremaining: 16.8s\n",
      "3:\tlearn: 1.0619977\ttotal: 389ms\tremaining: 19.1s\n",
      "4:\tlearn: 1.0553271\ttotal: 556ms\tremaining: 21.7s\n",
      "5:\tlearn: 1.0495591\ttotal: 815ms\tremaining: 26.4s\n",
      "6:\tlearn: 1.0443790\ttotal: 1.07s\tremaining: 29.6s\n",
      "7:\tlearn: 1.0395901\ttotal: 1.31s\tremaining: 31.6s\n",
      "8:\tlearn: 1.0352500\ttotal: 1.47s\tremaining: 31.2s\n",
      "9:\tlearn: 1.0313301\ttotal: 1.61s\tremaining: 30.6s\n",
      "10:\tlearn: 1.0277080\ttotal: 1.72s\tremaining: 29.6s\n",
      "11:\tlearn: 1.0244920\ttotal: 1.85s\tremaining: 29.1s\n",
      "12:\tlearn: 1.0212182\ttotal: 1.97s\tremaining: 28.3s\n",
      "13:\tlearn: 1.0185376\ttotal: 2.05s\tremaining: 27.2s\n",
      "14:\tlearn: 1.0158645\ttotal: 2.15s\tremaining: 26.5s\n",
      "15:\tlearn: 1.0134250\ttotal: 2.27s\tremaining: 26.1s\n",
      "16:\tlearn: 1.0109586\ttotal: 2.35s\tremaining: 25.3s\n",
      "17:\tlearn: 1.0087585\ttotal: 2.45s\tremaining: 24.8s\n",
      "18:\tlearn: 1.0067336\ttotal: 2.53s\tremaining: 24.1s\n",
      "19:\tlearn: 1.0049122\ttotal: 2.64s\tremaining: 23.7s\n",
      "20:\tlearn: 1.0029801\ttotal: 2.72s\tremaining: 23.2s\n",
      "21:\tlearn: 1.0012590\ttotal: 2.8s\tremaining: 22.7s\n",
      "22:\tlearn: 0.9991087\ttotal: 2.88s\tremaining: 22.1s\n",
      "23:\tlearn: 0.9973632\ttotal: 2.98s\tremaining: 21.9s\n",
      "24:\tlearn: 0.9957494\ttotal: 3.13s\tremaining: 21.9s\n",
      "25:\tlearn: 0.9943749\ttotal: 3.24s\tremaining: 21.7s\n",
      "26:\tlearn: 0.9931043\ttotal: 3.35s\tremaining: 21.5s\n",
      "27:\tlearn: 0.9917569\ttotal: 3.45s\tremaining: 21.2s\n",
      "28:\tlearn: 0.9904087\ttotal: 3.55s\tremaining: 20.9s\n",
      "29:\tlearn: 0.9892402\ttotal: 3.69s\tremaining: 20.9s\n",
      "30:\tlearn: 0.9881811\ttotal: 3.79s\tremaining: 20.6s\n",
      "31:\tlearn: 0.9869948\ttotal: 3.85s\tremaining: 20.2s\n",
      "32:\tlearn: 0.9855429\ttotal: 3.94s\tremaining: 19.9s\n",
      "33:\tlearn: 0.9844751\ttotal: 4.09s\tremaining: 20s\n",
      "34:\tlearn: 0.9834156\ttotal: 4.24s\tremaining: 20s\n",
      "35:\tlearn: 0.9824649\ttotal: 4.32s\tremaining: 19.7s\n",
      "36:\tlearn: 0.9811649\ttotal: 4.4s\tremaining: 19.4s\n",
      "37:\tlearn: 0.9803071\ttotal: 4.53s\tremaining: 19.3s\n",
      "38:\tlearn: 0.9793926\ttotal: 4.68s\tremaining: 19.3s\n",
      "39:\tlearn: 0.9785066\ttotal: 4.8s\tremaining: 19.2s\n",
      "40:\tlearn: 0.9775692\ttotal: 4.91s\tremaining: 19s\n",
      "41:\tlearn: 0.9767641\ttotal: 4.99s\tremaining: 18.8s\n",
      "42:\tlearn: 0.9760034\ttotal: 5.12s\tremaining: 18.7s\n",
      "43:\tlearn: 0.9753047\ttotal: 5.26s\tremaining: 18.6s\n",
      "44:\tlearn: 0.9745592\ttotal: 5.4s\tremaining: 18.6s\n",
      "45:\tlearn: 0.9739302\ttotal: 5.48s\tremaining: 18.4s\n",
      "46:\tlearn: 0.9731673\ttotal: 5.57s\tremaining: 18.1s\n",
      "47:\tlearn: 0.9723688\ttotal: 5.68s\tremaining: 18s\n",
      "48:\tlearn: 0.9716145\ttotal: 5.75s\tremaining: 17.7s\n",
      "49:\tlearn: 0.9709376\ttotal: 5.83s\tremaining: 17.5s\n",
      "50:\tlearn: 0.9703405\ttotal: 5.92s\tremaining: 17.3s\n",
      "51:\tlearn: 0.9696808\ttotal: 6s\tremaining: 17.1s\n",
      "52:\tlearn: 0.9692039\ttotal: 6.08s\tremaining: 16.9s\n",
      "53:\tlearn: 0.9686222\ttotal: 6.17s\tremaining: 16.7s\n",
      "54:\tlearn: 0.9680759\ttotal: 6.27s\tremaining: 16.5s\n",
      "55:\tlearn: 0.9674124\ttotal: 6.35s\tremaining: 16.3s\n",
      "56:\tlearn: 0.9668100\ttotal: 6.44s\tremaining: 16.2s\n",
      "57:\tlearn: 0.9661900\ttotal: 6.52s\tremaining: 16s\n",
      "58:\tlearn: 0.9657507\ttotal: 6.59s\tremaining: 15.8s\n",
      "59:\tlearn: 0.9652980\ttotal: 6.68s\tremaining: 15.6s\n",
      "60:\tlearn: 0.9647679\ttotal: 6.78s\tremaining: 15.4s\n",
      "61:\tlearn: 0.9642486\ttotal: 6.84s\tremaining: 15.2s\n",
      "62:\tlearn: 0.9638662\ttotal: 6.92s\tremaining: 15.1s\n",
      "63:\tlearn: 0.9633472\ttotal: 7.01s\tremaining: 14.9s\n",
      "64:\tlearn: 0.9628967\ttotal: 7.08s\tremaining: 14.7s\n",
      "65:\tlearn: 0.9623749\ttotal: 7.18s\tremaining: 14.6s\n",
      "66:\tlearn: 0.9618694\ttotal: 7.25s\tremaining: 14.4s\n",
      "67:\tlearn: 0.9614183\ttotal: 7.36s\tremaining: 14.3s\n",
      "68:\tlearn: 0.9608931\ttotal: 7.47s\tremaining: 14.2s\n",
      "69:\tlearn: 0.9604310\ttotal: 7.56s\tremaining: 14s\n",
      "70:\tlearn: 0.9600250\ttotal: 7.69s\tremaining: 14s\n",
      "71:\tlearn: 0.9596588\ttotal: 7.87s\tremaining: 14s\n",
      "72:\tlearn: 0.9592760\ttotal: 7.99s\tremaining: 13.9s\n",
      "73:\tlearn: 0.9588891\ttotal: 8.07s\tremaining: 13.7s\n",
      "74:\tlearn: 0.9585639\ttotal: 8.16s\tremaining: 13.6s\n",
      "75:\tlearn: 0.9582819\ttotal: 8.25s\tremaining: 13.5s\n",
      "76:\tlearn: 0.9579049\ttotal: 8.33s\tremaining: 13.3s\n",
      "77:\tlearn: 0.9574558\ttotal: 8.41s\tremaining: 13.2s\n",
      "78:\tlearn: 0.9570820\ttotal: 8.5s\tremaining: 13s\n",
      "79:\tlearn: 0.9567160\ttotal: 8.58s\tremaining: 12.9s\n",
      "80:\tlearn: 0.9563678\ttotal: 8.67s\tremaining: 12.7s\n",
      "81:\tlearn: 0.9559629\ttotal: 8.77s\tremaining: 12.6s\n",
      "82:\tlearn: 0.9556495\ttotal: 8.85s\tremaining: 12.5s\n",
      "83:\tlearn: 0.9552348\ttotal: 8.92s\tremaining: 12.3s\n",
      "84:\tlearn: 0.9549663\ttotal: 9.03s\tremaining: 12.2s\n",
      "85:\tlearn: 0.9546255\ttotal: 9.12s\tremaining: 12.1s\n",
      "86:\tlearn: 0.9543576\ttotal: 9.19s\tremaining: 11.9s\n",
      "87:\tlearn: 0.9540068\ttotal: 9.28s\tremaining: 11.8s\n",
      "88:\tlearn: 0.9536676\ttotal: 9.37s\tremaining: 11.7s\n",
      "89:\tlearn: 0.9534526\ttotal: 9.49s\tremaining: 11.6s\n",
      "90:\tlearn: 0.9532082\ttotal: 9.63s\tremaining: 11.5s\n",
      "91:\tlearn: 0.9529969\ttotal: 9.72s\tremaining: 11.4s\n",
      "92:\tlearn: 0.9527437\ttotal: 9.81s\tremaining: 11.3s\n",
      "93:\tlearn: 0.9524833\ttotal: 9.9s\tremaining: 11.2s\n",
      "94:\tlearn: 0.9521517\ttotal: 10s\tremaining: 11.1s\n",
      "95:\tlearn: 0.9519172\ttotal: 10.2s\tremaining: 11.1s\n",
      "96:\tlearn: 0.9516308\ttotal: 10.4s\tremaining: 11s\n",
      "97:\tlearn: 0.9514144\ttotal: 10.5s\tremaining: 10.9s\n",
      "98:\tlearn: 0.9511750\ttotal: 10.6s\tremaining: 10.8s\n",
      "99:\tlearn: 0.9509418\ttotal: 10.7s\tremaining: 10.7s\n",
      "100:\tlearn: 0.9507398\ttotal: 10.8s\tremaining: 10.6s\n",
      "101:\tlearn: 0.9504869\ttotal: 10.9s\tremaining: 10.5s\n",
      "102:\tlearn: 0.9502920\ttotal: 11s\tremaining: 10.4s\n",
      "103:\tlearn: 0.9500588\ttotal: 11.1s\tremaining: 10.3s\n",
      "104:\tlearn: 0.9498297\ttotal: 11.2s\tremaining: 10.1s\n",
      "105:\tlearn: 0.9495979\ttotal: 11.3s\tremaining: 10s\n",
      "106:\tlearn: 0.9494301\ttotal: 11.4s\tremaining: 9.89s\n",
      "107:\tlearn: 0.9492217\ttotal: 11.4s\tremaining: 9.75s\n",
      "108:\tlearn: 0.9490288\ttotal: 11.5s\tremaining: 9.64s\n",
      "109:\tlearn: 0.9488959\ttotal: 11.7s\tremaining: 9.54s\n",
      "110:\tlearn: 0.9486856\ttotal: 11.7s\tremaining: 9.4s\n",
      "111:\tlearn: 0.9484252\ttotal: 11.8s\tremaining: 9.29s\n",
      "112:\tlearn: 0.9482132\ttotal: 11.9s\tremaining: 9.16s\n",
      "113:\tlearn: 0.9480023\ttotal: 12s\tremaining: 9.04s\n",
      "114:\tlearn: 0.9477973\ttotal: 12.1s\tremaining: 8.94s\n",
      "115:\tlearn: 0.9475834\ttotal: 12.2s\tremaining: 8.81s\n",
      "116:\tlearn: 0.9473962\ttotal: 12.2s\tremaining: 8.69s\n",
      "117:\tlearn: 0.9472514\ttotal: 12.3s\tremaining: 8.57s\n",
      "118:\tlearn: 0.9471035\ttotal: 12.4s\tremaining: 8.45s\n",
      "119:\tlearn: 0.9469680\ttotal: 12.5s\tremaining: 8.32s\n",
      "120:\tlearn: 0.9468149\ttotal: 12.6s\tremaining: 8.21s\n",
      "121:\tlearn: 0.9466371\ttotal: 12.6s\tremaining: 8.08s\n",
      "122:\tlearn: 0.9464224\ttotal: 12.7s\tremaining: 7.96s\n",
      "123:\tlearn: 0.9462898\ttotal: 12.8s\tremaining: 7.86s\n",
      "124:\tlearn: 0.9461276\ttotal: 12.9s\tremaining: 7.75s\n",
      "125:\tlearn: 0.9459431\ttotal: 13s\tremaining: 7.64s\n",
      "126:\tlearn: 0.9457991\ttotal: 13.1s\tremaining: 7.54s\n",
      "127:\tlearn: 0.9456654\ttotal: 13.2s\tremaining: 7.44s\n",
      "128:\tlearn: 0.9454888\ttotal: 13.3s\tremaining: 7.32s\n",
      "129:\tlearn: 0.9453530\ttotal: 13.4s\tremaining: 7.21s\n",
      "130:\tlearn: 0.9451657\ttotal: 13.5s\tremaining: 7.09s\n",
      "131:\tlearn: 0.9449792\ttotal: 13.5s\tremaining: 6.98s\n",
      "132:\tlearn: 0.9448071\ttotal: 13.6s\tremaining: 6.87s\n",
      "133:\tlearn: 0.9446870\ttotal: 13.7s\tremaining: 6.76s\n",
      "134:\tlearn: 0.9445435\ttotal: 13.8s\tremaining: 6.64s\n",
      "135:\tlearn: 0.9443697\ttotal: 13.9s\tremaining: 6.53s\n",
      "136:\tlearn: 0.9442029\ttotal: 14s\tremaining: 6.42s\n",
      "137:\tlearn: 0.9440657\ttotal: 14.1s\tremaining: 6.31s\n",
      "138:\tlearn: 0.9439482\ttotal: 14.1s\tremaining: 6.21s\n",
      "139:\tlearn: 0.9438095\ttotal: 14.2s\tremaining: 6.1s\n",
      "140:\tlearn: 0.9436685\ttotal: 14.3s\tremaining: 5.98s\n",
      "141:\tlearn: 0.9434736\ttotal: 14.4s\tremaining: 5.88s\n",
      "142:\tlearn: 0.9433760\ttotal: 14.5s\tremaining: 5.77s\n",
      "143:\tlearn: 0.9432547\ttotal: 14.6s\tremaining: 5.66s\n",
      "144:\tlearn: 0.9431300\ttotal: 14.6s\tremaining: 5.54s\n",
      "145:\tlearn: 0.9430020\ttotal: 14.7s\tremaining: 5.44s\n",
      "146:\tlearn: 0.9428671\ttotal: 14.8s\tremaining: 5.32s\n",
      "147:\tlearn: 0.9427424\ttotal: 14.8s\tremaining: 5.21s\n",
      "148:\tlearn: 0.9426141\ttotal: 14.9s\tremaining: 5.11s\n",
      "149:\tlearn: 0.9425177\ttotal: 15s\tremaining: 4.99s\n",
      "150:\tlearn: 0.9423991\ttotal: 15s\tremaining: 4.88s\n",
      "151:\tlearn: 0.9422989\ttotal: 15.1s\tremaining: 4.78s\n",
      "152:\tlearn: 0.9421721\ttotal: 15.2s\tremaining: 4.67s\n",
      "153:\tlearn: 0.9420772\ttotal: 15.3s\tremaining: 4.57s\n",
      "154:\tlearn: 0.9418906\ttotal: 15.4s\tremaining: 4.48s\n",
      "155:\tlearn: 0.9417710\ttotal: 15.6s\tremaining: 4.4s\n",
      "156:\tlearn: 0.9416866\ttotal: 15.7s\tremaining: 4.29s\n",
      "157:\tlearn: 0.9416072\ttotal: 15.8s\tremaining: 4.19s\n",
      "158:\tlearn: 0.9415097\ttotal: 15.8s\tremaining: 4.08s\n",
      "159:\tlearn: 0.9413665\ttotal: 15.9s\tremaining: 3.97s\n",
      "160:\tlearn: 0.9412523\ttotal: 16s\tremaining: 3.87s\n"
     ]
    },
    {
     "name": "stdout",
     "output_type": "stream",
     "text": [
      "161:\tlearn: 0.9411189\ttotal: 16s\tremaining: 3.76s\n",
      "162:\tlearn: 0.9410394\ttotal: 16.1s\tremaining: 3.66s\n",
      "163:\tlearn: 0.9409106\ttotal: 16.2s\tremaining: 3.55s\n",
      "164:\tlearn: 0.9407986\ttotal: 16.2s\tremaining: 3.45s\n",
      "165:\tlearn: 0.9406237\ttotal: 16.3s\tremaining: 3.34s\n",
      "166:\tlearn: 0.9405445\ttotal: 16.4s\tremaining: 3.24s\n",
      "167:\tlearn: 0.9403810\ttotal: 16.5s\tremaining: 3.13s\n",
      "168:\tlearn: 0.9402552\ttotal: 16.5s\tremaining: 3.03s\n",
      "169:\tlearn: 0.9401526\ttotal: 16.6s\tremaining: 2.93s\n",
      "170:\tlearn: 0.9400744\ttotal: 16.7s\tremaining: 2.83s\n",
      "171:\tlearn: 0.9399712\ttotal: 16.7s\tremaining: 2.73s\n",
      "172:\tlearn: 0.9398818\ttotal: 16.8s\tremaining: 2.63s\n",
      "173:\tlearn: 0.9397095\ttotal: 16.9s\tremaining: 2.52s\n",
      "174:\tlearn: 0.9396185\ttotal: 17s\tremaining: 2.42s\n",
      "175:\tlearn: 0.9395172\ttotal: 17s\tremaining: 2.32s\n",
      "176:\tlearn: 0.9394023\ttotal: 17.1s\tremaining: 2.22s\n",
      "177:\tlearn: 0.9392745\ttotal: 17.2s\tremaining: 2.13s\n",
      "178:\tlearn: 0.9391649\ttotal: 17.3s\tremaining: 2.02s\n",
      "179:\tlearn: 0.9390911\ttotal: 17.4s\tremaining: 1.93s\n",
      "180:\tlearn: 0.9389975\ttotal: 17.5s\tremaining: 1.83s\n",
      "181:\tlearn: 0.9388750\ttotal: 17.6s\tremaining: 1.74s\n",
      "182:\tlearn: 0.9387889\ttotal: 17.7s\tremaining: 1.65s\n",
      "183:\tlearn: 0.9386625\ttotal: 17.8s\tremaining: 1.55s\n",
      "184:\tlearn: 0.9385738\ttotal: 17.9s\tremaining: 1.45s\n",
      "185:\tlearn: 0.9384973\ttotal: 18s\tremaining: 1.35s\n",
      "186:\tlearn: 0.9383709\ttotal: 18s\tremaining: 1.25s\n",
      "187:\tlearn: 0.9382814\ttotal: 18.2s\tremaining: 1.16s\n",
      "188:\tlearn: 0.9382092\ttotal: 18.2s\tremaining: 1.06s\n",
      "189:\tlearn: 0.9381321\ttotal: 18.3s\tremaining: 964ms\n",
      "190:\tlearn: 0.9380609\ttotal: 18.5s\tremaining: 871ms\n",
      "191:\tlearn: 0.9379025\ttotal: 18.7s\tremaining: 779ms\n",
      "192:\tlearn: 0.9377924\ttotal: 18.8s\tremaining: 683ms\n",
      "193:\tlearn: 0.9376709\ttotal: 19s\tremaining: 588ms\n",
      "194:\tlearn: 0.9375762\ttotal: 19.1s\tremaining: 489ms\n",
      "195:\tlearn: 0.9374624\ttotal: 19.2s\tremaining: 391ms\n",
      "196:\tlearn: 0.9372969\ttotal: 19.3s\tremaining: 294ms\n",
      "197:\tlearn: 0.9372342\ttotal: 19.5s\tremaining: 197ms\n",
      "198:\tlearn: 0.9371714\ttotal: 19.6s\tremaining: 98.4ms\n",
      "199:\tlearn: 0.9370821\ttotal: 19.7s\tremaining: 0us\n"
     ]
    }
   ],
   "source": [
    "\n",
    "# model_catg= CatBoostClassifier(depth= 3,l2_leaf_reg= 1e-25,learning_rate= 0.07,\n",
    "#                                loss_function= 'MultiClass',n_estimators= 200)\n",
    "# model_catg.fit(X,Y)\n",
    "# y_pred_final = model_catg.predict(df3_test)"
   ]
  },
  {
   "cell_type": "code",
   "execution_count": 238,
   "metadata": {},
   "outputs": [
    {
     "data": {
      "text/plain": [
       "'File created successful'"
      ]
     },
     "execution_count": 238,
     "metadata": {},
     "output_type": "execute_result"
    }
   ],
   "source": [
    "create_submission_file(model_xgb , \"final_xgb_2\", df_test4)"
   ]
  },
  {
   "cell_type": "code",
   "execution_count": null,
   "metadata": {},
   "outputs": [],
   "source": []
  },
  {
   "cell_type": "code",
   "execution_count": null,
   "metadata": {},
   "outputs": [],
   "source": []
  },
  {
   "cell_type": "code",
   "execution_count": null,
   "metadata": {},
   "outputs": [],
   "source": []
  },
  {
   "cell_type": "code",
   "execution_count": null,
   "metadata": {},
   "outputs": [],
   "source": []
  },
  {
   "cell_type": "code",
   "execution_count": 116,
   "metadata": {},
   "outputs": [
    {
     "name": "stdout",
     "output_type": "stream",
     "text": [
      "(109541, 39) (109541, 2) 109541\n",
      "[2. 1. 2. ... 2. 3. 2.]\n",
      "(109541, 2)\n"
     ]
    },
    {
     "data": {
      "text/html": [
       "<div>\n",
       "<style scoped>\n",
       "    .dataframe tbody tr th:only-of-type {\n",
       "        vertical-align: middle;\n",
       "    }\n",
       "\n",
       "    .dataframe tbody tr th {\n",
       "        vertical-align: top;\n",
       "    }\n",
       "\n",
       "    .dataframe thead th {\n",
       "        text-align: right;\n",
       "    }\n",
       "</style>\n",
       "<table border=\"1\" class=\"dataframe\">\n",
       "  <thead>\n",
       "    <tr style=\"text-align: right;\">\n",
       "      <th></th>\n",
       "      <th>Loan_ID</th>\n",
       "      <th>Interest_Rate</th>\n",
       "    </tr>\n",
       "  </thead>\n",
       "  <tbody>\n",
       "    <tr>\n",
       "      <th>0</th>\n",
       "      <td>10164310</td>\n",
       "      <td>2.0</td>\n",
       "    </tr>\n",
       "    <tr>\n",
       "      <th>1</th>\n",
       "      <td>10164311</td>\n",
       "      <td>1.0</td>\n",
       "    </tr>\n",
       "    <tr>\n",
       "      <th>2</th>\n",
       "      <td>10164312</td>\n",
       "      <td>2.0</td>\n",
       "    </tr>\n",
       "  </tbody>\n",
       "</table>\n",
       "</div>"
      ],
      "text/plain": [
       "    Loan_ID  Interest_Rate\n",
       "0  10164310            2.0\n",
       "1  10164311            1.0\n",
       "2  10164312            2.0"
      ]
     },
     "execution_count": 116,
     "metadata": {},
     "output_type": "execute_result"
    }
   ],
   "source": [
    "submission_1 = submission.copy()\n",
    "\n",
    "print(df_test.shape , submission.shape , len(y_pred_final))\n",
    "\n",
    "submission_1[\"Interest_Rate\"] = y_pred_final\n",
    "\n",
    "print(submission_1[\"Interest_Rate\"].values)\n",
    "\n",
    "\n",
    "submission_1.to_csv('cgb_eda_1.csv', index=False)\n",
    "\n",
    "df_submission_1 = pd.read_csv('cgb_eda_1.csv')\n",
    "\n",
    "print(df_submission_1.shape)\n",
    "\n",
    "df_submission_1.head(3)"
   ]
  },
  {
   "cell_type": "code",
   "execution_count": null,
   "metadata": {},
   "outputs": [],
   "source": []
  },
  {
   "cell_type": "code",
   "execution_count": 67,
   "metadata": {},
   "outputs": [],
   "source": [
    "def create_submission_file(model, file_name, test_data):\n",
    "    \n",
    "    y_pred_final = model.predict(test_data)\n",
    "\n",
    "    submission_1 = submission.copy()\n",
    "    submission_1[\"Interest_Rate\"] = y_pred_final\n",
    "    submission_1.to_csv(file_name+'.csv', index=False)\n",
    "    \n",
    "    return \"File created successful\""
   ]
  },
  {
   "cell_type": "code",
   "execution_count": null,
   "metadata": {},
   "outputs": [],
   "source": []
  },
  {
   "cell_type": "code",
   "execution_count": null,
   "metadata": {},
   "outputs": [],
   "source": []
  },
  {
   "cell_type": "code",
   "execution_count": null,
   "metadata": {},
   "outputs": [],
   "source": []
  },
  {
   "cell_type": "code",
   "execution_count": 55,
   "metadata": {},
   "outputs": [
    {
     "data": {
      "text/plain": [
       "Counter({1: 33806, 3: 59923, 2: 70580})"
      ]
     },
     "execution_count": 55,
     "metadata": {},
     "output_type": "execute_result"
    }
   ],
   "source": [
    "Counter(df.Interest_Rate)"
   ]
  },
  {
   "cell_type": "code",
   "execution_count": 68,
   "metadata": {},
   "outputs": [
    {
     "data": {
      "text/plain": [
       "((109541, 13), (54768, 13))"
      ]
     },
     "execution_count": 68,
     "metadata": {},
     "output_type": "execute_result"
    }
   ],
   "source": [
    "df3[0:109541].shape  , df3[109541 : ].shape"
   ]
  },
  {
   "cell_type": "code",
   "execution_count": 69,
   "metadata": {},
   "outputs": [],
   "source": [
    "# X_feature_variables1 , y_output1 = majority_imbalanced_dataset(df3, \"Interest_Rate\")\n",
    "# df10 = X_feature_variables1.copy()\n",
    "# df10[\"Interest_Rate\"] = y_output1\n",
    "# df10.head()"
   ]
  },
  {
   "cell_type": "code",
   "execution_count": null,
   "metadata": {},
   "outputs": [],
   "source": []
  },
  {
   "cell_type": "code",
   "execution_count": null,
   "metadata": {},
   "outputs": [],
   "source": []
  },
  {
   "cell_type": "code",
   "execution_count": 175,
   "metadata": {},
   "outputs": [],
   "source": [
    "def get_accuracy(y_train_val , y_pred_val , dataset_type = \"Default\"):\n",
    "    \n",
    "    print(\" Dataset type is : \", dataset_type)\n",
    "    \n",
    "    print(\"\\n Accuracy Score     : \",round(accuracy_score(y_train_val, y_pred_val), 4) * 100)\n",
    "    \n",
    "#     print(\"\\n precision_accuracy : \",round(precision_score(y_train_val, y_pred_val), 4) * 100)\n",
    " \n",
    "#     print(\"\\n recall_accuracy    : \",round(recall_score(y_train_val, y_pred_val), 4) * 100)\n",
    "    \n",
    "#     print(\"\\n roc_auc_accuracy   : \",round(roc_auc_score(y_train_val, y_pred_val), 4) * 100)\n",
    "    \n",
    "#     print(\"\\n f1_score_accuracy  : \",round(f1_score(y_train_val, y_pred_val), 4) * 100)\n",
    "    \n",
    "#     print(\"\\n explained_variance  : \",round(explained_variance_score(y_train_val, y_pred_val), 4) * 100)\n",
    "    \n",
    "#     tn, fp, fn, tp = confusion_matrix(y_train_val, y_pred_val).ravel()\n",
    "    \n",
    "#     print(\"\\n Confusion Matrix TN : \", tn, \" FP : \", fp, \" FN : \", fn, \" TP : \", tp)\n",
    "    print(confusion_matrix(y_train_val, y_pred_val))"
   ]
  },
  {
   "cell_type": "code",
   "execution_count": 71,
   "metadata": {
    "scrolled": true
   },
   "outputs": [
    {
     "data": {
      "text/html": [
       "<div>\n",
       "<style scoped>\n",
       "    .dataframe tbody tr th:only-of-type {\n",
       "        vertical-align: middle;\n",
       "    }\n",
       "\n",
       "    .dataframe tbody tr th {\n",
       "        vertical-align: top;\n",
       "    }\n",
       "\n",
       "    .dataframe thead th {\n",
       "        text-align: right;\n",
       "    }\n",
       "</style>\n",
       "<table border=\"1\" class=\"dataframe\">\n",
       "  <thead>\n",
       "    <tr style=\"text-align: right;\">\n",
       "      <th></th>\n",
       "      <th>Loan_Amount_Requested</th>\n",
       "      <th>Length_Employed</th>\n",
       "      <th>Home_Owner</th>\n",
       "      <th>Annual_Income</th>\n",
       "      <th>Income_Verified</th>\n",
       "      <th>Purpose_Of_Loan</th>\n",
       "      <th>Debt_To_Income</th>\n",
       "      <th>Inquiries_Last_6Mo</th>\n",
       "      <th>Months_Since_Deliquency</th>\n",
       "      <th>Number_Open_Accounts</th>\n",
       "      <th>Total_Accounts</th>\n",
       "      <th>Gender</th>\n",
       "      <th>Interest_Rate</th>\n",
       "    </tr>\n",
       "  </thead>\n",
       "  <tbody>\n",
       "    <tr>\n",
       "      <th>0</th>\n",
       "      <td>1165</td>\n",
       "      <td>10</td>\n",
       "      <td>4</td>\n",
       "      <td>68000.000000</td>\n",
       "      <td>2</td>\n",
       "      <td>0</td>\n",
       "      <td>18.37</td>\n",
       "      <td>0</td>\n",
       "      <td>34.229356</td>\n",
       "      <td>9</td>\n",
       "      <td>14</td>\n",
       "      <td>0</td>\n",
       "      <td>1</td>\n",
       "    </tr>\n",
       "    <tr>\n",
       "      <th>1</th>\n",
       "      <td>904</td>\n",
       "      <td>4</td>\n",
       "      <td>0</td>\n",
       "      <td>73331.159434</td>\n",
       "      <td>0</td>\n",
       "      <td>2</td>\n",
       "      <td>14.93</td>\n",
       "      <td>0</td>\n",
       "      <td>17.000000</td>\n",
       "      <td>12</td>\n",
       "      <td>24</td>\n",
       "      <td>0</td>\n",
       "      <td>3</td>\n",
       "    </tr>\n",
       "    <tr>\n",
       "      <th>2</th>\n",
       "      <td>667</td>\n",
       "      <td>7</td>\n",
       "      <td>0</td>\n",
       "      <td>75566.400000</td>\n",
       "      <td>1</td>\n",
       "      <td>2</td>\n",
       "      <td>15.88</td>\n",
       "      <td>0</td>\n",
       "      <td>34.229356</td>\n",
       "      <td>12</td>\n",
       "      <td>16</td>\n",
       "      <td>1</td>\n",
       "      <td>3</td>\n",
       "    </tr>\n",
       "    <tr>\n",
       "      <th>3</th>\n",
       "      <td>279</td>\n",
       "      <td>10</td>\n",
       "      <td>0</td>\n",
       "      <td>56160.000000</td>\n",
       "      <td>1</td>\n",
       "      <td>2</td>\n",
       "      <td>14.34</td>\n",
       "      <td>3</td>\n",
       "      <td>34.229356</td>\n",
       "      <td>16</td>\n",
       "      <td>22</td>\n",
       "      <td>1</td>\n",
       "      <td>3</td>\n",
       "    </tr>\n",
       "    <tr>\n",
       "      <th>4</th>\n",
       "      <td>319</td>\n",
       "      <td>8</td>\n",
       "      <td>3</td>\n",
       "      <td>96000.000000</td>\n",
       "      <td>1</td>\n",
       "      <td>2</td>\n",
       "      <td>22.17</td>\n",
       "      <td>1</td>\n",
       "      <td>34.229356</td>\n",
       "      <td>19</td>\n",
       "      <td>30</td>\n",
       "      <td>0</td>\n",
       "      <td>1</td>\n",
       "    </tr>\n",
       "  </tbody>\n",
       "</table>\n",
       "</div>"
      ],
      "text/plain": [
       "   Loan_Amount_Requested  Length_Employed  Home_Owner  Annual_Income  \\\n",
       "0                   1165               10           4   68000.000000   \n",
       "1                    904                4           0   73331.159434   \n",
       "2                    667                7           0   75566.400000   \n",
       "3                    279               10           0   56160.000000   \n",
       "4                    319                8           3   96000.000000   \n",
       "\n",
       "   Income_Verified  Purpose_Of_Loan  Debt_To_Income  Inquiries_Last_6Mo  \\\n",
       "0                2                0           18.37                   0   \n",
       "1                0                2           14.93                   0   \n",
       "2                1                2           15.88                   0   \n",
       "3                1                2           14.34                   3   \n",
       "4                1                2           22.17                   1   \n",
       "\n",
       "   Months_Since_Deliquency  Number_Open_Accounts  Total_Accounts  Gender  \\\n",
       "0                34.229356                     9              14       0   \n",
       "1                17.000000                    12              24       0   \n",
       "2                34.229356                    12              16       1   \n",
       "3                34.229356                    16              22       1   \n",
       "4                34.229356                    19              30       0   \n",
       "\n",
       "   Interest_Rate  \n",
       "0              1  \n",
       "1              3  \n",
       "2              3  \n",
       "3              3  \n",
       "4              1  "
      ]
     },
     "execution_count": 71,
     "metadata": {},
     "output_type": "execute_result"
    }
   ],
   "source": [
    "df3.head()"
   ]
  },
  {
   "cell_type": "code",
   "execution_count": 72,
   "metadata": {},
   "outputs": [
    {
     "name": "stdout",
     "output_type": "stream",
     "text": [
      "<class 'pandas.core.frame.DataFrame'>\n",
      "RangeIndex: 164309 entries, 0 to 164308\n",
      "Data columns (total 13 columns):\n",
      " #   Column                   Non-Null Count   Dtype  \n",
      "---  ------                   --------------   -----  \n",
      " 0   Loan_Amount_Requested    164309 non-null  int64  \n",
      " 1   Length_Employed          164309 non-null  int64  \n",
      " 2   Home_Owner               164309 non-null  int64  \n",
      " 3   Annual_Income            164309 non-null  float64\n",
      " 4   Income_Verified          164309 non-null  int64  \n",
      " 5   Purpose_Of_Loan          164309 non-null  int64  \n",
      " 6   Debt_To_Income           164309 non-null  float64\n",
      " 7   Inquiries_Last_6Mo       164309 non-null  int64  \n",
      " 8   Months_Since_Deliquency  164309 non-null  float64\n",
      " 9   Number_Open_Accounts     164309 non-null  int64  \n",
      " 10  Total_Accounts           164309 non-null  int64  \n",
      " 11  Gender                   164309 non-null  int64  \n",
      " 12  Interest_Rate            164309 non-null  int64  \n",
      "dtypes: float64(3), int64(10)\n",
      "memory usage: 16.3 MB\n"
     ]
    }
   ],
   "source": [
    "df3.info()"
   ]
  },
  {
   "cell_type": "code",
   "execution_count": 74,
   "metadata": {},
   "outputs": [],
   "source": [
    "df_new = df3.copy()"
   ]
  },
  {
   "cell_type": "code",
   "execution_count": 78,
   "metadata": {},
   "outputs": [
    {
     "data": {
      "text/plain": [
       "((164309, 14), (164309, 13))"
      ]
     },
     "execution_count": 78,
     "metadata": {},
     "output_type": "execute_result"
    }
   ],
   "source": [
    "df10.shape , df3.shape"
   ]
  },
  {
   "cell_type": "code",
   "execution_count": 79,
   "metadata": {},
   "outputs": [],
   "source": [
    "new_test = df_new[0:109541]\n",
    "\n",
    "new_train = df_new[109541 : ] "
   ]
  },
  {
   "cell_type": "code",
   "execution_count": 80,
   "metadata": {},
   "outputs": [],
   "source": [
    "x1_train = new_train.iloc[:, :-1]\n",
    "y1_train = new_train.iloc[:, -1]"
   ]
  },
  {
   "cell_type": "code",
   "execution_count": 81,
   "metadata": {},
   "outputs": [],
   "source": [
    "x1_test = new_test.iloc[:, :-1]\n",
    "y1_test = new_test.iloc[:, -1]"
   ]
  },
  {
   "cell_type": "code",
   "execution_count": 82,
   "metadata": {},
   "outputs": [
    {
     "data": {
      "text/plain": [
       "Counter({1: 22618, 3: 39917, 2: 47006})"
      ]
     },
     "execution_count": 82,
     "metadata": {},
     "output_type": "execute_result"
    }
   ],
   "source": [
    "Counter(y1_test)"
   ]
  },
  {
   "cell_type": "code",
   "execution_count": 83,
   "metadata": {
    "scrolled": true
   },
   "outputs": [
    {
     "data": {
      "text/plain": [
       "XGBClassifier(base_score=0.5, booster='gbtree', colsample_bylevel=1,\n",
       "              colsample_bynode=1, colsample_bytree=1, gamma=0,\n",
       "              learning_rate=0.1, max_delta_step=0, max_depth=5,\n",
       "              min_child_weight=1, missing=None, n_estimators=100, n_jobs=1,\n",
       "              nthread=None, num_classes=3, objective='multi:softprob',\n",
       "              random_state=0, reg_alpha=0, reg_lambda=1, scale_pos_weight=1,\n",
       "              seed=None, silent=None, subsample=1, verbosity=1)"
      ]
     },
     "execution_count": 83,
     "metadata": {},
     "output_type": "execute_result"
    }
   ],
   "source": [
    "model_final = XGBClassifier(max_depth=5, objective='multi:softmax', num_classes=3)\n",
    "\n",
    "model_final.fit(x1_train, y1_train)"
   ]
  },
  {
   "cell_type": "code",
   "execution_count": null,
   "metadata": {},
   "outputs": [],
   "source": []
  },
  {
   "cell_type": "code",
   "execution_count": 176,
   "metadata": {
    "scrolled": false
   },
   "outputs": [
    {
     "name": "stdout",
     "output_type": "stream",
     "text": [
      " Dataset type is :  Test\n",
      "\n",
      " Accuracy Score     :  53.26\n",
      "[[ 5113 14086  3419]\n",
      " [ 3454 29854 13698]\n",
      " [  900 15640 23377]]\n"
     ]
    }
   ],
   "source": [
    "y_pred_final_new_test = model_final.predict(x1_test)\n",
    "get_accuracy(y1_test , y_pred_final_new_test ,  \"Test\")"
   ]
  },
  {
   "cell_type": "code",
   "execution_count": null,
   "metadata": {},
   "outputs": [],
   "source": []
  },
  {
   "cell_type": "code",
   "execution_count": 178,
   "metadata": {
    "scrolled": true
   },
   "outputs": [
    {
     "data": {
      "text/plain": [
       "0.532622488383345"
      ]
     },
     "execution_count": 178,
     "metadata": {},
     "output_type": "execute_result"
    }
   ],
   "source": [
    "precision_score(y1_test, y_pred_final_new_test, pos_label='positive',average='micro')"
   ]
  },
  {
   "cell_type": "code",
   "execution_count": 179,
   "metadata": {},
   "outputs": [
    {
     "data": {
      "text/plain": [
       "0.532622488383345"
      ]
     },
     "execution_count": 179,
     "metadata": {},
     "output_type": "execute_result"
    }
   ],
   "source": [
    "precision_score(y1_test, y_pred_final_new_test, pos_label='negative',average='micro')"
   ]
  },
  {
   "cell_type": "code",
   "execution_count": 181,
   "metadata": {},
   "outputs": [
    {
     "data": {
      "text/plain": [
       "0.532622488383345"
      ]
     },
     "execution_count": 181,
     "metadata": {},
     "output_type": "execute_result"
    }
   ],
   "source": [
    "recall_score(y1_test, y_pred_final_new_test, pos_label='positive',average='micro')"
   ]
  },
  {
   "cell_type": "code",
   "execution_count": 182,
   "metadata": {},
   "outputs": [
    {
     "data": {
      "text/plain": [
       "0.532622488383345"
      ]
     },
     "execution_count": 182,
     "metadata": {},
     "output_type": "execute_result"
    }
   ],
   "source": [
    "recall_score(y1_test, y_pred_final_new_test, pos_label='negative',average='micro')"
   ]
  },
  {
   "cell_type": "code",
   "execution_count": 86,
   "metadata": {},
   "outputs": [
    {
     "name": "stdout",
     "output_type": "stream",
     "text": [
      " Dataset type is :  Train\n",
      "\n",
      " Accuracy Score     :  56.93\n",
      "[[ 2909  6685  1594]\n",
      " [ 1507 15892  6175]\n",
      " [  418  7209 12379]]\n"
     ]
    }
   ],
   "source": [
    "y_pred_final_new_train = model_final.predict(x1_train)\n",
    "get_accuracy(y1_train , y_pred_final_new_train ,  \"Train\")"
   ]
  },
  {
   "cell_type": "code",
   "execution_count": null,
   "metadata": {},
   "outputs": [],
   "source": []
  },
  {
   "cell_type": "code",
   "execution_count": 88,
   "metadata": {},
   "outputs": [],
   "source": [
    "submission_new = submission.copy()\n",
    "\n",
    "submission_new[\"Interest_Rate\"] = y_pred_final_new_test\n",
    "\n",
    "\n",
    "submission_new.to_csv('second_submission.csv', index=False)\n"
   ]
  },
  {
   "cell_type": "code",
   "execution_count": null,
   "metadata": {},
   "outputs": [],
   "source": []
  }
 ],
 "metadata": {
  "kernelspec": {
   "display_name": "Python 3",
   "language": "python",
   "name": "python3"
  },
  "language_info": {
   "codemirror_mode": {
    "name": "ipython",
    "version": 3
   },
   "file_extension": ".py",
   "mimetype": "text/x-python",
   "name": "python",
   "nbconvert_exporter": "python",
   "pygments_lexer": "ipython3",
   "version": "3.6.5"
  },
  "varInspector": {
   "cols": {
    "lenName": 16,
    "lenType": 16,
    "lenVar": 40
   },
   "kernels_config": {
    "python": {
     "delete_cmd_postfix": "",
     "delete_cmd_prefix": "del ",
     "library": "var_list.py",
     "varRefreshCmd": "print(var_dic_list())"
    },
    "r": {
     "delete_cmd_postfix": ") ",
     "delete_cmd_prefix": "rm(",
     "library": "var_list.r",
     "varRefreshCmd": "cat(var_dic_list()) "
    }
   },
   "types_to_exclude": [
    "module",
    "function",
    "builtin_function_or_method",
    "instance",
    "_Feature"
   ],
   "window_display": false
  }
 },
 "nbformat": 4,
 "nbformat_minor": 4
}
