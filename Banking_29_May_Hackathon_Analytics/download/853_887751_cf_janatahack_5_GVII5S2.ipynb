{
 "cells": [
  {
   "cell_type": "code",
   "execution_count": 95,
   "metadata": {
    "colab": {
     "base_uri": "https://localhost:8080/",
     "height": 275
    },
    "colab_type": "code",
    "id": "-P618pK6-tBN",
    "outputId": "4505fb22-84c5-4600-9493-f926b704d6ba"
   },
   "outputs": [
    {
     "name": "stdout",
     "output_type": "stream",
     "text": [
      "Requirement already satisfied: catboost in /usr/local/lib/python3.6/dist-packages (0.23.2)\n",
      "Requirement already satisfied: numpy>=1.16.0 in /usr/local/lib/python3.6/dist-packages (from catboost) (1.18.4)\n",
      "Requirement already satisfied: plotly in /usr/local/lib/python3.6/dist-packages (from catboost) (4.4.1)\n",
      "Requirement already satisfied: six in /usr/local/lib/python3.6/dist-packages (from catboost) (1.12.0)\n",
      "Requirement already satisfied: graphviz in /usr/local/lib/python3.6/dist-packages (from catboost) (0.10.1)\n",
      "Requirement already satisfied: scipy in /usr/local/lib/python3.6/dist-packages (from catboost) (1.4.1)\n",
      "Requirement already satisfied: pandas>=0.24.0 in /usr/local/lib/python3.6/dist-packages (from catboost) (1.0.3)\n",
      "Requirement already satisfied: matplotlib in /usr/local/lib/python3.6/dist-packages (from catboost) (3.2.1)\n",
      "Requirement already satisfied: retrying>=1.3.3 in /usr/local/lib/python3.6/dist-packages (from plotly->catboost) (1.3.3)\n",
      "Requirement already satisfied: python-dateutil>=2.6.1 in /usr/local/lib/python3.6/dist-packages (from pandas>=0.24.0->catboost) (2.8.1)\n",
      "Requirement already satisfied: pytz>=2017.2 in /usr/local/lib/python3.6/dist-packages (from pandas>=0.24.0->catboost) (2018.9)\n",
      "Requirement already satisfied: cycler>=0.10 in /usr/local/lib/python3.6/dist-packages (from matplotlib->catboost) (0.10.0)\n",
      "Requirement already satisfied: kiwisolver>=1.0.1 in /usr/local/lib/python3.6/dist-packages (from matplotlib->catboost) (1.2.0)\n",
      "Requirement already satisfied: pyparsing!=2.0.4,!=2.1.2,!=2.1.6,>=2.0.1 in /usr/local/lib/python3.6/dist-packages (from matplotlib->catboost) (2.4.7)\n"
     ]
    }
   ],
   "source": [
    "pip install catboost"
   ]
  },
  {
   "cell_type": "code",
   "execution_count": 1,
   "metadata": {
    "colab": {
     "base_uri": "https://localhost:8080/",
     "height": 71
    },
    "colab_type": "code",
    "id": "hA9X_rVJsvL3",
    "outputId": "b627375a-a04f-4b04-db94-62a6f38a60fc"
   },
   "outputs": [
    {
     "name": "stderr",
     "output_type": "stream",
     "text": [
      "/usr/local/lib/python3.6/dist-packages/statsmodels/tools/_testing.py:19: FutureWarning: pandas.util.testing is deprecated. Use the functions in the public API at pandas.testing instead.\n",
      "  import pandas.util.testing as tm\n"
     ]
    }
   ],
   "source": [
    "import numpy as np\n",
    "import pandas as pd\n",
    "import matplotlib.pyplot as plt\n",
    "%matplotlib inline\n",
    "import seaborn as sns\n",
    "# roc curve and auc score\n",
    "from sklearn.datasets import make_classification\n",
    "# to visualise al the columns in the dataframe\n",
    "pd.pandas.set_option('display.max_columns', None)\n",
    "\n",
    "from sklearn.preprocessing import LabelEncoder\n",
    "# Import Dependencies\n",
    "%matplotlib inline\n",
    "\n",
    "# Start Python Imports\n",
    "import math, time, random, datetime\n",
    "\n",
    "from math import sqrt \n",
    "import lightgbm as lgb\n",
    "from sklearn.metrics import mean_squared_error \n",
    "from sklearn.model_selection import KFold, train_test_split\n",
    "\n",
    "\n",
    "\n",
    "plt.style.use('seaborn-whitegrid')\n",
    "\n",
    "# Preprocessing\n",
    "from sklearn.preprocessing import OneHotEncoder, LabelEncoder, label_binarize\n",
    "\n",
    "# Machine learning\n",
    "import catboost\n",
    "from sklearn.model_selection import train_test_split\n",
    "from sklearn import model_selection, tree, preprocessing, metrics, linear_model\n",
    "from sklearn.svm import LinearSVC\n",
    "from sklearn.ensemble import GradientBoostingClassifier\n",
    "from sklearn.neighbors import KNeighborsClassifier\n",
    "from sklearn.naive_bayes import GaussianNB\n",
    "from sklearn.linear_model import LinearRegression, LogisticRegression, SGDClassifier\n",
    "from sklearn.tree import DecisionTreeClassifier\n",
    "from catboost import CatBoostClassifier, Pool, cv\n",
    "\n",
    "# Let's be rebels and ignore warnings for now\n",
    "import warnings\n",
    "warnings.filterwarnings('ignore')"
   ]
  },
  {
   "cell_type": "code",
   "execution_count": 0,
   "metadata": {
    "colab": {},
    "colab_type": "code",
    "id": "ZYCYqQ3mtjD4"
   },
   "outputs": [],
   "source": [
    "df=pd.read_csv('/content/train_fNxu4vz.csv')"
   ]
  },
  {
   "cell_type": "code",
   "execution_count": 0,
   "metadata": {
    "colab": {},
    "colab_type": "code",
    "id": "9GeY-DdCtfoC"
   },
   "outputs": [],
   "source": [
    "df1=pd.read_csv('/content/test_fjtUOL8.csv')"
   ]
  },
  {
   "cell_type": "code",
   "execution_count": 4,
   "metadata": {
    "colab": {
     "base_uri": "https://localhost:8080/",
     "height": 34
    },
    "colab_type": "code",
    "id": "r6M4EjqTxSj9",
    "outputId": "ad6513dc-e89c-48ee-9a95-78ed011af4fc"
   },
   "outputs": [
    {
     "data": {
      "text/plain": [
       "(164309, 14)"
      ]
     },
     "execution_count": 4,
     "metadata": {
      "tags": []
     },
     "output_type": "execute_result"
    }
   ],
   "source": [
    "df.shape"
   ]
  },
  {
   "cell_type": "code",
   "execution_count": 5,
   "metadata": {
    "colab": {
     "base_uri": "https://localhost:8080/",
     "height": 34
    },
    "colab_type": "code",
    "id": "oK6LlAOswieG",
    "outputId": "d83b9c30-4097-407b-8463-9680eda8dbe4"
   },
   "outputs": [
    {
     "data": {
      "text/plain": [
       "(109541, 13)"
      ]
     },
     "execution_count": 5,
     "metadata": {
      "tags": []
     },
     "output_type": "execute_result"
    }
   ],
   "source": [
    "df1.shape"
   ]
  },
  {
   "cell_type": "code",
   "execution_count": 6,
   "metadata": {
    "colab": {
     "base_uri": "https://localhost:8080/",
     "height": 272
    },
    "colab_type": "code",
    "id": "OHidavGP-o2U",
    "outputId": "905ace5f-b729-4ec0-e611-81ae397abb44"
   },
   "outputs": [
    {
     "data": {
      "text/plain": [
       "Loan_ID                        0\n",
       "Loan_Amount_Requested          0\n",
       "Length_Employed             7371\n",
       "Home_Owner                 25349\n",
       "Annual_Income              25102\n",
       "Income_Verified                0\n",
       "Purpose_Of_Loan                0\n",
       "Debt_To_Income                 0\n",
       "Inquiries_Last_6Mo             0\n",
       "Months_Since_Deliquency    88379\n",
       "Number_Open_Accounts           0\n",
       "Total_Accounts                 0\n",
       "Gender                         0\n",
       "Interest_Rate                  0\n",
       "dtype: int64"
      ]
     },
     "execution_count": 6,
     "metadata": {
      "tags": []
     },
     "output_type": "execute_result"
    }
   ],
   "source": [
    "df.isnull().sum()"
   ]
  },
  {
   "cell_type": "code",
   "execution_count": 7,
   "metadata": {
    "colab": {
     "base_uri": "https://localhost:8080/",
     "height": 292
    },
    "colab_type": "code",
    "id": "OjtoeCTguNzL",
    "outputId": "30fb8528-56b9-4da0-cdc8-b55b7c3c9e2a"
   },
   "outputs": [
    {
     "data": {
      "text/html": [
       "<div>\n",
       "<style scoped>\n",
       "    .dataframe tbody tr th:only-of-type {\n",
       "        vertical-align: middle;\n",
       "    }\n",
       "\n",
       "    .dataframe tbody tr th {\n",
       "        vertical-align: top;\n",
       "    }\n",
       "\n",
       "    .dataframe thead th {\n",
       "        text-align: right;\n",
       "    }\n",
       "</style>\n",
       "<table border=\"1\" class=\"dataframe\">\n",
       "  <thead>\n",
       "    <tr style=\"text-align: right;\">\n",
       "      <th></th>\n",
       "      <th>Loan_ID</th>\n",
       "      <th>Loan_Amount_Requested</th>\n",
       "      <th>Length_Employed</th>\n",
       "      <th>Home_Owner</th>\n",
       "      <th>Annual_Income</th>\n",
       "      <th>Income_Verified</th>\n",
       "      <th>Purpose_Of_Loan</th>\n",
       "      <th>Debt_To_Income</th>\n",
       "      <th>Inquiries_Last_6Mo</th>\n",
       "      <th>Months_Since_Deliquency</th>\n",
       "      <th>Number_Open_Accounts</th>\n",
       "      <th>Total_Accounts</th>\n",
       "      <th>Gender</th>\n",
       "      <th>Interest_Rate</th>\n",
       "    </tr>\n",
       "  </thead>\n",
       "  <tbody>\n",
       "    <tr>\n",
       "      <th>0</th>\n",
       "      <td>10000001</td>\n",
       "      <td>7,000</td>\n",
       "      <td>&lt; 1 year</td>\n",
       "      <td>Rent</td>\n",
       "      <td>68000.0</td>\n",
       "      <td>not verified</td>\n",
       "      <td>car</td>\n",
       "      <td>18.37</td>\n",
       "      <td>0</td>\n",
       "      <td>NaN</td>\n",
       "      <td>9</td>\n",
       "      <td>14</td>\n",
       "      <td>Female</td>\n",
       "      <td>1</td>\n",
       "    </tr>\n",
       "    <tr>\n",
       "      <th>1</th>\n",
       "      <td>10000002</td>\n",
       "      <td>30,000</td>\n",
       "      <td>4 years</td>\n",
       "      <td>Mortgage</td>\n",
       "      <td>NaN</td>\n",
       "      <td>VERIFIED - income</td>\n",
       "      <td>debt_consolidation</td>\n",
       "      <td>14.93</td>\n",
       "      <td>0</td>\n",
       "      <td>17.0</td>\n",
       "      <td>12</td>\n",
       "      <td>24</td>\n",
       "      <td>Female</td>\n",
       "      <td>3</td>\n",
       "    </tr>\n",
       "    <tr>\n",
       "      <th>2</th>\n",
       "      <td>10000003</td>\n",
       "      <td>24,725</td>\n",
       "      <td>7 years</td>\n",
       "      <td>Mortgage</td>\n",
       "      <td>75566.4</td>\n",
       "      <td>VERIFIED - income source</td>\n",
       "      <td>debt_consolidation</td>\n",
       "      <td>15.88</td>\n",
       "      <td>0</td>\n",
       "      <td>NaN</td>\n",
       "      <td>12</td>\n",
       "      <td>16</td>\n",
       "      <td>Male</td>\n",
       "      <td>3</td>\n",
       "    </tr>\n",
       "    <tr>\n",
       "      <th>3</th>\n",
       "      <td>10000004</td>\n",
       "      <td>16,000</td>\n",
       "      <td>&lt; 1 year</td>\n",
       "      <td>NaN</td>\n",
       "      <td>56160.0</td>\n",
       "      <td>VERIFIED - income source</td>\n",
       "      <td>debt_consolidation</td>\n",
       "      <td>14.34</td>\n",
       "      <td>3</td>\n",
       "      <td>NaN</td>\n",
       "      <td>16</td>\n",
       "      <td>22</td>\n",
       "      <td>Male</td>\n",
       "      <td>3</td>\n",
       "    </tr>\n",
       "    <tr>\n",
       "      <th>4</th>\n",
       "      <td>10000005</td>\n",
       "      <td>17,000</td>\n",
       "      <td>8 years</td>\n",
       "      <td>Own</td>\n",
       "      <td>96000.0</td>\n",
       "      <td>VERIFIED - income source</td>\n",
       "      <td>debt_consolidation</td>\n",
       "      <td>22.17</td>\n",
       "      <td>1</td>\n",
       "      <td>NaN</td>\n",
       "      <td>19</td>\n",
       "      <td>30</td>\n",
       "      <td>Female</td>\n",
       "      <td>1</td>\n",
       "    </tr>\n",
       "  </tbody>\n",
       "</table>\n",
       "</div>"
      ],
      "text/plain": [
       "    Loan_ID Loan_Amount_Requested Length_Employed Home_Owner  Annual_Income  \\\n",
       "0  10000001                 7,000        < 1 year       Rent        68000.0   \n",
       "1  10000002                30,000         4 years   Mortgage            NaN   \n",
       "2  10000003                24,725         7 years   Mortgage        75566.4   \n",
       "3  10000004                16,000        < 1 year        NaN        56160.0   \n",
       "4  10000005                17,000         8 years        Own        96000.0   \n",
       "\n",
       "            Income_Verified     Purpose_Of_Loan  Debt_To_Income  \\\n",
       "0              not verified                 car           18.37   \n",
       "1         VERIFIED - income  debt_consolidation           14.93   \n",
       "2  VERIFIED - income source  debt_consolidation           15.88   \n",
       "3  VERIFIED - income source  debt_consolidation           14.34   \n",
       "4  VERIFIED - income source  debt_consolidation           22.17   \n",
       "\n",
       "   Inquiries_Last_6Mo  Months_Since_Deliquency  Number_Open_Accounts  \\\n",
       "0                   0                      NaN                     9   \n",
       "1                   0                     17.0                    12   \n",
       "2                   0                      NaN                    12   \n",
       "3                   3                      NaN                    16   \n",
       "4                   1                      NaN                    19   \n",
       "\n",
       "   Total_Accounts  Gender  Interest_Rate  \n",
       "0              14  Female              1  \n",
       "1              24  Female              3  \n",
       "2              16    Male              3  \n",
       "3              22    Male              3  \n",
       "4              30  Female              1  "
      ]
     },
     "execution_count": 7,
     "metadata": {
      "tags": []
     },
     "output_type": "execute_result"
    }
   ],
   "source": [
    "df.head()"
   ]
  },
  {
   "cell_type": "code",
   "execution_count": 8,
   "metadata": {
    "colab": {
     "base_uri": "https://localhost:8080/",
     "height": 51
    },
    "colab_type": "code",
    "id": "-oBjhEXATaaE",
    "outputId": "41aa0750-420c-4783-af8a-cf4ea6d2bd13"
   },
   "outputs": [
    {
     "name": "stdout",
     "output_type": "stream",
     "text": [
      "Length_Employed: 0.0449% missing values\n",
      "Home_Owner: 0.1543% missing values\n"
     ]
    }
   ],
   "source": [
    "## Let us capture all the nan values\n",
    "## First lets handle Categorical features which are missing\n",
    "features_nan=[feature for feature in df.columns if df[feature].isnull().sum()>1 and df[feature].dtypes=='O']\n",
    "\n",
    "for feature in features_nan:\n",
    "    print(\"{}: {}% missing values\".format(feature,np.round(df[feature].isnull().mean(),4)))"
   ]
  },
  {
   "cell_type": "code",
   "execution_count": 9,
   "metadata": {
    "colab": {
     "base_uri": "https://localhost:8080/",
     "height": 51
    },
    "colab_type": "code",
    "id": "Ri7fKEugUc5d",
    "outputId": "fb00f057-9f2c-4a5e-ba42-046907621caa"
   },
   "outputs": [
    {
     "name": "stdout",
     "output_type": "stream",
     "text": [
      "Length_Employed: 0.0451% missing values\n",
      "Home_Owner: 0.1526% missing values\n"
     ]
    }
   ],
   "source": [
    "## Let us capture all the nan values\n",
    "## First lets handle Categorical features which are missing\n",
    "features_nan=[feature for feature in df1.columns if df1[feature].isnull().sum()>1 and df1[feature].dtypes=='O']\n",
    "\n",
    "for feature in features_nan:\n",
    "    print(\"{}: {}% missing values\".format(feature,np.round(df1[feature].isnull().mean(),4)))"
   ]
  },
  {
   "cell_type": "code",
   "execution_count": 10,
   "metadata": {
    "colab": {
     "base_uri": "https://localhost:8080/",
     "height": 68
    },
    "colab_type": "code",
    "id": "Ddn7zyJPTo5r",
    "outputId": "3954431f-33e4-4d32-f4b7-6bc9b283dfd2"
   },
   "outputs": [
    {
     "data": {
      "text/plain": [
       "Length_Employed    0\n",
       "Home_Owner         0\n",
       "dtype: int64"
      ]
     },
     "execution_count": 10,
     "metadata": {
      "tags": []
     },
     "output_type": "execute_result"
    }
   ],
   "source": [
    "def replace_cat_feature(dataset,features_nan):\n",
    "    data=df.copy()\n",
    "    data[features_nan]=data[features_nan].fillna('Missing')\n",
    "    return data\n",
    "\n",
    "df=replace_cat_feature(df,features_nan)\n",
    "\n",
    "df[features_nan].isnull().sum()"
   ]
  },
  {
   "cell_type": "code",
   "execution_count": 11,
   "metadata": {
    "colab": {
     "base_uri": "https://localhost:8080/",
     "height": 68
    },
    "colab_type": "code",
    "id": "fBNg1Wr8UmQB",
    "outputId": "c7dc9476-0c94-4bc3-a592-38ee54946660"
   },
   "outputs": [
    {
     "data": {
      "text/plain": [
       "Length_Employed    0\n",
       "Home_Owner         0\n",
       "dtype: int64"
      ]
     },
     "execution_count": 11,
     "metadata": {
      "tags": []
     },
     "output_type": "execute_result"
    }
   ],
   "source": [
    "def replace_cat_feature(dataset,features_nan):\n",
    "    data1=df1.copy()\n",
    "    data1[features_nan]=data1[features_nan].fillna('Missing')\n",
    "    return data1\n",
    "\n",
    "df1=replace_cat_feature(df1,features_nan)\n",
    "\n",
    "df1[features_nan].isnull().sum()"
   ]
  },
  {
   "cell_type": "code",
   "execution_count": 12,
   "metadata": {
    "colab": {
     "base_uri": "https://localhost:8080/",
     "height": 51
    },
    "colab_type": "code",
    "id": "fD9B9DJ3T0XL",
    "outputId": "7078c143-b941-4e03-d4ba-889ad316f47a"
   },
   "outputs": [
    {
     "name": "stdout",
     "output_type": "stream",
     "text": [
      "Annual_Income: 0.1528% missing value\n",
      "Months_Since_Deliquency: 0.5379% missing value\n"
     ]
    }
   ],
   "source": [
    "## Now lets check for numerical variables the contains missing values\n",
    "numerical_with_nan=[feature for feature in df.columns if df[feature].isnull().sum()>1 and df[feature].dtypes!='O']\n",
    "\n",
    "## We will print the numerical nan variables and percentage of missing values\n",
    "\n",
    "for feature in numerical_with_nan:\n",
    "    print(\"{}: {}% missing value\".format(feature,np.around(df[feature].isnull().mean(),4)))"
   ]
  },
  {
   "cell_type": "code",
   "execution_count": 13,
   "metadata": {
    "colab": {
     "base_uri": "https://localhost:8080/",
     "height": 51
    },
    "colab_type": "code",
    "id": "TLNpCRp1U7lW",
    "outputId": "ffb7b4ef-6721-4535-f4b6-a7ba25f35269"
   },
   "outputs": [
    {
     "name": "stdout",
     "output_type": "stream",
     "text": [
      "Annual_Income: 0.1543% missing value\n",
      "Months_Since_Deliquency: 0.5373% missing value\n"
     ]
    }
   ],
   "source": [
    "## Now lets check for numerical variables the contains missing values\n",
    "numerical_with_nan=[feature for feature in df1.columns if df1[feature].isnull().sum()>1 and df1[feature].dtypes!='O']\n",
    "\n",
    "## We will print the numerical nan variables and percentage of missing values\n",
    "\n",
    "for feature in numerical_with_nan:\n",
    "    print(\"{}: {}% missing value\".format(feature,np.around(df1[feature].isnull().mean(),4)))"
   ]
  },
  {
   "cell_type": "code",
   "execution_count": 14,
   "metadata": {
    "colab": {
     "base_uri": "https://localhost:8080/",
     "height": 68
    },
    "colab_type": "code",
    "id": "Ma78eBmET--9",
    "outputId": "f12ebd78-fa69-4919-e739-9c916c422a53"
   },
   "outputs": [
    {
     "data": {
      "text/plain": [
       "Annual_Income              0\n",
       "Months_Since_Deliquency    0\n",
       "dtype: int64"
      ]
     },
     "execution_count": 14,
     "metadata": {
      "tags": []
     },
     "output_type": "execute_result"
    }
   ],
   "source": [
    "\n",
    "## Replacing the numerical Missing Values\n",
    "\n",
    "for feature in numerical_with_nan:\n",
    "    ## We will replace by using median since there are outliers\n",
    "    median_value=df[feature].median()\n",
    "    \n",
    "    ## create a new feature to capture nan values\n",
    "    df[feature+'nan']=np.where(df[feature].isnull(),1,0)\n",
    "    df[feature].fillna(median_value,inplace=True)\n",
    "    \n",
    "df[numerical_with_nan].isnull().sum()"
   ]
  },
  {
   "cell_type": "code",
   "execution_count": 15,
   "metadata": {
    "colab": {
     "base_uri": "https://localhost:8080/",
     "height": 68
    },
    "colab_type": "code",
    "id": "sCcgG5-NVAZW",
    "outputId": "9486652d-31cf-4d64-f0a3-874b5edb4989"
   },
   "outputs": [
    {
     "data": {
      "text/plain": [
       "Annual_Income              0\n",
       "Months_Since_Deliquency    0\n",
       "dtype: int64"
      ]
     },
     "execution_count": 15,
     "metadata": {
      "tags": []
     },
     "output_type": "execute_result"
    }
   ],
   "source": [
    "## Replacing the numerical Missing Values\n",
    "\n",
    "for feature in numerical_with_nan:\n",
    "    ## We will replace by using median since there are outliers\n",
    "    median_value=df1[feature].median()\n",
    "    \n",
    "    ## create a new feature to capture nan values\n",
    "    df1[feature+'nan']=np.where(df1[feature].isnull(),1,0)\n",
    "    df1[feature].fillna(median_value,inplace=True)\n",
    "    \n",
    "df1[numerical_with_nan].isnull().sum()"
   ]
  },
  {
   "cell_type": "code",
   "execution_count": 16,
   "metadata": {
    "colab": {
     "base_uri": "https://localhost:8080/",
     "height": 292
    },
    "colab_type": "code",
    "id": "EvlCdNAUUKTQ",
    "outputId": "146f4033-4e4e-438e-ee0c-1b8e0d1e954d"
   },
   "outputs": [
    {
     "data": {
      "text/html": [
       "<div>\n",
       "<style scoped>\n",
       "    .dataframe tbody tr th:only-of-type {\n",
       "        vertical-align: middle;\n",
       "    }\n",
       "\n",
       "    .dataframe tbody tr th {\n",
       "        vertical-align: top;\n",
       "    }\n",
       "\n",
       "    .dataframe thead th {\n",
       "        text-align: right;\n",
       "    }\n",
       "</style>\n",
       "<table border=\"1\" class=\"dataframe\">\n",
       "  <thead>\n",
       "    <tr style=\"text-align: right;\">\n",
       "      <th></th>\n",
       "      <th>Loan_ID</th>\n",
       "      <th>Loan_Amount_Requested</th>\n",
       "      <th>Length_Employed</th>\n",
       "      <th>Home_Owner</th>\n",
       "      <th>Annual_Income</th>\n",
       "      <th>Income_Verified</th>\n",
       "      <th>Purpose_Of_Loan</th>\n",
       "      <th>Debt_To_Income</th>\n",
       "      <th>Inquiries_Last_6Mo</th>\n",
       "      <th>Months_Since_Deliquency</th>\n",
       "      <th>Number_Open_Accounts</th>\n",
       "      <th>Total_Accounts</th>\n",
       "      <th>Gender</th>\n",
       "      <th>Interest_Rate</th>\n",
       "      <th>Annual_Incomenan</th>\n",
       "      <th>Months_Since_Deliquencynan</th>\n",
       "    </tr>\n",
       "  </thead>\n",
       "  <tbody>\n",
       "    <tr>\n",
       "      <th>0</th>\n",
       "      <td>10000001</td>\n",
       "      <td>7,000</td>\n",
       "      <td>&lt; 1 year</td>\n",
       "      <td>Rent</td>\n",
       "      <td>68000.0</td>\n",
       "      <td>not verified</td>\n",
       "      <td>car</td>\n",
       "      <td>18.37</td>\n",
       "      <td>0</td>\n",
       "      <td>31.0</td>\n",
       "      <td>9</td>\n",
       "      <td>14</td>\n",
       "      <td>Female</td>\n",
       "      <td>1</td>\n",
       "      <td>0</td>\n",
       "      <td>1</td>\n",
       "    </tr>\n",
       "    <tr>\n",
       "      <th>1</th>\n",
       "      <td>10000002</td>\n",
       "      <td>30,000</td>\n",
       "      <td>4 years</td>\n",
       "      <td>Mortgage</td>\n",
       "      <td>63000.0</td>\n",
       "      <td>VERIFIED - income</td>\n",
       "      <td>debt_consolidation</td>\n",
       "      <td>14.93</td>\n",
       "      <td>0</td>\n",
       "      <td>17.0</td>\n",
       "      <td>12</td>\n",
       "      <td>24</td>\n",
       "      <td>Female</td>\n",
       "      <td>3</td>\n",
       "      <td>1</td>\n",
       "      <td>0</td>\n",
       "    </tr>\n",
       "    <tr>\n",
       "      <th>2</th>\n",
       "      <td>10000003</td>\n",
       "      <td>24,725</td>\n",
       "      <td>7 years</td>\n",
       "      <td>Mortgage</td>\n",
       "      <td>75566.4</td>\n",
       "      <td>VERIFIED - income source</td>\n",
       "      <td>debt_consolidation</td>\n",
       "      <td>15.88</td>\n",
       "      <td>0</td>\n",
       "      <td>31.0</td>\n",
       "      <td>12</td>\n",
       "      <td>16</td>\n",
       "      <td>Male</td>\n",
       "      <td>3</td>\n",
       "      <td>0</td>\n",
       "      <td>1</td>\n",
       "    </tr>\n",
       "    <tr>\n",
       "      <th>3</th>\n",
       "      <td>10000004</td>\n",
       "      <td>16,000</td>\n",
       "      <td>&lt; 1 year</td>\n",
       "      <td>Missing</td>\n",
       "      <td>56160.0</td>\n",
       "      <td>VERIFIED - income source</td>\n",
       "      <td>debt_consolidation</td>\n",
       "      <td>14.34</td>\n",
       "      <td>3</td>\n",
       "      <td>31.0</td>\n",
       "      <td>16</td>\n",
       "      <td>22</td>\n",
       "      <td>Male</td>\n",
       "      <td>3</td>\n",
       "      <td>0</td>\n",
       "      <td>1</td>\n",
       "    </tr>\n",
       "    <tr>\n",
       "      <th>4</th>\n",
       "      <td>10000005</td>\n",
       "      <td>17,000</td>\n",
       "      <td>8 years</td>\n",
       "      <td>Own</td>\n",
       "      <td>96000.0</td>\n",
       "      <td>VERIFIED - income source</td>\n",
       "      <td>debt_consolidation</td>\n",
       "      <td>22.17</td>\n",
       "      <td>1</td>\n",
       "      <td>31.0</td>\n",
       "      <td>19</td>\n",
       "      <td>30</td>\n",
       "      <td>Female</td>\n",
       "      <td>1</td>\n",
       "      <td>0</td>\n",
       "      <td>1</td>\n",
       "    </tr>\n",
       "  </tbody>\n",
       "</table>\n",
       "</div>"
      ],
      "text/plain": [
       "    Loan_ID Loan_Amount_Requested Length_Employed Home_Owner  Annual_Income  \\\n",
       "0  10000001                 7,000        < 1 year       Rent        68000.0   \n",
       "1  10000002                30,000         4 years   Mortgage        63000.0   \n",
       "2  10000003                24,725         7 years   Mortgage        75566.4   \n",
       "3  10000004                16,000        < 1 year    Missing        56160.0   \n",
       "4  10000005                17,000         8 years        Own        96000.0   \n",
       "\n",
       "            Income_Verified     Purpose_Of_Loan  Debt_To_Income  \\\n",
       "0              not verified                 car           18.37   \n",
       "1         VERIFIED - income  debt_consolidation           14.93   \n",
       "2  VERIFIED - income source  debt_consolidation           15.88   \n",
       "3  VERIFIED - income source  debt_consolidation           14.34   \n",
       "4  VERIFIED - income source  debt_consolidation           22.17   \n",
       "\n",
       "   Inquiries_Last_6Mo  Months_Since_Deliquency  Number_Open_Accounts  \\\n",
       "0                   0                     31.0                     9   \n",
       "1                   0                     17.0                    12   \n",
       "2                   0                     31.0                    12   \n",
       "3                   3                     31.0                    16   \n",
       "4                   1                     31.0                    19   \n",
       "\n",
       "   Total_Accounts  Gender  Interest_Rate  Annual_Incomenan  \\\n",
       "0              14  Female              1                 0   \n",
       "1              24  Female              3                 1   \n",
       "2              16    Male              3                 0   \n",
       "3              22    Male              3                 0   \n",
       "4              30  Female              1                 0   \n",
       "\n",
       "   Months_Since_Deliquencynan  \n",
       "0                           1  \n",
       "1                           0  \n",
       "2                           1  \n",
       "3                           1  \n",
       "4                           1  "
      ]
     },
     "execution_count": 16,
     "metadata": {
      "tags": []
     },
     "output_type": "execute_result"
    }
   ],
   "source": [
    "df.head()"
   ]
  },
  {
   "cell_type": "code",
   "execution_count": 0,
   "metadata": {
    "colab": {},
    "colab_type": "code",
    "id": "pgD9dt5TzARM"
   },
   "outputs": [],
   "source": [
    "#df['Months_Since_Deliquency']=df['Months_Since_Deliquency'].fillna(0)\n",
    "#df['Annual_Income']=df['Annual_Income'].fillna(0)\n",
    "#df['Home_Owner']=df['Home_Owner'].fillna('aaa')\n",
    "#df['Length_Employed']=df['Length_Employed'].fillna('x')\n",
    "#df1['Months_Since_Deliquency']=df1['Months_Since_Deliquency'].fillna(0)\n",
    "#df1['Annual_Income']=df1['Annual_Income'].fillna(0)\n",
    "#df1['Home_Owner']=df1['Home_Owner'].fillna('aaa')\n",
    "#df1['Length_Employed']=df1['Length_Employed'].fillna('x')"
   ]
  },
  {
   "cell_type": "code",
   "execution_count": 31,
   "metadata": {
    "colab": {
     "base_uri": "https://localhost:8080/",
     "height": 306
    },
    "colab_type": "code",
    "id": "tisBJrEsvgJD",
    "outputId": "299bbeda-abea-43c2-de22-d860fa19d20d"
   },
   "outputs": [
    {
     "data": {
      "text/plain": [
       "Loan_ID                       0\n",
       "Loan_Amount_Requested         0\n",
       "Length_Employed               0\n",
       "Home_Owner                    0\n",
       "Annual_Income                 0\n",
       "Income_Verified               0\n",
       "Purpose_Of_Loan               0\n",
       "Debt_To_Income                0\n",
       "Inquiries_Last_6Mo            0\n",
       "Months_Since_Deliquency       0\n",
       "Number_Open_Accounts          0\n",
       "Total_Accounts                0\n",
       "Gender                        0\n",
       "Interest_Rate                 0\n",
       "Annual_Incomenan              0\n",
       "Months_Since_Deliquencynan    0\n",
       "dtype: int64"
      ]
     },
     "execution_count": 31,
     "metadata": {
      "tags": []
     },
     "output_type": "execute_result"
    }
   ],
   "source": [
    "df.isnull().sum()"
   ]
  },
  {
   "cell_type": "code",
   "execution_count": 0,
   "metadata": {
    "colab": {},
    "colab_type": "code",
    "id": "WI7IpVyd1U5J"
   },
   "outputs": [],
   "source": [
    "#le = LabelEncoder()\n",
    "#df['Length_Employed'] = le.fit_transform(df['Length_Employed']) \n",
    "#df['Home_Owner'] = le.fit_transform(df['Home_Owner'])\n",
    "#df['Income_Verified'] = le.fit_transform(df['Income_Verified'])\n",
    "#df['Purpose_Of_Loan'] = le.fit_transform(df['Purpose_Of_Loan'])\n",
    "#df['Gender'] = le.fit_transform(df['Gender'])\n",
    "#df['Loan_Amount_Requested'] = le.fit_transform(df['Loan_Amount_Requested'])"
   ]
  },
  {
   "cell_type": "code",
   "execution_count": 0,
   "metadata": {
    "colab": {},
    "colab_type": "code",
    "id": "HFswDv6v2ru9"
   },
   "outputs": [],
   "source": [
    "#df1['Length_Employed'] = le.fit_transform(df1['Length_Employed']) \n",
    "#df1['Home_Owner'] = le.fit_transform(df1['Home_Owner'])\n",
    "#df1['Income_Verified'] = le.fit_transform(df1['Income_Verified'])\n",
    "#df1['Purpose_Of_Loan'] = le.fit_transform(df1['Purpose_Of_Loan'])\n",
    "#df1['Gender'] = le.fit_transform(df1['Gender'])\n",
    "#df1['Loan_Amount_Requested'] = le.fit_transform(df1['Loan_Amount_Requested'])"
   ]
  },
  {
   "cell_type": "code",
   "execution_count": 0,
   "metadata": {
    "colab": {},
    "colab_type": "code",
    "id": "HTls_ER6tlrO"
   },
   "outputs": [],
   "source": [
    "X = df[[col for col in df.columns if col not in ('Interest_Rate')]].values  #independent variables \n",
    "y = df['Interest_Rate'].values  #dependent variable "
   ]
  },
  {
   "cell_type": "code",
   "execution_count": 0,
   "metadata": {
    "colab": {},
    "colab_type": "code",
    "id": "DGbEtc6Dt10M"
   },
   "outputs": [],
   "source": [
    "from sklearn.model_selection import train_test_split\n",
    "\n",
    "X_train,X_test,y_train,y_test = train_test_split(X, y, test_size=0.3, random_state=1)"
   ]
  },
  {
   "cell_type": "code",
   "execution_count": 0,
   "metadata": {
    "colab": {},
    "colab_type": "code",
    "id": "BbVgvviTHmed"
   },
   "outputs": [],
   "source": [
    "\n",
    "train_pool = Pool(X_train, \n",
    "                  y_train,\n",
    "                  cat_features=[1,2,3,5,6,12])"
   ]
  },
  {
   "cell_type": "code",
   "execution_count": 0,
   "metadata": {
    "colab": {},
    "colab_type": "code",
    "id": "SkGn4IV-IeFh"
   },
   "outputs": [],
   "source": [
    "catboost_model = CatBoostClassifier(iterations=160,\n",
    "                                    random_state=42,\n",
    "                                    max_depth=4,\n",
    "                                   bagging_temperature=0.7,\n",
    "                                    l2_leaf_reg=8,\n",
    "                                    grow_policy='Depthwise',\n",
    "                                    learning_rate=0.3,task_type='GPU',cat_features=[1,2,3,5,6,12])\n",
    "\n"
   ]
  },
  {
   "cell_type": "code",
   "execution_count": 127,
   "metadata": {
    "colab": {
     "base_uri": "https://localhost:8080/",
     "height": 1000
    },
    "colab_type": "code",
    "id": "ULa964RF5UM8",
    "outputId": "9bd6d416-a459-4086-9faf-f07252c16e11"
   },
   "outputs": [
    {
     "name": "stdout",
     "output_type": "stream",
     "text": [
      "0:\tlearn: 1.0447274\ttotal: 9.88ms\tremaining: 1.57s\n",
      "1:\tlearn: 1.0146167\ttotal: 18.7ms\tremaining: 1.48s\n",
      "2:\tlearn: 0.9958308\ttotal: 26.9ms\tremaining: 1.41s\n",
      "3:\tlearn: 0.9814766\ttotal: 35ms\tremaining: 1.37s\n",
      "4:\tlearn: 0.9714125\ttotal: 43.4ms\tremaining: 1.34s\n",
      "5:\tlearn: 0.9635327\ttotal: 51.7ms\tremaining: 1.33s\n",
      "6:\tlearn: 0.9574124\ttotal: 59.9ms\tremaining: 1.31s\n",
      "7:\tlearn: 0.9526018\ttotal: 68.1ms\tremaining: 1.29s\n",
      "8:\tlearn: 0.9487035\ttotal: 76.4ms\tremaining: 1.28s\n",
      "9:\tlearn: 0.9446252\ttotal: 84.8ms\tremaining: 1.27s\n",
      "10:\tlearn: 0.9412845\ttotal: 93.2ms\tremaining: 1.26s\n",
      "11:\tlearn: 0.9386352\ttotal: 101ms\tremaining: 1.25s\n",
      "12:\tlearn: 0.9361004\ttotal: 109ms\tremaining: 1.24s\n",
      "13:\tlearn: 0.9341812\ttotal: 118ms\tremaining: 1.23s\n",
      "14:\tlearn: 0.9324214\ttotal: 126ms\tremaining: 1.22s\n",
      "15:\tlearn: 0.9307844\ttotal: 145ms\tremaining: 1.3s\n",
      "16:\tlearn: 0.9295614\ttotal: 152ms\tremaining: 1.28s\n",
      "17:\tlearn: 0.9283683\ttotal: 160ms\tremaining: 1.26s\n",
      "18:\tlearn: 0.9273291\ttotal: 167ms\tremaining: 1.24s\n",
      "19:\tlearn: 0.9260893\ttotal: 175ms\tremaining: 1.22s\n",
      "20:\tlearn: 0.9251700\ttotal: 182ms\tremaining: 1.21s\n",
      "21:\tlearn: 0.9245370\ttotal: 190ms\tremaining: 1.19s\n",
      "22:\tlearn: 0.9236907\ttotal: 197ms\tremaining: 1.18s\n",
      "23:\tlearn: 0.9228476\ttotal: 205ms\tremaining: 1.16s\n",
      "24:\tlearn: 0.9222658\ttotal: 220ms\tremaining: 1.19s\n",
      "25:\tlearn: 0.9217570\ttotal: 227ms\tremaining: 1.17s\n",
      "26:\tlearn: 0.9210689\ttotal: 235ms\tremaining: 1.16s\n",
      "27:\tlearn: 0.9206036\ttotal: 243ms\tremaining: 1.14s\n",
      "28:\tlearn: 0.9202022\ttotal: 250ms\tremaining: 1.13s\n",
      "29:\tlearn: 0.9196661\ttotal: 258ms\tremaining: 1.12s\n",
      "30:\tlearn: 0.9193696\ttotal: 265ms\tremaining: 1.1s\n",
      "31:\tlearn: 0.9188994\ttotal: 275ms\tremaining: 1.1s\n",
      "32:\tlearn: 0.9186181\ttotal: 282ms\tremaining: 1.09s\n",
      "33:\tlearn: 0.9183031\ttotal: 289ms\tremaining: 1.07s\n",
      "34:\tlearn: 0.9180272\ttotal: 297ms\tremaining: 1.06s\n",
      "35:\tlearn: 0.9176535\ttotal: 305ms\tremaining: 1.05s\n",
      "36:\tlearn: 0.9172807\ttotal: 313ms\tremaining: 1.04s\n",
      "37:\tlearn: 0.9168593\ttotal: 321ms\tremaining: 1.03s\n",
      "38:\tlearn: 0.9165021\ttotal: 329ms\tremaining: 1.02s\n",
      "39:\tlearn: 0.9163856\ttotal: 344ms\tremaining: 1.03s\n",
      "40:\tlearn: 0.9160836\ttotal: 351ms\tremaining: 1.02s\n",
      "41:\tlearn: 0.9160219\ttotal: 359ms\tremaining: 1.01s\n",
      "42:\tlearn: 0.9158021\ttotal: 366ms\tremaining: 996ms\n",
      "43:\tlearn: 0.9156227\ttotal: 373ms\tremaining: 984ms\n",
      "44:\tlearn: 0.9152730\ttotal: 381ms\tremaining: 973ms\n",
      "45:\tlearn: 0.9150287\ttotal: 388ms\tremaining: 962ms\n",
      "46:\tlearn: 0.9147879\ttotal: 402ms\tremaining: 968ms\n",
      "47:\tlearn: 0.9146338\ttotal: 421ms\tremaining: 983ms\n",
      "48:\tlearn: 0.9146096\ttotal: 429ms\tremaining: 972ms\n",
      "49:\tlearn: 0.9144720\ttotal: 437ms\tremaining: 962ms\n",
      "50:\tlearn: 0.9143085\ttotal: 445ms\tremaining: 951ms\n",
      "51:\tlearn: 0.9140575\ttotal: 453ms\tremaining: 941ms\n",
      "52:\tlearn: 0.9140180\ttotal: 461ms\tremaining: 931ms\n",
      "53:\tlearn: 0.9137387\ttotal: 469ms\tremaining: 921ms\n",
      "54:\tlearn: 0.9134078\ttotal: 477ms\tremaining: 911ms\n",
      "55:\tlearn: 0.9131609\ttotal: 485ms\tremaining: 901ms\n",
      "56:\tlearn: 0.9129898\ttotal: 493ms\tremaining: 891ms\n",
      "57:\tlearn: 0.9128079\ttotal: 501ms\tremaining: 882ms\n",
      "58:\tlearn: 0.9126852\ttotal: 509ms\tremaining: 872ms\n",
      "59:\tlearn: 0.9125485\ttotal: 521ms\tremaining: 868ms\n",
      "60:\tlearn: 0.9124096\ttotal: 529ms\tremaining: 859ms\n",
      "61:\tlearn: 0.9120696\ttotal: 537ms\tremaining: 849ms\n",
      "62:\tlearn: 0.9119843\ttotal: 545ms\tremaining: 839ms\n",
      "63:\tlearn: 0.9117763\ttotal: 552ms\tremaining: 828ms\n",
      "64:\tlearn: 0.9116607\ttotal: 560ms\tremaining: 818ms\n",
      "65:\tlearn: 0.9115870\ttotal: 567ms\tremaining: 807ms\n",
      "66:\tlearn: 0.9115533\ttotal: 574ms\tremaining: 797ms\n",
      "67:\tlearn: 0.9113899\ttotal: 581ms\tremaining: 786ms\n",
      "68:\tlearn: 0.9112789\ttotal: 589ms\tremaining: 776ms\n",
      "69:\tlearn: 0.9111526\ttotal: 596ms\tremaining: 766ms\n",
      "70:\tlearn: 0.9110328\ttotal: 603ms\tremaining: 756ms\n",
      "71:\tlearn: 0.9109187\ttotal: 611ms\tremaining: 747ms\n",
      "72:\tlearn: 0.9108560\ttotal: 629ms\tremaining: 750ms\n",
      "73:\tlearn: 0.9107812\ttotal: 637ms\tremaining: 740ms\n",
      "74:\tlearn: 0.9107507\ttotal: 645ms\tremaining: 731ms\n",
      "75:\tlearn: 0.9106884\ttotal: 653ms\tremaining: 722ms\n",
      "76:\tlearn: 0.9106517\ttotal: 661ms\tremaining: 712ms\n",
      "77:\tlearn: 0.9105730\ttotal: 669ms\tremaining: 703ms\n",
      "78:\tlearn: 0.9104487\ttotal: 676ms\tremaining: 693ms\n",
      "79:\tlearn: 0.9102831\ttotal: 683ms\tremaining: 683ms\n",
      "80:\tlearn: 0.9102559\ttotal: 690ms\tremaining: 673ms\n",
      "81:\tlearn: 0.9101605\ttotal: 697ms\tremaining: 663ms\n",
      "82:\tlearn: 0.9100106\ttotal: 705ms\tremaining: 654ms\n",
      "83:\tlearn: 0.9100023\ttotal: 712ms\tremaining: 644ms\n",
      "84:\tlearn: 0.9099473\ttotal: 720ms\tremaining: 635ms\n",
      "85:\tlearn: 0.9097712\ttotal: 728ms\tremaining: 626ms\n",
      "86:\tlearn: 0.9097329\ttotal: 735ms\tremaining: 617ms\n",
      "87:\tlearn: 0.9096795\ttotal: 742ms\tremaining: 607ms\n",
      "88:\tlearn: 0.9095593\ttotal: 750ms\tremaining: 598ms\n",
      "89:\tlearn: 0.9093934\ttotal: 757ms\tremaining: 589ms\n",
      "90:\tlearn: 0.9092811\ttotal: 765ms\tremaining: 580ms\n",
      "91:\tlearn: 0.9091925\ttotal: 772ms\tremaining: 571ms\n",
      "92:\tlearn: 0.9091235\ttotal: 779ms\tremaining: 561ms\n",
      "93:\tlearn: 0.9091012\ttotal: 786ms\tremaining: 552ms\n",
      "94:\tlearn: 0.9089998\ttotal: 794ms\tremaining: 543ms\n",
      "95:\tlearn: 0.9088737\ttotal: 801ms\tremaining: 534ms\n",
      "96:\tlearn: 0.9087519\ttotal: 809ms\tremaining: 525ms\n",
      "97:\tlearn: 0.9085980\ttotal: 817ms\tremaining: 517ms\n",
      "98:\tlearn: 0.9085406\ttotal: 824ms\tremaining: 508ms\n",
      "99:\tlearn: 0.9085271\ttotal: 835ms\tremaining: 501ms\n",
      "100:\tlearn: 0.9084934\ttotal: 842ms\tremaining: 492ms\n",
      "101:\tlearn: 0.9082964\ttotal: 850ms\tremaining: 483ms\n",
      "102:\tlearn: 0.9081793\ttotal: 857ms\tremaining: 474ms\n",
      "103:\tlearn: 0.9080803\ttotal: 865ms\tremaining: 466ms\n",
      "104:\tlearn: 0.9080660\ttotal: 872ms\tremaining: 457ms\n",
      "105:\tlearn: 0.9078532\ttotal: 879ms\tremaining: 448ms\n",
      "106:\tlearn: 0.9077793\ttotal: 887ms\tremaining: 439ms\n",
      "107:\tlearn: 0.9077115\ttotal: 894ms\tremaining: 430ms\n",
      "108:\tlearn: 0.9076008\ttotal: 901ms\tremaining: 422ms\n",
      "109:\tlearn: 0.9075297\ttotal: 908ms\tremaining: 413ms\n",
      "110:\tlearn: 0.9074204\ttotal: 916ms\tremaining: 404ms\n",
      "111:\tlearn: 0.9073594\ttotal: 923ms\tremaining: 396ms\n",
      "112:\tlearn: 0.9073521\ttotal: 930ms\tremaining: 387ms\n",
      "113:\tlearn: 0.9072344\ttotal: 938ms\tremaining: 378ms\n",
      "114:\tlearn: 0.9071499\ttotal: 945ms\tremaining: 370ms\n",
      "115:\tlearn: 0.9070939\ttotal: 957ms\tremaining: 363ms\n",
      "116:\tlearn: 0.9069825\ttotal: 965ms\tremaining: 354ms\n",
      "117:\tlearn: 0.9068236\ttotal: 972ms\tremaining: 346ms\n",
      "118:\tlearn: 0.9067355\ttotal: 979ms\tremaining: 337ms\n",
      "119:\tlearn: 0.9066038\ttotal: 987ms\tremaining: 329ms\n",
      "120:\tlearn: 0.9065154\ttotal: 994ms\tremaining: 320ms\n",
      "121:\tlearn: 0.9063295\ttotal: 1s\tremaining: 312ms\n",
      "122:\tlearn: 0.9062825\ttotal: 1.01s\tremaining: 304ms\n",
      "123:\tlearn: 0.9061878\ttotal: 1.02s\tremaining: 295ms\n",
      "124:\tlearn: 0.9060095\ttotal: 1.02s\tremaining: 287ms\n",
      "125:\tlearn: 0.9059691\ttotal: 1.03s\tremaining: 279ms\n",
      "126:\tlearn: 0.9058827\ttotal: 1.04s\tremaining: 271ms\n",
      "127:\tlearn: 0.9058149\ttotal: 1.05s\tremaining: 262ms\n",
      "128:\tlearn: 0.9057413\ttotal: 1.06s\tremaining: 254ms\n",
      "129:\tlearn: 0.9056423\ttotal: 1.06s\tremaining: 246ms\n",
      "130:\tlearn: 0.9055443\ttotal: 1.07s\tremaining: 237ms\n",
      "131:\tlearn: 0.9053930\ttotal: 1.08s\tremaining: 229ms\n",
      "132:\tlearn: 0.9052678\ttotal: 1.09s\tremaining: 221ms\n",
      "133:\tlearn: 0.9051595\ttotal: 1.09s\tremaining: 212ms\n",
      "134:\tlearn: 0.9050513\ttotal: 1.1s\tremaining: 204ms\n",
      "135:\tlearn: 0.9049344\ttotal: 1.11s\tremaining: 196ms\n",
      "136:\tlearn: 0.9048601\ttotal: 1.13s\tremaining: 189ms\n",
      "137:\tlearn: 0.9047887\ttotal: 1.13s\tremaining: 181ms\n",
      "138:\tlearn: 0.9046112\ttotal: 1.14s\tremaining: 172ms\n",
      "139:\tlearn: 0.9045611\ttotal: 1.15s\tremaining: 164ms\n",
      "140:\tlearn: 0.9044672\ttotal: 1.16s\tremaining: 156ms\n",
      "141:\tlearn: 0.9044234\ttotal: 1.16s\tremaining: 147ms\n",
      "142:\tlearn: 0.9044009\ttotal: 1.17s\tremaining: 139ms\n",
      "143:\tlearn: 0.9043117\ttotal: 1.18s\tremaining: 131ms\n",
      "144:\tlearn: 0.9041811\ttotal: 1.19s\tremaining: 123ms\n",
      "145:\tlearn: 0.9041611\ttotal: 1.19s\tremaining: 114ms\n",
      "146:\tlearn: 0.9040866\ttotal: 1.2s\tremaining: 106ms\n",
      "147:\tlearn: 0.9040481\ttotal: 1.21s\tremaining: 98ms\n",
      "148:\tlearn: 0.9039467\ttotal: 1.22s\tremaining: 89.8ms\n",
      "149:\tlearn: 0.9039261\ttotal: 1.22s\tremaining: 81.6ms\n",
      "150:\tlearn: 0.9039180\ttotal: 1.24s\tremaining: 73.7ms\n",
      "151:\tlearn: 0.9038721\ttotal: 1.24s\tremaining: 65.5ms\n",
      "152:\tlearn: 0.9037729\ttotal: 1.25s\tremaining: 57.3ms\n",
      "153:\tlearn: 0.9035721\ttotal: 1.26s\tremaining: 49.1ms\n",
      "154:\tlearn: 0.9034791\ttotal: 1.27s\tremaining: 40.9ms\n",
      "155:\tlearn: 0.9033852\ttotal: 1.27s\tremaining: 32.7ms\n",
      "156:\tlearn: 0.9032796\ttotal: 1.29s\tremaining: 24.7ms\n",
      "157:\tlearn: 0.9031402\ttotal: 1.3s\tremaining: 16.5ms\n",
      "158:\tlearn: 0.9030792\ttotal: 1.31s\tremaining: 8.25ms\n",
      "159:\tlearn: 0.9029481\ttotal: 1.32s\tremaining: 0us\n"
     ]
    },
    {
     "data": {
      "text/plain": [
       "<catboost.core.CatBoostClassifier at 0x7ff0a46fb470>"
      ]
     },
     "execution_count": 127,
     "metadata": {
      "tags": []
     },
     "output_type": "execute_result"
    }
   ],
   "source": [
    "catboost_model.fit(X_train,y_train)"
   ]
  },
  {
   "cell_type": "code",
   "execution_count": 0,
   "metadata": {
    "colab": {},
    "colab_type": "code",
    "id": "VeuRm3QvW9ky"
   },
   "outputs": [],
   "source": [
    "y_Pred = catboost_model.predict(X_test)"
   ]
  },
  {
   "cell_type": "code",
   "execution_count": 129,
   "metadata": {
    "colab": {
     "base_uri": "https://localhost:8080/",
     "height": 34
    },
    "colab_type": "code",
    "id": "2sVQ2GstdPG6",
    "outputId": "314ab1cd-133b-4a0a-f980-8b1d74534692"
   },
   "outputs": [
    {
     "data": {
      "text/plain": [
       "0.5357956544969503"
      ]
     },
     "execution_count": 129,
     "metadata": {
      "tags": []
     },
     "output_type": "execute_result"
    }
   ],
   "source": [
    "from sklearn.metrics import f1_score\n",
    "\n",
    "f1_score(y_test, y_Pred,average='weighted') \n"
   ]
  },
  {
   "cell_type": "markdown",
   "metadata": {
    "colab_type": "text",
    "id": "0R9DiR8PMVaz"
   },
   "source": []
  },
  {
   "cell_type": "code",
   "execution_count": 0,
   "metadata": {
    "colab": {},
    "colab_type": "code",
    "id": "-RFmJhu1HkLV"
   },
   "outputs": [],
   "source": [
    "predictions = catboost_model.predict(df1.values)"
   ]
  },
  {
   "cell_type": "code",
   "execution_count": 131,
   "metadata": {
    "colab": {
     "base_uri": "https://localhost:8080/",
     "height": 1000
    },
    "colab_type": "code",
    "id": "N6AZcEBQI4CS",
    "outputId": "0380cdbc-3e19-46d2-84ae-56d8a4ce1ea5"
   },
   "outputs": [
    {
     "data": {
      "text/html": [
       "<div>\n",
       "<style scoped>\n",
       "    .dataframe tbody tr th:only-of-type {\n",
       "        vertical-align: middle;\n",
       "    }\n",
       "\n",
       "    .dataframe tbody tr th {\n",
       "        vertical-align: top;\n",
       "    }\n",
       "\n",
       "    .dataframe thead th {\n",
       "        text-align: right;\n",
       "    }\n",
       "</style>\n",
       "<table border=\"1\" class=\"dataframe\">\n",
       "  <thead>\n",
       "    <tr style=\"text-align: right;\">\n",
       "      <th></th>\n",
       "      <th>Loan_ID</th>\n",
       "      <th>Interest_Rate</th>\n",
       "    </tr>\n",
       "  </thead>\n",
       "  <tbody>\n",
       "    <tr>\n",
       "      <th>0</th>\n",
       "      <td>10164310</td>\n",
       "      <td>2</td>\n",
       "    </tr>\n",
       "    <tr>\n",
       "      <th>1</th>\n",
       "      <td>10164311</td>\n",
       "      <td>1</td>\n",
       "    </tr>\n",
       "    <tr>\n",
       "      <th>2</th>\n",
       "      <td>10164312</td>\n",
       "      <td>3</td>\n",
       "    </tr>\n",
       "    <tr>\n",
       "      <th>3</th>\n",
       "      <td>10164313</td>\n",
       "      <td>2</td>\n",
       "    </tr>\n",
       "    <tr>\n",
       "      <th>4</th>\n",
       "      <td>10164314</td>\n",
       "      <td>2</td>\n",
       "    </tr>\n",
       "    <tr>\n",
       "      <th>5</th>\n",
       "      <td>10164315</td>\n",
       "      <td>3</td>\n",
       "    </tr>\n",
       "    <tr>\n",
       "      <th>6</th>\n",
       "      <td>10164316</td>\n",
       "      <td>3</td>\n",
       "    </tr>\n",
       "    <tr>\n",
       "      <th>7</th>\n",
       "      <td>10164317</td>\n",
       "      <td>3</td>\n",
       "    </tr>\n",
       "    <tr>\n",
       "      <th>8</th>\n",
       "      <td>10164318</td>\n",
       "      <td>3</td>\n",
       "    </tr>\n",
       "    <tr>\n",
       "      <th>9</th>\n",
       "      <td>10164319</td>\n",
       "      <td>3</td>\n",
       "    </tr>\n",
       "    <tr>\n",
       "      <th>10</th>\n",
       "      <td>10164320</td>\n",
       "      <td>3</td>\n",
       "    </tr>\n",
       "    <tr>\n",
       "      <th>11</th>\n",
       "      <td>10164321</td>\n",
       "      <td>2</td>\n",
       "    </tr>\n",
       "    <tr>\n",
       "      <th>12</th>\n",
       "      <td>10164322</td>\n",
       "      <td>2</td>\n",
       "    </tr>\n",
       "    <tr>\n",
       "      <th>13</th>\n",
       "      <td>10164323</td>\n",
       "      <td>2</td>\n",
       "    </tr>\n",
       "    <tr>\n",
       "      <th>14</th>\n",
       "      <td>10164324</td>\n",
       "      <td>2</td>\n",
       "    </tr>\n",
       "    <tr>\n",
       "      <th>15</th>\n",
       "      <td>10164325</td>\n",
       "      <td>2</td>\n",
       "    </tr>\n",
       "    <tr>\n",
       "      <th>16</th>\n",
       "      <td>10164326</td>\n",
       "      <td>1</td>\n",
       "    </tr>\n",
       "    <tr>\n",
       "      <th>17</th>\n",
       "      <td>10164327</td>\n",
       "      <td>3</td>\n",
       "    </tr>\n",
       "    <tr>\n",
       "      <th>18</th>\n",
       "      <td>10164328</td>\n",
       "      <td>3</td>\n",
       "    </tr>\n",
       "    <tr>\n",
       "      <th>19</th>\n",
       "      <td>10164329</td>\n",
       "      <td>3</td>\n",
       "    </tr>\n",
       "    <tr>\n",
       "      <th>20</th>\n",
       "      <td>10164330</td>\n",
       "      <td>2</td>\n",
       "    </tr>\n",
       "    <tr>\n",
       "      <th>21</th>\n",
       "      <td>10164331</td>\n",
       "      <td>2</td>\n",
       "    </tr>\n",
       "    <tr>\n",
       "      <th>22</th>\n",
       "      <td>10164332</td>\n",
       "      <td>3</td>\n",
       "    </tr>\n",
       "    <tr>\n",
       "      <th>23</th>\n",
       "      <td>10164333</td>\n",
       "      <td>3</td>\n",
       "    </tr>\n",
       "    <tr>\n",
       "      <th>24</th>\n",
       "      <td>10164334</td>\n",
       "      <td>2</td>\n",
       "    </tr>\n",
       "    <tr>\n",
       "      <th>25</th>\n",
       "      <td>10164335</td>\n",
       "      <td>3</td>\n",
       "    </tr>\n",
       "    <tr>\n",
       "      <th>26</th>\n",
       "      <td>10164336</td>\n",
       "      <td>3</td>\n",
       "    </tr>\n",
       "    <tr>\n",
       "      <th>27</th>\n",
       "      <td>10164337</td>\n",
       "      <td>2</td>\n",
       "    </tr>\n",
       "    <tr>\n",
       "      <th>28</th>\n",
       "      <td>10164338</td>\n",
       "      <td>2</td>\n",
       "    </tr>\n",
       "    <tr>\n",
       "      <th>29</th>\n",
       "      <td>10164339</td>\n",
       "      <td>2</td>\n",
       "    </tr>\n",
       "    <tr>\n",
       "      <th>30</th>\n",
       "      <td>10164340</td>\n",
       "      <td>2</td>\n",
       "    </tr>\n",
       "    <tr>\n",
       "      <th>31</th>\n",
       "      <td>10164341</td>\n",
       "      <td>3</td>\n",
       "    </tr>\n",
       "    <tr>\n",
       "      <th>32</th>\n",
       "      <td>10164342</td>\n",
       "      <td>2</td>\n",
       "    </tr>\n",
       "    <tr>\n",
       "      <th>33</th>\n",
       "      <td>10164343</td>\n",
       "      <td>2</td>\n",
       "    </tr>\n",
       "    <tr>\n",
       "      <th>34</th>\n",
       "      <td>10164344</td>\n",
       "      <td>2</td>\n",
       "    </tr>\n",
       "    <tr>\n",
       "      <th>35</th>\n",
       "      <td>10164345</td>\n",
       "      <td>3</td>\n",
       "    </tr>\n",
       "    <tr>\n",
       "      <th>36</th>\n",
       "      <td>10164346</td>\n",
       "      <td>2</td>\n",
       "    </tr>\n",
       "    <tr>\n",
       "      <th>37</th>\n",
       "      <td>10164347</td>\n",
       "      <td>3</td>\n",
       "    </tr>\n",
       "    <tr>\n",
       "      <th>38</th>\n",
       "      <td>10164348</td>\n",
       "      <td>2</td>\n",
       "    </tr>\n",
       "    <tr>\n",
       "      <th>39</th>\n",
       "      <td>10164349</td>\n",
       "      <td>2</td>\n",
       "    </tr>\n",
       "    <tr>\n",
       "      <th>40</th>\n",
       "      <td>10164350</td>\n",
       "      <td>2</td>\n",
       "    </tr>\n",
       "    <tr>\n",
       "      <th>41</th>\n",
       "      <td>10164351</td>\n",
       "      <td>2</td>\n",
       "    </tr>\n",
       "    <tr>\n",
       "      <th>42</th>\n",
       "      <td>10164352</td>\n",
       "      <td>2</td>\n",
       "    </tr>\n",
       "    <tr>\n",
       "      <th>43</th>\n",
       "      <td>10164353</td>\n",
       "      <td>2</td>\n",
       "    </tr>\n",
       "    <tr>\n",
       "      <th>44</th>\n",
       "      <td>10164354</td>\n",
       "      <td>3</td>\n",
       "    </tr>\n",
       "    <tr>\n",
       "      <th>45</th>\n",
       "      <td>10164355</td>\n",
       "      <td>3</td>\n",
       "    </tr>\n",
       "    <tr>\n",
       "      <th>46</th>\n",
       "      <td>10164356</td>\n",
       "      <td>2</td>\n",
       "    </tr>\n",
       "    <tr>\n",
       "      <th>47</th>\n",
       "      <td>10164357</td>\n",
       "      <td>3</td>\n",
       "    </tr>\n",
       "    <tr>\n",
       "      <th>48</th>\n",
       "      <td>10164358</td>\n",
       "      <td>3</td>\n",
       "    </tr>\n",
       "    <tr>\n",
       "      <th>49</th>\n",
       "      <td>10164359</td>\n",
       "      <td>3</td>\n",
       "    </tr>\n",
       "  </tbody>\n",
       "</table>\n",
       "</div>"
      ],
      "text/plain": [
       "     Loan_ID  Interest_Rate\n",
       "0   10164310              2\n",
       "1   10164311              1\n",
       "2   10164312              3\n",
       "3   10164313              2\n",
       "4   10164314              2\n",
       "5   10164315              3\n",
       "6   10164316              3\n",
       "7   10164317              3\n",
       "8   10164318              3\n",
       "9   10164319              3\n",
       "10  10164320              3\n",
       "11  10164321              2\n",
       "12  10164322              2\n",
       "13  10164323              2\n",
       "14  10164324              2\n",
       "15  10164325              2\n",
       "16  10164326              1\n",
       "17  10164327              3\n",
       "18  10164328              3\n",
       "19  10164329              3\n",
       "20  10164330              2\n",
       "21  10164331              2\n",
       "22  10164332              3\n",
       "23  10164333              3\n",
       "24  10164334              2\n",
       "25  10164335              3\n",
       "26  10164336              3\n",
       "27  10164337              2\n",
       "28  10164338              2\n",
       "29  10164339              2\n",
       "30  10164340              2\n",
       "31  10164341              3\n",
       "32  10164342              2\n",
       "33  10164343              2\n",
       "34  10164344              2\n",
       "35  10164345              3\n",
       "36  10164346              2\n",
       "37  10164347              3\n",
       "38  10164348              2\n",
       "39  10164349              2\n",
       "40  10164350              2\n",
       "41  10164351              2\n",
       "42  10164352              2\n",
       "43  10164353              2\n",
       "44  10164354              3\n",
       "45  10164355              3\n",
       "46  10164356              2\n",
       "47  10164357              3\n",
       "48  10164358              3\n",
       "49  10164359              3"
      ]
     },
     "execution_count": 131,
     "metadata": {
      "tags": []
     },
     "output_type": "execute_result"
    }
   ],
   "source": [
    "submission = pd.DataFrame()\n",
    "submission['Loan_ID'] = df1['Loan_ID']\n",
    "submission['Interest_Rate'] = predictions # our model predictions on the test dataset\n",
    "submission.head(50)"
   ]
  },
  {
   "cell_type": "code",
   "execution_count": 0,
   "metadata": {
    "colab": {},
    "colab_type": "code",
    "id": "VfYpF0VoKUiI"
   },
   "outputs": [],
   "source": [
    "submission.to_csv(\"csv14.csv\",index=False)"
   ]
  },
  {
   "cell_type": "code",
   "execution_count": 0,
   "metadata": {
    "colab": {},
    "colab_type": "code",
    "id": "KLnL_FvRKVhb"
   },
   "outputs": [],
   "source": []
  }
 ],
 "metadata": {
  "accelerator": "GPU",
  "colab": {
   "name": "janatahack.ipynb",
   "provenance": []
  },
  "kernelspec": {
   "display_name": "Python 3",
   "language": "python",
   "name": "python3"
  },
  "language_info": {
   "codemirror_mode": {
    "name": "ipython",
    "version": 3
   },
   "file_extension": ".py",
   "mimetype": "text/x-python",
   "name": "python",
   "nbconvert_exporter": "python",
   "pygments_lexer": "ipython3",
   "version": "3.6.5"
  }
 },
 "nbformat": 4,
 "nbformat_minor": 1
}
