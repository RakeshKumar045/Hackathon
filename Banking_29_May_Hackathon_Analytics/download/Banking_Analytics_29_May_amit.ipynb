{
 "cells": [
  {
   "cell_type": "code",
   "execution_count": null,
   "metadata": {},
   "outputs": [],
   "source": []
  },
  {
   "cell_type": "code",
   "execution_count": 1,
   "metadata": {},
   "outputs": [
    {
     "name": "stderr",
     "output_type": "stream",
     "text": [
      "Using TensorFlow backend.\n"
     ]
    }
   ],
   "source": [
    "\n",
    "from sklearn.base import TransformerMixin, BaseEstimator\n",
    "\n",
    "from collections import Counter , defaultdict\n",
    "\n",
    "import pandas as pd\n",
    "\n",
    "pd.set_option('display.max_columns', None)\n",
    "\n",
    "\n",
    "from pandas import Series as s , DataFrame as df\n",
    "import numpy as np\n",
    "\n",
    "import seaborn as sns\n",
    "# import matplotlib.pyplot as plt\n",
    "\n",
    "# To ignore warnings\n",
    "import warnings\n",
    "warnings.filterwarnings(\"ignore\")\n",
    "\n",
    "from matplotlib import pyplot as plt, rcParams as rc\n",
    "\n",
    "\n",
    "%matplotlib inline\n",
    "rc[\"figure.figsize\"] = 10,6\n",
    "\n",
    "import datetime\n",
    "import datetime as dt\n",
    "\n",
    "from sklearn.model_selection  import StratifiedKFold\n",
    "from sklearn.decomposition import PCA\n",
    "\n",
    "from iteration_utilities import duplicates, unique_everseen\n",
    "\n",
    "import sys\n",
    "from itertools import groupby\n",
    "from operator import itemgetter\n",
    "from timeit import timeit\n",
    "\n",
    "\n",
    "## RandomOverSampler to handle imbalanced data\n",
    "from imblearn.over_sampling import RandomOverSampler # over sampling method 2"
   ]
  },
  {
   "cell_type": "code",
   "execution_count": 2,
   "metadata": {},
   "outputs": [],
   "source": [
    "\n",
    "#Algorithm\n",
    "from sklearn.linear_model import LogisticRegression\n",
    "from sklearn.svm import SVC\n",
    "from sklearn.tree import DecisionTreeClassifier\n",
    "from sklearn.ensemble import RandomForestClassifier\n",
    "from xgboost import XGBClassifier\n",
    "\n",
    "from sklearn.naive_bayes import MultinomialNB\n",
    "\n",
    "# from lightgbm import LGBMClassifier\n",
    "# from catboost import CatBoostClassifier\n",
    "\n",
    "#preprocessing\n",
    "from sklearn.preprocessing import LabelEncoder\n",
    "\n",
    "from sklearn.preprocessing import StandardScaler, normalize\n",
    "\n",
    "\n",
    "\n",
    "from sklearn.model_selection import train_test_split\n",
    "\n",
    "# import lightgbm as lgb\n",
    "\n",
    "\n",
    "#Metrics\n",
    "from sklearn.metrics import accuracy_score, roc_auc_score, roc_curve, recall_score, precision_score\n",
    "from sklearn.metrics import confusion_matrix, classification_report, f1_score, precision_recall_fscore_support\n",
    "\n",
    "from sklearn.pipeline import Pipeline\n",
    "\n",
    "# GridSearchCV to find optimal min_samples_leaf\n",
    "from sklearn.model_selection import KFold\n",
    "from sklearn.model_selection import GridSearchCV\n",
    "import xgboost as xgb"
   ]
  },
  {
   "cell_type": "code",
   "execution_count": null,
   "metadata": {},
   "outputs": [],
   "source": []
  },
  {
   "cell_type": "code",
   "execution_count": 3,
   "metadata": {},
   "outputs": [
    {
     "data": {
      "text/plain": [
       "((164309, 14), (109541, 13), (109541, 2))"
      ]
     },
     "execution_count": 3,
     "metadata": {},
     "output_type": "execute_result"
    }
   ],
   "source": [
    "train = pd.read_csv(\"train_fNxu4vz.csv\")\n",
    "\n",
    "test = pd.read_csv(\"test_fjtUOL8.csv\")\n",
    "submission = pd.read_csv(\"sample_submission_HSqiq1Q.csv\")\n",
    "\n",
    "#df10 = df.copy()\n",
    "train.shape, test.shape, submission.shape"
   ]
  },
  {
   "cell_type": "code",
   "execution_count": 4,
   "metadata": {},
   "outputs": [],
   "source": [
    "df = train.copy() \n",
    "df_test = test.copy() "
   ]
  },
  {
   "cell_type": "code",
   "execution_count": 5,
   "metadata": {},
   "outputs": [],
   "source": [
    "def get_percentage_miss_value(dataset):\n",
    "    higher_miss_value_column = []\n",
    "    miss_threshold_value = 50\n",
    "    \n",
    "    for i in dataset.columns:\n",
    "        if dataset[i].isna().sum() > 1: \n",
    "            perectange_val = (dataset[i].isna().sum() / len(dataset)) * 100\n",
    "            print(\"Column-> \" , i, \", total no of missing value : \",dataset[i].isna().sum() , \" & :         \", round(perectange_val,2) ,\" %\")\n",
    "                \n",
    "            if(perectange_val > miss_threshold_value):\n",
    "                higher_miss_value_column.append(i)\n",
    "            \n",
    "    print(\"\\n\\n\\n\")\n",
    "    \n",
    "    if higher_miss_value_column:\n",
    "        print(\"Higher Missing values in Columns for Delete : \", higher_miss_value_column)\n",
    "    else:\n",
    "        print(\"There are no Higher Column Missing values in Dataset\")"
   ]
  },
  {
   "cell_type": "code",
   "execution_count": 6,
   "metadata": {},
   "outputs": [
    {
     "name": "stdout",
     "output_type": "stream",
     "text": [
      "Column->  Length_Employed , total no of missing value :  7371  & :          4.49  %\n",
      "Column->  Home_Owner , total no of missing value :  25349  & :          15.43  %\n",
      "Column->  Annual_Income , total no of missing value :  25102  & :          15.28  %\n",
      "Column->  Months_Since_Deliquency , total no of missing value :  88379  & :          53.79  %\n",
      "\n",
      "\n",
      "\n",
      "\n",
      "Higher Missing values in Columns for Delete :  ['Months_Since_Deliquency']\n"
     ]
    }
   ],
   "source": [
    "get_percentage_miss_value(df)"
   ]
  },
  {
   "cell_type": "code",
   "execution_count": null,
   "metadata": {},
   "outputs": [],
   "source": []
  },
  {
   "cell_type": "code",
   "execution_count": 7,
   "metadata": {},
   "outputs": [
    {
     "name": "stdout",
     "output_type": "stream",
     "text": [
      "Column->  Length_Employed , total no of missing value :  4936  & :          4.51  %\n",
      "Column->  Home_Owner , total no of missing value :  16711  & :          15.26  %\n",
      "Column->  Annual_Income , total no of missing value :  16898  & :          15.43  %\n",
      "Column->  Months_Since_Deliquency , total no of missing value :  58859  & :          53.73  %\n",
      "\n",
      "\n",
      "\n",
      "\n",
      "Higher Missing values in Columns for Delete :  ['Months_Since_Deliquency']\n"
     ]
    }
   ],
   "source": [
    "get_percentage_miss_value(df_test)"
   ]
  },
  {
   "cell_type": "code",
   "execution_count": null,
   "metadata": {},
   "outputs": [],
   "source": []
  },
  {
   "cell_type": "code",
   "execution_count": 8,
   "metadata": {},
   "outputs": [],
   "source": [
    "def check_cloumn_details_type_numberical(dataset):\n",
    "    for i in dataset.columns:\n",
    "        if (dataset[i].dtype == \"int\"):\n",
    "            print(\"Columns name :  \",i  )\n",
    "            \n",
    "            print(dict(Counter(dataset[i])))\n",
    "            print(\"*\"*100)\n",
    "            print(\"\\n\")\n",
    "            \n",
    "            \n",
    "def check_cloumn_details_type_float(dataset):\n",
    "    for i in dataset.columns:\n",
    "        if (dataset[i].dtype == \"float\"):\n",
    "            print(\"Columns name :  \",i  )\n",
    "            \n",
    "            print(dict(Counter(dataset[i])))\n",
    "            print(\"*\"*100)\n",
    "            print(\"\\n\")\n",
    "            \n",
    "\n",
    "def check_cloumn_details_type_categorical(dataset):\n",
    "    for i in dataset.columns:\n",
    "        if(dataset[i].dtype == \"object\"):\n",
    "            print(\"Columns name :  \",i  )\n",
    "            \n",
    "            print(dict(Counter(dataset[i])))\n",
    "            \n",
    "            print(\"*\"*100)\n",
    "            print(\"\\n\")\n",
    "            "
   ]
  },
  {
   "cell_type": "code",
   "execution_count": 9,
   "metadata": {},
   "outputs": [
    {
     "name": "stdout",
     "output_type": "stream",
     "text": [
      "Columns name :   Loan_Amount_Requested\n",
      "{'7,000': 2628, '30,000': 2909, '24,725': 15, '16,000': 4376, '17,000': 1093, '4,500': 527, '18,075': 53, '15,000': 8459, '6,300': 125, '11,700': 168, '7,200': 1283, '6,700': 102, '35,000': 5844, '20,800': 106, '19,925': 6, '25,000': 4001, '6,000': 4790, '4,000': 2112, '8,000': 5174, '12,000': 9018, '9,050': 28, '2,200': 99, '20,000': 7993, '21,700': 9, '8,875': 343, '10,075': 84, '28,625': 70, '2,700': 88, '21,000': 2038, '8,400': 734, '3,250': 143, '11,850': 86, '1,500': 386, '30,700': 1, '4,175': 9, '11,000': 1353, '31,050': 6, '33,150': 11, '5,400': 255, '11,100': 165, '29,175': 103, '22,500': 161, '22,000': 1018, '19,075': 96, '18,000': 3992, '28,000': 2460, '10,800': 484, '16,575': 28, '7,800': 292, '9,750': 291, '10,225': 31, '5,000': 4842, '13,200': 323, '9,500': 356, '18,600': 49, '9,800': 188, '10,000': 11622, '8,500': 645, '13,000': 1470, '3,500': 647, '22,400': 169, '4,200': 424, '24,000': 3526, '14,000': 2509, '2,000': 970, '14,100': 59, '21,500': 46, '6,600': 208, '10,325': 37, '30,100': 12, '9,600': 1262, '13,800': 83, '3,000': 1923, '5,600': 575, '17,500': 442, '6,800': 147, '14,425': 8, '19,000': 520, '28,500': 93, '15,450': 30, '9,000': 2161, '14,475': 18, '24,925': 117, '15,475': 27, '7,400': 63, '4,375': 113, '11,925': 24, '3,200': 301, '23,275': 28, '21,600': 267, '19,350': 39, '29,000': 121, '9,950': 104, '6,900': 64, '20,825': 19, '4,800': 820, '10,200': 240, '20,950': 121, '7,900': 69, '6,500': 821, '7,500': 1055, '4,975': 15, '19,200': 564, '10,500': 589, '3,350': 35, '22,800': 150, '15,250': 151, '3,600': 583, '9,700': 51, '28,800': 50, '12,250': 161, '15,125': 37, '13,775': 18, '11,400': 146, '8,325': 208, '10,550': 40, '9,450': 218, '21,275': 13, '25,700': 15, '9,875': 52, '11,200': 727, '2,250': 29, '17,625': 173, '1,200': 260, '17,200': 48, '13,500': 313, '22,100': 23, '12,175': 139, '19,575': 46, '31,825': 60, '8,750': 67, '4,750': 155, '18,900': 76, '19,500': 222, '11,875': 76, '16,800': 462, '25,600': 97, '10,975': 76, '3,800': 67, '5,500': 723, '17,475': 112, '13,250': 126, '14,300': 116, '27,575': 114, '13,550': 26, '14,400': 966, '2,600': 79, '5,200': 161, '10,300': 61, '20,050': 115, '11,975': 75, '21,850': 116, '10,625': 277, '16,500': 243, '13,100': 41, '12,500': 438, '9,725': 23, '15,850': 126, '18,200': 117, '9,325': 102, '14,375': 84, '19,725': 34, '21,250': 96, '8,050': 55, '19,750': 198, '2,400': 445, '7,925': 52, '23,000': 440, '16,425': 106, '15,700': 35, '14,600': 90, '1,000': 462, '1,750': 31, '16,775': 14, '9,250': 183, '9,675': 7, '8,450': 82, '13,300': 49, '16,475': 17, '24,250': 168, '5,100': 75, '8,975': 88, '33,200': 1, '11,575': 31, '16,075': 16, '11,125': 34, '9,100': 123, '13,450': 17, '25,450': 73, '4,250': 50, '8,725': 76, '26,000': 357, '5,250': 43, '16,525': 22, '21,625': 26, '22,950': 51, '33,000': 223, '7,300': 63, '2,500': 679, '26,500': 158, '32,350': 79, '7,125': 134, '7,225': 7, '15,600': 268, '32,500': 55, '3,900': 85, '7,750': 206, '26,375': 123, '18,825': 162, '5,300': 89, '13,125': 12, '27,500': 114, '6,625': 151, '11,550': 25, '18,375': 24, '17,050': 131, '1,800': 198, '8,600': 78, '10,875': 37, '7,375': 62, '20,500': 140, '23,450': 16, '11,175': 42, '25,725': 17, '18,050': 9, '26,100': 5, '6,400': 578, '20,750': 27, '12,950': 49, '14,875': 22, '12,800': 388, '5,275': 31, '8,575': 87, '20,425': 19, '2,800': 223, '23,975': 40, '12,300': 86, '25,475': 63, '5,350': 21, '10,750': 149, '15,400': 77, '26,400': 99, '10,450': 38, '8,800': 223, '12,325': 24, '5,700': 86, '4,550': 30, '14,500': 239, '7,950': 27, '6,250': 261, '13,925': 36, '10,175': 21, '14,975': 67, '20,400': 155, '5,575': 21, '17,250': 24, '33,950': 52, '18,500': 165, '12,725': 41, '22,750': 186, '24,550': 5, '23,675': 64, '5,375': 221, '23,925': 18, '18,125': 24, '2,125': 22, '11,300': 74, '1,600': 163, '33,575': 35, '34,625': 7, '23,800': 42, '3,700': 48, '13,600': 200, '23,400': 42, '32,200': 8, '4,600': 75, '1,400': 113, '12,550': 30, '21,550': 17, '12,100': 41, '14,700': 80, '10,850': 72, '23,100': 11, '4,400': 86, '9,900': 68, '12,600': 207, '21,875': 9, '12,075': 50, '8,200': 98, '20,775': 27, '10,250': 31, '14,675': 102, '5,125': 49, '11,500': 592, '28,200': 53, '7,575': 37, '5,175': 31, '15,325': 17, '32,000': 409, '3,650': 17, '10,400': 317, '31,200': 25, '22,550': 21, '12,675': 22, '24,700': 18, '11,950': 55, '18,250': 140, '6,875': 11, '33,500': 23, '6,200': 86, '24,375': 116, '8,225': 45, '14,325': 23, '31,750': 1, '9,175': 69, '19,800': 102, '17,375': 15, '11,600': 47, '16,250': 22, '27,050': 62, '10,600': 60, '17,750': 29, '14,075': 77, '18,450': 64, '17,225': 20, '27,000': 309, '7,425': 28, '4,700': 34, '3,750': 57, '7,700': 106, '8,475': 41, '17,775': 16, '1,450': 33, '17,950': 13, '22,250': 116, '14,125': 156, '24,500': 133, '28,900': 7, '9,850': 54, '21,100': 50, '18,875': 25, '3,125': 36, '23,350': 45, '17,425': 34, '8,850': 18, '14,750': 53, '11,225': 25, '4,950': 123, '10,375': 87, '8,250': 72, '6,925': 27, '10,650': 27, '14,575': 55, '16,375': 29, '12,375': 156, '8,625': 13, '23,550': 8, '9,400': 43, '19,400': 57, '10,950': 34, '21,725': 72, '29,575': 10, '3,625': 73, '23,850': 113, '23,875': 22, '16,300': 47, '7,350': 67, '12,575': 56, '23,725': 20, '30,750': 63, '19,950': 54, '14,450': 27, '3,150': 19, '2,850': 24, '6,825': 36, '24,125': 31, '10,050': 106, '7,825': 20, '13,475': 102, '16,625': 19, '7,725': 19, '13,675': 19, '6,950': 63, '17,325': 63, '16,450': 97, '13,025': 19, '6,075': 167, '20,200': 27, '14,800': 78, '16,225': 33, '12,050': 39, '17,925': 14, '3,300': 80, '18,225': 145, '15,500': 161, '31,725': 2, '19,650': 30, '18,350': 38, '8,075': 18, '25,200': 96, '21,575': 7, '13,625': 43, '7,475': 58, '17,600': 226, '17,975': 58, '20,625': 15, '8,675': 32, '2,100': 111, '31,300': 90, '16,550': 36, '3,925': 14, '31,375': 6, '21,200': 139, '28,525': 1, '26,275': 6, '6,725': 30, '29,700': 117, '28,100': 65, '18,550': 99, '13,375': 56, '5,025': 20, '7,550': 91, '25,225': 12, '30,800': 26, '11,650': 26, '21,450': 12, '15,225': 27, '13,225': 56, '3,825': 65, '16,950': 101, '14,625': 14, '11,775': 26, '5,650': 25, '15,100': 32, '27,800': 5, '6,050': 36, '31,500': 89, '7,525': 24, '5,825': 43, '11,725': 30, '19,600': 123, '19,900': 10, '23,300': 16, '29,325': 37, '18,625': 15, '27,300': 68, '2,300': 67, '32,750': 19, '16,600': 24, '19,875': 28, '24,075': 7, '32,400': 27, '11,350': 18, '33,425': 94, '17,350': 35, '6,175': 11, '13,150': 62, '22,300': 15, '24,200': 13, '18,275': 11, '27,650': 23, '6,650': 37, '33,025': 15, '31,450': 27, '13,325': 23, '18,400': 78, '5,875': 70, '31,575': 26, '17,875': 46, '5,800': 75, '2,525': 16, '12,525': 18, '17,275': 30, '30,225': 60, '7,675': 39, '24,600': 31, '7,975': 31, '8,775': 16, '14,350': 55, '5,550': 38, '10,350': 31, '8,950': 69, '18,650': 14, '9,525': 43, '15,550': 46, '16,750': 164, '26,925': 19, '5,050': 35, '26,800': 13, '11,800': 46, '20,275': 23, '34,475': 66, '10,575': 89, '6,850': 74, '31,800': 3, '29,100': 64, '6,100': 50, '28,050': 3, '11,625': 87, '22,475': 25, '14,525': 18, '16,200': 130, '15,350': 90, '10,475': 32, '12,400': 62, '10,775': 36, '24,575': 88, '9,350': 35, '19,425': 82, '10,100': 33, '15,875': 97, '17,125': 26, '11,900': 50, '15,825': 21, '4,625': 27, '4,900': 54, '15,675': 15, '2,150': 23, '34,025': 7, '16,400': 32, '4,825': 24, '3,275': 10, '2,650': 31, '21,075': 36, '15,750': 44, '12,650': 15, '9,775': 28, '7,600': 68, '1,875': 12, '25,250': 9, '34,000': 97, '24,800': 54, '20,125': 116, '17,825': 15, '20,550': 22, '11,325': 97, '9,975': 67, '14,025': 33, '11,075': 39, '15,175': 15, '14,225': 23, '6,225': 35, '24,850': 6, '7,100': 62, '32,100': 27, '6,350': 75, '24,525': 11, '9,300': 53, '29,875': 3, '19,125': 80, '16,700': 44, '24,950': 16, '11,750': 42, '15,900': 44, '23,125': 17, '2,225': 13, '6,750': 22, '1,925': 25, '28,775': 40, '19,050': 20, '12,750': 29, '8,100': 43, '16,925': 10, '13,700': 63, '26,750': 22, '20,150': 29, '24,750': 11, '7,175': 22, '18,700': 44, '26,850': 23, '23,500': 133, '8,275': 34, '7,625': 39, '31,000': 83, '12,700': 71, '12,925': 20, '14,825': 95, '32,225': 14, '4,275': 17, '13,050': 27, '34,225': 6, '5,725': 34, '29,850': 36, '12,150': 29, '13,175': 22, '32,875': 45, '21,050': 9, '3,025': 15, '3,850': 27, '17,450': 19, '25,900': 15, '28,250': 19, '14,900': 70, '19,475': 14, '3,100': 24, '8,150': 33, '8,900': 36, '15,950': 28, '3,075': 21, '27,600': 35, '9,025': 27, '15,975': 22, '2,875': 53, '19,275': 19, '3,425': 16, '13,900': 40, '12,850': 20, '12,900': 23, '25,975': 96, '28,975': 18, '24,350': 12, '19,675': 21, '25,825': 9, '8,925': 24, '1,375': 4, '9,200': 99, '15,725': 14, '5,075': 33, '5,850': 33, '30,625': 10, '20,350': 15, '10,700': 31, '25,525': 7, '17,675': 21, '23,600': 27, '22,675': 27, '22,575': 13, '19,700': 29, '9,125': 52, '20,675': 98, '12,025': 16, '4,675': 33, '30,500': 20, '1,675': 20, '27,900': 6, '21,750': 17, '19,175': 11, '14,650': 8, '5,225': 28, '33,700': 7, '9,925': 74, '20,325': 7, '6,575': 27, '11,525': 23, '29,500': 24, '25,175': 4, '7,775': 14, '18,300': 29, '3,725': 15, '17,400': 36, '6,125': 20, '15,775': 34, '8,650': 35, '12,625': 20, '6,775': 27, '31,175': 23, '2,725': 14, '16,100': 54, '3,375': 12, '7,450': 32, '15,800': 42, '15,150': 5, '15,200': 68, '5,325': 39, '21,375': 3, '27,550': 4, '7,025': 44, '15,925': 29, '21,525': 11, '17,300': 15, '22,375': 21, '3,950': 21, '23,825': 10, '17,850': 22, '19,300': 37, '5,750': 86, '9,575': 21, '4,925': 13, '2,575': 9, '22,050': 25, '14,150': 17, '33,600': 50, '4,125': 41, '10,275': 13, '23,325': 78, '6,425': 25, '30,900': 10, '10,150': 49, '22,275': 2, '20,375': 42, '26,250': 17, '31,900': 7, '30,075': 13, '16,900': 36, '10,925': 20, '16,175': 6, '12,875': 60, '15,300': 33, '23,225': 18, '9,825': 20, '22,875': 24, '2,900': 20, '9,475': 14, '24,450': 35, '4,075': 24, '19,375': 28, '11,675': 26, '13,750': 109, '11,375': 22, '8,350': 32, '5,975': 30, '27,125': 6, '26,325': 13, '8,825': 15, '3,050': 17, '10,675': 16, '30,875': 1, '22,700': 5, '12,350': 28, '3,775': 18, '16,150': 58, '21,650': 19, '14,175': 25, '28,425': 15, '33,300': 10, '1,525': 3, '4,300': 63, '28,750': 7, '11,475': 29, '18,800': 45, '13,650': 38, '6,150': 39, '18,675': 31, '6,450': 43, '26,050': 9, '22,200': 35, '15,425': 22, '26,350': 5, '22,900': 15, '7,150': 36, '17,550': 42, '23,175': 8, '5,475': 23, '9,075': 21, '5,675': 34, '24,625': 28, '12,275': 31, '21,325': 16, '3,475': 14, '2,750': 53, '20,925': 8, '29,725': 2, '12,200': 56, '12,775': 14, '4,475': 25, '24,150': 5, '10,425': 38, '18,975': 19, '4,100': 38, '25,150': 20, '5,925': 19, '29,975': 54, '9,550': 53, '21,400': 16, '4,850': 27, '27,400': 7, '13,400': 52, '19,450': 9, '19,100': 26, '32,950': 17, '27,725': 18, '26,775': 15, '1,025': 2, '4,725': 41, '22,525': 17, '7,875': 46, '20,225': 24, '3,975': 37, '31,975': 12, '17,100': 50, '2,175': 14, '9,225': 21, '15,575': 10, '15,075': 39, '27,250': 9, '31,950': 2, '19,150': 35, '11,425': 15, '6,475': 31, '21,350': 42, '11,450': 19, '26,525': 4, '13,825': 24, '1,100': 8, '24,475': 16, '8,700': 57, '28,550': 9, '10,725': 50, '27,100': 4, '26,200': 16, '9,650': 34, '30,375': 24, '3,875': 10, '22,125': 32, '19,550': 10, '14,850': 22, '26,425': 1, '5,950': 73, '12,825': 30, '21,800': 11, '4,350': 21, '25,500': 25, '8,125': 93, '11,250': 58, '26,600': 14, '3,525': 18, '6,975': 14, '5,625': 24, '12,450': 27, '22,175': 5, '4,575': 31, '31,100': 5, '6,025': 14, '25,550': 2, '27,425': 13, '20,175': 15, '34,100': 11, '3,400': 42, '23,050': 12, '26,300': 17, '25,325': 15, '15,050': 58, '17,800': 30, '8,375': 15, '21,975': 21, '7,275': 17, '27,200': 78, '9,150': 17, '18,950': 33, '10,900': 27, '5,150': 34, '11,275': 24, '18,425': 22, '26,575': 13, '16,850': 26, '6,375': 37, '17,700': 28, '17,525': 6, '14,050': 14, '1,975': 9, '2,350': 9, '14,550': 18, '2,975': 22, '3,450': 20, '2,375': 6, '1,275': 5, '25,675': 6, '19,250': 21, '21,300': 14, '28,650': 10, '14,950': 28, '2,425': 12, '32,625': 9, '20,250': 20, '16,975': 18, '23,475': 14, '30,600': 1, '10,125': 20, '22,850': 13, '15,275': 20, '1,775': 9, '23,200': 50, '6,325': 41, '24,650': 21, '22,925': 3, '13,950': 25, '3,675': 17, '4,450': 58, '29,900': 26, '18,150': 44, '17,575': 15, '14,200': 26, '34,575': 1, '23,575': 7, '16,675': 27, '20,300': 17, '29,375': 6, '27,700': 7, '21,475': 10, '16,125': 8, '1,950': 23, '20,475': 24, '8,300': 34, '14,775': 8, '4,525': 32, '29,050': 20, '4,150': 20, '20,025': 5, '20,600': 19, '4,875': 29, '28,725': 1, '23,150': 4, '12,975': 27, '24,225': 6, '12,125': 16, '14,250': 29, '27,375': 2, '16,825': 37, '27,175': 15, '26,675': 2, '6,675': 14, '8,025': 14, '18,175': 6, '20,450': 6, '20,700': 33, '18,725': 30, '27,225': 1, '10,025': 11, '29,150': 2, '7,050': 10, '7,250': 49, '16,875': 11, '23,950': 5, '9,425': 9, '6,525': 13, '4,650': 26, '24,825': 13, '18,775': 26, '5,450': 16, '15,375': 17, '27,850': 16, '11,150': 28, '30,350': 1, '34,350': 10, '6,550': 13, '1,650': 6, '20,875': 14, '30,275': 2, '21,950': 12, '20,900': 12, '16,725': 7, '29,775': 10, '29,250': 20, '21,925': 11, '20,725': 19, '34,750': 9, '23,900': 16, '33,475': 1, '27,475': 6, '22,075': 9, '21,175': 7, '13,525': 10, '30,200': 5, '27,325': 19, '13,725': 12, '20,975': 19, '3,575': 8, '13,350': 22, '29,750': 2, '27,525': 17, '25,850': 16, '20,650': 7, '22,600': 18, '2,925': 9, '34,550': 9, '5,900': 29, '1,625': 12, '20,850': 14, '24,100': 3, '18,750': 13, '22,350': 10, '10,525': 38, '18,850': 10, '4,050': 13, '13,875': 7, '2,275': 7, '23,025': 9, '21,775': 6, '28,675': 1, '28,175': 6, '23,250': 3, '7,850': 26, '29,300': 3, '15,625': 28, '32,800': 2, '13,425': 9, '9,375': 12, '14,725': 20, '13,575': 20, '34,875': 16, '16,325': 14, '9,625': 25, '16,025': 10, '8,425': 20, '3,325': 13, '15,025': 4, '15,650': 11, '22,225': 5, '23,750': 32, '11,050': 25, '1,900': 15, '19,850': 11, '13,850': 19, '9,275': 11, '25,375': 17, '22,025': 6, '13,075': 6, '11,825': 6, '17,025': 10, '8,550': 21, '26,550': 5, '10,825': 11, '24,025': 5, '30,300': 9, '16,350': 10, '28,125': 7, '28,600': 8, '16,050': 12, '2,625': 23, '24,050': 5, '18,575': 7, '1,300': 33, '24,175': 40, '19,975': 15, '16,275': 7, '24,300': 11, '17,175': 7, '28,025': 2, '31,025': 10, '22,150': 9, '2,450': 8, '14,925': 7, '2,050': 14, '31,075': 2, '27,150': 20, '29,950': 6, '23,425': 7, '20,575': 6, '23,075': 17, '25,925': 12, '7,325': 17, '29,350': 1, '17,650': 10, '2,950': 11, '24,975': 8, '17,075': 10, '21,225': 3, '28,375': 13, '30,775': 1, '16,650': 16, '12,475': 10, '21,900': 5, '18,025': 5, '29,450': 14, '1,350': 7, '30,250': 2, '24,325': 3, '7,075': 35, '29,600': 5, '2,825': 12, '34,800': 12, '14,275': 13, '3,550': 22, '27,025': 2, '25,300': 6, '26,175': 1, '5,525': 22, '19,225': 8, '25,425': 1, '26,125': 10, '25,050': 16, '1,700': 18, '4,775': 17, '18,525': 12, '27,450': 15, '25,075': 20, '29,400': 13, '23,375': 9, '4,325': 16, '4,225': 13, '12,225': 15, '22,325': 13, '27,975': 24, '5,775': 15, '28,875': 7, '5,425': 6, '26,650': 9, '33,825': 7, '34,500': 11, '4,025': 19, '13,275': 12, '8,525': 8, '29,200': 2, '26,700': 3, '3,225': 8, '2,550': 17, '6,275': 16, '24,275': 6, '29,225': 8, '19,525': 5, '21,125': 17, '1,250': 9, '24,675': 2, '27,350': 2, '3,175': 17, '1,850': 9, '19,325': 12, '31,700': 10, '2,325': 2, '12,425': 8, '1,425': 2, '23,625': 2, '7,650': 23, '23,700': 17, '25,275': 2, '28,275': 1, '17,725': 9, '2,675': 7, '33,650': 1, '19,025': 11, '1,150': 2, '13,975': 12, '1,325': 7, '22,650': 10, '22,975': 2, '32,550': 1, '25,875': 12, '500': 3, '34,975': 5, '33,225': 6, '29,550': 6, '18,325': 5, '23,525': 2, '27,675': 3, '8,175': 9, '30,675': 1, '26,975': 2, '725': 1, '34,850': 4, '26,150': 10, '1,050': 3, '20,100': 13, '21,675': 3, '27,875': 4, '28,325': 7, '24,900': 4, '34,375': 1, '32,050': 1, '21,150': 7, '28,700': 7, '34,700': 1, '25,775': 3, '1,550': 5, '33,675': 1, '28,850': 4, '34,925': 2, '33,175': 1, '17,900': 13, '32,600': 1, '22,775': 1, '2,775': 6, '28,575': 3, '27,750': 3, '19,825': 5, '900': 1, '25,750': 2, '1,075': 4, '2,025': 1, '28,400': 4, '24,875': 3, '31,625': 3, '18,925': 5, '33,250': 2, '22,725': 2, '25,800': 5, '20,075': 5, '22,425': 9, '1,125': 3, '25,650': 3, '18,475': 5, '25,025': 6, '27,775': 2, '27,950': 1, '26,075': 2, '32,250': 4, '29,675': 5, '4,425': 5, '28,450': 6, '17,150': 10, '32,425': 6, '32,450': 1, '21,825': 9, '2,075': 4, '30,400': 3, '29,475': 2, '30,925': 3, '24,775': 3, '29,650': 1, '31,775': 3, '32,075': 1, '28,225': 1, '18,100': 4, '31,525': 2, '23,775': 4, '19,775': 13, '33,550': 1, '25,100': 2, '19,625': 3, '27,275': 4, '26,625': 5, '25,575': 2, '24,400': 7, '11,025': 15, '29,075': 1, '30,050': 1, '2,475': 3, '30,825': 2, '21,025': 7, '26,450': 3, '34,200': 3, '33,900': 1, '26,950': 5, '27,075': 6, '21,425': 5, '32,525': 1, '31,400': 2, '25,350': 4, '31,425': 2, '22,450': 3, '32,375': 1, '31,675': 1, '30,025': 2, '25,625': 2, '29,125': 3, '33,100': 1, '1,575': 4, '27,825': 2, '15,525': 3, '28,475': 1, '27,625': 1, '30,475': 1, '950': 1, '32,725': 1, '31,150': 2, '30,950': 2, '1,225': 2, '800': 1, '30,725': 1, '26,225': 2, '1,725': 2, '29,275': 2, '29,625': 1, '750': 1, '31,850': 1, '33,075': 1, '31,325': 1, '25,125': 2, '1,475': 3, '1,825': 2, '30,550': 2, '34,775': 1, '25,400': 1, '34,400': 3, '26,875': 2, '32,125': 2, '30,650': 2, '34,325': 1, '23,650': 2, '28,350': 3, '33,800': 2, '24,425': 1, '27,925': 1, '34,600': 1, '32,850': 2, '31,250': 1, '32,275': 1, '30,175': 1, '33,725': 1, '20,525': 2, '32,325': 1, '30,150': 1, '30,575': 1, '25,950': 1, '31,925': 1, '30,850': 2, '26,025': 2, '22,625': 1, '28,950': 1, '33,325': 1, '29,825': 1}\n",
      "****************************************************************************************************\n",
      "\n",
      "\n",
      "Columns name :   Length_Employed\n",
      "{'< 1 year': 12805, '4 years': 9784, '7 years': 9308, '8 years': 7917, '2 years': 14620, '10+ years': 52915, '1 year': 10422, nan: 7371, '6 years': 9094, '9 years': 6285, '3 years': 12974, '5 years': 10814}\n",
      "****************************************************************************************************\n",
      "\n",
      "\n",
      "Columns name :   Home_Owner\n",
      "{'Rent': 56031, 'Mortgage': 70345, nan: 25349, 'Own': 12525, 'Other': 49, 'None': 10}\n",
      "****************************************************************************************************\n",
      "\n",
      "\n",
      "Columns name :   Income_Verified\n"
     ]
    },
    {
     "name": "stdout",
     "output_type": "stream",
     "text": [
      "{'not verified': 51873, 'VERIFIED - income': 59421, 'VERIFIED - income source': 53015}\n",
      "****************************************************************************************************\n",
      "\n",
      "\n",
      "Columns name :   Purpose_Of_Loan\n",
      "{'car': 1885, 'debt_consolidation': 97101, 'credit_card': 36684, 'home_improvement': 9269, 'major_purchase': 3435, 'other': 8346, 'medical': 1541, 'small_business': 2392, 'moving': 974, 'wedding': 828, 'vacation': 837, 'house': 773, 'educational': 121, 'renewable_energy': 123}\n",
      "****************************************************************************************************\n",
      "\n",
      "\n",
      "Columns name :   Gender\n",
      "{'Female': 47133, 'Male': 117176}\n",
      "****************************************************************************************************\n",
      "\n",
      "\n"
     ]
    }
   ],
   "source": [
    "check_cloumn_details_type_categorical(df)"
   ]
  },
  {
   "cell_type": "code",
   "execution_count": null,
   "metadata": {},
   "outputs": [],
   "source": []
  },
  {
   "cell_type": "code",
   "execution_count": 10,
   "metadata": {},
   "outputs": [],
   "source": [
    "# check_cloumn_details_type_float(df)"
   ]
  },
  {
   "cell_type": "code",
   "execution_count": null,
   "metadata": {},
   "outputs": [],
   "source": []
  },
  {
   "cell_type": "code",
   "execution_count": 11,
   "metadata": {},
   "outputs": [],
   "source": [
    "def visualize_histogram(dataset):\n",
    "    # plot histogram\n",
    "    plt.figure(figsize=(25, 9))  # figure size in ratio 16:9\n",
    "    features = dataset.columns  # list of columns name\n",
    "    for i, j in enumerate(features):\n",
    "        plt.subplot(3, 3, i + 1)  # create subplot for histogram\n",
    "        plt.title(\"Histogram of {}\".format(j), fontsize=15)  # title of histogram\n",
    "\n",
    "        bins = len(dataset[j].unique())  # bins for histogram\n",
    "        plt.hist(dataset[j], bins=bins, rwidth=0.8, edgecolor=\"y\", linewidth=2, )  # plot histogram\n",
    "\n",
    "    plt.subplots_adjust(hspace=0.5)  # space between horixontal axes (subplots)"
   ]
  },
  {
   "cell_type": "code",
   "execution_count": 12,
   "metadata": {
    "scrolled": true
   },
   "outputs": [],
   "source": [
    "# visualize_histogram(df)"
   ]
  },
  {
   "cell_type": "code",
   "execution_count": 13,
   "metadata": {},
   "outputs": [],
   "source": [
    "# visualize_numberical_values(df)"
   ]
  },
  {
   "cell_type": "code",
   "execution_count": 14,
   "metadata": {},
   "outputs": [],
   "source": [
    "#Label encoding\n",
    "def convert_to_numerical_label_encoding(dataset):\n",
    "    enc = LabelEncoder()\n",
    "    for i in dataset.columns:\n",
    "        if(dataset[i].dtype == \"object\"):\n",
    "            dataset[i] = enc.fit_transform(dataset[i])\n",
    "            \n",
    "    return dataset"
   ]
  },
  {
   "cell_type": "code",
   "execution_count": null,
   "metadata": {},
   "outputs": [],
   "source": []
  },
  {
   "cell_type": "code",
   "execution_count": null,
   "metadata": {},
   "outputs": [],
   "source": []
  },
  {
   "cell_type": "code",
   "execution_count": 15,
   "metadata": {},
   "outputs": [],
   "source": [
    "class DataFrameImputer(TransformerMixin):\n",
    "\n",
    "    def __init__(self):\n",
    "        \"\"\"Impute missing values.\n",
    "\n",
    "        Columns of dtype object are imputed with the most frequent value \n",
    "        in column.\n",
    "\n",
    "        Columns of other types are imputed with mean of column.\n",
    "\n",
    "        \"\"\"\n",
    "    def fit(self, X, y=None):\n",
    "\n",
    "        self.fill = pd.Series([X[c].value_counts().index[0] if X[c].dtype == np.dtype('O') else X[c].mean() for c in X],\n",
    "            index=X.columns)\n",
    "\n",
    "        return self\n",
    "\n",
    "    def transform(self, X, y=None):\n",
    "        return X.fillna(self.fill)\n",
    "    \n"
   ]
  },
  {
   "cell_type": "code",
   "execution_count": null,
   "metadata": {},
   "outputs": [],
   "source": []
  },
  {
   "cell_type": "code",
   "execution_count": 16,
   "metadata": {},
   "outputs": [],
   "source": [
    "def majority_imbalanced_dataset(dataset, target_col):\n",
    "    feature_columns = dataset.columns.tolist()\n",
    "    feature_columns = [c for c in feature_columns if c not in [target_col]]\n",
    "\n",
    "    X2_new = dataset[feature_columns]\n",
    "    Y2_new = dataset[target_col]\n",
    "\n",
    "    os =  RandomOverSampler(random_state=35)\n",
    "    X_feature_variables , y_output = os.fit_sample(X2_new, Y2_new)\n",
    "    \n",
    "    X_feature_variables[target_col] = y_output\n",
    "    \n",
    "    X_feature_variables = X_feature_variables.sample(frac = 1).reset_index(drop = True)\n",
    "    \n",
    "    return X_feature_variables"
   ]
  },
  {
   "cell_type": "code",
   "execution_count": null,
   "metadata": {},
   "outputs": [],
   "source": []
  },
  {
   "cell_type": "code",
   "execution_count": 17,
   "metadata": {},
   "outputs": [],
   "source": [
    "def standardscaler_preprocessing(dataset_train, dataset_test, num_col):\n",
    "    scaler = StandardScaler()\n",
    "   \n",
    "    dataset_train[num_col] = scaler.fit_transform(dataset_train[num_col])\n",
    "\n",
    "    dataset_test[num_col] = scaler.transform(dataset_test[num_col])\n",
    "    \n",
    "    return dataset_train, dataset_test"
   ]
  },
  {
   "cell_type": "code",
   "execution_count": null,
   "metadata": {},
   "outputs": [],
   "source": []
  },
  {
   "cell_type": "code",
   "execution_count": 18,
   "metadata": {
    "scrolled": true
   },
   "outputs": [
    {
     "data": {
      "text/html": [
       "<div>\n",
       "<style scoped>\n",
       "    .dataframe tbody tr th:only-of-type {\n",
       "        vertical-align: middle;\n",
       "    }\n",
       "\n",
       "    .dataframe tbody tr th {\n",
       "        vertical-align: top;\n",
       "    }\n",
       "\n",
       "    .dataframe thead th {\n",
       "        text-align: right;\n",
       "    }\n",
       "</style>\n",
       "<table border=\"1\" class=\"dataframe\">\n",
       "  <thead>\n",
       "    <tr style=\"text-align: right;\">\n",
       "      <th></th>\n",
       "      <th>Loan_ID</th>\n",
       "      <th>Loan_Amount_Requested</th>\n",
       "      <th>Length_Employed</th>\n",
       "      <th>Home_Owner</th>\n",
       "      <th>Annual_Income</th>\n",
       "      <th>Income_Verified</th>\n",
       "      <th>Purpose_Of_Loan</th>\n",
       "      <th>Debt_To_Income</th>\n",
       "      <th>Inquiries_Last_6Mo</th>\n",
       "      <th>Months_Since_Deliquency</th>\n",
       "      <th>Number_Open_Accounts</th>\n",
       "      <th>Total_Accounts</th>\n",
       "      <th>Gender</th>\n",
       "      <th>Interest_Rate</th>\n",
       "    </tr>\n",
       "  </thead>\n",
       "  <tbody>\n",
       "    <tr>\n",
       "      <th>0</th>\n",
       "      <td>10000001</td>\n",
       "      <td>7,000</td>\n",
       "      <td>&lt; 1 year</td>\n",
       "      <td>Rent</td>\n",
       "      <td>68000.0</td>\n",
       "      <td>not verified</td>\n",
       "      <td>car</td>\n",
       "      <td>18.37</td>\n",
       "      <td>0</td>\n",
       "      <td>NaN</td>\n",
       "      <td>9</td>\n",
       "      <td>14</td>\n",
       "      <td>Female</td>\n",
       "      <td>1</td>\n",
       "    </tr>\n",
       "    <tr>\n",
       "      <th>1</th>\n",
       "      <td>10000002</td>\n",
       "      <td>30,000</td>\n",
       "      <td>4 years</td>\n",
       "      <td>Mortgage</td>\n",
       "      <td>NaN</td>\n",
       "      <td>VERIFIED - income</td>\n",
       "      <td>debt_consolidation</td>\n",
       "      <td>14.93</td>\n",
       "      <td>0</td>\n",
       "      <td>17.0</td>\n",
       "      <td>12</td>\n",
       "      <td>24</td>\n",
       "      <td>Female</td>\n",
       "      <td>3</td>\n",
       "    </tr>\n",
       "    <tr>\n",
       "      <th>2</th>\n",
       "      <td>10000003</td>\n",
       "      <td>24,725</td>\n",
       "      <td>7 years</td>\n",
       "      <td>Mortgage</td>\n",
       "      <td>75566.4</td>\n",
       "      <td>VERIFIED - income source</td>\n",
       "      <td>debt_consolidation</td>\n",
       "      <td>15.88</td>\n",
       "      <td>0</td>\n",
       "      <td>NaN</td>\n",
       "      <td>12</td>\n",
       "      <td>16</td>\n",
       "      <td>Male</td>\n",
       "      <td>3</td>\n",
       "    </tr>\n",
       "    <tr>\n",
       "      <th>3</th>\n",
       "      <td>10000004</td>\n",
       "      <td>16,000</td>\n",
       "      <td>&lt; 1 year</td>\n",
       "      <td>NaN</td>\n",
       "      <td>56160.0</td>\n",
       "      <td>VERIFIED - income source</td>\n",
       "      <td>debt_consolidation</td>\n",
       "      <td>14.34</td>\n",
       "      <td>3</td>\n",
       "      <td>NaN</td>\n",
       "      <td>16</td>\n",
       "      <td>22</td>\n",
       "      <td>Male</td>\n",
       "      <td>3</td>\n",
       "    </tr>\n",
       "    <tr>\n",
       "      <th>4</th>\n",
       "      <td>10000005</td>\n",
       "      <td>17,000</td>\n",
       "      <td>8 years</td>\n",
       "      <td>Own</td>\n",
       "      <td>96000.0</td>\n",
       "      <td>VERIFIED - income source</td>\n",
       "      <td>debt_consolidation</td>\n",
       "      <td>22.17</td>\n",
       "      <td>1</td>\n",
       "      <td>NaN</td>\n",
       "      <td>19</td>\n",
       "      <td>30</td>\n",
       "      <td>Female</td>\n",
       "      <td>1</td>\n",
       "    </tr>\n",
       "  </tbody>\n",
       "</table>\n",
       "</div>"
      ],
      "text/plain": [
       "    Loan_ID Loan_Amount_Requested Length_Employed Home_Owner  Annual_Income  \\\n",
       "0  10000001                 7,000        < 1 year       Rent        68000.0   \n",
       "1  10000002                30,000         4 years   Mortgage            NaN   \n",
       "2  10000003                24,725         7 years   Mortgage        75566.4   \n",
       "3  10000004                16,000        < 1 year        NaN        56160.0   \n",
       "4  10000005                17,000         8 years        Own        96000.0   \n",
       "\n",
       "            Income_Verified     Purpose_Of_Loan  Debt_To_Income  \\\n",
       "0              not verified                 car           18.37   \n",
       "1         VERIFIED - income  debt_consolidation           14.93   \n",
       "2  VERIFIED - income source  debt_consolidation           15.88   \n",
       "3  VERIFIED - income source  debt_consolidation           14.34   \n",
       "4  VERIFIED - income source  debt_consolidation           22.17   \n",
       "\n",
       "   Inquiries_Last_6Mo  Months_Since_Deliquency  Number_Open_Accounts  \\\n",
       "0                   0                      NaN                     9   \n",
       "1                   0                     17.0                    12   \n",
       "2                   0                      NaN                    12   \n",
       "3                   3                      NaN                    16   \n",
       "4                   1                      NaN                    19   \n",
       "\n",
       "   Total_Accounts  Gender  Interest_Rate  \n",
       "0              14  Female              1  \n",
       "1              24  Female              3  \n",
       "2              16    Male              3  \n",
       "3              22    Male              3  \n",
       "4              30  Female              1  "
      ]
     },
     "execution_count": 18,
     "metadata": {},
     "output_type": "execute_result"
    }
   ],
   "source": [
    "df.head()"
   ]
  },
  {
   "cell_type": "code",
   "execution_count": 19,
   "metadata": {},
   "outputs": [
    {
     "name": "stdout",
     "output_type": "stream",
     "text": [
      "<class 'pandas.core.frame.DataFrame'>\n",
      "RangeIndex: 164309 entries, 0 to 164308\n",
      "Data columns (total 14 columns):\n",
      "Loan_ID                    164309 non-null int64\n",
      "Loan_Amount_Requested      164309 non-null object\n",
      "Length_Employed            156938 non-null object\n",
      "Home_Owner                 138960 non-null object\n",
      "Annual_Income              139207 non-null float64\n",
      "Income_Verified            164309 non-null object\n",
      "Purpose_Of_Loan            164309 non-null object\n",
      "Debt_To_Income             164309 non-null float64\n",
      "Inquiries_Last_6Mo         164309 non-null int64\n",
      "Months_Since_Deliquency    75930 non-null float64\n",
      "Number_Open_Accounts       164309 non-null int64\n",
      "Total_Accounts             164309 non-null int64\n",
      "Gender                     164309 non-null object\n",
      "Interest_Rate              164309 non-null int64\n",
      "dtypes: float64(3), int64(5), object(6)\n",
      "memory usage: 13.8+ MB\n"
     ]
    }
   ],
   "source": [
    "df.info()"
   ]
  },
  {
   "cell_type": "code",
   "execution_count": 20,
   "metadata": {},
   "outputs": [
    {
     "data": {
      "text/plain": [
       "Index(['Loan_ID', 'Loan_Amount_Requested', 'Length_Employed', 'Home_Owner',\n",
       "       'Annual_Income', 'Income_Verified', 'Purpose_Of_Loan', 'Debt_To_Income',\n",
       "       'Inquiries_Last_6Mo', 'Months_Since_Deliquency', 'Number_Open_Accounts',\n",
       "       'Total_Accounts', 'Gender', 'Interest_Rate'],\n",
       "      dtype='object')"
      ]
     },
     "execution_count": 20,
     "metadata": {},
     "output_type": "execute_result"
    }
   ],
   "source": [
    "df.columns"
   ]
  },
  {
   "cell_type": "code",
   "execution_count": 21,
   "metadata": {},
   "outputs": [
    {
     "data": {
      "text/plain": [
       "Counter({1: 33806, 3: 59923, 2: 70580})"
      ]
     },
     "execution_count": 21,
     "metadata": {},
     "output_type": "execute_result"
    }
   ],
   "source": [
    "Counter(df.Interest_Rate)"
   ]
  },
  {
   "cell_type": "code",
   "execution_count": 22,
   "metadata": {},
   "outputs": [
    {
     "data": {
      "text/html": [
       "<div>\n",
       "<style scoped>\n",
       "    .dataframe tbody tr th:only-of-type {\n",
       "        vertical-align: middle;\n",
       "    }\n",
       "\n",
       "    .dataframe tbody tr th {\n",
       "        vertical-align: top;\n",
       "    }\n",
       "\n",
       "    .dataframe thead th {\n",
       "        text-align: right;\n",
       "    }\n",
       "</style>\n",
       "<table border=\"1\" class=\"dataframe\">\n",
       "  <thead>\n",
       "    <tr style=\"text-align: right;\">\n",
       "      <th></th>\n",
       "      <th>Loan_ID</th>\n",
       "      <th>Annual_Income</th>\n",
       "      <th>Debt_To_Income</th>\n",
       "      <th>Inquiries_Last_6Mo</th>\n",
       "      <th>Months_Since_Deliquency</th>\n",
       "      <th>Number_Open_Accounts</th>\n",
       "      <th>Total_Accounts</th>\n",
       "      <th>Interest_Rate</th>\n",
       "    </tr>\n",
       "  </thead>\n",
       "  <tbody>\n",
       "    <tr>\n",
       "      <th>count</th>\n",
       "      <td>1.643090e+05</td>\n",
       "      <td>1.392070e+05</td>\n",
       "      <td>164309.000000</td>\n",
       "      <td>164309.000000</td>\n",
       "      <td>75930.000000</td>\n",
       "      <td>164309.000000</td>\n",
       "      <td>164309.000000</td>\n",
       "      <td>164309.000000</td>\n",
       "    </tr>\n",
       "    <tr>\n",
       "      <th>mean</th>\n",
       "      <td>1.008216e+07</td>\n",
       "      <td>7.333116e+04</td>\n",
       "      <td>17.207189</td>\n",
       "      <td>0.781698</td>\n",
       "      <td>34.229356</td>\n",
       "      <td>11.193818</td>\n",
       "      <td>25.067665</td>\n",
       "      <td>2.158951</td>\n",
       "    </tr>\n",
       "    <tr>\n",
       "      <th>std</th>\n",
       "      <td>4.743207e+04</td>\n",
       "      <td>6.037750e+04</td>\n",
       "      <td>7.845083</td>\n",
       "      <td>1.034747</td>\n",
       "      <td>21.761180</td>\n",
       "      <td>4.991813</td>\n",
       "      <td>11.583067</td>\n",
       "      <td>0.738364</td>\n",
       "    </tr>\n",
       "    <tr>\n",
       "      <th>min</th>\n",
       "      <td>1.000000e+07</td>\n",
       "      <td>4.000000e+03</td>\n",
       "      <td>0.000000</td>\n",
       "      <td>0.000000</td>\n",
       "      <td>0.000000</td>\n",
       "      <td>0.000000</td>\n",
       "      <td>2.000000</td>\n",
       "      <td>1.000000</td>\n",
       "    </tr>\n",
       "    <tr>\n",
       "      <th>25%</th>\n",
       "      <td>1.004108e+07</td>\n",
       "      <td>4.500000e+04</td>\n",
       "      <td>11.370000</td>\n",
       "      <td>0.000000</td>\n",
       "      <td>16.000000</td>\n",
       "      <td>8.000000</td>\n",
       "      <td>17.000000</td>\n",
       "      <td>2.000000</td>\n",
       "    </tr>\n",
       "    <tr>\n",
       "      <th>50%</th>\n",
       "      <td>1.008216e+07</td>\n",
       "      <td>6.300000e+04</td>\n",
       "      <td>16.840000</td>\n",
       "      <td>0.000000</td>\n",
       "      <td>31.000000</td>\n",
       "      <td>10.000000</td>\n",
       "      <td>23.000000</td>\n",
       "      <td>2.000000</td>\n",
       "    </tr>\n",
       "    <tr>\n",
       "      <th>75%</th>\n",
       "      <td>1.012323e+07</td>\n",
       "      <td>8.869750e+04</td>\n",
       "      <td>22.780000</td>\n",
       "      <td>1.000000</td>\n",
       "      <td>50.000000</td>\n",
       "      <td>14.000000</td>\n",
       "      <td>32.000000</td>\n",
       "      <td>3.000000</td>\n",
       "    </tr>\n",
       "    <tr>\n",
       "      <th>max</th>\n",
       "      <td>1.016431e+07</td>\n",
       "      <td>7.500000e+06</td>\n",
       "      <td>39.990000</td>\n",
       "      <td>8.000000</td>\n",
       "      <td>180.000000</td>\n",
       "      <td>76.000000</td>\n",
       "      <td>156.000000</td>\n",
       "      <td>3.000000</td>\n",
       "    </tr>\n",
       "  </tbody>\n",
       "</table>\n",
       "</div>"
      ],
      "text/plain": [
       "            Loan_ID  Annual_Income  Debt_To_Income  Inquiries_Last_6Mo  \\\n",
       "count  1.643090e+05   1.392070e+05   164309.000000       164309.000000   \n",
       "mean   1.008216e+07   7.333116e+04       17.207189            0.781698   \n",
       "std    4.743207e+04   6.037750e+04        7.845083            1.034747   \n",
       "min    1.000000e+07   4.000000e+03        0.000000            0.000000   \n",
       "25%    1.004108e+07   4.500000e+04       11.370000            0.000000   \n",
       "50%    1.008216e+07   6.300000e+04       16.840000            0.000000   \n",
       "75%    1.012323e+07   8.869750e+04       22.780000            1.000000   \n",
       "max    1.016431e+07   7.500000e+06       39.990000            8.000000   \n",
       "\n",
       "       Months_Since_Deliquency  Number_Open_Accounts  Total_Accounts  \\\n",
       "count             75930.000000         164309.000000   164309.000000   \n",
       "mean                 34.229356             11.193818       25.067665   \n",
       "std                  21.761180              4.991813       11.583067   \n",
       "min                   0.000000              0.000000        2.000000   \n",
       "25%                  16.000000              8.000000       17.000000   \n",
       "50%                  31.000000             10.000000       23.000000   \n",
       "75%                  50.000000             14.000000       32.000000   \n",
       "max                 180.000000             76.000000      156.000000   \n",
       "\n",
       "       Interest_Rate  \n",
       "count  164309.000000  \n",
       "mean        2.158951  \n",
       "std         0.738364  \n",
       "min         1.000000  \n",
       "25%         2.000000  \n",
       "50%         2.000000  \n",
       "75%         3.000000  \n",
       "max         3.000000  "
      ]
     },
     "execution_count": 22,
     "metadata": {},
     "output_type": "execute_result"
    }
   ],
   "source": [
    "df.describe()"
   ]
  },
  {
   "cell_type": "code",
   "execution_count": null,
   "metadata": {},
   "outputs": [],
   "source": []
  },
  {
   "cell_type": "markdown",
   "metadata": {},
   "source": [
    "# <font color ='green' > Step 1: EDA"
   ]
  },
  {
   "cell_type": "code",
   "execution_count": 23,
   "metadata": {},
   "outputs": [],
   "source": [
    "# df = train.copy() \n",
    "# df_test = test.copy() "
   ]
  },
  {
   "cell_type": "code",
   "execution_count": 24,
   "metadata": {},
   "outputs": [
    {
     "name": "stdout",
     "output_type": "stream",
     "text": [
      "(164309, 14)\n",
      "(109541, 13)\n",
      "(164309, 13)\n",
      "(109541, 12)\n"
     ]
    }
   ],
   "source": [
    "print(df.shape)\n",
    "print(df_test.shape)\n",
    "\n",
    "del df['Loan_ID']\n",
    "del df_test['Loan_ID']\n",
    "\n",
    "print(df.shape)\n",
    "print(df_test.shape)"
   ]
  },
  {
   "cell_type": "code",
   "execution_count": 25,
   "metadata": {},
   "outputs": [],
   "source": [
    "df['Loan_Amount_Requested'] = df['Loan_Amount_Requested'].str.replace(',','').astype(np.float64)\n",
    "\n",
    "df_test['Loan_Amount_Requested'] = df_test['Loan_Amount_Requested'].str.replace(',','').astype(np.float64)"
   ]
  },
  {
   "cell_type": "code",
   "execution_count": 26,
   "metadata": {},
   "outputs": [],
   "source": [
    "# Counter(df.Loan_Amount_Requested)"
   ]
  },
  {
   "cell_type": "code",
   "execution_count": 27,
   "metadata": {},
   "outputs": [],
   "source": [
    "#Missing value imputation for Train\n",
    "df.Months_Since_Deliquency.fillna(0, inplace = True)\n",
    "df.Annual_Income.fillna(0, inplace = True) # Another option is to impute mean to checck model performance\n",
    "df.Home_Owner.fillna('msg2drop', inplace = True)\n",
    "df.Length_Employed.fillna('msg2drop', inplace = True)\n",
    "\n",
    "\n",
    "#Missing value imputation for test\n",
    "df_test.Months_Since_Deliquency.fillna(0, inplace = True)\n",
    "df_test.Annual_Income.fillna(0, inplace = True) # Another option is to impute mean to checck model performance\n",
    "df_test.Home_Owner.fillna('msg2drop', inplace = True)\n",
    "df_test.Length_Employed.fillna('msg2drop', inplace = True)"
   ]
  },
  {
   "cell_type": "code",
   "execution_count": 28,
   "metadata": {},
   "outputs": [
    {
     "name": "stdout",
     "output_type": "stream",
     "text": [
      "Original Count - 164309 , Final Count - 161232 , Dropped - 3077 ( 0.9813 %)\n"
     ]
    }
   ],
   "source": [
    "#outlier managegment\n",
    "originalCount = len(df)\n",
    "df = df[df['Annual_Income'] <= 225000]\n",
    "df = df[df['Months_Since_Deliquency'] <= 80]\n",
    "df = df[df['Number_Open_Accounts'] <= 30]\n",
    "df = df[df['Total_Accounts'] <= 68]\n",
    "\n",
    "finalCount  = len(df)\n",
    "print('Original Count -', originalCount , ', Final Count -', finalCount,  ', Dropped -', originalCount - finalCount, '(', round(finalCount/originalCount,4), '%)') \n"
   ]
  },
  {
   "cell_type": "code",
   "execution_count": 29,
   "metadata": {},
   "outputs": [],
   "source": [
    "dummy_col_list = ['Length_Employed', 'Home_Owner', 'Income_Verified', 'Purpose_Of_Loan', 'Gender']\n",
    "\n",
    "df = pd.get_dummies(df, columns=dummy_col_list)\n",
    "\n",
    "\n",
    "df_test = pd.get_dummies(df_test, columns=dummy_col_list)\n",
    "\n"
   ]
  },
  {
   "cell_type": "code",
   "execution_count": 30,
   "metadata": {},
   "outputs": [
    {
     "data": {
      "text/plain": [
       "((161232, 45), (109541, 44))"
      ]
     },
     "execution_count": 30,
     "metadata": {},
     "output_type": "execute_result"
    }
   ],
   "source": [
    "df.shape, df_test.shape"
   ]
  },
  {
   "cell_type": "code",
   "execution_count": 31,
   "metadata": {},
   "outputs": [],
   "source": [
    "#dropping 1 column from each category dummy variable list\n",
    "\n",
    "drop_col = ['Length_Employed_msg2drop','Home_Owner_msg2drop','Income_Verified_VERIFIED - income',\n",
    "            'Purpose_Of_Loan_renewable_energy','Gender_Male']\n",
    "\n",
    "df = df.drop(drop_col, axis = 1)\n",
    "\n",
    "\n",
    "df_test = df_test.drop(drop_col, axis = 1)\n"
   ]
  },
  {
   "cell_type": "code",
   "execution_count": 32,
   "metadata": {},
   "outputs": [
    {
     "data": {
      "text/plain": [
       "((161232, 40), (109541, 39))"
      ]
     },
     "execution_count": 32,
     "metadata": {},
     "output_type": "execute_result"
    }
   ],
   "source": [
    "df.shape, df_test.shape"
   ]
  },
  {
   "cell_type": "code",
   "execution_count": 33,
   "metadata": {},
   "outputs": [],
   "source": [
    "df.rename(columns = {'Length_Employed_< 1 year':'Length_Employed_ 1 year'}, inplace = True)\n",
    "df_test.rename(columns = {'Length_Employed_< 1 year':'Length_Employed_ 1 year'}, inplace = True)"
   ]
  },
  {
   "cell_type": "code",
   "execution_count": 34,
   "metadata": {},
   "outputs": [
    {
     "data": {
      "text/plain": [
       "Index(['Loan_Amount_Requested', 'Annual_Income', 'Debt_To_Income',\n",
       "       'Inquiries_Last_6Mo', 'Months_Since_Deliquency', 'Number_Open_Accounts',\n",
       "       'Total_Accounts', 'Length_Employed_1 year', 'Length_Employed_10+ years',\n",
       "       'Length_Employed_2 years', 'Length_Employed_3 years',\n",
       "       'Length_Employed_4 years', 'Length_Employed_5 years',\n",
       "       'Length_Employed_6 years', 'Length_Employed_7 years',\n",
       "       'Length_Employed_8 years', 'Length_Employed_9 years',\n",
       "       'Length_Employed_ 1 year', 'Home_Owner_Mortgage', 'Home_Owner_None',\n",
       "       'Home_Owner_Other', 'Home_Owner_Own', 'Home_Owner_Rent',\n",
       "       'Income_Verified_VERIFIED - income source',\n",
       "       'Income_Verified_not verified', 'Purpose_Of_Loan_car',\n",
       "       'Purpose_Of_Loan_credit_card', 'Purpose_Of_Loan_debt_consolidation',\n",
       "       'Purpose_Of_Loan_educational', 'Purpose_Of_Loan_home_improvement',\n",
       "       'Purpose_Of_Loan_house', 'Purpose_Of_Loan_major_purchase',\n",
       "       'Purpose_Of_Loan_medical', 'Purpose_Of_Loan_moving',\n",
       "       'Purpose_Of_Loan_other', 'Purpose_Of_Loan_small_business',\n",
       "       'Purpose_Of_Loan_vacation', 'Purpose_Of_Loan_wedding', 'Gender_Female'],\n",
       "      dtype='object')"
      ]
     },
     "execution_count": 34,
     "metadata": {},
     "output_type": "execute_result"
    }
   ],
   "source": [
    "df_test.columns"
   ]
  },
  {
   "cell_type": "markdown",
   "metadata": {},
   "source": [
    "# <font color ='red' > Step 2: EDA"
   ]
  },
  {
   "cell_type": "code",
   "execution_count": 35,
   "metadata": {},
   "outputs": [],
   "source": [
    "# df.head()"
   ]
  },
  {
   "cell_type": "code",
   "execution_count": 36,
   "metadata": {},
   "outputs": [],
   "source": [
    "# df1[\"Type_of_Cab\"] = df1[\"Type_of_Cab\"].fillna(\"Unkown\")\n",
    "# df1[\"Confidence_Life_Style_Index\"] = df1[\"Confidence_Life_Style_Index\"].fillna(\"Unkown\")\n",
    "\n",
    "\n",
    "# df2 = DataFrameImputer().fit_transform(df.copy())\n",
    "# df2_test = DataFrameImputer().fit_transform(df_test.copy())\n",
    "\n",
    "\n",
    "# df3 = convert_to_numerical_label_encoding(df2.copy())\n",
    "# df2.shape, df3.shape\n",
    "\n",
    "# df3_test = convert_to_numerical_label_encoding(df2_test.copy())\n",
    "# df2_test.shape, df3_test.shape\n",
    "\n",
    "# df3 = majority_imbalanced_dataset(df3.copy(), \"Interest_Rate\")\n",
    "# Counter(df4.Surge_Pricing_Type)\n",
    "\n",
    "\n",
    "# scaling_col = [\"Annual_Income\", \"Debt_To_Income\",\"Inquiries_Last_6Mo\", \"Months_Since_Deliquency\", \n",
    "#               \"Number_Open_Accounts\", \"Total_Accounts\", \"Interest_Rate\"]\n",
    "\n",
    "\n",
    "# df4, df4_test = standardscaler_preprocessing(df3.copy(), df3_test.copy(), scaling_col)"
   ]
  },
  {
   "cell_type": "code",
   "execution_count": 37,
   "metadata": {},
   "outputs": [
    {
     "data": {
      "text/plain": [
       "(0, 0)"
      ]
     },
     "execution_count": 37,
     "metadata": {},
     "output_type": "execute_result"
    }
   ],
   "source": [
    "df.isna().sum().sum() , df_test.isna().sum().sum()"
   ]
  },
  {
   "cell_type": "code",
   "execution_count": 38,
   "metadata": {},
   "outputs": [],
   "source": [
    "def convert_numerical_data_type(dataset):\n",
    "    col_list = list(dataset.select_dtypes(include =  [\"int\" , \"float\"] ).columns)\n",
    "    for numberical_colname in col_list:\n",
    "        dataset[numberical_colname] = pd.to_numeric(dataset[numberical_colname])  \n",
    "    \n",
    "    return dataset"
   ]
  },
  {
   "cell_type": "code",
   "execution_count": null,
   "metadata": {},
   "outputs": [],
   "source": []
  },
  {
   "cell_type": "code",
   "execution_count": 39,
   "metadata": {},
   "outputs": [],
   "source": [
    "df3 = convert_numerical_data_type(df.copy())\n",
    "df3_test = convert_numerical_data_type(df_test.copy())"
   ]
  },
  {
   "cell_type": "code",
   "execution_count": 40,
   "metadata": {
    "scrolled": true
   },
   "outputs": [
    {
     "data": {
      "text/plain": [
       "Index(['Loan_Amount_Requested', 'Annual_Income', 'Debt_To_Income',\n",
       "       'Inquiries_Last_6Mo', 'Months_Since_Deliquency', 'Number_Open_Accounts',\n",
       "       'Total_Accounts', 'Interest_Rate', 'Length_Employed_1 year',\n",
       "       'Length_Employed_10+ years', 'Length_Employed_2 years',\n",
       "       'Length_Employed_3 years', 'Length_Employed_4 years',\n",
       "       'Length_Employed_5 years', 'Length_Employed_6 years',\n",
       "       'Length_Employed_7 years', 'Length_Employed_8 years',\n",
       "       'Length_Employed_9 years', 'Length_Employed_ 1 year',\n",
       "       'Home_Owner_Mortgage', 'Home_Owner_None', 'Home_Owner_Other',\n",
       "       'Home_Owner_Own', 'Home_Owner_Rent',\n",
       "       'Income_Verified_VERIFIED - income source',\n",
       "       'Income_Verified_not verified', 'Purpose_Of_Loan_car',\n",
       "       'Purpose_Of_Loan_credit_card', 'Purpose_Of_Loan_debt_consolidation',\n",
       "       'Purpose_Of_Loan_educational', 'Purpose_Of_Loan_home_improvement',\n",
       "       'Purpose_Of_Loan_house', 'Purpose_Of_Loan_major_purchase',\n",
       "       'Purpose_Of_Loan_medical', 'Purpose_Of_Loan_moving',\n",
       "       'Purpose_Of_Loan_other', 'Purpose_Of_Loan_small_business',\n",
       "       'Purpose_Of_Loan_vacation', 'Purpose_Of_Loan_wedding', 'Gender_Female'],\n",
       "      dtype='object')"
      ]
     },
     "execution_count": 40,
     "metadata": {},
     "output_type": "execute_result"
    }
   ],
   "source": [
    "df3.columns"
   ]
  },
  {
   "cell_type": "code",
   "execution_count": 41,
   "metadata": {},
   "outputs": [
    {
     "data": {
      "text/plain": [
       "39"
      ]
     },
     "execution_count": 41,
     "metadata": {},
     "output_type": "execute_result"
    }
   ],
   "source": [
    "fetaaure_col = ['Loan_Amount_Requested', 'Annual_Income', 'Debt_To_Income',\n",
    "       'Inquiries_Last_6Mo', 'Months_Since_Deliquency', 'Number_Open_Accounts',\n",
    "       'Total_Accounts', 'Length_Employed_1 year',\n",
    "       'Length_Employed_10+ years', 'Length_Employed_2 years',\n",
    "       'Length_Employed_3 years', 'Length_Employed_4 years',\n",
    "       'Length_Employed_5 years', 'Length_Employed_6 years',\n",
    "       'Length_Employed_7 years', 'Length_Employed_8 years',\n",
    "       'Length_Employed_9 years', 'Length_Employed_ 1 year',\n",
    "       'Home_Owner_Mortgage', 'Home_Owner_None', 'Home_Owner_Other',\n",
    "       'Home_Owner_Own', 'Home_Owner_Rent',\n",
    "       'Income_Verified_VERIFIED - income source',\n",
    "       'Income_Verified_not verified', 'Purpose_Of_Loan_car',\n",
    "       'Purpose_Of_Loan_credit_card', 'Purpose_Of_Loan_debt_consolidation',\n",
    "       'Purpose_Of_Loan_educational', 'Purpose_Of_Loan_home_improvement',\n",
    "       'Purpose_Of_Loan_house', 'Purpose_Of_Loan_major_purchase',\n",
    "       'Purpose_Of_Loan_medical', 'Purpose_Of_Loan_moving',\n",
    "       'Purpose_Of_Loan_other', 'Purpose_Of_Loan_small_business',\n",
    "       'Purpose_Of_Loan_vacation', 'Purpose_Of_Loan_wedding', 'Gender_Female']\n",
    "\n",
    "len(fetaaure_col)"
   ]
  },
  {
   "cell_type": "code",
   "execution_count": null,
   "metadata": {},
   "outputs": [],
   "source": []
  },
  {
   "cell_type": "code",
   "execution_count": 42,
   "metadata": {},
   "outputs": [],
   "source": [
    "X = df3.loc[:,fetaaure_col]\n",
    "\n",
    "Y = df3.loc[:, [\"Interest_Rate\"]]"
   ]
  },
  {
   "cell_type": "code",
   "execution_count": 43,
   "metadata": {},
   "outputs": [
    {
     "data": {
      "text/plain": [
       "(161232, 161232, (161232, 39))"
      ]
     },
     "execution_count": 43,
     "metadata": {},
     "output_type": "execute_result"
    }
   ],
   "source": [
    "len(X) , len(Y), X.shape"
   ]
  },
  {
   "cell_type": "code",
   "execution_count": 44,
   "metadata": {},
   "outputs": [
    {
     "name": "stdout",
     "output_type": "stream",
     "text": [
      "Wall time: 1min 6s\n"
     ]
    }
   ],
   "source": [
    "%%time\n",
    "model_xgb = XGBClassifier(max_depth=5, objective='multi:softmax', num_classes=3)\n",
    "model_xgb.fit(X, Y)\n",
    "y_pred_final = model_xgb.predict(df3_test)\n"
   ]
  },
  {
   "cell_type": "code",
   "execution_count": 45,
   "metadata": {},
   "outputs": [],
   "source": [
    "# model_lgb= LGBMClassifier(n_estimators= 200, objective='multi:softmax', num_classes=3)\n",
    "# model_lgb.fit(X,Y)\n",
    "# y_pred_final = model_lgb.predict(df3_test)"
   ]
  },
  {
   "cell_type": "code",
   "execution_count": 46,
   "metadata": {},
   "outputs": [],
   "source": [
    "\n",
    "# model_catg= CatBoostClassifier(depth= 3,l2_leaf_reg= 1e-25,learning_rate= 0.07,\n",
    "#                                loss_function= 'MultiClass',n_estimators= 200)\n",
    "# model_catg.fit(X,Y)\n",
    "# y_pred_final = model_catg.predict(df3_test)"
   ]
  },
  {
   "cell_type": "code",
   "execution_count": 47,
   "metadata": {},
   "outputs": [],
   "source": [
    "def create_submission_file(model, file_name, testDF = df3_test):\n",
    "    y_pred_final = model.predict(testDF)\n",
    "\n",
    "    submission_1 = submission.copy()\n",
    "\n",
    "    print(df_test.shape , submission.shape , len(y_pred_final))\n",
    "\n",
    "    submission_1[\"Interest_Rate\"] = y_pred_final\n",
    "\n",
    "    print(submission_1[\"Interest_Rate\"].values)\n",
    "\n",
    "\n",
    "    submission_1.to_csv(file_name+'.csv', index=False)\n",
    "\n",
    "    df_submission_1 = pd.read_csv(file_name+'.csv')\n",
    "\n",
    "    print(df_submission_1.shape)\n",
    "\n",
    "    print(df_submission_1.head(3))"
   ]
  },
  {
   "cell_type": "code",
   "execution_count": 50,
   "metadata": {},
   "outputs": [],
   "source": [
    "# dferror.head()"
   ]
  },
  {
   "cell_type": "code",
   "execution_count": null,
   "metadata": {},
   "outputs": [],
   "source": []
  },
  {
   "cell_type": "markdown",
   "metadata": {},
   "source": [
    "# Other basic Models"
   ]
  },
  {
   "cell_type": "code",
   "execution_count": 51,
   "metadata": {},
   "outputs": [],
   "source": [
    "# Importing classification report and confusion matrix from sklearn metrics\n",
    "from sklearn import metrics\n",
    "def draw_roc( actual, probs ):\n",
    "    fpr, tpr, thresholds = metrics.roc_curve( actual, probs,\n",
    "                                              drop_intermediate = False )\n",
    "    auc_score = metrics.roc_auc_score( actual, probs )\n",
    "    plt.figure(figsize=(5, 5))\n",
    "    plt.plot( fpr, tpr, label='ROC curve (area = %0.2f)' % auc_score )\n",
    "    plt.plot([0, 1], [0, 1], 'k--')\n",
    "    plt.xlim([0.0, 1.0])\n",
    "    plt.ylim([0.0, 1.05])\n",
    "    plt.xlabel('False Positive Rate or [1 - True Negative Rate]')\n",
    "    plt.ylabel('True Positive Rate')\n",
    "    plt.title('Receiver operating characteristic example')\n",
    "    plt.legend(loc=\"lower right\")\n",
    "    plt.show()\n",
    "\n",
    "    return None"
   ]
  },
  {
   "cell_type": "code",
   "execution_count": 52,
   "metadata": {},
   "outputs": [],
   "source": [
    "# Importing classification report and confusion matrix from sklearn metrics\n",
    "from sklearn.metrics import classification_report,confusion_matrix, accuracy_score, f1_score, recall_score, precision_score\n",
    "\n",
    "#Preparing DataFrame to store individual model performance for comparison:\n",
    "dfTracker = pd.DataFrame(columns=['model', 'train_accuracy', 'train_recall', 'train_precisiom', 'train_f1', 'train_confusionMatrix',\n",
    "                                  'test_accuracy', 'test_recall', 'test_precisiom', 'test_f1', 'test_confusionMatrix'])\n",
    "\n",
    "#Creating function to store as well as print performance data\n",
    "def tracker(dfTracker, model, y_train, train_predictions, y_test,test_predictions ):\n",
    "    \n",
    "    dfTracker = dfTracker.append({'model' : model,'train_accuracy':accuracy_score(y_train,train_predictions), \n",
    "    'train_recall':recall_score(y_train,train_predictions),'train_precisiom':precision_score(y_train,train_predictions),\n",
    "     'train_f1':f1_score(y_train,train_predictions),'test_accuracy':accuracy_score(y_test,test_predictions),\n",
    "    'train_confusionMatrix':confusion_matrix(y_train,train_predictions),\n",
    "    'test_recall':recall_score(y_test,test_predictions),'test_precisiom':precision_score(y_test,test_predictions), \n",
    "     'test_f1':f1_score(y_test,test_predictions),\n",
    "     'test_confusionMatrix':confusion_matrix(y_test,test_predictions)}, ignore_index=True)\n",
    "    \n",
    "    print(\"Classification Report:\")\n",
    "    print(classification_report(y_test,test_predictions))\n",
    "    print(\"confusion_matrix:\")\n",
    "    print(confusion_matrix(y_test,test_predictions))\n",
    "    \n",
    "    draw_roc( y_test, test_predictions)\n",
    "\n",
    "    return dfTracker\n"
   ]
  },
  {
   "cell_type": "code",
   "execution_count": 53,
   "metadata": {},
   "outputs": [],
   "source": [
    "# Importing test_train_split from sklearn library\n",
    "from sklearn.model_selection import train_test_split\n",
    "\n",
    "# Splitting the data into train and test\n",
    "X_train, X_test, y_train, y_test = train_test_split(X, Y, test_size=0.30, random_state=101)"
   ]
  },
  {
   "cell_type": "markdown",
   "metadata": {},
   "source": [
    "\n",
    "\n",
    "## Random Forest : Without PCA\n",
    "Let's first fit a random forest model with default hyperparameters."
   ]
  },
  {
   "cell_type": "code",
   "execution_count": 54,
   "metadata": {},
   "outputs": [],
   "source": [
    "# Importing random forest classifier from sklearn library\n",
    "from sklearn.ensemble import RandomForestClassifier\n",
    "\n",
    "# Running the random forest with default parameters.\n",
    "rfc = RandomForestClassifier()"
   ]
  },
  {
   "cell_type": "code",
   "execution_count": 55,
   "metadata": {},
   "outputs": [
    {
     "name": "stdout",
     "output_type": "stream",
     "text": [
      "(109541, 39) (109541, 2) 109541\n",
      "[2 1 2 ... 2 3 2]\n",
      "(109541, 2)\n",
      "    Loan_ID  Interest_Rate\n",
      "0  10164310              2\n",
      "1  10164311              1\n",
      "2  10164312              2\n",
      "Wall time: 1min 7s\n"
     ]
    }
   ],
   "source": [
    "%%time\n",
    "# fit using default arameters\n",
    "rfc.fit(X,Y)\n",
    "create_submission_file(rfc, 'amit_rand_forest_base')"
   ]
  },
  {
   "cell_type": "code",
   "execution_count": 56,
   "metadata": {},
   "outputs": [
    {
     "name": "stdout",
     "output_type": "stream",
     "text": [
      "(109541, 39) (109541, 2) 109541\n",
      "[2 1 3 ... 2 3 2]\n",
      "(109541, 2)\n",
      "    Loan_ID  Interest_Rate\n",
      "0  10164310              2\n",
      "1  10164311              1\n",
      "2  10164312              3\n",
      "Wall time: 1min 53s\n"
     ]
    }
   ],
   "source": [
    "%%time\n",
    "# model with specific hyperparameters\n",
    "from sklearn.ensemble import RandomForestClassifier\n",
    "rfc = RandomForestClassifier(bootstrap=True,\n",
    "                             max_depth=20,\n",
    "                             min_samples_leaf=100, \n",
    "                             min_samples_split=200,\n",
    "                             max_features=25,\n",
    "                             n_estimators=200)\n",
    "rfc.fit(X_train,y_train)\n",
    "create_submission_file(rfc, 'amit_rand_forest_param_001')"
   ]
  },
  {
   "cell_type": "markdown",
   "metadata": {},
   "source": [
    "# Scaling"
   ]
  },
  {
   "cell_type": "code",
   "execution_count": 57,
   "metadata": {},
   "outputs": [],
   "source": [
    "# Importing further libraries\n",
    "from sklearn.preprocessing import MinMaxScaler\n",
    "from sklearn.feature_selection import RFE\n",
    "from sklearn.naive_bayes import MultinomialNB, BernoulliNB\n",
    "from sklearn.svm import SVC\n",
    "from sklearn.decomposition import PCA\n"
   ]
  },
  {
   "cell_type": "code",
   "execution_count": 58,
   "metadata": {},
   "outputs": [],
   "source": [
    "# Scaling X_train\n",
    "scaler = MinMaxScaler()\n",
    "X_train_sc = scaler.fit_transform(X)"
   ]
  },
  {
   "cell_type": "code",
   "execution_count": 59,
   "metadata": {},
   "outputs": [],
   "source": [
    "# Scaling X_test\n",
    "X_test_sc = scaler.transform(df3_test)"
   ]
  },
  {
   "cell_type": "markdown",
   "metadata": {},
   "source": [
    "\n",
    "\n",
    "## Logistic Regression : Without PCA\n"
   ]
  },
  {
   "cell_type": "code",
   "execution_count": 60,
   "metadata": {},
   "outputs": [
    {
     "name": "stdout",
     "output_type": "stream",
     "text": [
      "(109541, 39) (109541, 2) 109541\n",
      "[2 1 2 ... 2 3 2]\n",
      "(109541, 2)\n",
      "    Loan_ID  Interest_Rate\n",
      "0  10164310              2\n",
      "1  10164311              1\n",
      "2  10164312              2\n",
      "Wall time: 13.7 s\n"
     ]
    }
   ],
   "source": [
    "%%time\n",
    "from sklearn.linear_model import LogisticRegression\n",
    "\n",
    "# fit using default arameters\n",
    "log_reg = LogisticRegression()\n",
    "\n",
    "log_reg.fit(X_train_sc, Y)\n",
    "create_submission_file(log_reg, 'amit_logit', X_test_sc)"
   ]
  },
  {
   "cell_type": "markdown",
   "metadata": {},
   "source": [
    "\n",
    "\n",
    "## Naive Baye's - Multinomial : Without PCA\n"
   ]
  },
  {
   "cell_type": "code",
   "execution_count": 61,
   "metadata": {},
   "outputs": [
    {
     "name": "stdout",
     "output_type": "stream",
     "text": [
      "(109541, 39) (109541, 2) 109541\n",
      "[3 2 2 ... 2 3 2]\n",
      "(109541, 2)\n",
      "    Loan_ID  Interest_Rate\n",
      "0  10164310              3\n",
      "1  10164311              2\n",
      "2  10164312              2\n",
      "Wall time: 716 ms\n"
     ]
    }
   ],
   "source": [
    "%%time\n",
    "mnb = MultinomialNB()\n",
    "\n",
    "mnb.fit(X_train_sc, Y)\n",
    "create_submission_file(mnb, 'amit_Naive_mnb', X_test_sc)"
   ]
  },
  {
   "cell_type": "markdown",
   "metadata": {},
   "source": [
    "\n",
    "\n",
    "## Naive Baye's - Bernouilli : Without PCA\n"
   ]
  },
  {
   "cell_type": "code",
   "execution_count": 62,
   "metadata": {
    "scrolled": true
   },
   "outputs": [
    {
     "name": "stdout",
     "output_type": "stream",
     "text": [
      "(109541, 39) (109541, 2) 109541\n",
      "[2 1 3 ... 1 2 2]\n",
      "(109541, 2)\n",
      "    Loan_ID  Interest_Rate\n",
      "0  10164310              2\n",
      "1  10164311              1\n",
      "2  10164312              3\n"
     ]
    }
   ],
   "source": [
    "# fit using default arameters\n",
    "bnb = BernoulliNB()\n",
    "\n",
    "bnb.fit(X_train_sc, Y)\n",
    "create_submission_file(bnb, 'amit_Naive_bnb', X_test_sc)"
   ]
  },
  {
   "cell_type": "markdown",
   "metadata": {},
   "source": [
    "\n",
    "\n",
    "## SVM : Without PCA\n"
   ]
  },
  {
   "cell_type": "code",
   "execution_count": 63,
   "metadata": {},
   "outputs": [],
   "source": [
    "# # fit using default arameters\n",
    "# svc = SVC(C = 1, kernel = 'rbf')\n",
    "# svc.fit(X, Y)\n",
    "# create_submission_file(bnb, 'amit_svc_basic')"
   ]
  },
  {
   "cell_type": "markdown",
   "metadata": {},
   "source": [
    "# PCA Data Prep"
   ]
  },
  {
   "cell_type": "code",
   "execution_count": 64,
   "metadata": {},
   "outputs": [
    {
     "data": {
      "text/plain": [
       "PCA(copy=True, iterated_power='auto', n_components=None, random_state=100,\n",
       "    svd_solver='auto', tol=0.0, whiten=False)"
      ]
     },
     "execution_count": 64,
     "metadata": {},
     "output_type": "execute_result"
    }
   ],
   "source": [
    "# Fitting PCA\n",
    "pca = PCA(random_state = 100)\n",
    "pca.fit(X_train_sc)"
   ]
  },
  {
   "cell_type": "code",
   "execution_count": 65,
   "metadata": {},
   "outputs": [],
   "source": [
    "# Cumulative variance \n",
    "var_cumu = np.cumsum(pca.explained_variance_ratio_)"
   ]
  },
  {
   "cell_type": "markdown",
   "metadata": {},
   "source": [
    "### Drawing Scree Plot"
   ]
  },
  {
   "cell_type": "code",
   "execution_count": 66,
   "metadata": {},
   "outputs": [
    {
     "data": {
      "image/png": "[encoded data removed]",
      "text/plain": [
       "<Figure size 864x576 with 1 Axes>"
      ]
     },
     "metadata": {
      "needs_background": "light"
     },
     "output_type": "display_data"
    }
   ],
   "source": [
    "fig = plt.figure(figsize=[12,8])\n",
    "plt.vlines(x=22, ymax=1, ymin=0, colors=\"r\", linestyles=\"--\")\n",
    "plt.hlines(y=0.95, xmax=140, xmin=0, colors=\"g\", linestyles=\"--\")\n",
    "plt.plot(var_cumu)\n",
    "plt.ylabel(\"Cumulative variance explained\")\n",
    "plt.show()"
   ]
  },
  {
   "cell_type": "code",
   "execution_count": 67,
   "metadata": {},
   "outputs": [],
   "source": [
    "# Incremental PCA\n",
    "from sklearn.decomposition import IncrementalPCA"
   ]
  },
  {
   "cell_type": "code",
   "execution_count": 68,
   "metadata": {},
   "outputs": [],
   "source": [
    "# Incremental PCA initialisation\n",
    "pca_final = IncrementalPCA(n_components=22)"
   ]
  },
  {
   "cell_type": "code",
   "execution_count": 69,
   "metadata": {},
   "outputs": [],
   "source": [
    "# fitting scaled X_train to Incremental PCA\n",
    "X_train_pca = pca_final.fit_transform(X_train_sc)"
   ]
  },
  {
   "cell_type": "code",
   "execution_count": 70,
   "metadata": {},
   "outputs": [
    {
     "data": {
      "text/plain": [
       "(161232, 22)"
      ]
     },
     "execution_count": 70,
     "metadata": {},
     "output_type": "execute_result"
    }
   ],
   "source": [
    "X_train_pca.shape"
   ]
  },
  {
   "cell_type": "code",
   "execution_count": 71,
   "metadata": {},
   "outputs": [],
   "source": [
    "# Checking for correlation of Princial Components\n",
    "corrmat = np.corrcoef(X_train_pca.transpose())"
   ]
  },
  {
   "cell_type": "code",
   "execution_count": 72,
   "metadata": {},
   "outputs": [
    {
     "data": {
      "text/plain": [
       "(22, 22)"
      ]
     },
     "execution_count": 72,
     "metadata": {},
     "output_type": "execute_result"
    }
   ],
   "source": [
    "corrmat.shape"
   ]
  },
  {
   "cell_type": "code",
   "execution_count": 73,
   "metadata": {},
   "outputs": [
    {
     "data": {
      "text/plain": [
       "<matplotlib.axes._subplots.AxesSubplot at 0xea38bb0>"
      ]
     },
     "execution_count": 73,
     "metadata": {},
     "output_type": "execute_result"
    },
    {
     "data": {
      "image/png": "[encoded data removed]",
      "text/plain": [
       "<Figure size 1080x1080 with 2 Axes>"
      ]
     },
     "metadata": {
      "needs_background": "light"
     },
     "output_type": "display_data"
    }
   ],
   "source": [
    "# Plotting heatmap of correlation matrix\n",
    "plt.figure(figsize=[15,15])\n",
    "sns.heatmap(corrmat)"
   ]
  },
  {
   "cell_type": "markdown",
   "metadata": {},
   "source": [
    "#### Heat map shows `ZERO` correlation between Principal components"
   ]
  },
  {
   "cell_type": "markdown",
   "metadata": {},
   "source": [
    "Applying the transformation on the test set"
   ]
  },
  {
   "cell_type": "code",
   "execution_count": 74,
   "metadata": {},
   "outputs": [
    {
     "data": {
      "text/plain": [
       "(109541, 22)"
      ]
     },
     "execution_count": 74,
     "metadata": {},
     "output_type": "execute_result"
    }
   ],
   "source": [
    "# Transforming scaled X_test to Principal components\n",
    "X_test_pca = pca_final.transform(X_test_sc)\n",
    "X_test_pca.shape"
   ]
  },
  {
   "cell_type": "code",
   "execution_count": 75,
   "metadata": {},
   "outputs": [
    {
     "data": {
      "text/plain": [
       "(109541, 22)"
      ]
     },
     "execution_count": 75,
     "metadata": {},
     "output_type": "execute_result"
    }
   ],
   "source": [
    "X_test_pca.shape"
   ]
  },
  {
   "cell_type": "markdown",
   "metadata": {},
   "source": [
    "\n",
    "\n",
    "## Models With PCA"
   ]
  },
  {
   "cell_type": "code",
   "execution_count": null,
   "metadata": {},
   "outputs": [],
   "source": []
  },
  {
   "cell_type": "code",
   "execution_count": 76,
   "metadata": {},
   "outputs": [
    {
     "name": "stdout",
     "output_type": "stream",
     "text": [
      "(109541, 39) (109541, 2) 109541\n",
      "[2 1 2 ... 2 3 2]\n",
      "(109541, 2)\n",
      "    Loan_ID  Interest_Rate\n",
      "0  10164310              2\n",
      "1  10164311              1\n",
      "2  10164312              2\n",
      "Wall time: 2min 34s\n"
     ]
    }
   ],
   "source": [
    "%%time\n",
    "rfc = RandomForestClassifier()\n",
    "rfc.fit(X_train_pca,Y)\n",
    "create_submission_file(rfc, 'amit_rand_forest_base_pca', testDF = X_test_pca)"
   ]
  },
  {
   "cell_type": "code",
   "execution_count": 77,
   "metadata": {},
   "outputs": [
    {
     "name": "stdout",
     "output_type": "stream",
     "text": [
      "(109541, 39) (109541, 2) 109541\n",
      "[2 1 2 ... 2 3 2]\n",
      "(109541, 2)\n",
      "    Loan_ID  Interest_Rate\n",
      "0  10164310              2\n",
      "1  10164311              1\n",
      "2  10164312              2\n"
     ]
    }
   ],
   "source": [
    "create_submission_file(rfc, 'amit_rand_forest_base_pca', testDF = X_test_pca)"
   ]
  },
  {
   "cell_type": "code",
   "execution_count": 78,
   "metadata": {},
   "outputs": [
    {
     "name": "stdout",
     "output_type": "stream",
     "text": [
      "(109541, 39) (109541, 2) 109541\n",
      "[3 1 2 ... 2 3 2]\n",
      "(109541, 2)\n",
      "    Loan_ID  Interest_Rate\n",
      "0  10164310              3\n",
      "1  10164311              1\n",
      "2  10164312              2\n",
      "Wall time: 4.38 s\n"
     ]
    }
   ],
   "source": [
    "%%time\n",
    "log_reg.fit(X_train_pca, Y)\n",
    "create_submission_file(log_reg, 'amit_logit_pca', testDF = X_test_pca)"
   ]
  },
  {
   "cell_type": "code",
   "execution_count": 79,
   "metadata": {},
   "outputs": [
    {
     "name": "stdout",
     "output_type": "stream",
     "text": [
      "(109541, 39) (109541, 2) 109541\n",
      "[3 2 3 ... 2 2 2]\n",
      "(109541, 2)\n",
      "    Loan_ID  Interest_Rate\n",
      "0  10164310              3\n",
      "1  10164311              2\n",
      "2  10164312              3\n",
      "Wall time: 1.4 s\n"
     ]
    }
   ],
   "source": [
    "%%time\n",
    "bnb.fit(X_train_pca, Y)\n",
    "create_submission_file(bnb, 'amit_naive_bnb_pca', X_test_pca)"
   ]
  },
  {
   "cell_type": "markdown",
   "metadata": {},
   "source": [
    "## Random Forest: Grid Search to Find Optimal Hyperparameters"
   ]
  },
  {
   "cell_type": "code",
   "execution_count": 85,
   "metadata": {},
   "outputs": [],
   "source": [
    "from sklearn.model_selection import KFold\n",
    "from sklearn.model_selection import GridSearchCV\n",
    "\n",
    "# Create the parameter grid based on the results of random search \n",
    "param_grid = {\n",
    "    'max_depth': [8, 12, 20],\n",
    "    'min_samples_leaf': range(100, 400, 200),\n",
    "    'min_samples_split': range(200, 500, 200),\n",
    "    'n_estimators': [100,200, 300], \n",
    "    'max_features': [15, 20, 25]\n",
    "}\n",
    "# Create a based model\n",
    "rf = RandomForestClassifier()\n",
    "# Instantiate the grid search model\n",
    "grid_search = GridSearchCV(estimator = rf, param_grid = param_grid,\n",
    "                           scoring=['f1_micro','recall_micro','precision_micro'],\n",
    "                             refit='f1_micro', \n",
    "                           cv = 5, n_jobs = -1,verbose = 1)"
   ]
  },
  {
   "cell_type": "code",
   "execution_count": 86,
   "metadata": {
    "scrolled": true
   },
   "outputs": [
    {
     "name": "stdout",
     "output_type": "stream",
     "text": [
      "Fitting 5 folds for each of 108 candidates, totalling 540 fits\n"
     ]
    },
    {
     "name": "stderr",
     "output_type": "stream",
     "text": [
      "[Parallel(n_jobs=-1)]: Using backend LokyBackend with 4 concurrent workers.\n",
      "[Parallel(n_jobs=-1)]: Done  42 tasks      | elapsed: 31.8min\n"
     ]
    },
    {
     "ename": "KeyboardInterrupt",
     "evalue": "",
     "output_type": "error",
     "traceback": [
      "\u001b[1;31m---------------------------------------------------------------------------\u001b[0m",
      "\u001b[1;31mKeyboardInterrupt\u001b[0m                         Traceback (most recent call last)",
      "\u001b[1;32m<timed eval>\u001b[0m in \u001b[0;36m<module>\u001b[1;34m\u001b[0m\n",
      "\u001b[1;32mc:\\program files (x86)\\python37-32\\lib\\site-packages\\sklearn\\model_selection\\_search.py\u001b[0m in \u001b[0;36mfit\u001b[1;34m(self, X, y, groups, **fit_params)\u001b[0m\n\u001b[0;32m    708\u001b[0m                 \u001b[1;32mreturn\u001b[0m \u001b[0mresults\u001b[0m\u001b[1;33m\u001b[0m\u001b[1;33m\u001b[0m\u001b[0m\n\u001b[0;32m    709\u001b[0m \u001b[1;33m\u001b[0m\u001b[0m\n\u001b[1;32m--> 710\u001b[1;33m             \u001b[0mself\u001b[0m\u001b[1;33m.\u001b[0m\u001b[0m_run_search\u001b[0m\u001b[1;33m(\u001b[0m\u001b[0mevaluate_candidates\u001b[0m\u001b[1;33m)\u001b[0m\u001b[1;33m\u001b[0m\u001b[1;33m\u001b[0m\u001b[0m\n\u001b[0m\u001b[0;32m    711\u001b[0m \u001b[1;33m\u001b[0m\u001b[0m\n\u001b[0;32m    712\u001b[0m         \u001b[1;31m# For multi-metric evaluation, store the best_index_, best_params_ and\u001b[0m\u001b[1;33m\u001b[0m\u001b[1;33m\u001b[0m\u001b[1;33m\u001b[0m\u001b[0m\n",
      "\u001b[1;32mc:\\program files (x86)\\python37-32\\lib\\site-packages\\sklearn\\model_selection\\_search.py\u001b[0m in \u001b[0;36m_run_search\u001b[1;34m(self, evaluate_candidates)\u001b[0m\n\u001b[0;32m   1149\u001b[0m     \u001b[1;32mdef\u001b[0m \u001b[0m_run_search\u001b[0m\u001b[1;33m(\u001b[0m\u001b[0mself\u001b[0m\u001b[1;33m,\u001b[0m \u001b[0mevaluate_candidates\u001b[0m\u001b[1;33m)\u001b[0m\u001b[1;33m:\u001b[0m\u001b[1;33m\u001b[0m\u001b[1;33m\u001b[0m\u001b[0m\n\u001b[0;32m   1150\u001b[0m         \u001b[1;34m\"\"\"Search all candidates in param_grid\"\"\"\u001b[0m\u001b[1;33m\u001b[0m\u001b[1;33m\u001b[0m\u001b[0m\n\u001b[1;32m-> 1151\u001b[1;33m         \u001b[0mevaluate_candidates\u001b[0m\u001b[1;33m(\u001b[0m\u001b[0mParameterGrid\u001b[0m\u001b[1;33m(\u001b[0m\u001b[0mself\u001b[0m\u001b[1;33m.\u001b[0m\u001b[0mparam_grid\u001b[0m\u001b[1;33m)\u001b[0m\u001b[1;33m)\u001b[0m\u001b[1;33m\u001b[0m\u001b[1;33m\u001b[0m\u001b[0m\n\u001b[0m\u001b[0;32m   1152\u001b[0m \u001b[1;33m\u001b[0m\u001b[0m\n\u001b[0;32m   1153\u001b[0m \u001b[1;33m\u001b[0m\u001b[0m\n",
      "\u001b[1;32mc:\\program files (x86)\\python37-32\\lib\\site-packages\\sklearn\\model_selection\\_search.py\u001b[0m in \u001b[0;36mevaluate_candidates\u001b[1;34m(candidate_params)\u001b[0m\n\u001b[0;32m    687\u001b[0m                                \u001b[1;32mfor\u001b[0m \u001b[0mparameters\u001b[0m\u001b[1;33m,\u001b[0m \u001b[1;33m(\u001b[0m\u001b[0mtrain\u001b[0m\u001b[1;33m,\u001b[0m \u001b[0mtest\u001b[0m\u001b[1;33m)\u001b[0m\u001b[1;33m\u001b[0m\u001b[1;33m\u001b[0m\u001b[0m\n\u001b[0;32m    688\u001b[0m                                in product(candidate_params,\n\u001b[1;32m--> 689\u001b[1;33m                                           cv.split(X, y, groups)))\n\u001b[0m\u001b[0;32m    690\u001b[0m \u001b[1;33m\u001b[0m\u001b[0m\n\u001b[0;32m    691\u001b[0m                 \u001b[1;32mif\u001b[0m \u001b[0mlen\u001b[0m\u001b[1;33m(\u001b[0m\u001b[0mout\u001b[0m\u001b[1;33m)\u001b[0m \u001b[1;33m<\u001b[0m \u001b[1;36m1\u001b[0m\u001b[1;33m:\u001b[0m\u001b[1;33m\u001b[0m\u001b[1;33m\u001b[0m\u001b[0m\n",
      "\u001b[1;32mc:\\program files (x86)\\python37-32\\lib\\site-packages\\joblib\\parallel.py\u001b[0m in \u001b[0;36m__call__\u001b[1;34m(self, iterable)\u001b[0m\n\u001b[0;32m   1015\u001b[0m \u001b[1;33m\u001b[0m\u001b[0m\n\u001b[0;32m   1016\u001b[0m             \u001b[1;32mwith\u001b[0m \u001b[0mself\u001b[0m\u001b[1;33m.\u001b[0m\u001b[0m_backend\u001b[0m\u001b[1;33m.\u001b[0m\u001b[0mretrieval_context\u001b[0m\u001b[1;33m(\u001b[0m\u001b[1;33m)\u001b[0m\u001b[1;33m:\u001b[0m\u001b[1;33m\u001b[0m\u001b[1;33m\u001b[0m\u001b[0m\n\u001b[1;32m-> 1017\u001b[1;33m                 \u001b[0mself\u001b[0m\u001b[1;33m.\u001b[0m\u001b[0mretrieve\u001b[0m\u001b[1;33m(\u001b[0m\u001b[1;33m)\u001b[0m\u001b[1;33m\u001b[0m\u001b[1;33m\u001b[0m\u001b[0m\n\u001b[0m\u001b[0;32m   1018\u001b[0m             \u001b[1;31m# Make sure that we get a last message telling us we are done\u001b[0m\u001b[1;33m\u001b[0m\u001b[1;33m\u001b[0m\u001b[1;33m\u001b[0m\u001b[0m\n\u001b[0;32m   1019\u001b[0m             \u001b[0melapsed_time\u001b[0m \u001b[1;33m=\u001b[0m \u001b[0mtime\u001b[0m\u001b[1;33m.\u001b[0m\u001b[0mtime\u001b[0m\u001b[1;33m(\u001b[0m\u001b[1;33m)\u001b[0m \u001b[1;33m-\u001b[0m \u001b[0mself\u001b[0m\u001b[1;33m.\u001b[0m\u001b[0m_start_time\u001b[0m\u001b[1;33m\u001b[0m\u001b[1;33m\u001b[0m\u001b[0m\n",
      "\u001b[1;32mc:\\program files (x86)\\python37-32\\lib\\site-packages\\joblib\\parallel.py\u001b[0m in \u001b[0;36mretrieve\u001b[1;34m(self)\u001b[0m\n\u001b[0;32m    907\u001b[0m             \u001b[1;32mtry\u001b[0m\u001b[1;33m:\u001b[0m\u001b[1;33m\u001b[0m\u001b[1;33m\u001b[0m\u001b[0m\n\u001b[0;32m    908\u001b[0m                 \u001b[1;32mif\u001b[0m \u001b[0mgetattr\u001b[0m\u001b[1;33m(\u001b[0m\u001b[0mself\u001b[0m\u001b[1;33m.\u001b[0m\u001b[0m_backend\u001b[0m\u001b[1;33m,\u001b[0m \u001b[1;34m'supports_timeout'\u001b[0m\u001b[1;33m,\u001b[0m \u001b[1;32mFalse\u001b[0m\u001b[1;33m)\u001b[0m\u001b[1;33m:\u001b[0m\u001b[1;33m\u001b[0m\u001b[1;33m\u001b[0m\u001b[0m\n\u001b[1;32m--> 909\u001b[1;33m                     \u001b[0mself\u001b[0m\u001b[1;33m.\u001b[0m\u001b[0m_output\u001b[0m\u001b[1;33m.\u001b[0m\u001b[0mextend\u001b[0m\u001b[1;33m(\u001b[0m\u001b[0mjob\u001b[0m\u001b[1;33m.\u001b[0m\u001b[0mget\u001b[0m\u001b[1;33m(\u001b[0m\u001b[0mtimeout\u001b[0m\u001b[1;33m=\u001b[0m\u001b[0mself\u001b[0m\u001b[1;33m.\u001b[0m\u001b[0mtimeout\u001b[0m\u001b[1;33m)\u001b[0m\u001b[1;33m)\u001b[0m\u001b[1;33m\u001b[0m\u001b[1;33m\u001b[0m\u001b[0m\n\u001b[0m\u001b[0;32m    910\u001b[0m                 \u001b[1;32melse\u001b[0m\u001b[1;33m:\u001b[0m\u001b[1;33m\u001b[0m\u001b[1;33m\u001b[0m\u001b[0m\n\u001b[0;32m    911\u001b[0m                     \u001b[0mself\u001b[0m\u001b[1;33m.\u001b[0m\u001b[0m_output\u001b[0m\u001b[1;33m.\u001b[0m\u001b[0mextend\u001b[0m\u001b[1;33m(\u001b[0m\u001b[0mjob\u001b[0m\u001b[1;33m.\u001b[0m\u001b[0mget\u001b[0m\u001b[1;33m(\u001b[0m\u001b[1;33m)\u001b[0m\u001b[1;33m)\u001b[0m\u001b[1;33m\u001b[0m\u001b[1;33m\u001b[0m\u001b[0m\n",
      "\u001b[1;32mc:\\program files (x86)\\python37-32\\lib\\site-packages\\joblib\\_parallel_backends.py\u001b[0m in \u001b[0;36mwrap_future_result\u001b[1;34m(future, timeout)\u001b[0m\n\u001b[0;32m    560\u001b[0m         AsyncResults.get from multiprocessing.\"\"\"\n\u001b[0;32m    561\u001b[0m         \u001b[1;32mtry\u001b[0m\u001b[1;33m:\u001b[0m\u001b[1;33m\u001b[0m\u001b[1;33m\u001b[0m\u001b[0m\n\u001b[1;32m--> 562\u001b[1;33m             \u001b[1;32mreturn\u001b[0m \u001b[0mfuture\u001b[0m\u001b[1;33m.\u001b[0m\u001b[0mresult\u001b[0m\u001b[1;33m(\u001b[0m\u001b[0mtimeout\u001b[0m\u001b[1;33m=\u001b[0m\u001b[0mtimeout\u001b[0m\u001b[1;33m)\u001b[0m\u001b[1;33m\u001b[0m\u001b[1;33m\u001b[0m\u001b[0m\n\u001b[0m\u001b[0;32m    563\u001b[0m         \u001b[1;32mexcept\u001b[0m \u001b[0mLokyTimeoutError\u001b[0m\u001b[1;33m:\u001b[0m\u001b[1;33m\u001b[0m\u001b[1;33m\u001b[0m\u001b[0m\n\u001b[0;32m    564\u001b[0m             \u001b[1;32mraise\u001b[0m \u001b[0mTimeoutError\u001b[0m\u001b[1;33m(\u001b[0m\u001b[1;33m)\u001b[0m\u001b[1;33m\u001b[0m\u001b[1;33m\u001b[0m\u001b[0m\n",
      "\u001b[1;32mc:\\program files (x86)\\python37-32\\lib\\concurrent\\futures\\_base.py\u001b[0m in \u001b[0;36mresult\u001b[1;34m(self, timeout)\u001b[0m\n\u001b[0;32m    428\u001b[0m                 \u001b[1;32mreturn\u001b[0m \u001b[0mself\u001b[0m\u001b[1;33m.\u001b[0m\u001b[0m__get_result\u001b[0m\u001b[1;33m(\u001b[0m\u001b[1;33m)\u001b[0m\u001b[1;33m\u001b[0m\u001b[1;33m\u001b[0m\u001b[0m\n\u001b[0;32m    429\u001b[0m \u001b[1;33m\u001b[0m\u001b[0m\n\u001b[1;32m--> 430\u001b[1;33m             \u001b[0mself\u001b[0m\u001b[1;33m.\u001b[0m\u001b[0m_condition\u001b[0m\u001b[1;33m.\u001b[0m\u001b[0mwait\u001b[0m\u001b[1;33m(\u001b[0m\u001b[0mtimeout\u001b[0m\u001b[1;33m)\u001b[0m\u001b[1;33m\u001b[0m\u001b[1;33m\u001b[0m\u001b[0m\n\u001b[0m\u001b[0;32m    431\u001b[0m \u001b[1;33m\u001b[0m\u001b[0m\n\u001b[0;32m    432\u001b[0m             \u001b[1;32mif\u001b[0m \u001b[0mself\u001b[0m\u001b[1;33m.\u001b[0m\u001b[0m_state\u001b[0m \u001b[1;32min\u001b[0m \u001b[1;33m[\u001b[0m\u001b[0mCANCELLED\u001b[0m\u001b[1;33m,\u001b[0m \u001b[0mCANCELLED_AND_NOTIFIED\u001b[0m\u001b[1;33m]\u001b[0m\u001b[1;33m:\u001b[0m\u001b[1;33m\u001b[0m\u001b[1;33m\u001b[0m\u001b[0m\n",
      "\u001b[1;32mc:\\program files (x86)\\python37-32\\lib\\threading.py\u001b[0m in \u001b[0;36mwait\u001b[1;34m(self, timeout)\u001b[0m\n\u001b[0;32m    294\u001b[0m         \u001b[1;32mtry\u001b[0m\u001b[1;33m:\u001b[0m    \u001b[1;31m# restore state no matter what (e.g., KeyboardInterrupt)\u001b[0m\u001b[1;33m\u001b[0m\u001b[1;33m\u001b[0m\u001b[0m\n\u001b[0;32m    295\u001b[0m             \u001b[1;32mif\u001b[0m \u001b[0mtimeout\u001b[0m \u001b[1;32mis\u001b[0m \u001b[1;32mNone\u001b[0m\u001b[1;33m:\u001b[0m\u001b[1;33m\u001b[0m\u001b[1;33m\u001b[0m\u001b[0m\n\u001b[1;32m--> 296\u001b[1;33m                 \u001b[0mwaiter\u001b[0m\u001b[1;33m.\u001b[0m\u001b[0macquire\u001b[0m\u001b[1;33m(\u001b[0m\u001b[1;33m)\u001b[0m\u001b[1;33m\u001b[0m\u001b[1;33m\u001b[0m\u001b[0m\n\u001b[0m\u001b[0;32m    297\u001b[0m                 \u001b[0mgotit\u001b[0m \u001b[1;33m=\u001b[0m \u001b[1;32mTrue\u001b[0m\u001b[1;33m\u001b[0m\u001b[1;33m\u001b[0m\u001b[0m\n\u001b[0;32m    298\u001b[0m             \u001b[1;32melse\u001b[0m\u001b[1;33m:\u001b[0m\u001b[1;33m\u001b[0m\u001b[1;33m\u001b[0m\u001b[0m\n",
      "\u001b[1;31mKeyboardInterrupt\u001b[0m: "
     ]
    }
   ],
   "source": [
    "%%time\n",
    "# Fit the grid search to the data\n",
    "grid_search.fit(X, Y)"
   ]
  },
  {
   "cell_type": "code",
   "execution_count": 88,
   "metadata": {},
   "outputs": [
    {
     "ename": "AttributeError",
     "evalue": "'GridSearchCV' object has no attribute 'best_score_'",
     "output_type": "error",
     "traceback": [
      "\u001b[1;31m---------------------------------------------------------------------------\u001b[0m",
      "\u001b[1;31mAttributeError\u001b[0m                            Traceback (most recent call last)",
      "\u001b[1;32m<ipython-input-88-2c4ca39214f7>\u001b[0m in \u001b[0;36m<module>\u001b[1;34m\u001b[0m\n\u001b[0;32m      1\u001b[0m \u001b[1;31m# printing the optimal recall score and hyperparameters\u001b[0m\u001b[1;33m\u001b[0m\u001b[1;33m\u001b[0m\u001b[1;33m\u001b[0m\u001b[0m\n\u001b[1;32m----> 2\u001b[1;33m \u001b[0mprint\u001b[0m\u001b[1;33m(\u001b[0m\u001b[1;34m'We can get recall of'\u001b[0m\u001b[1;33m,\u001b[0m\u001b[0mgrid_search\u001b[0m\u001b[1;33m.\u001b[0m\u001b[0mbest_score_\u001b[0m\u001b[1;33m,\u001b[0m\u001b[1;34m'using'\u001b[0m\u001b[1;33m,\u001b[0m\u001b[0mgrid_search\u001b[0m\u001b[1;33m.\u001b[0m\u001b[0mbest_params_\u001b[0m\u001b[1;33m)\u001b[0m\u001b[1;33m\u001b[0m\u001b[1;33m\u001b[0m\u001b[0m\n\u001b[0m",
      "\u001b[1;31mAttributeError\u001b[0m: 'GridSearchCV' object has no attribute 'best_score_'"
     ]
    }
   ],
   "source": [
    "# printing the optimal recall score and hyperparameters\n",
    "print('We can get recall of',grid_search.best_score_,'using',grid_search.best_params_)"
   ]
  },
  {
   "cell_type": "code",
   "execution_count": null,
   "metadata": {},
   "outputs": [],
   "source": [
    "%%time\n",
    "# model with the best hyperparameters\n",
    "from sklearn.ensemble import RandomForestClassifier\n",
    "rfc = RandomForestClassifier(bootstrap=True,\n",
    "                             max_depth=20,\n",
    "                             min_samples_leaf=100, \n",
    "                             min_samples_split=200,\n",
    "                             max_features=25,\n",
    "                             n_estimators=200)\n",
    "rfc.fit(X_train,y_train)\n",
    "create_submission_file(rfc, 'amit_rand_forest_param_002', X_test_pca)\n"
   ]
  },
  {
   "cell_type": "code",
   "execution_count": null,
   "metadata": {},
   "outputs": [],
   "source": []
  }
 ],
 "metadata": {
  "kernelspec": {
   "display_name": "Python 3",
   "language": "python",
   "name": "python3"
  },
  "language_info": {
   "codemirror_mode": {
    "name": "ipython",
    "version": 3
   },
   "file_extension": ".py",
   "mimetype": "text/x-python",
   "name": "python",
   "nbconvert_exporter": "python",
   "pygments_lexer": "ipython3",
   "version": "3.7.4"
  },
  "varInspector": {
   "cols": {
    "lenName": 16,
    "lenType": 16,
    "lenVar": 40
   },
   "kernels_config": {
    "python": {
     "delete_cmd_postfix": "",
     "delete_cmd_prefix": "del ",
     "library": "var_list.py",
     "varRefreshCmd": "print(var_dic_list())"
    },
    "r": {
     "delete_cmd_postfix": ") ",
     "delete_cmd_prefix": "rm(",
     "library": "var_list.r",
     "varRefreshCmd": "cat(var_dic_list()) "
    }
   },
   "types_to_exclude": [
    "module",
    "function",
    "builtin_function_or_method",
    "instance",
    "_Feature"
   ],
   "window_display": false
  }
 },
 "nbformat": 4,
 "nbformat_minor": 4
}
