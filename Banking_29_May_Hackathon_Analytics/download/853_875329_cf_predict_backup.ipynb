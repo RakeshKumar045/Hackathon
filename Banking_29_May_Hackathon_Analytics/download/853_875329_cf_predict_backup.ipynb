{
 "cells": [
  {
   "cell_type": "code",
   "execution_count": 1,
   "metadata": {},
   "outputs": [
    {
     "name": "stderr",
     "output_type": "stream",
     "text": [
      "Using TensorFlow backend.\n"
     ]
    }
   ],
   "source": [
    "import pandas as pd\n",
    "import numpy as np\n",
    "from catboost import CatBoostClassifier\n",
    "from sklearn.preprocessing import LabelEncoder\n",
    "from sklearn.model_selection import train_test_split, KFold, StratifiedKFold\n",
    "from lightgbm import LGBMClassifier\n",
    "from sklearn.metrics import f1_score\n",
    "from imblearn.over_sampling import SMOTE\n",
    "from collections import Counter\n",
    "import warnings\n",
    "warnings.filterwarnings(\"ignore\")"
   ]
  },
  {
   "cell_type": "markdown",
   "metadata": {},
   "source": [
    "# CATBOOST"
   ]
  },
  {
   "cell_type": "code",
   "execution_count": 39,
   "metadata": {},
   "outputs": [
    {
     "data": {
      "text/html": [
       "<div>\n",
       "<style scoped>\n",
       "    .dataframe tbody tr th:only-of-type {\n",
       "        vertical-align: middle;\n",
       "    }\n",
       "\n",
       "    .dataframe tbody tr th {\n",
       "        vertical-align: top;\n",
       "    }\n",
       "\n",
       "    .dataframe thead th {\n",
       "        text-align: right;\n",
       "    }\n",
       "</style>\n",
       "<table border=\"1\" class=\"dataframe\">\n",
       "  <thead>\n",
       "    <tr style=\"text-align: right;\">\n",
       "      <th></th>\n",
       "      <th>Loan_Amount_Requested</th>\n",
       "      <th>Length_Employed</th>\n",
       "      <th>Home_Owner</th>\n",
       "      <th>Annual_Income</th>\n",
       "      <th>Income_Verified</th>\n",
       "      <th>Purpose_Of_Loan</th>\n",
       "      <th>Debt_To_Income</th>\n",
       "      <th>Inquiries_Last_6Mo</th>\n",
       "      <th>Months_Since_Deliquency</th>\n",
       "      <th>Number_Open_Accounts</th>\n",
       "      <th>Total_Accounts</th>\n",
       "      <th>Gender</th>\n",
       "      <th>Interest_Rate</th>\n",
       "      <th>Number_Invalid_Acc</th>\n",
       "      <th>Number_Years_To_Repay_Debt</th>\n",
       "    </tr>\n",
       "  </thead>\n",
       "  <tbody>\n",
       "    <tr>\n",
       "      <th>0</th>\n",
       "      <td>7000</td>\n",
       "      <td>&lt; 1 year</td>\n",
       "      <td>Rent</td>\n",
       "      <td>68000.000000</td>\n",
       "      <td>not verified</td>\n",
       "      <td>car</td>\n",
       "      <td>18.37</td>\n",
       "      <td>0</td>\n",
       "      <td>0.0</td>\n",
       "      <td>9</td>\n",
       "      <td>14</td>\n",
       "      <td>Female</td>\n",
       "      <td>1</td>\n",
       "      <td>5</td>\n",
       "      <td>0.102941</td>\n",
       "    </tr>\n",
       "    <tr>\n",
       "      <th>1</th>\n",
       "      <td>30000</td>\n",
       "      <td>4 years</td>\n",
       "      <td>Mortgage</td>\n",
       "      <td>73331.159434</td>\n",
       "      <td>VERIFIED - income</td>\n",
       "      <td>debt_consolidation</td>\n",
       "      <td>14.93</td>\n",
       "      <td>0</td>\n",
       "      <td>17.0</td>\n",
       "      <td>12</td>\n",
       "      <td>24</td>\n",
       "      <td>Female</td>\n",
       "      <td>3</td>\n",
       "      <td>12</td>\n",
       "      <td>0.409103</td>\n",
       "    </tr>\n",
       "    <tr>\n",
       "      <th>2</th>\n",
       "      <td>24725</td>\n",
       "      <td>7 years</td>\n",
       "      <td>Mortgage</td>\n",
       "      <td>75566.400000</td>\n",
       "      <td>VERIFIED - income source</td>\n",
       "      <td>debt_consolidation</td>\n",
       "      <td>15.88</td>\n",
       "      <td>0</td>\n",
       "      <td>0.0</td>\n",
       "      <td>12</td>\n",
       "      <td>16</td>\n",
       "      <td>Male</td>\n",
       "      <td>3</td>\n",
       "      <td>4</td>\n",
       "      <td>0.327196</td>\n",
       "    </tr>\n",
       "    <tr>\n",
       "      <th>3</th>\n",
       "      <td>16000</td>\n",
       "      <td>&lt; 1 year</td>\n",
       "      <td>NaN</td>\n",
       "      <td>56160.000000</td>\n",
       "      <td>VERIFIED - income source</td>\n",
       "      <td>debt_consolidation</td>\n",
       "      <td>14.34</td>\n",
       "      <td>3</td>\n",
       "      <td>0.0</td>\n",
       "      <td>16</td>\n",
       "      <td>22</td>\n",
       "      <td>Male</td>\n",
       "      <td>3</td>\n",
       "      <td>6</td>\n",
       "      <td>0.284900</td>\n",
       "    </tr>\n",
       "    <tr>\n",
       "      <th>4</th>\n",
       "      <td>17000</td>\n",
       "      <td>8 years</td>\n",
       "      <td>Own</td>\n",
       "      <td>96000.000000</td>\n",
       "      <td>VERIFIED - income source</td>\n",
       "      <td>debt_consolidation</td>\n",
       "      <td>22.17</td>\n",
       "      <td>1</td>\n",
       "      <td>0.0</td>\n",
       "      <td>19</td>\n",
       "      <td>30</td>\n",
       "      <td>Female</td>\n",
       "      <td>1</td>\n",
       "      <td>11</td>\n",
       "      <td>0.177083</td>\n",
       "    </tr>\n",
       "  </tbody>\n",
       "</table>\n",
       "</div>"
      ],
      "text/plain": [
       "   Loan_Amount_Requested Length_Employed Home_Owner  Annual_Income  \\\n",
       "0                   7000        < 1 year       Rent   68000.000000   \n",
       "1                  30000         4 years   Mortgage   73331.159434   \n",
       "2                  24725         7 years   Mortgage   75566.400000   \n",
       "3                  16000        < 1 year        NaN   56160.000000   \n",
       "4                  17000         8 years        Own   96000.000000   \n",
       "\n",
       "            Income_Verified     Purpose_Of_Loan  Debt_To_Income  \\\n",
       "0              not verified                 car           18.37   \n",
       "1         VERIFIED - income  debt_consolidation           14.93   \n",
       "2  VERIFIED - income source  debt_consolidation           15.88   \n",
       "3  VERIFIED - income source  debt_consolidation           14.34   \n",
       "4  VERIFIED - income source  debt_consolidation           22.17   \n",
       "\n",
       "   Inquiries_Last_6Mo  Months_Since_Deliquency  Number_Open_Accounts  \\\n",
       "0                   0                      0.0                     9   \n",
       "1                   0                     17.0                    12   \n",
       "2                   0                      0.0                    12   \n",
       "3                   3                      0.0                    16   \n",
       "4                   1                      0.0                    19   \n",
       "\n",
       "   Total_Accounts  Gender  Interest_Rate  Number_Invalid_Acc  \\\n",
       "0              14  Female              1                   5   \n",
       "1              24  Female              3                  12   \n",
       "2              16    Male              3                   4   \n",
       "3              22    Male              3                   6   \n",
       "4              30  Female              1                  11   \n",
       "\n",
       "   Number_Years_To_Repay_Debt  \n",
       "0                    0.102941  \n",
       "1                    0.409103  \n",
       "2                    0.327196  \n",
       "3                    0.284900  \n",
       "4                    0.177083  "
      ]
     },
     "execution_count": 39,
     "metadata": {},
     "output_type": "execute_result"
    }
   ],
   "source": [
    "df_train = pd.read_csv(\"train_fNxu4vz.csv\")\n",
    "df_test = pd.read_csv(\"test_fjtUOL8.csv\")\n",
    "\n",
    "df_train[\"Loan_Amount_Requested\"] = df_train[\"Loan_Amount_Requested\"].str.replace(\",\", \"\")\n",
    "df_train[\"Loan_Amount_Requested\"] = pd.to_numeric(df_train[\"Loan_Amount_Requested\"])\n",
    "df_test[\"Loan_Amount_Requested\"] = df_test[\"Loan_Amount_Requested\"].str.replace(\",\", \"\")\n",
    "df_test[\"Loan_Amount_Requested\"] = pd.to_numeric(df_test[\"Loan_Amount_Requested\"])\n",
    "\n",
    "df_train[\"Length_Employed\"].fillna('NaN', inplace=True)\n",
    "df_test[\"Length_Employed\"].fillna('NaN', inplace=True)\n",
    "\n",
    "df_train[\"Home_Owner\"].fillna('NaN', inplace=True)\n",
    "df_test[\"Home_Owner\"].fillna('NaN', inplace=True)\n",
    "\n",
    "df_train[\"Income_Verified\"].fillna('NaN', inplace=True)\n",
    "df_test[\"Income_Verified\"].fillna('NaN', inplace=True)\n",
    "\n",
    "df_train[\"Purpose_Of_Loan\"].fillna('NaN', inplace=True)\n",
    "df_test[\"Purpose_Of_Loan\"].fillna('NaN', inplace=True)\n",
    "\n",
    "df_train[\"Gender\"].fillna('NaN', inplace=True)\n",
    "df_test[\"Gender\"].fillna('NaN', inplace=True)\n",
    "\n",
    "df_train = df_train.drop([\"Loan_ID\"], axis=1)\n",
    "loan_ids = df_test[\"Loan_ID\"].values\n",
    "df_test = df_test.drop([\"Loan_ID\"], axis=1)\n",
    "\n",
    "df_train[\"Annual_Income\"].fillna(df_train[\"Annual_Income\"].mean(), inplace=True)\n",
    "df_test[\"Annual_Income\"].fillna(df_test[\"Annual_Income\"].mean(), inplace=True)\n",
    "\n",
    "df_train[\"Months_Since_Deliquency\"].fillna(0, inplace=True)\n",
    "df_test[\"Months_Since_Deliquency\"].fillna(0, inplace=True)\n",
    "\n",
    "df_train[\"Number_Invalid_Acc\"] = df_train[\"Total_Accounts\"] - df_train[\"Number_Open_Accounts\"]\n",
    "df_test[\"Number_Invalid_Acc\"] = df_test[\"Total_Accounts\"] - df_test[\"Number_Open_Accounts\"]\n",
    "\n",
    "df_train[\"Number_Years_To_Repay_Debt\"] = df_train[\"Loan_Amount_Requested\"]/df_train[\"Annual_Income\"]\n",
    "df_test[\"Number_Years_To_Repay_Debt\"] = df_test[\"Loan_Amount_Requested\"]/df_test[\"Annual_Income\"]\n",
    "\n",
    "df_train.head()"
   ]
  },
  {
   "cell_type": "code",
   "execution_count": 40,
   "metadata": {},
   "outputs": [
    {
     "data": {
      "text/plain": [
       "((164309, 14), (164309,), (109541, 14))"
      ]
     },
     "execution_count": 40,
     "metadata": {},
     "output_type": "execute_result"
    }
   ],
   "source": [
    "X_train, Y = df_train.drop([\"Interest_Rate\"], axis=1).values, df_train[\"Interest_Rate\"].values\n",
    "X_test = df_test.values\n",
    "\n",
    "X_train.shape, Y.shape, X_test.shape"
   ]
  },
  {
   "cell_type": "code",
   "execution_count": 16,
   "metadata": {},
   "outputs": [
    {
     "name": "stdout",
     "output_type": "stream",
     "text": [
      "Learning rate set to 0.175594\n",
      "0:\tlearn: 1.0646301\ttotal: 26.7ms\tremaining: 26.7s\n",
      "500:\tlearn: 0.8755885\ttotal: 10.4s\tremaining: 10.4s\n",
      "999:\tlearn: 0.8406830\ttotal: 21.1s\tremaining: 0us\n",
      "0.533349619004438\n",
      "Learning rate set to 0.175594\n",
      "0:\tlearn: 1.0642171\ttotal: 28.3ms\tremaining: 28.3s\n",
      "500:\tlearn: 0.8741221\ttotal: 10.2s\tremaining: 10.2s\n",
      "999:\tlearn: 0.8387737\ttotal: 21.1s\tremaining: 0us\n",
      "0.5343741572061917\n",
      "Learning rate set to 0.175594\n",
      "0:\tlearn: 1.0645684\ttotal: 25.8ms\tremaining: 25.8s\n",
      "500:\tlearn: 0.8755210\ttotal: 10.8s\tremaining: 10.8s\n",
      "999:\tlearn: 0.8414134\ttotal: 21.5s\tremaining: 0us\n",
      "0.5336382563188597\n",
      "Learning rate set to 0.175594\n",
      "0:\tlearn: 1.0646968\ttotal: 24ms\tremaining: 23.9s\n",
      "500:\tlearn: 0.8749741\ttotal: 11s\tremaining: 11s\n",
      "999:\tlearn: 0.8402085\ttotal: 21.6s\tremaining: 0us\n",
      "0.5305398289647182\n",
      "Learning rate set to 0.175594\n",
      "0:\tlearn: 1.0647386\ttotal: 26.9ms\tremaining: 26.9s\n",
      "500:\tlearn: 0.8769672\ttotal: 10.9s\tremaining: 10.8s\n",
      "999:\tlearn: 0.8429741\ttotal: 21.7s\tremaining: 0us\n",
      "0.5327046257273852\n",
      "Average:  0.5329212974443186\n"
     ]
    }
   ],
   "source": [
    "kfold, scores = KFold(n_splits=5, shuffle=True, random_state=0), list()\n",
    "for train, test in kfold.split(X_train):\n",
    "    x_train, x_test = X_train[train], X_train[test]\n",
    "    y_train, y_test = Y[train], Y[test]\n",
    "    \n",
    "    model = CatBoostClassifier(random_state=27, max_depth=6, task_type=\"GPU\", devices=\"0:1\", n_estimators=1000, verbose=500)\n",
    "    model.fit(x_train, y_train, cat_features=[1, 2, 4, 5, 11])\n",
    "    preds = model.predict(x_test)\n",
    "    score = f1_score(y_test, preds, average=\"weighted\")\n",
    "    scores.append(score)\n",
    "    print(score)\n",
    "print(\"Average: \", sum(scores)/len(scores))"
   ]
  },
  {
   "cell_type": "code",
   "execution_count": 41,
   "metadata": {},
   "outputs": [
    {
     "name": "stdout",
     "output_type": "stream",
     "text": [
      "Learning rate set to 0.183772\n",
      "0:\tlearn: 1.0630946\ttotal: 29.1ms\tremaining: 29s\n",
      "500:\tlearn: 0.8802310\ttotal: 11s\tremaining: 11s\n",
      "999:\tlearn: 0.8498682\ttotal: 22.1s\tremaining: 0us\n"
     ]
    }
   ],
   "source": [
    "model = CatBoostClassifier(random_state=27, task_type=\"GPU\", devices=\"0:1\", n_estimators=1000, max_depth=6, verbose=500)\n",
    "model.fit(X_train, Y, cat_features=[1, 2, 4, 5, 11])\n",
    "preds1 = model.predict_proba(X_test)"
   ]
  },
  {
   "cell_type": "code",
   "execution_count": 42,
   "metadata": {},
   "outputs": [
    {
     "data": {
      "text/plain": [
       "<matplotlib.axes._subplots.AxesSubplot at 0x1e3c9ce5c48>"
      ]
     },
     "execution_count": 42,
     "metadata": {},
     "output_type": "execute_result"
    },
    {
     "data": {
      "image/png": "[encoded data removed]",
      "text/plain": [
       "<Figure size 576x720 with 1 Axes>"
      ]
     },
     "metadata": {
      "needs_background": "light"
     },
     "output_type": "display_data"
    }
   ],
   "source": [
    "feat_imp = pd.Series(model.feature_importances_, index=df_train.drop([\"Interest_Rate\"], axis=1).columns)\n",
    "feat_imp.nlargest(30).plot(kind='barh', figsize=(8,10))"
   ]
  },
  {
   "cell_type": "markdown",
   "metadata": {},
   "source": [
    "# LIGHTGBM"
   ]
  },
  {
   "cell_type": "code",
   "execution_count": 43,
   "metadata": {},
   "outputs": [
    {
     "data": {
      "text/html": [
       "<div>\n",
       "<style scoped>\n",
       "    .dataframe tbody tr th:only-of-type {\n",
       "        vertical-align: middle;\n",
       "    }\n",
       "\n",
       "    .dataframe tbody tr th {\n",
       "        vertical-align: top;\n",
       "    }\n",
       "\n",
       "    .dataframe thead th {\n",
       "        text-align: right;\n",
       "    }\n",
       "</style>\n",
       "<table border=\"1\" class=\"dataframe\">\n",
       "  <thead>\n",
       "    <tr style=\"text-align: right;\">\n",
       "      <th></th>\n",
       "      <th>Loan_Amount_Requested</th>\n",
       "      <th>Length_Employed</th>\n",
       "      <th>Home_Owner</th>\n",
       "      <th>Annual_Income</th>\n",
       "      <th>Income_Verified</th>\n",
       "      <th>Purpose_Of_Loan</th>\n",
       "      <th>Debt_To_Income</th>\n",
       "      <th>Inquiries_Last_6Mo</th>\n",
       "      <th>Months_Since_Deliquency</th>\n",
       "      <th>Number_Open_Accounts</th>\n",
       "      <th>Total_Accounts</th>\n",
       "      <th>Gender</th>\n",
       "      <th>Interest_Rate</th>\n",
       "      <th>Number_Invalid_Acc</th>\n",
       "      <th>Number_Years_To_Repay_Debt</th>\n",
       "    </tr>\n",
       "  </thead>\n",
       "  <tbody>\n",
       "    <tr>\n",
       "      <th>0</th>\n",
       "      <td>7000</td>\n",
       "      <td>10</td>\n",
       "      <td>5</td>\n",
       "      <td>68000.000000</td>\n",
       "      <td>2</td>\n",
       "      <td>0</td>\n",
       "      <td>18.37</td>\n",
       "      <td>0</td>\n",
       "      <td>0.0</td>\n",
       "      <td>9</td>\n",
       "      <td>14</td>\n",
       "      <td>0</td>\n",
       "      <td>1</td>\n",
       "      <td>5</td>\n",
       "      <td>0.102941</td>\n",
       "    </tr>\n",
       "    <tr>\n",
       "      <th>1</th>\n",
       "      <td>30000</td>\n",
       "      <td>4</td>\n",
       "      <td>0</td>\n",
       "      <td>73331.159434</td>\n",
       "      <td>0</td>\n",
       "      <td>2</td>\n",
       "      <td>14.93</td>\n",
       "      <td>0</td>\n",
       "      <td>17.0</td>\n",
       "      <td>12</td>\n",
       "      <td>24</td>\n",
       "      <td>0</td>\n",
       "      <td>3</td>\n",
       "      <td>12</td>\n",
       "      <td>0.409103</td>\n",
       "    </tr>\n",
       "    <tr>\n",
       "      <th>2</th>\n",
       "      <td>24725</td>\n",
       "      <td>7</td>\n",
       "      <td>0</td>\n",
       "      <td>75566.400000</td>\n",
       "      <td>1</td>\n",
       "      <td>2</td>\n",
       "      <td>15.88</td>\n",
       "      <td>0</td>\n",
       "      <td>0.0</td>\n",
       "      <td>12</td>\n",
       "      <td>16</td>\n",
       "      <td>1</td>\n",
       "      <td>3</td>\n",
       "      <td>4</td>\n",
       "      <td>0.327196</td>\n",
       "    </tr>\n",
       "    <tr>\n",
       "      <th>3</th>\n",
       "      <td>16000</td>\n",
       "      <td>10</td>\n",
       "      <td>1</td>\n",
       "      <td>56160.000000</td>\n",
       "      <td>1</td>\n",
       "      <td>2</td>\n",
       "      <td>14.34</td>\n",
       "      <td>3</td>\n",
       "      <td>0.0</td>\n",
       "      <td>16</td>\n",
       "      <td>22</td>\n",
       "      <td>1</td>\n",
       "      <td>3</td>\n",
       "      <td>6</td>\n",
       "      <td>0.284900</td>\n",
       "    </tr>\n",
       "    <tr>\n",
       "      <th>4</th>\n",
       "      <td>17000</td>\n",
       "      <td>8</td>\n",
       "      <td>4</td>\n",
       "      <td>96000.000000</td>\n",
       "      <td>1</td>\n",
       "      <td>2</td>\n",
       "      <td>22.17</td>\n",
       "      <td>1</td>\n",
       "      <td>0.0</td>\n",
       "      <td>19</td>\n",
       "      <td>30</td>\n",
       "      <td>0</td>\n",
       "      <td>1</td>\n",
       "      <td>11</td>\n",
       "      <td>0.177083</td>\n",
       "    </tr>\n",
       "  </tbody>\n",
       "</table>\n",
       "</div>"
      ],
      "text/plain": [
       "   Loan_Amount_Requested  Length_Employed  Home_Owner  Annual_Income  \\\n",
       "0                   7000               10           5   68000.000000   \n",
       "1                  30000                4           0   73331.159434   \n",
       "2                  24725                7           0   75566.400000   \n",
       "3                  16000               10           1   56160.000000   \n",
       "4                  17000                8           4   96000.000000   \n",
       "\n",
       "   Income_Verified  Purpose_Of_Loan  Debt_To_Income  Inquiries_Last_6Mo  \\\n",
       "0                2                0           18.37                   0   \n",
       "1                0                2           14.93                   0   \n",
       "2                1                2           15.88                   0   \n",
       "3                1                2           14.34                   3   \n",
       "4                1                2           22.17                   1   \n",
       "\n",
       "   Months_Since_Deliquency  Number_Open_Accounts  Total_Accounts  Gender  \\\n",
       "0                      0.0                     9              14       0   \n",
       "1                     17.0                    12              24       0   \n",
       "2                      0.0                    12              16       1   \n",
       "3                      0.0                    16              22       1   \n",
       "4                      0.0                    19              30       0   \n",
       "\n",
       "   Interest_Rate  Number_Invalid_Acc  Number_Years_To_Repay_Debt  \n",
       "0              1                   5                    0.102941  \n",
       "1              3                  12                    0.409103  \n",
       "2              3                   4                    0.327196  \n",
       "3              3                   6                    0.284900  \n",
       "4              1                  11                    0.177083  "
      ]
     },
     "execution_count": 43,
     "metadata": {},
     "output_type": "execute_result"
    }
   ],
   "source": [
    "df_train = pd.read_csv(\"train_fNxu4vz.csv\")\n",
    "df_test = pd.read_csv(\"test_fjtUOL8.csv\")\n",
    "\n",
    "df_train[\"Loan_Amount_Requested\"] = df_train[\"Loan_Amount_Requested\"].str.replace(\",\", \"\")\n",
    "df_train[\"Loan_Amount_Requested\"] = pd.to_numeric(df_train[\"Loan_Amount_Requested\"])\n",
    "df_test[\"Loan_Amount_Requested\"] = df_test[\"Loan_Amount_Requested\"].str.replace(\",\", \"\")\n",
    "df_test[\"Loan_Amount_Requested\"] = pd.to_numeric(df_test[\"Loan_Amount_Requested\"])\n",
    "\n",
    "df_train[\"Length_Employed\"].fillna('NaN', inplace=True)\n",
    "df_test[\"Length_Employed\"].fillna('NaN', inplace=True)\n",
    "\n",
    "df_train[\"Home_Owner\"].fillna('NaN', inplace=True)\n",
    "df_test[\"Home_Owner\"].fillna('NaN', inplace=True)\n",
    "\n",
    "df_train[\"Income_Verified\"].fillna('NaN', inplace=True)\n",
    "df_test[\"Income_Verified\"].fillna('NaN', inplace=True)\n",
    "\n",
    "df_train[\"Purpose_Of_Loan\"].fillna('NaN', inplace=True)\n",
    "df_test[\"Purpose_Of_Loan\"].fillna('NaN', inplace=True)\n",
    "\n",
    "df_train[\"Gender\"].fillna('NaN', inplace=True)\n",
    "df_test[\"Gender\"].fillna('NaN', inplace=True)\n",
    "\n",
    "df_train = df_train.drop([\"Loan_ID\"], axis=1)\n",
    "loan_ids = df_test[\"Loan_ID\"].values\n",
    "df_test = df_test.drop([\"Loan_ID\"], axis=1)\n",
    "\n",
    "le = LabelEncoder()\n",
    "df_train[\"Length_Employed\"] = le.fit_transform(df_train[\"Length_Employed\"])\n",
    "df_test[\"Length_Employed\"] = le.transform(df_test[\"Length_Employed\"])\n",
    "\n",
    "df_train[\"Home_Owner\"] = le.fit_transform(df_train[\"Home_Owner\"])\n",
    "df_test[\"Home_Owner\"] = le.transform(df_test[\"Home_Owner\"])\n",
    "\n",
    "df_train[\"Income_Verified\"] = le.fit_transform(df_train[\"Income_Verified\"])\n",
    "df_test[\"Income_Verified\"] = le.transform(df_test[\"Income_Verified\"])\n",
    "\n",
    "df_train[\"Purpose_Of_Loan\"] = le.fit_transform(df_train[\"Purpose_Of_Loan\"])\n",
    "df_test[\"Purpose_Of_Loan\"] = le.transform(df_test[\"Purpose_Of_Loan\"])\n",
    "\n",
    "df_train[\"Gender\"] = le.fit_transform(df_train[\"Gender\"])\n",
    "df_test[\"Gender\"] = le.transform(df_test[\"Gender\"])\n",
    "\n",
    "df_train[\"Annual_Income\"].fillna(df_train[\"Annual_Income\"].mean(), inplace=True)\n",
    "df_test[\"Annual_Income\"].fillna(df_test[\"Annual_Income\"].mean(), inplace=True)\n",
    "\n",
    "df_train[\"Months_Since_Deliquency\"].fillna(0, inplace=True)\n",
    "df_test[\"Months_Since_Deliquency\"].fillna(0, inplace=True)\n",
    "\n",
    "df_train[\"Number_Invalid_Acc\"] = df_train[\"Total_Accounts\"] - df_train[\"Number_Open_Accounts\"]\n",
    "df_test[\"Number_Invalid_Acc\"] = df_test[\"Total_Accounts\"] - df_test[\"Number_Open_Accounts\"]\n",
    "\n",
    "df_train[\"Number_Years_To_Repay_Debt\"] = df_train[\"Loan_Amount_Requested\"]/df_train[\"Annual_Income\"]\n",
    "df_test[\"Number_Years_To_Repay_Debt\"] = df_test[\"Loan_Amount_Requested\"]/df_test[\"Annual_Income\"]\n",
    "\n",
    "df_train.head()"
   ]
  },
  {
   "cell_type": "code",
   "execution_count": 44,
   "metadata": {},
   "outputs": [
    {
     "data": {
      "text/plain": [
       "((164309, 14), (164309,), (109541, 14))"
      ]
     },
     "execution_count": 44,
     "metadata": {},
     "output_type": "execute_result"
    }
   ],
   "source": [
    "X_train, Y = df_train.drop([\"Interest_Rate\"], axis=1).values, df_train[\"Interest_Rate\"].values\n",
    "X_test = df_test.values\n",
    "\n",
    "X_train.shape, Y.shape, X_test.shape"
   ]
  },
  {
   "cell_type": "code",
   "execution_count": 22,
   "metadata": {},
   "outputs": [
    {
     "name": "stdout",
     "output_type": "stream",
     "text": [
      "0.5364962372509364\n",
      "0.5337692541119526\n",
      "0.5332167074343459\n",
      "0.5354353011823852\n",
      "0.5371455480768109\n",
      "Average:  0.5352126096112861\n"
     ]
    }
   ],
   "source": [
    "kfold, scores = KFold(n_splits=5, shuffle=True, random_state=0), list()\n",
    "for train, test in kfold.split(X_train):\n",
    "    x_train, x_test = X_train[train], X_train[test]\n",
    "    y_train, y_test = Y[train], Y[test]\n",
    "    \n",
    "    num_class1, num_class2, num_class3 = Counter(y_train)[1], Counter(y_train)[2], Counter(y_train)[3]\n",
    "    sm = SMOTE(random_state=27, sampling_strategy={1: int(2.0*num_class1), 2: int(1.6*num_class2), 3: int(1.6*num_class3)})\n",
    "    x_train, y_train = sm.fit_resample(x_train, y_train)\n",
    "    \n",
    "    model = LGBMClassifier(random_state=27, max_depth=6, n_estimators=400)\n",
    "    model.fit(x_train, y_train, categorical_feature=[1, 2, 4, 5, 11])\n",
    "    preds = model.predict(x_test)\n",
    "    score = f1_score(y_test, preds, average=\"weighted\")\n",
    "    scores.append(score)\n",
    "    print(score)\n",
    "print(\"Average: \", sum(scores)/len(scores))"
   ]
  },
  {
   "cell_type": "code",
   "execution_count": 45,
   "metadata": {},
   "outputs": [],
   "source": [
    "num_class1, num_class2, num_class3 = Counter(Y)[1], Counter(Y)[2], Counter(Y)[3]\n",
    "sm = SMOTE(random_state=27, sampling_strategy={1: int(2.0*num_class1), 2: int(1.6*num_class2), 3: int(1.6*num_class3)})\n",
    "X_train_, Y_ = sm.fit_resample(X_train, Y)\n",
    "\n",
    "model = LGBMClassifier(random_state=27, max_depth=6, n_estimators=400)\n",
    "model.fit(X_train_, Y_, categorical_feature=[1, 2, 4, 5, 11])\n",
    "preds2 = model.predict_proba(X_test)"
   ]
  },
  {
   "cell_type": "code",
   "execution_count": 46,
   "metadata": {},
   "outputs": [
    {
     "data": {
      "text/plain": [
       "<matplotlib.axes._subplots.AxesSubplot at 0x1e3e269e188>"
      ]
     },
     "execution_count": 46,
     "metadata": {},
     "output_type": "execute_result"
    },
    {
     "data": {
      "image/png": "[encoded data removed]",
      "text/plain": [
       "<Figure size 576x720 with 1 Axes>"
      ]
     },
     "metadata": {
      "needs_background": "light"
     },
     "output_type": "display_data"
    }
   ],
   "source": [
    "feat_imp = pd.Series(model.feature_importances_, index=df_train.drop([\"Interest_Rate\"], axis=1).columns)\n",
    "feat_imp.nlargest(30).plot(kind='barh', figsize=(8,10))"
   ]
  },
  {
   "cell_type": "code",
   "execution_count": 47,
   "metadata": {},
   "outputs": [
    {
     "name": "stdout",
     "output_type": "stream",
     "text": [
      "[[0.1929159735575896, 0.3840210112179492, 0.42306301522446116], [0.4481615438039259, 0.48065243924181467, 0.07118601695425944], [0.14059423082258893, 0.444006008007065, 0.41539976117034594], [0.1887090753676001, 0.5139598449361376, 0.29733107969626227], [0.0941274969788593, 0.4923881508308, 0.41348435219034063], [0.09547765464866834, 0.49000799035822873, 0.4145143549931029], [0.07591270423612426, 0.3195400534348962, 0.6045472423289796], [0.029110848409458434, 0.11759737054455818, 0.8532917810459834], [0.056943878875617485, 0.2831011962899195, 0.6599549248344629], [0.06606271938637454, 0.3128616824358996, 0.6210755981777258]]\n"
     ]
    }
   ],
   "source": [
    "preds = list()\n",
    "cb_weight=0.4\n",
    "lb_weight=0.6\n",
    "for i, j in zip(preds1, preds2):\n",
    "    xx = [(cb_weight * i[0]) + (lb_weight * j[0]),\n",
    "          (cb_weight * i[1]) + (lb_weight * j[1]),\n",
    "          (cb_weight * i[2]) + (lb_weight * j[2])]\n",
    "    preds.append(xx)\n",
    "print(preds[:10])\n",
    "preds=np.argmax(preds,axis=1)+1"
   ]
  },
  {
   "cell_type": "code",
   "execution_count": 48,
   "metadata": {},
   "outputs": [],
   "source": [
    "# df_submit = pd.DataFrame({'Loan_ID': loan_ids, 'Interest_Rate': np.argmax(preds2, axis=1)+1})\n",
    "df_submit = pd.DataFrame({'Loan_ID': loan_ids, 'Interest_Rate': preds})\n",
    "df_submit.to_csv(\"submit1.csv\", index=False)"
   ]
  },
  {
   "cell_type": "code",
   "execution_count": null,
   "metadata": {},
   "outputs": [],
   "source": [
    "# LGBMClassifier(max_depth=6, n_estimators=400, sampling=2.0,1.6,1.6) CV: 0.5353224096830844 Score: 0.53978150164658\n",
    "# CatBoostClassifier(n_estimators=5000) CV: 0.5337109747263968 Score: 0.5359361223956677\n",
    "\n",
    "[[0.17491694170265426, 0.40322054519389505, 0.4218625131034507], [0.44788098803622145, 0.48152933215056115, 0.07058967981321754], [0.16516924074792266, 0.4013672910550343, 0.43346346819704296], [0.1877194351682937, 0.5158027766175108, 0.29647778821419546], [0.1088781750294816, 0.5006676030089275, 0.39045422196159085], [0.09237133855065409, 0.4587732919456884, 0.44885536950365745], [0.07953763177066556, 0.34196379994119, 0.5784985682881445], [0.02378760623259271, 0.1122000357111806, 0.8640123580562267], [0.05736146162540505, 0.2754596080203474, 0.6671789303542475], [0.057428095203973156, 0.33441655262533254, 0.6081553521706943]]"
   ]
  }
 ],
 "metadata": {
  "kernelspec": {
   "display_name": "Python 3",
   "language": "python",
   "name": "python3"
  },
  "language_info": {
   "codemirror_mode": {
    "name": "ipython",
    "version": 3
   },
   "file_extension": ".py",
   "mimetype": "text/x-python",
   "name": "python",
   "nbconvert_exporter": "python",
   "pygments_lexer": "ipython3",
   "version": "3.6.5"
  }
 },
 "nbformat": 4,
 "nbformat_minor": 4
}
