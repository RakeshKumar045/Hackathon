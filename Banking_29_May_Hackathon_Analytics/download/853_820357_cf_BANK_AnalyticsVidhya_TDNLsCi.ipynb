{
 "cells": [
  {
   "cell_type": "code",
   "execution_count": 1,
   "metadata": {},
   "outputs": [],
   "source": [
    "import pandas as pd\n",
    "import numpy as np\n",
    "import matplotlib.pyplot as plt\n",
    "import seaborn as sns"
   ]
  },
  {
   "cell_type": "code",
   "execution_count": 2,
   "metadata": {},
   "outputs": [],
   "source": [
    "train_data = pd.read_csv(r'G:\\DATASETS\\Analytics Vidya\\BANK\\train.csv')\n",
    "test_data = pd.read_csv(r'G:\\DATASETS\\Analytics Vidya\\BANK\\test.csv')\n",
    "train_data.drop('Loan_ID',axis=1 ,inplace=True)\n",
    "ID = test_data['Loan_ID']\n",
    "test_data.drop('Loan_ID',axis=1 ,inplace=True)"
   ]
  },
  {
   "cell_type": "code",
   "execution_count": 3,
   "metadata": {},
   "outputs": [
    {
     "data": {
      "text/html": [
       "<div>\n",
       "<style scoped>\n",
       "    .dataframe tbody tr th:only-of-type {\n",
       "        vertical-align: middle;\n",
       "    }\n",
       "\n",
       "    .dataframe tbody tr th {\n",
       "        vertical-align: top;\n",
       "    }\n",
       "\n",
       "    .dataframe thead th {\n",
       "        text-align: right;\n",
       "    }\n",
       "</style>\n",
       "<table border=\"1\" class=\"dataframe\">\n",
       "  <thead>\n",
       "    <tr style=\"text-align: right;\">\n",
       "      <th></th>\n",
       "      <th>Loan_Amount_Requested</th>\n",
       "      <th>Length_Employed</th>\n",
       "      <th>Home_Owner</th>\n",
       "      <th>Annual_Income</th>\n",
       "      <th>Income_Verified</th>\n",
       "      <th>Purpose_Of_Loan</th>\n",
       "      <th>Debt_To_Income</th>\n",
       "      <th>Inquiries_Last_6Mo</th>\n",
       "      <th>Months_Since_Deliquency</th>\n",
       "      <th>Number_Open_Accounts</th>\n",
       "      <th>Total_Accounts</th>\n",
       "      <th>Gender</th>\n",
       "      <th>Interest_Rate</th>\n",
       "    </tr>\n",
       "  </thead>\n",
       "  <tbody>\n",
       "    <tr>\n",
       "      <th>0</th>\n",
       "      <td>7,000</td>\n",
       "      <td>&lt; 1 year</td>\n",
       "      <td>Rent</td>\n",
       "      <td>68000.0</td>\n",
       "      <td>not verified</td>\n",
       "      <td>car</td>\n",
       "      <td>18.37</td>\n",
       "      <td>0</td>\n",
       "      <td>NaN</td>\n",
       "      <td>9</td>\n",
       "      <td>14</td>\n",
       "      <td>Female</td>\n",
       "      <td>1</td>\n",
       "    </tr>\n",
       "    <tr>\n",
       "      <th>1</th>\n",
       "      <td>30,000</td>\n",
       "      <td>4 years</td>\n",
       "      <td>Mortgage</td>\n",
       "      <td>NaN</td>\n",
       "      <td>VERIFIED - income</td>\n",
       "      <td>debt_consolidation</td>\n",
       "      <td>14.93</td>\n",
       "      <td>0</td>\n",
       "      <td>17.0</td>\n",
       "      <td>12</td>\n",
       "      <td>24</td>\n",
       "      <td>Female</td>\n",
       "      <td>3</td>\n",
       "    </tr>\n",
       "    <tr>\n",
       "      <th>2</th>\n",
       "      <td>24,725</td>\n",
       "      <td>7 years</td>\n",
       "      <td>Mortgage</td>\n",
       "      <td>75566.4</td>\n",
       "      <td>VERIFIED - income source</td>\n",
       "      <td>debt_consolidation</td>\n",
       "      <td>15.88</td>\n",
       "      <td>0</td>\n",
       "      <td>NaN</td>\n",
       "      <td>12</td>\n",
       "      <td>16</td>\n",
       "      <td>Male</td>\n",
       "      <td>3</td>\n",
       "    </tr>\n",
       "    <tr>\n",
       "      <th>3</th>\n",
       "      <td>16,000</td>\n",
       "      <td>&lt; 1 year</td>\n",
       "      <td>NaN</td>\n",
       "      <td>56160.0</td>\n",
       "      <td>VERIFIED - income source</td>\n",
       "      <td>debt_consolidation</td>\n",
       "      <td>14.34</td>\n",
       "      <td>3</td>\n",
       "      <td>NaN</td>\n",
       "      <td>16</td>\n",
       "      <td>22</td>\n",
       "      <td>Male</td>\n",
       "      <td>3</td>\n",
       "    </tr>\n",
       "    <tr>\n",
       "      <th>4</th>\n",
       "      <td>17,000</td>\n",
       "      <td>8 years</td>\n",
       "      <td>Own</td>\n",
       "      <td>96000.0</td>\n",
       "      <td>VERIFIED - income source</td>\n",
       "      <td>debt_consolidation</td>\n",
       "      <td>22.17</td>\n",
       "      <td>1</td>\n",
       "      <td>NaN</td>\n",
       "      <td>19</td>\n",
       "      <td>30</td>\n",
       "      <td>Female</td>\n",
       "      <td>1</td>\n",
       "    </tr>\n",
       "  </tbody>\n",
       "</table>\n",
       "</div>"
      ],
      "text/plain": [
       "  Loan_Amount_Requested Length_Employed Home_Owner  Annual_Income  \\\n",
       "0                 7,000        < 1 year       Rent        68000.0   \n",
       "1                30,000         4 years   Mortgage            NaN   \n",
       "2                24,725         7 years   Mortgage        75566.4   \n",
       "3                16,000        < 1 year        NaN        56160.0   \n",
       "4                17,000         8 years        Own        96000.0   \n",
       "\n",
       "            Income_Verified     Purpose_Of_Loan  Debt_To_Income  \\\n",
       "0              not verified                 car           18.37   \n",
       "1         VERIFIED - income  debt_consolidation           14.93   \n",
       "2  VERIFIED - income source  debt_consolidation           15.88   \n",
       "3  VERIFIED - income source  debt_consolidation           14.34   \n",
       "4  VERIFIED - income source  debt_consolidation           22.17   \n",
       "\n",
       "   Inquiries_Last_6Mo  Months_Since_Deliquency  Number_Open_Accounts  \\\n",
       "0                   0                      NaN                     9   \n",
       "1                   0                     17.0                    12   \n",
       "2                   0                      NaN                    12   \n",
       "3                   3                      NaN                    16   \n",
       "4                   1                      NaN                    19   \n",
       "\n",
       "   Total_Accounts  Gender  Interest_Rate  \n",
       "0              14  Female              1  \n",
       "1              24  Female              3  \n",
       "2              16    Male              3  \n",
       "3              22    Male              3  \n",
       "4              30  Female              1  "
      ]
     },
     "execution_count": 3,
     "metadata": {},
     "output_type": "execute_result"
    }
   ],
   "source": [
    "train_data.head()"
   ]
  },
  {
   "cell_type": "code",
   "execution_count": 4,
   "metadata": {},
   "outputs": [],
   "source": [
    "#train_data.describe()"
   ]
  },
  {
   "cell_type": "code",
   "execution_count": null,
   "metadata": {},
   "outputs": [],
   "source": []
  },
  {
   "cell_type": "code",
   "execution_count": 5,
   "metadata": {},
   "outputs": [
    {
     "data": {
      "text/plain": [
       "Index(['Length_Employed', 'Home_Owner', 'Annual_Income',\n",
       "       'Months_Since_Deliquency'],\n",
       "      dtype='object')"
      ]
     },
     "execution_count": 5,
     "metadata": {},
     "output_type": "execute_result"
    }
   ],
   "source": [
    "missing_columns = train_data.columns[train_data.isna().sum() >1]\n",
    "missing_columns"
   ]
  },
  {
   "cell_type": "code",
   "execution_count": 6,
   "metadata": {},
   "outputs": [
    {
     "data": {
      "text/plain": [
       "10+ years    52915\n",
       "2 years      14620\n",
       "3 years      12974\n",
       "< 1 year     12805\n",
       "5 years      10814\n",
       "1 year       10422\n",
       "4 years       9784\n",
       "7 years       9308\n",
       "6 years       9094\n",
       "8 years       7917\n",
       "9 years       6285\n",
       "Name: Length_Employed, dtype: int64"
      ]
     },
     "execution_count": 6,
     "metadata": {},
     "output_type": "execute_result"
    }
   ],
   "source": [
    "train_data.Length_Employed.value_counts()"
   ]
  },
  {
   "cell_type": "code",
   "execution_count": 7,
   "metadata": {},
   "outputs": [
    {
     "data": {
      "text/plain": [
       "array(['< 1 year', '4 years', '7 years', '8 years', '2 years',\n",
       "       '10+ years', '1 year', nan, '6 years', '9 years', '3 years',\n",
       "       '5 years'], dtype=object)"
      ]
     },
     "execution_count": 7,
     "metadata": {},
     "output_type": "execute_result"
    }
   ],
   "source": [
    "train_data.Length_Employed.unique()"
   ]
  },
  {
   "cell_type": "code",
   "execution_count": 8,
   "metadata": {},
   "outputs": [],
   "source": [
    "test_data.Length_Employed.fillna(train_data.Length_Employed.mode()[0],inplace=True)\n",
    "train_data.Length_Employed.fillna(train_data.Length_Employed.mode()[0],inplace=True)"
   ]
  },
  {
   "cell_type": "code",
   "execution_count": 9,
   "metadata": {},
   "outputs": [
    {
     "data": {
      "text/plain": [
       "164309"
      ]
     },
     "execution_count": 9,
     "metadata": {},
     "output_type": "execute_result"
    }
   ],
   "source": [
    "len(train_data)"
   ]
  },
  {
   "cell_type": "code",
   "execution_count": 10,
   "metadata": {},
   "outputs": [
    {
     "data": {
      "text/plain": [
       "Loan_Amount_Requested          0\n",
       "Length_Employed                0\n",
       "Home_Owner                 25349\n",
       "Annual_Income              25102\n",
       "Income_Verified                0\n",
       "Purpose_Of_Loan                0\n",
       "Debt_To_Income                 0\n",
       "Inquiries_Last_6Mo             0\n",
       "Months_Since_Deliquency    88379\n",
       "Number_Open_Accounts           0\n",
       "Total_Accounts                 0\n",
       "Gender                         0\n",
       "Interest_Rate                  0\n",
       "dtype: int64"
      ]
     },
     "execution_count": 10,
     "metadata": {},
     "output_type": "execute_result"
    }
   ],
   "source": [
    "train_data.isna().sum()"
   ]
  },
  {
   "cell_type": "code",
   "execution_count": 11,
   "metadata": {},
   "outputs": [
    {
     "data": {
      "text/plain": [
       "53.788289138148244"
      ]
     },
     "execution_count": 11,
     "metadata": {},
     "output_type": "execute_result"
    }
   ],
   "source": [
    "88379*100/164309"
   ]
  },
  {
   "cell_type": "code",
   "execution_count": 12,
   "metadata": {},
   "outputs": [
    {
     "data": {
      "text/plain": [
       "15.42763938676518"
      ]
     },
     "execution_count": 12,
     "metadata": {},
     "output_type": "execute_result"
    }
   ],
   "source": [
    "25349*100/164309"
   ]
  },
  {
   "cell_type": "code",
   "execution_count": 13,
   "metadata": {},
   "outputs": [
    {
     "data": {
      "text/plain": [
       "Mortgage    70345\n",
       "Rent        56031\n",
       "Own         12525\n",
       "Other          49\n",
       "None           10\n",
       "Name: Home_Owner, dtype: int64"
      ]
     },
     "execution_count": 13,
     "metadata": {},
     "output_type": "execute_result"
    }
   ],
   "source": [
    "train_data.Home_Owner.value_counts()"
   ]
  },
  {
   "cell_type": "code",
   "execution_count": 14,
   "metadata": {},
   "outputs": [],
   "source": [
    "test_data.Home_Owner.fillna(train_data.Home_Owner.mode()[0],inplace=True)\n",
    "train_data.Home_Owner.fillna(train_data.Home_Owner.mode()[0],inplace=True)"
   ]
  },
  {
   "cell_type": "code",
   "execution_count": 15,
   "metadata": {},
   "outputs": [
    {
     "data": {
      "text/plain": [
       "<matplotlib.axes._subplots.AxesSubplot at 0x1d2dafdc5c0>"
      ]
     },
     "execution_count": 15,
     "metadata": {},
     "output_type": "execute_result"
    },
    {
     "data": {
      "image/png": "[encoded data removed]",
      "text/plain": [
       "<Figure size 432x288 with 1 Axes>"
      ]
     },
     "metadata": {
      "needs_background": "light"
     },
     "output_type": "display_data"
    }
   ],
   "source": [
    "train_data.Annual_Income.plot()"
   ]
  },
  {
   "cell_type": "code",
   "execution_count": 16,
   "metadata": {},
   "outputs": [
    {
     "data": {
      "text/plain": [
       "73331.15943386468"
      ]
     },
     "execution_count": 16,
     "metadata": {},
     "output_type": "execute_result"
    }
   ],
   "source": [
    "train_data.Annual_Income.mean()"
   ]
  },
  {
   "cell_type": "code",
   "execution_count": 17,
   "metadata": {},
   "outputs": [
    {
     "data": {
      "text/plain": [
       "63000.0"
      ]
     },
     "execution_count": 17,
     "metadata": {},
     "output_type": "execute_result"
    }
   ],
   "source": [
    "train_data.Annual_Income.median()"
   ]
  },
  {
   "cell_type": "code",
   "execution_count": 18,
   "metadata": {},
   "outputs": [],
   "source": [
    "test_data.Annual_Income.fillna(train_data.Annual_Income.median(),inplace=True)\n",
    "train_data.Annual_Income.fillna(train_data.Annual_Income.median(),inplace=True)"
   ]
  },
  {
   "cell_type": "code",
   "execution_count": 19,
   "metadata": {},
   "outputs": [
    {
     "data": {
      "text/plain": [
       "<matplotlib.axes._subplots.AxesSubplot at 0x1d2dc2dba90>"
      ]
     },
     "execution_count": 19,
     "metadata": {},
     "output_type": "execute_result"
    },
    {
     "data": {
      "image/png": "[encoded data removed]",
      "text/plain": [
       "<Figure size 1440x360 with 1 Axes>"
      ]
     },
     "metadata": {
      "needs_background": "light"
     },
     "output_type": "display_data"
    }
   ],
   "source": [
    "train_data.Months_Since_Deliquency.plot(figsize=(20,5))"
   ]
  },
  {
   "cell_type": "code",
   "execution_count": 20,
   "metadata": {},
   "outputs": [
    {
     "data": {
      "text/plain": [
       "34.22935598577637"
      ]
     },
     "execution_count": 20,
     "metadata": {},
     "output_type": "execute_result"
    }
   ],
   "source": [
    "train_data.Months_Since_Deliquency.mean()  "
   ]
  },
  {
   "cell_type": "code",
   "execution_count": 21,
   "metadata": {},
   "outputs": [
    {
     "data": {
      "text/plain": [
       "31.0"
      ]
     },
     "execution_count": 21,
     "metadata": {},
     "output_type": "execute_result"
    }
   ],
   "source": [
    "train_data.Months_Since_Deliquency.median()  "
   ]
  },
  {
   "cell_type": "code",
   "execution_count": 22,
   "metadata": {},
   "outputs": [],
   "source": [
    "test_data.Months_Since_Deliquency.fillna(train_data.Months_Since_Deliquency.mean(),inplace=True)\n",
    "train_data.Months_Since_Deliquency.fillna(train_data.Months_Since_Deliquency.mean(),inplace=True)"
   ]
  },
  {
   "cell_type": "code",
   "execution_count": 27,
   "metadata": {},
   "outputs": [
    {
     "data": {
      "text/plain": [
       "Loan_Amount_Requested      0\n",
       "Length_Employed            0\n",
       "Home_Owner                 0\n",
       "Annual_Income              0\n",
       "Income_Verified            0\n",
       "Purpose_Of_Loan            0\n",
       "Debt_To_Income             0\n",
       "Inquiries_Last_6Mo         0\n",
       "Months_Since_Deliquency    0\n",
       "Number_Open_Accounts       0\n",
       "Total_Accounts             0\n",
       "Gender                     0\n",
       "dtype: int64"
      ]
     },
     "execution_count": 27,
     "metadata": {},
     "output_type": "execute_result"
    }
   ],
   "source": [
    "test_data.isna().sum()"
   ]
  },
  {
   "cell_type": "code",
   "execution_count": 28,
   "metadata": {},
   "outputs": [],
   "source": [
    "import re\n",
    "train_data['Loan_Amount_Requested']=train_data.Loan_Amount_Requested.apply(lambda x:int(re.sub(r',','',x)))\n",
    "test_data['Loan_Amount_Requested']=test_data.Loan_Amount_Requested.apply(lambda x:int(re.sub(r',','',x)))"
   ]
  },
  {
   "cell_type": "code",
   "execution_count": 29,
   "metadata": {},
   "outputs": [],
   "source": [
    "numeric_columns = [col for col in train_data.columns if train_data[col].dtype in ['float','int64'] ]\n",
    "category_columns = [col for col in train_data.columns if train_data[col].dtype =='O' ]"
   ]
  },
  {
   "cell_type": "code",
   "execution_count": 30,
   "metadata": {},
   "outputs": [
    {
     "data": {
      "text/html": [
       "<div>\n",
       "<style scoped>\n",
       "    .dataframe tbody tr th:only-of-type {\n",
       "        vertical-align: middle;\n",
       "    }\n",
       "\n",
       "    .dataframe tbody tr th {\n",
       "        vertical-align: top;\n",
       "    }\n",
       "\n",
       "    .dataframe thead th {\n",
       "        text-align: right;\n",
       "    }\n",
       "</style>\n",
       "<table border=\"1\" class=\"dataframe\">\n",
       "  <thead>\n",
       "    <tr style=\"text-align: right;\">\n",
       "      <th></th>\n",
       "      <th>Loan_Amount_Requested</th>\n",
       "      <th>Annual_Income</th>\n",
       "      <th>Debt_To_Income</th>\n",
       "      <th>Inquiries_Last_6Mo</th>\n",
       "      <th>Months_Since_Deliquency</th>\n",
       "      <th>Number_Open_Accounts</th>\n",
       "      <th>Total_Accounts</th>\n",
       "      <th>Interest_Rate</th>\n",
       "    </tr>\n",
       "  </thead>\n",
       "  <tbody>\n",
       "    <tr>\n",
       "      <th>0</th>\n",
       "      <td>7000</td>\n",
       "      <td>68000.0</td>\n",
       "      <td>18.37</td>\n",
       "      <td>0</td>\n",
       "      <td>34.229356</td>\n",
       "      <td>9</td>\n",
       "      <td>14</td>\n",
       "      <td>1</td>\n",
       "    </tr>\n",
       "    <tr>\n",
       "      <th>1</th>\n",
       "      <td>30000</td>\n",
       "      <td>63000.0</td>\n",
       "      <td>14.93</td>\n",
       "      <td>0</td>\n",
       "      <td>17.000000</td>\n",
       "      <td>12</td>\n",
       "      <td>24</td>\n",
       "      <td>3</td>\n",
       "    </tr>\n",
       "    <tr>\n",
       "      <th>2</th>\n",
       "      <td>24725</td>\n",
       "      <td>75566.4</td>\n",
       "      <td>15.88</td>\n",
       "      <td>0</td>\n",
       "      <td>34.229356</td>\n",
       "      <td>12</td>\n",
       "      <td>16</td>\n",
       "      <td>3</td>\n",
       "    </tr>\n",
       "    <tr>\n",
       "      <th>3</th>\n",
       "      <td>16000</td>\n",
       "      <td>56160.0</td>\n",
       "      <td>14.34</td>\n",
       "      <td>3</td>\n",
       "      <td>34.229356</td>\n",
       "      <td>16</td>\n",
       "      <td>22</td>\n",
       "      <td>3</td>\n",
       "    </tr>\n",
       "    <tr>\n",
       "      <th>4</th>\n",
       "      <td>17000</td>\n",
       "      <td>96000.0</td>\n",
       "      <td>22.17</td>\n",
       "      <td>1</td>\n",
       "      <td>34.229356</td>\n",
       "      <td>19</td>\n",
       "      <td>30</td>\n",
       "      <td>1</td>\n",
       "    </tr>\n",
       "  </tbody>\n",
       "</table>\n",
       "</div>"
      ],
      "text/plain": [
       "   Loan_Amount_Requested  Annual_Income  Debt_To_Income  Inquiries_Last_6Mo  \\\n",
       "0                   7000        68000.0           18.37                   0   \n",
       "1                  30000        63000.0           14.93                   0   \n",
       "2                  24725        75566.4           15.88                   0   \n",
       "3                  16000        56160.0           14.34                   3   \n",
       "4                  17000        96000.0           22.17                   1   \n",
       "\n",
       "   Months_Since_Deliquency  Number_Open_Accounts  Total_Accounts  \\\n",
       "0                34.229356                     9              14   \n",
       "1                17.000000                    12              24   \n",
       "2                34.229356                    12              16   \n",
       "3                34.229356                    16              22   \n",
       "4                34.229356                    19              30   \n",
       "\n",
       "   Interest_Rate  \n",
       "0              1  \n",
       "1              3  \n",
       "2              3  \n",
       "3              3  \n",
       "4              1  "
      ]
     },
     "execution_count": 30,
     "metadata": {},
     "output_type": "execute_result"
    }
   ],
   "source": [
    "train_data[numeric_columns].head()"
   ]
  },
  {
   "cell_type": "code",
   "execution_count": 31,
   "metadata": {},
   "outputs": [
    {
     "data": {
      "text/plain": [
       "array([0, 3, 1, 2, 4, 5, 6, 7, 8], dtype=int64)"
      ]
     },
     "execution_count": 31,
     "metadata": {},
     "output_type": "execute_result"
    }
   ],
   "source": [
    "train_data.Inquiries_Last_6Mo.unique()"
   ]
  },
  {
   "cell_type": "code",
   "execution_count": 32,
   "metadata": {},
   "outputs": [
    {
     "data": {
      "text/html": [
       "<div>\n",
       "<style scoped>\n",
       "    .dataframe tbody tr th:only-of-type {\n",
       "        vertical-align: middle;\n",
       "    }\n",
       "\n",
       "    .dataframe tbody tr th {\n",
       "        vertical-align: top;\n",
       "    }\n",
       "\n",
       "    .dataframe thead th {\n",
       "        text-align: right;\n",
       "    }\n",
       "</style>\n",
       "<table border=\"1\" class=\"dataframe\">\n",
       "  <thead>\n",
       "    <tr style=\"text-align: right;\">\n",
       "      <th></th>\n",
       "      <th>Length_Employed</th>\n",
       "      <th>Home_Owner</th>\n",
       "      <th>Income_Verified</th>\n",
       "      <th>Purpose_Of_Loan</th>\n",
       "      <th>Gender</th>\n",
       "    </tr>\n",
       "  </thead>\n",
       "  <tbody>\n",
       "    <tr>\n",
       "      <th>0</th>\n",
       "      <td>&lt; 1 year</td>\n",
       "      <td>Rent</td>\n",
       "      <td>not verified</td>\n",
       "      <td>car</td>\n",
       "      <td>Female</td>\n",
       "    </tr>\n",
       "    <tr>\n",
       "      <th>1</th>\n",
       "      <td>4 years</td>\n",
       "      <td>Mortgage</td>\n",
       "      <td>VERIFIED - income</td>\n",
       "      <td>debt_consolidation</td>\n",
       "      <td>Female</td>\n",
       "    </tr>\n",
       "    <tr>\n",
       "      <th>2</th>\n",
       "      <td>7 years</td>\n",
       "      <td>Mortgage</td>\n",
       "      <td>VERIFIED - income source</td>\n",
       "      <td>debt_consolidation</td>\n",
       "      <td>Male</td>\n",
       "    </tr>\n",
       "    <tr>\n",
       "      <th>3</th>\n",
       "      <td>&lt; 1 year</td>\n",
       "      <td>Mortgage</td>\n",
       "      <td>VERIFIED - income source</td>\n",
       "      <td>debt_consolidation</td>\n",
       "      <td>Male</td>\n",
       "    </tr>\n",
       "    <tr>\n",
       "      <th>4</th>\n",
       "      <td>8 years</td>\n",
       "      <td>Own</td>\n",
       "      <td>VERIFIED - income source</td>\n",
       "      <td>debt_consolidation</td>\n",
       "      <td>Female</td>\n",
       "    </tr>\n",
       "  </tbody>\n",
       "</table>\n",
       "</div>"
      ],
      "text/plain": [
       "  Length_Employed Home_Owner           Income_Verified     Purpose_Of_Loan  \\\n",
       "0        < 1 year       Rent              not verified                 car   \n",
       "1         4 years   Mortgage         VERIFIED - income  debt_consolidation   \n",
       "2         7 years   Mortgage  VERIFIED - income source  debt_consolidation   \n",
       "3        < 1 year   Mortgage  VERIFIED - income source  debt_consolidation   \n",
       "4         8 years        Own  VERIFIED - income source  debt_consolidation   \n",
       "\n",
       "   Gender  \n",
       "0  Female  \n",
       "1  Female  \n",
       "2    Male  \n",
       "3    Male  \n",
       "4  Female  "
      ]
     },
     "execution_count": 32,
     "metadata": {},
     "output_type": "execute_result"
    }
   ],
   "source": [
    "train_data[category_columns].head()"
   ]
  },
  {
   "cell_type": "code",
   "execution_count": 33,
   "metadata": {},
   "outputs": [],
   "source": [
    "#test_data.Purpose_Of_Loan.value_counts()"
   ]
  },
  {
   "cell_type": "code",
   "execution_count": 34,
   "metadata": {},
   "outputs": [
    {
     "data": {
      "text/plain": [
       "array(['< 1 year', '4 years', '7 years', '8 years', '2 years',\n",
       "       '10+ years', '1 year', '6 years', '9 years', '3 years', '5 years'],\n",
       "      dtype=object)"
      ]
     },
     "execution_count": 34,
     "metadata": {},
     "output_type": "execute_result"
    }
   ],
   "source": [
    "train_data.Length_Employed.unique()"
   ]
  },
  {
   "cell_type": "code",
   "execution_count": null,
   "metadata": {},
   "outputs": [],
   "source": []
  },
  {
   "cell_type": "code",
   "execution_count": 35,
   "metadata": {},
   "outputs": [],
   "source": [
    "def Clean(text):\n",
    "    if text[0] == '<':\n",
    "        text = re.sub('\\D+','',text)\n",
    "        text = int(text)-1\n",
    "    else:\n",
    "        text = int(re.sub('\\D+','',text))\n",
    "    return text"
   ]
  },
  {
   "cell_type": "code",
   "execution_count": 36,
   "metadata": {},
   "outputs": [
    {
     "data": {
      "text/plain": [
       "array([ 0,  4,  7,  8,  2, 10,  1,  6,  9,  3,  5], dtype=int64)"
      ]
     },
     "execution_count": 36,
     "metadata": {},
     "output_type": "execute_result"
    }
   ],
   "source": [
    "train_data.Length_Employed =  train_data.Length_Employed.apply(lambda x:Clean(x))\n",
    "test_data.Length_Employed =  test_data.Length_Employed.apply(lambda x:Clean(x))\n",
    "train_data.Length_Employed.unique()"
   ]
  },
  {
   "cell_type": "code",
   "execution_count": null,
   "metadata": {},
   "outputs": [],
   "source": []
  },
  {
   "cell_type": "code",
   "execution_count": 37,
   "metadata": {},
   "outputs": [],
   "source": [
    "dummy_columns = ['Home_Owner','Income_Verified','Purpose_Of_Loan','Gender']"
   ]
  },
  {
   "cell_type": "code",
   "execution_count": 38,
   "metadata": {},
   "outputs": [],
   "source": [
    "train_dummi = pd.get_dummies(train_data,columns=dummy_columns,drop_first=True)\n",
    "test_dummi = pd.get_dummies(test_data,columns=dummy_columns,drop_first=True)"
   ]
  },
  {
   "cell_type": "code",
   "execution_count": 39,
   "metadata": {},
   "outputs": [
    {
     "data": {
      "text/plain": [
       "((164309, 29), (109541, 28))"
      ]
     },
     "execution_count": 39,
     "metadata": {},
     "output_type": "execute_result"
    }
   ],
   "source": [
    "train_dummi.shape,test_dummi.shape"
   ]
  },
  {
   "cell_type": "code",
   "execution_count": 40,
   "metadata": {},
   "outputs": [
    {
     "data": {
      "text/html": [
       "<div>\n",
       "<style scoped>\n",
       "    .dataframe tbody tr th:only-of-type {\n",
       "        vertical-align: middle;\n",
       "    }\n",
       "\n",
       "    .dataframe tbody tr th {\n",
       "        vertical-align: top;\n",
       "    }\n",
       "\n",
       "    .dataframe thead th {\n",
       "        text-align: right;\n",
       "    }\n",
       "</style>\n",
       "<table border=\"1\" class=\"dataframe\">\n",
       "  <thead>\n",
       "    <tr style=\"text-align: right;\">\n",
       "      <th></th>\n",
       "      <th>Loan_Amount_Requested</th>\n",
       "      <th>Length_Employed</th>\n",
       "      <th>Annual_Income</th>\n",
       "      <th>Debt_To_Income</th>\n",
       "      <th>Inquiries_Last_6Mo</th>\n",
       "      <th>Months_Since_Deliquency</th>\n",
       "      <th>Number_Open_Accounts</th>\n",
       "      <th>Total_Accounts</th>\n",
       "      <th>Interest_Rate</th>\n",
       "      <th>Home_Owner_None</th>\n",
       "      <th>...</th>\n",
       "      <th>Purpose_Of_Loan_house</th>\n",
       "      <th>Purpose_Of_Loan_major_purchase</th>\n",
       "      <th>Purpose_Of_Loan_medical</th>\n",
       "      <th>Purpose_Of_Loan_moving</th>\n",
       "      <th>Purpose_Of_Loan_other</th>\n",
       "      <th>Purpose_Of_Loan_renewable_energy</th>\n",
       "      <th>Purpose_Of_Loan_small_business</th>\n",
       "      <th>Purpose_Of_Loan_vacation</th>\n",
       "      <th>Purpose_Of_Loan_wedding</th>\n",
       "      <th>Gender_Male</th>\n",
       "    </tr>\n",
       "  </thead>\n",
       "  <tbody>\n",
       "    <tr>\n",
       "      <th>0</th>\n",
       "      <td>7000</td>\n",
       "      <td>0</td>\n",
       "      <td>68000.0</td>\n",
       "      <td>18.37</td>\n",
       "      <td>0</td>\n",
       "      <td>34.229356</td>\n",
       "      <td>9</td>\n",
       "      <td>14</td>\n",
       "      <td>1</td>\n",
       "      <td>0</td>\n",
       "      <td>...</td>\n",
       "      <td>0</td>\n",
       "      <td>0</td>\n",
       "      <td>0</td>\n",
       "      <td>0</td>\n",
       "      <td>0</td>\n",
       "      <td>0</td>\n",
       "      <td>0</td>\n",
       "      <td>0</td>\n",
       "      <td>0</td>\n",
       "      <td>0</td>\n",
       "    </tr>\n",
       "    <tr>\n",
       "      <th>1</th>\n",
       "      <td>30000</td>\n",
       "      <td>4</td>\n",
       "      <td>63000.0</td>\n",
       "      <td>14.93</td>\n",
       "      <td>0</td>\n",
       "      <td>17.000000</td>\n",
       "      <td>12</td>\n",
       "      <td>24</td>\n",
       "      <td>3</td>\n",
       "      <td>0</td>\n",
       "      <td>...</td>\n",
       "      <td>0</td>\n",
       "      <td>0</td>\n",
       "      <td>0</td>\n",
       "      <td>0</td>\n",
       "      <td>0</td>\n",
       "      <td>0</td>\n",
       "      <td>0</td>\n",
       "      <td>0</td>\n",
       "      <td>0</td>\n",
       "      <td>0</td>\n",
       "    </tr>\n",
       "    <tr>\n",
       "      <th>2</th>\n",
       "      <td>24725</td>\n",
       "      <td>7</td>\n",
       "      <td>75566.4</td>\n",
       "      <td>15.88</td>\n",
       "      <td>0</td>\n",
       "      <td>34.229356</td>\n",
       "      <td>12</td>\n",
       "      <td>16</td>\n",
       "      <td>3</td>\n",
       "      <td>0</td>\n",
       "      <td>...</td>\n",
       "      <td>0</td>\n",
       "      <td>0</td>\n",
       "      <td>0</td>\n",
       "      <td>0</td>\n",
       "      <td>0</td>\n",
       "      <td>0</td>\n",
       "      <td>0</td>\n",
       "      <td>0</td>\n",
       "      <td>0</td>\n",
       "      <td>1</td>\n",
       "    </tr>\n",
       "    <tr>\n",
       "      <th>3</th>\n",
       "      <td>16000</td>\n",
       "      <td>0</td>\n",
       "      <td>56160.0</td>\n",
       "      <td>14.34</td>\n",
       "      <td>3</td>\n",
       "      <td>34.229356</td>\n",
       "      <td>16</td>\n",
       "      <td>22</td>\n",
       "      <td>3</td>\n",
       "      <td>0</td>\n",
       "      <td>...</td>\n",
       "      <td>0</td>\n",
       "      <td>0</td>\n",
       "      <td>0</td>\n",
       "      <td>0</td>\n",
       "      <td>0</td>\n",
       "      <td>0</td>\n",
       "      <td>0</td>\n",
       "      <td>0</td>\n",
       "      <td>0</td>\n",
       "      <td>1</td>\n",
       "    </tr>\n",
       "    <tr>\n",
       "      <th>4</th>\n",
       "      <td>17000</td>\n",
       "      <td>8</td>\n",
       "      <td>96000.0</td>\n",
       "      <td>22.17</td>\n",
       "      <td>1</td>\n",
       "      <td>34.229356</td>\n",
       "      <td>19</td>\n",
       "      <td>30</td>\n",
       "      <td>1</td>\n",
       "      <td>0</td>\n",
       "      <td>...</td>\n",
       "      <td>0</td>\n",
       "      <td>0</td>\n",
       "      <td>0</td>\n",
       "      <td>0</td>\n",
       "      <td>0</td>\n",
       "      <td>0</td>\n",
       "      <td>0</td>\n",
       "      <td>0</td>\n",
       "      <td>0</td>\n",
       "      <td>0</td>\n",
       "    </tr>\n",
       "  </tbody>\n",
       "</table>\n",
       "<p>5 rows × 29 columns</p>\n",
       "</div>"
      ],
      "text/plain": [
       "   Loan_Amount_Requested  Length_Employed  Annual_Income  Debt_To_Income  \\\n",
       "0                   7000                0        68000.0           18.37   \n",
       "1                  30000                4        63000.0           14.93   \n",
       "2                  24725                7        75566.4           15.88   \n",
       "3                  16000                0        56160.0           14.34   \n",
       "4                  17000                8        96000.0           22.17   \n",
       "\n",
       "   Inquiries_Last_6Mo  Months_Since_Deliquency  Number_Open_Accounts  \\\n",
       "0                   0                34.229356                     9   \n",
       "1                   0                17.000000                    12   \n",
       "2                   0                34.229356                    12   \n",
       "3                   3                34.229356                    16   \n",
       "4                   1                34.229356                    19   \n",
       "\n",
       "   Total_Accounts  Interest_Rate  Home_Owner_None  ...  Purpose_Of_Loan_house  \\\n",
       "0              14              1                0  ...                      0   \n",
       "1              24              3                0  ...                      0   \n",
       "2              16              3                0  ...                      0   \n",
       "3              22              3                0  ...                      0   \n",
       "4              30              1                0  ...                      0   \n",
       "\n",
       "   Purpose_Of_Loan_major_purchase  Purpose_Of_Loan_medical  \\\n",
       "0                               0                        0   \n",
       "1                               0                        0   \n",
       "2                               0                        0   \n",
       "3                               0                        0   \n",
       "4                               0                        0   \n",
       "\n",
       "   Purpose_Of_Loan_moving  Purpose_Of_Loan_other  \\\n",
       "0                       0                      0   \n",
       "1                       0                      0   \n",
       "2                       0                      0   \n",
       "3                       0                      0   \n",
       "4                       0                      0   \n",
       "\n",
       "   Purpose_Of_Loan_renewable_energy  Purpose_Of_Loan_small_business  \\\n",
       "0                                 0                               0   \n",
       "1                                 0                               0   \n",
       "2                                 0                               0   \n",
       "3                                 0                               0   \n",
       "4                                 0                               0   \n",
       "\n",
       "   Purpose_Of_Loan_vacation  Purpose_Of_Loan_wedding  Gender_Male  \n",
       "0                         0                        0            0  \n",
       "1                         0                        0            0  \n",
       "2                         0                        0            1  \n",
       "3                         0                        0            1  \n",
       "4                         0                        0            0  \n",
       "\n",
       "[5 rows x 29 columns]"
      ]
     },
     "execution_count": 40,
     "metadata": {},
     "output_type": "execute_result"
    }
   ],
   "source": [
    "train_dummi.head()"
   ]
  },
  {
   "cell_type": "code",
   "execution_count": 41,
   "metadata": {},
   "outputs": [],
   "source": [
    "from sklearn.model_selection import train_test_split,cross_validate,RandomizedSearchCV,GridSearchCV,KFold\n",
    "from sklearn.tree import DecisionTreeClassifier\n",
    "from sklearn.ensemble import RandomForestClassifier,AdaBoostClassifier,GradientBoostingClassifier\n",
    "from sklearn.preprocessing import StandardScaler,MinMaxScaler\n",
    "from sklearn.linear_model import LogisticRegression,PassiveAggressiveClassifier,SGDClassifier,RidgeClassifier\n",
    "from sklearn.svm import SVC,LinearSVC,NuSVC\n",
    "from sklearn.metrics import accuracy_score,confusion_matrix,classification_report,f1_score"
   ]
  },
  {
   "cell_type": "code",
   "execution_count": 42,
   "metadata": {},
   "outputs": [],
   "source": [
    "X = train_dummi.drop('Interest_Rate',axis=1)\n",
    "y= train_dummi['Interest_Rate']\n",
    "\n",
    "X_train,X_test,y_train,y_test = train_test_split(X,y,test_size=0.25,stratify=y)"
   ]
  },
  {
   "cell_type": "code",
   "execution_count": 43,
   "metadata": {},
   "outputs": [
    {
     "name": "stdout",
     "output_type": "stream",
     "text": [
      "0.5162617459467355\n",
      "              precision    recall  f1-score   support\n",
      "\n",
      "           1       0.49      0.25      0.34      8452\n",
      "           2       0.49      0.61      0.54     17645\n",
      "           3       0.56      0.55      0.56     14981\n",
      "\n",
      "    accuracy                           0.52     41078\n",
      "   macro avg       0.51      0.47      0.48     41078\n",
      "weighted avg       0.52      0.52      0.51     41078\n",
      "\n"
     ]
    }
   ],
   "source": [
    "RFC_d = RandomForestClassifier()\n",
    "RFC_d.fit(X_train,y_train)\n",
    "pred_ref = RFC_d.predict(X_test)\n",
    "print(accuracy_score(y_test,pred_ref))\n",
    "print(classification_report(y_test,pred_ref))"
   ]
  },
  {
   "cell_type": "code",
   "execution_count": 44,
   "metadata": {},
   "outputs": [
    {
     "name": "stdout",
     "output_type": "stream",
     "text": [
      "0.5276060178197576\n",
      "              precision    recall  f1-score   support\n",
      "\n",
      "           1       0.54      0.22      0.32      8452\n",
      "           2       0.49      0.65      0.56     17645\n",
      "           3       0.58      0.55      0.57     14981\n",
      "\n",
      "    accuracy                           0.53     41078\n",
      "   macro avg       0.54      0.48      0.48     41078\n",
      "weighted avg       0.53      0.53      0.51     41078\n",
      "\n"
     ]
    }
   ],
   "source": [
    "adc_d = AdaBoostClassifier()\n",
    "adc_d.fit(X_train,y_train)\n",
    "pred_abc = adc_d.predict(X_test)\n",
    "print(accuracy_score(y_test,pred_abc))\n",
    "print(classification_report(y_test,pred_abc))"
   ]
  },
  {
   "cell_type": "code",
   "execution_count": 45,
   "metadata": {},
   "outputs": [
    {
     "data": {
      "text/plain": [
       "0.5129775608066761"
      ]
     },
     "execution_count": 45,
     "metadata": {},
     "output_type": "execute_result"
    }
   ],
   "source": [
    "f1_score(y_test,pred_abc,average='weighted')"
   ]
  },
  {
   "cell_type": "code",
   "execution_count": 46,
   "metadata": {},
   "outputs": [
    {
     "name": "stdout",
     "output_type": "stream",
     "text": [
      "0.5312089196163396\n",
      "              precision    recall  f1-score   support\n",
      "\n",
      "           1       0.56      0.19      0.29      8452\n",
      "           2       0.50      0.66      0.57     17645\n",
      "           3       0.58      0.57      0.58     14981\n",
      "\n",
      "    accuracy                           0.53     41078\n",
      "   macro avg       0.55      0.47      0.48     41078\n",
      "weighted avg       0.54      0.53      0.51     41078\n",
      "\n"
     ]
    }
   ],
   "source": [
    "GBC_d = GradientBoostingClassifier()\n",
    "GBC_d.fit(X_train,y_train)\n",
    "pred_gbc = GBC_d.predict(X_test)\n",
    "print(accuracy_score(y_test,pred_gbc))\n",
    "print(classification_report(y_test,pred_gbc))"
   ]
  },
  {
   "cell_type": "code",
   "execution_count": 47,
   "metadata": {},
   "outputs": [
    {
     "data": {
      "text/plain": [
       "0.5123290831301234"
      ]
     },
     "execution_count": 47,
     "metadata": {},
     "output_type": "execute_result"
    }
   ],
   "source": [
    "f1_score(y_test,pred_gbc,average='weighted')"
   ]
  },
  {
   "cell_type": "markdown",
   "metadata": {},
   "source": [
    "### scaling"
   ]
  },
  {
   "cell_type": "code",
   "execution_count": 48,
   "metadata": {},
   "outputs": [],
   "source": [
    "scale_std = StandardScaler()\n",
    "X_train_std = scale_std.fit_transform(X_train)\n",
    "X_test_std = scale_std.transform(X_test)"
   ]
  },
  {
   "cell_type": "code",
   "execution_count": 49,
   "metadata": {},
   "outputs": [
    {
     "name": "stdout",
     "output_type": "stream",
     "text": [
      "0.5054574115934642\n"
     ]
    }
   ],
   "source": [
    "RFC_std = RandomForestClassifier()\n",
    "RFC_std.fit(X_train_std,y_train)\n",
    "pred_rfcstd = RFC_std.predict(X_test_std)\n",
    "\n",
    "print(f1_score(y_test,pred_rfcstd,average='weighted'))"
   ]
  },
  {
   "cell_type": "code",
   "execution_count": 50,
   "metadata": {},
   "outputs": [
    {
     "name": "stdout",
     "output_type": "stream",
     "text": [
      "0.5129775608066761\n"
     ]
    }
   ],
   "source": [
    "ABC_std = AdaBoostClassifier()\n",
    "ABC_std.fit(X_train_std,y_train)\n",
    "pred_abcstd = ABC_std.predict(X_test_std)\n",
    "print(f1_score(y_test,pred_abcstd,average='weighted'))"
   ]
  },
  {
   "cell_type": "code",
   "execution_count": 51,
   "metadata": {},
   "outputs": [
    {
     "name": "stdout",
     "output_type": "stream",
     "text": [
      "0.5123290831301234\n"
     ]
    }
   ],
   "source": [
    "GBC_std = GradientBoostingClassifier()\n",
    "GBC_std.fit(X_train_std,y_train)\n",
    "pred_gbcstd = GBC_std.predict(X_test_std)\n",
    "print(f1_score(y_test,pred_gbcstd,average='weighted'))"
   ]
  },
  {
   "cell_type": "code",
   "execution_count": 69,
   "metadata": {},
   "outputs": [],
   "source": [
    "scale_min = MinMaxScaler()\n",
    "X_train_min = scale_min.fit_transform(X_train)\n",
    "X_test_min = scale_min.transform(X_test)"
   ]
  },
  {
   "cell_type": "code",
   "execution_count": 70,
   "metadata": {},
   "outputs": [
    {
     "name": "stdout",
     "output_type": "stream",
     "text": [
      "0.5026650317530283\n"
     ]
    }
   ],
   "source": [
    "RFC_min = RandomForestClassifier()\n",
    "RFC_min.fit(X_train_min,y_train)\n",
    "pred_rfcmin = RFC_min.predict(X_test_min)\n",
    "\n",
    "print(f1_score(y_test,pred_rfcmin,average='weighted'))"
   ]
  },
  {
   "cell_type": "code",
   "execution_count": 71,
   "metadata": {},
   "outputs": [
    {
     "name": "stdout",
     "output_type": "stream",
     "text": [
      "0.5129775608066761\n"
     ]
    }
   ],
   "source": [
    "ABC_min = AdaBoostClassifier()\n",
    "ABC_min.fit(X_train_min,y_train)\n",
    "pred_abcmin = ABC_min.predict(X_test_min)\n",
    "print(f1_score(y_test,pred_abcmin,average='weighted'))"
   ]
  },
  {
   "cell_type": "code",
   "execution_count": 72,
   "metadata": {},
   "outputs": [
    {
     "name": "stdout",
     "output_type": "stream",
     "text": [
      "0.512174910319509\n"
     ]
    }
   ],
   "source": [
    "GBC_min = GradientBoostingClassifier()\n",
    "GBC_min.fit(X_train_min,y_train)\n",
    "pred_gbcmin = GBC_min.predict(X_test_min)\n",
    "print(f1_score(y_test,pred_gbcmin,average='weighted'))"
   ]
  },
  {
   "cell_type": "code",
   "execution_count": 56,
   "metadata": {},
   "outputs": [],
   "source": [
    "from statistics import mode"
   ]
  },
  {
   "cell_type": "raw",
   "metadata": {},
   "source": [
    "pred_all = pd.DataFrame({'pred_gbcmin':pred_gbcmin,'pred_abcmin':pred_abcmin,'pred_gbcstd':pred_gbcstd,'pred_abcstd':pred_abcstd,\n",
    "                        'pred_gbc':pred_gbc,'pred_abc':pred_abc})\n",
    "\n",
    "pred_all_T = pred_all.T\n",
    "pred_all = pred_all_T.mode().T"
   ]
  },
  {
   "cell_type": "raw",
   "metadata": {},
   "source": [
    "pred_all_T = pred_all.T\n",
    "pred_all_T.head()"
   ]
  },
  {
   "cell_type": "raw",
   "metadata": {},
   "source": [
    "f1_score(y_test,pred_all[0],average='weighted')"
   ]
  },
  {
   "cell_type": "code",
   "execution_count": null,
   "metadata": {},
   "outputs": [],
   "source": []
  },
  {
   "cell_type": "raw",
   "metadata": {},
   "source": [
    "predictions = adc_d.predict(test_dummi)"
   ]
  },
  {
   "cell_type": "raw",
   "metadata": {},
   "source": [
    "dataframe = pd.DataFrame({'Loan_ID':ID,'Interest_Rate':predictions})\n",
    "dataframe.to_csv('abc_submission.csv',index=False)"
   ]
  },
  {
   "cell_type": "raw",
   "metadata": {},
   "source": [
    "p_adc_d = adc_d.predict(test_dummi)\n",
    "p_GBC_d = GBC_d.predict(test_dummi)\n",
    "\n",
    "test_min = scale_min.transform(test_dummi)\n",
    "test_std = scale_std.transform(test_dummi)\n",
    "\n",
    "p_ABC_min = ABC_min.predict(test_min)\n",
    "p_GBC_min = GBC_min.predict(test_min)\n",
    "\n",
    "p_adc_std = ABC_std.predict(test_std)\n",
    "p_GBC_std = GBC_std.predict(test_std)"
   ]
  },
  {
   "cell_type": "raw",
   "metadata": {},
   "source": [
    "pred_all = pd.DataFrame({'pred_gbcmin':p_adc_d,'pred_abcmin':p_GBC_d,'pred_gbcstd':p_ABC_min,'pred_abcstd':p_GBC_min,\n",
    "                        'pred_gbc':p_adc_std,'pred_abc':p_GBC_std})\n",
    "\n",
    "pred_all_T = pred_all.T\n",
    "pred_all = pred_all_T.mode().T"
   ]
  },
  {
   "cell_type": "raw",
   "metadata": {},
   "source": [
    "dataframe = pd.DataFrame({'Loan_ID':ID,'Interest_Rate':pred_all[0]})\n",
    "dataframe.to_csv('submission_ALL.csv',index=False)"
   ]
  },
  {
   "cell_type": "code",
   "execution_count": null,
   "metadata": {},
   "outputs": [],
   "source": []
  },
  {
   "cell_type": "code",
   "execution_count": 57,
   "metadata": {},
   "outputs": [],
   "source": [
    "import xgboost"
   ]
  },
  {
   "cell_type": "code",
   "execution_count": 58,
   "metadata": {},
   "outputs": [],
   "source": [
    "clf = xgboost.XGBClassifier()"
   ]
  },
  {
   "cell_type": "code",
   "execution_count": 59,
   "metadata": {},
   "outputs": [
    {
     "data": {
      "text/plain": [
       "XGBClassifier(base_score=0.5, booster='gbtree', colsample_bylevel=1,\n",
       "              colsample_bynode=1, colsample_bytree=1, gamma=0, gpu_id=-1,\n",
       "              importance_type='gain', interaction_constraints='',\n",
       "              learning_rate=0.300000012, max_delta_step=0, max_depth=6,\n",
       "              min_child_weight=1, missing=nan, monotone_constraints='()',\n",
       "              n_estimators=100, n_jobs=0, num_parallel_tree=1,\n",
       "              objective='multi:softprob', random_state=0, reg_alpha=0,\n",
       "              reg_lambda=1, scale_pos_weight=None, subsample=1,\n",
       "              tree_method='exact', validate_parameters=1, verbosity=None)"
      ]
     },
     "execution_count": 59,
     "metadata": {},
     "output_type": "execute_result"
    }
   ],
   "source": [
    "clf.fit(X_train,y_train)"
   ]
  },
  {
   "cell_type": "code",
   "execution_count": 60,
   "metadata": {},
   "outputs": [],
   "source": [
    "pred_xgd = clf.predict(X_test)"
   ]
  },
  {
   "cell_type": "code",
   "execution_count": 61,
   "metadata": {},
   "outputs": [
    {
     "data": {
      "text/plain": [
       "0.5310737867763076"
      ]
     },
     "execution_count": 61,
     "metadata": {},
     "output_type": "execute_result"
    }
   ],
   "source": [
    "f1_score(y_test,pred_xgd,average='weighted')"
   ]
  },
  {
   "cell_type": "code",
   "execution_count": 62,
   "metadata": {},
   "outputs": [],
   "source": [
    "pred_xg_td = clf.predict(test_dummi)"
   ]
  },
  {
   "cell_type": "code",
   "execution_count": 63,
   "metadata": {},
   "outputs": [],
   "source": [
    "dataframe = pd.DataFrame({'Loan_ID':ID,'Interest_Rate':pred_xg_td})\n",
    "dataframe.to_csv('submission_xgboost.csv',index=False)"
   ]
  },
  {
   "cell_type": "code",
   "execution_count": 64,
   "metadata": {},
   "outputs": [
    {
     "data": {
      "text/plain": [
       "XGBClassifier(base_score=0.5, booster='gbtree', colsample_bylevel=1,\n",
       "              colsample_bynode=1, colsample_bytree=1, gamma=0, gpu_id=-1,\n",
       "              importance_type='gain', interaction_constraints='',\n",
       "              learning_rate=0.300000012, max_delta_step=0, max_depth=6,\n",
       "              min_child_weight=1, missing=nan, monotone_constraints='()',\n",
       "              n_estimators=100, n_jobs=0, num_parallel_tree=1,\n",
       "              objective='multi:softprob', random_state=0, reg_alpha=0,\n",
       "              reg_lambda=1, scale_pos_weight=None, subsample=1,\n",
       "              tree_method='exact', validate_parameters=1, verbosity=None)"
      ]
     },
     "execution_count": 64,
     "metadata": {},
     "output_type": "execute_result"
    }
   ],
   "source": [
    "clf.fit(X_train_min,y_train)"
   ]
  },
  {
   "cell_type": "code",
   "execution_count": 65,
   "metadata": {},
   "outputs": [
    {
     "data": {
      "text/plain": [
       "0.5310503673399336"
      ]
     },
     "execution_count": 65,
     "metadata": {},
     "output_type": "execute_result"
    }
   ],
   "source": [
    "pred_xgmin = clf.predict(X_test_min)\n",
    "f1_score(y_test,pred_xgmin,average='weighted')"
   ]
  },
  {
   "cell_type": "code",
   "execution_count": 73,
   "metadata": {},
   "outputs": [],
   "source": [
    "test_min = scale_min.transform(test_dummi)\n",
    "pred_xg_min = clf.predict(test_min)"
   ]
  },
  {
   "cell_type": "code",
   "execution_count": 74,
   "metadata": {},
   "outputs": [
    {
     "data": {
      "text/plain": [
       "0.5310503673399336"
      ]
     },
     "execution_count": 74,
     "metadata": {},
     "output_type": "execute_result"
    }
   ],
   "source": [
    "clf.fit(X_train_std,y_train)\n",
    "pred_xgstd = clf.predict(X_test_std)\n",
    "f1_score(y_test,pred_xgstd,average='weighted')"
   ]
  },
  {
   "cell_type": "code",
   "execution_count": 76,
   "metadata": {},
   "outputs": [],
   "source": [
    "test_std = scale_std.transform(test_dummi)\n",
    "pred_xg_std = clf.predict(test_std)"
   ]
  },
  {
   "cell_type": "code",
   "execution_count": 78,
   "metadata": {},
   "outputs": [
    {
     "data": {
      "text/plain": [
       "{'fit_time': array([171.65858841, 181.73791575, 190.68083191, 191.03596544,\n",
       "        231.18242073, 188.51259995, 192.39516616, 208.31320286,\n",
       "        184.76007581, 202.15530252]),\n",
       " 'score_time': array([0.59984875, 0.55586529, 0.55586123, 0.57185793, 0.55586052,\n",
       "        0.51187277, 0.56067896, 0.5681088 , 0.54468703, 0.62663889]),\n",
       " 'test_score': array([0.54673807, 0.5328248 , 0.53801834, 0.54061511, 0.53858638,\n",
       "        0.53185101, 0.54524061, 0.5414266 , 0.54061511, 0.54564635])}"
      ]
     },
     "execution_count": 78,
     "metadata": {},
     "output_type": "execute_result"
    }
   ],
   "source": [
    "cross_validate(xgboost.XGBClassifier(),X=X_train_min,y=y_train,cv=10)"
   ]
  },
  {
   "cell_type": "code",
   "execution_count": 87,
   "metadata": {},
   "outputs": [],
   "source": []
  },
  {
   "cell_type": "code",
   "execution_count": 147,
   "metadata": {},
   "outputs": [],
   "source": [
    "kf  = KFold(n_splits=10)\n",
    "scores = []\n",
    "pred_test = []\n",
    "model = xgboost.XGBClassifier()\n",
    "for train_index ,test_index in kf.split(X):\n",
    "    #print('Train index:',train_index,'Cross_validation index:',test_index)\n",
    "    X_train_cv = X.iloc[train_index]\n",
    "    X_test_cv = X.iloc[test_index]\n",
    "    \n",
    "    y_train_cv = y.iloc[train_index]\n",
    "    y_test_cv = y.iloc[test_index]\n",
    "    \n",
    "    model.fit(X_train_cv,y_train_cv)\n",
    "    \n",
    "    pred = model.predict(X_test_cv)\n",
    "    \n",
    "    scores.append(f1_score(y_test_cv,pred,average='weighted'))\n",
    "    \n",
    "    test_predictions = model.predict(test_dummi)\n",
    "    pred_test.append(test_predictions)"
   ]
  },
  {
   "cell_type": "code",
   "execution_count": 150,
   "metadata": {},
   "outputs": [
    {
     "data": {
      "text/plain": [
       "7"
      ]
     },
     "execution_count": 150,
     "metadata": {},
     "output_type": "execute_result"
    }
   ],
   "source": [
    "scores.index(max(scores))"
   ]
  },
  {
   "cell_type": "code",
   "execution_count": 153,
   "metadata": {},
   "outputs": [
    {
     "data": {
      "text/plain": [
       "[0.5269554363085415,\n",
       " 0.53049683574206,\n",
       " 0.5331481470269394,\n",
       " 0.530116068032515,\n",
       " 0.5368064694846226,\n",
       " 0.5352250301511157,\n",
       " 0.5309300305773964,\n",
       " 0.539432882375764,\n",
       " 0.527984794163073,\n",
       " 0.5339846083519497]"
      ]
     },
     "execution_count": 153,
     "metadata": {},
     "output_type": "execute_result"
    }
   ],
   "source": [
    "scores"
   ]
  },
  {
   "cell_type": "code",
   "execution_count": 155,
   "metadata": {},
   "outputs": [],
   "source": [
    "from scipy.stats import mode\n",
    "pred1 = mode(pred_test,0)"
   ]
  },
  {
   "cell_type": "code",
   "execution_count": 145,
   "metadata": {},
   "outputs": [
    {
     "data": {
      "text/plain": [
       "109541"
      ]
     },
     "execution_count": 145,
     "metadata": {},
     "output_type": "execute_result"
    }
   ],
   "source": [
    "len(pred1.mode[0])"
   ]
  },
  {
   "cell_type": "code",
   "execution_count": 149,
   "metadata": {},
   "outputs": [
    {
     "data": {
      "text/plain": [
       "array([2, 2, 3, ..., 2, 3, 2], dtype=int64)"
      ]
     },
     "execution_count": 149,
     "metadata": {},
     "output_type": "execute_result"
    }
   ],
   "source": [
    "pred_test[4]"
   ]
  },
  {
   "cell_type": "code",
   "execution_count": null,
   "metadata": {},
   "outputs": [],
   "source": []
  },
  {
   "cell_type": "code",
   "execution_count": 156,
   "metadata": {},
   "outputs": [],
   "source": [
    "dataframe = pd.DataFrame({'Loan_ID':ID,'Interest_Rate':pred1.mode[0]})\n",
    "dataframe.to_csv('submission_cv10.csv',index=False)"
   ]
  },
  {
   "cell_type": "code",
   "execution_count": null,
   "metadata": {},
   "outputs": [],
   "source": []
  }
 ],
 "metadata": {
  "kernelspec": {
   "display_name": "Python 3",
   "language": "python",
   "name": "python3"
  },
  "language_info": {
   "codemirror_mode": {
    "name": "ipython",
    "version": 3
   },
   "file_extension": ".py",
   "mimetype": "text/x-python",
   "name": "python",
   "nbconvert_exporter": "python",
   "pygments_lexer": "ipython3",
   "version": "3.6.5"
  }
 },
 "nbformat": 4,
 "nbformat_minor": 4
}
