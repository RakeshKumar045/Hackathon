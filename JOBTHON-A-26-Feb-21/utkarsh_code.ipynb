{
 "cells": [
  {
   "cell_type": "code",
   "execution_count": 1,
   "metadata": {
    "ExecuteTime": {
     "end_time": "2021-02-27T16:35:56.860054Z",
     "start_time": "2021-02-27T16:35:55.230389Z"
    },
    "scrolled": true
   },
   "outputs": [],
   "source": [
    "# Get the libraries\n",
    "import os\n",
    "import pandas as pd\n",
    "from sklearn.linear_model import LogisticRegression\n",
    "import numpy as np\n",
    "import seaborn as sns\n",
    "import matplotlib.pyplot as plt\n",
    "%matplotlib inline\n",
    "from sklearn.preprocessing import LabelEncoder, MinMaxScaler\n",
    "from sklearn.metrics import roc_auc_score, accuracy_score\n",
    "from sklearn.model_selection import train_test_split, RandomizedSearchCV, StratifiedKFold, cross_val_score\n",
    "from sklearn.ensemble import RandomForestClassifier, GradientBoostingClassifier\n",
    "from sklearn.tree import DecisionTreeClassifier\n",
    "from xgboost import XGBClassifier\n",
    "from lightgbm import LGBMClassifier"
   ]
  },
  {
   "cell_type": "code",
   "execution_count": 2,
   "metadata": {
    "ExecuteTime": {
     "end_time": "2021-02-27T16:35:57.102041Z",
     "start_time": "2021-02-27T16:35:56.967368Z"
    }
   },
   "outputs": [],
   "source": [
    "train_data = pd.read_csv('train.csv')\n",
    "test_data = pd.read_csv('test.csv')"
   ]
  },
  {
   "cell_type": "code",
   "execution_count": 3,
   "metadata": {
    "ExecuteTime": {
     "end_time": "2021-02-27T16:35:57.693482Z",
     "start_time": "2021-02-27T16:35:57.659573Z"
    },
    "scrolled": true
   },
   "outputs": [
    {
     "name": "stdout",
     "output_type": "stream",
     "text": [
      "<class 'pandas.core.frame.DataFrame'>\n",
      "RangeIndex: 50882 entries, 0 to 50881\n",
      "Data columns (total 14 columns):\n",
      " #   Column                   Non-Null Count  Dtype  \n",
      "---  ------                   --------------  -----  \n",
      " 0   ID                       50882 non-null  int64  \n",
      " 1   City_Code                50882 non-null  object \n",
      " 2   Region_Code              50882 non-null  int64  \n",
      " 3   Accomodation_Type        50882 non-null  object \n",
      " 4   Reco_Insurance_Type      50882 non-null  object \n",
      " 5   Upper_Age                50882 non-null  int64  \n",
      " 6   Lower_Age                50882 non-null  int64  \n",
      " 7   Is_Spouse                50882 non-null  object \n",
      " 8   Health Indicator         39191 non-null  object \n",
      " 9   Holding_Policy_Duration  30631 non-null  object \n",
      " 10  Holding_Policy_Type      30631 non-null  float64\n",
      " 11  Reco_Policy_Cat          50882 non-null  int64  \n",
      " 12  Reco_Policy_Premium      50882 non-null  float64\n",
      " 13  Response                 50882 non-null  int64  \n",
      "dtypes: float64(2), int64(6), object(6)\n",
      "memory usage: 5.4+ MB\n"
     ]
    }
   ],
   "source": [
    "train_data.info()"
   ]
  },
  {
   "cell_type": "markdown",
   "metadata": {},
   "source": [
    "#### Let us Analyze the categorical data first"
   ]
  },
  {
   "cell_type": "code",
   "execution_count": 4,
   "metadata": {
    "ExecuteTime": {
     "end_time": "2021-02-27T16:35:58.240217Z",
     "start_time": "2021-02-27T16:35:58.235231Z"
    }
   },
   "outputs": [],
   "source": [
    "def tell_about_columns(df, col_names):\n",
    "    for data in col_names:\n",
    "        print(f\"Column name: {data} {'*'*5} Nunique: {df[data].nunique()}, Dtype: {df[data].dtype}, Null Count: {df[data].isna().sum()}\")\n",
    "        print(f\"Unique values with count are:\\n{df[data].value_counts()}\\n\")\n"
   ]
  },
  {
   "cell_type": "code",
   "execution_count": 5,
   "metadata": {
    "ExecuteTime": {
     "end_time": "2021-02-27T16:35:58.825822Z",
     "start_time": "2021-02-27T16:35:58.752084Z"
    }
   },
   "outputs": [
    {
     "name": "stdout",
     "output_type": "stream",
     "text": [
      "Column name: City_Code ***** Nunique: 36, Dtype: object, Null Count: 0\n",
      "Unique values with count are:\n",
      "C1     8973\n",
      "C2     7747\n",
      "C3     4889\n",
      "C4     3671\n",
      "C9     2185\n",
      "C6     1950\n",
      "C7     1910\n",
      "C8     1806\n",
      "C10    1611\n",
      "C5     1364\n",
      "C15    1186\n",
      "C17    1159\n",
      "C11    1147\n",
      "C16    1135\n",
      "C13    1005\n",
      "C20     926\n",
      "C19     899\n",
      "C12     868\n",
      "C18     797\n",
      "C14     746\n",
      "C21     679\n",
      "C23     587\n",
      "C24     553\n",
      "C22     516\n",
      "C26     499\n",
      "C29     387\n",
      "C25     366\n",
      "C27     295\n",
      "C33     286\n",
      "C28     285\n",
      "C32     160\n",
      "C34     130\n",
      "C30      58\n",
      "C35      56\n",
      "C36      36\n",
      "C31      15\n",
      "Name: City_Code, dtype: int64\n",
      "\n",
      "Column name: Accomodation_Type ***** Nunique: 2, Dtype: object, Null Count: 0\n",
      "Unique values with count are:\n",
      "Owned     27951\n",
      "Rented    22931\n",
      "Name: Accomodation_Type, dtype: int64\n",
      "\n",
      "Column name: Reco_Insurance_Type ***** Nunique: 2, Dtype: object, Null Count: 0\n",
      "Unique values with count are:\n",
      "Individual    40536\n",
      "Joint         10346\n",
      "Name: Reco_Insurance_Type, dtype: int64\n",
      "\n",
      "Column name: Is_Spouse ***** Nunique: 2, Dtype: object, Null Count: 0\n",
      "Unique values with count are:\n",
      "No     42460\n",
      "Yes     8422\n",
      "Name: Is_Spouse, dtype: int64\n",
      "\n",
      "Column name: Health Indicator ***** Nunique: 9, Dtype: object, Null Count: 11691\n",
      "Unique values with count are:\n",
      "X1    13010\n",
      "X2    10332\n",
      "X3     6762\n",
      "X4     5743\n",
      "X5     1727\n",
      "X6     1280\n",
      "X7      196\n",
      "X8       78\n",
      "X9       63\n",
      "Name: Health Indicator, dtype: int64\n",
      "\n",
      "Column name: Holding_Policy_Duration ***** Nunique: 15, Dtype: object, Null Count: 20251\n",
      "Unique values with count are:\n",
      "1.0     4499\n",
      "14+     4335\n",
      "2.0     4260\n",
      "3.0     3586\n",
      "4.0     2771\n",
      "5.0     2362\n",
      "6.0     1894\n",
      "7.0     1645\n",
      "8.0     1316\n",
      "9.0     1114\n",
      "10.0     813\n",
      "11.0     546\n",
      "12.0     513\n",
      "13.0     511\n",
      "14.0     466\n",
      "Name: Holding_Policy_Duration, dtype: int64\n",
      "\n"
     ]
    }
   ],
   "source": [
    "cat_cols = train_data.select_dtypes(include='object').columns.values\n",
    "tell_about_columns(train_data, cat_cols)"
   ]
  },
  {
   "cell_type": "code",
   "execution_count": 6,
   "metadata": {
    "ExecuteTime": {
     "end_time": "2021-02-27T16:35:59.373236Z",
     "start_time": "2021-02-27T16:35:59.368237Z"
    }
   },
   "outputs": [],
   "source": [
    "def check_null(dataframe, percentage=True):\n",
    "    if percentage==True:\n",
    "        return round(dataframe.isnull().mean()[dataframe.isnull().mean()>0].apply(lambda x: x*100),3)\n",
    "    else:\n",
    "        return dataframe.isnull().sum()[dataframe.isnull().sum()>0]\n",
    "    \n",
    "check_null(train_data, percentage=False)"
   ]
  },
  {
   "cell_type": "code",
   "execution_count": 9,
   "metadata": {
    "ExecuteTime": {
     "end_time": "2021-02-27T16:36:00.122093Z",
     "start_time": "2021-02-27T16:36:00.069234Z"
    },
    "scrolled": true
   },
   "outputs": [
    {
     "data": {
      "text/plain": [
       "Health Indicator           11691\n",
       "Holding_Policy_Duration    20251\n",
       "Holding_Policy_Type        20251\n",
       "dtype: int64"
      ]
     },
     "execution_count": 9,
     "metadata": {},
     "output_type": "execute_result"
    }
   ],
   "source": [
    "check_null(train_data, percentage=False)"
   ]
  },
  {
   "cell_type": "code",
   "execution_count": 8,
   "metadata": {
    "ExecuteTime": {
     "end_time": "2021-02-27T16:36:00.786430Z",
     "start_time": "2021-02-27T16:36:00.699658Z"
    }
   },
   "outputs": [],
   "source": [
    "train_data['Holding_Policy_Duration'] = pd.to_numeric(train_data['Holding_Policy_Duration'].str.replace(r\"[^\\d]\", \"\"))\n",
    "\n",
    "test_data['Holding_Policy_Duration'] = pd.to_numeric(test_data['Holding_Policy_Duration'].str.replace(r\"[^\\d]\", \"\"))"
   ]
  },
  {
   "cell_type": "code",
   "execution_count": 9,
   "metadata": {
    "ExecuteTime": {
     "end_time": "2021-02-27T16:36:01.390964Z",
     "start_time": "2021-02-27T16:36:01.376989Z"
    },
    "scrolled": true
   },
   "outputs": [
    {
     "data": {
      "text/plain": [
       "X1    13010\n",
       "X2    10332\n",
       "X3     6762\n",
       "X4     5743\n",
       "X5     1727\n",
       "X6     1280\n",
       "X7      196\n",
       "X8       78\n",
       "X9       63\n",
       "Name: Health Indicator, dtype: int64"
      ]
     },
     "execution_count": 9,
     "metadata": {},
     "output_type": "execute_result"
    }
   ],
   "source": [
    "train_data['Health Indicator'].value_counts()"
   ]
  },
  {
   "cell_type": "code",
   "execution_count": 10,
   "metadata": {
    "ExecuteTime": {
     "end_time": "2021-02-27T16:36:01.982273Z",
     "start_time": "2021-02-27T16:36:01.968477Z"
    }
   },
   "outputs": [],
   "source": [
    "# In approach 1 lets us drop the null values in this column\n",
    "train_data['Health Indicator'] = train_data['Health Indicator'].fillna('X0')\n",
    "test_data['Health Indicator'] = test_data['Health Indicator'].fillna('X0')"
   ]
  },
  {
   "cell_type": "code",
   "execution_count": 11,
   "metadata": {
    "ExecuteTime": {
     "end_time": "2021-02-27T16:36:02.878951Z",
     "start_time": "2021-02-27T16:36:02.848035Z"
    }
   },
   "outputs": [
    {
     "name": "stdout",
     "output_type": "stream",
     "text": [
      "set()\n"
     ]
    }
   ],
   "source": [
    "# Verify missing Holding_Policy_Type and Holding_Policy_Duration cols\n",
    "last_re_date_set = set(train_data[(train_data['Holding_Policy_Type'].isna())]['ID'])\n",
    "col_set = set(train_data[(train_data['Holding_Policy_Duration'].isna())]['ID'])\n",
    "print(last_re_date_set-col_set)"
   ]
  },
  {
   "cell_type": "code",
   "execution_count": 13,
   "metadata": {
    "ExecuteTime": {
     "end_time": "2021-02-27T16:42:12.042169Z",
     "start_time": "2021-02-27T16:42:12.033193Z"
    }
   },
   "outputs": [],
   "source": [
    "#awesome that means if policy type is not present then duration is also not present. so lets impute both with 0\n",
    "train_data[['Holding_Policy_Type','Holding_Policy_Duration']] = train_data[['Holding_Policy_Type','Holding_Policy_Duration']].fillna(0)"
   ]
  },
  {
   "cell_type": "code",
   "execution_count": 14,
   "metadata": {
    "ExecuteTime": {
     "end_time": "2021-02-27T16:42:12.740246Z",
     "start_time": "2021-02-27T16:42:12.731268Z"
    }
   },
   "outputs": [],
   "source": [
    "# From abov it is clear that we need to prepare the test data also\n",
    "test_data[['Holding_Policy_Type','Holding_Policy_Duration']] = test_data[['Holding_Policy_Type','Holding_Policy_Duration']].fillna(0)   "
   ]
  },
  {
   "cell_type": "code",
   "execution_count": 16,
   "metadata": {
    "ExecuteTime": {
     "end_time": "2021-02-27T16:42:54.462184Z",
     "start_time": "2021-02-27T16:42:54.339674Z"
    },
    "scrolled": true
   },
   "outputs": [
    {
     "data": {
      "text/plain": [
       "<AxesSubplot:>"
      ]
     },
     "execution_count": 16,
     "metadata": {},
     "output_type": "execute_result"
    },
    {
     "data": {
      "image/png": "[encoded data removed]",
      "text/plain": [
       "<Figure size 432x288 with 1 Axes>"
      ]
     },
     "metadata": {
      "needs_background": "light"
     },
     "output_type": "display_data"
    }
   ],
   "source": [
    "train_data['Response'].value_counts(normalize=True).plot(kind='bar')"
   ]
  },
  {
   "cell_type": "code",
   "execution_count": 17,
   "metadata": {
    "ExecuteTime": {
     "end_time": "2021-02-27T16:44:23.322452Z",
     "start_time": "2021-02-27T16:44:23.317493Z"
    }
   },
   "outputs": [
    {
     "data": {
      "text/plain": [
       "array(['City_Code', 'Accomodation_Type', 'Reco_Insurance_Type',\n",
       "       'Is_Spouse', 'Health Indicator', 'Holding_Policy_Duration'],\n",
       "      dtype=object)"
      ]
     },
     "execution_count": 17,
     "metadata": {},
     "output_type": "execute_result"
    }
   ],
   "source": [
    "# Now let us treat the categorical values, let us Label encode it in first approach.\n",
    "cat_cols"
   ]
  },
  {
   "cell_type": "code",
   "execution_count": 18,
   "metadata": {
    "ExecuteTime": {
     "end_time": "2021-02-27T17:02:18.724835Z",
     "start_time": "2021-02-27T17:02:18.710871Z"
    }
   },
   "outputs": [],
   "source": [
    "# object to label encoded\n",
    "label_encode_dict = {}\n",
    "for col in cat_cols:\n",
    "    enc = train_data[col].unique()\n",
    "    temp_di = {}\n",
    "    for idx, val in enumerate(np.sort(enc)):\n",
    "        temp_di[val] = idx\n",
    "    label_encode_dict[col] = temp_di"
   ]
  },
  {
   "cell_type": "code",
   "execution_count": 20,
   "metadata": {
    "ExecuteTime": {
     "end_time": "2021-02-27T17:05:20.489733Z",
     "start_time": "2021-02-27T17:05:20.485743Z"
    }
   },
   "outputs": [],
   "source": [
    "def convert_into_labels(df, cols_to_label):\n",
    "    for col in cols_to_label:\n",
    "        df[col] = df[col].map(label_encode_dict[col])\n",
    "    return df"
   ]
  },
  {
   "cell_type": "code",
   "execution_count": 22,
   "metadata": {
    "ExecuteTime": {
     "end_time": "2021-02-27T17:05:37.410099Z",
     "start_time": "2021-02-27T17:05:37.379183Z"
    }
   },
   "outputs": [],
   "source": [
    "train_data_le = convert_into_labels(train_data, cat_cols)"
   ]
  },
  {
   "cell_type": "code",
   "execution_count": 24,
   "metadata": {
    "ExecuteTime": {
     "end_time": "2021-02-27T17:06:56.899502Z",
     "start_time": "2021-02-27T17:06:56.875566Z"
    }
   },
   "outputs": [],
   "source": [
    "test_data_le = convert_into_labels(test_data, cat_cols)"
   ]
  },
  {
   "cell_type": "code",
   "execution_count": 25,
   "metadata": {
    "ExecuteTime": {
     "end_time": "2021-02-27T17:10:28.815133Z",
     "start_time": "2021-02-27T17:10:28.799196Z"
    }
   },
   "outputs": [],
   "source": [
    "X = train_data_le.drop(['ID','Response'], axis=1)\n",
    "Y = train_data_le['Response']"
   ]
  },
  {
   "cell_type": "code",
   "execution_count": 27,
   "metadata": {
    "ExecuteTime": {
     "end_time": "2021-02-27T17:11:24.842442Z",
     "start_time": "2021-02-27T17:11:24.823490Z"
    }
   },
   "outputs": [],
   "source": [
    "X_train, X_test, Y_train, Y_test = train_test_split(X,Y,test_size=0.2, random_state=10)"
   ]
  },
  {
   "cell_type": "code",
   "execution_count": 28,
   "metadata": {
    "ExecuteTime": {
     "end_time": "2021-02-27T17:11:56.290030Z",
     "start_time": "2021-02-27T17:11:56.285063Z"
    }
   },
   "outputs": [
    {
     "name": "stdout",
     "output_type": "stream",
     "text": [
      "(40705, 12)\n",
      "(10177, 12)\n",
      "(40705,)\n",
      "(10177,)\n"
     ]
    }
   ],
   "source": [
    "#Let us check the shape of train and test data after split.\n",
    "print(X_train.shape)\n",
    "print(X_test.shape)\n",
    "print(Y_train.shape)\n",
    "print(Y_test.shape)"
   ]
  },
  {
   "cell_type": "code",
   "execution_count": 29,
   "metadata": {
    "ExecuteTime": {
     "end_time": "2021-02-27T17:13:59.559526Z",
     "start_time": "2021-02-27T17:13:59.549588Z"
    }
   },
   "outputs": [],
   "source": [
    "def evaluate_the_model(y_true, y_pred, y_pred_prob):\n",
    "    accuracy_scr = accuracy_score(y_true, y_pred)\n",
    "    roc_auc = roc_auc_score(y_true, y_pred_prob[:, 1])\n",
    "    return accuracy_scr, roc_auc\n",
    "\n",
    "def get_models_data(models, X_train, Y_train, X_test, Y_test, get_train_score = False):\n",
    "    trained_model = {}\n",
    "    for model_name, model_code in models.items():\n",
    "        print(f\"Model code: {model_code}\")\n",
    "        model_code.fit(X_train, Y_train)\n",
    "        if get_train_score:\n",
    "            train_pred_lbl = model_code.predict(X_train)\n",
    "            train_pred_proba = model_code.predict_proba(X_train)\n",
    "            train_accuracy_scr, train_roc_auc = evaluate_the_model(Y_train, train_pred_lbl, train_pred_proba)\n",
    "            print(f\"Train Accuracy for the model is: {train_accuracy_scr:.2f}\")\n",
    "            print(f\"Train roc_auc_score for the model is: {train_accuracy_scr:.2f}\")\n",
    "            print(f\"{'-'*40}\")\n",
    "            \n",
    "        pred_lbl = model_code.predict(X_test)\n",
    "        pred_proba = model_code.predict_proba(X_test)\n",
    "        accuracy_scr, roc_auc = evaluate_the_model(Y_test, pred_lbl, pred_proba)\n",
    "        print(f\"Test Accuracy for the model is: {accuracy_scr:.2f}\")\n",
    "        print(f\"Test roc_auc_score for the model is: {roc_auc:.2f}\")\n",
    "        print(f\"{'*'*60}\")\n",
    "        trained_model[model_name] = model_code\n",
    "    return trained_model\n",
    "\n",
    "def do_parameters_search(model, param_dict, x_train, y_train, nt=100):\n",
    "    print(f\"Model passed: {model}\")\n",
    "    cv = StratifiedKFold(n_splits=5, random_state=1, shuffle=True)\n",
    "    random_search_obj = RandomizedSearchCV(estimator = model, param_distributions = param_dict, n_iter = nt, \\\n",
    "                                           cv = cv,verbose = 100,random_state = 10,scoring = 'roc_auc', \n",
    "                                           return_train_score = True, n_jobs = -1)\n",
    "    random_search_obj.fit(x_train,y_train)\n",
    "    print(f\"Mean_train_score is: {np.mean(random_search_obj.cv_results_['mean_train_score']):.3f}\")\n",
    "    print(f\"Mean_test_score is: {np.mean(random_search_obj.cv_results_['mean_test_score']):.3f}\")\n",
    "    print(f\"Best parameters are: {random_search_obj.best_params_}\")\n",
    "    return random_search_obj.best_params_\n",
    "\n",
    "def create_submission_file(model, test_data, file_name):\n",
    "    test_inp = test_data.drop('ID', axis=1)\n",
    "    ids = test_data['ID']\n",
    "    y_pred_final = model.predict(test_inp)\n",
    "    op_df = pd.DataFrame({\n",
    "        'ID': ids,\n",
    "        'Response': y_pred_final\n",
    "    })\n",
    "    file_name = f\"submission_files/{file_name}.csv\"\n",
    "    op_df.to_csv(file_name, index=False)\n",
    "    print(f\"{file_name} is created\")\n",
    "    "
   ]
  },
  {
   "cell_type": "code",
   "execution_count": 35,
   "metadata": {
    "ExecuteTime": {
     "end_time": "2021-02-27T17:25:43.493359Z",
     "start_time": "2021-02-27T17:25:43.489357Z"
    }
   },
   "outputs": [],
   "source": [
    "models = {\n",
    "\"logistic_regression\": LogisticRegression(max_iter=500),\n",
    "\"decision_tree_gini\": DecisionTreeClassifier(criterion=\"gini\"),\n",
    "\"decision_tree_entropy\": DecisionTreeClassifier(criterion=\"entropy\"),\n",
    "\"gradint_boost_mse\": GradientBoostingClassifier(),\n",
    "\"rf\": RandomForestClassifier(),\n",
    "\"xgboost\": XGBClassifier(objective= 'binary:logistic'),\n",
    "\"light_gbm\": LGBMClassifier(objective='binary', class_weight='balanced')\n",
    "}"
   ]
  },
  {
   "cell_type": "code",
   "execution_count": 36,
   "metadata": {
    "ExecuteTime": {
     "end_time": "2021-02-27T17:26:04.726173Z",
     "start_time": "2021-02-27T17:25:44.984729Z"
    },
    "scrolled": false
   },
   "outputs": [
    {
     "name": "stdout",
     "output_type": "stream",
     "text": [
      "Model code: LogisticRegression(max_iter=500)\n",
      "Train Accuracy for the model is: 0.76\n",
      "Train roc_auc_score for the model is: 0.76\n",
      "----------------------------------------\n",
      "Test Accuracy for the model is: 0.76\n",
      "Test roc_auc_score for the model is: 0.52\n",
      "************************************************************\n",
      "Model code: DecisionTreeClassifier()\n",
      "Train Accuracy for the model is: 1.00\n",
      "Train roc_auc_score for the model is: 1.00\n",
      "----------------------------------------\n",
      "Test Accuracy for the model is: 0.67\n",
      "Test roc_auc_score for the model is: 0.55\n",
      "************************************************************\n",
      "Model code: DecisionTreeClassifier(criterion='entropy')\n",
      "Train Accuracy for the model is: 1.00\n",
      "Train roc_auc_score for the model is: 1.00\n",
      "----------------------------------------\n",
      "Test Accuracy for the model is: 0.67\n",
      "Test roc_auc_score for the model is: 0.55\n",
      "************************************************************\n",
      "Model code: GradientBoostingClassifier()\n",
      "Train Accuracy for the model is: 0.76\n",
      "Train roc_auc_score for the model is: 0.76\n",
      "----------------------------------------\n",
      "Test Accuracy for the model is: 0.76\n",
      "Test roc_auc_score for the model is: 0.64\n",
      "************************************************************\n",
      "Model code: RandomForestClassifier()\n",
      "Train Accuracy for the model is: 1.00\n",
      "Train roc_auc_score for the model is: 1.00\n",
      "----------------------------------------\n",
      "Test Accuracy for the model is: 0.75\n",
      "Test roc_auc_score for the model is: 0.62\n",
      "************************************************************\n",
      "Model code: XGBClassifier(base_score=None, booster=None, colsample_bylevel=None,\n",
      "              colsample_bynode=None, colsample_bytree=None, gamma=None,\n",
      "              gpu_id=None, importance_type='gain', interaction_constraints=None,\n",
      "              learning_rate=None, max_delta_step=None, max_depth=None,\n",
      "              min_child_weight=None, missing=nan, monotone_constraints=None,\n",
      "              n_estimators=100, n_jobs=None, num_parallel_tree=None,\n",
      "              random_state=None, reg_alpha=None, reg_lambda=None,\n",
      "              scale_pos_weight=None, subsample=None, tree_method=None,\n",
      "              validate_parameters=None, verbosity=None)\n",
      "[22:56:02] WARNING: C:/Users/Administrator/workspace/xgboost-win64_release_1.3.0/src/learner.cc:1061: Starting in XGBoost 1.3.0, the default evaluation metric used with the objective 'binary:logistic' was changed from 'error' to 'logloss'. Explicitly set eval_metric if you'd like to restore the old behavior.\n"
     ]
    },
    {
     "name": "stderr",
     "output_type": "stream",
     "text": [
      "C:\\Users\\utkar\\anaconda3\\envs\\hack\\lib\\site-packages\\xgboost\\sklearn.py:888: UserWarning: The use of label encoder in XGBClassifier is deprecated and will be removed in a future release. To remove this warning, do the following: 1) Pass option use_label_encoder=False when constructing XGBClassifier object; and 2) Encode your labels (y) as integers starting with 0, i.e. 0, 1, 2, ..., [num_class - 1].\n",
      "  warnings.warn(label_encoder_deprecation_msg, UserWarning)\n"
     ]
    },
    {
     "name": "stdout",
     "output_type": "stream",
     "text": [
      "Train Accuracy for the model is: 0.80\n",
      "Train roc_auc_score for the model is: 0.80\n",
      "----------------------------------------\n",
      "Test Accuracy for the model is: 0.75\n",
      "Test roc_auc_score for the model is: 0.65\n",
      "************************************************************\n",
      "Model code: LGBMClassifier(class_weight='balanced', objective='binary')\n",
      "Train Accuracy for the model is: 0.63\n",
      "Train roc_auc_score for the model is: 0.63\n",
      "----------------------------------------\n",
      "Test Accuracy for the model is: 0.58\n",
      "Test roc_auc_score for the model is: 0.67\n",
      "************************************************************\n"
     ]
    }
   ],
   "source": [
    "trained_models = get_models_data(models, X_train, Y_train, X_test, Y_test, get_train_score=True)"
   ]
  },
  {
   "cell_type": "code",
   "execution_count": 37,
   "metadata": {
    "ExecuteTime": {
     "end_time": "2021-02-27T17:33:15.196995Z",
     "start_time": "2021-02-27T17:30:32.810301Z"
    }
   },
   "outputs": [
    {
     "name": "stdout",
     "output_type": "stream",
     "text": [
      "Model passed: RandomForestClassifier()\n",
      "Fitting 5 folds for each of 48 candidates, totalling 240 fits\n"
     ]
    },
    {
     "name": "stderr",
     "output_type": "stream",
     "text": [
      "C:\\Users\\utkar\\anaconda3\\envs\\hack\\lib\\site-packages\\sklearn\\model_selection\\_search.py:289: UserWarning: The total space of parameters 48 is smaller than n_iter=100. Running 48 iterations. For exhaustive searches, use GridSearchCV.\n",
      "  % (grid_size, self.n_iter, grid_size), UserWarning)\n"
     ]
    },
    {
     "name": "stdout",
     "output_type": "stream",
     "text": [
      "Mean_train_score is: 0.753\n",
      "Mean_test_score is: 0.615\n",
      "Best parameters are: {'n_estimators': 120, 'min_samples_split': 4, 'max_depth': 12}\n"
     ]
    }
   ],
   "source": [
    "# Set the grid\n",
    "rf_grid = {\n",
    "    'n_estimators': range(105,125,5),\n",
    "    'max_depth': range(6,14,2),\n",
    "    'min_samples_split': range(4,10,2)\n",
    "}\n",
    "\n",
    "# Get the optimal parameters.\n",
    "rf_tuned_params = do_parameters_search(trained_models['rf'], rf_grid, X_train, Y_train)\n",
    "\n",
    "# Tuned rf model\n",
    "tuned_rf_model = {\n",
    "\"rf\": RandomForestClassifier(**rf_tuned_params),\n",
    "}"
   ]
  },
  {
   "cell_type": "code",
   "execution_count": 40,
   "metadata": {
    "ExecuteTime": {
     "end_time": "2021-02-27T17:40:51.180837Z",
     "start_time": "2021-02-27T17:40:45.769723Z"
    },
    "scrolled": true
   },
   "outputs": [
    {
     "name": "stdout",
     "output_type": "stream",
     "text": [
      "Model code: RandomForestClassifier(max_depth=12, min_samples_split=4, n_estimators=120)\n",
      "Train Accuracy for the model is: 0.76\n",
      "Train roc_auc_score for the model is: 0.76\n",
      "----------------------------------------\n",
      "Test Accuracy for the model is: 0.76\n",
      "Test roc_auc_score for the model is: 0.63\n",
      "************************************************************\n"
     ]
    }
   ],
   "source": [
    "tuned_rf_model_op = get_models_data(tuned_rf_model, X_train, Y_train, X_test, Y_test, get_train_score=True)"
   ]
  },
  {
   "cell_type": "markdown",
   "metadata": {},
   "source": [
    "ml_model = LGBMClassifier(subsample= 0.9,\n",
    " reg_lambda= 2.5,\n",
    " reg_alpha= 1,\n",
    " random_state= 108,\n",
    " objective= 'multiclass',\n",
    " n_estimators= 4000,\n",
    " min_split_gain= 0.5,\n",
    " min_data_in_leaf= 20,\n",
    " metric= 'multi_logloss',\n",
    " max_depth= 8,\n",
    " learning_rate= 0.01,\n",
    " colsample_bytree= 1,\n",
    " boosting_type= 'gbdt')\n"
   ]
  },
  {
   "cell_type": "markdown",
   "metadata": {},
   "source": [
    "#### Create subbmission files below"
   ]
  },
  {
   "cell_type": "code",
   "execution_count": null,
   "metadata": {
    "ExecuteTime": {
     "end_time": "2021-02-27T09:08:10.039172Z",
     "start_time": "2021-02-27T09:08:08.469394Z"
    },
    "scrolled": false
   },
   "outputs": [],
   "source": [
    "create_submission_file(models['rf'], test_data_le, 'rf_model1')"
   ]
  },
  {
   "cell_type": "code",
   "execution_count": null,
   "metadata": {},
   "outputs": [],
   "source": [
    "create_submission_file(tuned_rf_model_op['rf'], test_data_le, 'lgm_base1')"
   ]
  }
 ],
 "metadata": {
  "kernelspec": {
   "display_name": "Python 3",
   "language": "python",
   "name": "python3"
  },
  "language_info": {
   "codemirror_mode": {
    "name": "ipython",
    "version": 3
   },
   "file_extension": ".py",
   "mimetype": "text/x-python",
   "name": "python",
   "nbconvert_exporter": "python",
   "pygments_lexer": "ipython3",
   "version": "3.7.9"
  },
  "varInspector": {
   "cols": {
    "lenName": 16,
    "lenType": 16,
    "lenVar": 40
   },
   "kernels_config": {
    "python": {
     "delete_cmd_postfix": "",
     "delete_cmd_prefix": "del ",
     "library": "var_list.py",
     "varRefreshCmd": "print(var_dic_list())"
    },
    "r": {
     "delete_cmd_postfix": ") ",
     "delete_cmd_prefix": "rm(",
     "library": "var_list.r",
     "varRefreshCmd": "cat(var_dic_list()) "
    }
   },
   "types_to_exclude": [
    "module",
    "function",
    "builtin_function_or_method",
    "instance",
    "_Feature"
   ],
   "window_display": false
  }
 },
 "nbformat": 4,
 "nbformat_minor": 4
}
